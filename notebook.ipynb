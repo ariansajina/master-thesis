{
 "cells": [
  {
   "cell_type": "markdown",
   "id": "spoken-bones",
   "metadata": {},
   "source": [
    "### todo\n",
    "- need to check that timestamp is monotonically increasing\n",
    "- derive speech duration from timestamp (after checking and correcting if need be)\n",
    "- fill missing timestamps by taking time between the next ones, then allocating to ones in between with missing based on word/character count\n",
    "- [x] check speakers (then maybe exclude \"Computer\")\n",
    "- [x] clean \"[inaudible]\", \"[crosstalk]\", \"[foreign language]\", also (*)\n",
    "- check for special character to see for other things that need to be potentially cleaned\n"
   ]
  },
  {
   "cell_type": "markdown",
   "id": "running-wright",
   "metadata": {},
   "source": [
    "# speech preprocessing\n",
    "\n",
    "- lowercase everything\n",
    "- tokenization (words, punctuation)\n",
    "- parts of speech (noun, verb etc.)\n",
    "- lemmatization (thought -> think)\n",
    "- remove stopwords (a, the, etc)\n",
    "- pointwise mutual information (euro group -> euro_group)"
   ]
  },
  {
   "cell_type": "code",
   "execution_count": 1,
   "id": "adaptive-flooring",
   "metadata": {},
   "outputs": [],
   "source": [
    "import re\n",
    "\n",
    "import numpy as np\n",
    "import pandas as pd"
   ]
  },
  {
   "cell_type": "code",
   "execution_count": 2,
   "id": "unexpected-intervention",
   "metadata": {},
   "outputs": [],
   "source": [
    "#import nltk\n",
    "#nltk.download('stopwords')"
   ]
  },
  {
   "cell_type": "code",
   "execution_count": 3,
   "id": "thrown-glossary",
   "metadata": {
    "scrolled": true
   },
   "outputs": [
    {
     "data": {
      "text/html": [
       "<div>\n",
       "<style scoped>\n",
       "    .dataframe tbody tr th:only-of-type {\n",
       "        vertical-align: middle;\n",
       "    }\n",
       "\n",
       "    .dataframe tbody tr th {\n",
       "        vertical-align: top;\n",
       "    }\n",
       "\n",
       "    .dataframe thead th {\n",
       "        text-align: right;\n",
       "    }\n",
       "</style>\n",
       "<table border=\"1\" class=\"dataframe\">\n",
       "  <thead>\n",
       "    <tr style=\"text-align: right;\">\n",
       "      <th></th>\n",
       "      <th>speaker</th>\n",
       "      <th>speech</th>\n",
       "      <th>timestamp</th>\n",
       "      <th>date</th>\n",
       "    </tr>\n",
       "  </thead>\n",
       "  <tbody>\n",
       "    <tr>\n",
       "      <th>0</th>\n",
       "      <td>Jeroen Dijsselbloem</td>\n",
       "      <td>… of your responses or questions. And can I fi...</td>\n",
       "      <td>1900-01-01 00:00:00</td>\n",
       "      <td>2015-02-24 00:00:00</td>\n",
       "    </tr>\n",
       "    <tr>\n",
       "      <th>1</th>\n",
       "      <td>Speaker 2</td>\n",
       "      <td>Uh, yes, uh, thank you, Jeroen. Well, uh, comm...</td>\n",
       "      <td>1900-01-01 00:00:10</td>\n",
       "      <td>2015-02-24 00:00:00</td>\n",
       "    </tr>\n",
       "    <tr>\n",
       "      <th>2</th>\n",
       "      <td>Michael Noonan</td>\n",
       "      <td>Michael Noonan.</td>\n",
       "      <td>1900-01-01 00:01:27</td>\n",
       "      <td>2015-02-24 00:00:00</td>\n",
       "    </tr>\n",
       "    <tr>\n",
       "      <th>3</th>\n",
       "      <td>Speaker 2</td>\n",
       "      <td>Uh, it is therefore regrettable that, uh-</td>\n",
       "      <td>1900-01-01 00:01:29</td>\n",
       "      <td>2015-02-24 00:00:00</td>\n",
       "    </tr>\n",
       "    <tr>\n",
       "      <th>4</th>\n",
       "      <td>Speaker 3</td>\n",
       "      <td>Has entered the conference.</td>\n",
       "      <td>1900-01-01 00:01:33</td>\n",
       "      <td>2015-02-24 00:00:00</td>\n",
       "    </tr>\n",
       "  </tbody>\n",
       "</table>\n",
       "</div>"
      ],
      "text/plain": [
       "               speaker                                             speech  \\\n",
       "0  Jeroen Dijsselbloem  … of your responses or questions. And can I fi...   \n",
       "1            Speaker 2  Uh, yes, uh, thank you, Jeroen. Well, uh, comm...   \n",
       "2       Michael Noonan                                    Michael Noonan.   \n",
       "3            Speaker 2          Uh, it is therefore regrettable that, uh-   \n",
       "4            Speaker 3                        Has entered the conference.   \n",
       "\n",
       "             timestamp                 date  \n",
       "0  1900-01-01 00:00:00  2015-02-24 00:00:00  \n",
       "1  1900-01-01 00:00:10  2015-02-24 00:00:00  \n",
       "2  1900-01-01 00:01:27  2015-02-24 00:00:00  \n",
       "3  1900-01-01 00:01:29  2015-02-24 00:00:00  \n",
       "4  1900-01-01 00:01:33  2015-02-24 00:00:00  "
      ]
     },
     "execution_count": 3,
     "metadata": {},
     "output_type": "execute_result"
    }
   ],
   "source": [
    "df = pd.read_csv('data/euroleaks/prepared.csv')\n",
    "df.head()"
   ]
  },
  {
   "cell_type": "markdown",
   "id": "respected-enemy",
   "metadata": {},
   "source": [
    "## preliminary cleaning\n",
    "- make all speech lowercase\n",
    "- remove \"Has entered the conference.\"\n",
    "- remove speaker computer"
   ]
  },
  {
   "cell_type": "code",
   "execution_count": null,
   "id": "fossil-vegetarian",
   "metadata": {},
   "outputs": [],
   "source": [
    "# lowercase speech\n",
    "df.speech = df.speech.apply(lambda s: s.lower())"
   ]
  },
  {
   "cell_type": "code",
   "execution_count": 4,
   "id": "wicked-activation",
   "metadata": {},
   "outputs": [],
   "source": [
    "# clean speaker\n",
    "\n",
    "# strip and make lowercase\n",
    "df.speaker = df.speaker.apply(lambda s: s.strip().lower() if not pd.isnull(s) else s)\n",
    "\n",
    "# handle missing (only one)\n",
    "df.speaker.loc[df.speaker.isnull()] = 'jeroen dijsselbloem'\n",
    "\n",
    "# drop transcription artifact speaker\n",
    "df = df[df.speaker != 'group']\n",
    "df = df[df.speaker != 'inaudible']\n",
    "\n",
    "# drop comuter generated speech\n",
    "df = df[df.speech != 'Has entered the conference.']\n",
    "\n",
    "# make names unique\n",
    "amend_names = {\n",
    "    'wolfgang schäuble': [\n",
    "        'wolfgang schäuble',\n",
    "        'wolfgang schauble',\n",
    "        'wolfgang'\n",
    "    ],\n",
    "    'peter kažimír': [\n",
    "        'peter kažimír',\n",
    "        'peter kazimir'\n",
    "    ],\n",
    "    'michel sapin': [\n",
    "        'michel sapin',\n",
    "        'michel'\n",
    "    ],\n",
    "    'maria luís albuquerque': [\n",
    "        'maria luís albuquerque',\n",
    "        'maria luís',\n",
    "        'maria luis albuquerque'\n",
    "    ],\n",
    "    'johan van overtveldt': [\n",
    "        'johan van overtveldt',\n",
    "        'johan'\n",
    "    ],\n",
    "    'benoît cœuré': [\n",
    "        'benoît cœuré',\n",
    "        'benoit couré',\n",
    "        'benoit cœuré'\n",
    "    ],\n",
    "    'hans jörg schelling': [\n",
    "        'hans jörg schelling',\n",
    "        'hans'\n",
    "    ],\n",
    "    'poul mathias thomsen': [\n",
    "        'paul thomsen',\n",
    "        'paul',\n",
    "        'poul thomsen'\n",
    "    ],\n",
    "    'yanis varoufakis': [\n",
    "        'yanis varoufakis',\n",
    "        'yanis varoufakis [privately]'\n",
    "    ],\n",
    "    'luis de guindos': [\n",
    "        'luis de guindos',\n",
    "        'luis'\n",
    "    ],\n",
    "    'irina': [\n",
    "        'irina',\n",
    "        'irana'\n",
    "    ],\n",
    "    'jānis reirs': [\n",
    "        'yanis [not varoufakis]'\n",
    "    ],\n",
    "    'luca antonio ricci': [\n",
    "        'ricci'\n",
    "    ],\n",
    "    'thomas steffen': [\n",
    "        'thomas'\n",
    "    ]\n",
    "}\n",
    "\n",
    "# invert dict\n",
    "amend_names_inv = {value: key for key,values in amend_names.items() for value in values}\n",
    "\n",
    "# amend speaker names\n",
    "df.speaker = df.speaker.apply(lambda s: amend_names_inv[s] if s in amend_names_inv.keys() else s)"
   ]
  },
  {
   "cell_type": "code",
   "execution_count": 5,
   "id": "spiritual-martial",
   "metadata": {},
   "outputs": [
    {
     "data": {
      "text/html": [
       "<div>\n",
       "<style scoped>\n",
       "    .dataframe tbody tr th:only-of-type {\n",
       "        vertical-align: middle;\n",
       "    }\n",
       "\n",
       "    .dataframe tbody tr th {\n",
       "        vertical-align: top;\n",
       "    }\n",
       "\n",
       "    .dataframe thead th {\n",
       "        text-align: right;\n",
       "    }\n",
       "</style>\n",
       "<table border=\"1\" class=\"dataframe\">\n",
       "  <thead>\n",
       "    <tr style=\"text-align: right;\">\n",
       "      <th></th>\n",
       "      <th>speaker</th>\n",
       "      <th>speech</th>\n",
       "      <th>timestamp</th>\n",
       "      <th>date</th>\n",
       "    </tr>\n",
       "  </thead>\n",
       "  <tbody>\n",
       "    <tr>\n",
       "      <th>0</th>\n",
       "      <td>jeroen dijsselbloem</td>\n",
       "      <td>… of your responses or questions. And can I fi...</td>\n",
       "      <td>1900-01-01 00:00:00</td>\n",
       "      <td>2015-02-24 00:00:00</td>\n",
       "    </tr>\n",
       "    <tr>\n",
       "      <th>1</th>\n",
       "      <td>speaker 2</td>\n",
       "      <td>Uh, yes, uh, thank you, Jeroen. Well, uh, comm...</td>\n",
       "      <td>1900-01-01 00:00:10</td>\n",
       "      <td>2015-02-24 00:00:00</td>\n",
       "    </tr>\n",
       "    <tr>\n",
       "      <th>2</th>\n",
       "      <td>michael noonan</td>\n",
       "      <td>Michael Noonan.</td>\n",
       "      <td>1900-01-01 00:01:27</td>\n",
       "      <td>2015-02-24 00:00:00</td>\n",
       "    </tr>\n",
       "    <tr>\n",
       "      <th>3</th>\n",
       "      <td>speaker 2</td>\n",
       "      <td>Uh, it is therefore regrettable that, uh-</td>\n",
       "      <td>1900-01-01 00:01:29</td>\n",
       "      <td>2015-02-24 00:00:00</td>\n",
       "    </tr>\n",
       "    <tr>\n",
       "      <th>5</th>\n",
       "      <td>speaker 2</td>\n",
       "      <td>… that the letter by the Minister does not, uh...</td>\n",
       "      <td>1900-01-01 00:01:37</td>\n",
       "      <td>2015-02-24 00:00:00</td>\n",
       "    </tr>\n",
       "  </tbody>\n",
       "</table>\n",
       "</div>"
      ],
      "text/plain": [
       "               speaker                                             speech  \\\n",
       "0  jeroen dijsselbloem  … of your responses or questions. And can I fi...   \n",
       "1            speaker 2  Uh, yes, uh, thank you, Jeroen. Well, uh, comm...   \n",
       "2       michael noonan                                    Michael Noonan.   \n",
       "3            speaker 2          Uh, it is therefore regrettable that, uh-   \n",
       "5            speaker 2  … that the letter by the Minister does not, uh...   \n",
       "\n",
       "             timestamp                 date  \n",
       "0  1900-01-01 00:00:00  2015-02-24 00:00:00  \n",
       "1  1900-01-01 00:00:10  2015-02-24 00:00:00  \n",
       "2  1900-01-01 00:01:27  2015-02-24 00:00:00  \n",
       "3  1900-01-01 00:01:29  2015-02-24 00:00:00  \n",
       "5  1900-01-01 00:01:37  2015-02-24 00:00:00  "
      ]
     },
     "execution_count": 5,
     "metadata": {},
     "output_type": "execute_result"
    }
   ],
   "source": [
    "df.head()"
   ]
  },
  {
   "cell_type": "markdown",
   "id": "growing-salvation",
   "metadata": {},
   "source": [
    "## regex: remove paranthesis and brackets\n",
    "Numbers can be better filtered out using POS (parts of speech)."
   ]
  },
  {
   "cell_type": "code",
   "execution_count": 6,
   "id": "spiritual-thailand",
   "metadata": {},
   "outputs": [
    {
     "data": {
      "text/plain": [
       "array(['[French]', '[Inaudible]', '[]', '[affirmative]', '[bang]',\n",
       "       '[bonds]', '[crosstalk]', '[in]', '[inaudible]', '[laughs]',\n",
       "       '[laughter]', '[measures]', '[silence]'], dtype='<U13')"
      ]
     },
     "execution_count": 6,
     "metadata": {},
     "output_type": "execute_result"
    }
   ],
   "source": [
    "brackets = []\n",
    "\n",
    "for s in df.speech:\n",
    "    pattern = re.compile('\\[\\w*\\]')\n",
    "    found = pattern.search(s)\n",
    "    if found:\n",
    "        brackets.append(found.group())\n",
    "\n",
    "np.unique(brackets)"
   ]
  },
  {
   "cell_type": "code",
   "execution_count": 7,
   "id": "chemical-problem",
   "metadata": {},
   "outputs": [
    {
     "data": {
      "text/plain": [
       "array(['(06:45)', '(07:36)', '(08:14)', '(09:08)', '(13:07)', '(21:35)',\n",
       "       '(22:25)', '(22:58)', '(29:07)', '(30:57)', '(35:39)',\n",
       "       '(Crosstalk)', '(affirmative)', '(crosstalk)',\n",
       "       '(foreign [language)', '(inaudible greetings)', '(inaudible)',\n",
       "       '(inaudible) and also the [bonds] recapitalization requirements for the new program, so when you combine the two facts {inaudible] this results (crosstalk 12:26)',\n",
       "       '(laughing)', '(laughs)', '(nse)', '(silence)'], dtype='<U160')"
      ]
     },
     "execution_count": 7,
     "metadata": {},
     "output_type": "execute_result"
    }
   ],
   "source": [
    "paranthesis = []\n",
    "\n",
    "for s in df.speech:\n",
    "    pattern = re.compile('\\(.*\\)')\n",
    "    found = pattern.search(s)\n",
    "    if found:\n",
    "        paranthesis.append(found.group())\n",
    "\n",
    "np.unique(paranthesis)"
   ]
  },
  {
   "cell_type": "code",
   "execution_count": 8,
   "id": "recognized-tyler",
   "metadata": {},
   "outputs": [],
   "source": [
    "import re\n",
    "\n",
    "def remove_brackets(sentence):\n",
    "    brackets_ = re.compile('\\[.*\\]')\n",
    "    return re.sub(brackets_, '', sentence)\n",
    "\n",
    "def remove_paranthesis(sentence):\n",
    "    paranthesis_ = re.compile('\\(.*\\)')\n",
    "    return re.sub(paranthesis_, '', sentence)"
   ]
  },
  {
   "cell_type": "code",
   "execution_count": 9,
   "id": "complimentary-westminster",
   "metadata": {},
   "outputs": [],
   "source": [
    "df.speech = df.speech.apply(lambda s: remove_brackets(remove_paranthesis(s)))"
   ]
  },
  {
   "cell_type": "markdown",
   "id": "naked-project",
   "metadata": {},
   "source": [
    "## the \"aide memoire\" case\n",
    "This term proved to be important while investigating bigram collocations.\n",
    "\n",
    "https://en.wikipedia.org/wiki/Aide-m%C3%A9moire"
   ]
  },
  {
   "cell_type": "code",
   "execution_count": 12,
   "id": "processed-gibraltar",
   "metadata": {},
   "outputs": [],
   "source": [
    "def aide_memoire(s):\n",
    "    \"\"\"Replaces all of:\n",
    "        'aid memoire'\n",
    "        'aide memoir'\n",
    "        'aide memoire'\n",
    "        'aide -memoire'\n",
    "        'aide-memoir'\n",
    "        'aide-memoire'\n",
    "    with 'aide memoire'.\n",
    "    \"\"\"\n",
    "    pattern = re.compile('(aide{0,1} {0,1}( |-)memoire{0,1})')\n",
    "    return re.sub(pattern, 'aide memoire', s)"
   ]
  },
  {
   "cell_type": "code",
   "execution_count": 13,
   "id": "above-thomas",
   "metadata": {},
   "outputs": [],
   "source": [
    "df.speech = df.speech.apply(lambda s: aide_memoire(s))"
   ]
  },
  {
   "cell_type": "markdown",
   "id": "premium-domestic",
   "metadata": {},
   "source": [
    "## combine all speech to a single document"
   ]
  },
  {
   "cell_type": "code",
   "execution_count": 14,
   "id": "assured-humor",
   "metadata": {},
   "outputs": [],
   "source": [
    "# lower-case everything, combine to single string\n",
    "raw_doc = ' '.join(df.speech.apply(lambda s: s.lower()))"
   ]
  },
  {
   "cell_type": "code",
   "execution_count": 15,
   "id": "affecting-mixer",
   "metadata": {},
   "outputs": [
    {
     "data": {
      "text/plain": [
       "503686"
      ]
     },
     "execution_count": 15,
     "metadata": {},
     "output_type": "execute_result"
    }
   ],
   "source": [
    "len(raw_doc)"
   ]
  },
  {
   "cell_type": "markdown",
   "id": "inside-dress",
   "metadata": {},
   "source": [
    "## tokenization\n",
    "- https://spacy.io/models"
   ]
  },
  {
   "cell_type": "code",
   "execution_count": 16,
   "id": "fitted-fellow",
   "metadata": {},
   "outputs": [],
   "source": [
    "import spacy\n",
    "nlp = spacy.load(\"en_core_web_sm\")"
   ]
  },
  {
   "cell_type": "code",
   "execution_count": 17,
   "id": "contemporary-bonus",
   "metadata": {},
   "outputs": [],
   "source": [
    "doc = nlp(raw_doc) # takes a few minutes"
   ]
  },
  {
   "cell_type": "code",
   "execution_count": 18,
   "id": "married-reason",
   "metadata": {},
   "outputs": [],
   "source": [
    "tokens = [[ token.text for token in sentence] for sentence in doc.sents]"
   ]
  },
  {
   "cell_type": "code",
   "execution_count": 19,
   "id": "advanced-opposition",
   "metadata": {},
   "outputs": [],
   "source": [
    "#tokens[:5]"
   ]
  },
  {
   "cell_type": "code",
   "execution_count": 20,
   "id": "cultural-influence",
   "metadata": {},
   "outputs": [
    {
     "name": "stdout",
     "output_type": "stream",
     "text": [
      "108483\n"
     ]
    }
   ],
   "source": [
    "c = 0\n",
    "for t in tokens:\n",
    "    c += len(t)\n",
    "print(c)"
   ]
  },
  {
   "cell_type": "markdown",
   "id": "prepared-youth",
   "metadata": {},
   "source": [
    "## lemmatization and POS tagging"
   ]
  },
  {
   "cell_type": "code",
   "execution_count": 21,
   "id": "bizarre-rendering",
   "metadata": {},
   "outputs": [],
   "source": [
    "lemmas = [[token.lemma_ for token in sentence] for sentence in doc.sents]"
   ]
  },
  {
   "cell_type": "code",
   "execution_count": 22,
   "id": "promising-leonard",
   "metadata": {},
   "outputs": [],
   "source": [
    "#lemmas"
   ]
  },
  {
   "cell_type": "code",
   "execution_count": 23,
   "id": "hidden-helping",
   "metadata": {},
   "outputs": [],
   "source": [
    "foo = [[(token.lemma_, token.pos_) for token in sentence] for sentence in doc.sents]"
   ]
  },
  {
   "cell_type": "code",
   "execution_count": 24,
   "id": "present-corporation",
   "metadata": {},
   "outputs": [
    {
     "name": "stdout",
     "output_type": "stream",
     "text": [
      "('and', 'CCONJ')\n",
      "('can', 'AUX')\n",
      "('I', 'PRON')\n",
      "('first', 'ADV')\n",
      "(',', 'PUNCT')\n",
      "('first', 'ADV')\n",
      "('ask', 'VERB')\n",
      "('the', 'DET')\n",
      "('commission', 'NOUN')\n",
      "(',', 'PUNCT')\n",
      "(' ', 'SPACE')\n",
      "('or', 'CCONJ')\n",
      "('pierre', 'NOUN')\n",
      "(',', 'PUNCT')\n",
      "('to', 'PART')\n",
      "('uh', 'INTJ')\n",
      "(',', 'PUNCT')\n",
      "('give', 'VERB')\n",
      "('their', 'PRON')\n",
      "('headline', 'NOUN')\n",
      "('.', 'PUNCT')\n"
     ]
    }
   ],
   "source": [
    "for f in foo[1]:\n",
    "    print(f)"
   ]
  },
  {
   "cell_type": "markdown",
   "id": "realistic-return",
   "metadata": {},
   "source": [
    "## stopwords"
   ]
  },
  {
   "cell_type": "code",
   "execution_count": 25,
   "id": "threatened-thumbnail",
   "metadata": {},
   "outputs": [],
   "source": [
    "# make stopwords out of names\n",
    "stopnames = []\n",
    "\n",
    "for names in amend_names.values():\n",
    "    for name in names:\n",
    "        if not re.search('\\[.*\\]', name):\n",
    "            stopnames += name.split(' ')\n",
    "            \n",
    "for name in df.speaker.unique():\n",
    "    if 'speaker' not in name:\n",
    "        stopnames += name.split(' ')\n",
    "    \n",
    "stopnames = set(stopnames)"
   ]
  },
  {
   "cell_type": "code",
   "execution_count": 26,
   "id": "conceptual-jimmy",
   "metadata": {},
   "outputs": [],
   "source": [
    "content = [[token.text for token in sentence if \n",
    "            not token.is_stop and\n",
    "            not token.text in stopnames\n",
    "           ] for sentence in doc.sents]"
   ]
  },
  {
   "cell_type": "code",
   "execution_count": 27,
   "id": "loving-bubble",
   "metadata": {},
   "outputs": [
    {
     "name": "stdout",
     "output_type": "stream",
     "text": [
      "52011\n"
     ]
    }
   ],
   "source": [
    "c = 0\n",
    "for t in content:\n",
    "    c += len(t)\n",
    "print(c)"
   ]
  },
  {
   "cell_type": "code",
   "execution_count": 28,
   "id": "mineral-malawi",
   "metadata": {},
   "outputs": [],
   "source": [
    "#content"
   ]
  },
  {
   "cell_type": "markdown",
   "id": "duplicate-colombia",
   "metadata": {},
   "source": [
    "## named entities"
   ]
  },
  {
   "cell_type": "code",
   "execution_count": 29,
   "id": "other-split",
   "metadata": {},
   "outputs": [],
   "source": [
    "#entities = [[( entity.text , entity.label_)\n",
    "#    for entity in nlp(sentence.text).ents]\n",
    "#    for sentence in doc.sents]\n",
    "\n",
    "#entities"
   ]
  },
  {
   "cell_type": "markdown",
   "id": "expanded-bridge",
   "metadata": {},
   "source": [
    "## numbers\n",
    "If not important, then either leave out with POS or replace with regex."
   ]
  },
  {
   "cell_type": "code",
   "execution_count": 35,
   "id": "placed-worthy",
   "metadata": {},
   "outputs": [
    {
     "data": {
      "text/plain": [
       "'Back in the 00s, when I was a 00-year -old ,a CD cost just 00,00 EUR!'"
      ]
     },
     "execution_count": 35,
     "metadata": {},
     "output_type": "execute_result"
    }
   ],
   "source": [
    "import re\n",
    "\n",
    "numbers = re.compile('[0-9]')\n",
    "re.sub(numbers , '0', 'Back in the 90s, when I was a 12-year -old ,a CD cost just 15,99 EUR!')"
   ]
  },
  {
   "cell_type": "markdown",
   "id": "advance-generic",
   "metadata": {},
   "source": [
    "## pointwise mutual information (collocations)\n",
    "- https://www.nltk.org/howto/collocations.html\n",
    "- mi_like score: https://www.nltk.org/api/nltk.metrics.html#nltk.metrics.association.NgramAssocMeasures.mi_like"
   ]
  },
  {
   "cell_type": "code",
   "execution_count": 30,
   "id": "accompanied-order",
   "metadata": {},
   "outputs": [],
   "source": [
    "def apply_trigram_colloc(s, set_colloc):\n",
    "    res = s.lower()\n",
    "    for b1,b2,b3 in set_colloc:\n",
    "        res = res.replace(f'{b1} {b2} {b3}', f'{b1}_{b2}_{b3}')\n",
    "    return res\n",
    "\n",
    "def apply_bigram_colloc(s, set_colloc):\n",
    "    res = s.lower()\n",
    "    for b1,b2 in set_colloc:\n",
    "        res = res.replace(f'{b1} {b2}', f'{b1}_{b2}')\n",
    "    return res"
   ]
  },
  {
   "cell_type": "markdown",
   "id": "cooked-filter",
   "metadata": {},
   "source": [
    "#### trigrams"
   ]
  },
  {
   "cell_type": "code",
   "execution_count": 44,
   "id": "civil-spell",
   "metadata": {},
   "outputs": [],
   "source": [
    "from nltk.collocations import TrigramCollocationFinder, TrigramAssocMeasures\n",
    "\n",
    "# needs to be a one-dim list\n",
    "# lemmatization, filter out punctuation and stop words\n",
    "words = [token.lemma_ for sentence in doc.sents for token in sentence\n",
    "            if token.pos_ in {'ADJ', 'ADV', 'NOUN', 'PROPN', 'VERB'}\n",
    "            and not token.is_stop\n",
    "            and not token.text in stopnames\n",
    "            and len(token) > 1 # for punctuation (but also 'I')\n",
    "        ]\n",
    "\n",
    "finder = TrigramCollocationFinder.from_words(words)\n",
    "\n",
    "# word might be highly correlated but very infrequent, ignore all with less than n occurances\n",
    "finder.apply_freq_filter(5)\n",
    "\n",
    "tgm = TrigramAssocMeasures()\n",
    "collocations = {trigram: pmi for trigram, pmi in finder.score_ngrams(tgm.mi_like)}"
   ]
  },
  {
   "cell_type": "code",
   "execution_count": 45,
   "id": "wound-genome",
   "metadata": {
    "scrolled": true
   },
   "outputs": [
    {
     "data": {
      "text/plain": [
       "{('euro', 'working', 'group'): 0.045454545454545456,\n",
       " ('comprehensive', 'valid', 'starting'): 0.027233115468409588,\n",
       " ('successful', 'conclusion', 'review'): 0.011784511784511785,\n",
       " ('low', 'interest', 'rate'): 0.010439612699499706,\n",
       " ('debt', 'sustainability', 'analysis'): 0.006432858214553638,\n",
       " ('valid', 'starting', 'point'): 0.006118453255017132,\n",
       " ('statement', '20th', 'february'): 0.005505095625703131,\n",
       " ('nominal', 'interest', 'rate'): 0.0030303030303030303,\n",
       " ('interest', 'rate', 'environment'): 0.0017536475869809204,\n",
       " ('list', 'prior', 'action'): 0.0015639581657280772,\n",
       " ('labor', 'market', 'reform'): 0.0015536554593193752,\n",
       " ('starting', 'point', 'successful'): 0.001529613313754283,\n",
       " ('staff', 'level', 'agreement'): 0.0012303485987696513,\n",
       " ('product', 'market', 'reform'): 0.0010193295077016006,\n",
       " ('set', 'prior', 'action'): 0.0009186602870813397,\n",
       " ('prior', 'action', 'list'): 0.00046339501206757845,\n",
       " ('discussion', 'brussel', 'group'): 0.0004310344827586207,\n",
       " ('low', 'low', 'pension'): 0.00034199258560074417,\n",
       " ('20th', 'february', 'agreement'): 0.0002451781627983001,\n",
       " ('point', 'successful', 'conclusion'): 0.00019865107970834842,\n",
       " ('list', 'reform', 'measure'): 7.985897496569022e-05,\n",
       " ('thank', 'thank', 'thank'): 3.2611215577516745e-05,\n",
       " ('thank', 'thank', 'colleague'): 1.5101226457292822e-05,\n",
       " ('thank', 'thank', 'like'): 1.1924428125891053e-05,\n",
       " ('thank', 'thank', 'let'): 1.0498947917927391e-05}"
      ]
     },
     "execution_count": 45,
     "metadata": {},
     "output_type": "execute_result"
    }
   ],
   "source": [
    "collocations"
   ]
  },
  {
   "cell_type": "code",
   "execution_count": 46,
   "id": "congressional-associate",
   "metadata": {},
   "outputs": [],
   "source": [
    "trigram_colloc = {('euro', 'working', 'group')}\n",
    "\n",
    "words = apply_trigram_colloc(' '.join(words), trigram_colloc).split(' ')"
   ]
  },
  {
   "cell_type": "markdown",
   "id": "scientific-island",
   "metadata": {},
   "source": [
    "#### bigrams"
   ]
  },
  {
   "cell_type": "code",
   "execution_count": 47,
   "id": "grateful-mining",
   "metadata": {},
   "outputs": [],
   "source": [
    "from nltk.collocations import BigramCollocationFinder, BigramAssocMeasures\n",
    "#from nltk.corpus import stopwords\n",
    "\n",
    "#stopwords_ = set(stopwords.words('english'))\n",
    "\n",
    "finder = BigramCollocationFinder.from_words(words)\n",
    "\n",
    "# word might be highly correlated but very infrequent, ignore all with less than n occurances\n",
    "finder.apply_freq_filter(5)\n",
    "\n",
    "bgm = BigramAssocMeasures()\n",
    "collocations = {bigram: pmi for bigram, pmi in finder.score_ngrams(bgm.mi_like)}"
   ]
  },
  {
   "cell_type": "code",
   "execution_count": 52,
   "id": "personal-result",
   "metadata": {
    "scrolled": false
   },
   "outputs": [],
   "source": [
    "#collocations"
   ]
  },
  {
   "cell_type": "code",
   "execution_count": 49,
   "id": "existing-program",
   "metadata": {},
   "outputs": [
    {
     "data": {
      "text/plain": [
       "{('20th', 'february'),\n",
       " ('aide', 'memoire'),\n",
       " ('anti', 'corruption'),\n",
       " ('brussel', 'group'),\n",
       " ('capital', 'control'),\n",
       " ('central', 'bank'),\n",
       " ('collective', 'bargaining'),\n",
       " ('common', 'ground'),\n",
       " ('debt', 'sustainability'),\n",
       " ('govern', 'council'),\n",
       " ('growth', 'friendly'),\n",
       " ('half', 'percent'),\n",
       " ('interest', 'rate'),\n",
       " ('labor', 'market'),\n",
       " ('little', 'bit'),\n",
       " ('maximum', 'flexibility'),\n",
       " ('member', 'state'),\n",
       " ('minimum', 'wage'),\n",
       " ('primary', 'surplus'),\n",
       " ('prime', 'minister'),\n",
       " ('prior', 'action'),\n",
       " ('product', 'market'),\n",
       " ('second', 'letter'),\n",
       " ('smp', 'bond'),\n",
       " ('structural', 'reform'),\n",
       " ('successful', 'conclusion'),\n",
       " ('technical', 'team'),\n",
       " ('thank', 'thank'),\n",
       " ('valid', 'starting')}"
      ]
     },
     "execution_count": 49,
     "metadata": {},
     "output_type": "execute_result"
    }
   ],
   "source": [
    "threshold = 1\n",
    "\n",
    "bigram_colloc_candidate = []\n",
    "for bigram, score in collocations.items():\n",
    "    if score > threshold:\n",
    "        bigram_colloc_candidate.append(bigram)\n",
    "    else:\n",
    "        break\n",
    "        \n",
    "bigram_colloc_candidate = set(bigram_colloc_candidate)\n",
    "bigram_colloc_candidate"
   ]
  },
  {
   "cell_type": "code",
   "execution_count": 53,
   "id": "least-franklin",
   "metadata": {},
   "outputs": [],
   "source": [
    "bigram_colloc = {\n",
    "    ('20th', 'february'),\n",
    "    ('aide', 'memoire'),\n",
    "    ('anti', 'corruption'),\n",
    "    ('brussel', 'group'),\n",
    "    ('capital', 'control'),\n",
    "    ('central', 'bank'),\n",
    "    ('collective', 'bargaining'),\n",
    "    ('common', 'ground'),\n",
    "    ('debt', 'sustainability'),\n",
    "    ('govern', 'council'),\n",
    "    ('growth', 'friendly'),\n",
    "    ('interest', 'rate'),\n",
    "    ('labor', 'market'),\n",
    "    ('maximum', 'flexibility'),\n",
    "    ('member', 'state'),\n",
    "    ('minimum', 'wage'),\n",
    "    ('primary', 'surplus'),\n",
    "    ('prime', 'minister'),\n",
    "    ('prior', 'action'),\n",
    "    ('product', 'market'),\n",
    "    ('second', 'letter'),\n",
    "    ('smp', 'bond'),\n",
    "    ('structural', 'reform'),\n",
    "    ('successful', 'conclusion'),\n",
    "    ('technical', 'team'),\n",
    "    ('real', 'estate')\n",
    "}\n",
    "\n",
    "words = apply_bigram_colloc(' '.join(words), bigram_colloc).split(' ')"
   ]
  },
  {
   "cell_type": "markdown",
   "id": "uniform-african",
   "metadata": {},
   "source": [
    "## consider doing token_POS so as to differentiate between eg. show_VERB and show_NOUN"
   ]
  },
  {
   "cell_type": "markdown",
   "id": "different-regression",
   "metadata": {},
   "source": [
    "## TF-IDF counts\n",
    "What is one document here?\n",
    "- speaker?\n",
    "- date?\n",
    "- row?"
   ]
  },
  {
   "cell_type": "code",
   "execution_count": 147,
   "id": "sound-commons",
   "metadata": {},
   "outputs": [],
   "source": [
    "# join speech of consecutive rows with same speaker\n",
    "\n",
    "df_squeezed = pd.DataFrame(columns=['speaker','speech','date'])\n",
    "\n",
    "previous_speaker = None\n",
    "speech = None\n",
    "previous_date = None\n",
    "\n",
    "for index, data in df.iterrows():\n",
    "    \n",
    "    if not previous_speaker and not speech and not previous_date:\n",
    "        previous_speaker = data.speaker\n",
    "        speech = data.speech\n",
    "        previous_date = data.date\n",
    "    elif data.speaker == previous_speaker:\n",
    "        speech = ' '.join((speech, data.speech))\n",
    "    else:\n",
    "        df_squeezed.loc[len(df_squeezed.index)] = [\n",
    "            previous_speaker,\n",
    "            speech,\n",
    "            previous_date\n",
    "        ]\n",
    "        previous_speaker = data.speaker\n",
    "        speech = data.speech\n",
    "        previous_date = data.date"
   ]
  },
  {
   "cell_type": "code",
   "execution_count": 148,
   "id": "particular-force",
   "metadata": {},
   "outputs": [],
   "source": [
    "# lowercase\n",
    "raw_documents = df_squeezed.speech.apply(lambda s: s.lower()).to_numpy()\n",
    "\n",
    "#filter_POS = {'ADJ', 'ADV', 'NOUN', 'PROPN', 'VERB'}\n",
    "filter_POS = {'NOUN'}\n",
    "\n",
    "documents = [\n",
    "    ' '.join([f'{token.lemma_}_{token.pos_}' for sentence in nlp(doc).sents for token in sentence\n",
    "            if token.pos_ in filter_POS\n",
    "            and not token.is_stop\n",
    "            and not token.text in stopnames\n",
    "            and len(token) > 1\n",
    "    ])\n",
    "    for doc in raw_documents \n",
    "]"
   ]
  },
  {
   "cell_type": "code",
   "execution_count": 149,
   "id": "trying-expression",
   "metadata": {},
   "outputs": [],
   "source": [
    "from sklearn.feature_extraction.text import TfidfVectorizer\n",
    "\n",
    "tfidf_vectorizer = TfidfVectorizer(analyzer='word',\n",
    "                                   min_df =0.001,\n",
    "                                   max_df =0.75,\n",
    "                                   stop_words='english',\n",
    "                                   sublinear_tf=True)\n",
    "\n",
    "X = tfidf_vectorizer.fit_transform(documents)                                  "
   ]
  },
  {
   "cell_type": "code",
   "execution_count": 150,
   "id": "indoor-least",
   "metadata": {},
   "outputs": [],
   "source": [
    "idf = tfidf_vectorizer.idf_\n",
    "tfidf = X.sum(axis =0).A1"
   ]
  },
  {
   "cell_type": "code",
   "execution_count": 151,
   "id": "elder-exchange",
   "metadata": {},
   "outputs": [],
   "source": [
    "# get tf\n",
    "from sklearn.feature_extraction.text import CountVectorizer\n",
    "\n",
    "count_vectorizer = CountVectorizer(analyzer='word',\n",
    "                                   min_df =0.001,\n",
    "                                   max_df =0.75,\n",
    "                                   stop_words='english')\n",
    "\n",
    "X_ = count_vectorizer.fit_transform(documents)\n",
    "\n",
    "assert np.array_equal(\n",
    "    count_vectorizer.get_feature_names(),\n",
    "    tfidf_vectorizer.get_feature_names()\n",
    ")\n",
    "\n",
    "tf = X_.toarray().sum(axis=0)"
   ]
  },
  {
   "cell_type": "code",
   "execution_count": 178,
   "id": "coordinated-concentrate",
   "metadata": {},
   "outputs": [
    {
     "data": {
      "image/png": "[encoded data removed]",
      "text/plain": [
       "<Figure size 864x504 with 1 Axes>"
      ]
     },
     "metadata": {
      "needs_background": "light"
     },
     "output_type": "display_data"
    }
   ],
   "source": [
    "import matplotlib.pyplot as plt\n",
    "\n",
    "fig, ax = plt.subplots(figsize=(12,7))\n",
    "ax.scatter(tfidf, idf, s=tf, edgecolors='black', label='tfidf')\n",
    "#ax.legend()\n",
    "ax.set_xlabel('tfidf')\n",
    "ax.set_ylabel('idf')\n",
    "ax.set_title('scatterplot of TFIDF and IDF values, scaled by TF')\n",
    "\n",
    "# annotate words with highest tfidf\n",
    "first_k = 10\n",
    "sort_ix = np.argsort(tfidf)[::-1]\n",
    "for ix in sort_ix[:first_k]:\n",
    "    s = tfidf_vectorizer.get_feature_names()[ix].split('_')[0]\n",
    "    jiggle_x = np.random.normal(0,0.1)\n",
    "    jiggle_y = np.random.normal(0,0.1)\n",
    "    ax.text(tfidf[ix]+jiggle_x, idf[ix]+jiggle_y, s)"
   ]
  },
  {
   "cell_type": "markdown",
   "id": "split-jewelry",
   "metadata": {},
   "source": [
    "# TODO: interpret the above plot"
   ]
  },
  {
   "cell_type": "code",
   "execution_count": 163,
   "id": "aging-tobacco",
   "metadata": {},
   "outputs": [],
   "source": [
    "sort_ix = np.argsort(tfidf)[::-1]"
   ]
  },
  {
   "cell_type": "code",
   "execution_count": 156,
   "id": "deadly-birmingham",
   "metadata": {},
   "outputs": [
    {
     "data": {
      "text/plain": [
       "array(['question_noun', 'institution_noun', 'point_noun',\n",
       "       'colleague_noun', 'agreement_noun', 'proposal_noun',\n",
       "       'process_noun', 'meeting_noun', 'government_noun', 'time_noun',\n",
       "       'thank_noun', '_noun', 'discussion_noun', 'course_noun',\n",
       "       'day_noun', 'comment_noun', 'letter_noun', 'program_noun',\n",
       "       'situation_noun', 'list_noun'], dtype='<U22')"
      ]
     },
     "execution_count": 156,
     "metadata": {},
     "output_type": "execute_result"
    }
   ],
   "source": [
    "np.array(tfidf_vectorizer.get_feature_names())[sort_ix][:20]"
   ]
  },
  {
   "cell_type": "markdown",
   "id": "labeled-yemen",
   "metadata": {},
   "source": [
    "## word embeddings\n",
    "Modern embedding models define context as a local window to either\n",
    "side of the target word (not whole document).\n",
    "- word2vec (convention ndim=300)\n",
    "\n",
    "two main architectures:\n",
    "- **continuous bag of words** (CBOW): predict output word from input of context words (local neighbourhood)\n",
    "- **skipgram**: predit cintext word output from target word input\n",
    "\n",
    "Either used pretrained, train yourself from scratch, or transfer learning.\n",
    "\n",
    "When training, best to train multiple models on same data and average them.\n",
    "\n",
    "- also see doc2vec"
   ]
  },
  {
   "cell_type": "code",
   "execution_count": 112,
   "id": "descending-cover",
   "metadata": {},
   "outputs": [
    {
     "data": {
      "text/html": [
       "<div>\n",
       "<style scoped>\n",
       "    .dataframe tbody tr th:only-of-type {\n",
       "        vertical-align: middle;\n",
       "    }\n",
       "\n",
       "    .dataframe tbody tr th {\n",
       "        vertical-align: top;\n",
       "    }\n",
       "\n",
       "    .dataframe thead th {\n",
       "        text-align: right;\n",
       "    }\n",
       "</style>\n",
       "<table border=\"1\" class=\"dataframe\">\n",
       "  <thead>\n",
       "    <tr style=\"text-align: right;\">\n",
       "      <th></th>\n",
       "      <th>speaker</th>\n",
       "      <th>speech</th>\n",
       "      <th>timestamp</th>\n",
       "      <th>date</th>\n",
       "    </tr>\n",
       "  </thead>\n",
       "  <tbody>\n",
       "    <tr>\n",
       "      <th>0</th>\n",
       "      <td>Jeroen Dijsselbloem</td>\n",
       "      <td>… of your responses or questions. And can I fi...</td>\n",
       "      <td>1900-01-01 00:00:00</td>\n",
       "      <td>2015-02-24 00:00:00</td>\n",
       "    </tr>\n",
       "    <tr>\n",
       "      <th>1</th>\n",
       "      <td>Speaker 2</td>\n",
       "      <td>Uh, yes, uh, thank you, Jeroen. Well, uh, comm...</td>\n",
       "      <td>1900-01-01 00:00:10</td>\n",
       "      <td>2015-02-24 00:00:00</td>\n",
       "    </tr>\n",
       "    <tr>\n",
       "      <th>2</th>\n",
       "      <td>Michael Noonan</td>\n",
       "      <td>Michael Noonan.</td>\n",
       "      <td>1900-01-01 00:01:27</td>\n",
       "      <td>2015-02-24 00:00:00</td>\n",
       "    </tr>\n",
       "    <tr>\n",
       "      <th>3</th>\n",
       "      <td>Speaker 2</td>\n",
       "      <td>Uh, it is therefore regrettable that, uh-</td>\n",
       "      <td>1900-01-01 00:01:29</td>\n",
       "      <td>2015-02-24 00:00:00</td>\n",
       "    </tr>\n",
       "    <tr>\n",
       "      <th>4</th>\n",
       "      <td>Speaker 3</td>\n",
       "      <td>Has entered the conference.</td>\n",
       "      <td>1900-01-01 00:01:33</td>\n",
       "      <td>2015-02-24 00:00:00</td>\n",
       "    </tr>\n",
       "    <tr>\n",
       "      <th>5</th>\n",
       "      <td>Speaker 2</td>\n",
       "      <td>… that the letter by the Minister does not, uh...</td>\n",
       "      <td>1900-01-01 00:01:37</td>\n",
       "      <td>2015-02-24 00:00:00</td>\n",
       "    </tr>\n",
       "    <tr>\n",
       "      <th>6</th>\n",
       "      <td>Speaker 2</td>\n",
       "      <td>Uh, Any policy initiatives therefore, should b...</td>\n",
       "      <td>1900-01-01 00:02:48</td>\n",
       "      <td>2015-02-24 00:00:00</td>\n",
       "    </tr>\n",
       "    <tr>\n",
       "      <th>7</th>\n",
       "      <td>Pierre Moscovici</td>\n",
       "      <td>Um, okay colleagues. Um, in general I would sa...</td>\n",
       "      <td>1900-01-01 00:02:59</td>\n",
       "      <td>2015-02-24 00:00:00</td>\n",
       "    </tr>\n",
       "    <tr>\n",
       "      <th>8</th>\n",
       "      <td>Pierre Moscovici</td>\n",
       "      <td>In other areas, urgent and deferential, uh, in-</td>\n",
       "      <td>1900-01-01 00:03:54</td>\n",
       "      <td>2015-02-24 00:00:00</td>\n",
       "    </tr>\n",
       "    <tr>\n",
       "      <th>9</th>\n",
       "      <td>Speaker 3</td>\n",
       "      <td>Has entered the conference.</td>\n",
       "      <td>1900-01-01 00:04:00</td>\n",
       "      <td>2015-02-24 00:00:00</td>\n",
       "    </tr>\n",
       "    <tr>\n",
       "      <th>10</th>\n",
       "      <td>Pierre Moscovici</td>\n",
       "      <td>… urgent deferential and immediate decisions o...</td>\n",
       "      <td>1900-01-01 00:04:02</td>\n",
       "      <td>2015-02-24 00:00:00</td>\n",
       "    </tr>\n",
       "    <tr>\n",
       "      <th>11</th>\n",
       "      <td>Pierre Moscovici</td>\n",
       "      <td>Uh, second, on privatization, um, our feeling ...</td>\n",
       "      <td>1900-01-01 00:04:42</td>\n",
       "      <td>2015-02-24 00:00:00</td>\n",
       "    </tr>\n",
       "    <tr>\n",
       "      <th>12</th>\n",
       "      <td>Jeroen Dijsselbloem</td>\n",
       "      <td>Thank you very much, uh, as always, Pierre. Uh...</td>\n",
       "      <td>1900-01-01 00:05:44</td>\n",
       "      <td>2015-02-24 00:00:00</td>\n",
       "    </tr>\n",
       "    <tr>\n",
       "      <th>13</th>\n",
       "      <td>Mario Draghi</td>\n",
       "      <td>Yes, thanks Jeroen. Thank you. As, uh, as we d...</td>\n",
       "      <td>1900-01-01 00:05:50</td>\n",
       "      <td>2015-02-24 00:00:00</td>\n",
       "    </tr>\n",
       "    <tr>\n",
       "      <th>14</th>\n",
       "      <td>Mario Draghi</td>\n",
       "      <td>Now, let me make a few additional remarks. We ...</td>\n",
       "      <td>1900-01-01 00:06:40</td>\n",
       "      <td>2015-02-24 00:00:00</td>\n",
       "    </tr>\n",
       "    <tr>\n",
       "      <th>15</th>\n",
       "      <td>Mario Draghi</td>\n",
       "      <td>Second point concerns the payment culture. The...</td>\n",
       "      <td>1900-01-01 00:08:03</td>\n",
       "      <td>2015-02-24 00:00:00</td>\n",
       "    </tr>\n",
       "    <tr>\n",
       "      <th>16</th>\n",
       "      <td>Mario Draghi</td>\n",
       "      <td>Second, there would be no new moratorium on au...</td>\n",
       "      <td>1900-01-01 00:08:41</td>\n",
       "      <td>2015-02-24 00:00:00</td>\n",
       "    </tr>\n",
       "    <tr>\n",
       "      <th>17</th>\n",
       "      <td>Mario Draghi</td>\n",
       "      <td>There will also be no initiative for any gener...</td>\n",
       "      <td>1900-01-01 00:09:03</td>\n",
       "      <td>2015-02-24 00:00:00</td>\n",
       "    </tr>\n",
       "    <tr>\n",
       "      <th>18</th>\n",
       "      <td>Jeroen Dijsselbloem</td>\n",
       "      <td>[inaudible] well, either, either now or, uh, d...</td>\n",
       "      <td>1900-01-01 00:09:25</td>\n",
       "      <td>2015-02-24 00:00:00</td>\n",
       "    </tr>\n",
       "    <tr>\n",
       "      <th>19</th>\n",
       "      <td>Mario Draghi</td>\n",
       "      <td>Thank you, Jeroen. So I… I understand as the d...</td>\n",
       "      <td>1900-01-01 00:10:11</td>\n",
       "      <td>2015-02-24 00:00:00</td>\n",
       "    </tr>\n",
       "  </tbody>\n",
       "</table>\n",
       "</div>"
      ],
      "text/plain": [
       "                speaker                                             speech  \\\n",
       "0   Jeroen Dijsselbloem  … of your responses or questions. And can I fi...   \n",
       "1             Speaker 2  Uh, yes, uh, thank you, Jeroen. Well, uh, comm...   \n",
       "2        Michael Noonan                                    Michael Noonan.   \n",
       "3             Speaker 2          Uh, it is therefore regrettable that, uh-   \n",
       "4             Speaker 3                        Has entered the conference.   \n",
       "5             Speaker 2  … that the letter by the Minister does not, uh...   \n",
       "6             Speaker 2  Uh, Any policy initiatives therefore, should b...   \n",
       "7      Pierre Moscovici  Um, okay colleagues. Um, in general I would sa...   \n",
       "8      Pierre Moscovici    In other areas, urgent and deferential, uh, in-   \n",
       "9             Speaker 3                        Has entered the conference.   \n",
       "10     Pierre Moscovici  … urgent deferential and immediate decisions o...   \n",
       "11     Pierre Moscovici  Uh, second, on privatization, um, our feeling ...   \n",
       "12  Jeroen Dijsselbloem  Thank you very much, uh, as always, Pierre. Uh...   \n",
       "13         Mario Draghi  Yes, thanks Jeroen. Thank you. As, uh, as we d...   \n",
       "14         Mario Draghi  Now, let me make a few additional remarks. We ...   \n",
       "15         Mario Draghi  Second point concerns the payment culture. The...   \n",
       "16         Mario Draghi  Second, there would be no new moratorium on au...   \n",
       "17         Mario Draghi  There will also be no initiative for any gener...   \n",
       "18  Jeroen Dijsselbloem  [inaudible] well, either, either now or, uh, d...   \n",
       "19         Mario Draghi  Thank you, Jeroen. So I… I understand as the d...   \n",
       "\n",
       "              timestamp                 date  \n",
       "0   1900-01-01 00:00:00  2015-02-24 00:00:00  \n",
       "1   1900-01-01 00:00:10  2015-02-24 00:00:00  \n",
       "2   1900-01-01 00:01:27  2015-02-24 00:00:00  \n",
       "3   1900-01-01 00:01:29  2015-02-24 00:00:00  \n",
       "4   1900-01-01 00:01:33  2015-02-24 00:00:00  \n",
       "5   1900-01-01 00:01:37  2015-02-24 00:00:00  \n",
       "6   1900-01-01 00:02:48  2015-02-24 00:00:00  \n",
       "7   1900-01-01 00:02:59  2015-02-24 00:00:00  \n",
       "8   1900-01-01 00:03:54  2015-02-24 00:00:00  \n",
       "9   1900-01-01 00:04:00  2015-02-24 00:00:00  \n",
       "10  1900-01-01 00:04:02  2015-02-24 00:00:00  \n",
       "11  1900-01-01 00:04:42  2015-02-24 00:00:00  \n",
       "12  1900-01-01 00:05:44  2015-02-24 00:00:00  \n",
       "13  1900-01-01 00:05:50  2015-02-24 00:00:00  \n",
       "14  1900-01-01 00:06:40  2015-02-24 00:00:00  \n",
       "15  1900-01-01 00:08:03  2015-02-24 00:00:00  \n",
       "16  1900-01-01 00:08:41  2015-02-24 00:00:00  \n",
       "17  1900-01-01 00:09:03  2015-02-24 00:00:00  \n",
       "18  1900-01-01 00:09:25  2015-02-24 00:00:00  \n",
       "19  1900-01-01 00:10:11  2015-02-24 00:00:00  "
      ]
     },
     "execution_count": 112,
     "metadata": {},
     "output_type": "execute_result"
    }
   ],
   "source": [
    "df.head(20)"
   ]
  },
  {
   "cell_type": "code",
   "execution_count": null,
   "id": "collectible-lecture",
   "metadata": {},
   "outputs": [],
   "source": [
    "#df.groupby('speaker', 'date')"
   ]
  },
  {
   "cell_type": "code",
   "execution_count": null,
   "id": "determined-journey",
   "metadata": {},
   "outputs": [],
   "source": []
  },
  {
   "cell_type": "markdown",
   "id": "interesting-producer",
   "metadata": {},
   "source": [
    "# communiques"
   ]
  },
  {
   "cell_type": "code",
   "execution_count": 70,
   "id": "historic-climate",
   "metadata": {},
   "outputs": [
    {
     "data": {
      "text/html": [
       "<div>\n",
       "<style scoped>\n",
       "    .dataframe tbody tr th:only-of-type {\n",
       "        vertical-align: middle;\n",
       "    }\n",
       "\n",
       "    .dataframe tbody tr th {\n",
       "        vertical-align: top;\n",
       "    }\n",
       "\n",
       "    .dataframe thead th {\n",
       "        text-align: right;\n",
       "    }\n",
       "</style>\n",
       "<table border=\"1\" class=\"dataframe\">\n",
       "  <thead>\n",
       "    <tr style=\"text-align: right;\">\n",
       "      <th></th>\n",
       "      <th>date</th>\n",
       "      <th>title</th>\n",
       "      <th>story</th>\n",
       "    </tr>\n",
       "  </thead>\n",
       "  <tbody>\n",
       "    <tr>\n",
       "      <th>0</th>\n",
       "      <td>2015-02-12</td>\n",
       "      <td>Remarks by Jeroen Dijsselbloem at the press co...</td>\n",
       "      <td>Good evening.\\nToday, as you well know, we had...</td>\n",
       "    </tr>\n",
       "    <tr>\n",
       "      <th>1</th>\n",
       "      <td>2015-02-16</td>\n",
       "      <td>Remarks by Jeroen Dijsselbloem at the press co...</td>\n",
       "      <td>Good evening everyone and thanks for joining t...</td>\n",
       "    </tr>\n",
       "    <tr>\n",
       "      <th>2</th>\n",
       "      <td>2015-02-20</td>\n",
       "      <td>Eurogroup statement on Greece</td>\n",
       "      <td>The Eurogroup reiterates its appreciation for ...</td>\n",
       "    </tr>\n",
       "    <tr>\n",
       "      <th>3</th>\n",
       "      <td>2015-02-20</td>\n",
       "      <td>Remarks by Jeroen Dijsselbloem at the press co...</td>\n",
       "      <td>Good evening and welcome to this press confere...</td>\n",
       "    </tr>\n",
       "    <tr>\n",
       "      <th>4</th>\n",
       "      <td>2015-02-24</td>\n",
       "      <td>Eurogroup statement on Greece</td>\n",
       "      <td>The Eurogroup today discussed the first list o...</td>\n",
       "    </tr>\n",
       "    <tr>\n",
       "      <th>5</th>\n",
       "      <td>2015-04-24</td>\n",
       "      <td>Remarks by Jeroen Dijsselbloem at the press co...</td>\n",
       "      <td>Good afternoon and welcome to this press confe...</td>\n",
       "    </tr>\n",
       "    <tr>\n",
       "      <th>6</th>\n",
       "      <td>2015-05-11</td>\n",
       "      <td>Eurogroup statement on Greece</td>\n",
       "      <td>The Eurogroup today took stock of the state of...</td>\n",
       "    </tr>\n",
       "    <tr>\n",
       "      <th>7</th>\n",
       "      <td>2015-05-11</td>\n",
       "      <td>Remarks by Jeroen Dijsselbloem at the press co...</td>\n",
       "      <td>Good evening and welcome to this press confere...</td>\n",
       "    </tr>\n",
       "    <tr>\n",
       "      <th>8</th>\n",
       "      <td>2015-06-18</td>\n",
       "      <td>Press remarks by Eurogroup President following...</td>\n",
       "      <td>Good evening. We can start this press conferen...</td>\n",
       "    </tr>\n",
       "    <tr>\n",
       "      <th>9</th>\n",
       "      <td>2015-06-22</td>\n",
       "      <td>Press remarks by Eurogroup President Jeroen Di...</td>\n",
       "      <td>Good afternoon everyone. This will be a very s...</td>\n",
       "    </tr>\n",
       "    <tr>\n",
       "      <th>10</th>\n",
       "      <td>2015-06-24</td>\n",
       "      <td>Exit doorstep remarks by Jeroen Dijsselbloem f...</td>\n",
       "      <td>The Eurogroup was informed about the state of ...</td>\n",
       "    </tr>\n",
       "    <tr>\n",
       "      <th>11</th>\n",
       "      <td>2015-06-25</td>\n",
       "      <td>Exit doorstep remarks by Jeroen Dijsselbloem f...</td>\n",
       "      <td>The \\nEurogroup has finished.\\nThe institution...</td>\n",
       "    </tr>\n",
       "    <tr>\n",
       "      <th>12</th>\n",
       "      <td>2015-06-27</td>\n",
       "      <td>Eurogroup statement on Greece</td>\n",
       "      <td>Since the 20 February 2015 agreement of the Eu...</td>\n",
       "    </tr>\n",
       "    <tr>\n",
       "      <th>13</th>\n",
       "      <td>2015-06-27</td>\n",
       "      <td>Remarks by Eurogroup President at the intermed...</td>\n",
       "      <td>Good \\nafternoon. Let me first make some preli...</td>\n",
       "    </tr>\n",
       "    <tr>\n",
       "      <th>14</th>\n",
       "      <td>2015-06-27</td>\n",
       "      <td>Ministerial statement on 27 June 2015</td>\n",
       "      <td>Ministers from eighteen euro area Member State...</td>\n",
       "    </tr>\n",
       "    <tr>\n",
       "      <th>15</th>\n",
       "      <td>2015-06-27</td>\n",
       "      <td>Remarks by Eurogroup President at the final Eu...</td>\n",
       "      <td>Good evening everyone. I would like to report ...</td>\n",
       "    </tr>\n",
       "    <tr>\n",
       "      <th>16</th>\n",
       "      <td>2015-07-01</td>\n",
       "      <td>Remarks by Eurogroup President Jeroen Dijsselb...</td>\n",
       "      <td>Tonight we had a Eurogroup conference call, fo...</td>\n",
       "    </tr>\n",
       "    <tr>\n",
       "      <th>17</th>\n",
       "      <td>2015-07-05</td>\n",
       "      <td>Statement of the Eurogroup President following...</td>\n",
       "      <td>I take note of the outcome of the Greek refere...</td>\n",
       "    </tr>\n",
       "  </tbody>\n",
       "</table>\n",
       "</div>"
      ],
      "text/plain": [
       "          date                                              title  \\\n",
       "0   2015-02-12  Remarks by Jeroen Dijsselbloem at the press co...   \n",
       "1   2015-02-16  Remarks by Jeroen Dijsselbloem at the press co...   \n",
       "2   2015-02-20                      Eurogroup statement on Greece   \n",
       "3   2015-02-20  Remarks by Jeroen Dijsselbloem at the press co...   \n",
       "4   2015-02-24                      Eurogroup statement on Greece   \n",
       "5   2015-04-24  Remarks by Jeroen Dijsselbloem at the press co...   \n",
       "6   2015-05-11                      Eurogroup statement on Greece   \n",
       "7   2015-05-11  Remarks by Jeroen Dijsselbloem at the press co...   \n",
       "8   2015-06-18  Press remarks by Eurogroup President following...   \n",
       "9   2015-06-22  Press remarks by Eurogroup President Jeroen Di...   \n",
       "10  2015-06-24  Exit doorstep remarks by Jeroen Dijsselbloem f...   \n",
       "11  2015-06-25  Exit doorstep remarks by Jeroen Dijsselbloem f...   \n",
       "12  2015-06-27                      Eurogroup statement on Greece   \n",
       "13  2015-06-27  Remarks by Eurogroup President at the intermed...   \n",
       "14  2015-06-27              Ministerial statement on 27 June 2015   \n",
       "15  2015-06-27  Remarks by Eurogroup President at the final Eu...   \n",
       "16  2015-07-01  Remarks by Eurogroup President Jeroen Dijsselb...   \n",
       "17  2015-07-05  Statement of the Eurogroup President following...   \n",
       "\n",
       "                                                story  \n",
       "0   Good evening.\\nToday, as you well know, we had...  \n",
       "1   Good evening everyone and thanks for joining t...  \n",
       "2   The Eurogroup reiterates its appreciation for ...  \n",
       "3   Good evening and welcome to this press confere...  \n",
       "4   The Eurogroup today discussed the first list o...  \n",
       "5   Good afternoon and welcome to this press confe...  \n",
       "6   The Eurogroup today took stock of the state of...  \n",
       "7   Good evening and welcome to this press confere...  \n",
       "8   Good evening. We can start this press conferen...  \n",
       "9   Good afternoon everyone. This will be a very s...  \n",
       "10  The Eurogroup was informed about the state of ...  \n",
       "11  The \\nEurogroup has finished.\\nThe institution...  \n",
       "12  Since the 20 February 2015 agreement of the Eu...  \n",
       "13  Good \\nafternoon. Let me first make some preli...  \n",
       "14  Ministers from eighteen euro area Member State...  \n",
       "15  Good evening everyone. I would like to report ...  \n",
       "16  Tonight we had a Eurogroup conference call, fo...  \n",
       "17  I take note of the outcome of the Greek refere...  "
      ]
     },
     "execution_count": 70,
     "metadata": {},
     "output_type": "execute_result"
    }
   ],
   "source": [
    "pd.read_csv('data/communiques/prepared.csv').sort_values(by='date').reset_index(drop=True)"
   ]
  },
  {
   "cell_type": "code",
   "execution_count": null,
   "id": "hybrid-saturn",
   "metadata": {},
   "outputs": [],
   "source": []
  }
 ],
 "metadata": {
  "kernelspec": {
   "display_name": "Python 3",
   "language": "python",
   "name": "python3"
  },
  "language_info": {
   "codemirror_mode": {
    "name": "ipython",
    "version": 3
   },
   "file_extension": ".py",
   "mimetype": "text/x-python",
   "name": "python",
   "nbconvert_exporter": "python",
   "pygments_lexer": "ipython3",
   "version": "3.8.5"
  }
 },
 "nbformat": 4,
 "nbformat_minor": 5
}
