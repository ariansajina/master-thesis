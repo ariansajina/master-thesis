{
 "cells": [
  {
   "cell_type": "markdown",
   "id": "spoken-bones",
   "metadata": {},
   "source": [
    "### todo\n",
    "- need to check that timestamp is monotonically increasing\n",
    "- derive speech duration from timestamp (after checking and correcting if need be)\n",
    "- fill missing timestamps by taking time between the next ones, then allocating to ones in between with missing based on word/character count\n",
    "- [x] check speakers (then maybe exclude \"Computer\")\n",
    "- [x] clean \"[inaudible]\", \"[crosstalk]\", \"[foreign language]\", also (*)\n",
    "- check for special character to see for other things that need to be potentially cleaned\n"
   ]
  },
  {
   "cell_type": "markdown",
   "id": "running-wright",
   "metadata": {},
   "source": [
    "# speech preprocessing\n",
    "\n",
    "- lowercase everything\n",
    "- tokenization (words, punctuation)\n",
    "- parts of speech (noun, verb etc.)\n",
    "- lemmatization (thought -> think)\n",
    "- remove stopwords (a, the, etc)\n",
    "- pointwise mutual information (euro group -> euro_group)"
   ]
  },
  {
   "cell_type": "code",
   "execution_count": 15,
   "id": "adaptive-flooring",
   "metadata": {},
   "outputs": [],
   "source": [
    "import re\n",
    "import time\n",
    "\n",
    "import numpy as np\n",
    "import pandas as pd"
   ]
  },
  {
   "cell_type": "code",
   "execution_count": 2,
   "id": "unexpected-intervention",
   "metadata": {},
   "outputs": [],
   "source": [
    "#import nltk\n",
    "#nltk.download('stopwords')"
   ]
  },
  {
   "cell_type": "code",
   "execution_count": 3,
   "id": "thrown-glossary",
   "metadata": {
    "scrolled": true
   },
   "outputs": [
    {
     "data": {
      "text/html": [
       "<div>\n",
       "<style scoped>\n",
       "    .dataframe tbody tr th:only-of-type {\n",
       "        vertical-align: middle;\n",
       "    }\n",
       "\n",
       "    .dataframe tbody tr th {\n",
       "        vertical-align: top;\n",
       "    }\n",
       "\n",
       "    .dataframe thead th {\n",
       "        text-align: right;\n",
       "    }\n",
       "</style>\n",
       "<table border=\"1\" class=\"dataframe\">\n",
       "  <thead>\n",
       "    <tr style=\"text-align: right;\">\n",
       "      <th></th>\n",
       "      <th>speaker</th>\n",
       "      <th>speech</th>\n",
       "      <th>timestamp</th>\n",
       "      <th>date</th>\n",
       "    </tr>\n",
       "  </thead>\n",
       "  <tbody>\n",
       "    <tr>\n",
       "      <th>0</th>\n",
       "      <td>Jeroen Dijsselbloem</td>\n",
       "      <td>… of your responses or questions. And can I fi...</td>\n",
       "      <td>1900-01-01 00:00:00</td>\n",
       "      <td>2015-02-24 00:00:00</td>\n",
       "    </tr>\n",
       "    <tr>\n",
       "      <th>1</th>\n",
       "      <td>Speaker 2</td>\n",
       "      <td>Uh, yes, uh, thank you, Jeroen. Well, uh, comm...</td>\n",
       "      <td>1900-01-01 00:00:10</td>\n",
       "      <td>2015-02-24 00:00:00</td>\n",
       "    </tr>\n",
       "    <tr>\n",
       "      <th>2</th>\n",
       "      <td>Michael Noonan</td>\n",
       "      <td>Michael Noonan.</td>\n",
       "      <td>1900-01-01 00:01:27</td>\n",
       "      <td>2015-02-24 00:00:00</td>\n",
       "    </tr>\n",
       "    <tr>\n",
       "      <th>3</th>\n",
       "      <td>Speaker 2</td>\n",
       "      <td>Uh, it is therefore regrettable that, uh-</td>\n",
       "      <td>1900-01-01 00:01:29</td>\n",
       "      <td>2015-02-24 00:00:00</td>\n",
       "    </tr>\n",
       "    <tr>\n",
       "      <th>4</th>\n",
       "      <td>Speaker 3</td>\n",
       "      <td>Has entered the conference.</td>\n",
       "      <td>1900-01-01 00:01:33</td>\n",
       "      <td>2015-02-24 00:00:00</td>\n",
       "    </tr>\n",
       "  </tbody>\n",
       "</table>\n",
       "</div>"
      ],
      "text/plain": [
       "               speaker                                             speech  \\\n",
       "0  Jeroen Dijsselbloem  … of your responses or questions. And can I fi...   \n",
       "1            Speaker 2  Uh, yes, uh, thank you, Jeroen. Well, uh, comm...   \n",
       "2       Michael Noonan                                    Michael Noonan.   \n",
       "3            Speaker 2          Uh, it is therefore regrettable that, uh-   \n",
       "4            Speaker 3                        Has entered the conference.   \n",
       "\n",
       "             timestamp                 date  \n",
       "0  1900-01-01 00:00:00  2015-02-24 00:00:00  \n",
       "1  1900-01-01 00:00:10  2015-02-24 00:00:00  \n",
       "2  1900-01-01 00:01:27  2015-02-24 00:00:00  \n",
       "3  1900-01-01 00:01:29  2015-02-24 00:00:00  \n",
       "4  1900-01-01 00:01:33  2015-02-24 00:00:00  "
      ]
     },
     "execution_count": 3,
     "metadata": {},
     "output_type": "execute_result"
    }
   ],
   "source": [
    "df = pd.read_csv('data/euroleaks/prepared.csv')\n",
    "df.head()"
   ]
  },
  {
   "cell_type": "markdown",
   "id": "statutory-valve",
   "metadata": {},
   "source": [
    "## preliminary cleaning\n",
    "- make all speech lowercase\n",
    "- remove \"Has entered the conference.\"\n",
    "- remove speaker computer"
   ]
  },
  {
   "cell_type": "code",
   "execution_count": 4,
   "id": "patient-slovakia",
   "metadata": {},
   "outputs": [],
   "source": [
    "# lowercase speech\n",
    "df.speech = df.speech.apply(lambda s: s.lower())"
   ]
  },
  {
   "cell_type": "code",
   "execution_count": 5,
   "id": "auburn-strike",
   "metadata": {},
   "outputs": [],
   "source": [
    "# clean speaker\n",
    "\n",
    "# strip and make lowercase\n",
    "df.speaker = df.speaker.apply(lambda s: s.strip().lower() if not pd.isnull(s) else s)\n",
    "\n",
    "# handle missing (only one)\n",
    "df.speaker.loc[df.speaker.isnull()] = 'jeroen dijsselbloem'\n",
    "\n",
    "# drop transcription artifact speaker\n",
    "df = df[df.speaker != 'group']\n",
    "df = df[df.speaker != 'inaudible']\n",
    "\n",
    "# drop comuter generated speech\n",
    "df = df[df.speech != 'Has entered the conference.']\n",
    "\n",
    "# make names unique\n",
    "amend_names = {\n",
    "    'wolfgang schäuble': [\n",
    "        'wolfgang schäuble',\n",
    "        'wolfgang schauble',\n",
    "        'wolfgang'\n",
    "    ],\n",
    "    'peter kažimír': [\n",
    "        'peter kažimír',\n",
    "        'peter kazimir'\n",
    "    ],\n",
    "    'michel sapin': [\n",
    "        'michel sapin',\n",
    "        'michel'\n",
    "    ],\n",
    "    'maria luís albuquerque': [\n",
    "        'maria luís albuquerque',\n",
    "        'maria luís',\n",
    "        'maria luis albuquerque'\n",
    "    ],\n",
    "    'johan van overtveldt': [\n",
    "        'johan van overtveldt',\n",
    "        'johan'\n",
    "    ],\n",
    "    'benoît cœuré': [\n",
    "        'benoît cœuré',\n",
    "        'benoit couré',\n",
    "        'benoit cœuré'\n",
    "    ],\n",
    "    'hans jörg schelling': [\n",
    "        'hans jörg schelling',\n",
    "        'hans'\n",
    "    ],\n",
    "    'poul mathias thomsen': [\n",
    "        'paul thomsen',\n",
    "        'paul',\n",
    "        'poul thomsen'\n",
    "    ],\n",
    "    'yanis varoufakis': [\n",
    "        'yanis varoufakis',\n",
    "        'yanis varoufakis [privately]'\n",
    "    ],\n",
    "    'luis de guindos': [\n",
    "        'luis de guindos',\n",
    "        'luis'\n",
    "    ],\n",
    "    'irina': [\n",
    "        'irina',\n",
    "        'irana'\n",
    "    ],\n",
    "    'jānis reirs': [\n",
    "        'yanis [not varoufakis]'\n",
    "    ],\n",
    "    'luca antonio ricci': [\n",
    "        'ricci'\n",
    "    ],\n",
    "    'thomas steffen': [\n",
    "        'thomas'\n",
    "    ]\n",
    "}\n",
    "\n",
    "# invert dict\n",
    "amend_names_inv = {value: key for key,values in amend_names.items() for value in values}\n",
    "\n",
    "# amend speaker names\n",
    "df.speaker = df.speaker.apply(lambda s: amend_names_inv[s] if s in amend_names_inv.keys() else s)"
   ]
  },
  {
   "cell_type": "code",
   "execution_count": 6,
   "id": "according-senator",
   "metadata": {},
   "outputs": [
    {
     "data": {
      "text/html": [
       "<div>\n",
       "<style scoped>\n",
       "    .dataframe tbody tr th:only-of-type {\n",
       "        vertical-align: middle;\n",
       "    }\n",
       "\n",
       "    .dataframe tbody tr th {\n",
       "        vertical-align: top;\n",
       "    }\n",
       "\n",
       "    .dataframe thead th {\n",
       "        text-align: right;\n",
       "    }\n",
       "</style>\n",
       "<table border=\"1\" class=\"dataframe\">\n",
       "  <thead>\n",
       "    <tr style=\"text-align: right;\">\n",
       "      <th></th>\n",
       "      <th>speaker</th>\n",
       "      <th>speech</th>\n",
       "      <th>timestamp</th>\n",
       "      <th>date</th>\n",
       "    </tr>\n",
       "  </thead>\n",
       "  <tbody>\n",
       "    <tr>\n",
       "      <th>0</th>\n",
       "      <td>jeroen dijsselbloem</td>\n",
       "      <td>… of your responses or questions. and can i fi...</td>\n",
       "      <td>1900-01-01 00:00:00</td>\n",
       "      <td>2015-02-24 00:00:00</td>\n",
       "    </tr>\n",
       "    <tr>\n",
       "      <th>1</th>\n",
       "      <td>speaker 2</td>\n",
       "      <td>uh, yes, uh, thank you, jeroen. well, uh, comm...</td>\n",
       "      <td>1900-01-01 00:00:10</td>\n",
       "      <td>2015-02-24 00:00:00</td>\n",
       "    </tr>\n",
       "    <tr>\n",
       "      <th>2</th>\n",
       "      <td>michael noonan</td>\n",
       "      <td>michael noonan.</td>\n",
       "      <td>1900-01-01 00:01:27</td>\n",
       "      <td>2015-02-24 00:00:00</td>\n",
       "    </tr>\n",
       "    <tr>\n",
       "      <th>3</th>\n",
       "      <td>speaker 2</td>\n",
       "      <td>uh, it is therefore regrettable that, uh-</td>\n",
       "      <td>1900-01-01 00:01:29</td>\n",
       "      <td>2015-02-24 00:00:00</td>\n",
       "    </tr>\n",
       "    <tr>\n",
       "      <th>4</th>\n",
       "      <td>speaker 3</td>\n",
       "      <td>has entered the conference.</td>\n",
       "      <td>1900-01-01 00:01:33</td>\n",
       "      <td>2015-02-24 00:00:00</td>\n",
       "    </tr>\n",
       "  </tbody>\n",
       "</table>\n",
       "</div>"
      ],
      "text/plain": [
       "               speaker                                             speech  \\\n",
       "0  jeroen dijsselbloem  … of your responses or questions. and can i fi...   \n",
       "1            speaker 2  uh, yes, uh, thank you, jeroen. well, uh, comm...   \n",
       "2       michael noonan                                    michael noonan.   \n",
       "3            speaker 2          uh, it is therefore regrettable that, uh-   \n",
       "4            speaker 3                        has entered the conference.   \n",
       "\n",
       "             timestamp                 date  \n",
       "0  1900-01-01 00:00:00  2015-02-24 00:00:00  \n",
       "1  1900-01-01 00:00:10  2015-02-24 00:00:00  \n",
       "2  1900-01-01 00:01:27  2015-02-24 00:00:00  \n",
       "3  1900-01-01 00:01:29  2015-02-24 00:00:00  \n",
       "4  1900-01-01 00:01:33  2015-02-24 00:00:00  "
      ]
     },
     "execution_count": 6,
     "metadata": {},
     "output_type": "execute_result"
    }
   ],
   "source": [
    "df.head()"
   ]
  },
  {
   "cell_type": "markdown",
   "id": "finished-poison",
   "metadata": {},
   "source": [
    "## regex: remove paranthesis and brackets\n",
    "Numbers can be better filtered out using POS (parts of speech)."
   ]
  },
  {
   "cell_type": "code",
   "execution_count": 7,
   "id": "beneficial-watch",
   "metadata": {},
   "outputs": [
    {
     "data": {
      "text/plain": [
       "array(['[]', '[affirmative]', '[bang]', '[bonds]', '[crosstalk]',\n",
       "       '[french]', '[in]', '[inaudible]', '[laughs]', '[laughter]',\n",
       "       '[measures]', '[silence]'], dtype='<U13')"
      ]
     },
     "execution_count": 7,
     "metadata": {},
     "output_type": "execute_result"
    }
   ],
   "source": [
    "brackets = []\n",
    "\n",
    "for s in df.speech:\n",
    "    pattern = re.compile('\\[\\w*\\]')\n",
    "    found = pattern.search(s)\n",
    "    if found:\n",
    "        brackets.append(found.group())\n",
    "\n",
    "np.unique(brackets)"
   ]
  },
  {
   "cell_type": "code",
   "execution_count": 8,
   "id": "reported-physics",
   "metadata": {},
   "outputs": [
    {
     "data": {
      "text/plain": [
       "array(['(06:45)', '(07:36)', '(08:14)', '(09:08)', '(13:07)', '(21:35)',\n",
       "       '(22:25)', '(22:58)', '(29:07)', '(30:57)', '(35:39)',\n",
       "       '(affirmative)', '(crosstalk)', '(foreign [language)',\n",
       "       '(inaudible greetings)', '(inaudible)',\n",
       "       '(inaudible) and also the [bonds] recapitalization requirements for the new program, so when you combine the two facts {inaudible] this results (crosstalk 12:26)',\n",
       "       '(laughing)', '(laughs)', '(nse)', '(silence)'], dtype='<U160')"
      ]
     },
     "execution_count": 8,
     "metadata": {},
     "output_type": "execute_result"
    }
   ],
   "source": [
    "paranthesis = []\n",
    "\n",
    "for s in df.speech:\n",
    "    pattern = re.compile('\\(.*\\)')\n",
    "    found = pattern.search(s)\n",
    "    if found:\n",
    "        paranthesis.append(found.group())\n",
    "\n",
    "np.unique(paranthesis)"
   ]
  },
  {
   "cell_type": "code",
   "execution_count": 9,
   "id": "interim-daisy",
   "metadata": {},
   "outputs": [],
   "source": [
    "import re\n",
    "\n",
    "def remove_brackets(sentence):\n",
    "    brackets_ = re.compile('\\[.*\\]')\n",
    "    return re.sub(brackets_, '', sentence)\n",
    "\n",
    "def remove_paranthesis(sentence):\n",
    "    paranthesis_ = re.compile('\\(.*\\)')\n",
    "    return re.sub(paranthesis_, '', sentence)"
   ]
  },
  {
   "cell_type": "code",
   "execution_count": 10,
   "id": "initial-dominant",
   "metadata": {},
   "outputs": [],
   "source": [
    "df.speech = df.speech.apply(lambda s: remove_brackets(remove_paranthesis(s)))"
   ]
  },
  {
   "cell_type": "markdown",
   "id": "obvious-activity",
   "metadata": {},
   "source": [
    "## the \"aide memoire\" case\n",
    "This term proved to be important while investigating bigram collocations.\n",
    "\n",
    "https://en.wikipedia.org/wiki/Aide-m%C3%A9moire"
   ]
  },
  {
   "cell_type": "code",
   "execution_count": 11,
   "id": "twelve-sucking",
   "metadata": {},
   "outputs": [],
   "source": [
    "def aide_memoire(s):\n",
    "    \"\"\"Replaces all of:\n",
    "        'aid memoire'\n",
    "        'aide memoir'\n",
    "        'aide memoire'\n",
    "        'aide -memoire'\n",
    "        'aide-memoir'\n",
    "        'aide-memoire'\n",
    "    with 'aide memoire'.\n",
    "    \"\"\"\n",
    "    pattern = re.compile('(aide{0,1} {0,1}( |-)memoire{0,1})')\n",
    "    return re.sub(pattern, 'aide memoire', s)"
   ]
  },
  {
   "cell_type": "code",
   "execution_count": 12,
   "id": "laughing-truth",
   "metadata": {},
   "outputs": [],
   "source": [
    "df.speech = df.speech.apply(lambda s: aide_memoire(s))"
   ]
  },
  {
   "cell_type": "code",
   "execution_count": 13,
   "id": "adult-manufacturer",
   "metadata": {},
   "outputs": [],
   "source": [
    "df_prepared = df.copy()"
   ]
  },
  {
   "cell_type": "markdown",
   "id": "varied-latvia",
   "metadata": {},
   "source": [
    "## combine all speech to a single document"
   ]
  },
  {
   "cell_type": "code",
   "execution_count": 14,
   "id": "neither-syndicate",
   "metadata": {},
   "outputs": [],
   "source": [
    "# lower-case everything, combine to single string\n",
    "raw_doc = ' '.join(df.speech.apply(lambda s: s.lower()))"
   ]
  },
  {
   "cell_type": "code",
   "execution_count": null,
   "id": "handmade-marker",
   "metadata": {},
   "outputs": [],
   "source": [
    "len(raw_doc)"
   ]
  },
  {
   "cell_type": "markdown",
   "id": "inside-dress",
   "metadata": {},
   "source": [
    "## tokenization\n",
    "- https://spacy.io/models"
   ]
  },
  {
   "cell_type": "code",
   "execution_count": 16,
   "id": "fitted-fellow",
   "metadata": {},
   "outputs": [],
   "source": [
    "import spacy"
   ]
  },
  {
   "cell_type": "code",
   "execution_count": 18,
   "id": "recorded-branch",
   "metadata": {},
   "outputs": [
    {
     "name": "stdout",
     "output_type": "stream",
     "text": [
      "Time ttaken: 1.48 mins\n"
     ]
    }
   ],
   "source": [
    "nlp = spacy.load(\"en_core_web_sm\", exclude=[\"ner\"])\n",
    "\n",
    "t = time.time()\n",
    "doc = nlp(raw_doc) # takes a few minutes\n",
    "print(f'Time taken: {round((time.time() - t) / 60, 2)} mins')"
   ]
  },
  {
   "cell_type": "code",
   "execution_count": null,
   "id": "outstanding-pathology",
   "metadata": {},
   "outputs": [],
   "source": [
    "tokens = [[ token.text for token in sentence] for sentence in doc.sents]"
   ]
  },
  {
   "cell_type": "code",
   "execution_count": null,
   "id": "random-improvement",
   "metadata": {},
   "outputs": [],
   "source": [
    "#tokens[:5]"
   ]
  },
  {
   "cell_type": "code",
   "execution_count": null,
   "id": "cheap-tampa",
   "metadata": {},
   "outputs": [],
   "source": [
    "c = 0\n",
    "for t in tokens:\n",
    "    c += len(t)\n",
    "print(c)"
   ]
  },
  {
   "cell_type": "markdown",
   "id": "alternative-plumbing",
   "metadata": {},
   "source": [
    "## lemmatization and POS tagging"
   ]
  },
  {
   "cell_type": "code",
   "execution_count": null,
   "id": "stock-variation",
   "metadata": {},
   "outputs": [],
   "source": [
    "lemmas = [[token.lemma_ for token in sentence] for sentence in doc.sents]"
   ]
  },
  {
   "cell_type": "code",
   "execution_count": null,
   "id": "ready-protocol",
   "metadata": {},
   "outputs": [],
   "source": [
    "#lemmas"
   ]
  },
  {
   "cell_type": "code",
   "execution_count": null,
   "id": "opposed-portrait",
   "metadata": {},
   "outputs": [],
   "source": [
    "foo = [[(token.lemma_, token.pos_) for token in sentence] for sentence in doc.sents]"
   ]
  },
  {
   "cell_type": "code",
   "execution_count": null,
   "id": "coordinated-feelings",
   "metadata": {},
   "outputs": [],
   "source": [
    "for f in foo[1]:\n",
    "    print(f)"
   ]
  },
  {
   "cell_type": "markdown",
   "id": "environmental-impossible",
   "metadata": {},
   "source": [
    "## stopwords"
   ]
  },
  {
   "cell_type": "code",
   "execution_count": 19,
   "id": "dominican-district",
   "metadata": {},
   "outputs": [],
   "source": [
    "# make stopwords out of names\n",
    "stopnames = []\n",
    "\n",
    "for names in amend_names.values():\n",
    "    for name in names:\n",
    "        if not re.search('\\[.*\\]', name):\n",
    "            stopnames += name.split(' ')\n",
    "            \n",
    "for name in df.speaker.unique():\n",
    "    if 'speaker' not in name:\n",
    "        stopnames += name.split(' ')\n",
    "    \n",
    "stopnames = set(stopnames)"
   ]
  },
  {
   "cell_type": "code",
   "execution_count": null,
   "id": "floating-drama",
   "metadata": {},
   "outputs": [],
   "source": [
    "content = [[token.text for token in sentence if \n",
    "            not token.is_stop and\n",
    "            not token.text in stopnames\n",
    "           ] for sentence in doc.sents]"
   ]
  },
  {
   "cell_type": "code",
   "execution_count": null,
   "id": "liquid-concern",
   "metadata": {},
   "outputs": [],
   "source": [
    "c = 0\n",
    "for t in content:\n",
    "    c += len(t)\n",
    "print(c)"
   ]
  },
  {
   "cell_type": "code",
   "execution_count": null,
   "id": "portable-remark",
   "metadata": {},
   "outputs": [],
   "source": [
    "#content"
   ]
  },
  {
   "cell_type": "markdown",
   "id": "genuine-packing",
   "metadata": {},
   "source": [
    "## named entities"
   ]
  },
  {
   "cell_type": "code",
   "execution_count": null,
   "id": "voluntary-potato",
   "metadata": {},
   "outputs": [],
   "source": [
    "#entities = [[( entity.text , entity.label_)\n",
    "#    for entity in nlp(sentence.text).ents]\n",
    "#    for sentence in doc.sents]\n",
    "\n",
    "#entities"
   ]
  },
  {
   "cell_type": "markdown",
   "id": "happy-technical",
   "metadata": {},
   "source": [
    "## numbers\n",
    "If not important, then either leave out with POS or replace with regex."
   ]
  },
  {
   "cell_type": "code",
   "execution_count": null,
   "id": "fitted-shape",
   "metadata": {},
   "outputs": [],
   "source": [
    "import re\n",
    "\n",
    "numbers = re.compile('[0-9]')\n",
    "re.sub(numbers , '0', 'Back in the 90s, when I was a 12-year -old ,a CD cost just 15,99 EUR!')"
   ]
  },
  {
   "cell_type": "markdown",
   "id": "macro-ending",
   "metadata": {},
   "source": [
    "## pointwise mutual information (collocations)\n",
    "- https://www.nltk.org/howto/collocations.html\n",
    "- mi_like score: https://www.nltk.org/api/nltk.metrics.html#nltk.metrics.association.NgramAssocMeasures.mi_like"
   ]
  },
  {
   "cell_type": "code",
   "execution_count": 20,
   "id": "promotional-diamond",
   "metadata": {},
   "outputs": [],
   "source": [
    "def apply_trigram_colloc(s, set_colloc):\n",
    "    res = s.lower()\n",
    "    for b1,b2,b3 in set_colloc:\n",
    "        res = res.replace(f'{b1} {b2} {b3}', f'{b1}_{b2}_{b3}')\n",
    "    return res\n",
    "\n",
    "def apply_bigram_colloc(s, set_colloc):\n",
    "    res = s.lower()\n",
    "    for b1,b2 in set_colloc:\n",
    "        res = res.replace(f'{b1} {b2}', f'{b1}_{b2}')\n",
    "    return res"
   ]
  },
  {
   "cell_type": "markdown",
   "id": "found-highway",
   "metadata": {},
   "source": [
    "#### trigrams"
   ]
  },
  {
   "cell_type": "code",
   "execution_count": 21,
   "id": "random-saudi",
   "metadata": {},
   "outputs": [],
   "source": [
    "from nltk.collocations import TrigramCollocationFinder, TrigramAssocMeasures\n",
    "\n",
    "# needs to be a one-dim list\n",
    "# lemmatization, filter out punctuation and stop words\n",
    "words = [token.lemma_ for sentence in doc.sents for token in sentence\n",
    "            if token.pos_ in {'ADJ', 'ADV', 'NOUN', 'PROPN', 'VERB'}\n",
    "            and not token.is_stop\n",
    "            and not token.text in stopnames\n",
    "            and len(token.text) > 1 # for punctuation (but also 'I')\n",
    "        ]\n",
    "\n",
    "finder = TrigramCollocationFinder.from_words(words)\n",
    "\n",
    "# word might be highly correlated but very infrequent, ignore all with less than n occurances\n",
    "finder.apply_freq_filter(5)\n",
    "\n",
    "tgm = TrigramAssocMeasures()\n",
    "collocations = {trigram: pmi for trigram, pmi in finder.score_ngrams(tgm.mi_like)}"
   ]
  },
  {
   "cell_type": "code",
   "execution_count": null,
   "id": "stable-prague",
   "metadata": {
    "scrolled": true
   },
   "outputs": [],
   "source": [
    "collocations"
   ]
  },
  {
   "cell_type": "code",
   "execution_count": 22,
   "id": "interesting-redhead",
   "metadata": {},
   "outputs": [],
   "source": [
    "trigram_colloc = {('euro', 'working', 'group')}\n",
    "\n",
    "words = apply_trigram_colloc(' '.join(words), trigram_colloc).split(' ')"
   ]
  },
  {
   "cell_type": "markdown",
   "id": "amended-active",
   "metadata": {},
   "source": [
    "#### bigrams"
   ]
  },
  {
   "cell_type": "code",
   "execution_count": 23,
   "id": "atomic-uniform",
   "metadata": {},
   "outputs": [],
   "source": [
    "from nltk.collocations import BigramCollocationFinder, BigramAssocMeasures\n",
    "#from nltk.corpus import stopwords\n",
    "\n",
    "#stopwords_ = set(stopwords.words('english'))\n",
    "\n",
    "finder = BigramCollocationFinder.from_words(words)\n",
    "\n",
    "# word might be highly correlated but very infrequent, ignore all with less than n occurances\n",
    "finder.apply_freq_filter(5)\n",
    "\n",
    "bgm = BigramAssocMeasures()\n",
    "collocations = {bigram: pmi for bigram, pmi in finder.score_ngrams(bgm.mi_like)}"
   ]
  },
  {
   "cell_type": "code",
   "execution_count": 24,
   "id": "living-cache",
   "metadata": {
    "scrolled": false
   },
   "outputs": [],
   "source": [
    "#collocations"
   ]
  },
  {
   "cell_type": "code",
   "execution_count": 25,
   "id": "unavailable-cross",
   "metadata": {},
   "outputs": [
    {
     "data": {
      "text/plain": [
       "{('20th', 'february'),\n",
       " ('aide', 'memoire'),\n",
       " ('anti', 'corruption'),\n",
       " ('brussel', 'group'),\n",
       " ('capital', 'control'),\n",
       " ('central', 'bank'),\n",
       " ('collective', 'bargaining'),\n",
       " ('common', 'ground'),\n",
       " ('debt', 'sustainability'),\n",
       " ('enter', 'conference'),\n",
       " ('govern', 'council'),\n",
       " ('growth', 'friendly'),\n",
       " ('half', 'percent'),\n",
       " ('interest', 'rate'),\n",
       " ('labor', 'market'),\n",
       " ('little', 'bit'),\n",
       " ('maximum', 'flexibility'),\n",
       " ('member', 'state'),\n",
       " ('minimum', 'wage'),\n",
       " ('primary', 'surplus'),\n",
       " ('prime', 'minister'),\n",
       " ('prior', 'action'),\n",
       " ('product', 'market'),\n",
       " ('second', 'letter'),\n",
       " ('smp', 'bond'),\n",
       " ('structural', 'reform'),\n",
       " ('successful', 'conclusion'),\n",
       " ('technical', 'team'),\n",
       " ('thank', 'thank'),\n",
       " ('valid', 'starting')}"
      ]
     },
     "execution_count": 25,
     "metadata": {},
     "output_type": "execute_result"
    }
   ],
   "source": [
    "threshold = 1\n",
    "\n",
    "bigram_colloc_candidate = []\n",
    "for bigram, score in collocations.items():\n",
    "    if score > threshold:\n",
    "        bigram_colloc_candidate.append(bigram)\n",
    "    else:\n",
    "        break\n",
    "        \n",
    "bigram_colloc_candidate = set(bigram_colloc_candidate)\n",
    "bigram_colloc_candidate"
   ]
  },
  {
   "cell_type": "code",
   "execution_count": 26,
   "id": "modern-leather",
   "metadata": {},
   "outputs": [],
   "source": [
    "bigram_colloc = {\n",
    "    ('20th', 'february'),\n",
    "    ('aide', 'memoire'),\n",
    "    ('anti', 'corruption'),\n",
    "    ('brussel', 'group'),\n",
    "    ('capital', 'control'),\n",
    "    ('central', 'bank'),\n",
    "    ('collective', 'bargaining'),\n",
    "    ('common', 'ground'),\n",
    "    ('debt', 'sustainability'),\n",
    "    ('govern', 'council'),\n",
    "    ('growth', 'friendly'),\n",
    "    ('interest', 'rate'),\n",
    "    ('labor', 'market'),\n",
    "    ('maximum', 'flexibility'),\n",
    "    ('member', 'state'),\n",
    "    ('minimum', 'wage'),\n",
    "    ('primary', 'surplus'),\n",
    "    ('prime', 'minister'),\n",
    "    ('prior', 'action'),\n",
    "    ('product', 'market'),\n",
    "    ('second', 'letter'),\n",
    "    ('smp', 'bond'),\n",
    "    ('structural', 'reform'),\n",
    "    ('successful', 'conclusion'),\n",
    "    ('technical', 'team'),\n",
    "    ('real', 'estate')\n",
    "}\n",
    "\n",
    "words = apply_bigram_colloc(' '.join(words), bigram_colloc).split(' ')"
   ]
  },
  {
   "cell_type": "markdown",
   "id": "awful-reality",
   "metadata": {},
   "source": [
    "## consider doing token_POS so as to differentiate between eg. show_VERB and show_NOUN"
   ]
  },
  {
   "cell_type": "markdown",
   "id": "ordinary-pearl",
   "metadata": {},
   "source": [
    "## TF-IDF counts\n",
    "\n",
    "Interpretation: Words that are moderately frequent but occur\n",
    "in only a few documents get the highest score, and these words are what we\n",
    "are after.\n",
    "\n",
    "One document is one speech made by speaker.\n",
    "\n",
    "https://scikit-learn.org/stable/modules/generated/sklearn.feature_extraction.text.TfidfVectorizer.html#sklearn.feature_extraction.text.TfidfVectorizer"
   ]
  },
  {
   "cell_type": "code",
   "execution_count": 27,
   "id": "disturbed-scholarship",
   "metadata": {},
   "outputs": [],
   "source": [
    "# join speech of consecutive rows with same speaker\n",
    "\n",
    "df_squeezed = pd.DataFrame(columns=['speaker','speech','date'])\n",
    "\n",
    "previous_speaker = None\n",
    "speech = None\n",
    "previous_date = None\n",
    "\n",
    "for index, data in df.iterrows():\n",
    "    \n",
    "    if not previous_speaker and not speech and not previous_date:\n",
    "        previous_speaker = data.speaker\n",
    "        speech = data.speech\n",
    "        previous_date = data.date\n",
    "    elif data.speaker == previous_speaker and previous_date == data.date:\n",
    "        speech = ' '.join((speech, data.speech))\n",
    "    else:\n",
    "        df_squeezed.loc[len(df_squeezed.index)] = [\n",
    "            previous_speaker,\n",
    "            speech,\n",
    "            previous_date\n",
    "        ]\n",
    "        previous_speaker = data.speaker\n",
    "        speech = data.speech\n",
    "        previous_date = data.date"
   ]
  },
  {
   "cell_type": "code",
   "execution_count": 28,
   "id": "serial-vertex",
   "metadata": {},
   "outputs": [],
   "source": [
    "# lowercase\n",
    "raw_documents = df_squeezed.speech.apply(lambda s: s.lower()).to_numpy()\n",
    "\n",
    "#filter_POS = {'ADJ', 'ADV', 'NOUN', 'PROPN', 'VERB'}\n",
    "filter_POS = {'NOUN'}\n",
    "\n",
    "documents = [\n",
    "    ' '.join([f'{token.lemma_}_{token.pos_}' for sentence in nlp(doc).sents for token in sentence\n",
    "            if token.pos_ in filter_POS\n",
    "            and not token.is_stop\n",
    "            and not token.text in stopnames\n",
    "            and len(token.text) > 1\n",
    "    ])\n",
    "    for doc in raw_documents \n",
    "]"
   ]
  },
  {
   "cell_type": "code",
   "execution_count": 29,
   "id": "specialized-triple",
   "metadata": {},
   "outputs": [
    {
     "name": "stdout",
     "output_type": "stream",
     "text": [
      "There are 784 documents.\n"
     ]
    }
   ],
   "source": [
    "print(f'There are {len(documents)} documents.')"
   ]
  },
  {
   "cell_type": "code",
   "execution_count": 30,
   "id": "saved-slovak",
   "metadata": {},
   "outputs": [],
   "source": [
    "from sklearn.feature_extraction.text import TfidfVectorizer\n",
    "\n",
    "tfidf_vectorizer = TfidfVectorizer(analyzer='word',\n",
    "                                   min_df =0.001,\n",
    "                                   max_df =0.75,\n",
    "                                   #stop_words='english',\n",
    "                                   sublinear_tf=True)\n",
    "\n",
    "X = tfidf_vectorizer.fit_transform(documents)                                  "
   ]
  },
  {
   "cell_type": "code",
   "execution_count": 31,
   "id": "shared-wilderness",
   "metadata": {},
   "outputs": [],
   "source": [
    "idf = tfidf_vectorizer.idf_\n",
    "tfidf = X.sum(axis =0).A1"
   ]
  },
  {
   "cell_type": "code",
   "execution_count": 32,
   "id": "numerous-montreal",
   "metadata": {},
   "outputs": [],
   "source": [
    "# get tf\n",
    "from sklearn.feature_extraction.text import CountVectorizer\n",
    "\n",
    "count_vectorizer = CountVectorizer(analyzer='word',\n",
    "                                   min_df =0.001,\n",
    "                                   max_df =0.75)\n",
    "                                   #stop_words='english')\n",
    "\n",
    "X_ = count_vectorizer.fit_transform(documents)\n",
    "\n",
    "assert np.array_equal(\n",
    "    count_vectorizer.get_feature_names(),\n",
    "    tfidf_vectorizer.get_feature_names()\n",
    ")\n",
    "\n",
    "tf = X_.toarray().sum(axis=0)"
   ]
  },
  {
   "cell_type": "code",
   "execution_count": 33,
   "id": "hydraulic-breakfast",
   "metadata": {},
   "outputs": [
    {
     "data": {
      "image/png": "[encoded data removed]",
      "text/plain": [
       "<Figure size 864x504 with 1 Axes>"
      ]
     },
     "metadata": {
      "needs_background": "light"
     },
     "output_type": "display_data"
    }
   ],
   "source": [
    "import matplotlib.pyplot as plt\n",
    "\n",
    "fig, ax = plt.subplots(figsize=(12,7))\n",
    "ax.scatter(tfidf, idf, s=tf, edgecolors='black', label='tfidf')\n",
    "#ax.legend()\n",
    "ax.set_xlabel('tfidf')\n",
    "ax.set_ylabel('idf')\n",
    "ax.set_title('scatterplot of TFIDF and IDF values, scaled by TF')\n",
    "\n",
    "# annotate words with highest tfidf\n",
    "first_k = 10\n",
    "sort_ix = np.argsort(tfidf)[::-1]\n",
    "for ix in sort_ix[:first_k]:\n",
    "    s = tfidf_vectorizer.get_feature_names()[ix].split('_')[0]\n",
    "    jiggle_x = np.random.normal(0,0.1)\n",
    "    jiggle_y = np.random.normal(0,0.1)\n",
    "    ax.text(tfidf[ix]+jiggle_x, idf[ix]+jiggle_y, s)"
   ]
  },
  {
   "cell_type": "code",
   "execution_count": 34,
   "id": "mobile-flush",
   "metadata": {},
   "outputs": [
    {
     "data": {
      "text/plain": [
       "array(['question_noun', 'institution_noun', 'point_noun',\n",
       "       'colleague_noun', 'agreement_noun', 'proposal_noun',\n",
       "       'process_noun', 'meeting_noun', 'government_noun', 'time_noun'],\n",
       "      dtype='<U22')"
      ]
     },
     "execution_count": 34,
     "metadata": {},
     "output_type": "execute_result"
    }
   ],
   "source": [
    "np.array(tfidf_vectorizer.get_feature_names())[sort_ix][:10]"
   ]
  },
  {
   "cell_type": "markdown",
   "id": "combined-primary",
   "metadata": {},
   "source": [
    "## bag of words non-negative matrix factorization\n",
    "\n",
    "Maybe rather use it to visualize BOW (bag of words) for leaks vs communiques, where one document is either one leaked conference (df.groupby('date')) or one communique.\n",
    "\n",
    "But note the preprocessing: stopwords removed, filtered on POS, collocations..."
   ]
  },
  {
   "cell_type": "code",
   "execution_count": 520,
   "id": "pediatric-disease",
   "metadata": {},
   "outputs": [],
   "source": [
    "df = df_prepared.copy()\n",
    "# apply collocations\n",
    "df.speech = df.speech.apply(lambda s: apply_trigram_colloc(s, trigram_colloc))\n",
    "df.speech = df.speech.apply(lambda s: apply_bigram_colloc(s, bigram_colloc))"
   ]
  },
  {
   "cell_type": "code",
   "execution_count": 521,
   "id": "alive-christianity",
   "metadata": {},
   "outputs": [],
   "source": [
    "grouped = df.drop(columns=['timestamp','date']).groupby('speaker').apply(lambda s: ' '.join(s.speech))"
   ]
  },
  {
   "cell_type": "code",
   "execution_count": 522,
   "id": "hourly-orbit",
   "metadata": {},
   "outputs": [],
   "source": [
    "speakers = grouped.index"
   ]
  },
  {
   "cell_type": "code",
   "execution_count": 523,
   "id": "superior-least",
   "metadata": {},
   "outputs": [],
   "source": [
    "filter_POS = {'ADJ', 'ADV', 'NOUN', 'PROPN', 'VERB', 'ADP'}\n",
    "\n",
    "documents = [\n",
    "    ' '.join([f'{token.lemma_}_{token.pos_}' for sentence in nlp(doc).sents for token in sentence\n",
    "            if token.pos_ in filter_POS\n",
    "            and not token.is_stop\n",
    "            and not token.text in stopnames\n",
    "            and len(token.lemma_) > 1\n",
    "    ])\n",
    "    for doc in grouped.values \n",
    "]"
   ]
  },
  {
   "cell_type": "code",
   "execution_count": 524,
   "id": "bound-classics",
   "metadata": {},
   "outputs": [
    {
     "data": {
      "text/plain": [
       "3870"
      ]
     },
     "execution_count": 524,
     "metadata": {},
     "output_type": "execute_result"
    }
   ],
   "source": [
    "np.unique(' '.join(documents).split()).size"
   ]
  },
  {
   "cell_type": "code",
   "execution_count": 525,
   "id": "critical-grocery",
   "metadata": {},
   "outputs": [
    {
     "name": "stdout",
     "output_type": "stream",
     "text": [
      "(3856, 62)\n"
     ]
    }
   ],
   "source": [
    "from sklearn.feature_extraction.text import CountVectorizer\n",
    "\n",
    "count_vectorizer = CountVectorizer(analyzer='word',\n",
    "                                   min_df =0.001,\n",
    "                                   max_df =0.75)\n",
    "\n",
    "X = count_vectorizer.fit_transform(documents).T\n",
    "\n",
    "print(X.shape)"
   ]
  },
  {
   "cell_type": "code",
   "execution_count": 577,
   "id": "casual-ecology",
   "metadata": {},
   "outputs": [
    {
     "name": "stdout",
     "output_type": "stream",
     "text": [
      "W shape: (3856, 2)\n",
      "H shape: (2, 62)\n"
     ]
    }
   ],
   "source": [
    "from sklearn.decomposition import NMF\n",
    "\n",
    "nmf = NMF(n_components=2, init='nndsvd', random_state=0, max_iter=1000)\n",
    "W = nmf.fit_transform(X.toarray())\n",
    "H = nmf.components_\n",
    "\n",
    "print(f'W shape: {W.shape}\\nH shape: {H.shape}')"
   ]
  },
  {
   "cell_type": "code",
   "execution_count": 574,
   "id": "electric-breakdown",
   "metadata": {
    "scrolled": true
   },
   "outputs": [
    {
     "data": {
      "text/plain": [
       "Text(0.5, 1.0, 'bag of words NNMF')"
      ]
     },
     "execution_count": 574,
     "metadata": {},
     "output_type": "execute_result"
    },
    {
     "data": {
      "image/png": "[encoded data removed]",
      "text/plain": [
       "<Figure size 432x288 with 1 Axes>"
      ]
     },
     "metadata": {},
     "output_type": "display_data"
    }
   ],
   "source": [
    "fig, ax = plt.subplots()\n",
    "\n",
    "ax.scatter(H[0], H[1])\n",
    "\n",
    "outlier_x = np.argmax(H[0])\n",
    "outlier_y = np.argmax(H[1])\n",
    "\n",
    "jiggle = np.random.normal(0,0.5,2)\n",
    "ax.text(H[0][outlier_x]+jiggle[0], H[1][outlier_x]+jiggle[1], speakers[outlier_x])\n",
    "ax.text(H[0][outlier_y]+jiggle[0], H[1][outlier_y]+jiggle[1], speakers[outlier_y])\n",
    "\n",
    "ax.set_title('bag of words NNMF')"
   ]
  },
  {
   "cell_type": "code",
   "execution_count": 589,
   "id": "intellectual-nudist",
   "metadata": {},
   "outputs": [
    {
     "data": {
      "text/html": [
       "<div>\n",
       "<style scoped>\n",
       "    .dataframe tbody tr th:only-of-type {\n",
       "        vertical-align: middle;\n",
       "    }\n",
       "\n",
       "    .dataframe tbody tr th {\n",
       "        vertical-align: top;\n",
       "    }\n",
       "\n",
       "    .dataframe thead th {\n",
       "        text-align: right;\n",
       "    }\n",
       "</style>\n",
       "<table border=\"1\" class=\"dataframe\">\n",
       "  <thead>\n",
       "    <tr style=\"text-align: right;\">\n",
       "      <th></th>\n",
       "      <th>yanis varoufakis</th>\n",
       "      <th>jeroen dijsselbloem</th>\n",
       "    </tr>\n",
       "  </thead>\n",
       "  <tbody>\n",
       "    <tr>\n",
       "      <th>0</th>\n",
       "      <td>agree</td>\n",
       "      <td>agree</td>\n",
       "    </tr>\n",
       "    <tr>\n",
       "      <th>1</th>\n",
       "      <td>agreement</td>\n",
       "      <td>agreement</td>\n",
       "    </tr>\n",
       "    <tr>\n",
       "      <th>2</th>\n",
       "      <td>ask</td>\n",
       "      <td>ask</td>\n",
       "    </tr>\n",
       "    <tr>\n",
       "      <th>3</th>\n",
       "      <td>believe</td>\n",
       "      <td>authority</td>\n",
       "    </tr>\n",
       "    <tr>\n",
       "      <th>4</th>\n",
       "      <td>colleague</td>\n",
       "      <td>clear</td>\n",
       "    </tr>\n",
       "    <tr>\n",
       "      <th>5</th>\n",
       "      <td>come</td>\n",
       "      <td>colleague</td>\n",
       "    </tr>\n",
       "    <tr>\n",
       "      <th>6</th>\n",
       "      <td>eurogroup</td>\n",
       "      <td>come</td>\n",
       "    </tr>\n",
       "    <tr>\n",
       "      <th>7</th>\n",
       "      <td>go</td>\n",
       "      <td>conclusion</td>\n",
       "    </tr>\n",
       "    <tr>\n",
       "      <th>8</th>\n",
       "      <td>government</td>\n",
       "      <td>course</td>\n",
       "    </tr>\n",
       "    <tr>\n",
       "      <th>9</th>\n",
       "      <td>greece</td>\n",
       "      <td>eurogroup</td>\n",
       "    </tr>\n",
       "    <tr>\n",
       "      <th>10</th>\n",
       "      <td>institution</td>\n",
       "      <td>go</td>\n",
       "    </tr>\n",
       "    <tr>\n",
       "      <th>11</th>\n",
       "      <td>know</td>\n",
       "      <td>government</td>\n",
       "    </tr>\n",
       "    <tr>\n",
       "      <th>12</th>\n",
       "      <td>let</td>\n",
       "      <td>institution</td>\n",
       "    </tr>\n",
       "    <tr>\n",
       "      <th>13</th>\n",
       "      <td>like</td>\n",
       "      <td>issue</td>\n",
       "    </tr>\n",
       "    <tr>\n",
       "      <th>14</th>\n",
       "      <td>measure</td>\n",
       "      <td>know</td>\n",
       "    </tr>\n",
       "    <tr>\n",
       "      <th>15</th>\n",
       "      <td>mention</td>\n",
       "      <td>let</td>\n",
       "    </tr>\n",
       "    <tr>\n",
       "      <th>16</th>\n",
       "      <td>month</td>\n",
       "      <td>like</td>\n",
       "    </tr>\n",
       "    <tr>\n",
       "      <th>17</th>\n",
       "      <td>need</td>\n",
       "      <td>meeting</td>\n",
       "    </tr>\n",
       "    <tr>\n",
       "      <th>18</th>\n",
       "      <td>negotiation</td>\n",
       "      <td>minister</td>\n",
       "    </tr>\n",
       "    <tr>\n",
       "      <th>19</th>\n",
       "      <td>new</td>\n",
       "      <td>need</td>\n",
       "    </tr>\n",
       "    <tr>\n",
       "      <th>20</th>\n",
       "      <td>order</td>\n",
       "      <td>new</td>\n",
       "    </tr>\n",
       "    <tr>\n",
       "      <th>21</th>\n",
       "      <td>parliament</td>\n",
       "      <td>point</td>\n",
       "    </tr>\n",
       "    <tr>\n",
       "      <th>22</th>\n",
       "      <td>pension</td>\n",
       "      <td>political</td>\n",
       "    </tr>\n",
       "    <tr>\n",
       "      <th>23</th>\n",
       "      <td>people</td>\n",
       "      <td>process</td>\n",
       "    </tr>\n",
       "    <tr>\n",
       "      <th>24</th>\n",
       "      <td>point</td>\n",
       "      <td>program</td>\n",
       "    </tr>\n",
       "    <tr>\n",
       "      <th>25</th>\n",
       "      <td>process</td>\n",
       "      <td>proposal</td>\n",
       "    </tr>\n",
       "    <tr>\n",
       "      <th>26</th>\n",
       "      <td>program</td>\n",
       "      <td>question</td>\n",
       "    </tr>\n",
       "    <tr>\n",
       "      <th>27</th>\n",
       "      <td>proposal</td>\n",
       "      <td>say</td>\n",
       "    </tr>\n",
       "    <tr>\n",
       "      <th>28</th>\n",
       "      <td>propose</td>\n",
       "      <td>situation</td>\n",
       "    </tr>\n",
       "    <tr>\n",
       "      <th>29</th>\n",
       "      <td>question</td>\n",
       "      <td>statement</td>\n",
       "    </tr>\n",
       "    <tr>\n",
       "      <th>30</th>\n",
       "      <td>reform</td>\n",
       "      <td>term</td>\n",
       "    </tr>\n",
       "    <tr>\n",
       "      <th>31</th>\n",
       "      <td>say</td>\n",
       "      <td>thank</td>\n",
       "    </tr>\n",
       "    <tr>\n",
       "      <th>32</th>\n",
       "      <td>tax</td>\n",
       "      <td>think</td>\n",
       "    </tr>\n",
       "    <tr>\n",
       "      <th>33</th>\n",
       "      <td>thank</td>\n",
       "      <td>time</td>\n",
       "    </tr>\n",
       "    <tr>\n",
       "      <th>34</th>\n",
       "      <td>think</td>\n",
       "      <td>try</td>\n",
       "    </tr>\n",
       "    <tr>\n",
       "      <th>35</th>\n",
       "      <td>time</td>\n",
       "      <td>want</td>\n",
       "    </tr>\n",
       "    <tr>\n",
       "      <th>36</th>\n",
       "      <td>today</td>\n",
       "      <td>way</td>\n",
       "    </tr>\n",
       "    <tr>\n",
       "      <th>37</th>\n",
       "      <td>want</td>\n",
       "      <td>work</td>\n",
       "    </tr>\n",
       "    <tr>\n",
       "      <th>38</th>\n",
       "      <td>way</td>\n",
       "      <td>work</td>\n",
       "    </tr>\n",
       "  </tbody>\n",
       "</table>\n",
       "</div>"
      ],
      "text/plain": [
       "   yanis varoufakis jeroen dijsselbloem\n",
       "0             agree               agree\n",
       "1         agreement           agreement\n",
       "2               ask                 ask\n",
       "3           believe           authority\n",
       "4         colleague               clear\n",
       "5              come           colleague\n",
       "6         eurogroup                come\n",
       "7                go          conclusion\n",
       "8        government              course\n",
       "9            greece           eurogroup\n",
       "10      institution                  go\n",
       "11             know          government\n",
       "12              let         institution\n",
       "13             like               issue\n",
       "14          measure                know\n",
       "15          mention                 let\n",
       "16            month                like\n",
       "17             need             meeting\n",
       "18      negotiation            minister\n",
       "19              new                need\n",
       "20            order                 new\n",
       "21       parliament               point\n",
       "22          pension           political\n",
       "23           people             process\n",
       "24            point             program\n",
       "25          process            proposal\n",
       "26          program            question\n",
       "27         proposal                 say\n",
       "28          propose           situation\n",
       "29         question           statement\n",
       "30           reform                term\n",
       "31              say               thank\n",
       "32              tax               think\n",
       "33            thank                time\n",
       "34            think                 try\n",
       "35             time                want\n",
       "36            today                 way\n",
       "37             want                work\n",
       "38              way                work"
      ]
     },
     "execution_count": 589,
     "metadata": {},
     "output_type": "execute_result"
    }
   ],
   "source": [
    "df_outliers = pd.DataFrame({\n",
    "    speakers[np.argmax(H[0])]: [w.split('_')[0] for w in np.array(count_vectorizer.get_feature_names())[W[:,0] > np.percentile(W[:,0], 99)]],\n",
    "    speakers[np.argmax(H[1])]: [w.split('_')[0] for w in np.array(count_vectorizer.get_feature_names())[W[:,1] > np.percentile(W[:,1], 99)]]\n",
    "})\n",
    "\n",
    "df_outliers"
   ]
  },
  {
   "cell_type": "markdown",
   "id": "detailed-beverage",
   "metadata": {},
   "source": [
    "## word embeddings\n",
    "Modern embedding models define context as a local window to either\n",
    "side of the target word (not whole document).\n",
    "- word2vec (convention ndim=300)\n",
    "\n",
    "two main architectures:\n",
    "- **continuous bag of words** (CBOW): predict output word from input of context words (local neighbourhood)\n",
    "- **skipgram**: predit cintext word output from target word input\n",
    "\n",
    "Either used pretrained, train yourself from scratch, or transfer learning.\n",
    "\n",
    "When training, best to train multiple models on same data and average them.\n",
    "\n",
    "- also see doc2vec"
   ]
  },
  {
   "cell_type": "markdown",
   "id": "regional-signature",
   "metadata": {},
   "source": [
    "If we are interested\n",
    "in general societal attitudes, or if we have tiny data sets, these pretrained\n",
    "embeddings are a great starting point.\n",
    "In other cases, we might want to train embeddings on our corpus ourselves,\n",
    "to capture the **similarities which are specific to this data collection**. In the latter\n",
    "case, we can use the word2vec implementation in the gensim library."
   ]
  },
  {
   "cell_type": "code",
   "execution_count": 35,
   "id": "varying-clerk",
   "metadata": {},
   "outputs": [],
   "source": [
    "# apply collocations\n",
    "df.speech = df.speech.apply(lambda s: apply_trigram_colloc(s, trigram_colloc))\n",
    "df.speech = df.speech.apply(lambda s: apply_bigram_colloc(s, bigram_colloc))"
   ]
  },
  {
   "cell_type": "code",
   "execution_count": 36,
   "id": "respective-apparel",
   "metadata": {},
   "outputs": [],
   "source": [
    "# lower-case everything, combine to single string\n",
    "raw_doc = ' '.join(df.speech.apply(lambda s: s.lower()))"
   ]
  },
  {
   "cell_type": "code",
   "execution_count": 47,
   "id": "latin-parallel",
   "metadata": {},
   "outputs": [
    {
     "name": "stdout",
     "output_type": "stream",
     "text": [
      "Time taken: 1.69 mins\n"
     ]
    }
   ],
   "source": [
    "nlp = spacy.load(\"en_core_web_sm\")\n",
    "\n",
    "t = time.time()\n",
    "doc = nlp(raw_doc) # takes a few minutes\n",
    "print(f'Time taken: {round((time.time() - t) / 60, 2)} mins')"
   ]
  },
  {
   "cell_type": "code",
   "execution_count": 49,
   "id": "moderate-maldives",
   "metadata": {},
   "outputs": [],
   "source": [
    "#words_test = [token.lemma_ for sentence in doc.sents for token in sentence\n",
    "#            if token.pos_ in {'NUM'}\n",
    "#            and not token.is_stop\n",
    "#            and not token.text in stopnames\n",
    "#            and len(token.text) > 1 # for punctuation (but also 'I')\n",
    "#        ]\n",
    "#\n",
    "#words_test"
   ]
  },
  {
   "cell_type": "code",
   "execution_count": 50,
   "id": "solid-benchmark",
   "metadata": {},
   "outputs": [],
   "source": [
    "#for row in df.iterrows():\n",
    "#    if '20th_february' in row[1].speech:\n",
    "#        print(row[1].speaker)\n",
    "#        print(row[1].speech)\n",
    "#        print()"
   ]
  },
  {
   "cell_type": "code",
   "execution_count": 51,
   "id": "disciplinary-louisiana",
   "metadata": {},
   "outputs": [],
   "source": [
    "# list of lists of words\n",
    "corpus = [[f'{token.lemma_}_{token.pos_}' for token in sentence\n",
    "            if token.pos_ in {'ADJ', 'ADV', 'NOUN', 'PROPN', 'VERB', 'ADP'}\n",
    "            and not token.is_stop\n",
    "            and not token.text in stopnames\n",
    "            and len(token.text) > 1 # for punctuation (but also 'I')\n",
    "          ] for sentence in doc.sents\n",
    "        ]"
   ]
  },
  {
   "cell_type": "code",
   "execution_count": 141,
   "id": "suspected-radar",
   "metadata": {},
   "outputs": [
    {
     "name": "stdout",
     "output_type": "stream",
     "text": [
      "4554\n"
     ]
    }
   ],
   "source": [
    "print(len(corpus))"
   ]
  },
  {
   "cell_type": "code",
   "execution_count": 60,
   "id": "funded-practice",
   "metadata": {},
   "outputs": [
    {
     "data": {
      "text/plain": [
       "count    4554.000000\n",
       "mean        6.802591\n",
       "std         6.231276\n",
       "min         0.000000\n",
       "25%         2.000000\n",
       "50%         5.000000\n",
       "75%        10.000000\n",
       "max        57.000000\n",
       "dtype: float64"
      ]
     },
     "execution_count": 60,
     "metadata": {},
     "output_type": "execute_result"
    }
   ],
   "source": [
    "# check average number of words in sentence to inform choice of window size\n",
    "pd.Series([len(sent) for sent in corpus]).describe()"
   ]
  },
  {
   "cell_type": "code",
   "execution_count": 169,
   "id": "sitting-repeat",
   "metadata": {},
   "outputs": [],
   "source": [
    "from gensim.models import Word2Vec\n",
    "from gensim.models.word2vec import FAST_VERSION\n",
    "\n",
    "# initialize model\n",
    "w2v_model = Word2Vec(size =300,\n",
    "                    window=3,\n",
    "                    sample=1e-5,\n",
    "                    negative=5,\n",
    "                    min_count=10,\n",
    "                    #alpha=0.03,\n",
    "                    #min_alpha=0.000007,\n",
    "                    workers=-1,\n",
    "                    iter=10000\n",
    ")"
   ]
  },
  {
   "cell_type": "code",
   "execution_count": 170,
   "id": "genuine-figure",
   "metadata": {},
   "outputs": [],
   "source": [
    "w2v_model.build_vocab(corpus)"
   ]
  },
  {
   "cell_type": "code",
   "execution_count": 171,
   "id": "matched-toddler",
   "metadata": {},
   "outputs": [
    {
     "name": "stdout",
     "output_type": "stream",
     "text": [
      "Time taken: 1.41 mins\n"
     ]
    }
   ],
   "source": [
    "t = time.time()\n",
    "w2v_model.train(corpus, total_examples=w2v_model.corpus_count, epochs=w2v_model.epochs)\n",
    "print(f'Time taken: {round((time.time() - t) / 60, 2)} mins')"
   ]
  },
  {
   "cell_type": "code",
   "execution_count": 293,
   "id": "offensive-fleece",
   "metadata": {},
   "outputs": [
    {
     "name": "stdout",
     "output_type": "stream",
     "text": [
      "bond_NOUN\n"
     ]
    }
   ],
   "source": [
    "for word in w2v_model.wv.vocab.keys():\n",
    "    if 'bond' in word:\n",
    "        print(word)"
   ]
  },
  {
   "cell_type": "code",
   "execution_count": 297,
   "id": "developed-dining",
   "metadata": {},
   "outputs": [
    {
     "data": {
      "text/html": [
       "<div>\n",
       "<style scoped>\n",
       "    .dataframe tbody tr th:only-of-type {\n",
       "        vertical-align: middle;\n",
       "    }\n",
       "\n",
       "    .dataframe tbody tr th {\n",
       "        vertical-align: top;\n",
       "    }\n",
       "\n",
       "    .dataframe thead th {\n",
       "        text-align: right;\n",
       "    }\n",
       "</style>\n",
       "<table border=\"1\" class=\"dataframe\">\n",
       "  <thead>\n",
       "    <tr style=\"text-align: right;\">\n",
       "      <th></th>\n",
       "      <th>greece</th>\n",
       "      <th>institution</th>\n",
       "      <th>imf</th>\n",
       "      <th>ecb</th>\n",
       "      <th>commission</th>\n",
       "      <th>government</th>\n",
       "      <th>referendum</th>\n",
       "      <th>mou</th>\n",
       "      <th>debt</th>\n",
       "      <th>pension</th>\n",
       "      <th>bank</th>\n",
       "      <th>bond</th>\n",
       "    </tr>\n",
       "  </thead>\n",
       "  <tbody>\n",
       "    <tr>\n",
       "      <th>0</th>\n",
       "      <td>principle</td>\n",
       "      <td>fair</td>\n",
       "      <td>great</td>\n",
       "      <td>deal</td>\n",
       "      <td>sure</td>\n",
       "      <td>decide</td>\n",
       "      <td>call</td>\n",
       "      <td>call</td>\n",
       "      <td>direction</td>\n",
       "      <td>ahead</td>\n",
       "      <td>assistance</td>\n",
       "      <td>late</td>\n",
       "    </tr>\n",
       "    <tr>\n",
       "      <th>1</th>\n",
       "      <td>hour</td>\n",
       "      <td>imf</td>\n",
       "      <td>say</td>\n",
       "      <td>probably</td>\n",
       "      <td>possibility</td>\n",
       "      <td>recall</td>\n",
       "      <td>lose</td>\n",
       "      <td>long</td>\n",
       "      <td>summit</td>\n",
       "      <td>arrangement</td>\n",
       "      <td>good</td>\n",
       "      <td>rest</td>\n",
       "    </tr>\n",
       "    <tr>\n",
       "      <th>2</th>\n",
       "      <td>tax</td>\n",
       "      <td>focus</td>\n",
       "      <td>plan</td>\n",
       "      <td>well</td>\n",
       "      <td>recommend</td>\n",
       "      <td>union</td>\n",
       "      <td>clearly</td>\n",
       "      <td>make</td>\n",
       "      <td>mean</td>\n",
       "      <td>funding</td>\n",
       "      <td>lack</td>\n",
       "      <td>effect</td>\n",
       "    </tr>\n",
       "    <tr>\n",
       "      <th>3</th>\n",
       "      <td>possibly</td>\n",
       "      <td>legislation</td>\n",
       "      <td>commission</td>\n",
       "      <td>right</td>\n",
       "      <td>imf</td>\n",
       "      <td>true</td>\n",
       "      <td>moment</td>\n",
       "      <td>start</td>\n",
       "      <td>confirm</td>\n",
       "      <td>begin</td>\n",
       "      <td>effect</td>\n",
       "      <td>stage</td>\n",
       "    </tr>\n",
       "    <tr>\n",
       "      <th>4</th>\n",
       "      <td>press</td>\n",
       "      <td>deposit</td>\n",
       "      <td>mandate</td>\n",
       "      <td>work</td>\n",
       "      <td>service</td>\n",
       "      <td>politically</td>\n",
       "      <td>improve</td>\n",
       "      <td>raise</td>\n",
       "      <td>relate</td>\n",
       "      <td>convergence</td>\n",
       "      <td>common</td>\n",
       "      <td>year</td>\n",
       "    </tr>\n",
       "    <tr>\n",
       "      <th>5</th>\n",
       "      <td>create</td>\n",
       "      <td>plan</td>\n",
       "      <td>impossible</td>\n",
       "      <td>have</td>\n",
       "      <td>consequence</td>\n",
       "      <td>instead</td>\n",
       "      <td>bit</td>\n",
       "      <td>word</td>\n",
       "      <td>concern</td>\n",
       "      <td>concern</td>\n",
       "      <td>briefly</td>\n",
       "      <td>maintain</td>\n",
       "    </tr>\n",
       "    <tr>\n",
       "      <th>6</th>\n",
       "      <td>meet</td>\n",
       "      <td>system</td>\n",
       "      <td>benefit</td>\n",
       "      <td>point</td>\n",
       "      <td>undertake</td>\n",
       "      <td>fund</td>\n",
       "      <td>proceed</td>\n",
       "      <td>feel</td>\n",
       "      <td>meeting</td>\n",
       "      <td>maybe</td>\n",
       "      <td>set</td>\n",
       "      <td>commitment</td>\n",
       "    </tr>\n",
       "    <tr>\n",
       "      <th>7</th>\n",
       "      <td>recessionary</td>\n",
       "      <td>parliament</td>\n",
       "      <td>minute</td>\n",
       "      <td>hour</td>\n",
       "      <td>govern</td>\n",
       "      <td>compare</td>\n",
       "      <td>carry</td>\n",
       "      <td>one</td>\n",
       "      <td>talk</td>\n",
       "      <td>try</td>\n",
       "      <td>right</td>\n",
       "      <td>second</td>\n",
       "    </tr>\n",
       "    <tr>\n",
       "      <th>8</th>\n",
       "      <td>look</td>\n",
       "      <td>eurogroup</td>\n",
       "      <td>arrangement</td>\n",
       "      <td>nominal</td>\n",
       "      <td>bill</td>\n",
       "      <td>monetary</td>\n",
       "      <td>procedure</td>\n",
       "      <td>stance</td>\n",
       "      <td>long</td>\n",
       "      <td>maintain</td>\n",
       "      <td>respond</td>\n",
       "      <td>economy</td>\n",
       "    </tr>\n",
       "    <tr>\n",
       "      <th>9</th>\n",
       "      <td>crisis</td>\n",
       "      <td>commitment</td>\n",
       "      <td>collect</td>\n",
       "      <td>concrete</td>\n",
       "      <td>old</td>\n",
       "      <td>cover</td>\n",
       "      <td>measure</td>\n",
       "      <td>month</td>\n",
       "      <td>sufficiently</td>\n",
       "      <td>approach</td>\n",
       "      <td>sure</td>\n",
       "      <td>area</td>\n",
       "    </tr>\n",
       "  </tbody>\n",
       "</table>\n",
       "</div>"
      ],
      "text/plain": [
       "         greece  institution          imf       ecb   commission   government  \\\n",
       "0     principle         fair        great      deal         sure       decide   \n",
       "1          hour          imf          say  probably  possibility       recall   \n",
       "2           tax        focus         plan      well    recommend        union   \n",
       "3      possibly  legislation   commission     right          imf         true   \n",
       "4         press      deposit      mandate      work      service  politically   \n",
       "5        create         plan   impossible      have  consequence      instead   \n",
       "6          meet       system      benefit     point    undertake         fund   \n",
       "7  recessionary   parliament       minute      hour       govern      compare   \n",
       "8          look    eurogroup  arrangement   nominal         bill     monetary   \n",
       "9        crisis   commitment      collect  concrete          old        cover   \n",
       "\n",
       "  referendum     mou          debt      pension        bank        bond  \n",
       "0       call    call     direction        ahead  assistance        late  \n",
       "1       lose    long        summit  arrangement        good        rest  \n",
       "2    clearly    make          mean      funding        lack      effect  \n",
       "3     moment   start       confirm        begin      effect       stage  \n",
       "4    improve   raise        relate  convergence      common        year  \n",
       "5        bit    word       concern      concern     briefly    maintain  \n",
       "6    proceed    feel       meeting        maybe         set  commitment  \n",
       "7      carry     one          talk          try       right      second  \n",
       "8  procedure  stance          long     maintain     respond     economy  \n",
       "9    measure   month  sufficiently     approach        sure        area  "
      ]
     },
     "execution_count": 297,
     "metadata": {},
     "output_type": "execute_result"
    }
   ],
   "source": [
    "keywords = [\n",
    "    'greece_NOUN',\n",
    "    'institution_NOUN',\n",
    "    'imf_NOUN',\n",
    "    'ecb_NOUN',\n",
    "    'commission_NOUN',\n",
    "    'government_NOUN',\n",
    "    'referendum_NOUN',\n",
    "    'mou_NOUN',\n",
    "    'debt_NOUN',\n",
    "    'debt_sustainability_NOUN',\n",
    "    'pension_NOUN',\n",
    "    'bank_NOUN',\n",
    "    'bond_NOUN'\n",
    "]\n",
    "\n",
    "df_closest = pd.DataFrame({word.split('_')[0]: [n.split('_')[0] for n,score in w2v_model.wv.most_similar(word)] for word in keywords})\n",
    "df_closest"
   ]
  },
  {
   "cell_type": "code",
   "execution_count": 298,
   "id": "after-phone",
   "metadata": {},
   "outputs": [],
   "source": [
    "word1 = \"greece_NOUN\"\n",
    "word2 = \"accept_VERB\"\n",
    "\n",
    "# retrive the actual vector\n",
    "#w2v_model.wv[word1]\n",
    "\n",
    "# compare\n",
    "#w2v_model.wv.similarity(word1 , word2)\n",
    "\n",
    "# get the 3 most similar words\n",
    "#w2v_model.wv.most_similar(positive=[word1])"
   ]
  },
  {
   "cell_type": "markdown",
   "id": "martial-meeting",
   "metadata": {},
   "source": [
    "### PCA + t-SNE visualization"
   ]
  },
  {
   "cell_type": "code",
   "execution_count": 176,
   "id": "north-buying",
   "metadata": {},
   "outputs": [],
   "source": [
    "import numpy as np\n",
    "import matplotlib.pyplot as plt\n",
    "%matplotlib inline\n",
    " \n",
    "import seaborn as sns\n",
    "sns.set_style(\"darkgrid\")\n",
    "\n",
    "from sklearn.decomposition import PCA\n",
    "from sklearn.manifold import TSNE"
   ]
  },
  {
   "cell_type": "code",
   "execution_count": 306,
   "id": "seven-release",
   "metadata": {},
   "outputs": [],
   "source": [
    "def tsnescatterplot(model, word1, word2, colors):\n",
    "    \"\"\" Plot in seaborn the results from the t-SNE dimensionality reduction algorithm of the vectors of a query word,\n",
    "    its list of most similar words, and a list of words.\n",
    "    \"\"\"\n",
    "    arrays = np.empty((0, 300), dtype='f')\n",
    "    \n",
    "    # word1\n",
    "    word_labels = [word1]\n",
    "    color_list  = [colors[0]]\n",
    "    # adds the vector of the query word\n",
    "    arrays = np.append(arrays, model.wv.__getitem__([word1]), axis=0)\n",
    "    \n",
    "    # closest of word1\n",
    "    close_words = model.wv.most_similar([word1])\n",
    "    \n",
    "    # adds the vector for each of the closest words to the array\n",
    "    for wrd_score in close_words:\n",
    "        wrd_vector = model.wv.__getitem__([wrd_score[0]])\n",
    "        word_labels.append(wrd_score[0])\n",
    "        color_list.append(colors[1])\n",
    "        arrays = np.append(arrays, wrd_vector, axis=0)\n",
    "        \n",
    "    # word2\n",
    "    word_labels.append(word2)\n",
    "    color_list.append(colors[2])\n",
    "    # adds the vector of the query word\n",
    "    arrays = np.append(arrays, model.wv.__getitem__([word2]), axis=0)\n",
    "    \n",
    "    # closest of word2\n",
    "    close_words = model.wv.most_similar([word2])\n",
    "    \n",
    "    # adds the vector for each of the closest words to the array\n",
    "    for wrd_score in close_words:\n",
    "        wrd_vector = model.wv.__getitem__([wrd_score[0]])\n",
    "        # special color if both search words share closest\n",
    "        if wrd_score[0] in word_labels:\n",
    "            color_list.append(colors[-1])\n",
    "        else:\n",
    "            color_list.append(colors[3])\n",
    "        word_labels.append(wrd_score[0])\n",
    "        arrays = np.append(arrays, wrd_vector, axis=0)\n",
    "        \n",
    "    print(arrays.shape)\n",
    "    # Reduces the dimensionality from 300 to 50 dimensions with PCA\n",
    "    pca = PCA(n_components=2)\n",
    "    reduc = pca.fit_transform(arrays)\n",
    "    #print('Explained variation per principal component: {}'.format(pca.explained_variance_ratio_))\n",
    "    print(reduc.shape)\n",
    "    \n",
    "    # Finds t-SNE coordinates for 2 dimensions\n",
    "    np.set_printoptions(suppress=True)\n",
    "    \n",
    "    Y = TSNE(n_components=2, perplexity=15, n_iter=20000).fit_transform(reduc)\n",
    "    print(Y.shape)\n",
    "    \n",
    "    # Sets everything up to plot\n",
    "    df = pd.DataFrame({'x': [x for x in Y[:, 0]],\n",
    "                       'y': [y for y in Y[:, 1]],\n",
    "                       'words': word_labels,\n",
    "                       'color': color_list})\n",
    "    \n",
    "    fig, _ = plt.subplots()\n",
    "    fig.set_size_inches(12, 12)\n",
    "    \n",
    "    # Basic plot\n",
    "    p1 = sns.regplot(data=df,\n",
    "                     x=\"x\",\n",
    "                     y=\"y\",\n",
    "                     fit_reg=False,\n",
    "                     marker=\"o\",\n",
    "                     scatter_kws={'s': 40,\n",
    "                                  'facecolors': df['color']\n",
    "                                 }\n",
    "                    )\n",
    "    \n",
    "    # Adds annotations one by one with a loop\n",
    "    for line in range(0, df.shape[0]):\n",
    "         p1.text(df[\"x\"][line],\n",
    "                 df['y'][line],\n",
    "                 '  ' + df[\"words\"][line].split('_')[0],\n",
    "                 horizontalalignment='left',\n",
    "                 verticalalignment='bottom', size='medium',\n",
    "                 color=df['color'][line],\n",
    "                 weight='normal'\n",
    "                ).set_size(15)\n",
    "\n",
    "    \n",
    "    plt.xlim(Y[:, 0].min()-50, Y[:, 0].max()+50)\n",
    "    plt.ylim(Y[:, 1].min()-50, Y[:, 1].max()+50)\n",
    "            \n",
    "    plt.title(f't-SNE visualization for closest neighbors of {word1.split(\"_\")[0]} and {word2.split(\"_\")[0]}')"
   ]
  },
  {
   "cell_type": "code",
   "execution_count": 424,
   "id": "military-courage",
   "metadata": {},
   "outputs": [],
   "source": [
    "colors = np.array(sns.color_palette(\"hls\", 8))[np.array([0,1,6,7,4])]"
   ]
  },
  {
   "cell_type": "code",
   "execution_count": 308,
   "id": "approved-europe",
   "metadata": {},
   "outputs": [
    {
     "name": "stdout",
     "output_type": "stream",
     "text": [
      "(22, 300)\n",
      "(22, 2)\n",
      "(22, 2)\n"
     ]
    },
    {
     "data": {
      "image/png": "[encoded data removed]",
      "text/plain": [
       "<Figure size 864x864 with 1 Axes>"
      ]
     },
     "metadata": {},
     "output_type": "display_data"
    }
   ],
   "source": [
    "tsnescatterplot(w2v_model, 'greece_NOUN', 'institution_NOUN', colors=colors)"
   ]
  },
  {
   "cell_type": "markdown",
   "id": "extra-transition",
   "metadata": {},
   "source": [
    "## document embeddings\n",
    "Document = speaker."
   ]
  },
  {
   "cell_type": "code",
   "execution_count": 479,
   "id": "utility-parker",
   "metadata": {},
   "outputs": [],
   "source": [
    "df = df_prepared.copy()\n",
    "# apply collocations\n",
    "df.speech = df.speech.apply(lambda s: apply_trigram_colloc(s, trigram_colloc))\n",
    "df.speech = df.speech.apply(lambda s: apply_bigram_colloc(s, bigram_colloc))"
   ]
  },
  {
   "cell_type": "code",
   "execution_count": 480,
   "id": "everyday-ordinance",
   "metadata": {},
   "outputs": [],
   "source": [
    "# missing:\n",
    "# estonia (Maris Lauri, Sven Sester)\n",
    "# luxembourg (Pierre Gramegna)\n",
    "\n",
    "\n",
    "speaker_to_entity = {\n",
    "    'jeroen dijsselbloem': 'eurogroup president', # the netherlands\n",
    "    'michael noonan': 'ireland',\n",
    "    'pierre moscovici': 'european commission',\n",
    "    'mario draghi': 'ecb',\n",
    "    'wolfgang schäuble': 'germany',\n",
    "    'thomas steffen': 'germany', # State Secretary at the Federal Ministry of Finance under Schauble\n",
    "    'christine lagarde': 'imf',\n",
    "    'yanis varoufakis': 'greece',\n",
    "    'luis de guindos': 'spain',\n",
    "    'maria luís albuquerque': 'portugal',\n",
    "    'marco buti': 'european commission',\n",
    "    'thomas wieser': 'efc', # economic and financial committee\n",
    "    'declan costello': 'european commission', #dg ecfin\n",
    "    'benoît cœuré': 'ecb',\n",
    "    'poul mathias thomsen': 'imf',\n",
    "    'greek representative': 'greece',\n",
    "    'nikos theocarakis': 'greece',\n",
    "    'hans jörg schelling': 'austria',\n",
    "    'klaus regling': 'esm', # head of european stability mechanism\n",
    "    'peter kažimír': 'slovakia',\n",
    "    'dušan mramor': 'slovenia',\n",
    "    'michel sapin': 'france',\n",
    "    'translator': 'france',\n",
    "    'pier carlo padoan': 'italy',\n",
    "    'edward scicluna': 'malta',\n",
    "    'rimantas šadžius': 'lithuania',\n",
    "    'alexander stubb': 'finland', # from May 29\n",
    "    'tooma': 'finland', # based on saying they have two and a half weeks until elections on April 1\n",
    "    'johan van overtveldt': 'belgium',\n",
    "    'harris georgiades': 'cyprus',\n",
    "    'luis pierre': 'european commission',\n",
    "    'jānis reirs': 'latvia',\n",
    "    'luca antonio ricci': 'imf'\n",
    "}\n",
    "\n",
    "# add column for entity, label unassigned as unknown\n",
    "df['entity'] = df.speaker.apply(lambda s: speaker_to_entity[s] if s in speaker_to_entity.keys() else 'unkown')"
   ]
  },
  {
   "cell_type": "code",
   "execution_count": 481,
   "id": "assumed-chosen",
   "metadata": {},
   "outputs": [],
   "source": [
    "grouped = df.drop(columns=['timestamp','date','speaker']).groupby('entity').apply(lambda s: ' '.join(s.speech))"
   ]
  },
  {
   "cell_type": "code",
   "execution_count": 482,
   "id": "occupational-drink",
   "metadata": {},
   "outputs": [],
   "source": [
    "#grouped = df.drop(columns=['timestamp','date', 'entity']).groupby('speaker').apply(lambda s: ' '.join(s.speech))"
   ]
  },
  {
   "cell_type": "code",
   "execution_count": 483,
   "id": "monetary-video",
   "metadata": {},
   "outputs": [],
   "source": [
    "from gensim.models import Doc2Vec\n",
    "from gensim.models.doc2vec import TaggedDocument\n",
    "\n",
    "nlp = spacy.load(\"en_core_web_sm\")\n",
    "\n",
    "documents = []\n",
    "\n",
    "for entity, text in grouped.iteritems():\n",
    "    \n",
    "    doc = nlp(text)\n",
    "    \n",
    "    doc_ = [f'{token.lemma_}_{token.pos_}' for sentence in doc.sents for token in sentence\n",
    "                if token.pos_ in {'ADJ', 'ADV', 'NOUN', 'PROPN', 'VERB', 'ADP'}\n",
    "                and not token.is_stop\n",
    "                and not token.text in stopnames\n",
    "                and len(token.text) > 1 # for punctuation (but also 'I')\n",
    "            ]\n",
    "    \n",
    "    documents.append(TaggedDocument(doc_, tags=[entity]))"
   ]
  },
  {
   "cell_type": "code",
   "execution_count": 484,
   "id": "material-permission",
   "metadata": {},
   "outputs": [],
   "source": [
    "d2v_model = Doc2Vec(vector_size=300,\n",
    "                    window=3,\n",
    "                    sample=1e-5,\n",
    "                    negative=5,\n",
    "                    min_count=10,\n",
    "                    #alpha=0.03,\n",
    "                    #min_alpha=0.000007,\n",
    "                    workers=-1,\n",
    "                    epochs=10000,\n",
    "                    dm=0,\n",
    "                    dbow_words=1\n",
    ")"
   ]
  },
  {
   "cell_type": "code",
   "execution_count": 485,
   "id": "recognized-register",
   "metadata": {},
   "outputs": [],
   "source": [
    "d2v_model.build_vocab(documents)"
   ]
  },
  {
   "cell_type": "code",
   "execution_count": 486,
   "id": "ready-nomination",
   "metadata": {},
   "outputs": [],
   "source": [
    "d2v_model.train(documents, total_examples=d2v_model.corpus_count, epochs=d2v_model.epochs)"
   ]
  },
  {
   "cell_type": "code",
   "execution_count": 487,
   "id": "bigger-baltimore",
   "metadata": {},
   "outputs": [
    {
     "name": "stdout",
     "output_type": "stream",
     "text": [
      "There are 23 entities\n"
     ]
    }
   ],
   "source": [
    "print(f'There are {grouped.index.size} entities')"
   ]
  },
  {
   "cell_type": "code",
   "execution_count": 488,
   "id": "hidden-scout",
   "metadata": {},
   "outputs": [
    {
     "name": "stdout",
     "output_type": "stream",
     "text": [
      "(23, 21)\n"
     ]
    },
    {
     "data": {
      "image/png": "[encoded data removed]",
      "text/plain": [
       "<Figure size 648x648 with 1 Axes>"
      ]
     },
     "metadata": {},
     "output_type": "display_data"
    }
   ],
   "source": [
    "labels = grouped.index\n",
    "arrays = np.empty((0, 300), dtype='f')\n",
    "\n",
    "for label in labels:\n",
    "    #print(d2v_model.docvecs[label].shape)\n",
    "    arrays = np.append(arrays, d2v_model.docvecs[label].reshape((1,300)), axis=0)\n",
    "    \n",
    "pca = PCA(n_components=0.95)\n",
    "reduc = pca.fit_transform(arrays)\n",
    "print(reduc.shape)\n",
    "#print('Explained variation per principal component: {}'.format(pca.explained_variance_ratio_))\n",
    "\n",
    "\n",
    "# CLUSTERING\n",
    "from sklearn.cluster import KMeans\n",
    "km = KMeans(n_clusters=2, max_iter=1000)\n",
    "clusters = km.fit_predict(reduc)\n",
    "centroids = km.cluster_centers_\n",
    "\n",
    "color_palette = np.array(sns.color_palette(\"hls\", 8))[np.array([0,5])]\n",
    "colors = list(color_palette[clusters])\n",
    "    \n",
    "# Finds t-SNE coordinates for 2 dimensions\n",
    "np.set_printoptions(suppress=True)\n",
    "    \n",
    "Y = TSNE(n_components=2, perplexity=15, n_iter=20000).fit_transform(reduc)\n",
    "    \n",
    "# Sets everything up to plot\n",
    "df = pd.DataFrame({'x': [x for x in Y[:, 0]],\n",
    "                    'y': [y for y in Y[:, 1]],\n",
    "                    'words': labels,\n",
    "                    'color': colors})\n",
    "    \n",
    "fig, _ = plt.subplots()\n",
    "fig.set_size_inches(9, 9)\n",
    "    \n",
    "# Basic plot\n",
    "p1 = sns.regplot(data=df,\n",
    "                     x=\"x\",\n",
    "                     y=\"y\",\n",
    "                     fit_reg=False,\n",
    "                     marker=\"o\",\n",
    "                     scatter_kws={'s': 40,\n",
    "                                  'facecolors': df['color']\n",
    "                        }\n",
    "                    )\n",
    "    \n",
    "# Adds annotations one by one with a loop\n",
    "for line in range(0, df.shape[0]):\n",
    "     p1.text(df[\"x\"][line],\n",
    "             df['y'][line],\n",
    "             '  ' + df[\"words\"][line],\n",
    "             horizontalalignment='left',\n",
    "             verticalalignment='bottom', size='medium',\n",
    "             color=df['color'][line],\n",
    "             weight='normal'\n",
    "            ).set_size(15)\n",
    "\n",
    "    \n",
    "#plt.xlim(Y[:, 0].min()-50, Y[:, 0].max()+50)\n",
    "#plt.ylim(Y[:, 1].min()-50, Y[:, 1].max()+50)\n",
    "            \n",
    "#plt.title(f't-SNE visualization for closest neighbors of {word1.split(\"_\")[0]} and {word2.split(\"_\")[0]}')"
   ]
  },
  {
   "cell_type": "code",
   "execution_count": null,
   "id": "involved-murder",
   "metadata": {},
   "outputs": [],
   "source": []
  },
  {
   "cell_type": "markdown",
   "id": "interesting-producer",
   "metadata": {},
   "source": [
    "# communiques"
   ]
  },
  {
   "cell_type": "code",
   "execution_count": null,
   "id": "historic-climate",
   "metadata": {},
   "outputs": [],
   "source": [
    "pd.read_csv('data/communiques/prepared.csv').sort_values(by='date').reset_index(drop=True)"
   ]
  },
  {
   "cell_type": "code",
   "execution_count": null,
   "id": "hybrid-saturn",
   "metadata": {},
   "outputs": [],
   "source": []
  }
 ],
 "metadata": {
  "kernelspec": {
   "display_name": "Python 3",
   "language": "python",
   "name": "python3"
  },
  "language_info": {
   "codemirror_mode": {
    "name": "ipython",
    "version": 3
   },
   "file_extension": ".py",
   "mimetype": "text/x-python",
   "name": "python",
   "nbconvert_exporter": "python",
   "pygments_lexer": "ipython3",
   "version": "3.8.5"
  }
 },
 "nbformat": 4,
 "nbformat_minor": 5
}
