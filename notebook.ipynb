{
 "cells": [
  {
   "cell_type": "markdown",
   "id": "spoken-bones",
   "metadata": {},
   "source": [
    "### todo\n",
    "- need to check that timestamp is monotonically increasing\n",
    "- derive speech duration from timestamp (after checking and correcting if need be)\n",
    "- fill missing timestamps by taking time between the next ones, then allocating to ones in between with missing based on word/character count\n",
    "- [x] check speakers (then maybe exclude \"Computer\")\n",
    "- [x] clean \"[inaudible]\", \"[crosstalk]\", \"[foreign language]\", also (*)\n",
    "- check for special character to see for other things that need to be potentially cleaned\n"
   ]
  },
  {
   "cell_type": "markdown",
   "id": "running-wright",
   "metadata": {},
   "source": [
    "# speech preprocessing\n",
    "\n",
    "- lowercase everything\n",
    "- tokenization (words, punctuation)\n",
    "- parts of speech (noun, verb etc.)\n",
    "- lemmatization (thought -> think)\n",
    "- remove stopwords (a, the, etc)\n",
    "- pointwise mutual information (euro group -> euro_group)"
   ]
  },
  {
   "cell_type": "code",
   "execution_count": 1,
   "id": "adaptive-flooring",
   "metadata": {},
   "outputs": [],
   "source": [
    "import re\n",
    "import time\n",
    "\n",
    "import numpy as np\n",
    "import pandas as pd"
   ]
  },
  {
   "cell_type": "code",
   "execution_count": 2,
   "id": "unexpected-intervention",
   "metadata": {},
   "outputs": [],
   "source": [
    "#import nltk\n",
    "#nltk.download('stopwords')"
   ]
  },
  {
   "cell_type": "code",
   "execution_count": 3,
   "id": "thrown-glossary",
   "metadata": {
    "scrolled": true
   },
   "outputs": [
    {
     "data": {
      "text/html": [
       "<div>\n",
       "<style scoped>\n",
       "    .dataframe tbody tr th:only-of-type {\n",
       "        vertical-align: middle;\n",
       "    }\n",
       "\n",
       "    .dataframe tbody tr th {\n",
       "        vertical-align: top;\n",
       "    }\n",
       "\n",
       "    .dataframe thead th {\n",
       "        text-align: right;\n",
       "    }\n",
       "</style>\n",
       "<table border=\"1\" class=\"dataframe\">\n",
       "  <thead>\n",
       "    <tr style=\"text-align: right;\">\n",
       "      <th></th>\n",
       "      <th>speaker</th>\n",
       "      <th>speech</th>\n",
       "      <th>timestamp</th>\n",
       "      <th>date</th>\n",
       "    </tr>\n",
       "  </thead>\n",
       "  <tbody>\n",
       "    <tr>\n",
       "      <th>0</th>\n",
       "      <td>Jeroen Dijsselbloem</td>\n",
       "      <td>… of your responses or questions. And can I fi...</td>\n",
       "      <td>1900-01-01 00:00:00</td>\n",
       "      <td>2015-02-24 00:00:00</td>\n",
       "    </tr>\n",
       "    <tr>\n",
       "      <th>1</th>\n",
       "      <td>Speaker 2</td>\n",
       "      <td>Uh, yes, uh, thank you, Jeroen. Well, uh, comm...</td>\n",
       "      <td>1900-01-01 00:00:10</td>\n",
       "      <td>2015-02-24 00:00:00</td>\n",
       "    </tr>\n",
       "    <tr>\n",
       "      <th>2</th>\n",
       "      <td>Michael Noonan</td>\n",
       "      <td>Michael Noonan.</td>\n",
       "      <td>1900-01-01 00:01:27</td>\n",
       "      <td>2015-02-24 00:00:00</td>\n",
       "    </tr>\n",
       "    <tr>\n",
       "      <th>3</th>\n",
       "      <td>Speaker 2</td>\n",
       "      <td>Uh, it is therefore regrettable that, uh-</td>\n",
       "      <td>1900-01-01 00:01:29</td>\n",
       "      <td>2015-02-24 00:00:00</td>\n",
       "    </tr>\n",
       "    <tr>\n",
       "      <th>4</th>\n",
       "      <td>Speaker 3</td>\n",
       "      <td>Has entered the conference.</td>\n",
       "      <td>1900-01-01 00:01:33</td>\n",
       "      <td>2015-02-24 00:00:00</td>\n",
       "    </tr>\n",
       "  </tbody>\n",
       "</table>\n",
       "</div>"
      ],
      "text/plain": [
       "               speaker                                             speech  \\\n",
       "0  Jeroen Dijsselbloem  … of your responses or questions. And can I fi...   \n",
       "1            Speaker 2  Uh, yes, uh, thank you, Jeroen. Well, uh, comm...   \n",
       "2       Michael Noonan                                    Michael Noonan.   \n",
       "3            Speaker 2          Uh, it is therefore regrettable that, uh-   \n",
       "4            Speaker 3                        Has entered the conference.   \n",
       "\n",
       "             timestamp                 date  \n",
       "0  1900-01-01 00:00:00  2015-02-24 00:00:00  \n",
       "1  1900-01-01 00:00:10  2015-02-24 00:00:00  \n",
       "2  1900-01-01 00:01:27  2015-02-24 00:00:00  \n",
       "3  1900-01-01 00:01:29  2015-02-24 00:00:00  \n",
       "4  1900-01-01 00:01:33  2015-02-24 00:00:00  "
      ]
     },
     "execution_count": 3,
     "metadata": {},
     "output_type": "execute_result"
    }
   ],
   "source": [
    "df = pd.read_csv('data/euroleaks/prepared.csv')\n",
    "df.head()"
   ]
  },
  {
   "cell_type": "markdown",
   "id": "statutory-valve",
   "metadata": {},
   "source": [
    "## preliminary cleaning\n",
    "- make all speech lowercase\n",
    "- remove \"Has entered the conference.\"\n",
    "- remove speaker computer"
   ]
  },
  {
   "cell_type": "code",
   "execution_count": 4,
   "id": "patient-slovakia",
   "metadata": {},
   "outputs": [],
   "source": [
    "# lowercase speech\n",
    "df.speech = df.speech.apply(lambda s: s.lower())"
   ]
  },
  {
   "cell_type": "code",
   "execution_count": 5,
   "id": "auburn-strike",
   "metadata": {},
   "outputs": [],
   "source": [
    "# clean speaker\n",
    "\n",
    "# strip and make lowercase\n",
    "df.speaker = df.speaker.apply(lambda s: s.strip().lower() if not pd.isnull(s) else s)\n",
    "\n",
    "# handle missing (only one)\n",
    "df.speaker.loc[df.speaker.isnull()] = 'jeroen dijsselbloem'\n",
    "\n",
    "# drop transcription artifact speaker\n",
    "df = df[df.speaker != 'group']\n",
    "df = df[df.speaker != 'inaudible']\n",
    "\n",
    "# drop comuter generated speech\n",
    "df = df[df.speech != 'Has entered the conference.']\n",
    "\n",
    "# make names unique\n",
    "amend_names = {\n",
    "    'wolfgang schäuble': [\n",
    "        'wolfgang schäuble',\n",
    "        'wolfgang schauble',\n",
    "        'wolfgang'\n",
    "    ],\n",
    "    'peter kažimír': [\n",
    "        'peter kažimír',\n",
    "        'peter kazimir'\n",
    "    ],\n",
    "    'michel sapin': [\n",
    "        'michel sapin',\n",
    "        'michel'\n",
    "    ],\n",
    "    'maria luís albuquerque': [\n",
    "        'maria luís albuquerque',\n",
    "        'maria luís',\n",
    "        'maria luis albuquerque'\n",
    "    ],\n",
    "    'johan van overtveldt': [\n",
    "        'johan van overtveldt',\n",
    "        'johan'\n",
    "    ],\n",
    "    'benoît cœuré': [\n",
    "        'benoît cœuré',\n",
    "        'benoit couré',\n",
    "        'benoit cœuré'\n",
    "    ],\n",
    "    'hans jörg schelling': [\n",
    "        'hans jörg schelling',\n",
    "        'hans'\n",
    "    ],\n",
    "    'poul mathias thomsen': [\n",
    "        'paul thomsen',\n",
    "        'paul',\n",
    "        'poul thomsen'\n",
    "    ],\n",
    "    'yanis varoufakis': [\n",
    "        'yanis varoufakis',\n",
    "        'yanis varoufakis [privately]'\n",
    "    ],\n",
    "    'luis de guindos': [\n",
    "        'luis de guindos',\n",
    "        'luis'\n",
    "    ],\n",
    "    'irina': [\n",
    "        'irina',\n",
    "        'irana'\n",
    "    ],\n",
    "    'jānis reirs': [\n",
    "        'yanis [not varoufakis]'\n",
    "    ],\n",
    "    'luca antonio ricci': [\n",
    "        'ricci'\n",
    "    ],\n",
    "    'thomas steffen': [\n",
    "        'thomas'\n",
    "    ]\n",
    "}\n",
    "\n",
    "# invert dict\n",
    "amend_names_inv = {value: key for key,values in amend_names.items() for value in values}\n",
    "\n",
    "# amend speaker names\n",
    "df.speaker = df.speaker.apply(lambda s: amend_names_inv[s] if s in amend_names_inv.keys() else s)"
   ]
  },
  {
   "cell_type": "code",
   "execution_count": 6,
   "id": "according-senator",
   "metadata": {},
   "outputs": [
    {
     "data": {
      "text/html": [
       "<div>\n",
       "<style scoped>\n",
       "    .dataframe tbody tr th:only-of-type {\n",
       "        vertical-align: middle;\n",
       "    }\n",
       "\n",
       "    .dataframe tbody tr th {\n",
       "        vertical-align: top;\n",
       "    }\n",
       "\n",
       "    .dataframe thead th {\n",
       "        text-align: right;\n",
       "    }\n",
       "</style>\n",
       "<table border=\"1\" class=\"dataframe\">\n",
       "  <thead>\n",
       "    <tr style=\"text-align: right;\">\n",
       "      <th></th>\n",
       "      <th>speaker</th>\n",
       "      <th>speech</th>\n",
       "      <th>timestamp</th>\n",
       "      <th>date</th>\n",
       "    </tr>\n",
       "  </thead>\n",
       "  <tbody>\n",
       "    <tr>\n",
       "      <th>0</th>\n",
       "      <td>jeroen dijsselbloem</td>\n",
       "      <td>… of your responses or questions. and can i fi...</td>\n",
       "      <td>1900-01-01 00:00:00</td>\n",
       "      <td>2015-02-24 00:00:00</td>\n",
       "    </tr>\n",
       "    <tr>\n",
       "      <th>1</th>\n",
       "      <td>speaker 2</td>\n",
       "      <td>uh, yes, uh, thank you, jeroen. well, uh, comm...</td>\n",
       "      <td>1900-01-01 00:00:10</td>\n",
       "      <td>2015-02-24 00:00:00</td>\n",
       "    </tr>\n",
       "    <tr>\n",
       "      <th>2</th>\n",
       "      <td>michael noonan</td>\n",
       "      <td>michael noonan.</td>\n",
       "      <td>1900-01-01 00:01:27</td>\n",
       "      <td>2015-02-24 00:00:00</td>\n",
       "    </tr>\n",
       "    <tr>\n",
       "      <th>3</th>\n",
       "      <td>speaker 2</td>\n",
       "      <td>uh, it is therefore regrettable that, uh-</td>\n",
       "      <td>1900-01-01 00:01:29</td>\n",
       "      <td>2015-02-24 00:00:00</td>\n",
       "    </tr>\n",
       "    <tr>\n",
       "      <th>4</th>\n",
       "      <td>speaker 3</td>\n",
       "      <td>has entered the conference.</td>\n",
       "      <td>1900-01-01 00:01:33</td>\n",
       "      <td>2015-02-24 00:00:00</td>\n",
       "    </tr>\n",
       "  </tbody>\n",
       "</table>\n",
       "</div>"
      ],
      "text/plain": [
       "               speaker                                             speech  \\\n",
       "0  jeroen dijsselbloem  … of your responses or questions. and can i fi...   \n",
       "1            speaker 2  uh, yes, uh, thank you, jeroen. well, uh, comm...   \n",
       "2       michael noonan                                    michael noonan.   \n",
       "3            speaker 2          uh, it is therefore regrettable that, uh-   \n",
       "4            speaker 3                        has entered the conference.   \n",
       "\n",
       "             timestamp                 date  \n",
       "0  1900-01-01 00:00:00  2015-02-24 00:00:00  \n",
       "1  1900-01-01 00:00:10  2015-02-24 00:00:00  \n",
       "2  1900-01-01 00:01:27  2015-02-24 00:00:00  \n",
       "3  1900-01-01 00:01:29  2015-02-24 00:00:00  \n",
       "4  1900-01-01 00:01:33  2015-02-24 00:00:00  "
      ]
     },
     "execution_count": 6,
     "metadata": {},
     "output_type": "execute_result"
    }
   ],
   "source": [
    "df.head()"
   ]
  },
  {
   "cell_type": "markdown",
   "id": "finished-poison",
   "metadata": {},
   "source": [
    "## regex: remove paranthesis and brackets\n",
    "Numbers can be better filtered out using POS (parts of speech)."
   ]
  },
  {
   "cell_type": "code",
   "execution_count": 7,
   "id": "beneficial-watch",
   "metadata": {},
   "outputs": [
    {
     "data": {
      "text/plain": [
       "array(['[]', '[affirmative]', '[bang]', '[bonds]', '[crosstalk]',\n",
       "       '[french]', '[in]', '[inaudible]', '[laughs]', '[laughter]',\n",
       "       '[measures]', '[silence]'], dtype='<U13')"
      ]
     },
     "execution_count": 7,
     "metadata": {},
     "output_type": "execute_result"
    }
   ],
   "source": [
    "brackets = []\n",
    "\n",
    "for s in df.speech:\n",
    "    pattern = re.compile('\\[\\w*\\]')\n",
    "    found = pattern.search(s)\n",
    "    if found:\n",
    "        brackets.append(found.group())\n",
    "\n",
    "np.unique(brackets)"
   ]
  },
  {
   "cell_type": "code",
   "execution_count": 8,
   "id": "reported-physics",
   "metadata": {},
   "outputs": [
    {
     "data": {
      "text/plain": [
       "array(['(06:45)', '(07:36)', '(08:14)', '(09:08)', '(13:07)', '(21:35)',\n",
       "       '(22:25)', '(22:58)', '(29:07)', '(30:57)', '(35:39)',\n",
       "       '(affirmative)', '(crosstalk)', '(foreign [language)',\n",
       "       '(inaudible greetings)', '(inaudible)',\n",
       "       '(inaudible) and also the [bonds] recapitalization requirements for the new program, so when you combine the two facts {inaudible] this results (crosstalk 12:26)',\n",
       "       '(laughing)', '(laughs)', '(nse)', '(silence)'], dtype='<U160')"
      ]
     },
     "execution_count": 8,
     "metadata": {},
     "output_type": "execute_result"
    }
   ],
   "source": [
    "paranthesis = []\n",
    "\n",
    "for s in df.speech:\n",
    "    pattern = re.compile('\\(.*\\)')\n",
    "    found = pattern.search(s)\n",
    "    if found:\n",
    "        paranthesis.append(found.group())\n",
    "\n",
    "np.unique(paranthesis)"
   ]
  },
  {
   "cell_type": "code",
   "execution_count": 9,
   "id": "interim-daisy",
   "metadata": {},
   "outputs": [],
   "source": [
    "import re\n",
    "\n",
    "def remove_brackets(sentence):\n",
    "    brackets_ = re.compile('\\[.*\\]')\n",
    "    return re.sub(brackets_, '', sentence)\n",
    "\n",
    "def remove_paranthesis(sentence):\n",
    "    paranthesis_ = re.compile('\\(.*\\)')\n",
    "    return re.sub(paranthesis_, '', sentence)"
   ]
  },
  {
   "cell_type": "code",
   "execution_count": 10,
   "id": "initial-dominant",
   "metadata": {},
   "outputs": [],
   "source": [
    "df.speech = df.speech.apply(lambda s: remove_brackets(remove_paranthesis(s)))"
   ]
  },
  {
   "cell_type": "markdown",
   "id": "obvious-activity",
   "metadata": {},
   "source": [
    "## the \"aide memoire\" case\n",
    "This term proved to be important while investigating bigram collocations.\n",
    "\n",
    "https://en.wikipedia.org/wiki/Aide-m%C3%A9moire"
   ]
  },
  {
   "cell_type": "code",
   "execution_count": 11,
   "id": "twelve-sucking",
   "metadata": {},
   "outputs": [],
   "source": [
    "def aide_memoire(s):\n",
    "    \"\"\"Replaces all of:\n",
    "        'aid memoire'\n",
    "        'aide memoir'\n",
    "        'aide memoire'\n",
    "        'aide -memoire'\n",
    "        'aide-memoir'\n",
    "        'aide-memoire'\n",
    "    with 'aide memoire'.\n",
    "    \"\"\"\n",
    "    pattern = re.compile('(aide{0,1} {0,1}( |-)memoire{0,1})')\n",
    "    return re.sub(pattern, 'aide memoire', s)"
   ]
  },
  {
   "cell_type": "code",
   "execution_count": 12,
   "id": "laughing-truth",
   "metadata": {},
   "outputs": [],
   "source": [
    "df.speech = df.speech.apply(lambda s: aide_memoire(s))"
   ]
  },
  {
   "cell_type": "code",
   "execution_count": 13,
   "id": "personalized-candidate",
   "metadata": {},
   "outputs": [],
   "source": [
    "df_prepared = df.copy()"
   ]
  },
  {
   "cell_type": "markdown",
   "id": "varied-latvia",
   "metadata": {},
   "source": [
    "## combine all speech to a single document"
   ]
  },
  {
   "cell_type": "code",
   "execution_count": 23,
   "id": "neither-syndicate",
   "metadata": {},
   "outputs": [],
   "source": [
    "# lower-case everything, combine to single string\n",
    "raw_doc = ' '.join(df.speech.apply(lambda s: s.lower()))"
   ]
  },
  {
   "cell_type": "code",
   "execution_count": 24,
   "id": "handmade-marker",
   "metadata": {},
   "outputs": [
    {
     "data": {
      "text/plain": [
       "503966"
      ]
     },
     "execution_count": 24,
     "metadata": {},
     "output_type": "execute_result"
    }
   ],
   "source": [
    "len(raw_doc)"
   ]
  },
  {
   "cell_type": "markdown",
   "id": "inside-dress",
   "metadata": {},
   "source": [
    "## tokenization\n",
    "- https://spacy.io/models"
   ]
  },
  {
   "cell_type": "code",
   "execution_count": 45,
   "id": "fitted-fellow",
   "metadata": {},
   "outputs": [],
   "source": [
    "import spacy\n",
    "\n",
    "nlp = spacy.load(\"en_core_web_sm\", exclude=[\"ner\"])"
   ]
  },
  {
   "cell_type": "code",
   "execution_count": 26,
   "id": "recorded-branch",
   "metadata": {},
   "outputs": [
    {
     "name": "stdout",
     "output_type": "stream",
     "text": [
      "Time taken: 2.82 mins\n"
     ]
    }
   ],
   "source": [
    "t = time.time()\n",
    "doc = nlp(raw_doc) # takes a few minutes\n",
    "print(f'Time taken: {round((time.time() - t) / 60, 2)} mins')"
   ]
  },
  {
   "cell_type": "code",
   "execution_count": null,
   "id": "outstanding-pathology",
   "metadata": {},
   "outputs": [],
   "source": [
    "tokens = [[ token.text for token in sentence] for sentence in doc.sents]"
   ]
  },
  {
   "cell_type": "code",
   "execution_count": null,
   "id": "random-improvement",
   "metadata": {},
   "outputs": [],
   "source": [
    "#tokens[:5]"
   ]
  },
  {
   "cell_type": "code",
   "execution_count": null,
   "id": "cheap-tampa",
   "metadata": {},
   "outputs": [],
   "source": [
    "c = 0\n",
    "for t in tokens:\n",
    "    c += len(t)\n",
    "print(c)"
   ]
  },
  {
   "cell_type": "markdown",
   "id": "alternative-plumbing",
   "metadata": {},
   "source": [
    "## lemmatization and POS tagging"
   ]
  },
  {
   "cell_type": "code",
   "execution_count": null,
   "id": "stock-variation",
   "metadata": {},
   "outputs": [],
   "source": [
    "lemmas = [[token.lemma_ for token in sentence] for sentence in doc.sents]"
   ]
  },
  {
   "cell_type": "code",
   "execution_count": null,
   "id": "ready-protocol",
   "metadata": {},
   "outputs": [],
   "source": [
    "#lemmas"
   ]
  },
  {
   "cell_type": "code",
   "execution_count": null,
   "id": "opposed-portrait",
   "metadata": {},
   "outputs": [],
   "source": [
    "foo = [[(token.lemma_, token.pos_) for token in sentence] for sentence in doc.sents]"
   ]
  },
  {
   "cell_type": "code",
   "execution_count": null,
   "id": "coordinated-feelings",
   "metadata": {},
   "outputs": [],
   "source": [
    "for f in foo[1]:\n",
    "    print(f)"
   ]
  },
  {
   "cell_type": "markdown",
   "id": "environmental-impossible",
   "metadata": {},
   "source": [
    "## stopwords"
   ]
  },
  {
   "cell_type": "code",
   "execution_count": 14,
   "id": "dominican-district",
   "metadata": {},
   "outputs": [],
   "source": [
    "# make stopwords out of names\n",
    "stopnames = []\n",
    "\n",
    "for names in amend_names.values():\n",
    "    for name in names:\n",
    "        if not re.search('\\[.*\\]', name):\n",
    "            stopnames += name.split(' ')\n",
    "            \n",
    "for name in df.speaker.unique():\n",
    "    if 'speaker' not in name:\n",
    "        stopnames += name.split(' ')\n",
    "    \n",
    "stopnames = set(stopnames)"
   ]
  },
  {
   "cell_type": "code",
   "execution_count": null,
   "id": "floating-drama",
   "metadata": {},
   "outputs": [],
   "source": [
    "content = [[token.text for token in sentence if \n",
    "            not token.is_stop and\n",
    "            not token.text in stopnames\n",
    "           ] for sentence in doc.sents]"
   ]
  },
  {
   "cell_type": "code",
   "execution_count": null,
   "id": "liquid-concern",
   "metadata": {},
   "outputs": [],
   "source": [
    "c = 0\n",
    "for t in content:\n",
    "    c += len(t)\n",
    "print(c)"
   ]
  },
  {
   "cell_type": "code",
   "execution_count": null,
   "id": "portable-remark",
   "metadata": {},
   "outputs": [],
   "source": [
    "#content"
   ]
  },
  {
   "cell_type": "markdown",
   "id": "genuine-packing",
   "metadata": {},
   "source": [
    "## named entities"
   ]
  },
  {
   "cell_type": "code",
   "execution_count": null,
   "id": "voluntary-potato",
   "metadata": {},
   "outputs": [],
   "source": [
    "#entities = [[( entity.text , entity.label_)\n",
    "#    for entity in nlp(sentence.text).ents]\n",
    "#    for sentence in doc.sents]\n",
    "\n",
    "#entities"
   ]
  },
  {
   "cell_type": "markdown",
   "id": "happy-technical",
   "metadata": {},
   "source": [
    "## numbers\n",
    "If not important, then either leave out with POS or replace with regex."
   ]
  },
  {
   "cell_type": "code",
   "execution_count": null,
   "id": "fitted-shape",
   "metadata": {},
   "outputs": [],
   "source": [
    "import re\n",
    "\n",
    "numbers = re.compile('[0-9]')\n",
    "re.sub(numbers , '0', 'Back in the 90s, when I was a 12-year -old ,a CD cost just 15,99 EUR!')"
   ]
  },
  {
   "cell_type": "markdown",
   "id": "macro-ending",
   "metadata": {},
   "source": [
    "## pointwise mutual information (collocations)\n",
    "- https://www.nltk.org/howto/collocations.html\n",
    "- mi_like score: https://www.nltk.org/api/nltk.metrics.html#nltk.metrics.association.NgramAssocMeasures.mi_like"
   ]
  },
  {
   "cell_type": "code",
   "execution_count": 15,
   "id": "promotional-diamond",
   "metadata": {},
   "outputs": [],
   "source": [
    "def apply_trigram_colloc(s, set_colloc):\n",
    "    res = s.lower()\n",
    "    for b1,b2,b3 in set_colloc:\n",
    "        res = res.replace(f'{b1} {b2} {b3}', f'{b1}_{b2}_{b3}')\n",
    "    return res\n",
    "\n",
    "def apply_bigram_colloc(s, set_colloc):\n",
    "    res = s.lower()\n",
    "    for b1,b2 in set_colloc:\n",
    "        res = res.replace(f'{b1} {b2}', f'{b1}_{b2}')\n",
    "    return res"
   ]
  },
  {
   "cell_type": "markdown",
   "id": "found-highway",
   "metadata": {},
   "source": [
    "#### trigrams"
   ]
  },
  {
   "cell_type": "code",
   "execution_count": 29,
   "id": "random-saudi",
   "metadata": {},
   "outputs": [],
   "source": [
    "from nltk.collocations import TrigramCollocationFinder, TrigramAssocMeasures\n",
    "\n",
    "# needs to be a one-dim list\n",
    "# lemmatization, filter out punctuation and stop words\n",
    "words = [token.lemma_ for sentence in doc.sents for token in sentence\n",
    "            if token.pos_ in {'ADJ', 'ADV', 'NOUN', 'PROPN', 'VERB'}\n",
    "            and not token.is_stop\n",
    "            and not token.text in stopnames\n",
    "            and len(token.text) > 1 # for punctuation (but also 'I')\n",
    "        ]\n",
    "\n",
    "finder = TrigramCollocationFinder.from_words(words)\n",
    "\n",
    "# word might be highly correlated but very infrequent, ignore all with less than n occurances\n",
    "finder.apply_freq_filter(5)\n",
    "\n",
    "tgm = TrigramAssocMeasures()\n",
    "collocations = {trigram: pmi for trigram, pmi in finder.score_ngrams(tgm.mi_like)}"
   ]
  },
  {
   "cell_type": "code",
   "execution_count": 30,
   "id": "stable-prague",
   "metadata": {
    "scrolled": true
   },
   "outputs": [
    {
     "data": {
      "text/plain": [
       "{('euro', 'working', 'group'): 0.045454545454545456,\n",
       " ('comprehensive', 'valid', 'starting'): 0.027233115468409588,\n",
       " ('successful', 'conclusion', 'review'): 0.011784511784511785,\n",
       " ('low', 'interest', 'rate'): 0.010439612699499706,\n",
       " ('debt', 'sustainability', 'analysis'): 0.006432858214553638,\n",
       " ('valid', 'starting', 'point'): 0.006118453255017132,\n",
       " ('statement', '20th', 'february'): 0.005505095625703131,\n",
       " ('nominal', 'interest', 'rate'): 0.0030303030303030303,\n",
       " ('interest', 'rate', 'environment'): 0.0017536475869809204,\n",
       " ('list', 'prior', 'action'): 0.0015639581657280772,\n",
       " ('labor', 'market', 'reform'): 0.0015536554593193752,\n",
       " ('starting', 'point', 'successful'): 0.001529613313754283,\n",
       " ('staff', 'level', 'agreement'): 0.0012303485987696513,\n",
       " ('product', 'market', 'reform'): 0.0010193295077016006,\n",
       " ('set', 'prior', 'action'): 0.0009186602870813397,\n",
       " ('prior', 'action', 'list'): 0.00046339501206757845,\n",
       " ('discussion', 'brussel', 'group'): 0.0004310344827586207,\n",
       " ('low', 'low', 'pension'): 0.00034199258560074417,\n",
       " ('20th', 'february', 'agreement'): 0.0002451781627983001,\n",
       " ('point', 'successful', 'conclusion'): 0.00019865107970834842,\n",
       " ('list', 'reform', 'measure'): 7.985897496569022e-05,\n",
       " ('thank', 'thank', 'thank'): 3.2611215577516745e-05,\n",
       " ('thank', 'thank', 'colleague'): 1.5101226457292822e-05,\n",
       " ('thank', 'thank', 'like'): 1.1924428125891053e-05,\n",
       " ('thank', 'thank', 'let'): 1.0498947917927391e-05}"
      ]
     },
     "execution_count": 30,
     "metadata": {},
     "output_type": "execute_result"
    }
   ],
   "source": [
    "collocations"
   ]
  },
  {
   "cell_type": "code",
   "execution_count": 16,
   "id": "interesting-redhead",
   "metadata": {},
   "outputs": [],
   "source": [
    "trigram_colloc = {('euro', 'working', 'group')}\n",
    "\n",
    "#words = apply_trigram_colloc(' '.join(words), trigram_colloc).split(' ')"
   ]
  },
  {
   "cell_type": "markdown",
   "id": "amended-active",
   "metadata": {},
   "source": [
    "#### bigrams"
   ]
  },
  {
   "cell_type": "code",
   "execution_count": 32,
   "id": "atomic-uniform",
   "metadata": {},
   "outputs": [],
   "source": [
    "from nltk.collocations import BigramCollocationFinder, BigramAssocMeasures\n",
    "#from nltk.corpus import stopwords\n",
    "\n",
    "#stopwords_ = set(stopwords.words('english'))\n",
    "\n",
    "finder = BigramCollocationFinder.from_words(words)\n",
    "\n",
    "# word might be highly correlated but very infrequent, ignore all with less than n occurances\n",
    "finder.apply_freq_filter(5)\n",
    "\n",
    "bgm = BigramAssocMeasures()\n",
    "collocations = {bigram: pmi for bigram, pmi in finder.score_ngrams(bgm.mi_like)}"
   ]
  },
  {
   "cell_type": "code",
   "execution_count": 33,
   "id": "living-cache",
   "metadata": {
    "scrolled": false
   },
   "outputs": [],
   "source": [
    "#collocations"
   ]
  },
  {
   "cell_type": "code",
   "execution_count": 34,
   "id": "unavailable-cross",
   "metadata": {},
   "outputs": [
    {
     "data": {
      "text/plain": [
       "{('20th', 'february'),\n",
       " ('aide', 'memoire'),\n",
       " ('anti', 'corruption'),\n",
       " ('brussel', 'group'),\n",
       " ('capital', 'control'),\n",
       " ('central', 'bank'),\n",
       " ('collective', 'bargaining'),\n",
       " ('common', 'ground'),\n",
       " ('debt', 'sustainability'),\n",
       " ('enter', 'conference'),\n",
       " ('govern', 'council'),\n",
       " ('growth', 'friendly'),\n",
       " ('half', 'percent'),\n",
       " ('interest', 'rate'),\n",
       " ('labor', 'market'),\n",
       " ('little', 'bit'),\n",
       " ('maximum', 'flexibility'),\n",
       " ('member', 'state'),\n",
       " ('minimum', 'wage'),\n",
       " ('primary', 'surplus'),\n",
       " ('prime', 'minister'),\n",
       " ('prior', 'action'),\n",
       " ('product', 'market'),\n",
       " ('second', 'letter'),\n",
       " ('smp', 'bond'),\n",
       " ('structural', 'reform'),\n",
       " ('successful', 'conclusion'),\n",
       " ('technical', 'team'),\n",
       " ('thank', 'thank'),\n",
       " ('valid', 'starting')}"
      ]
     },
     "execution_count": 34,
     "metadata": {},
     "output_type": "execute_result"
    }
   ],
   "source": [
    "threshold = 1\n",
    "\n",
    "bigram_colloc_candidate = []\n",
    "for bigram, score in collocations.items():\n",
    "    if score > threshold:\n",
    "        bigram_colloc_candidate.append(bigram)\n",
    "    else:\n",
    "        break\n",
    "        \n",
    "bigram_colloc_candidate = set(bigram_colloc_candidate)\n",
    "bigram_colloc_candidate"
   ]
  },
  {
   "cell_type": "code",
   "execution_count": 17,
   "id": "modern-leather",
   "metadata": {},
   "outputs": [],
   "source": [
    "bigram_colloc = {\n",
    "    ('20th', 'february'),\n",
    "    ('aide', 'memoire'),\n",
    "    ('anti', 'corruption'),\n",
    "    ('brussel', 'group'),\n",
    "    ('capital', 'control'),\n",
    "    ('central', 'bank'),\n",
    "    ('collective', 'bargaining'),\n",
    "    ('common', 'ground'),\n",
    "    ('debt', 'sustainability'),\n",
    "    ('govern', 'council'),\n",
    "    ('growth', 'friendly'),\n",
    "    ('interest', 'rate'),\n",
    "    ('labor', 'market'),\n",
    "    ('maximum', 'flexibility'),\n",
    "    ('member', 'state'),\n",
    "    ('minimum', 'wage'),\n",
    "    ('primary', 'surplus'),\n",
    "    ('prime', 'minister'),\n",
    "    ('prior', 'action'),\n",
    "    ('product', 'market'),\n",
    "    ('second', 'letter'),\n",
    "    ('smp', 'bond'),\n",
    "    ('structural', 'reform'),\n",
    "    ('successful', 'conclusion'),\n",
    "    ('technical', 'team'),\n",
    "    ('real', 'estate')\n",
    "}\n",
    "\n",
    "#words = apply_bigram_colloc(' '.join(words), bigram_colloc).split(' ')"
   ]
  },
  {
   "cell_type": "markdown",
   "id": "awful-reality",
   "metadata": {},
   "source": [
    "## consider doing token_POS so as to differentiate between eg. show_VERB and show_NOUN"
   ]
  },
  {
   "cell_type": "markdown",
   "id": "ordinary-pearl",
   "metadata": {},
   "source": [
    "## TF-IDF counts\n",
    "\n",
    "Interpretation: Words that are moderately frequent but occur\n",
    "in only a few documents get the highest score, and these words are what we\n",
    "are after.\n",
    "\n",
    "One document is one speech made by speaker.\n",
    "\n",
    "https://scikit-learn.org/stable/modules/generated/sklearn.feature_extraction.text.TfidfVectorizer.html#sklearn.feature_extraction.text.TfidfVectorizer"
   ]
  },
  {
   "cell_type": "code",
   "execution_count": 18,
   "id": "foreign-premises",
   "metadata": {},
   "outputs": [],
   "source": [
    "df = df_prepared.copy()\n",
    "# apply collocations\n",
    "df.speech = df.speech.apply(lambda s: apply_trigram_colloc(s, trigram_colloc))\n",
    "df.speech = df.speech.apply(lambda s: apply_bigram_colloc(s, bigram_colloc))"
   ]
  },
  {
   "cell_type": "code",
   "execution_count": 19,
   "id": "disturbed-scholarship",
   "metadata": {},
   "outputs": [],
   "source": [
    "# join speech of consecutive rows with same speaker\n",
    "\n",
    "df_squeezed = pd.DataFrame(columns=['speaker','speech','date'])\n",
    "\n",
    "previous_speaker = None\n",
    "speech = None\n",
    "previous_date = None\n",
    "\n",
    "for index, data in df.iterrows():\n",
    "    \n",
    "    if not previous_speaker and not speech and not previous_date:\n",
    "        previous_speaker = data.speaker\n",
    "        speech = data.speech\n",
    "        previous_date = data.date\n",
    "    elif data.speaker == previous_speaker and previous_date == data.date:\n",
    "        speech = ' '.join((speech, data.speech))\n",
    "    else:\n",
    "        df_squeezed.loc[len(df_squeezed.index)] = [\n",
    "            previous_speaker,\n",
    "            speech,\n",
    "            previous_date\n",
    "        ]\n",
    "        previous_speaker = data.speaker\n",
    "        speech = data.speech\n",
    "        previous_date = data.date"
   ]
  },
  {
   "cell_type": "code",
   "execution_count": 20,
   "id": "civilian-electronics",
   "metadata": {},
   "outputs": [],
   "source": [
    "import spacy\n",
    "\n",
    "nlp = spacy.load(\"en_core_web_sm\", exclude=[\"ner\"])"
   ]
  },
  {
   "cell_type": "code",
   "execution_count": 21,
   "id": "serial-vertex",
   "metadata": {},
   "outputs": [],
   "source": [
    "# lowercase\n",
    "raw_documents = df_squeezed.speech.apply(lambda s: s.lower()).to_numpy()\n",
    "\n",
    "filter_POS = {'ADJ', 'ADV', 'NOUN', 'PROPN', 'VERB'}\n",
    "#filter_POS = {'NOUN'}\n",
    "\n",
    "documents = [\n",
    "    ' '.join([f'{token.lemma_}_{token.pos_}' for sentence in nlp(doc).sents for token in sentence\n",
    "            if token.pos_ in filter_POS\n",
    "            and not token.is_stop\n",
    "            and not token.text in stopnames\n",
    "            and len(token.text) > 1\n",
    "    ])\n",
    "    for doc in raw_documents \n",
    "]"
   ]
  },
  {
   "cell_type": "code",
   "execution_count": 22,
   "id": "specialized-triple",
   "metadata": {},
   "outputs": [
    {
     "name": "stdout",
     "output_type": "stream",
     "text": [
      "There are 784 documents.\n"
     ]
    }
   ],
   "source": [
    "print(f'There are {len(documents)} documents.')"
   ]
  },
  {
   "cell_type": "code",
   "execution_count": 23,
   "id": "saved-slovak",
   "metadata": {},
   "outputs": [],
   "source": [
    "from sklearn.feature_extraction.text import TfidfVectorizer\n",
    "\n",
    "tfidf_vectorizer = TfidfVectorizer(analyzer='word',\n",
    "                                   min_df=2,\n",
    "                                   max_df=0.95,\n",
    "                                   sublinear_tf=False)\n",
    "\n",
    "X = tfidf_vectorizer.fit_transform(documents)                                  "
   ]
  },
  {
   "cell_type": "code",
   "execution_count": 24,
   "id": "shared-wilderness",
   "metadata": {},
   "outputs": [],
   "source": [
    "idf = tfidf_vectorizer.idf_\n",
    "tfidf = X.sum(axis =0).A1"
   ]
  },
  {
   "cell_type": "code",
   "execution_count": 25,
   "id": "numerous-montreal",
   "metadata": {},
   "outputs": [],
   "source": [
    "# get tf\n",
    "from sklearn.feature_extraction.text import CountVectorizer\n",
    "\n",
    "count_vectorizer = CountVectorizer(analyzer='word',\n",
    "                                   min_df=2,\n",
    "                                   max_df=0.95)\n",
    "\n",
    "X_ = count_vectorizer.fit_transform(documents)\n",
    "\n",
    "assert np.array_equal(\n",
    "    count_vectorizer.get_feature_names(),\n",
    "    tfidf_vectorizer.get_feature_names()\n",
    ")\n",
    "\n",
    "tf = X_.toarray().sum(axis=0)"
   ]
  },
  {
   "cell_type": "code",
   "execution_count": 26,
   "id": "hydraulic-breakfast",
   "metadata": {},
   "outputs": [
    {
     "data": {
      "image/png": "[encoded data removed]",
      "text/plain": [
       "<Figure size 864x504 with 1 Axes>"
      ]
     },
     "metadata": {
      "needs_background": "light"
     },
     "output_type": "display_data"
    }
   ],
   "source": [
    "import matplotlib.pyplot as plt\n",
    "\n",
    "fig, ax = plt.subplots(figsize=(12,7))\n",
    "ax.scatter(tfidf, idf, s=tf, edgecolors='black', label='tfidf')\n",
    "#ax.legend()\n",
    "ax.set_xlabel('tfidf')\n",
    "ax.set_ylabel('idf')\n",
    "ax.set_title('scatterplot of TFIDF and IDF values, scaled by TF')\n",
    "\n",
    "# annotate words with highest tfidf\n",
    "first_k = 10\n",
    "sort_ix = np.argsort(tfidf)[::-1]\n",
    "for ix in sort_ix[:first_k]:\n",
    "    s = tfidf_vectorizer.get_feature_names()[ix].split('_')[0]\n",
    "    jiggle_x = np.random.normal(0,0.1)\n",
    "    jiggle_y = np.random.normal(0,0.1)\n",
    "    ax.text(tfidf[ix]+jiggle_x, idf[ix]+jiggle_y, s)"
   ]
  },
  {
   "cell_type": "code",
   "execution_count": 27,
   "id": "mobile-flush",
   "metadata": {},
   "outputs": [
    {
     "name": "stdout",
     "output_type": "stream",
     "text": [
      "thank\n",
      "think\n",
      "institution\n",
      "know\n",
      "question\n",
      "come\n",
      "point\n",
      "say\n",
      "ahead\n",
      "agreement\n"
     ]
    }
   ],
   "source": [
    "for word in np.array(tfidf_vectorizer.get_feature_names())[sort_ix][:10]:\n",
    "    print(word.split('_')[0])"
   ]
  },
  {
   "cell_type": "code",
   "execution_count": 28,
   "id": "developed-butterfly",
   "metadata": {},
   "outputs": [
    {
     "data": {
      "text/plain": [
       "(784, 2064)"
      ]
     },
     "execution_count": 28,
     "metadata": {},
     "output_type": "execute_result"
    }
   ],
   "source": [
    "X.shape"
   ]
  },
  {
   "cell_type": "code",
   "execution_count": 30,
   "id": "developmental-cleveland",
   "metadata": {},
   "outputs": [
    {
     "name": "stdout",
     "output_type": "stream",
     "text": [
      "2 - iterations: 8\n",
      "3 - iterations: 8\n",
      "4 - iterations: 8\n",
      "5 - iterations: 11\n",
      "6 - iterations: 18\n",
      "7 - iterations: 19\n",
      "8 - iterations: 21\n",
      "9 - iterations: 21\n",
      "10 - iterations: 28\n",
      "11 - iterations: 47\n",
      "12 - iterations: 37\n",
      "13 - iterations: 37\n",
      "14 - iterations: 33\n",
      "15 - iterations: 89\n",
      "16 - iterations: 104\n",
      "17 - iterations: 161\n"
     ]
    },
    {
     "name": "stderr",
     "output_type": "stream",
     "text": [
      "/home/asajina/repos/master-thesis/.env/lib/python3.8/site-packages/sklearn/decomposition/_nmf.py:1090: ConvergenceWarning: Maximum number of iterations 200 reached. Increase it to improve convergence.\n",
      "  warnings.warn(\"Maximum number of iterations %d reached. Increase it to\"\n"
     ]
    },
    {
     "name": "stdout",
     "output_type": "stream",
     "text": [
      "18 - iterations: 200\n",
      "19 - iterations: 105\n"
     ]
    },
    {
     "name": "stderr",
     "output_type": "stream",
     "text": [
      "/home/asajina/repos/master-thesis/.env/lib/python3.8/site-packages/sklearn/decomposition/_nmf.py:1090: ConvergenceWarning: Maximum number of iterations 200 reached. Increase it to improve convergence.\n",
      "  warnings.warn(\"Maximum number of iterations %d reached. Increase it to\"\n"
     ]
    },
    {
     "name": "stdout",
     "output_type": "stream",
     "text": [
      "20 - iterations: 200\n",
      "21 - iterations: 71\n",
      "22 - iterations: 120\n",
      "23 - iterations: 68\n",
      "24 - iterations: 61\n",
      "25 - iterations: 56\n",
      "26 - iterations: 69\n",
      "27 - iterations: 60\n",
      "28 - iterations: 94\n",
      "29 - iterations: 125\n",
      "30 - iterations: 81\n",
      "31 - iterations: 173\n",
      "32 - iterations: 195\n",
      "33 - iterations: 91\n",
      "34 - iterations: 111\n",
      "35 - iterations: 99\n",
      "36 - iterations: 68\n",
      "37 - iterations: 73\n",
      "38 - iterations: 76\n",
      "39 - iterations: 91\n",
      "40 - iterations: 108\n",
      "41 - iterations: 182\n",
      "42 - iterations: 191\n",
      "43 - iterations: 129\n",
      "44 - iterations: 120\n",
      "45 - iterations: 129\n"
     ]
    },
    {
     "name": "stderr",
     "output_type": "stream",
     "text": [
      "/home/asajina/repos/master-thesis/.env/lib/python3.8/site-packages/sklearn/decomposition/_nmf.py:1090: ConvergenceWarning: Maximum number of iterations 200 reached. Increase it to improve convergence.\n",
      "  warnings.warn(\"Maximum number of iterations %d reached. Increase it to\"\n"
     ]
    },
    {
     "name": "stdout",
     "output_type": "stream",
     "text": [
      "46 - iterations: 200\n"
     ]
    },
    {
     "name": "stderr",
     "output_type": "stream",
     "text": [
      "/home/asajina/repos/master-thesis/.env/lib/python3.8/site-packages/sklearn/decomposition/_nmf.py:1090: ConvergenceWarning: Maximum number of iterations 200 reached. Increase it to improve convergence.\n",
      "  warnings.warn(\"Maximum number of iterations %d reached. Increase it to\"\n"
     ]
    },
    {
     "name": "stdout",
     "output_type": "stream",
     "text": [
      "47 - iterations: 200\n",
      "48 - iterations: 168\n",
      "49 - iterations: 200\n"
     ]
    },
    {
     "name": "stderr",
     "output_type": "stream",
     "text": [
      "/home/asajina/repos/master-thesis/.env/lib/python3.8/site-packages/sklearn/decomposition/_nmf.py:1090: ConvergenceWarning: Maximum number of iterations 200 reached. Increase it to improve convergence.\n",
      "  warnings.warn(\"Maximum number of iterations %d reached. Increase it to\"\n"
     ]
    }
   ],
   "source": [
    "from sklearn.decomposition import NMF\n",
    "\n",
    "reconstruction_error = []\n",
    "for k in range(2, 50):\n",
    "    \n",
    "    nmf = NMF(n_components=k,\n",
    "              init='nndsvd',\n",
    "              beta_loss='frobenius',\n",
    "              max_iter=200,\n",
    "              random_state=0,\n",
    "              alpha=0,\n",
    "              l1_ratio=0)\n",
    "    \n",
    "    nmf.fit(X.toarray())\n",
    "    \n",
    "    reconstruction_error.append(nmf.reconstruction_err_)\n",
    "    print(f'{k} - iterations: {nmf.n_iter_}')\n",
    "\n",
    "\n",
    "#W = nmf.fit_transform(X.toarray())\n",
    "#H = nmf.components_"
   ]
  },
  {
   "cell_type": "code",
   "execution_count": 31,
   "id": "affiliated-juvenile",
   "metadata": {},
   "outputs": [
    {
     "data": {
      "text/plain": [
       "[<matplotlib.lines.Line2D at 0x7f61a3442eb0>]"
      ]
     },
     "execution_count": 31,
     "metadata": {},
     "output_type": "execute_result"
    },
    {
     "data": {
      "image/png": "[encoded data removed]",
      "text/plain": [
       "<Figure size 432x288 with 1 Axes>"
      ]
     },
     "metadata": {
      "needs_background": "light"
     },
     "output_type": "display_data"
    }
   ],
   "source": [
    "plt.plot(reconstruction_error, marker='+')"
   ]
  },
  {
   "cell_type": "code",
   "execution_count": 32,
   "id": "impressive-olive",
   "metadata": {},
   "outputs": [
    {
     "name": "stdout",
     "output_type": "stream",
     "text": [
      "W shape: (784, 2)\n",
      "H shape: (2, 2064)\n"
     ]
    }
   ],
   "source": [
    "nmf = NMF(n_components=2,\n",
    "          init='nndsvd',\n",
    "          beta_loss='frobenius',\n",
    "          max_iter=1000,\n",
    "          random_state=0,\n",
    "          alpha=0,\n",
    "          l1_ratio=0)\n",
    "\n",
    "W = nmf.fit_transform(X.toarray())\n",
    "H = nmf.components_\n",
    "\n",
    "print(f'W shape: {W.shape}')\n",
    "print(f'H shape: {H.shape}')"
   ]
  },
  {
   "cell_type": "code",
   "execution_count": 33,
   "id": "involved-composition",
   "metadata": {},
   "outputs": [
    {
     "data": {
      "text/plain": [
       "<matplotlib.collections.PathCollection at 0x7f61a33faac0>"
      ]
     },
     "execution_count": 33,
     "metadata": {},
     "output_type": "execute_result"
    },
    {
     "data": {
      "image/png": "[encoded data removed]",
      "text/plain": [
       "<Figure size 432x288 with 1 Axes>"
      ]
     },
     "metadata": {
      "needs_background": "light"
     },
     "output_type": "display_data"
    }
   ],
   "source": [
    "plt.scatter(W[:,0], W[:,1])"
   ]
  },
  {
   "cell_type": "markdown",
   "id": "combined-primary",
   "metadata": {},
   "source": [
    "## bag of words non-negative matrix factorization\n",
    "\n",
    "Maybe rather use it to visualize BOW (bag of words) for leaks vs communiques, where one document is either one leaked conference (df.groupby('date')) or one communique.\n",
    "\n",
    "But note the preprocessing: stopwords removed, filtered on POS, collocations...\n",
    "\n",
    "- [ ] inspect error score (explain why you use two cluster, try with more)\n",
    "- [ ] try more cluster than two\n",
    "\n",
    "try all dims, ccluster, compute cluster separation measure"
   ]
  },
  {
   "cell_type": "markdown",
   "id": "conditional-warning",
   "metadata": {},
   "source": [
    "## NMF document clustering\n",
    "- [ ] get term-document matrix\n",
    "    - params: min_df, max_df, etc.\n",
    "- [ ] tf-idf term weighting\n",
    "- NMF\n",
    "    - [ ] try number of clusters k={2..n_speakers}\n",
    "    - [ ] collect reconstruction error for each k and plot\n",
    "    - [ ] use elbow method to determine k\n",
    "    - [ ] try different error functions (need to read on this)\n",
    "    - beware of max_iter and tol params when comparing reconstruction error for different k's\n",
    "- [ ] pick keywords, then plot heatmap keywords/clusters\n",
    "    - maybe use averged score of word for documents (speakers) belonging to that cluster\n",
    "    - maybe name clusters by most prominent speakers of that cluster    \n",
    "- [ ] try the same pipeline with bigrams and trigrams"
   ]
  },
  {
   "cell_type": "code",
   "execution_count": 54,
   "id": "handmade-tsunami",
   "metadata": {},
   "outputs": [],
   "source": [
    "df = df_prepared.copy()\n",
    "# apply collocations\n",
    "df.speech = df.speech.apply(lambda s: apply_trigram_colloc(s, trigram_colloc))\n",
    "df.speech = df.speech.apply(lambda s: apply_bigram_colloc(s, bigram_colloc))"
   ]
  },
  {
   "cell_type": "code",
   "execution_count": 55,
   "id": "drawn-indonesia",
   "metadata": {},
   "outputs": [],
   "source": [
    "grouped = df.drop(columns=['timestamp','speaker']).groupby('date').apply(lambda s: ' '.join(s.speech))"
   ]
  },
  {
   "cell_type": "code",
   "execution_count": 56,
   "id": "published-program",
   "metadata": {},
   "outputs": [
    {
     "data": {
      "text/plain": [
       "date\n",
       "2015-02-24 00:00:00    … of your responses or questions. and can i fi...\n",
       "2015-03-17 00:00:00    … coming in the next eh, in the next days and ...\n",
       "2015-04-01 00:00:00    also uh have a discussion on the hfsf buffer a...\n",
       "2015-04-24 00:00:00    uh, pierre, , welcome. thank you for joining u...\n",
       "2015-05-11 00:00:00    … closely and they’re supposed to conclude the...\n",
       "dtype: object"
      ]
     },
     "execution_count": 56,
     "metadata": {},
     "output_type": "execute_result"
    }
   ],
   "source": [
    "grouped.head()"
   ]
  },
  {
   "cell_type": "code",
   "execution_count": 57,
   "id": "human-november",
   "metadata": {},
   "outputs": [],
   "source": [
    "speakers = grouped.index"
   ]
  },
  {
   "cell_type": "code",
   "execution_count": 58,
   "id": "environmental-gardening",
   "metadata": {},
   "outputs": [],
   "source": [
    "filter_POS = {'ADJ', 'ADV', 'NOUN', 'PROPN', 'VERB', 'ADP'}\n",
    "\n",
    "documents = [\n",
    "    ' '.join([f'{token.lemma_}_{token.pos_}' for sentence in nlp(doc).sents for token in sentence\n",
    "            if token.pos_ in filter_POS\n",
    "            and not token.is_stop\n",
    "            and not token.text in stopnames\n",
    "            and len(token.lemma_) > 1\n",
    "    ])\n",
    "    for doc in grouped.values \n",
    "]"
   ]
  },
  {
   "cell_type": "code",
   "execution_count": 59,
   "id": "increased-guess",
   "metadata": {},
   "outputs": [
    {
     "data": {
      "text/plain": [
       "3865"
      ]
     },
     "execution_count": 59,
     "metadata": {},
     "output_type": "execute_result"
    }
   ],
   "source": [
    "np.unique(' '.join(documents).split()).size"
   ]
  },
  {
   "cell_type": "markdown",
   "id": "bulgarian-province",
   "metadata": {},
   "source": [
    "Get the document-term matrix.\n",
    "One row per document and one column per token."
   ]
  },
  {
   "cell_type": "code",
   "execution_count": 91,
   "id": "scenic-hydrogen",
   "metadata": {},
   "outputs": [],
   "source": [
    "#from sklearn.feature_extraction.text import CountVectorizer\n",
    "\n",
    "#count_vectorizer = CountVectorizer(analyzer='word',\n",
    "#                                   min_df =0.001,\n",
    "#                                   max_df =0.75)\n",
    "\n",
    "#X = count_vectorizer.fit_transform(documents)\n",
    "\n",
    "#print(X.shape)"
   ]
  },
  {
   "cell_type": "code",
   "execution_count": 60,
   "id": "flush-turning",
   "metadata": {},
   "outputs": [],
   "source": [
    "from sklearn.feature_extraction.text import TfidfVectorizer\n",
    "\n",
    "tfidf_vectorizer = TfidfVectorizer(analyzer='word',\n",
    "                                   min_df=2, # word has to be in at least two documents\n",
    "                                   max_df=0.95, # word has to be in less the 95% of documents\n",
    "                                   smooth_idf=True, # Smooth idf weights by adding one to document frequencies, as if an extra document was seen containing every term in the collection exactly once. Prevents zero divisions.\n",
    "                                   sublinear_tf=False) # replace tf with 1 + log(tf).\n",
    "\n",
    "X = tfidf_vectorizer.fit_transform(documents)  "
   ]
  },
  {
   "cell_type": "code",
   "execution_count": 93,
   "id": "casual-ecology",
   "metadata": {},
   "outputs": [],
   "source": [
    "from sklearn.decomposition import NMF\n",
    "\n",
    "reconstruction_error = []\n",
    "for k in range(2, len(speakers)+1):\n",
    "    \n",
    "    nmf = NMF(n_components=k,\n",
    "              init='nndsvd',\n",
    "              beta_loss='frobenius',\n",
    "              max_iter=1000,\n",
    "              random_state=0,\n",
    "              alpha=0,\n",
    "              l1_ratio=0)\n",
    "    \n",
    "    nmf.fit(X.toarray())\n",
    "    \n",
    "    reconstruction_error.append(nmf.reconstruction_err_)\n",
    "    #print(f'{k} - iterations: {nmf.n_iter_}')\n",
    "\n",
    "\n",
    "#W = nmf.fit_transform(X.toarray())\n",
    "#H = nmf.components_"
   ]
  },
  {
   "cell_type": "code",
   "execution_count": 94,
   "id": "prepared-elder",
   "metadata": {},
   "outputs": [
    {
     "data": {
      "text/plain": [
       "[<matplotlib.lines.Line2D at 0x7f37d20c1460>]"
      ]
     },
     "execution_count": 94,
     "metadata": {},
     "output_type": "execute_result"
    },
    {
     "data": {
      "image/png": "[encoded data removed]",
      "text/plain": [
       "<Figure size 432x288 with 1 Axes>"
      ]
     },
     "metadata": {
      "needs_background": "light"
     },
     "output_type": "display_data"
    }
   ],
   "source": [
    "plt.plot(reconstruction_error, marker='+')"
   ]
  },
  {
   "cell_type": "code",
   "execution_count": 61,
   "id": "cognitive-sitting",
   "metadata": {},
   "outputs": [
    {
     "name": "stdout",
     "output_type": "stream",
     "text": [
      "W shape: (12, 2)\n",
      "H shape: (2, 1885)\n"
     ]
    }
   ],
   "source": [
    "nmf = NMF(n_components=2,\n",
    "          init='nndsvd',\n",
    "          beta_loss='frobenius',\n",
    "          max_iter=1000,\n",
    "          random_state=0,\n",
    "          alpha=0,\n",
    "          l1_ratio=0)\n",
    "\n",
    "W = nmf.fit_transform(X.toarray())\n",
    "H = nmf.components_\n",
    "\n",
    "print(f'W shape: {W.shape}')\n",
    "print(f'H shape: {H.shape}')"
   ]
  },
  {
   "cell_type": "code",
   "execution_count": 62,
   "id": "successful-logan",
   "metadata": {},
   "outputs": [
    {
     "data": {
      "text/plain": [
       "<matplotlib.collections.PathCollection at 0x7f61a314eeb0>"
      ]
     },
     "execution_count": 62,
     "metadata": {},
     "output_type": "execute_result"
    },
    {
     "data": {
      "image/png": "[encoded data removed]",
      "text/plain": [
       "<Figure size 432x288 with 1 Axes>"
      ]
     },
     "metadata": {
      "needs_background": "light"
     },
     "output_type": "display_data"
    }
   ],
   "source": [
    "plt.scatter(W[:,0], W[:,1])"
   ]
  },
  {
   "cell_type": "code",
   "execution_count": 50,
   "id": "desirable-scanner",
   "metadata": {},
   "outputs": [],
   "source": [
    "#plt.matshow(W[:4,:])#, cmap='Greys')"
   ]
  },
  {
   "cell_type": "code",
   "execution_count": 84,
   "id": "electric-breakdown",
   "metadata": {
    "scrolled": true
   },
   "outputs": [
    {
     "name": "stdout",
     "output_type": "stream",
     "text": [
      "[-0.00290221  0.00468495]\n"
     ]
    },
    {
     "data": {
      "text/plain": [
       "Text(0.5, 1.0, 'bag of words NNMF')"
      ]
     },
     "execution_count": 84,
     "metadata": {},
     "output_type": "execute_result"
    },
    {
     "data": {
      "image/png": "[encoded data removed]",
      "text/plain": [
       "<Figure size 432x288 with 1 Axes>"
      ]
     },
     "metadata": {
      "needs_background": "light"
     },
     "output_type": "display_data"
    }
   ],
   "source": [
    "import matplotlib.pyplot as plt\n",
    "\n",
    "fig, ax = plt.subplots()\n",
    "\n",
    "ax.scatter(W[:,0], W[:,1])\n",
    "\n",
    "outlier_x = np.argmax(W[:,0])\n",
    "outlier_y = np.argmax(W[:,1])\n",
    "\n",
    "jiggle = np.random.normal(0,0.005,2)\n",
    "print(jiggle)\n",
    "ax.text(W[:,0][outlier_x]+jiggle[0], W[:,1][outlier_x]+jiggle[1], speakers[outlier_x])\n",
    "ax.text(W[:,0][outlier_y]+jiggle[0], W[:,1][outlier_y]+jiggle[1], speakers[outlier_y])\n",
    "\n",
    "ax.set_title('bag of words NNMF')"
   ]
  },
  {
   "cell_type": "code",
   "execution_count": 99,
   "id": "configured-validity",
   "metadata": {
    "scrolled": true
   },
   "outputs": [
    {
     "data": {
      "text/plain": [
       "Text(0.5, 1.0, 'bag of words NNMF')"
      ]
     },
     "execution_count": 99,
     "metadata": {},
     "output_type": "execute_result"
    },
    {
     "data": {
      "image/png": "[encoded data removed]",
      "text/plain": [
       "<Figure size 432x288 with 1 Axes>"
      ]
     },
     "metadata": {
      "needs_background": "light"
     },
     "output_type": "display_data"
    }
   ],
   "source": [
    "import matplotlib.pyplot as plt\n",
    "\n",
    "fig, ax = plt.subplots()\n",
    "\n",
    "ax.scatter(W[:,0], W[:,1])\n",
    "\n",
    "\n",
    "outliers = np.argsort(W[:,1])[::-1][:3]\n",
    "\n",
    "jiggle = np.random.normal(0,0.005,2)\n",
    "\n",
    "for outlier in outliers:\n",
    "    ax.text(W[:,0][outlier]+jiggle[0], \n",
    "            W[:,1][outlier]+jiggle[1], \n",
    "            speakers[outlier].split()[0])\n",
    "\n",
    "ax.set_title('bag of words NNMF')"
   ]
  },
  {
   "cell_type": "code",
   "execution_count": 178,
   "id": "attractive-impression",
   "metadata": {},
   "outputs": [],
   "source": [
    "import matplotlib.pyplot as plt\n",
    "from mpl_toolkits.mplot3d import Axes3D\n",
    "from matplotlib import colors\n",
    "\n",
    "def plot_vectors(vectors , title='VIZ', labels=None , dimensions=3):\n",
    "    # set up graph\n",
    "    fig = plt.figure(figsize =(10 ,10))\n",
    "    \n",
    "    # create data frame\n",
    "    df = pd.DataFrame(data={\n",
    "        'x':vectors [:,0],\n",
    "        'y': vectors[:,1],\n",
    "        'z': vectors[:,2]})\n",
    "\n",
    "    # add labels , if supplied\n",
    "    if labels is not None:\n",
    "        df['label'] = labels\n",
    "    else:\n",
    "        df['label'] = [''] * len(df)\n",
    "        \n",
    "    # assign colors to labels\n",
    "    cm = plt.get_cmap('viridis') # choose the color palette\n",
    "    n_labels = len(df.label.unique ())\n",
    "    label_colors = [cm(1. * i/n_labels) for i in range(n_labels)]\n",
    "\n",
    "    cMap = colors.ListedColormap(df.label)\n",
    "\n",
    "    # define plot\n",
    "    ax = fig.add_subplot (111, projection='3d')\n",
    "    frame1 = plt.gca()\n",
    "    # remove axis ticks\n",
    "    frame1.axes.xaxis.set_ticklabels ([])\n",
    "    frame1.axes.yaxis.set_ticklabels ([])\n",
    "    frame1.axes.zaxis.set_ticklabels ([])\n",
    "    \n",
    "    # plot each label as scatter plot in its own color\n",
    "    for l, label in enumerate(df.label.unique()):\n",
    "        df2 = df[df.label == label].drop(columns=['label'])\n",
    "        \n",
    "        ax.scatter(df2['x'], df2['y'], df2['z'], \n",
    "                   c=df2.iloc[0].to_numpy(),\n",
    "                   cmap=cMap , \n",
    "                   edgecolor=None ,\n",
    "                   label=label, \n",
    "                   alpha=0.3,\n",
    "                   s=100)\n",
    "        \n",
    "        jiggle = np.random.normal(0, 0.01, 3)\n",
    "        \n",
    "        ax.text(df2['x'].iloc[0]+jiggle[0],\n",
    "                df2['y'].iloc[0]+jiggle[1],\n",
    "                df2['z'].iloc[0]+jiggle[2]*2,\n",
    "                label,\n",
    "                zdir=(1,1,0))"
   ]
  },
  {
   "cell_type": "code",
   "execution_count": 179,
   "id": "trained-emerald",
   "metadata": {},
   "outputs": [],
   "source": [
    "nmf = NMF(n_components=3,\n",
    "          init='nndsvd',\n",
    "          beta_loss='frobenius',\n",
    "          max_iter=1000,\n",
    "          random_state=0,\n",
    "          alpha=0,\n",
    "          l1_ratio=0)\n",
    "\n",
    "W = nmf.fit_transform(X.toarray())\n",
    "H = nmf.components_"
   ]
  },
  {
   "cell_type": "code",
   "execution_count": 180,
   "id": "union-village",
   "metadata": {},
   "outputs": [
    {
     "data": {
      "text/plain": [
       "(12, 3)"
      ]
     },
     "execution_count": 180,
     "metadata": {},
     "output_type": "execute_result"
    }
   ],
   "source": [
    "W.shape"
   ]
  },
  {
   "cell_type": "code",
   "execution_count": 181,
   "id": "legitimate-summit",
   "metadata": {},
   "outputs": [],
   "source": [
    "labels = speakers.to_series().apply(lambda s: s.split()[0]).to_numpy()"
   ]
  },
  {
   "cell_type": "code",
   "execution_count": 182,
   "id": "naval-savannah",
   "metadata": {
    "scrolled": true
   },
   "outputs": [
    {
     "name": "stderr",
     "output_type": "stream",
     "text": [
      "*c* argument looks like a single numeric RGB or RGBA sequence, which should be avoided as value-mapping will have precedence in case its length matches with *x* & *y*.  Please use the *color* keyword-argument or provide a 2-D array with a single row if you intend to specify the same RGB or RGBA value for all points.\n",
      "*c* argument looks like a single numeric RGB or RGBA sequence, which should be avoided as value-mapping will have precedence in case its length matches with *x* & *y*.  Please use the *color* keyword-argument or provide a 2-D array with a single row if you intend to specify the same RGB or RGBA value for all points.\n",
      "*c* argument looks like a single numeric RGB or RGBA sequence, which should be avoided as value-mapping will have precedence in case its length matches with *x* & *y*.  Please use the *color* keyword-argument or provide a 2-D array with a single row if you intend to specify the same RGB or RGBA value for all points.\n",
      "*c* argument looks like a single numeric RGB or RGBA sequence, which should be avoided as value-mapping will have precedence in case its length matches with *x* & *y*.  Please use the *color* keyword-argument or provide a 2-D array with a single row if you intend to specify the same RGB or RGBA value for all points.\n",
      "*c* argument looks like a single numeric RGB or RGBA sequence, which should be avoided as value-mapping will have precedence in case its length matches with *x* & *y*.  Please use the *color* keyword-argument or provide a 2-D array with a single row if you intend to specify the same RGB or RGBA value for all points.\n",
      "*c* argument looks like a single numeric RGB or RGBA sequence, which should be avoided as value-mapping will have precedence in case its length matches with *x* & *y*.  Please use the *color* keyword-argument or provide a 2-D array with a single row if you intend to specify the same RGB or RGBA value for all points.\n",
      "*c* argument looks like a single numeric RGB or RGBA sequence, which should be avoided as value-mapping will have precedence in case its length matches with *x* & *y*.  Please use the *color* keyword-argument or provide a 2-D array with a single row if you intend to specify the same RGB or RGBA value for all points.\n",
      "*c* argument looks like a single numeric RGB or RGBA sequence, which should be avoided as value-mapping will have precedence in case its length matches with *x* & *y*.  Please use the *color* keyword-argument or provide a 2-D array with a single row if you intend to specify the same RGB or RGBA value for all points.\n",
      "*c* argument looks like a single numeric RGB or RGBA sequence, which should be avoided as value-mapping will have precedence in case its length matches with *x* & *y*.  Please use the *color* keyword-argument or provide a 2-D array with a single row if you intend to specify the same RGB or RGBA value for all points.\n",
      "*c* argument looks like a single numeric RGB or RGBA sequence, which should be avoided as value-mapping will have precedence in case its length matches with *x* & *y*.  Please use the *color* keyword-argument or provide a 2-D array with a single row if you intend to specify the same RGB or RGBA value for all points.\n",
      "*c* argument looks like a single numeric RGB or RGBA sequence, which should be avoided as value-mapping will have precedence in case its length matches with *x* & *y*.  Please use the *color* keyword-argument or provide a 2-D array with a single row if you intend to specify the same RGB or RGBA value for all points.\n",
      "*c* argument looks like a single numeric RGB or RGBA sequence, which should be avoided as value-mapping will have precedence in case its length matches with *x* & *y*.  Please use the *color* keyword-argument or provide a 2-D array with a single row if you intend to specify the same RGB or RGBA value for all points.\n"
     ]
    },
    {
     "data": {
      "image/png": "[encoded data removed]",
      "text/plain": [
       "<Figure size 720x720 with 1 Axes>"
      ]
     },
     "metadata": {
      "needs_background": "light"
     },
     "output_type": "display_data"
    }
   ],
   "source": [
    "plot_vectors(W, labels=labels)"
   ]
  },
  {
   "cell_type": "code",
   "execution_count": null,
   "id": "august-seeker",
   "metadata": {},
   "outputs": [],
   "source": [
    "#df_outliers = pd.DataFrame({\n",
    "#    speakers[np.argmax(H[0])]: [w.split('_')[0] for w in np.array(count_vectorizer.get_feature_names())[W[:,0] > np.percentile(W[:,0], 99)]],\n",
    "#    speakers[np.argmax(H[1])]: [w.split('_')[0] for w in np.array(count_vectorizer.get_feature_names())[W[:,1] > np.percentile(W[:,1], 99)]]\n",
    "#})\n",
    "\n",
    "#df_outliers"
   ]
  },
  {
   "cell_type": "markdown",
   "id": "detailed-beverage",
   "metadata": {},
   "source": [
    "## word embeddings\n",
    "Modern embedding models define context as a local window to either\n",
    "side of the target word (not whole document).\n",
    "- word2vec (convention ndim=300)\n",
    "\n",
    "two main architectures:\n",
    "- **continuous bag of words** (CBOW): predict output word from input of context words (local neighbourhood)\n",
    "- **skipgram**: predit cintext word output from target word input\n",
    "\n",
    "Either used pretrained, train yourself from scratch, or transfer learning.\n",
    "\n",
    "When training, best to train multiple models on same data and average them.\n",
    "\n",
    "- also see doc2vec"
   ]
  },
  {
   "cell_type": "markdown",
   "id": "oriented-arnold",
   "metadata": {},
   "source": [
    "If we are interested\n",
    "in general societal attitudes, or if we have tiny data sets, these pretrained\n",
    "embeddings are a great starting point.\n",
    "In other cases, we might want to train embeddings on our corpus ourselves,\n",
    "to capture the **similarities which are specific to this data collection**. In the latter\n",
    "case, we can use the word2vec implementation in the gensim library."
   ]
  },
  {
   "cell_type": "code",
   "execution_count": 35,
   "id": "eight-authentication",
   "metadata": {},
   "outputs": [],
   "source": [
    "# apply collocations\n",
    "df.speech = df.speech.apply(lambda s: apply_trigram_colloc(s, trigram_colloc))\n",
    "df.speech = df.speech.apply(lambda s: apply_bigram_colloc(s, bigram_colloc))"
   ]
  },
  {
   "cell_type": "code",
   "execution_count": 36,
   "id": "cathedral-lawyer",
   "metadata": {},
   "outputs": [],
   "source": [
    "# lower-case everything, combine to single string\n",
    "raw_doc = ' '.join(df.speech.apply(lambda s: s.lower()))"
   ]
  },
  {
   "cell_type": "code",
   "execution_count": 47,
   "id": "level-quantity",
   "metadata": {},
   "outputs": [
    {
     "name": "stdout",
     "output_type": "stream",
     "text": [
      "Time taken: 1.69 mins\n"
     ]
    }
   ],
   "source": [
    "nlp = spacy.load(\"en_core_web_sm\")\n",
    "\n",
    "t = time.time()\n",
    "doc = nlp(raw_doc) # takes a few minutes\n",
    "print(f'Time taken: {round((time.time() - t) / 60, 2)} mins')"
   ]
  },
  {
   "cell_type": "code",
   "execution_count": 49,
   "id": "correct-yukon",
   "metadata": {},
   "outputs": [],
   "source": [
    "#words_test = [token.lemma_ for sentence in doc.sents for token in sentence\n",
    "#            if token.pos_ in {'NUM'}\n",
    "#            and not token.is_stop\n",
    "#            and not token.text in stopnames\n",
    "#            and len(token.text) > 1 # for punctuation (but also 'I')\n",
    "#        ]\n",
    "#\n",
    "#words_test"
   ]
  },
  {
   "cell_type": "code",
   "execution_count": 50,
   "id": "positive-comfort",
   "metadata": {},
   "outputs": [],
   "source": [
    "#for row in df.iterrows():\n",
    "#    if '20th_february' in row[1].speech:\n",
    "#        print(row[1].speaker)\n",
    "#        print(row[1].speech)\n",
    "#        print()"
   ]
  },
  {
   "cell_type": "code",
   "execution_count": 51,
   "id": "southeast-filling",
   "metadata": {},
   "outputs": [],
   "source": [
    "# list of lists of words\n",
    "corpus = [[f'{token.lemma_}_{token.pos_}' for token in sentence\n",
    "            if token.pos_ in {'ADJ', 'ADV', 'NOUN', 'PROPN', 'VERB', 'ADP'}\n",
    "            and not token.is_stop\n",
    "            and not token.text in stopnames\n",
    "            and len(token.text) > 1 # for punctuation (but also 'I')\n",
    "          ] for sentence in doc.sents\n",
    "        ]"
   ]
  },
  {
   "cell_type": "code",
   "execution_count": 141,
   "id": "mental-genre",
   "metadata": {},
   "outputs": [
    {
     "name": "stdout",
     "output_type": "stream",
     "text": [
      "4554\n"
     ]
    }
   ],
   "source": [
    "print(len(corpus))"
   ]
  },
  {
   "cell_type": "code",
   "execution_count": 60,
   "id": "french-delivery",
   "metadata": {},
   "outputs": [
    {
     "data": {
      "text/plain": [
       "count    4554.000000\n",
       "mean        6.802591\n",
       "std         6.231276\n",
       "min         0.000000\n",
       "25%         2.000000\n",
       "50%         5.000000\n",
       "75%        10.000000\n",
       "max        57.000000\n",
       "dtype: float64"
      ]
     },
     "execution_count": 60,
     "metadata": {},
     "output_type": "execute_result"
    }
   ],
   "source": [
    "# check average number of words in sentence to inform choice of window size\n",
    "pd.Series([len(sent) for sent in corpus]).describe()"
   ]
  },
  {
   "cell_type": "code",
   "execution_count": 169,
   "id": "unsigned-bowling",
   "metadata": {},
   "outputs": [],
   "source": [
    "from gensim.models import Word2Vec\n",
    "from gensim.models.word2vec import FAST_VERSION\n",
    "\n",
    "# initialize model\n",
    "w2v_model = Word2Vec(size =300,\n",
    "                    window=3,\n",
    "                    sample=1e-5,\n",
    "                    negative=5,\n",
    "                    min_count=10,\n",
    "                    #alpha=0.03,\n",
    "                    #min_alpha=0.000007,\n",
    "                    workers=-1,\n",
    "                    iter=10000\n",
    ")"
   ]
  },
  {
   "cell_type": "code",
   "execution_count": 170,
   "id": "general-harvey",
   "metadata": {},
   "outputs": [],
   "source": [
    "w2v_model.build_vocab(corpus)"
   ]
  },
  {
   "cell_type": "code",
   "execution_count": 171,
   "id": "incorporate-leonard",
   "metadata": {},
   "outputs": [
    {
     "name": "stdout",
     "output_type": "stream",
     "text": [
      "Time taken: 1.41 mins\n"
     ]
    }
   ],
   "source": [
    "t = time.time()\n",
    "w2v_model.train(corpus, total_examples=w2v_model.corpus_count, epochs=w2v_model.epochs)\n",
    "print(f'Time taken: {round((time.time() - t) / 60, 2)} mins')"
   ]
  },
  {
   "cell_type": "code",
   "execution_count": 293,
   "id": "threaded-miami",
   "metadata": {},
   "outputs": [
    {
     "name": "stdout",
     "output_type": "stream",
     "text": [
      "bond_NOUN\n"
     ]
    }
   ],
   "source": [
    "for word in w2v_model.wv.vocab.keys():\n",
    "    if 'bond' in word:\n",
    "        print(word)"
   ]
  },
  {
   "cell_type": "code",
   "execution_count": 592,
   "id": "thorough-harris",
   "metadata": {},
   "outputs": [
    {
     "data": {
      "text/html": [
       "<div>\n",
       "<style scoped>\n",
       "    .dataframe tbody tr th:only-of-type {\n",
       "        vertical-align: middle;\n",
       "    }\n",
       "\n",
       "    .dataframe tbody tr th {\n",
       "        vertical-align: top;\n",
       "    }\n",
       "\n",
       "    .dataframe thead th {\n",
       "        text-align: right;\n",
       "    }\n",
       "</style>\n",
       "<table border=\"1\" class=\"dataframe\">\n",
       "  <thead>\n",
       "    <tr style=\"text-align: right;\">\n",
       "      <th></th>\n",
       "      <th>greece</th>\n",
       "      <th>institution</th>\n",
       "      <th>imf</th>\n",
       "      <th>ecb</th>\n",
       "      <th>commission</th>\n",
       "      <th>government</th>\n",
       "      <th>referendum</th>\n",
       "      <th>mou</th>\n",
       "      <th>debt</th>\n",
       "      <th>pension</th>\n",
       "      <th>bank</th>\n",
       "      <th>bond</th>\n",
       "      <th>crisis</th>\n",
       "    </tr>\n",
       "  </thead>\n",
       "  <tbody>\n",
       "    <tr>\n",
       "      <th>0</th>\n",
       "      <td>principle</td>\n",
       "      <td>fair</td>\n",
       "      <td>great</td>\n",
       "      <td>deal</td>\n",
       "      <td>sure</td>\n",
       "      <td>decide</td>\n",
       "      <td>call</td>\n",
       "      <td>call</td>\n",
       "      <td>direction</td>\n",
       "      <td>ahead</td>\n",
       "      <td>assistance</td>\n",
       "      <td>late</td>\n",
       "      <td>beginning</td>\n",
       "    </tr>\n",
       "    <tr>\n",
       "      <th>1</th>\n",
       "      <td>hour</td>\n",
       "      <td>imf</td>\n",
       "      <td>say</td>\n",
       "      <td>probably</td>\n",
       "      <td>possibility</td>\n",
       "      <td>recall</td>\n",
       "      <td>lose</td>\n",
       "      <td>long</td>\n",
       "      <td>summit</td>\n",
       "      <td>arrangement</td>\n",
       "      <td>good</td>\n",
       "      <td>rest</td>\n",
       "      <td>risk</td>\n",
       "    </tr>\n",
       "    <tr>\n",
       "      <th>2</th>\n",
       "      <td>tax</td>\n",
       "      <td>focus</td>\n",
       "      <td>plan</td>\n",
       "      <td>well</td>\n",
       "      <td>recommend</td>\n",
       "      <td>union</td>\n",
       "      <td>clearly</td>\n",
       "      <td>make</td>\n",
       "      <td>mean</td>\n",
       "      <td>funding</td>\n",
       "      <td>lack</td>\n",
       "      <td>effect</td>\n",
       "      <td>focus</td>\n",
       "    </tr>\n",
       "    <tr>\n",
       "      <th>3</th>\n",
       "      <td>possibly</td>\n",
       "      <td>legislation</td>\n",
       "      <td>commission</td>\n",
       "      <td>right</td>\n",
       "      <td>imf</td>\n",
       "      <td>true</td>\n",
       "      <td>moment</td>\n",
       "      <td>start</td>\n",
       "      <td>confirm</td>\n",
       "      <td>begin</td>\n",
       "      <td>effect</td>\n",
       "      <td>stage</td>\n",
       "      <td>finally</td>\n",
       "    </tr>\n",
       "    <tr>\n",
       "      <th>4</th>\n",
       "      <td>press</td>\n",
       "      <td>deposit</td>\n",
       "      <td>mandate</td>\n",
       "      <td>work</td>\n",
       "      <td>service</td>\n",
       "      <td>politically</td>\n",
       "      <td>improve</td>\n",
       "      <td>raise</td>\n",
       "      <td>relate</td>\n",
       "      <td>convergence</td>\n",
       "      <td>common</td>\n",
       "      <td>year</td>\n",
       "      <td>couple</td>\n",
       "    </tr>\n",
       "    <tr>\n",
       "      <th>5</th>\n",
       "      <td>create</td>\n",
       "      <td>plan</td>\n",
       "      <td>impossible</td>\n",
       "      <td>have</td>\n",
       "      <td>consequence</td>\n",
       "      <td>instead</td>\n",
       "      <td>bit</td>\n",
       "      <td>word</td>\n",
       "      <td>concern</td>\n",
       "      <td>concern</td>\n",
       "      <td>briefly</td>\n",
       "      <td>maintain</td>\n",
       "      <td>one</td>\n",
       "    </tr>\n",
       "    <tr>\n",
       "      <th>6</th>\n",
       "      <td>meet</td>\n",
       "      <td>system</td>\n",
       "      <td>benefit</td>\n",
       "      <td>point</td>\n",
       "      <td>undertake</td>\n",
       "      <td>fund</td>\n",
       "      <td>proceed</td>\n",
       "      <td>feel</td>\n",
       "      <td>meeting</td>\n",
       "      <td>maybe</td>\n",
       "      <td>set</td>\n",
       "      <td>commitment</td>\n",
       "      <td>take</td>\n",
       "    </tr>\n",
       "    <tr>\n",
       "      <th>7</th>\n",
       "      <td>recessionary</td>\n",
       "      <td>parliament</td>\n",
       "      <td>minute</td>\n",
       "      <td>hour</td>\n",
       "      <td>govern</td>\n",
       "      <td>compare</td>\n",
       "      <td>carry</td>\n",
       "      <td>one</td>\n",
       "      <td>talk</td>\n",
       "      <td>try</td>\n",
       "      <td>right</td>\n",
       "      <td>second</td>\n",
       "      <td>minister</td>\n",
       "    </tr>\n",
       "    <tr>\n",
       "      <th>8</th>\n",
       "      <td>look</td>\n",
       "      <td>eurogroup</td>\n",
       "      <td>arrangement</td>\n",
       "      <td>nominal</td>\n",
       "      <td>bill</td>\n",
       "      <td>monetary</td>\n",
       "      <td>procedure</td>\n",
       "      <td>stance</td>\n",
       "      <td>long</td>\n",
       "      <td>maintain</td>\n",
       "      <td>respond</td>\n",
       "      <td>economy</td>\n",
       "      <td>greece</td>\n",
       "    </tr>\n",
       "    <tr>\n",
       "      <th>9</th>\n",
       "      <td>crisis</td>\n",
       "      <td>commitment</td>\n",
       "      <td>collect</td>\n",
       "      <td>concrete</td>\n",
       "      <td>old</td>\n",
       "      <td>cover</td>\n",
       "      <td>measure</td>\n",
       "      <td>month</td>\n",
       "      <td>sufficiently</td>\n",
       "      <td>approach</td>\n",
       "      <td>sure</td>\n",
       "      <td>area</td>\n",
       "      <td>private</td>\n",
       "    </tr>\n",
       "  </tbody>\n",
       "</table>\n",
       "</div>"
      ],
      "text/plain": [
       "         greece  institution          imf       ecb   commission   government  \\\n",
       "0     principle         fair        great      deal         sure       decide   \n",
       "1          hour          imf          say  probably  possibility       recall   \n",
       "2           tax        focus         plan      well    recommend        union   \n",
       "3      possibly  legislation   commission     right          imf         true   \n",
       "4         press      deposit      mandate      work      service  politically   \n",
       "5        create         plan   impossible      have  consequence      instead   \n",
       "6          meet       system      benefit     point    undertake         fund   \n",
       "7  recessionary   parliament       minute      hour       govern      compare   \n",
       "8          look    eurogroup  arrangement   nominal         bill     monetary   \n",
       "9        crisis   commitment      collect  concrete          old        cover   \n",
       "\n",
       "  referendum     mou          debt      pension        bank        bond  \\\n",
       "0       call    call     direction        ahead  assistance        late   \n",
       "1       lose    long        summit  arrangement        good        rest   \n",
       "2    clearly    make          mean      funding        lack      effect   \n",
       "3     moment   start       confirm        begin      effect       stage   \n",
       "4    improve   raise        relate  convergence      common        year   \n",
       "5        bit    word       concern      concern     briefly    maintain   \n",
       "6    proceed    feel       meeting        maybe         set  commitment   \n",
       "7      carry     one          talk          try       right      second   \n",
       "8  procedure  stance          long     maintain     respond     economy   \n",
       "9    measure   month  sufficiently     approach        sure        area   \n",
       "\n",
       "      crisis  \n",
       "0  beginning  \n",
       "1       risk  \n",
       "2      focus  \n",
       "3    finally  \n",
       "4     couple  \n",
       "5        one  \n",
       "6       take  \n",
       "7   minister  \n",
       "8     greece  \n",
       "9    private  "
      ]
     },
     "execution_count": 592,
     "metadata": {},
     "output_type": "execute_result"
    }
   ],
   "source": [
    "keywords = [\n",
    "    'greece_NOUN',\n",
    "    'institution_NOUN',\n",
    "    'imf_NOUN',\n",
    "    'ecb_NOUN',\n",
    "    'commission_NOUN',\n",
    "    'government_NOUN',\n",
    "    'referendum_NOUN',\n",
    "    'mou_NOUN',\n",
    "    'debt_NOUN',\n",
    "    'debt_sustainability_NOUN',\n",
    "    'pension_NOUN',\n",
    "    'bank_NOUN',\n",
    "    'bond_NOUN',\n",
    "    'crisis_NOUN'\n",
    "]\n",
    "\n",
    "df_closest = pd.DataFrame({word.split('_')[0]: [n.split('_')[0] for n,score in w2v_model.wv.most_similar(word)] for word in keywords})\n",
    "df_closest"
   ]
  },
  {
   "cell_type": "code",
   "execution_count": 298,
   "id": "retained-blast",
   "metadata": {},
   "outputs": [],
   "source": [
    "word1 = \"greece_NOUN\"\n",
    "word2 = \"accept_VERB\"\n",
    "\n",
    "# retrive the actual vector\n",
    "#w2v_model.wv[word1]\n",
    "\n",
    "# compare\n",
    "#w2v_model.wv.similarity(word1 , word2)\n",
    "\n",
    "# get the 3 most similar words\n",
    "#w2v_model.wv.most_similar(positive=[word1])"
   ]
  },
  {
   "cell_type": "markdown",
   "id": "interim-mounting",
   "metadata": {},
   "source": [
    "### PCA + t-SNE visualization"
   ]
  },
  {
   "cell_type": "code",
   "execution_count": 176,
   "id": "grave-boards",
   "metadata": {},
   "outputs": [],
   "source": [
    "import numpy as np\n",
    "import matplotlib.pyplot as plt\n",
    "%matplotlib inline\n",
    " \n",
    "import seaborn as sns\n",
    "sns.set_style(\"darkgrid\")\n",
    "\n",
    "from sklearn.decomposition import PCA\n",
    "from sklearn.manifold import TSNE"
   ]
  },
  {
   "cell_type": "code",
   "execution_count": 306,
   "id": "seven-release",
   "metadata": {},
   "outputs": [],
   "source": [
    "def tsnescatterplot(model, word1, word2, colors):\n",
    "    \"\"\" Plot in seaborn the results from the t-SNE dimensionality reduction algorithm of the vectors of a query word,\n",
    "    its list of most similar words, and a list of words.\n",
    "    \"\"\"\n",
    "    arrays = np.empty((0, 300), dtype='f')\n",
    "    \n",
    "    # word1\n",
    "    word_labels = [word1]\n",
    "    color_list  = [colors[0]]\n",
    "    # adds the vector of the query word\n",
    "    arrays = np.append(arrays, model.wv.__getitem__([word1]), axis=0)\n",
    "    \n",
    "    # closest of word1\n",
    "    close_words = model.wv.most_similar([word1])\n",
    "    \n",
    "    # adds the vector for each of the closest words to the array\n",
    "    for wrd_score in close_words:\n",
    "        wrd_vector = model.wv.__getitem__([wrd_score[0]])\n",
    "        word_labels.append(wrd_score[0])\n",
    "        color_list.append(colors[1])\n",
    "        arrays = np.append(arrays, wrd_vector, axis=0)\n",
    "        \n",
    "    # word2\n",
    "    word_labels.append(word2)\n",
    "    color_list.append(colors[2])\n",
    "    # adds the vector of the query word\n",
    "    arrays = np.append(arrays, model.wv.__getitem__([word2]), axis=0)\n",
    "    \n",
    "    # closest of word2\n",
    "    close_words = model.wv.most_similar([word2])\n",
    "    \n",
    "    # adds the vector for each of the closest words to the array\n",
    "    for wrd_score in close_words:\n",
    "        wrd_vector = model.wv.__getitem__([wrd_score[0]])\n",
    "        # special color if both search words share closest\n",
    "        if wrd_score[0] in word_labels:\n",
    "            color_list.append(colors[-1])\n",
    "        else:\n",
    "            color_list.append(colors[3])\n",
    "        word_labels.append(wrd_score[0])\n",
    "        arrays = np.append(arrays, wrd_vector, axis=0)\n",
    "        \n",
    "    print(arrays.shape)\n",
    "    # Reduces the dimensionality from 300 to 50 dimensions with PCA\n",
    "    pca = PCA(n_components=2)\n",
    "    reduc = pca.fit_transform(arrays)\n",
    "    #print('Explained variation per principal component: {}'.format(pca.explained_variance_ratio_))\n",
    "    print(reduc.shape)\n",
    "    \n",
    "    # Finds t-SNE coordinates for 2 dimensions\n",
    "    np.set_printoptions(suppress=True)\n",
    "    \n",
    "    Y = TSNE(n_components=2, perplexity=15, n_iter=20000).fit_transform(reduc)\n",
    "    print(Y.shape)\n",
    "    \n",
    "    # Sets everything up to plot\n",
    "    df = pd.DataFrame({'x': [x for x in Y[:, 0]],\n",
    "                       'y': [y for y in Y[:, 1]],\n",
    "                       'words': word_labels,\n",
    "                       'color': color_list})\n",
    "    \n",
    "    fig, _ = plt.subplots()\n",
    "    fig.set_size_inches(12, 12)\n",
    "    \n",
    "    # Basic plot\n",
    "    p1 = sns.regplot(data=df,\n",
    "                     x=\"x\",\n",
    "                     y=\"y\",\n",
    "                     fit_reg=False,\n",
    "                     marker=\"o\",\n",
    "                     scatter_kws={'s': 40,\n",
    "                                  'facecolors': df['color']\n",
    "                                 }\n",
    "                    )\n",
    "    \n",
    "    # Adds annotations one by one with a loop\n",
    "    for line in range(0, df.shape[0]):\n",
    "         p1.text(df[\"x\"][line],\n",
    "                 df['y'][line],\n",
    "                 '  ' + df[\"words\"][line].split('_')[0],\n",
    "                 horizontalalignment='left',\n",
    "                 verticalalignment='bottom', size='medium',\n",
    "                 color=df['color'][line],\n",
    "                 weight='normal'\n",
    "                ).set_size(15)\n",
    "\n",
    "    \n",
    "    plt.xlim(Y[:, 0].min()-50, Y[:, 0].max()+50)\n",
    "    plt.ylim(Y[:, 1].min()-50, Y[:, 1].max()+50)\n",
    "            \n",
    "    plt.title(f't-SNE visualization for closest neighbors of {word1.split(\"_\")[0]} and {word2.split(\"_\")[0]}')"
   ]
  },
  {
   "cell_type": "code",
   "execution_count": 424,
   "id": "visible-elements",
   "metadata": {},
   "outputs": [],
   "source": [
    "colors = np.array(sns.color_palette(\"hls\", 8))[np.array([0,1,6,7,4])]"
   ]
  },
  {
   "cell_type": "code",
   "execution_count": 308,
   "id": "focal-peter",
   "metadata": {},
   "outputs": [
    {
     "name": "stdout",
     "output_type": "stream",
     "text": [
      "(22, 300)\n",
      "(22, 2)\n",
      "(22, 2)\n"
     ]
    },
    {
     "data": {
      "image/png": "[encoded data removed]",
      "text/plain": [
       "<Figure size 864x864 with 1 Axes>"
      ]
     },
     "metadata": {},
     "output_type": "display_data"
    }
   ],
   "source": [
    "tsnescatterplot(w2v_model, 'greece_NOUN', 'institution_NOUN', colors=colors)"
   ]
  },
  {
   "cell_type": "markdown",
   "id": "alpine-drill",
   "metadata": {},
   "source": [
    "## document embeddings\n",
    "Document = speaker.\n",
    "\n",
    "- [ ] maybe use national debt levels in 2015 for retrofitting or structure (when clustering)\n",
    "- [ ] use agglomerative clustering instead of k-means"
   ]
  },
  {
   "cell_type": "code",
   "execution_count": 479,
   "id": "nasty-gnome",
   "metadata": {},
   "outputs": [],
   "source": [
    "df = df_prepared.copy()\n",
    "# apply collocations\n",
    "df.speech = df.speech.apply(lambda s: apply_trigram_colloc(s, trigram_colloc))\n",
    "df.speech = df.speech.apply(lambda s: apply_bigram_colloc(s, bigram_colloc))"
   ]
  },
  {
   "cell_type": "code",
   "execution_count": 480,
   "id": "reserved-wiring",
   "metadata": {},
   "outputs": [],
   "source": [
    "# missing:\n",
    "# estonia (Maris Lauri, Sven Sester)\n",
    "# luxembourg (Pierre Gramegna)\n",
    "\n",
    "\n",
    "speaker_to_entity = {\n",
    "    'jeroen dijsselbloem': 'eurogroup president', # the netherlands\n",
    "    'michael noonan': 'ireland',\n",
    "    'pierre moscovici': 'european commission',\n",
    "    'mario draghi': 'ecb',\n",
    "    'wolfgang schäuble': 'germany',\n",
    "    'thomas steffen': 'germany', # State Secretary at the Federal Ministry of Finance under Schauble\n",
    "    'christine lagarde': 'imf',\n",
    "    'yanis varoufakis': 'greece',\n",
    "    'luis de guindos': 'spain',\n",
    "    'maria luís albuquerque': 'portugal',\n",
    "    'marco buti': 'european commission',\n",
    "    'thomas wieser': 'efc', # economic and financial committee\n",
    "    'declan costello': 'european commission', #dg ecfin\n",
    "    'benoît cœuré': 'ecb',\n",
    "    'poul mathias thomsen': 'imf',\n",
    "    'greek representative': 'greece',\n",
    "    'nikos theocarakis': 'greece',\n",
    "    'hans jörg schelling': 'austria',\n",
    "    'klaus regling': 'esm', # head of european stability mechanism\n",
    "    'peter kažimír': 'slovakia',\n",
    "    'dušan mramor': 'slovenia',\n",
    "    'michel sapin': 'france',\n",
    "    'translator': 'france',\n",
    "    'pier carlo padoan': 'italy',\n",
    "    'edward scicluna': 'malta',\n",
    "    'rimantas šadžius': 'lithuania',\n",
    "    'alexander stubb': 'finland', # from May 29\n",
    "    'tooma': 'finland', # based on saying they have two and a half weeks until elections on April 1\n",
    "    'johan van overtveldt': 'belgium',\n",
    "    'harris georgiades': 'cyprus',\n",
    "    'luis pierre': 'european commission',\n",
    "    'jānis reirs': 'latvia',\n",
    "    'luca antonio ricci': 'imf'\n",
    "}\n",
    "\n",
    "# add column for entity, label unassigned as unknown\n",
    "df['entity'] = df.speaker.apply(lambda s: speaker_to_entity[s] if s in speaker_to_entity.keys() else 'unkown')"
   ]
  },
  {
   "cell_type": "code",
   "execution_count": 481,
   "id": "challenging-speaking",
   "metadata": {},
   "outputs": [],
   "source": [
    "grouped = df.drop(columns=['timestamp','date','speaker']).groupby('entity').apply(lambda s: ' '.join(s.speech))"
   ]
  },
  {
   "cell_type": "code",
   "execution_count": 482,
   "id": "occupational-drink",
   "metadata": {},
   "outputs": [],
   "source": [
    "#grouped = df.drop(columns=['timestamp','date', 'entity']).groupby('speaker').apply(lambda s: ' '.join(s.speech))"
   ]
  },
  {
   "cell_type": "code",
   "execution_count": 483,
   "id": "precise-haven",
   "metadata": {},
   "outputs": [],
   "source": [
    "from gensim.models import Doc2Vec\n",
    "from gensim.models.doc2vec import TaggedDocument\n",
    "\n",
    "nlp = spacy.load(\"en_core_web_sm\")\n",
    "\n",
    "documents = []\n",
    "\n",
    "for entity, text in grouped.iteritems():\n",
    "    \n",
    "    doc = nlp(text)\n",
    "    \n",
    "    doc_ = [f'{token.lemma_}_{token.pos_}' for sentence in doc.sents for token in sentence\n",
    "                if token.pos_ in {'ADJ', 'ADV', 'NOUN', 'PROPN', 'VERB'} # content words\n",
    "                and not token.is_stop\n",
    "                and not token.text in stopnames\n",
    "                and len(token.text) > 1 # for punctuation (but also 'I')\n",
    "            ]\n",
    "    \n",
    "    documents.append(TaggedDocument(doc_, tags=[entity]))"
   ]
  },
  {
   "cell_type": "code",
   "execution_count": 484,
   "id": "upper-milton",
   "metadata": {},
   "outputs": [],
   "source": [
    "d2v_model = Doc2Vec(vector_size=300,\n",
    "                    window=3,\n",
    "                    sample=1e-5,\n",
    "                    negative=5,\n",
    "                    min_count=10,\n",
    "                    #alpha=0.03,\n",
    "                    #min_alpha=0.000007,\n",
    "                    workers=-1,\n",
    "                    epochs=10000,\n",
    "                    dm=0,\n",
    "                    dbow_words=1\n",
    ")"
   ]
  },
  {
   "cell_type": "code",
   "execution_count": 485,
   "id": "elegant-journalism",
   "metadata": {},
   "outputs": [],
   "source": [
    "d2v_model.build_vocab(documents)"
   ]
  },
  {
   "cell_type": "code",
   "execution_count": 486,
   "id": "nuclear-yorkshire",
   "metadata": {},
   "outputs": [],
   "source": [
    "d2v_model.train(documents, total_examples=d2v_model.corpus_count, epochs=d2v_model.epochs)"
   ]
  },
  {
   "cell_type": "code",
   "execution_count": 487,
   "id": "surface-basin",
   "metadata": {},
   "outputs": [
    {
     "name": "stdout",
     "output_type": "stream",
     "text": [
      "There are 23 entities\n"
     ]
    }
   ],
   "source": [
    "print(f'There are {grouped.index.size} entities')"
   ]
  },
  {
   "cell_type": "code",
   "execution_count": 593,
   "id": "hollywood-charge",
   "metadata": {},
   "outputs": [
    {
     "ename": "KeyError",
     "evalue": "\"tag 'alexander stubb' not seen in training corpus/invalid\"",
     "output_type": "error",
     "traceback": [
      "\u001b[0;31m---------------------------------------------------------------------------\u001b[0m",
      "\u001b[0;31mKeyError\u001b[0m                                  Traceback (most recent call last)",
      "\u001b[0;32m<ipython-input-593-cacfa3722651>\u001b[0m in \u001b[0;36m<module>\u001b[0;34m\u001b[0m\n\u001b[1;32m      4\u001b[0m \u001b[0;32mfor\u001b[0m \u001b[0mlabel\u001b[0m \u001b[0;32min\u001b[0m \u001b[0mlabels\u001b[0m\u001b[0;34m:\u001b[0m\u001b[0;34m\u001b[0m\u001b[0;34m\u001b[0m\u001b[0m\n\u001b[1;32m      5\u001b[0m     \u001b[0;31m#print(d2v_model.docvecs[label].shape)\u001b[0m\u001b[0;34m\u001b[0m\u001b[0;34m\u001b[0m\u001b[0;34m\u001b[0m\u001b[0m\n\u001b[0;32m----> 6\u001b[0;31m     \u001b[0marrays\u001b[0m \u001b[0;34m=\u001b[0m \u001b[0mnp\u001b[0m\u001b[0;34m.\u001b[0m\u001b[0mappend\u001b[0m\u001b[0;34m(\u001b[0m\u001b[0marrays\u001b[0m\u001b[0;34m,\u001b[0m \u001b[0md2v_model\u001b[0m\u001b[0;34m.\u001b[0m\u001b[0mdocvecs\u001b[0m\u001b[0;34m[\u001b[0m\u001b[0mlabel\u001b[0m\u001b[0;34m]\u001b[0m\u001b[0;34m.\u001b[0m\u001b[0mreshape\u001b[0m\u001b[0;34m(\u001b[0m\u001b[0;34m(\u001b[0m\u001b[0;36m1\u001b[0m\u001b[0;34m,\u001b[0m\u001b[0;36m300\u001b[0m\u001b[0;34m)\u001b[0m\u001b[0;34m)\u001b[0m\u001b[0;34m,\u001b[0m \u001b[0maxis\u001b[0m\u001b[0;34m=\u001b[0m\u001b[0;36m0\u001b[0m\u001b[0;34m)\u001b[0m\u001b[0;34m\u001b[0m\u001b[0;34m\u001b[0m\u001b[0m\n\u001b[0m\u001b[1;32m      7\u001b[0m \u001b[0;34m\u001b[0m\u001b[0m\n\u001b[1;32m      8\u001b[0m \u001b[0mpca\u001b[0m \u001b[0;34m=\u001b[0m \u001b[0mPCA\u001b[0m\u001b[0;34m(\u001b[0m\u001b[0mn_components\u001b[0m\u001b[0;34m=\u001b[0m\u001b[0;36m0.95\u001b[0m\u001b[0;34m)\u001b[0m\u001b[0;34m\u001b[0m\u001b[0;34m\u001b[0m\u001b[0m\n",
      "\u001b[0;32m~/repos/master-thesis/.env/lib/python3.8/site-packages/gensim/models/keyedvectors.py\u001b[0m in \u001b[0;36m__getitem__\u001b[0;34m(self, index)\u001b[0m\n\u001b[1;32m   1611\u001b[0m                 \u001b[0;32mreturn\u001b[0m \u001b[0mself\u001b[0m\u001b[0;34m.\u001b[0m\u001b[0mvectors_docs\u001b[0m\u001b[0;34m[\u001b[0m\u001b[0mself\u001b[0m\u001b[0;34m.\u001b[0m\u001b[0m_int_index\u001b[0m\u001b[0;34m(\u001b[0m\u001b[0mindex\u001b[0m\u001b[0;34m,\u001b[0m \u001b[0mself\u001b[0m\u001b[0;34m.\u001b[0m\u001b[0mdoctags\u001b[0m\u001b[0;34m,\u001b[0m \u001b[0mself\u001b[0m\u001b[0;34m.\u001b[0m\u001b[0mmax_rawint\u001b[0m\u001b[0;34m)\u001b[0m\u001b[0;34m]\u001b[0m\u001b[0;34m\u001b[0m\u001b[0;34m\u001b[0m\u001b[0m\n\u001b[1;32m   1612\u001b[0m             \u001b[0;32mreturn\u001b[0m \u001b[0mvstack\u001b[0m\u001b[0;34m(\u001b[0m\u001b[0;34m[\u001b[0m\u001b[0mself\u001b[0m\u001b[0;34m[\u001b[0m\u001b[0mi\u001b[0m\u001b[0;34m]\u001b[0m \u001b[0;32mfor\u001b[0m \u001b[0mi\u001b[0m \u001b[0;32min\u001b[0m \u001b[0mindex\u001b[0m\u001b[0;34m]\u001b[0m\u001b[0;34m)\u001b[0m\u001b[0;34m\u001b[0m\u001b[0;34m\u001b[0m\u001b[0m\n\u001b[0;32m-> 1613\u001b[0;31m         \u001b[0;32mraise\u001b[0m \u001b[0mKeyError\u001b[0m\u001b[0;34m(\u001b[0m\u001b[0;34m\"tag '%s' not seen in training corpus/invalid\"\u001b[0m \u001b[0;34m%\u001b[0m \u001b[0mindex\u001b[0m\u001b[0;34m)\u001b[0m\u001b[0;34m\u001b[0m\u001b[0;34m\u001b[0m\u001b[0m\n\u001b[0m\u001b[1;32m   1614\u001b[0m \u001b[0;34m\u001b[0m\u001b[0m\n\u001b[1;32m   1615\u001b[0m     \u001b[0;32mdef\u001b[0m \u001b[0m__contains__\u001b[0m\u001b[0;34m(\u001b[0m\u001b[0mself\u001b[0m\u001b[0;34m,\u001b[0m \u001b[0mindex\u001b[0m\u001b[0;34m)\u001b[0m\u001b[0;34m:\u001b[0m\u001b[0;34m\u001b[0m\u001b[0;34m\u001b[0m\u001b[0m\n",
      "\u001b[0;31mKeyError\u001b[0m: \"tag 'alexander stubb' not seen in training corpus/invalid\""
     ]
    }
   ],
   "source": [
    "labels = grouped.index\n",
    "arrays = np.empty((0, 300), dtype='f')\n",
    "\n",
    "for label in labels:\n",
    "    #print(d2v_model.docvecs[label].shape)\n",
    "    arrays = np.append(arrays, d2v_model.docvecs[label].reshape((1,300)), axis=0)\n",
    "    \n",
    "pca = PCA(n_components=0.95)\n",
    "reduc = pca.fit_transform(arrays)\n",
    "print(reduc.shape)\n",
    "#print('Explained variation per principal component: {}'.format(pca.explained_variance_ratio_))\n",
    "\n",
    "\n",
    "# CLUSTERING\n",
    "from sklearn.cluster import KMeans\n",
    "km = KMeans(n_clusters=2, max_iter=1000)\n",
    "clusters = km.fit_predict(reduc)\n",
    "centroids = km.cluster_centers_\n",
    "\n",
    "color_palette = np.array(sns.color_palette(\"hls\", 8))[np.array([0,5])]\n",
    "colors = list(color_palette[clusters])\n",
    "    \n",
    "# Finds t-SNE coordinates for 2 dimensions\n",
    "np.set_printoptions(suppress=True)\n",
    "    \n",
    "Y = TSNE(n_components=2, perplexity=15, n_iter=20000).fit_transform(reduc)\n",
    "    \n",
    "# Sets everything up to plot\n",
    "df = pd.DataFrame({'x': [x for x in Y[:, 0]],\n",
    "                    'y': [y for y in Y[:, 1]],\n",
    "                    'words': labels,\n",
    "                    'color': colors})\n",
    "    \n",
    "fig, _ = plt.subplots()\n",
    "fig.set_size_inches(9, 9)\n",
    "    \n",
    "# Basic plot\n",
    "p1 = sns.regplot(data=df,\n",
    "                     x=\"x\",\n",
    "                     y=\"y\",\n",
    "                     fit_reg=False,\n",
    "                     marker=\"o\",\n",
    "                     scatter_kws={'s': 40,\n",
    "                                  'facecolors': df['color']\n",
    "                        }\n",
    "                    )\n",
    "    \n",
    "# Adds annotations one by one with a loop\n",
    "for line in range(0, df.shape[0]):\n",
    "     p1.text(df[\"x\"][line],\n",
    "             df['y'][line],\n",
    "             '  ' + df[\"words\"][line],\n",
    "             horizontalalignment='left',\n",
    "             verticalalignment='bottom', size='medium',\n",
    "             color=df['color'][line],\n",
    "             weight='normal'\n",
    "            ).set_size(15)\n",
    "\n",
    "    \n",
    "#plt.xlim(Y[:, 0].min()-50, Y[:, 0].max()+50)\n",
    "#plt.ylim(Y[:, 1].min()-50, Y[:, 1].max()+50)\n",
    "            \n",
    "#plt.title(f't-SNE visualization for closest neighbors of {word1.split(\"_\")[0]} and {word2.split(\"_\")[0]}')"
   ]
  },
  {
   "cell_type": "code",
   "execution_count": null,
   "id": "appreciated-boost",
   "metadata": {},
   "outputs": [],
   "source": []
  },
  {
   "cell_type": "markdown",
   "id": "interesting-producer",
   "metadata": {},
   "source": [
    "# communiques"
   ]
  },
  {
   "cell_type": "code",
   "execution_count": null,
   "id": "historic-climate",
   "metadata": {},
   "outputs": [],
   "source": [
    "pd.read_csv('data/communiques/prepared.csv').sort_values(by='date').reset_index(drop=True)"
   ]
  },
  {
   "cell_type": "code",
   "execution_count": null,
   "id": "hybrid-saturn",
   "metadata": {},
   "outputs": [],
   "source": []
  }
 ],
 "metadata": {
  "kernelspec": {
   "display_name": "Python 3",
   "language": "python",
   "name": "python3"
  },
  "language_info": {
   "codemirror_mode": {
    "name": "ipython",
    "version": 3
   },
   "file_extension": ".py",
   "mimetype": "text/x-python",
   "name": "python",
   "nbconvert_exporter": "python",
   "pygments_lexer": "ipython3",
   "version": "3.8.5"
  }
 },
 "nbformat": 4,
 "nbformat_minor": 5
}
