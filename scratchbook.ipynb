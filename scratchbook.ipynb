{
 "cells": [
  {
   "cell_type": "code",
   "execution_count": 1,
   "id": "dangerous-change",
   "metadata": {},
   "outputs": [],
   "source": [
    "import urllib.request\n",
    "from bs4 import BeautifulSoup\n",
    "import numpy as np\n",
    "import pandas as pd\n",
    "import re\n",
    "import matplotlib.pyplot as plt"
   ]
  },
  {
   "cell_type": "markdown",
   "id": "balanced-assistant",
   "metadata": {},
   "source": [
    "# scrape Euroleaks"
   ]
  },
  {
   "cell_type": "code",
   "execution_count": 2,
   "id": "noted-nebraska",
   "metadata": {},
   "outputs": [],
   "source": [
    "# each group has a different html structure\n",
    "leaks_short = {1: [\n",
    "            'feb24eurogroup/',\n",
    "            'mar17ewg/',\n",
    "            'apr1ewg/',\n",
    "            'apr24eurogroup/',\n",
    "            'may11eurogroup/',\n",
    "            'jun18eurogroup/',\n",
    "            'jun22eurogroup/',\n",
    "            'jun24eurogroup/',\n",
    "            'jun25eurogroup-part1/',\n",
    "            'jun27eurogroup/',\n",
    "            'jun30eurogroup/'\n",
    "            ],\n",
    "         2: ['jul1eurogroup/'],\n",
    "         3: ['jun25eurogroup-part-2/']\n",
    "        }\n",
    "\n",
    "leaks = {\n",
    "    group: [{\n",
    "        'url': f'https://euroleaks.diem25.org/leaks/{leak}',\n",
    "        'short': leak[:-1]}\n",
    "        for leak in urls_] for group, urls_ in leaks_short.items() \n",
    "}"
   ]
  },
  {
   "cell_type": "markdown",
   "id": "pointed-volleyball",
   "metadata": {},
   "source": [
    "download HTML pages containing the transcripts"
   ]
  },
  {
   "cell_type": "code",
   "execution_count": 10,
   "id": "prerequisite-revision",
   "metadata": {},
   "outputs": [],
   "source": [
    "for leaks_ in leaks.values():\n",
    "    for leak in leaks_:\n",
    "        urllib.request.urlretrieve(leak['url'], f'data/euroleaks/html/{leak[\"short\"]}.html')"
   ]
  },
  {
   "cell_type": "markdown",
   "id": "dimensional-oracle",
   "metadata": {},
   "source": [
    "parse with BeatifulSoup, construct Pandas dataframe"
   ]
  },
  {
   "cell_type": "code",
   "execution_count": 309,
   "id": "basic-offense",
   "metadata": {},
   "outputs": [],
   "source": [
    "def format_timestamp(s):\n",
    "    if re.compile('\\(\\d{2}:\\d{2}:\\d{2}\\)').match(s):\n",
    "        return pd.to_datetime(s, format='(%H:%M:%S)')\n",
    "    elif re.compile('\\(\\d{2}:\\d{2}\\)').match(s):\n",
    "        return pd.to_datetime(s, format='(%M:%S)', errors='coerce')\n",
    "    else:\n",
    "        return np.datetime64('NaT')"
   ]
  },
  {
   "cell_type": "code",
   "execution_count": 310,
   "id": "utility-maximum",
   "metadata": {},
   "outputs": [],
   "source": [
    "dfs = []\n",
    "\n",
    "speaker_regex = '^([\\w*\\[\\]] *)*'\n",
    "\n",
    "for group, leaks_ in leaks.items():\n",
    "    \n",
    "    for leak in leaks_:\n",
    "        \n",
    "        with open(f'data/euroleaks/html/{leak[\"short\"]}.html', 'r') as page:\n",
    "            \n",
    "            content = page.read()\n",
    "            soup = BeautifulSoup(content, 'html.parser')\n",
    "\n",
    "            date = soup.find(class_='post-date').find(class_='meta-text').text.strip()\n",
    "    \n",
    "            col_speaker = []\n",
    "            col_speech = []\n",
    "            col_timestamp = []\n",
    "        \n",
    "            if group == 1:\n",
    "\n",
    "                interventions = soup.find(id='transcript_without_translation').find_all(class_='intervention')\n",
    "\n",
    "                for intervention in interventions:\n",
    "                    # get speaker name\n",
    "                    col_speaker.append(re.search(speaker_regex, intervention.find(class_='speaker-name').text).group())\n",
    "                    # get speech\n",
    "                    col_speech.append(intervention.find(class_='speech').text)\n",
    "                    # get timestamp\n",
    "                    timestamp_ = intervention.find(class_='timestamp')\n",
    "                    col_timestamp.append(format_timestamp(timestamp_.text) if timestamp_ else np.datetime64('NaT'))\n",
    "\n",
    "            elif group == 2:\n",
    "            \n",
    "                paragraphs = soup.find(id='transcript_without_translation').find_all('p')\n",
    "            \n",
    "                last_speaker = np.nan\n",
    "\n",
    "                for p in paragraphs: \n",
    "    \n",
    "                    have_speaker = False\n",
    "                    speech = ''\n",
    "    \n",
    "                    timestamp_ = p.find(class_='timestamp')\n",
    "    \n",
    "                    for line in p.text.split('\\n'):\n",
    "                        if line.endswith(':'):\n",
    "                            if have_speaker:\n",
    "                                col_speaker.append(last_speaker)\n",
    "                                col_speech.append(speech.strip())\n",
    "                                col_timestamp.append(format_timestamp(timestamp_.text) if timestamp_ else np.datetime64('NaT'))\n",
    "                            else:\n",
    "                                have_speaker = not have_speaker\n",
    "                \n",
    "                            last_speaker = re.search(speaker_regex, line).group()\n",
    "                            speech = '' \n",
    "                        else:\n",
    "                            speech = '\\n'.join((speech, line.strip()))\n",
    "            \n",
    "                    col_speaker.append(last_speaker)\n",
    "                    col_speech.append(speech.strip())\n",
    "                    col_timestamp.append(format_timestamp(timestamp_.text) if timestamp_ else np.datetime64('NaT'))\n",
    "\n",
    "            elif group == 3:\n",
    "            \n",
    "                paragraphs = soup.find(id='transcript_without_translation').find_all('p')\n",
    "                \n",
    "                last_speaker = np.nan\n",
    "                timestamp = np.datetime64('NaT')\n",
    "\n",
    "                for p in paragraphs:\n",
    "    \n",
    "                    if p.text.endswith(':'):\n",
    "                        last_speaker = re.search(speaker_regex, p.text).group()\n",
    "                        timestamp = re.search('\\(\\d{2}:\\d{2}\\)', p.text).group() if re.search('\\(\\d{2}:\\d{2}\\)', p.text) else np.nan\n",
    "        \n",
    "                    else:\n",
    "                        col_speaker.append(last_speaker)\n",
    "                        col_speech.append(p.text)\n",
    "                        if not pd.isnull(timestamp):\n",
    "                            col_timestamp.append(format_timestamp(timestamp))\n",
    "                            timestamp = np.datetime64('NaT')\n",
    "                        else:\n",
    "                            col_timestamp.append(np.datetime64('NaT'))\n",
    "                \n",
    "                \n",
    "            dfs.append(pd.DataFrame({\n",
    "                'speaker': col_speaker,\n",
    "                'speech': col_speech,\n",
    "                'timestamp': col_timestamp,\n",
    "                'date': pd.to_datetime(np.repeat(date, len(col_timestamp)))\n",
    "                }))\n",
    "\n",
    "leaks_df = pd.concat(dfs, ignore_index=True)"
   ]
  },
  {
   "cell_type": "code",
   "execution_count": 312,
   "id": "suspected-crest",
   "metadata": {},
   "outputs": [
    {
     "data": {
      "text/html": [
       "<div>\n",
       "<style scoped>\n",
       "    .dataframe tbody tr th:only-of-type {\n",
       "        vertical-align: middle;\n",
       "    }\n",
       "\n",
       "    .dataframe tbody tr th {\n",
       "        vertical-align: top;\n",
       "    }\n",
       "\n",
       "    .dataframe thead th {\n",
       "        text-align: right;\n",
       "    }\n",
       "</style>\n",
       "<table border=\"1\" class=\"dataframe\">\n",
       "  <thead>\n",
       "    <tr style=\"text-align: right;\">\n",
       "      <th></th>\n",
       "      <th>speaker</th>\n",
       "      <th>speech</th>\n",
       "      <th>timestamp</th>\n",
       "      <th>date</th>\n",
       "    </tr>\n",
       "  </thead>\n",
       "  <tbody>\n",
       "    <tr>\n",
       "      <th>0</th>\n",
       "      <td>Jeroen Dijsselbloem</td>\n",
       "      <td>… of your responses or questions. And can I fi...</td>\n",
       "      <td>1900-01-01 00:00:00</td>\n",
       "      <td>2015-02-24</td>\n",
       "    </tr>\n",
       "    <tr>\n",
       "      <th>1</th>\n",
       "      <td>Speaker 2</td>\n",
       "      <td>Uh, yes, uh, thank you, Jeroen. Well, uh, comm...</td>\n",
       "      <td>1900-01-01 00:00:10</td>\n",
       "      <td>2015-02-24</td>\n",
       "    </tr>\n",
       "    <tr>\n",
       "      <th>2</th>\n",
       "      <td>Michael Noonan</td>\n",
       "      <td>Michael Noonan.</td>\n",
       "      <td>1900-01-01 00:01:27</td>\n",
       "      <td>2015-02-24</td>\n",
       "    </tr>\n",
       "    <tr>\n",
       "      <th>3</th>\n",
       "      <td>Speaker 2</td>\n",
       "      <td>Uh, it is therefore regrettable that, uh-</td>\n",
       "      <td>1900-01-01 00:01:29</td>\n",
       "      <td>2015-02-24</td>\n",
       "    </tr>\n",
       "    <tr>\n",
       "      <th>4</th>\n",
       "      <td>Speaker 3</td>\n",
       "      <td>Has entered the conference.</td>\n",
       "      <td>1900-01-01 00:01:33</td>\n",
       "      <td>2015-02-24</td>\n",
       "    </tr>\n",
       "  </tbody>\n",
       "</table>\n",
       "</div>"
      ],
      "text/plain": [
       "               speaker                                             speech  \\\n",
       "0  Jeroen Dijsselbloem  … of your responses or questions. And can I fi...   \n",
       "1            Speaker 2  Uh, yes, uh, thank you, Jeroen. Well, uh, comm...   \n",
       "2       Michael Noonan                                    Michael Noonan.   \n",
       "3            Speaker 2          Uh, it is therefore regrettable that, uh-   \n",
       "4            Speaker 3                        Has entered the conference.   \n",
       "\n",
       "            timestamp       date  \n",
       "0 1900-01-01 00:00:00 2015-02-24  \n",
       "1 1900-01-01 00:00:10 2015-02-24  \n",
       "2 1900-01-01 00:01:27 2015-02-24  \n",
       "3 1900-01-01 00:01:29 2015-02-24  \n",
       "4 1900-01-01 00:01:33 2015-02-24  "
      ]
     },
     "execution_count": 312,
     "metadata": {},
     "output_type": "execute_result"
    }
   ],
   "source": [
    "leaks_df.head()"
   ]
  },
  {
   "cell_type": "code",
   "execution_count": 49,
   "id": "owned-theorem",
   "metadata": {},
   "outputs": [
    {
     "name": "stdout",
     "output_type": "stream",
     "text": [
      "\n",
      "nan (NaT):\n",
      "Jeroen Dijsselbloem\n",
      "Now, let’s see who is on the line. Ireland? Germany?\n",
      "(inaudible greetings)\n",
      "\n",
      "Jeroen Dijsselbloem  (1900-01-01 00:01:42):\n",
      "Colleagues, Jeroen here. Are we complete? Anyone still missing?\n",
      "\n",
      "Male (1900-01-01 00:01:42):\n",
      "– Jeroen, we are missing Germany. We have sent a message.\n",
      "\n",
      "Jeroen Dijsselbloem (NaT):\n",
      "We’ll wait for a few seconds. We picked this time especially for Wolfgang. So…we ll wait a couple of minutes.\n",
      "\n",
      "Male  (1900-01-01 00:02:44):\n",
      "Jeroen, we should be complete.\n",
      "\n",
      "Jeroen Dijsselbloem (NaT):\n",
      "Thanks a lot. Uh, welcome everyone. This second conference call in two days has the purpose to come back to the two letters that were sent yesterday by the Greek Prime Minister, one to me and one to the Institutions. Um, but I think it is enough to be (inaudible) inevitable that we also reflect on the last speech by Prime Minister Tsipras this afternoon, which was again a very clear political stance.\n",
      "\n",
      "Jeroen Dijsselbloem (NaT):\n",
      "Um, the, the two letters, the first one consisted of basically two main proposals: one to ask for extension, of course we are beyond that point and we also made that clear yesterday, and secondly to start talks on a new program, new financial support from the ESF. The second letter basically said that Greece could, um, is prepared to extend the last proposal by the institutions (inaudible) but with a number of changes which I will ask the Commission to reflect upon.\n",
      "\n",
      "Jeroen Dijsselbloem (NaT):\n",
      "Um, I think we need to hear from the institutions how they assess the letters but also the situation, the political situation at the moment in Greece and then I will turn to Yanis to further explain what the situation actually is.\n",
      "\n",
      "Jeroen Dijsselbloem (NaT):\n",
      "But as agreed yesterday the commission would, with the others, look at the letters first. So, Valdis [?] are you in the call?\n",
      "– Luis Pierre\n",
      "\n",
      "Jeroen Dijsselbloem  (1900-01-01 00:04:46):\n",
      "-Pierre. Hi. Do you have response to the letters and how you see the current situation.\n",
      "\n",
      "Luis Pierre (1900-01-01 00:04:46):\n",
      "– Ok. [I hear today ] that the circumstances have obviously changed, Greece is now in arrears to the IMF following a non payment and the EFSF program that expired. The Commission response to non-payment [inaudible] to propose reaction to member states [inaudible] and we discuss that morning in the College with the agreement of the Commission today we recommend that member states fully reserve the right to make a decision once there is more clarity on the situation. Yesterday Jeroen you asked the Institutions to prepare an assessment of Greece’s proposed amendments to the list of prior actions published on Sunday. This has been done on the basis of yesterday’s letter and the views outlined, are shared, by the three institutions, but of course everybody can express opinion. Firstly I must underline (crosstalk) that the document published on Sunday relates to discussions on the extension of the EFSF program.\n",
      "\n",
      "Luis Pierre (NaT):\n",
      "Moreover (inaudible) circumstances plus the last request for new two year ESM program which will involve larger financial needs means that changes will be needed compared to the reform package which was previously envisaged.\n",
      "\n",
      "Luis Pierre (NaT):\n",
      "Any new ESM program would of course have to be fully in line with the provisions of the ESM treaty. As a general remark on Greece’s proposals, many of them from our point of view lack clarity and specificity. So further discussions with the Greek authorities will be needed to fully asses the impact our teams have not yet have the chance to do this.\n",
      "\n",
      "Luis Pierre (1900-01-01 00:06:45):\n",
      "(06:45)\n",
      "Um, some of the individual proposals could have merit as part of a comprehensive package. Proper assessment is nonetheless required [crosstalk] fiscal, financial [crosstalk] to make sure that any proposals which we (crosstalk). If I look more specifically at the proposals in order: First on VAT, um, the proposal to keep the VAT discount for islands goes in the wrong direction, not only compared to the proposal of the institutions but also earlier proposal by the Greek authorities during during (inaudible) backtracking. In addition to lower fiscal [inaudible] proposal would represent a missed opportunity to simplify the VAT system, a large administration is required to administer these discounts.\n",
      "\n",
      "Luis Pierre (1900-01-01 00:07:36):\n",
      "(07:36)\n",
      "On fiscal structure measures and pensions: The government is proposing longer phasing periods for a number of measures, for example the elimination of [inaudible] changes on the IKA social top-up to be credible. This could be the way we need clarity on when the reforms will be legislated and implemented . We have been open to implement it, but not the legislating the latest phase out of EKA provided comprehensive measures are found.\n",
      "\n",
      "Luis Pierre (1900-01-01 00:08:14):\n",
      "(08:14)\n",
      "On the labour market, the proposal also deviates from the proposal of the institutions, and finally on product market the letter is more specific on some reforms compared to Greece’s earlier proposals but they are less ambitious then the institution’s proposals, so more explanations should be given on proceeding with measures for example in response to the recommendation of [OECB 8:44] on the competition toolkit, we are not being able to evaluate some of proposals that have not been discussed in the so-called Brussels Group. Proposals to split DEI electricity company into separate legal entity on the state majority ownership also needs further careful strategy.\n",
      "\n",
      "Luis Pierre (1900-01-01 00:09:08):\n",
      "(09:08)\n",
      "To sum up, I would say that at first site, measures proposed will not be sufficient to meet Greece’s fiscal targets and will need further clarity of a number of the ideas in order to accept them properly, some of the measures have not been discussed properly in the Brussels Group.\n",
      "\n",
      "Luis Pierre (NaT):\n",
      "But there is some progress here and there, especially on the pension area, and the Commission is ready to continue working along with the other institutions on a credible reform package for Greece that reflects the changed situation.\n",
      "\n",
      "Luis Pierre (NaT):\n",
      "Lastly, following yesterday’s Greek request for new ESM program ,we are preparing the risk assessment proposal and we stand ready to prepare an assessment of AGBD for the ESM program when you give us the mandate to do so. Obviously the recent speech of Prime Minister, um, well tends to give also some indication on when this could be done.\n",
      "\n",
      "Jeroen Dijsselbloem  (1900-01-01 00:10:20):\n",
      "-Is the ECB in the call? Benoit?\n",
      "\n",
      "Benoît Cœuré  (1900-01-01 00:10:23):\n",
      "-Yes I am here, good evening.\n",
      "\n",
      "Jeroen Dijsselbloem (NaT):\n",
      "Good evening. You want to comment on the two letters and where we stand in your perspective?\n",
      "\n",
      "Benoît Cœuré  (1900-01-01 00:10:33):\n",
      "Υes, thank you Jeroen, and let me first to apologize on behalf of Mario but we have a governing council going on as we speak. Um, first let me agree with Pierre that the revised list of prior actions submitted by the Greek authorities is weaker than the proposals of the three institutions. So prior discussions are… around each Eurogroup, um, wants to explore [inaudible] further. [inaudible] we are also aware that circumstances, that the environment changed (crosstalk)\n",
      "\n",
      "Benoît Cœuré  (NaT):\n",
      "Benoît Cœuré\n",
      "Yes?\n",
      "\n",
      "Benoît Cœuré  (NaT):\n",
      "Benoît Cœuré\n",
      "Can you hear me? Is the IMF in the call? Can you hear me?\n",
      "\n",
      "Jeroen Dijsselbloem (NaT):\n",
      "I am still hearing me. Maybe I am the problem.\n",
      "\n",
      "Jeroen Dijsselbloem (NaT):\n",
      "Benoît Cœuré\n",
      "No, Jeroen, you are the solution! (laughs)\n",
      "\n",
      "Jeroen Dijsselbloem (NaT):\n",
      "-Hello?\n",
      "-Now Benoit, we can hear you.\n",
      "\n",
      "Benoît Cœuré  (1900-01-01 00:11:50):\n",
      "So, shall I continue?\n",
      "(Crosstalk)\n",
      "\n",
      "Benoît Cœuré  (1900-01-01 00:11:54):\n",
      "Ok. Ok. First point, the proposals are weaker than the proposals by the institutions.\n",
      "\n",
      "Benoît Cœuré  (NaT):\n",
      "Second the environment has changed, um due to the further delays in the implementation of the measures. Also the damage caused to the economy through the turmoil of the last days, so these will need to be taken into account when (inaudible) and also the [bonds] recapitalization requirements for the new program, so when you combine the two facts {inaudible] this results (crosstalk 12:26) I would add one thing that the proposals can be explored further, but as they stand they widen the fiscal gap and also the environment around us has changed and both factors combined lead to larger financing needs and [inaudible].\n",
      "\n",
      "Benoît Cœuré  (NaT):\n",
      "That said we understand the discussions to finetune the proposal are still going on at the technical level and as Pierre said we stand fully ready to continue working .\n",
      "\n",
      "Benoît Cœuré  (1900-01-01 00:13:07):\n",
      "(13:07)\n",
      "I have two additional remarks [crosstalk] The first additional remark is that a third program cannot be limited only to a list of prior actions so, um, the proposal of the institutions was meant to conclude the review , it was not meant to serve as a basis for an entire program. So of course, additional work would be needed to give a fully fledged, um, fully fleshed third program. And the second remark is that it is essential in our view that the Greek government commits to service all its financial obligations fully and entirely consistent with the Eurogroup statement of the 20th of February and the wording of the letter is not so reassuring in that respect, it says that the government is committed to service its external debts in a manner that ensures the viability of the Greek economic growth and social cohesion. So these would need more clarity. I stop here.\n",
      "\n",
      "Jeroen Dijsselbloem  (1900-01-01 00:14:13):\n",
      "Sorry. Thanks, Benoit. Yanis Varoufakis need to respond to that last points from yesterday’s call. Can I turn to IMF, and their assessment the letters that came in and the current situation.\n",
      "\n",
      "SPEAKER 4  (1900-01-01 00:14:28):\n",
      "Yes, thank you Joreon. I also have to apologize for my directors are at the board meeting, on Greece actually, right now. So, let me, um, explain how we see it. Also we had some technical difficulties so I didn’t hear what Benoit had to say. I heard what Pierre said and I’m in agreement [inaudible] we certainly welcome that the authorities have moved to the right direction in a number of areas but overall the proposals fall short In the sense that they are, they are not consistent with the agreed targets, um, um, um, for this year and beyond, and therefore we think… we need further discussion, we need further clarifications, we need to see details [inaudible]. We are ready to do so and welcome [inaudible]. We are, we are, we are not there. Thank you.\n",
      "\n",
      "Jeroen Dijsselbloem  (1900-01-01 00:15:54):\n",
      "That’s certainly the understatement of the day. Can I turn to Klaus? Klaus Regling?\n",
      "\n",
      "Klaus Regling  (1900-01-01 00:16:02):\n",
      "Thank you Jeroen, I have nothing to add, I agree with the institutions.\n",
      "\n",
      "Jeroen Dijsselbloem (NaT):\n",
      "Klaus can you also say something on the discussion about preserving our position as creditors?\n",
      "\n",
      "Klaus Regling (NaT):\n",
      "Yes of course, that I can do and yeah, we discussed this in the EWG before this call and we, I sent a letter this morning to Thomas Weizer. This is the necessary requirement mandate in non payment to the IMF, for that our board of directors can take the appropriate action. We agreed that this should happen on Friday, I recommended in my letter that we should preserve our right to call that this to be the most appropriate course of action for the next few days given the uncertainty. There is nothing in our treaty that falls on such conservation of rights, can last. We agreed in the EWG that it would be reviewed on an ongoing basis at least once a week the EWG would review it, or more frequently if necessary and I think that was the broad consensus, to move in this direction. Thank you.\n",
      "\n",
      "Jeroen Dijsselbloem  (1900-01-01 00:17:24):\n",
      "Thank you Klaus. Now I would first like to turn to Yanis Varoufakis, if he is in a call, to ask him to explain not so much the letters, he of course make quick remarks on those, but the present political situation.\n",
      "\n",
      "Yanis Varoufakis  (1900-01-01 00:17:43):\n",
      "Yes, thank you Jeroen.\n",
      "\n",
      "Jeroen Dijsselbloem (NaT):\n",
      "…on the last speech.\n",
      "\n",
      "Yanis Varoufakis (NaT):\n",
      "Yes hello, I hope you can hear me. Um, can you hear me Jeroen?\n",
      "\n",
      "Jeroen Dijsselbloem (NaT):\n",
      "Yes. Yes.\n",
      "\n",
      "Yanis Varoufakis (NaT):\n",
      "Ok. Thank you. Right. Let me begin with a few comments on the proposed prior actions of the Greek government which were submitted to you, which now the Institutions have had a chance to look at. I believe they were also discussed in the Euroworking Group just prior to this teleconference. We believe that the SLA changed the prior action amendments that we are proposing fall well within the maximum flexibility of the MOU process as described repeatedly to us by the institutions. Very briefly let me mention the 8 points which are pertinent here.\n",
      "One concerns the discount on VAT of the islands. It is our estimate, and I believe that the institutions agree with our estimate that maintaining the discount along the lines of also what happens on island complexes anywhere in Europe including the Canary Islands and so on, that the fiscal impact will be about 340 million of maintaining this discount. We have proposed equivalent measures that pertain to tax on rents on real estate rents and also some small increase on corporate tax.\n",
      "\n",
      "Yanis Varoufakis (NaT):\n",
      "The second point of difference, the second amendment, concerns the request, the requirement that individual business owners should advance immediately, a 100% of their tax payments. We have shifted that from 2016 to 2017 in order to soften the blow to them. 19:59 The phasing out of diesel tax subsidies for farmers we would like again to have a glide path leading to that in 2017.\n",
      "On the question of pension reform both regarding the secondary pensions as well as EKAS, the solidarity, rather small add-on to the lowest of the low of pensions, we are again in tune with what the institutions are requesting except that again we are recommending, requesting a longer period of adaptation.\n",
      "\n",
      "Yanis Varoufakis (NaT):\n",
      "As far as product markers are concerned, we‘d like to add here that the Greek government, as probably is known to most colleagues, has entered into a firm collaboration with the OECD. The secretary general of the OECD and his staff have committed to a joint program with Greece for creating, designing, implementing and monitoring the implementation of many more product market reforms and other kinds of reforms, like for instance the anti-corruption, procurement reforms and so on. And we would like these to be considered very positive steps from our government in order to pursue the reforming process, the structural reforming process which everybody wants to see being incorporated in Greece.\n",
      "\n",
      "Yanis Varoufakis (1900-01-01 00:21:35):\n",
      "(21:35)\n",
      "Finally the, a couple more points, I won’t tire you more then is necessary, we had certain objections from the Ministry of Maritime Affairs regarding ferry transportation on security and safety grounds and finally the question of the ADMIE, the electricity sector reform where we are proposing that it be split by the [inaudible] but is not privatized. This is the final change amendment that we are recommending. Again let me say that we believe that these um amendments fall well within the realm of flexibility which is part and parcel of the review process.\n",
      "\n",
      "Yanis Varoufakis (NaT):\n",
      "(22:25)\n",
      "Now, you asked me Jeroen to commend on the political situation. Let me be succinct on that and to the point. The referendum was called because we felt as a government that we did not have a mandate to answer the institutions’ call to accept this SLA and the particular financing package as it was given to us. We said we will put it to the Greek people the next Sunday, who are the final arbiters of such decisions.\n",
      "\n",
      "Yanis Varoufakis (1900-01-01 00:22:58):\n",
      "(22:58)\n",
      "Again let me repeat what I said yesterday. We are fully committed and absolutely determined to implement the verdict of the Greek people on Sunday. So if the “YES” vote wins we will do whatever it takes in order to make sure that the institutions’ proposals of the 25th June, if the institutions feel like amending them, we will accept these amendments as well, will be signed, sealed and delivered within a very, very short space of time. The speech by the Prime Minister today, today, was a speech which was meant to say one thing: and that is that the concern of the government is, that whatever prior actions we undertake must be sustainable. There must be prior actions that are consistent with the reforms that Greece needs and must be embedded in a program whose financing component is giving us hope. Not just us, but to investors, to consumers, to, um, the markets, that Greece will be out of the woods in the course of the agreement that we are signing. Thank you.\n",
      "\n",
      "Jeroen Dijsselbloem  (1900-01-01 00:24:27):\n",
      "Thank you. Before, um, asking the ministers for their (crosstalk) can I make few remarks. I think the question of the extension of course has passed. The old program is [inaudible] therefore also the validity of the proposals that were on the table by the institutions has gone to this extent that they were meant to come to a positive review of the old program. The old program is gone and will not be finished, there will not be a positive review. Thirdly, in terms of the request for a new program, of course, as Greece is a member of the Eurozone and the ESM, it will be taken into consideration and perhaps those proposals can be then of use, and also proposal of Greek authorities can be of use. Key question now is given the political circumstances each prime minister again today whether we should undertake any action on that request at this point, or await the referendum in Greece. um, I shall ask for comments from the ministers before I say any more.\n",
      "\n",
      "Jeroen Dijsselbloem  (1900-01-01 00:22:56):\n",
      "Who would like to respond to the letters and the political situation?\n",
      "\n",
      "Michel Sapin  (1900-01-01 00:26:10):\n",
      "Jeroen, Michel Sapin.\n",
      "\n",
      "Jeroen Dijsselbloem (NaT):\n",
      "Yes, please, go ahead.\n",
      "\n",
      "Michel Sapin (NaT):\n",
      "Thank you very much.\n",
      "\n",
      "Translator  (1900-01-01 00:26:46):\n",
      "So, thank you Jeroen, I think you very well summarise the situation. There was a program that was under way and now this program is finished. So what we are talking about now, are elements for the negotiation on a future program and from this point of view proposals made by the Greek authorities are part of what can be used for that.\n",
      "\n",
      "Translator  (NaT):\n",
      "*French from 27:06 – 27:22\n",
      "Translator: On the question of what was on the table today is has the political contacts been sufficiently modified, I mean sufficiently different so as to send right now a positive political signal as to the future negotiation.\n",
      "\n",
      "Translator  (1900-01-01 00:28:15):\n",
      "Um, we have been, a number of us, have worked quite hard with a lot of contacts with all stake holders to work towards a changing, a context, a political context, sufficiently that we could have a positive political expression to the (inaudible). When I’m [inaudible] taking in to account the speech by Prime Minister Tzipras, with fully respecting what he said, is that it doesn’t lead to a sufficient modification of political context. So from there on, it’s not possible to have this positive expression from the Eurogroup today.\n",
      "Are you finished?\n",
      "I’m finished.\n",
      "\n",
      "Translator  (1900-01-01 00:29:07):\n",
      "(29:07)\n",
      "Other colleagues?\n",
      "Jeroen?\n",
      "Go ahead.\n",
      "\n",
      "Speaker (NaT):\n",
      "Good evening everybody. I would like to make three remarks. First of all, given the situation as described I think there indeed in this point in time, given the referendum nothing really to negotiate about.\n",
      "\n",
      "Speaker (NaT):\n",
      "Secondly, with respect to the referendum I think that the argument that is so often repeated now that the Greek government does not have a mandate to do this negotiation is simply running away from the responsibility of an elected government. And with respect to the argument that a YES vote will be implemented by the government I repeat that I said in earlier meetings I found this to be really intolerable as a state of, um, as a state of play.\n",
      "\n",
      "Speaker (NaT):\n",
      "Now, my third point would be that basically we are now in any case in a very different world then the one or two days ago. First of all the program has expired irrevocably and Greece is secondly, effectively in default now. Moreover, the economic and financial conditions of the country have substantially further deteriorated, not least because of the backtracking by the Tsipras government on what have been achieved under the second program.\n",
      "\n",
      "Speaker (NaT):\n",
      "So, and I conclude, whatever’s been on the table in terms of proposals and measures need to be revisited very thoroughly in light of this entirely and fundamentally new situation. Thank you.\n",
      "\n",
      "Jeroen Dijsselbloem (NaT):\n",
      "Thank you. Other colleagues?\n",
      "\n",
      "Jeroen Dijsselbloem (1900-01-01 00:30:57):\n",
      "(30:57)\n",
      "Maria Luis, may I present?\n",
      "Hello?\n",
      "Hello everyone. I just wanted to say that listening to what’s been said by the institutions and also by some of the colleagues, um, our position is that we fully respect the decision of the Greek government go to referendum as mentioned in the last meeting. Therefore we should wait for the outcome of the referendum before we decide what to do from there on. And I don’t know if it is necessary at this stage but I would say that I agree with the recommendation by Klaus on the reservation of rights.\n",
      "\n",
      "Jeroen Dijsselbloem  (1900-01-01 00:31:50):\n",
      "Thank you. I will come back to the point of the reservation of rights at the end. I believe there was a quite strong consensus in EWG on this, so maybe we can come back to it at the end. If anyone would feel different, than the proposal by Klaus than they might express it. Who else can I give the floor?\n",
      "\n",
      "Luis  (1900-01-01 00:32:16):\n",
      "Hello, Jeroen. How are you?\n",
      "Very short, I would like to ask Yanis whether it’s correct that Mr Tsipras has said today that he supports the NO vote in the referendum this Sunday, that this NO vote means a pressure on creditors. [inaudible]\n",
      "\n",
      "Jeroen Dijsselbloem (NaT):\n",
      "Yanis, would you like to respond?\n",
      "\n",
      "Yanis Varoufakis  (1900-01-01 00:32:56):\n",
      "Yes, Jeroen. We all know how negotiations unfold. We are often told in the Eurogroup, we, the Greek side, the Greek representation, that X, Y or Z parliament does not permit our colleagues to enter into a discussion about matters which are of absolute importance to the sustainability for the Greek programme, like for instance, funding issues, remember the issue that I raised last week in Brussels about dipping into HFSF funds in order to pay the SMP bonds of July and August. We consider that to be highly problematic, regarding the bank recapitalization program, but we were told that a number of parliaments have prevented colleagues from even entering into such a discussion. So, the notion that a sovereign body, whether it’s a parliament or people who vote through referendum, exert pressure in the negotiations among ourselves in The Eurogroup, it’s not unheard of, it’s part and parcel of what we do and that’s what Prime Minister Tsipras said.\n",
      "\n",
      "Jeroen Dijsselbloem  (1900-01-01 00:34:19):\n",
      "Luis? I will [inaudible] you\n",
      "\n",
      "Luis (1900-01-01 00:34:19):\n",
      "Thank you very much.\n",
      "– No further comments?\n",
      "– No\n",
      "Peter from Slovakia. Peter go ahead.\n",
      "[crosstalk]\n",
      "\n",
      "Peter Kazimir  (1900-01-01 00:34:37):\n",
      "So, [crosstalk] how we see the situation [crosstalk] Greek government is asking for a new program but under the basis of proposals it’s campaigning against in the referendum so it’s really [inaudible] so therefore I can not imagine to discuss the ESM programme before the referendum is over. Franklly, [inaudible]. Thank you.\n",
      "\n",
      "Jeroen Dijsselbloem  (1900-01-01 00:35:04):\n",
      "That was very clear. Other colleagues?\n",
      "Carlos here\n",
      "\n",
      "Jeroen Dijsselbloem (NaT):\n",
      "Carlo, go ahead.\n",
      "\n",
      "Pier Carlo Padoan  (1900-01-01 00:35:13):\n",
      "Just to add my frustration to the idea that, yes, I guess at this stage it is inevitable to wait for referendum [inaudible] if there is a NO victory I’m still wondering, it’s a NO to what? Since of course the initial referendum was called on set of proposal which is now, in one way or the other, behind our shoulders. Number one.\n",
      "\n",
      "Pier Carlo Padoan  (1900-01-01 00:35:39):\n",
      "(35:39) Number two: Someone has already said, the new proposal, the new request, from the Greek government is about ESM programme, which is, of course, as you have mentioned Jeroen, different in terms of density, features and requirements than the set of measures required to complete [inaudible]. So I would like to ask from Yanis whether there is anything more precise we can attach to YES / NO vote. Is it a YES / NO vote to a new ESM, is it a YES/NO vote to the old measures, to yes, to the new measures… [crosstalk] This in any case whatever the result of referendum will be adds the confusion and does not provide credibility in any negotiation that we’ll engage.\n",
      "\n",
      "Jeroen Dijsselbloem  (1900-01-01 00:36:30):\n",
      "Yanis, I believe there was a question for you.\n",
      "\n",
      "Yanis Varoufakis  (1900-01-01 00:36:34):\n",
      "Yes, thank you Joreon, clearly it was. Pier Carlo, you asked what would the NO be made of. NO to what? Well, firstly, the ballot paper is very explicit. It refers to 25th of June documents that were tabled and which were offered the Greek government from the institutions, by the institutions. Our recommendation of a NO is not so much, I mean technically and legally concerns this particular set of documents which may, or may not, be on the table, but if you want me to answer in terms of the spirit of the exercise, we are saying NO to an agreement which in our estimation, and I think in estimation of many people, is simply not sustainable given the funding package that accompanies it, given the debt sustainability analysis that is accompanying it, given the fact that were we to agree to those proposals, we would have reviews every month up until November and, in parallel to those reviews we would have to have another negotiations in order to discuss a third program by the end of November. This would create an unsustainable agreement, as far as we are concerned, so we are saying to the Greek people to say NO to that. A new program with the ESM that can be agreed to on the basis of the SLA and the prior actions that are on the table as we speak, would be utterly sustainable and of course to that we would say a big YES after the referendum on Sunday.\n",
      "\n",
      "Pier Carlo Padoan  (1900-01-01 00:38:23):\n",
      "Can I add a question?\n",
      "Yes.\n",
      "[inaudible] does the Greek government have a mandate to request for ESM?\n",
      "That’s my question.\n",
      "\n",
      "Yanis Varoufakis  (1900-01-01 00:38:39):\n",
      "Pier Carlo, we do. We do. In response to an earlier question, why don’t we make our minds up as a government, why we are saying we don’t have a mandate, what we said, explicitly, was we did not have the mandate to sign on an agreement which we consider to be unsustainable, both in a short run and in a medium run. But, to request a new ESM programme, which is sustainable – we certainly have a mandate for that.\n",
      "\n",
      "Wolfgang Schäuble  (1900-01-01 00:39:13):\n",
      "Wolfgang, if I may?\n",
      "\n",
      "Jeroen Dijsselbloem  (1900-01-01 00:39:15):\n",
      "Wolfgang, can I first make one remark in terms of the process in the Eurogroup. It needs to be very clear there was no agreement. The only thing there was were prepared documents by the institutions which they could support, which were prepared with the view of coming to an arrangement or an agreement in Eurogroup. That was never achieved. There is no agreement put to the Greek people. Wolfgang, go ahead.\n",
      "\n",
      "Wolfgang Schauble  (1900-01-01 00:39:45):\n",
      "That’s exactly what I wanted to say. It’s a situation… therefore I share the confusion of Pier Carlo because the Greek referendum takes place on a YES or NO on proposals which are not still, longer available, or pre-preconditions for t… pro-proposal is over. [] a totally new vote and we not only in a new [inaudible] because [] different preconditions, but we are in a totally new vote in practice, because we need a totally new programme. And, of course, the situation has not been evolved since we redrafted the last program, that has to be in mind, that I share of the view of all that has been said before referendum takes place – nothing can be decided in the Eurogroup.\n",
      "\n",
      "Jeroen Dijsselbloem (NaT):\n",
      "Thank you. I’m beginning to see a common ground for a conclusion. Are there any colleagues who want to speak?\n",
      "\n",
      "Jeroen Dijsselbloem (NaT):\n",
      "Jeroen, this is Harris.\n",
      "\n",
      "Jeroen Dijsselbloem (NaT):\n",
      "Go ahead, Harris.\n",
      "\n",
      "Harris Georgiades  (1900-01-01 00:41:02):\n",
      "Even though I share most the comments with the colleagues, let me say this: the Greek people are feeling a sense of desperation and they are expressing in every conceivable way their wish to see Greece stay in the Euro and to maintain ties with EU. So even though everything that has been said is actually correct, valid, I do feel that we owe it to the Greek people who have been mobilised in an effort to, to see Greece remaining in the Euro, to send a positive message, even out of this Eurogroup, um, in the direction, um, that we can’t initiate the process of re-examination of the Greek request. I think we should all agree that there is no way for Greece to, to technically remain in the Eurozone [crosstalk] without an agreement on the third programme. Definitely that can not be agreed today, definitely, as Benoit has said, [crosstalk] a fully fledged MOU and not just a leap of prior actions, no disagreement, but at the very least we could send a positive message that the request will be examined, the process of negotiating details will be initiated, because very simply I think this will, it will give hope Greek people and it will probably help what is a common cause.\n",
      "\n",
      "Jeroen Dijsselbloem  (1900-01-01 00:43:26):\n",
      "Thank you Harris. Any other colleague?\n",
      "\n",
      "Yanis Varoufakis  (1900-01-01 00:43:30):\n",
      "Jeroen, may I interject just for one moment? Yanis.\n",
      "\n",
      "Jeroen Dijsselbloem  (1900-01-01 00:43:35):\n",
      "Go ahead.\n",
      "\n",
      "Yanis Varoufakis  (1900-01-01 00:43:36):\n",
      "Sure. I just wanted to say, in response to your comment, we did not put an agreement to Greek people, you are right: on 25th of June there was no agreement, but there was a very specific proposal and the time, the clock, as you were saying, as everybody was saying and I was saying, was ticking away and time was running out. We put that proposal to the Greek people, and if the Greek people say YES than we have an agreement along those lines. Now, the fact that these proposals, after we called for referendum might have been redrawn or expired afterwards, well, this is an important point. But it is not the crucial point, because the proposal that we are discussing now, the SLA, well, is very close to what was put on the table by the institutions and what we are now facing, is a prospect of a new programme, which is a lot more palatable and sustainable – that Greece will stay in the Euro is a forgone conclusion, as far as we are concerned. Our position, our place in the Eurozone and in the European Union, are nonnegotiable. An NO on Sunday will mean that we are going to have to speed up the agreement, the process leading to agreement, to an agreement that is mutually advantageous and which we feel we have the mandate to see through, and which we can, look you in the eye, and say we are going to implement it.\n",
      "\n",
      "Yanis Varoufakis  (NaT):\n",
      "If we were going to say “yes” to proposals of the proposals of 25th of June, we couldn’t do that because we do not believe, even with the best will in the world, it wouldn’t be sustainable.\n",
      "\n",
      "Yanis Varoufakis  (NaT):\n",
      "And just one last point, Jeroen. Colleagues questioned our credibility when we say that in case of a YES, we shall implement the agreement. Please do not question our credibility on this. We are committed and unreconstructed democrats and if the Greek people on Sunday deliver a YES vote we shall do, as I said, whatever it takes to implement that yes, even if it means changing the configuration of the Greek government.\n",
      "\n",
      "Jeroen Dijsselbloem  (1900-01-01 00:45:50):\n",
      "Ok, thank you. Any other comments at this point?\n",
      "I will try to formulate a conclusion. I think that, after realising that the current situation is that the old programme has expired, the proposals that were put on the table last weekend by the institutions, were never part of the agreement in the Eurogroup, they were never put to the Eurogroup formally because there was no agreement, Eurogroup never discussed financing needs, debt sustainability etc. That again has to be very clear. Therefore, what the Greek government is putting to its people is hard to understand. Um, the request to extend your programme, of course, is no longer valid, no longer realistic. The proposal to get a new financial support from the ESM will be taken into consideration, we’ll start procedures, but given the current political situation, and as the Greek government said, its lack of mandate, we must await the referendum on Sunday. Um, I will [crosstalk] draft a short letter along the lines, responding to the two letters, at least formally to one letter I received, taking into account there is also a second letter, specifically on proposals in the second letter. I listen carefully to the institutions and, Pierre said, some may have merit, some are vague and deserve more clarity, but some are also weakening the proposals. I think it was Benoit who said they widen the fiscal gap, they worsen [] they and create larger financial needs. I will just take note of that, of those comments from the institutions: we will not take any decisions, nor on the old proposals from the institutions nor on these amendments on Greek side. They can be kind of use, for further talks but that’s for consideration after Sunday. Harris has made a point that we should send a positive message to the people of Greece, I think this is possible, making also very clear that they are no longer negotiating and we are no longer asking the institutions to negotiate with the Greek government between now and referendum. Um, I aslo think that the Greek people deserve to have clarity on what is actually happening at the moment and I don’t think [s*** 48:58], and that’s a personal remark, I don’t think that the Greek Prime Minister today has given that clarity in his speech. It should be clear, there will be no further talks [] institutions to further discuss proposals until after the referendum. That would be, in my mind, [crosstalk] the outline of the letter and communication after this call. I’m open to your comments\n",
      "\n",
      "Yanis Varoufakis (NaT):\n",
      "Jeroen, can I just interject for a sec? Yanis.\n",
      "\n",
      "Jeroen Dijsselbloem (NaT):\n",
      "Yanis, please.\n",
      "\n",
      "Yanis Varoufakis  (1900-01-01 00:49:40):\n",
      "I didn’t hear any of our colleagues suggest that there should be no further discussions. Negotiations, discussions… I think that, given that this government, whether the answer of the Greek people, the verdict of the Greek people, will be a YES or NO, is committed to, um, discussing the SLA, the prior actions, you have them in front of you. We heard from the institutions, that they are a positive step in the right direction, even if they are considered by some of the institutions to be weak or to contain bits and pieces which are not welcome by them, nevertheless, and also taking up what Michele Sapin was saying, it’s clear to us that it would be a good idea for everyone involved to continue finding common ground on the possibility of the new ESM programme. And it just doesn’t seem to me that [inaudible] of what I heard from many of our colleagues and in particular, and, if I remember correctly, Pierre Moskovici said something along the lines of what I am saying now. That we should continue to discuss and we should continue to have a discussion with the institutions, in particular to asses the fiscal aspects of what our proposals and so on and so forth. So, I don’t think your wrap up is a genuine wrap up. It is your opinion, which is of course highly respected, but that’s another matter.\n",
      "\n",
      "Jeroen Dijsselbloem  (1900-01-01 00:51:14):\n",
      "Well, I, of course, disagree. I listened carefully to Pierre who said the commission stands ready [crosstalk] Eurogroup to further work etc. The question is whether, at this point, we [inaudible] such a request to institutions and my proposal is quite clear after listening carefully to what colleagues have said, but I’m open for more comments.\n",
      "\n",
      "Wolfgang Schäuble  (1900-01-01 00:51:38):\n",
      "I would like to say, Jeroen, that I fully agree with your summary. [] and fully in line with what you have said.\n",
      "\n",
      "Pierre Moscovici (NaT):\n",
      "Thinking… I would like also to support you, Jeroen. It is true I have said we are ready to, to, to do job any time you ask, and you asked, but you also said that, due to a new situation, [] understand when this could be done. And I share your analysis.\n",
      "\n",
      "Jeroen Dijsselbloem  (1900-01-01 00:52:17):\n",
      "Thank you. Other comments?\n",
      "– Jeroen, Michel.\n",
      "\n",
      "Michel Sapin  (1900-01-01 00:52:26):\n",
      "*French\n",
      "Translator: Just a word, Jeroen. I agree with your conclusion, taking into account [] political context which changed, following by the speech by Prime Minister Tsipras. There were [] to change political context, it hasn’t, so there is no point to [] until referendum takes place.\n",
      "\n",
      "Michel Sapin  (NaT):\n",
      "*French 53:20 – 53:54\n",
      "Translator: The proposals that were put on the table by the two letters by Prime Minister Tsipras, of course, we should consider them and we’ll do that. But consider that only when the Greek government after the referendum we will make new [] demands for a new programme and those letters will be first [inaudible], I mean first elements for discussion, but right now, today, and until referendum, until the Greek people have their say, there is no room for discussion.\n",
      "\n",
      "Jeroen Dijsselbloem  (1900-01-01 00:54:34):\n",
      "Any other comments?\n",
      "– Jeroen, Johan.\n",
      "– Go on.\n",
      "\n",
      "Johan Van Overtveldt  (1900-01-01 00:54:41):\n",
      "Just for the record I want to say that I fully support the conclusions that you laid on.\n",
      "\n",
      "Jeroen Dijsselbloem (NaT):\n",
      "Thank you.\n",
      "– Me too, Jeroen. Luis.\n",
      "– Luis, thank you.\n",
      "[]\n",
      "– you have my support.\n",
      "– Pier Carlo? Pier Carlo?\n",
      "– You have my support.\n",
      "– Peter?\n",
      "– I support you also. Thank you.\n",
      "– Jeroen, I support your conclusions too.\n",
      "– Jeroen, Maria Luis. I support your conclusions too. Thank you.\n",
      "– Michael. I support your conclusions, Jeroen.\n",
      "– I support your conclusions, Jeroen.\n",
      "– Same, same. Nice report.\n",
      "– Sven?\n",
      "– Hello Jeroen. [] speaking\n",
      "– Go ahead.\n",
      "– Fully support.\n",
      "\n",
      "Jeroen Dijsselbloem (NaT):\n",
      "Am I safe to presume there is a broad support I will take into consideration and will try to express it in communication. Um, our feeling, um, our understanding, our empathy for the desperation of the Greek people at the moment, words that Harris used, I think that we need to make that clear also. Um, I will send a short reply along the lines I have mentioned to the Prime Minister of Greece. Let me before we come to a close of this meeting make two points: first, on the point of reserving our right under the GLF, the Greek [] and [EFSF] given the fact of non-payment to IMF and recent financial developments, um. I think we can confirm a principle decision to reserve our rights under Greek [] facility and EFSF for the time being and follow the procedure that Klaus has proposed.\n",
      "\n",
      "Jeroen Dijsselbloem (NaT):\n",
      "Jeroen, Wolfgang.\n",
      "Go ahead.\n",
      "\n",
      "Wolfgang (NaT):\n",
      "I agree that for the time being [] we consider [] change of the [] after the referendum.\n",
      "\n",
      "Jeroen Dijsselbloem (NaT):\n",
      "I think that’s also what Klaus was referring to. I think we can wrap it up for now. Thank you all for your contribution.\n",
      "\n",
      "Jeroen Dijsselbloem (NaT):\n",
      "And one more point I want to make, there is a worrying sentence in the first letter about Greece’s commitment to serve it’s external debt so I will also put in my letter a reference to what the Greek authorities agreed on on 20th of February, there the Greek authorities, in that Eurogroup statement, reiterated their unequivocal commitment to honour their financial obligations to all their creditors fully and entirely. I think it’s very important to make that very clear how we see that commitment.\n",
      "\n",
      "Yanis Varoufakis  (1900-01-01 00:58:29):\n",
      "This is Yanis. Let me reiterate what I said yesterday in our conference that we are very happy to have this particular sentence amended as required to include timely, as well as fully, regarding the meeting of our obligations to our creditors.\n",
      "\n",
      "Jeroen Dijsselbloem (NaT):\n",
      "[crosstalk] I will still reiterate it in my short letter which I will send to the Prime Minister.\n",
      "\n",
      "Jeroen Dijsselbloem (NaT):\n",
      "Thank you all, thank you for joining and we await the outcome of the referendum [Yanis chanting: OXI, OXI]\n"
     ]
    }
   ],
   "source": [
    "# print the whole transcript for a given date\n",
    "for row in leaks_df[leaks_df.date == pd.to_datetime('July 1, 2015')].iterrows():\n",
    "    print(f'\\n{row[1].speaker} ({row[1].timestamp}):\\n{row[1].speech}')"
   ]
  },
  {
   "cell_type": "markdown",
   "id": "running-wright",
   "metadata": {},
   "source": [
    "## clean Euroleaks"
   ]
  },
  {
   "cell_type": "code",
   "execution_count": 2,
   "id": "large-county",
   "metadata": {},
   "outputs": [
    {
     "data": {
      "text/html": [
       "<div>\n",
       "<style scoped>\n",
       "    .dataframe tbody tr th:only-of-type {\n",
       "        vertical-align: middle;\n",
       "    }\n",
       "\n",
       "    .dataframe tbody tr th {\n",
       "        vertical-align: top;\n",
       "    }\n",
       "\n",
       "    .dataframe thead th {\n",
       "        text-align: right;\n",
       "    }\n",
       "</style>\n",
       "<table border=\"1\" class=\"dataframe\">\n",
       "  <thead>\n",
       "    <tr style=\"text-align: right;\">\n",
       "      <th></th>\n",
       "      <th>speaker</th>\n",
       "      <th>speech</th>\n",
       "      <th>timestamp</th>\n",
       "      <th>date</th>\n",
       "    </tr>\n",
       "  </thead>\n",
       "  <tbody>\n",
       "    <tr>\n",
       "      <th>0</th>\n",
       "      <td>Jeroen Dijsselbloem</td>\n",
       "      <td>… of your responses or questions. And can I fi...</td>\n",
       "      <td>1900-01-01 00:00:00</td>\n",
       "      <td>2015-02-24 00:00:00</td>\n",
       "    </tr>\n",
       "    <tr>\n",
       "      <th>1</th>\n",
       "      <td>Speaker 2</td>\n",
       "      <td>Uh, yes, uh, thank you, Jeroen. Well, uh, comm...</td>\n",
       "      <td>1900-01-01 00:00:10</td>\n",
       "      <td>2015-02-24 00:00:00</td>\n",
       "    </tr>\n",
       "    <tr>\n",
       "      <th>2</th>\n",
       "      <td>Michael Noonan</td>\n",
       "      <td>Michael Noonan.</td>\n",
       "      <td>1900-01-01 00:01:27</td>\n",
       "      <td>2015-02-24 00:00:00</td>\n",
       "    </tr>\n",
       "    <tr>\n",
       "      <th>3</th>\n",
       "      <td>Speaker 2</td>\n",
       "      <td>Uh, it is therefore regrettable that, uh-</td>\n",
       "      <td>1900-01-01 00:01:29</td>\n",
       "      <td>2015-02-24 00:00:00</td>\n",
       "    </tr>\n",
       "    <tr>\n",
       "      <th>4</th>\n",
       "      <td>Speaker 3</td>\n",
       "      <td>Has entered the conference.</td>\n",
       "      <td>1900-01-01 00:01:33</td>\n",
       "      <td>2015-02-24 00:00:00</td>\n",
       "    </tr>\n",
       "  </tbody>\n",
       "</table>\n",
       "</div>"
      ],
      "text/plain": [
       "               speaker                                             speech  \\\n",
       "0  Jeroen Dijsselbloem  … of your responses or questions. And can I fi...   \n",
       "1            Speaker 2  Uh, yes, uh, thank you, Jeroen. Well, uh, comm...   \n",
       "2       Michael Noonan                                    Michael Noonan.   \n",
       "3            Speaker 2          Uh, it is therefore regrettable that, uh-   \n",
       "4            Speaker 3                        Has entered the conference.   \n",
       "\n",
       "             timestamp                 date  \n",
       "0  1900-01-01 00:00:00  2015-02-24 00:00:00  \n",
       "1  1900-01-01 00:00:10  2015-02-24 00:00:00  \n",
       "2  1900-01-01 00:01:27  2015-02-24 00:00:00  \n",
       "3  1900-01-01 00:01:29  2015-02-24 00:00:00  \n",
       "4  1900-01-01 00:01:33  2015-02-24 00:00:00  "
      ]
     },
     "execution_count": 2,
     "metadata": {},
     "output_type": "execute_result"
    }
   ],
   "source": [
    "df = pd.read_csv('data/euroleaks/prepared.csv')\n",
    "df.head()"
   ]
  },
  {
   "cell_type": "markdown",
   "id": "built-technique",
   "metadata": {},
   "source": [
    "### todo\n",
    "- need to check that timestamp is monotonically increasing\n",
    "- derive speech duration from timestamp (after checking and correcting if need be)\n",
    "- fill missing timestamps by taking time between the next ones, then allocating to ones in between with missing based on word/character count\n",
    "- check speakers (then maybe exclude \"Computer\")\n",
    "- clean \"[inaudible]\", \"[crosstalk]\", \"[foreign language]\", also (*)\n",
    "- check for special character to see for other things that need to be potentially cleaned\n"
   ]
  },
  {
   "cell_type": "markdown",
   "id": "beautiful-advisory",
   "metadata": {},
   "source": [
    "### speakers"
   ]
  },
  {
   "cell_type": "code",
   "execution_count": 4,
   "id": "posted-butler",
   "metadata": {},
   "outputs": [
    {
     "data": {
      "text/html": [
       "<div>\n",
       "<style scoped>\n",
       "    .dataframe tbody tr th:only-of-type {\n",
       "        vertical-align: middle;\n",
       "    }\n",
       "\n",
       "    .dataframe tbody tr th {\n",
       "        vertical-align: top;\n",
       "    }\n",
       "\n",
       "    .dataframe thead th {\n",
       "        text-align: right;\n",
       "    }\n",
       "</style>\n",
       "<table border=\"1\" class=\"dataframe\">\n",
       "  <thead>\n",
       "    <tr style=\"text-align: right;\">\n",
       "      <th></th>\n",
       "      <th>speaker</th>\n",
       "      <th>speech</th>\n",
       "      <th>timestamp</th>\n",
       "      <th>date</th>\n",
       "    </tr>\n",
       "  </thead>\n",
       "  <tbody>\n",
       "    <tr>\n",
       "      <th>1394</th>\n",
       "      <td>NaN</td>\n",
       "      <td>Jeroen Dijsselbloem\\nNow, let’s see who is on ...</td>\n",
       "      <td>NaN</td>\n",
       "      <td>2015-07-01 00:00:00</td>\n",
       "    </tr>\n",
       "  </tbody>\n",
       "</table>\n",
       "</div>"
      ],
      "text/plain": [
       "     speaker                                             speech timestamp  \\\n",
       "1394     NaN  Jeroen Dijsselbloem\\nNow, let’s see who is on ...       NaN   \n",
       "\n",
       "                     date  \n",
       "1394  2015-07-01 00:00:00  "
      ]
     },
     "execution_count": 4,
     "metadata": {},
     "output_type": "execute_result"
    }
   ],
   "source": [
    "df[df.speaker.isnull()]"
   ]
  },
  {
   "cell_type": "code",
   "execution_count": 5,
   "id": "broke-julian",
   "metadata": {},
   "outputs": [
    {
     "name": "stderr",
     "output_type": "stream",
     "text": [
      "/home/asajina/.local/lib/python3.8/site-packages/pandas/core/generic.py:5491: SettingWithCopyWarning: \n",
      "A value is trying to be set on a copy of a slice from a DataFrame.\n",
      "Try using .loc[row_indexer,col_indexer] = value instead\n",
      "\n",
      "See the caveats in the documentation: https://pandas.pydata.org/pandas-docs/stable/user_guide/indexing.html#returning-a-view-versus-a-copy\n",
      "  self[name] = value\n"
     ]
    }
   ],
   "source": [
    "df.loc[df.speaker.isnull()].speaker = 'jeroen dijsselbloem'"
   ]
  },
  {
   "cell_type": "code",
   "execution_count": 6,
   "id": "gothic-fancy",
   "metadata": {},
   "outputs": [
    {
     "data": {
      "text/plain": [
       "102"
      ]
     },
     "execution_count": 6,
     "metadata": {},
     "output_type": "execute_result"
    }
   ],
   "source": [
    "df.speaker.unique().size"
   ]
  },
  {
   "cell_type": "code",
   "execution_count": 7,
   "id": "polish-subject",
   "metadata": {},
   "outputs": [
    {
     "data": {
      "text/plain": [
       "array(['jeroen dijsselbloem', 'speaker 2', 'michael noonan', 'speaker 3',\n",
       "       'pierre moscovici', 'mario draghi', 'wolfgang schäuble',\n",
       "       'christine lagarde', 'yanis varoufakis', 'yanis [not varoufakis]',\n",
       "       'luis de guindos', 'maria luís', 'marco buti', 'thomas wieser',\n",
       "       'declan costello', 'computer', 'speaker 5', 'benoit couré',\n",
       "       'paul thomsen', 'greek representative', 'speaker 9', 'thomas',\n",
       "       'speaker 10', 'speaker 1', 'benoit cœuré', 'nikos theocarakis',\n",
       "       'irina', 'irana', 'nabil', 'speaker 4', 'tooma', 'tropa',\n",
       "       'speaker 6', 'ricci', 'speaker 7', 'speaker 8', 'hans',\n",
       "       'speaker 11', 'speaker 12', 'speaker 13', 'speaker 14', 'paul',\n",
       "       'klaus regling', 'peter kažimír', 'martin', 'hans jörg schelling',\n",
       "       'dušan mramor', 'michel sapin', 'pier carlo padoan', 'speaker 19',\n",
       "       'edward scicluna', 'rimantas šadžius', 'poul thomsen',\n",
       "       'alexander stubb', 'inaudible', 'yanis varoufakis [privately]',\n",
       "       'johan van overtveldt', 'maria luís albuquerque', 'benoît cœuré',\n",
       "       'unidentified speaker', 'kian', 'male', 'group', 'johan',\n",
       "       'speaker 16', 'speaker 20', 'speaker 17', 'speaker 18',\n",
       "       'speaker 21', 'maria luis albuquerque', 'harris georgiades',\n",
       "       'translator', 'michel', nan, 'luis pierre', 'speaker', 'luis',\n",
       "       'peter kazimir', 'wolfgang schauble', 'wolfgang'], dtype=object)"
      ]
     },
     "execution_count": 7,
     "metadata": {},
     "output_type": "execute_result"
    }
   ],
   "source": [
    "df.speaker.apply(lambda s: s.strip().lower() if not pd.isnull(s) else s).unique()"
   ]
  },
  {
   "cell_type": "code",
   "execution_count": 8,
   "id": "cardiovascular-microwave",
   "metadata": {},
   "outputs": [
    {
     "name": "stdout",
     "output_type": "stream",
     "text": [
      "alexander stubb\n"
     ]
    }
   ],
   "source": [
    "for speaker in df.speaker.apply(lambda s: s.strip().lower() if not pd.isnull(s) else s).unique():\n",
    "    if not pd.isnull(speaker) and 'alex' in speaker:\n",
    "        print(speaker)"
   ]
  },
  {
   "cell_type": "code",
   "execution_count": 9,
   "id": "piano-executive",
   "metadata": {},
   "outputs": [],
   "source": [
    "amend_names = {\n",
    "    'wolfgang schäuble': [\n",
    "        'wolfgang schäuble',\n",
    "        'wolfgang schauble',\n",
    "        'wolfgang'\n",
    "    ],\n",
    "    'thomas wieser': [\n",
    "        'thomas wieser',\n",
    "        'thomas'\n",
    "    ],\n",
    "    'peter kažimír': [\n",
    "        'peter kažimír',\n",
    "        'peter kazimir'\n",
    "    ],\n",
    "    'michel sapin': [\n",
    "        'michel sapin',\n",
    "        'michel'\n",
    "    ],\n",
    "    'maria luís albuquerque': [\n",
    "        'maria luís albuquerque',\n",
    "        'maria luís',\n",
    "        'maria luis albuquerque'\n",
    "    ],\n",
    "    'johan van overtveldt': [\n",
    "        'johan van overtveldt',\n",
    "        'johan'\n",
    "    ],\n",
    "    'benoît cœuré': [\n",
    "        'benoît cœuré',\n",
    "        'benoit couré',\n",
    "        'benoit cœuré'\n",
    "    ],\n",
    "    'hans jörg schelling': [\n",
    "        'hans jörg schelling',\n",
    "        'hans'\n",
    "    ],\n",
    "    'poul mathias thomsen': [\n",
    "        'paul thomsen',\n",
    "        'paul',\n",
    "        'poul thomsen'\n",
    "    ]\n",
    "}"
   ]
  },
  {
   "cell_type": "code",
   "execution_count": 10,
   "id": "crude-coverage",
   "metadata": {},
   "outputs": [],
   "source": [
    "# invert dict\n",
    "amend_names_inv = {value: key for key,values in amend_names.items() for value in values}"
   ]
  },
  {
   "cell_type": "code",
   "execution_count": 11,
   "id": "successful-england",
   "metadata": {},
   "outputs": [],
   "source": [
    "# strip and make lowercase\n",
    "df.speaker = df.speaker.apply(lambda s: s.strip().lower() if not pd.isnull(s) else s)\n",
    "# amend speaker names\n",
    "df.speaker = df.speaker.apply(lambda s: amend_names_inv[s] if s in amend_names_inv.keys() else s)"
   ]
  },
  {
   "cell_type": "code",
   "execution_count": 12,
   "id": "insured-apparel",
   "metadata": {},
   "outputs": [
    {
     "data": {
      "text/plain": [
       "array(['jeroen dijsselbloem', 'speaker 2', 'michael noonan', 'speaker 3',\n",
       "       'pierre moscovici', 'mario draghi', 'wolfgang schäuble',\n",
       "       'christine lagarde', 'yanis varoufakis', 'yanis [not varoufakis]',\n",
       "       'luis de guindos', 'maria luís albuquerque', 'marco buti',\n",
       "       'thomas wieser', 'declan costello', 'computer', 'speaker 5',\n",
       "       'benoît cœuré', 'poul mathias thomsen', 'greek representative',\n",
       "       'speaker 9', 'speaker 10', 'speaker 1', 'nikos theocarakis',\n",
       "       'irina', 'irana', 'nabil', 'speaker 4', 'tooma', 'tropa',\n",
       "       'speaker 6', 'ricci', 'speaker 7', 'speaker 8',\n",
       "       'hans jörg schelling', 'speaker 11', 'speaker 12', 'speaker 13',\n",
       "       'speaker 14', 'klaus regling', 'peter kažimír', 'martin',\n",
       "       'dušan mramor', 'michel sapin', 'pier carlo padoan', 'speaker 19',\n",
       "       'edward scicluna', 'rimantas šadžius', 'alexander stubb',\n",
       "       'inaudible', 'yanis varoufakis [privately]',\n",
       "       'johan van overtveldt', 'unidentified speaker', 'kian', 'male',\n",
       "       'group', 'speaker 16', 'speaker 20', 'speaker 17', 'speaker 18',\n",
       "       'speaker 21', 'harris georgiades', 'translator', nan,\n",
       "       'luis pierre', 'speaker', 'luis'], dtype=object)"
      ]
     },
     "execution_count": 12,
     "metadata": {},
     "output_type": "execute_result"
    }
   ],
   "source": [
    "df.speaker.unique()"
   ]
  },
  {
   "cell_type": "markdown",
   "id": "hispanic-portal",
   "metadata": {},
   "source": [
    "### word count by speaker"
   ]
  },
  {
   "cell_type": "code",
   "execution_count": 13,
   "id": "considerable-diving",
   "metadata": {},
   "outputs": [],
   "source": [
    "from sklearn.feature_extraction.text import CountVectorizer"
   ]
  },
  {
   "cell_type": "code",
   "execution_count": 14,
   "id": "permanent-bottle",
   "metadata": {},
   "outputs": [],
   "source": [
    "vectorizer = CountVectorizer()\n",
    "X = vectorizer.fit_transform(df.speech)"
   ]
  },
  {
   "cell_type": "code",
   "execution_count": 15,
   "id": "peaceful-passage",
   "metadata": {},
   "outputs": [
    {
     "data": {
      "text/plain": [
       "(1522, 5266)"
      ]
     },
     "execution_count": 15,
     "metadata": {},
     "output_type": "execute_result"
    }
   ],
   "source": [
    "X.toarray().shape"
   ]
  },
  {
   "cell_type": "code",
   "execution_count": 16,
   "id": "olympic-gardening",
   "metadata": {},
   "outputs": [
    {
     "name": "stdout",
     "output_type": "stream",
     "text": [
      "['00', '01', '02', '03', '04', '05', '06', '07', '08', '09', '10', '100', '107', '11', '111', '114', '11pm', '11th', '12', '120', '13', '13th', '14', '15', '150', '16', '17', '18', '185', '19', '1999', '1st', '20', '200', '2009', '2010', '2011', '2012', '2013', '2014', '2015', '2016', '2017', '2018', '2019', '2020', '2025', '20th', '21', '21st', '22', '22nd', '23', '23rd', '24', '24th', '25', '250', '25th', '26', '27', '27th', '28', '29', '29th', '30', '300', '30th', '31', '31st', '32', '33', '34', '340', '35', '36', '37', '38', '39', '3rd', '40', '400', '41', '42', '43', '44', '45', '46', '47', '48', '49', '50', '500', '50th', '51', '52', '53', '54', '55', '56', '57', '58', '59', '5th', '60', '64', '67', '6th', '70', '700', '71', '75', '80', '85', '87', '8th', '90', '93', '96', '9th', 'a9', 'abeyance', 'abide', 'ability', 'able', 'ablt', 'aboard', 'abound', 'about', 'above', 'abroad', 'absence', 'absolute', 'absolutely', 'abstract', 'abundantly', 'abuse', 'abused', 'abuses', 'acas', 'accelarating', 'accelerate', 'accelerated', 'acceleration', 'accept', 'acceptable', 'acceptance', 'accepted', 'accepting', 'access', 'accident', 'accidents', 'accommodate', 'accommodation', 'accompanies', 'accompany', 'accompanying', 'accompli', 'accordance', 'according', 'account', 'accountability', 'accountable', 'accumulates', 'accurate', 'accused', 'accusing', 'accustomed', 'achievable', 'achieve', 'achieved', 'achievements', 'achieving', 'acknowledge', 'acknowledged', 'acknowledging', 'acknowledgment', 'acquire', 'across', 'act', 'acting', 'action', 'actions', 'activate', 'active', 'activities', 'activity', 'acts', 'actual', 'actuality', 'actually', 'actuarial', 'acute', 'ad', 'adapt', 'adaptation', 'add', 'added', 'adding', 'addition', 'additional', 'additionally', 'address', 'addressed', 'addressing', 'adds', 'adequate', 'adjectives', 'adjourn', 'adjourned', 'adjourning', 'adjust', 'adjustment', 'adjustments', 'admie', 'administer', 'administerial', 'administration', 'administrations', 'administrative', 'admit', 'adopt', 'adopted', 'adopting', 'adoption', 'advance', 'advancement', 'advances', 'advantage', 'advantageous', 'adverse', 'advertisements', 'advice', 'advise', 'aegis', 'affairs', 'affect', 'affected', 'affects', 'affirmative', 'afflicted', 'afford', 'affordable', 'afforded', 'afraid', 'after', 'afternoon', 'afterwards', 'again', 'against', 'agbd', 'age', 'agencies', 'agency', 'agenda', 'agendas', 'aggregate', 'aggregated', 'ago', 'agree', 'agreed', 'agreeing', 'agreement', 'agreements', 'agrees', 'ah', 'ahead', 'aid', 'aide', 'aim', 'aiming', 'aims', 'ain', 'air', 'airport', 'airports', 'alaw', 'ale', 'alert', 'alessandro', 'alex', 'alexander', 'alexis', 'align', 'aligned', 'aligns', 'all', 'alleged', 'alleviate', 'alleviated', 'allow', 'allowed', 'allowing', 'allows', 'alluded', 'alluding', 'almost', 'alone', 'along', 'alongside', 'already', 'also', 'alternative', 'alternatives', 'although', 'altogether', 'always', 'am', 'amalgamate', 'amat', 'ambiguity', 'ambition', 'ambitions', 'ambitious', 'ame', 'amend', 'amended', 'amending', 'amendment', 'amendments', 'among', 'amongst', 'amount', 'amounting', 'amounts', 'ample', 'amplifies', 'an', 'analysis', 'analyze', 'analyzed', 'and', 'animal', 'animation', 'announce', 'announced', 'announcement', 'announcements', 'announcing', 'annoying', 'annual', 'annualise', 'annualized', 'another', 'answer', 'answerable', 'answered', 'answering', 'answers', 'ante', 'anti', 'anticipate', 'anticipated', 'any', 'anybody', 'anyhow', 'anymore', 'anyone', 'anything', 'anyway', 'anyways', 'anywhere', 'apart', 'apologies', 'apologize', 'apparently', 'appeal', 'appear', 'appeared', 'appears', 'applicable', 'application', 'applied', 'applies', 'apply', 'appreciably', 'appreciate', 'approach', 'approaches', 'approaching', 'appropriate', 'approval', 'approvals', 'approved', 'approximate', 'approximately', 'april', 'apt', 'arbiters', 'are', 'area', 'areas', 'aren', 'argue', 'arguing', 'argument', 'arguments', 'arithmetic', 'arm', 'arms', 'around', 'arrange', 'arrangement', 'arrangements', 'arrears', 'arrived', 'article', 'articulated', 'as', 'aside', 'ask', 'asked', 'asking', 'asks', 'aslo', 'aspect', 'aspects', 'asses', 'assess', 'assessed', 'assesses', 'assessing', 'assessment', 'assessments', 'assessors', 'asset', 'assets', 'assigned', 'assignment', 'assist', 'assistance', 'associated', 'association', 'assume', 'assumed', 'assuming', 'assumption', 'assumptions', 'assurance', 'assurances', 'assure', 'assured', 'astounding', 'at', 'athens', 'atm', 'atmosphere', 'attach', 'attached', 'attack', 'attacking', 'attain', 'attainable', 'attempt', 'attempted', 'attempting', 'attempts', 'attend', 'attended', 'attending', 'attention', 'attitude', 'auctioning', 'auctions', 'audiences', 'august', 'aura', 'austerity', 'austrian', 'authorities', 'authority', 'authorized', 'authors', 'automated', 'automatic', 'automatically', 'autonomous', 'autonomy', 'availability', 'available', 'average', 'avoid', 'avoidance', 'avoids', 'await', 'aware', 'away', 'awful', 'baby', 'back', 'backbone', 'backed', 'background', 'backing', 'backlash', 'backtrack', 'backtracking', 'backward', 'backwards', 'bad', 'badly', 'bailing', 'balance', 'balanced', 'balances', 'balancing', 'ballot', 'bande', 'bandied', 'bandwagon', 'bang', 'bank', 'bankers', 'banking', 'banks', 'bargaining', 'barrel', 'barriers', 'base', 'based', 'baseline', 'baselines', 'basic', 'basically', 'basics', 'basis', 'bath', 'be', 'bear', 'bears', 'became', 'because', 'become', 'becomes', 'becoming', 'been', 'before', 'beforehand', 'beg', 'began', 'begin', 'beginning', 'begun', 'behalf', 'behave', 'behaves', 'behavior', 'behind', 'being', 'belief', 'believe', 'believed', 'believer', 'believers', 'believes', 'believing', 'below', 'benchmark', 'beneficial', 'benefit', 'benefited', 'benefiting', 'benefits', 'benoit', 'benoît', 'bent', 'besides', 'best', 'better', 'between', 'beyond', 'bid', 'bidders', 'bidding', 'big', 'biggest', 'bilaterally', 'bilaterial', 'bill', 'billion', 'billions', 'bills', 'binding', 'birthday', 'bit', 'bits', 'bitter', 'black', 'blackmail', 'blah', 'blame', 'blaming', 'blanchard', 'blanket', 'blip', 'blogosphere', 'blood', 'blow', 'blunt', 'bluntly', 'bluntness', 'bo', 'board', 'bodies', 'body', 'boils', 'bolster', 'bombarded', 'bond', 'bonds', 'books', 'boost', 'boosting', 'boosts', 'borders', 'borrow', 'borrowers', 'borrows', 'boss', 'bosses', 'both', 'bother', 'bottom', 'bound', 'bounds', 'boxes', 'breach', 'breadth', 'break', 'breakdown', 'breaker', 'breaking', 'breaks', 'breathe', 'breathing', 'bridge', 'bridged', 'bridging', 'brief', 'briefed', 'briefing', 'briefly', 'bring', 'bringing', 'brings', 'broad', 'broaden', 'broadening', 'broader', 'broadly', 'brought', 'brrd', 'brussels', 'budget', 'budgetary', 'budgeting', 'buffer', 'build', 'building', 'buildings', 'built', 'bumpidy', 'bumpy', 'bundestag', 'bundled', 'buoyancy', 'burden', 'burdens', 'bureaucracy', 'bureaucratic', 'burner', 'bus', 'business', 'businesses', 'but', 'button', 'buy', 'buyer', 'buying', 'by', 'bye', 'bygones', 'cabinet', 'cacaphony', 'calculate', 'calculating', 'calculation', 'calculations', 'calibrated', 'call', 'called', 'calling', 'calls', 'calm', 'calmly', 'calmness', 'came', 'cameras', 'campaign', 'campaigned', 'campaigning', 'campus', 'can', 'canary', 'cancel', 'canceled', 'canceling', 'cancelled', 'candid', 'cannibalizing', 'cannot', 'cap', 'capable', 'capacity', 'capital', 'capitalization', 'capitalizations', 'capitals', 'care', 'careful', 'carefully', 'carlo', 'carlos', 'carried', 'carry', 'carrying', 'cartoon', 'case', 'cases', 'cash', 'cat', 'catch', 'categories', 'categorised', 'category', 'catering', 'cause', 'caused', 'causes', 'causing', 'caution', 'caveats', 'ceiling', 'censor', 'censored', 'cent', 'center', 'centers', 'central', 'centralize', 'ceo', 'cer', 'certain', 'certainly', 'certainty', 'cessation', 'cetera', 'chain', 'challenge', 'challenged', 'challenges', 'challenging', 'champions', 'chance', 'chancellor', 'chances', 'change', 'changed', 'changes', 'changing', 'channel', 'chanting', 'chaos', 'chaotic', 'chapter', 'chapters', 'characteristics', 'charged', 'charges', 'chart', 'charter', 'check', 'chief', 'chiefs', 'choice', 'choices', 'choose', 'christine', 'circle', 'circles', 'circuits', 'circulate', 'circulated', 'circulating', 'circumnavigate', 'circumstance', 'circumstances', 'cities', 'citizens', 'city', 'civil', 'clarif', 'clarification', 'clarifications', 'clarify', 'clarifying', 'clarity', 'classify', 'claude', 'clause', 'claw', 'clear', 'clearly', 'clench', 'cliff', 'climate', 'climbing', 'clock', 'close', 'closed', 'closely', 'closeness', 'closer', 'closing', 'closures', 'co', 'coalition', 'coast', 'code', 'codes', 'cognizant', 'coherent', 'cohesion', 'cohesive', 'cohesively', 'coincidence', 'colla', 'collaborate', 'collaborating', 'collaboration', 'collapse', 'collapsed', 'collapsing', 'collat', 'collateral', 'collateralizing', 'colleague', 'colleagues', 'collect', 'collectability', 'collected', 'collectibility', 'collecting', 'collection', 'collections', 'collective', 'collectively', 'college', 'collegial', 'collogues', 'combination', 'combine', 'combined', 'combining', 'come', 'comes', 'comfortable', 'comfortably', 'coming', 'comit', 'commence', 'commenced', 'commend', 'commensurate', 'comment', 'commented', 'commenting', 'comments', 'commission', 'commissions', 'commit', 'commitment', 'commitments', 'commits', 'committed', 'committee', 'committees', 'common', 'commonly', 'communicate', 'communication', 'communications', 'communicators', 'communique', 'community', 'companies', 'company', 'comparable', 'compare', 'compared', 'compares', 'comparing', 'compelled', 'compensating', 'compete', 'competence', 'competition', 'competitive', 'complain', 'comple', 'complementary', 'complementing', 'complete', 'completed', 'completely', 'completes', 'completing', 'completion', 'complex', 'complexes', 'compliance', 'compliant', 'complicated', 'complications', 'complies', 'comply', 'component', 'composes', 'composition', 'compositions', 'comprehens', 'comprehension', 'comprehensive', 'comprehensiveness', 'compressed', 'compromise', 'compromised', 'compromises', 'compute', 'computer', 'con', 'conceivable', 'concentrate', 'concentrated', 'concentrating', 'concepts', 'concern', 'concerned', 'concerning', 'concerns', 'concerted', 'concession', 'concessional', 'concessions', 'concise', 'conclu', 'conclude', 'concluded', 'concluding', 'conclusion', 'conclusions', 'conclusive', 'concrete', 'concur', 'concurrently', 'condition', 'conditional', 'conditionalities', 'conditionality', 'conditions', 'conducive', 'conduct', 'conducted', 'conducting', 'confer', 'conference', 'confessed', 'confidence', 'confident', 'confidential', 'confidentiality', 'configuration', 'confined', 'confirm', 'confirmation', 'confirmed', 'confirms', 'conflicting', 'confront', 'confronted', 'confronting', 'confused', 'confusion', 'conjunction', 'connect', 'consecutive', 'consecutively', 'consensus', 'consent', 'consequence', 'consequences', 'conservation', 'conservative', 'consider', 'considerable', 'consideration', 'considered', 'considering', 'considers', 'consist', 'consisted', 'consistency', 'consistent', 'consistently', 'consolidation', 'constant', 'constantly', 'constitute', 'constitutes', 'constitution', 'constitutional', 'constrained', 'constraint', 'constraints', 'construct', 'construction', 'constructive', 'constructiveness', 'consult', 'consultation', 'consultations', 'consulting', 'consumed', 'consumers', 'consuming', 'consumption', 'contact', 'contacts', 'contagion', 'contain', 'contained', 'containing', 'contains', 'contemplate', 'content', 'contest', 'context', 'continent', 'contingency', 'continual', 'continuation', 'continue', 'continued', 'continues', 'continuing', 'continuous', 'contract', 'contraction', 'contractual', 'contradicted', 'contradiction', 'contrary', 'contrast', 'contravenes', 'contribute', 'contribution', 'contributions', 'control', 'controlling', 'controls', 'convene', 'convened', 'convenient', 'converge', 'converged', 'convergence', 'converges', 'converging', 'conversation', 'conversions', 'convey', 'conveying', 'convince', 'convinced', 'cooperate', 'cooperation', 'cooperative', 'coordinated', 'coordination', 'coordinator', 'copy', 'core', 'cornerstones', 'corporate', 'corporates', 'corporations', 'correct', 'corrected', 'correction', 'corrections', 'correctly', 'correlate', 'correspond', 'corrosive', 'corruption', 'cost', 'costed', 'costello', 'costing', 'costings', 'costs', 'could', 'couldn', 'coun', 'council', 'councils', 'counsel', 'count', 'counted', 'counter', 'counterbalance', 'counting', 'countless', 'countries', 'country', 'couple', 'courage', 'course', 'court', 'courtesy', 'cover', 'coverage', 'covered', 'covering', 'covers', 'cpos', 'cr', 'crackdown', 'crash', 'crazy', 'create', 'created', 'creates', 'creating', 'creation', 'creative', 'creativity', 'credi', 'credibility', 'credible', 'credibly', 'credit', 'creditor', 'creditors', 'credits', 'cries', 'crisis', 'criteria', 'critical', 'critically', 'criticism', 'criticized', 'criticizing', 'critique', 'crossed', 'crosstalk', 'crucial', 'cruel', 'crunch', 'crying', 'crystal', 'crystallize', 'csr', 'csr1', 'csrs', 'cultivate', 'culture', 'curious', 'currency', 'current', 'currently', 'cursory', 'curve', 'customers', 'customs', 'cut', 'cutback', 'cutbacks', 'cuts', 'cutting', 'cyberspace', 'cycle', 'cyclical', 'cyclically', 'cypriot', 'cyprus', 'cyps', 'cœuré', 'dac', 'daily', 'dam', 'damage', 'damaging', 'danger', 'dangerous', 'dangerously', 'data', 'date', 'dated', 'dates', 'day', 'days', 'de', 'dead', 'deadline', 'deadlines', 'deadlock', 'deal', 'dealing', 'deals', 'dealt', 'dear', 'debate', 'debated', 'debrief', 'debriefed', 'debt', 'debtor', 'debts', 'decades', 'decamps', 'dece', 'december', 'decent', 'deceptions', 'decide', 'decided', 'deciding', 'decision', 'decisions', 'decisive', 'declan', 'declaration', 'declare', 'declared', 'decline', 'decorations', 'decrease', 'decreases', 'decreasing', 'decree', 'dedicating', 'deeds', 'deep', 'deepened', 'deeper', 'deeply', 'default', 'defeat', 'defend', 'defense', 'defenses', 'deferential', 'deferred', 'deferring', 'deficiencies', 'deficit', 'deficits', 'define', 'defined', 'definite', 'definitely', 'definition', 'definitive', 'deflation', 'deflationary', 'degree', 'dei', 'deja', 'del', 'delay', 'delaying', 'delays', 'delegates', 'delegations', 'deliberate', 'deliberating', 'deliberation', 'deliberations', 'delicate', 'delineating', 'deliver', 'delivered', 'delivers', 'delivery', 'demand', 'demanded', 'demands', 'democracy', 'democratic', 'democratically', 'democrats', 'demonstrate', 'demonstrated', 'density', 'dent', 'deny', 'dependence', 'dependent', 'depending', 'depends', 'deployed', 'deposit', 'depositors', 'deposits', 'depressed', 'depression', 'deprive', 'deprived', 'dept', 'depth', 'deputies', 'deputy', 'derailed', 'deregulated', 'deregulation', 'describe', 'described', 'describing', 'description', 'deserve', 'design', 'designated', 'designed', 'designing', 'designs', 'designé', 'desirable', 'desperation', 'despite', 'destabilization', 'destroy', 'destructive', 'detail', 'detailed', 'details', 'deter', 'deteriorated', 'deteriorating', 'determination', 'determine', 'determined', 'detrimental', 'devastating', 'develop', 'developed', 'developing', 'development', 'developmental', 'developments', 'deviate', 'deviated', 'deviates', 'deviating', 'deviation', 'deviations', 'devil', 'devise', 'devised', 'devoted', 'di', 'dialogue', 'diamonds', 'dictated', 'dicussions', 'did', 'didn', 'diesel', 'diff', 'differ', 'difference', 'differences', 'different', 'differentiated', 'differently', 'differing', 'differs', 'difficult', 'difficulties', 'difficulty', 'digitalized', 'dignity', 'dijsselb', 'dijsselbloem', 'dilemma', 'diluted', 'dilution', 'dimensional', 'diminishing', 'dinner', 'diplomatics', 'dipped', 'dipping', 'direct', 'directed', 'direction', 'directions', 'directive', 'directly', 'directors', 'directs', 'dis', 'disability', 'disadvantageous', 'disagree', 'disagreed', 'disagreement', 'disagreements', 'disappear', 'disappointed', 'disappointing', 'disaster', 'disastrous', 'disbursement', 'disbursements', 'discipline', 'disciplined', 'disconnect', 'discontent', 'discount', 'discounted', 'discounts', 'discuss', 'discussed', 'discussing', 'discussion', 'discussions', 'disgracefully', 'dishonestly', 'dishonesty', 'disingenuous', 'dismantling', 'dismissal', 'dismissals', 'disparagingly', 'disper', 'dispersal', 'disperse', 'dispersed', 'dispersment', 'displayed', 'disputing', 'dissipate', 'distance', 'distant', 'distinction', 'distinguish', 'distinguishment', 'distribute', 'distributed', 'distributing', 'distribution', 'diverge', 'divergence', 'diverging', 'divisions', 'do', 'doable', 'doctor', 'document', 'documentation', 'documents', 'does', 'doesn', 'dogmatic', 'doing', 'domain', 'domest', 'domestic', 'don', 'donald', 'done', 'door', 'doses', 'dotted', 'double', 'doubled', 'doubling', 'doubt', 'doubts', 'down', 'downgraded', 'downhill', 'download', 'downside', 'downsides', 'downturn', 'draft', 'drafted', 'drafting', 'drafts', 'dragged', 'dragging', 'draghi', 'drama', 'dramatic', 'dramatically', 'dras', 'drastic', 'drastically', 'draw', 'drawn', 'dreams', 'drift', 'drive', 'drop', 'drops', 'dsa', 'dsm', 'dta', 'dtcs', 'dual', 'dublin', 'due', 'duration', 'duress', 'during', 'dusan', 'duties', 'duty', 'dwell', 'dynamically', 'dysfunctionality', 'each', 'eager', 'eant', 'earlier', 'early', 'earn', 'ease', 'easier', 'easily', 'easing', 'easter', 'easy', 'eat', 'ecb', 'ecg', 'echo', 'ecofin', 'economic', 'economically', 'economies', 'economist', 'economy', 'edge', 'edward', 'efc', 'efect', 'effect', 'effecting', 'effective', 'effectively', 'effectiveness', 'effects', 'efficiency', 'efficient', 'efficiently', 'effort', 'efforts', 'efs', 'efsf', 'eh', 'eight', 'either', 'eka', 'ekas', 'el', 'ela', 'elaborate', 'elaborated', 'elasticity', 'elderly', 'elect', 'elected', 'election', 'elections', 'electoral', 'electorate', 'electorates', 'electricity', 'electronic', 'element', 'elements', 'elevated', 'eleventh', 'eliminate', 'eliminated', 'elimination', 'elite', 'eloquently', 'else', 'elsewhere', 'elstat', 'em', 'email', 'embarked', 'embarrassing', 'embed', 'embedded', 'emerge', 'emergency', 'emerging', 'emi', 'emotional', 'empathy', 'emphasis', 'emphasize', 'emphasized', 'empirical', 'employed', 'employees', 'employer', 'employers', 'employment', 'empowered', 'en', 'enable', 'enabled', 'enabling', 'encountered', 'encounters', 'encourage', 'encouraged', 'encouraging', 'end', 'endeavor', 'ended', 'endemic', 'ending', 'endogenously', 'endorse', 'endorsed', 'endorsement', 'endorsements', 'endorsing', 'ends', 'energy', 'enforcement', 'engage', 'engaged', 'engaging', 'enhance', 'enhances', 'enhancing', 'enjoying', 'enlightened', 'enlist', 'enormous', 'enough', 'enrollments', 'ensure', 'ensured', 'ensures', 'ensuring', 'enter', 'entered', 'entering', 'enthused', 'entire', 'entirely', 'entities', 'entitled', 'entity', 'entrusted', 'entry', 'enumerated', 'environment', 'environments', 'envisage', 'envisaged', 'envy', 'episode', 'equal', 'equality', 'equally', 'equation', 'equilibrium', 'equitable', 'equity', 'equivalent', 'er', 'era', 'eradicate', 'eradication', 'erm', 'err', 'error', 'erste', 'escalation', 'escape', 'escrow', 'esf', 'esm', 'especially', 'essence', 'essential', 'essentially', 'establish', 'established', 'establishing', 'establishment', 'estate', 'estimate', 'estimated', 'estimates', 'estimation', 'et', 'etc', 'etcetera', 'eu', 'euro', 'eurogroup', 'eurogroups', 'europe', 'european', 'europeans', 'euros', 'eurostat', 'eurosummit', 'euroworking', 'eurozone', 'ev', 'evaluate', 'evaluated', 'evaluation', 'evasion', 'even', 'evening', 'event', 'events', 'eventual', 'eventuality', 'eventually', 'ever', 'evermore', 'every', 'everybody', 'everyone', 'everything', 'everywhere', 'evidence', 'evidenced', 'evident', 'evidently', 'evolution', 'evolved', 'ewb', 'ewg', 'ex', 'exacerbated', 'exactly', 'exalt', 'examination', 'examine', 'examined', 'example', 'examples', 'exce', 'exceeded', 'excel', 'excellent', 'except', 'excepting', 'exceptionally', 'exceptions', 'excessive', 'excessively', 'exchange', 'exchanges', 'excise', 'excite', 'exciting', 'exclude', 'excluded', 'exclusive', 'exclusively', 'execute', 'execution', 'exempt', 'exemption', 'exemptions', 'exercise', 'exert', 'exist', 'existence', 'existing', 'exists', 'exit', 'exiting', 'expect', 'expectation', 'expectations', 'expected', 'expecting', 'expedient', 'expedite', 'expediting', 'expenditure', 'expenditures', 'expense', 'expenses', 'experience', 'experienced', 'experiences', 'experiencing', 'experts', 'expiration', 'expire', 'expired', 'expires', 'explain', 'explained', 'explaining', 'explains', 'explanation', 'explanations', 'explicit', 'explicitly', 'exploiting', 'exploration', 'explore', 'explored', 'export', 'exposed', 'express', 'expressed', 'expressing', 'expression', 'ext', 'extend', 'extended', 'extending', 'extension', 'extensions', 'extensive', 'extensively', 'extent', 'external', 'extr', 'extra', 'extract', 'extracting', 'extraordinary', 'extreme', 'extremely', 'eye', 'eyes', 'fabric', 'fabulous', 'face', 'faced', 'faces', 'facilitates', 'facilities', 'facility', 'facing', 'fact', 'facto', 'factor', 'factors', 'facts', 'factual', 'faded', 'fail', 'failed', 'failure', 'failures', 'fair', 'fairly', 'fairness', 'fait', 'faith', 'faithful', 'falda', 'fall', 'fallacy', 'fallen', 'falling', 'falls', 'false', 'familiarity', 'families', 'family', 'famous', 'fan', 'far', 'farmers', 'farther', 'fashion', 'fast', 'faster', 'fault', 'favor', 'favors', 'favour', 'faze', 'fdi', 'fear', 'fears', 'feasible', 'feature', 'features', 'february', 'feedback', 'feel', 'feeling', 'feelings', 'feels', 'fees', 'feet', 'fell', 'fellas', 'felt', 'ferry', 'few', 'fields', 'fifth', 'fifty', 'figure', 'figures', 'file', 'filed', 'filing', 'fill', 'filled', 'final', 'finalize', 'finalized', 'finally', 'finance', 'financed', 'finances', 'financial', 'financially', 'financials', 'financing', 'find', 'finding', 'findings', 'finds', 'fine', 'finetune', 'finish', 'finished', 'finishing', 'finland', 'finnish', 'fire', 'fired', 'firesale', 'firm', 'first', 'firstly', 'fiscal', 'fiscally', 'fits', 'fitting', 'five', 'fix', 'fixation', 'flair', 'flattening', 'flavor', 'flawed', 'fledged', 'fleeting', 'flesh', 'fleshed', 'flexibilities', 'flexibility', 'flexible', 'flights', 'floating', 'flooded', 'floor', 'flow', 'flows', 'fluxes', 'flying', 'focus', 'focused', 'focuses', 'focusing', 'folllow', 'follow', 'followed', 'followers', 'following', 'follows', 'fontaine', 'food', 'fool', 'for', 'fora', 'force', 'forced', 'forces', 'forecast', 'foreclosed', 'foreclosure', 'foreclosures', 'foreign', 'foremost', 'foresee', 'foreseeable', 'foreseen', 'forest', 'forever', 'forge', 'forget', 'forgone', 'forgotten', 'form', 'formal', 'formally', 'format', 'formation', 'former', 'forms', 'formulate', 'formulated', 'forth', 'forthcoming', 'forthwith', 'fortnight', 'fortunately', 'forum', 'forward', 'forwarded', 'found', 'foundation', 'foundations', 'founding', 'four', 'fourth', 'fourthly', 'fragile', 'fragility', 'fragment', 'fragmented', 'frame', 'framework', 'frank', 'franklly', 'frankly', 'fraud', 'free', 'freed', 'freights', 'french', 'frequency', 'frequently', 'fresh', 'friday', 'friend', 'friendliness', 'friendly', 'friends', 'frightening', 'fro', 'from', 'front', 'fronts', 'froze', 'fruit', 'fruition', 'fruitless', 'fruits', 'frustrated', 'frustration', 'fsf', 'fudge', 'fulfill', 'fulfilled', 'full', 'fully', 'function', 'functional', 'functioning', 'functions', 'fund', 'fundamental', 'fundamentally', 'funded', 'funding', 'funds', 'furniture', 'further', 'furthermore', 'future', 'gain', 'gained', 'game', 'gaming', 'gap', 'gaps', 'gas', 'gather', 'gathered', 'gathering', 'gave', 'gdp', 'gear', 'geared', 'general', 'generally', 'generate', 'generated', 'generating', 'generic', 'generosity', 'generous', 'genuine', 'genuinely', 'george', 'german', 'germany', 'gesture', 'get', 'gets', 'getting', 'girlfriend', 'gist', 'give', 'given', 'gives', 'giving', 'glad', 'glass', 'glf', 'glide', 'global', 'globally', 'go', 'goal', 'goals', 'god', 'goes', 'going', 'gone', 'gong', 'gonna', 'good', 'goods', 'goodwill', 'got', 'gov', 'gover', 'govern', 'governance', 'governed', 'governing', 'government', 'governmental', 'governmentalism', 'governments', 'governors', 'gr', 'gradually', 'grafted', 'grain', 'grandfather', 'grandmother', 'granted', 'granular', 'graphs', 'grasp', 'grateful', 'grave', 'gray', 'gre', 'great', 'greater', 'greatest', 'greece', 'greek', 'greeks', 'green', 'greetings', 'grexit', 'gridlocked', 'grinding', 'grossly', 'ground', 'grounds', 'group', 'groups', 'grow', 'growing', 'growth', 'guarantee', 'guaranteed', 'guarantees', 'guess', 'gui', 'guidance', 'guided', 'guiding', 'guindos', 'gurría', 'gutchen', 'guy', 'guys', 'had', 'hadn', 'haircut', 'haircuts', 'half', 'hammer', 'hammered', 'hammering', 'hampers', 'hand', 'handle', 'hands', 'hans', 'happen', 'happened', 'happening', 'happens', 'happily', 'happy', 'hard', 'hardly', 'hardship', 'harm', 'harming', 'harmonization', 'harmonize', 'harmonizing', 'harmony', 'harris', 'has', 'hasn', 'hatch', 'hate', 'have', 'haven', 'having', 'hazard', 'he', 'head', 'headlines', 'heads', 'health', 'healthy', 'hear', 'heard', 'hearing', 'heart', 'heavily', 'heavy', 'held', 'hell', 'hellenic', 'hello', 'help', 'helped', 'helpful', 'helping', 'helps', 'her', 'here', 'hesitative', 'hey', 'hfs', 'hfsf', 'hi', 'hidden', 'hide', 'high', 'higher', 'highest', 'highlight', 'highlighted', 'highly', 'hike', 'hikes', 'him', 'hired', 'hires', 'his', 'historians', 'historical', 'historically', 'history', 'hmm', 'hmmm', 'ho', 'hog', 'hold', 'holders', 'holding', 'holds', 'holiday', 'home', 'homeless', 'homelessness', 'honest', 'honestly', 'honesty', 'honor', 'honorable', 'honour', 'hope', 'hopeful', 'hopefully', 'hopes', 'hoping', 'horizon', 'horizontal', 'horrific', 'horrifying', 'horse', 'hostile', 'hostility', 'hotel', 'hotels', 'hour', 'hours', 'house', 'household', 'households', 'housewives', 'housing', 'hove', 'how', 'however', 'hsfs', 'huge', 'huh', 'humanitarian', 'humbled', 'humiliating', 'hunch', 'hundred', 'hurdle', 'hurdles', 'hurl', 'hurt', 'hurting', 'hyping', 'id', 'idea', 'ideas', 'identical', 'identified', 'identify', 'ideological', 'ideology', 'idling', 'if', 'ika', 'ill', 'ilo', 'im', 'imagine', 'imbalances', 'imf', 'immediate', 'immediately', 'immense', 'immer', 'immoderately', 'impact', 'impacts', 'impartial', 'impasse', 'impede', 'impedes', 'impediments', 'impending', 'imperative', 'imperfect', 'implement', 'implementation', 'implemented', 'implementing', 'implements', 'implication', 'implications', 'implicit', 'implied', 'implies', 'imply', 'implying', 'importance', 'important', 'importantly', 'impose', 'imposes', 'impossibility', 'impossible', 'impractically', 'impress', 'impression', 'impressions', 'impressive', 'improbable', 'improve', 'improved', 'improvement', 'improvements', 'improving', 'imprudent', 'in', 'inability', 'inaction', 'inappropriate', 'inaudible', 'incentives', 'incidentally', 'include', 'included', 'includes', 'including', 'income', 'incomplete', 'incongruity', 'inconsistent', 'inconvenient', 'incorporated', 'increase', 'increased', 'increases', 'increasing', 'increasingly', 'incredible', 'incumbent', 'indebted', 'indebtedness', 'indeed', 'independence', 'independent', 'independently', 'indicate', 'indicated', 'indicates', 'indication', 'indicators', 'indifference', 'indignity', 'indirect', 'indispensable', 'individual', 'industrious', 'inefficiencies', 'inefficient', 'inevitable', 'infl', 'inflammatory', 'inflation', 'inflationary', 'inflexibility', 'influence', 'influx', 'info', 'inform', 'informal', 'informality', 'information', 'informed', 'informing', 'informs', 'initial', 'initially', 'initiate', 'initiated', 'initiative', 'initiatives', 'input', 'inputs', 'insecurity', 'inside', 'insight', 'insights', 'insist', 'insistence', 'insisting', 'insolvency', 'inspection', 'inspectorate', 'inspire', 'inspires', 'installment', 'installments', 'instalment', 'instance', 'instances', 'instead', 'instit', 'institute', 'institutes', 'institution', 'institutional', 'institutionalist', 'institutions', 'instruct', 'instructed', 'instruction', 'instructional', 'instrument', 'instruments', 'insufficient', 'insufficiently', 'insults', 'insurance', 'int', 'integrate', 'integrated', 'integration', 'integrity', 'intelligent', 'intend', 'intends', 'intense', 'intensity', 'intensive', 'intensively', 'intent', 'intention', 'intentions', 'inter', 'interactions', 'interest', 'interested', 'interesting', 'interests', 'interfered', 'interference', 'interferes', 'interfering', 'interim', 'interject', 'intermediate', 'internal', 'international', 'internet', 'interpretation', 'interpretations', 'interpreted', 'interpreter', 'interrogated', 'interrupt', 'interrupted', 'interrupting', 'intervening', 'intervention', 'interview', 'intimately', 'into', 'intolerable', 'introduce', 'introduced', 'introduces', 'introducing', 'introduction', 'invalid', 'invariably', 'inverse', 'inversely', 'invested', 'investment', 'investments', 'investor', 'investors', 'invitations', 'invite', 'invited', 'involve', 'involved', 'involvement', 'involves', 'involving', 'ipad', 'ireland', 'irina', 'irish', 'irony', 'irrevocability', 'irrevocably', 'irs', 'is', 'island', 'islands', 'isn', 'issue', 'issued', 'issuer', 'issues', 'ist', 'it', 'italian', 'item', 'items', 'iterate', 'iteration', 'iterative', 'its', 'itself', 'jack', 'janis', 'january', 'jargon', 'jars', 'jason', 'jean', 'jeopardize', 'jeopardized', 'jeroen', 'jerome', 'jetzt', 'job', 'johan', 'join', 'joined', 'joining', 'joint', 'jointly', 'joreon', 'jorun', 'journalist', 'journalists', 'ju', 'judge', 'judgment', 'judicial', 'july', 'jump', 'jumped', 'juncker', 'juncture', 'june', 'jung', 'junker', 'just', 'justified', 'justify', 'justly', 'jörg', 'katerina', 'keen', 'keep', 'keeping', 'keeps', 'kept', 'key', 'kick', 'kill', 'kind', 'kinds', 'klaus', 'kn', 'knee', 'knew', 'know', 'knowing', 'knowledge', 'known', 'knows', 'labor', 'laborers', 'laborious', 'labour', 'lack', 'lacked', 'lacking', 'lacks', 'laconic', 'laden', 'lagarde', 'laid', 'land', 'landscape', 'language', 'large', 'largely', 'larger', 'last', 'lastly', 'late', 'lately', 'later', 'latest', 'latter', 'laughing', 'laughs', 'laughter', 'launched', 'law', 'laws', 'lawyers', 'le', 'lead', 'leader', 'leaders', 'leading', 'leads', 'leak', 'leaked', 'leaks', 'leap', 'learn', 'learning', 'least', 'leave', 'leaves', 'leaving', 'led', 'left', 'legacy', 'legal', 'legality', 'legally', 'legisla', 'legislate', 'legislated', 'legislating', 'legislation', 'legislative', 'legitimacy', 'legitimate', 'lending', 'length', 'lesen', 'less', 'lesser', 'lessons', 'let', 'lets', 'letter', 'letters', 'letting', 'lev', 'level', 'levels', 'li', 'liabilities', 'liability', 'liar', 'liberalization', 'liberalizing', 'licensing', 'lies', 'lieu', 'life', 'lifting', 'light', 'like', 'liked', 'likelihood', 'likely', 'likes', 'limit', 'limitations', 'limited', 'limiting', 'limits', 'line', 'lined', 'lines', 'linked', 'liquid', 'liquidity', 'list', 'listed', 'listen', 'listened', 'listening', 'listing', 'lists', 'literally', 'lithuania', 'lithuanian', 'litmus', 'little', 'live', 'lives', 'living', 'll', 'loan', 'loans', 'local', 'logic', 'logical', 'logistic', 'logistical', 'logistically', 'long', 'longer', 'look', 'looked', 'looking', 'looks', 'looming', 'loop', 'loosening', 'lose', 'losing', 'loss', 'lost', 'lot', 'lots', 'love', 'low', 'lower', 'lowest', 'luckily', 'luis', 'lump', 'lumpy', 'lunch', 'luxury', 'luís', 'machines', 'macro', 'macroeconomic', 'made', 'magnified', 'magnitude', 'main', 'mainly', 'maintain', 'maintained', 'maintaining', 'major', 'majority', 'make', 'makers', 'makes', 'making', 'mal', 'man', 'manage', 'manageable', 'managed', 'management', 'managing', 'mandate', 'mandated', 'mandates', 'manifest', 'manner', 'many', 'map', 'mapping', 'march', 'marco', 'marcus', 'margin', 'marginally', 'maria', 'mario', 'maritime', 'markers', 'market', 'marketplace', 'markets', 'massive', 'master', 'matches', 'material', 'materially', 'materials', 'matter', 'matters', 'mattress', 'maturity', 'maximum', 'may', 'maybe', 'me', 'meager', 'mean', 'meaning', 'meaningful', 'means', 'meant', 'meantime', 'meanwhile', 'measurable', 'measure', 'measurement', 'measures', 'measuring', 'mechanical', 'mechanism', 'mechanisms', 'media', 'medias', 'medicine', 'medium', 'meet', 'meeting', 'meetings', 'meets', 'mefp', 'melania', 'member', 'members', 'memoir', 'memoire', 'memorandum', 'memore', 'memory', 'mende', 'mentally', 'mention', 'mentioned', 'mentioning', 'merci', 'mere', 'merely', 'merger', 'merit', 'meso', 'mess', 'message', 'messages', 'met', 'method', 'methods', 'metrics', 'michael', 'michel', 'michele', 'micro', 'mid', 'middle', 'midnight', 'midst', 'midterm', 'might', 'milage', 'mile', 'million', 'mind', 'mindful', 'minds', 'mine', 'minefield', 'minimize', 'minimizing', 'minimum', 'minister', 'ministers', 'ministries', 'ministry', 'minor', 'minuscule', 'minuses', 'minute', 'minutes', 'miracles', 'mis', 'misdemeanors', 'misguiding', 'misheard', 'misjudged', 'mislead', 'misleading', 'miss', 'missed', 'missing', 'mission', 'missions', 'mistake', 'mistaken', 'mistakes', 'misunderstanding', 'misunderstandings', 'mivendi', 'mix', 'mixed', 'mm', 'mo', 'mobilised', 'modality', 'mode', 'model', 'moderating', 'modern', 'modernization', 'modernize', 'modernizing', 'modicum', 'modification', 'modified', 'modifying', 'modus', 'moment', 'momentous', 'moments', 'mon', 'monday', 'monetary', 'money', 'monies', 'monitor', 'monitored', 'monitoring', 'month', 'months', 'monumental', 'mood', 'moral', 'moratoria', 'moratorium', 'more', 'moreover', 'morning', 'mortem', 'mortgage', 'moscovici', 'moskovici', 'most', 'mostly', 'motion', 'motorbike', 'mou', 'mountainous', 'mouse', 'move', 'moved', 'movement', 'moves', 'moving', 'mr', 'much', 'multi', 'multiplayer', 'multiplied', 'multiplier', 'multipliers', 'multitude', 'municipalities', 'music', 'must', 'muted', 'mutual', 'mutually', 'my', 'mykonos', 'myself', 'mythical', 'mémoire', 'nabil', 'naive', 'name', 'namely', 'narrative', 'narratives', 'narrow', 'narrowed', 'narrowing', 'national', 'nations', 'natural', 'nature', 'nautical', 'ne', 'near', 'necessarily', 'necessary', 'necessity', 'need', 'needed', 'needs', 'negative', 'negatively', 'negotiate', 'negotiated', 'negotiating', 'negotiation', 'negotiations', 'negotiator', 'negotiators', 'neither', 'nervousness', 'nesp', 'net', 'netherlands', 'nets', 'network', 'neutral', 'never', 'nevertheless', 'new', 'newer', 'newly', 'news', 'newspaper', 'newspapers', 'next', 'nice', 'nicely', 'night', 'nights', 'nikos', 'nine', 'ninth', 'no', 'nobody', 'noise', 'nom', 'nominal', 'non', 'none', 'nonetheless', 'nonnegotiable', 'nonsense', 'noonan', 'nor', 'normal', 'normalization', 'normalize', 'normally', 'not', 'notable', 'notably', 'notch', 'note', 'noted', 'notes', 'nothing', 'notice', 'noticed', 'noting', 'notion', 'notions', 'notwithstanding', 'november', 'now', 'nowhere', 'npl', 'npls', 'nse', 'ntls', 'nuisance', 'number', 'numbers', 'numerous', 'oacd', 'object', 'objected', 'objecting', 'objection', 'objections', 'objective', 'objectives', 'obligation', 'obligations', 'obliged', 'observation', 'observe', 'observed', 'observer', 'obstacle', 'obstacles', 'obvious', 'obviously', 'occasions', 'october', 'odds', 'oecb', 'oecd', 'of', 'off', 'offensive', 'offer', 'offered', 'offering', 'offers', 'office', 'offices', 'official', 'officially', 'officials', 'offset', 'often', 'oh', 'ok', 'okay', 'old', 'olds', 'omissions', 'omnibus', 'on', 'once', 'one', 'onerous', 'ones', 'ongoing', 'online', 'only', 'onset', 'onto', 'onus', 'onward', 'onwards', 'open', 'opening', 'openly', 'openness', 'operate', 'operates', 'operating', 'operation', 'operational', 'operations', 'opi', 'opined', 'opinion', 'opinions', 'opportunities', 'opportunity', 'opposed', 'opposite', 'opposition', 'optimal', 'optimism', 'optimistic', 'optimized', 'option', 'options', 'or', 'orators', 'order', 'orderly', 'orders', 'organization', 'organizations', 'organize', 'oriented', 'original', 'originally', 'other', 'others', 'otherwise', 'ou', 'ought', 'our', 'ours', 'ourselves', 'out', 'outcome', 'outcomes', 'outflow', 'outflows', 'outlays', 'outline', 'outlined', 'outlining', 'outlook', 'output', 'outset', 'outside', 'outsource', 'outstanding', 'over', 'overall', 'overcome', 'overcoming', 'overhang', 'overlapping', 'overlay', 'overlooking', 'overnight', 'oversees', 'overview', 'owe', 'own', 'owned', 'owners', 'ownership', 'oxi', 'pa', 'pace', 'package', 'page', 'pages', 'paid', 'painful', 'palatable', 'panel', 'panellinia', 'panning', 'paper', 'papers', 'par', 'paragraph', 'paragraphs', 'parallel', 'parameters', 'parametric', 'parametrically', 'paramount', 'parasitic', 'parcel', 'parent', 'paris', 'parked', 'parliament', 'parliamentary', 'parliaments', 'part', 'participants', 'participate', 'participating', 'participation', 'particular', 'particularly', 'parties', 'partly', 'partner', 'partners', 'parts', 'party', 'pass', 'passed', 'passes', 'passing', 'passion', 'past', 'path', 'patience', 'patient', 'paul', 'pave', 'pay', 'paying', 'payment', 'payments', 'payroll', 'payrolls', 'peace', 'peculiar', 'peer', 'pending', 'pension', 'pensioners', 'pensions', 'peopl', 'people', 'peoples', 'per', 'perceiving', 'percent', 'percentage', 'perception', 'perceptions', 'perfect', 'perfectly', 'perform', 'performance', 'performances', 'performing', 'perhaps', 'period', 'periods', 'permanent', 'permanently', 'permissible', 'permit', 'permits', 'permitted', 'perplexity', 'person', 'personal', 'personally', 'personnel', 'perspective', 'perspectives', 'persuade', 'pertain', 'pertinent', 'perturbation', 'peter', 'petrol', 'pharmaceutical', 'pharmaceuticals', 'phase', 'phases', 'phasing', 'phenomenon', 'phone', 'phrase', 'phraseology', 'physical', 'physically', 'pick', 'picked', 'picking', 'pickle', 'picture', 'piece', 'pieces', 'pier', 'pierre', 'pillars', 'ping', 'pinning', 'pipeline', 'pitch', 'pitfalls', 'pity', 'place', 'places', 'placing', 'plan', 'planned', 'planning', 'plans', 'platform', 'platforms', 'play', 'played', 'playing', 'plays', 'plea', 'please', 'pleased', 'pledges', 'plenary', 'plethora', 'plo', 'plus', 'pluses', 'pm', 'po', 'point', 'pointed', 'pointing', 'pointl', 'pointless', 'points', 'police', 'policies', 'policy', 'polite', 'politely', 'political', 'politically', 'politician', 'politicians', 'politics', 'polity', 'pong', 'poor', 'poorest', 'population', 'portfolio', 'portion', 'portugal', 'portuguese', 'posed', 'posing', 'position', 'positions', 'positive', 'positively', 'poss', 'possibilities', 'possibility', 'possible', 'possibly', 'post', 'postpone', 'postponed', 'posture', 'potential', 'potentially', 'poverty', 'practical', 'practically', 'practice', 'practices', 'pre', 'preceded', 'preceed', 'precise', 'precisely', 'preconceived', 'precondition', 'preconditions', 'predicted', 'predominantly', 'prefer', 'preferably', 'preference', 'preferred', 'prejudge', 'preliminary', 'preparation', 'preparations', 'preparatory', 'prepare', 'prepared', 'preparing', 'prescriptions', 'presence', 'present', 'presentation', 'presented', 'presenting', 'presently', 'presents', 'preserve', 'preserving', 'president', 'presidents', 'press', 'pressed', 'pressing', 'pressure', 'pressures', 'pressurized', 'pressurizing', 'presumably', 'presume', 'presumption', 'pretend', 'pretending', 'pretty', 'prevail', 'prevent', 'prevented', 'preventing', 'previous', 'previously', 'prey', 'pri', 'price', 'prices', 'primarily', 'primary', 'prime', 'principal', 'principals', 'principle', 'principles', 'print', 'printed', 'prior', 'priorities', 'priority', 'private', 'privatisation', 'privatisations', 'privatization', 'privatizations', 'privatized', 'privileged', 'pro', 'probability', 'probable', 'probably', 'problem', 'problematic', 'problems', 'procedural', 'procedure', 'procedures', 'proceed', 'proceeded', 'proceeding', 'proceeds', 'process', 'processes', 'procurement', 'produce', 'produced', 'produces', 'producing', 'product', 'production', 'productive', 'profession', 'profile', 'profiling', 'profit', 'profitable', 'profitably', 'profits', 'profligacy', 'prog', 'prognostication', 'program', 'programme', 'programs', 'progress', 'progressed', 'progressing', 'prohibited', 'project', 'projected', 'projecting', 'projection', 'projections', 'projects', 'prolong', 'prolonged', 'prolonging', 'prominently', 'promise', 'promises', 'promising', 'promote', 'promptly', 'pronounced', 'proper', 'properly', 'properties', 'property', 'propo', 'proponent', 'proportions', 'proposal', 'proposals', 'propose', 'proposed', 'proposes', 'proposi', 'proposing', 'propositions', 'prospect', 'prospective', 'protect', 'protecting', 'protracted', 'prove', 'proved', 'provide', 'provided', 'provider', 'providing', 'provision', 'provisional', 'provisioned', 'provisions', 'proxy', 'prudent', 'psi', 'public', 'publicly', 'publish', 'published', 'pull', 'pulling', 'punish', 'punishes', 'purchase', 'pure', 'purpose', 'purposes', 'pursue', 'pursuing', 'pursuit', 'purview', 'push', 'pushed', 'pushing', 'put', 'puts', 'putting', 'puzzled', 'qe', 'qualities', 'quality', 'quantifiable', 'quantifying', 'quantitative', 'quantity', 'quantum', 'quarter', 'quarters', 'quasi', 'que', 'question', 'questioned', 'questioning', 'questions', 'queues', 'quick', 'quickly', 'quite', 'quote', 'quotes', 'quoting', 'radical', 'radically', 'radio', 'rails', 'rain', 'raise', 'raised', 'raising', 'ramifications', 'ramped', 'ran', 'range', 'rapid', 'rapidly', 'rapport', 'rasmus', 'rate', 'rates', 'rather', 'rating', 'ratio', 'rational', 'rationale', 'rationalization', 'rationalizing', 'rationally', 're', 'reach', 'reached', 'reaches', 'reaching', 'react', 'reacting', 'reaction', 'reactions', 'read', 'reading', 'readings', 'reads', 'ready', 'reaffirmed', 'real', 'realignments', 'realised', 'realising', 'realism', 'realistic', 'realistically', 'realities', 'reality', 'realization', 'realize', 'realized', 'realizes', 'realizing', 'really', 'realm', 'reason', 'reasonable', 'reasonably', 'reasoning', 'reasons', 'reassess', 'reassessed', 'reassurances', 'reassure', 'reassuring', 'rebates', 'rebound', 'rebuild', 'recall', 'recalls', 'recapitalised', 'recapitalization', 'receive', 'received', 'receives', 'receiving', 'recent', 'recently', 'recession', 'recessionary', 'recognize', 'recognized', 'recognizes', 'recommend', 'recommendation', 'recommendations', 'recommended', 'recommending', 'reconfirm', 'reconsider', 'reconstruction', 'reconstructuring', 'reconvene', 'reconvened', 'record', 'recorded', 'records', 'recover', 'recovery', 'recreational', 'rectify', 'recurring', 'red', 'redefine', 'redemptions', 'redesign', 'redesigned', 'redesigning', 'redirect', 'redistributed', 'redistributive', 'redouble', 'redrafted', 'redrawn', 'reduce', 'reduced', 'reducing', 'reduction', 'reductions', 'redundant', 'reemphasize', 'ref', 'refer', 'reference', 'references', 'referenda', 'referendum', 'referendums', 'referred', 'referring', 'refers', 'reflect', 'reflection', 'reflections', 'reflects', 'reform', 'reformed', 'reforming', 'reforms', 'refrain', 'refraining', 'refuse', 'refused', 'refusing', 'regain', 'regaining', 'regard', 'regarding', 'regardless', 'regards', 'regime', 'regional', 'registered', 'registrations', 'regling', 'regret', 'regrettable', 'regular', 'regularly', 'regulations', 'regulator', 'regulatory', 'reinforce', 'reinstate', 'reinstating', 'reissue', 'reiterate', 'reiterated', 'reject', 'rejected', 'rejects', 'relate', 'related', 'relates', 'relation', 'relationship', 'relationships', 'relative', 'relatively', 'relativity', 'relax', 'relaxing', 'relaying', 'rele', 'release', 'released', 'relevance', 'relevant', 'reliability', 'reliance', 'relief', 'relies', 'reluctance', 'reluctant', 'rely', 'relying', 'remain', 'remained', 'remaining', 'remains', 'remark', 'remarked', 'remarks', 'reme', 'remedy', 'remember', 'remind', 'reminded', 'reminder', 'reminding', 'remit', 'removal', 'remove', 'removed', 'removes', 'removing', 'render', 'rendered', 'renegotiate', 'renegotiating', 'renewed', 'rengling', 'rent', 'rents', 'reopen', 'reopening', 'reparation', 'repay', 'repaying', 'repayment', 'repayments', 'repeat', 'repeated', 'repeatedly', 'repeating', 'replace', 'replaced', 'replacement', 'replacing', 'replenish', 'replenished', 'replenishment', 'replicated', 'replies', 'reply', 'report', 'reported', 'reports', 'represent', 'representation', 'representatives', 'represented', 'representing', 'represents', 'reprofiling', 'republic', 'request', 'requested', 'requesting', 'requests', 'require', 'required', 'requirement', 'requirements', 'requires', 'requiring', 'res', 'research', 'resend', 'reservation', 'reserve', 'reserves', 'reserving', 'resetting', 'residences', 'residencies', 'residents', 'resignations', 'resigned', 'resist', 'resolution', 'resolutions', 'resolve', 'resolved', 'resource', 'resources', 'respe', 'respect', 'respected', 'respecting', 'respective', 'respond', 'responded', 'responding', 'response', 'responses', 'responsibility', 'responsible', 'responsibly', 'responsiveness', 'rest', 'restate', 'restaurants', 'restore', 'restoring', 'restraint', 'restricted', 'restrictions', 'restricts', 'restructuring', 'result', 'results', 'resume', 'retain', 'retaining', 'retains', 'retates', 'retaxing', 'rethink', 'retire', 'retirement', 'retirements', 'retort', 'retreat', 'retrieve', 'return', 'returned', 'returning', 'revamping', 'reveal', 'revenue', 'revenues', 'reverberate', 'reversal', 'reversals', 'reverse', 'reversed', 'reversing', 'review', 'reviewed', 'reviewing', 'reviews', 'revise', 'revised', 'revision', 'revisit', 'revisited', 'revival', 'revoked', 'ricci', 'rich', 'rid', 'riding', 'riga', 'right', 'rightly', 'righto', 'rights', 'rimantas', 'ringfencing', 'rise', 'rises', 'rising', 'risk', 'risking', 'risks', 'risky', 'road', 'roadmap', 'robust', 'robustness', 'role', 'roll', 'rollback', 'rolling', 'rookie', 'room', 'root', 'round', 'rounds', 'route', 'rules', 'ruling', 'run', 'runner', 'running', 'runs', 'sacrosanct', 'sad', 'saddled', 'sadly', 'sadness', 'safe', 'safeguard', 'safeguards', 'safest', 'safety', 'saga', 'said', 'sake', 'salaries', 'salary', 'sale', 'sales', 'same', 'sanguine', 'santorini', 'sapin', 'satisfactory', 'saturday', 'save', 'saving', 'savings', 'savvaidou', 'saw', 'say', 'saying', 'says', 'scale', 'scaled', 'scandalously', 'scarce', 'scares', 'scary', 'scattered', 'scenario', 'scenarios', 'scene', 'schedule', 'scheduled', 'schedules', 'scheme', 'schemes', 'schäuble', 'scope', 'scoring', 'scraping', 'se', 'seal', 'sealed', 'sealing', 'search', 'seasons', 'sec', 'second', 'secondary', 'secondly', 'seconds', 'secrecy', 'secretariat', 'secretary', 'sector', 'secure', 'secures', 'securing', 'security', 'see', 'seeing', 'seek', 'seeking', 'seem', 'seemed', 'seemingly', 'seems', 'seen', 'sees', 'segment', 'seize', 'selection', 'self', 'sell', 'selling', 'semantics', 'semester', 'semi', 'send', 'sending', 'senior', 'seniors', 'sens', 'sensation', 'sense', 'sensible', 'sent', 'sentence', 'sentences', 'sentiment', 'separate', 'separately', 'separation', 'september', 'sequence', 'sequences', 'sequencing', 'sequential', 'series', 'serious', 'seriously', 'servant', 'servants', 'serve', 'serves', 'service', 'services', 'session', 'set', 'setback', 'sets', 'setting', 'settle', 'settled', 'settling', 'seven', 'several', 'severe', 'severely', 'shackles', 'shall', 'shame', 'share', 'shared', 'shareholders', 'shares', 'sharply', 'she', 'sheer', 'sheets', 'shift', 'shifted', 'shifting', 'ship', 'shipping', 'shock', 'shocked', 'shoot', 'shops', 'short', 'shortage', 'shorter', 'shortfall', 'shortfalls', 'shortly', 'shot', 'should', 'shoulder', 'shoulders', 'shouldn', 'shove', 'show', 'showed', 'shown', 'shows', 'shrinking', 'shrunk', 'side', 'sided', 'sideline', 'sides', 'sight', 'sign', 'signal', 'signals', 'signature', 'signed', 'significant', 'significantly', 'signing', 'signs', 'silence', 'similar', 'similarities', 'similarly', 'simple', 'simpler', 'simplification', 'simplify', 'simply', 'simultaneously', 'since', 'sincere', 'sincerely', 'single', 'singleness', 'sink', 'sit', 'site', 'sitting', 'situa', 'situation', 'six', 'size', 'sizeable', 'skeptical', 'sla', 'slanted', 'slas', 'sleep', 'slices', 'slide', 'slight', 'slightest', 'slightly', 'slip', 'slippage', 'slippages', 'slovak', 'slovakia', 'slovenia', 'slovenian', 'slovenians', 'slowed', 'slowing', 'slowly', 'smacks', 'small', 'smaller', 'smart', 'smartly', 'smartness', 'smile', 'smooth', 'smoothen', 'smoothening', 'smoothing', 'smp', 'smps', 'snapshot', 'snp', 'so', 'soak', 'social', 'socially', 'society', 'soften', 'softer', 'sole', 'solid', 'solidarity', 'solidify', 'solidly', 'solitary', 'solution', 'solutions', 'solve', 'solved', 'solvency', 'solvent', 'solvents', 'solving', 'some', 'somebody', 'somehow', 'someone', 'something', 'sometime', 'sometimes', 'somewhat', 'somewhere', 'son', 'soon', 'sooner', 'sorry', 'sort', 'sorts', 'sound', 'sounds', 'source', 'sourced', 'sources', 'sovereign', 'sovereignty', 'sp', 'space', 'spain', 'spanish', 'spanning', 'spare', 'speak', 'speaker', 'speakers', 'speaking', 'speaks', 'special', 'specially', 'specific', 'specifically', 'specification', 'specificity', 'specifics', 'specified', 'specify', 'spectacular', 'spectator', 'spectrum', 'speculate', 'speculation', 'speech', 'speed', 'speeding', 'speedy', 'spell', 'spelled', 'spend', 'spending', 'spent', 'spillover', 'spin', 'spirit', 'spirits', 'spite', 'split', 'spoil', 'spoke', 'spoken', 'spot', 'spread', 'spreadsheet', 'spring', 'spurt', 'square', 'squarely', 'squeeze', 'ssm', 'st', 'stability', 'stabilization', 'stabilize', 'stabilized', 'stable', 'staff', 'stage', 'stages', 'stake', 'stakes', 'stalemate', 'stance', 'stand', 'standard', 'standards', 'standby', 'standing', 'standoff', 'standpoint', 'stands', 'star', 'start', 'started', 'starting', 'starts', 'state', 'stated', 'statement', 'statements', 'states', 'statistical', 'statistics', 'stats', 'status', 'statutes', 'staunchest', 'stay', 'stead', 'steadily', 'steep', 'steer', 'step', 'stepped', 'steps', 'stetton', 'stick', 'sticking', 'still', 'stock', 'stone', 'stop', 'stopped', 'stopping', 'stops', 'stores', 'stories', 'story', 'straight', 'straightforward', 'strain', 'strained', 'strand', 'strange', 'strata', 'strategic', 'strategy', 'streams', 'streets', 'strength', 'strengthen', 'strengthened', 'strengthens', 'strengths', 'stress', 'stressed', 'stressing', 'stretch', 'stretched', 'strict', 'strictly', 'stride', 'strides', 'strike', 'strikes', 'striking', 'stringent', 'strive', 'striving', 'strong', 'stronger', 'strongly', 'struck', 'structural', 'structure', 'structured', 'struggle', 'struggling', 'stuck', 'students', 'studied', 'studies', 'study', 'stuff', 'stupid', 'style', 'sub', 'subject', 'subjects', 'submit', 'submitted', 'submitting', 'suboptimal', 'subscribe', 'subscribed', 'subsequent', 'subsidiaries', 'subsidies', 'subsidize', 'subsidizing', 'substance', 'substantial', 'substantially', 'substitute', 'substituted', 'substitution', 'subtract', 'succeeded', 'succesful', 'success', 'successful', 'successfully', 'succinct', 'succinctly', 'such', 'sudden', 'suddenly', 'suffered', 'suffering', 'suffice', 'sufficient', 'sufficiently', 'suffocate', 'suggest', 'suggested', 'suggesting', 'suggestion', 'suggestions', 'suggests', 'suitable', 'suite', 'suits', 'sum', 'summarise', 'summarize', 'summarized', 'summarizing', 'summary', 'summer', 'summing', 'summit', 'summits', 'sunday', 'sup', 'supervi', 'supervisory', 'supplementary', 'supplemented', 'suppliers', 'support', 'supported', 'supporter', 'supporting', 'supports', 'suppose', 'supposed', 'supposedly', 'supposing', 'surcharge', 'sure', 'surely', 'surly', 'surplus', 'surpluses', 'surprise', 'surprised', 'surprising', 'surreal', 'surveillance', 'survey', 'surveyors', 'survive', 'suspect', 'suspend', 'suspended', 'suspension', 'suspicion', 'sustainability', 'sustainable', 'sustainably', 'sustained', 'sven', 'swap', 'sway', 'swift', 'swiftly', 'symbols', 'sympathize', 'sympathy', 'syndromes', 'system', 'systems', 'ta', 'table', 'tabled', 'tables', 'tackle', 'tackled', 'take', 'taken', 'takes', 'taking', 'tale', 'talk', 'talked', 'talking', 'talks', 'tall', 'tangible', 'tanked', 'tanking', 'tantamount', 'tape', 'taped', 'target', 'targeted', 'targeting', 'targets', 'task', 'tax', 'taxation', 'taxes', 'taxing', 'taxpayer', 'taxpayers', 'team', 'teams', 'technical', 'technicalities', 'technically', 'technicians', 'technocrats', 'tedious', 'tee', 'teleconference', 'telephone', 'television', 'tell', 'telling', 'tells', 'template', 'temporarily', 'temptation', 'tempting', 'ten', 'tend', 'tendency', 'tenders', 'tends', 'tentatively', 'tenth', 'tenuous', 'term', 'terms', 'terrible', 'terribly', 'territory', 'terrorizing', 'test', 'tested', 'testify', 'testing', 'text', 'th', 'tha', 'than', 'thank', 'thanking', 'thanks', 'that', 'the', 'theatre', 'theatrical', 'their', 'theirs', 'them', 'thematic', 'themes', 'themselves', 'then', 'theocarakis', 'theoretical', 'theoretically', 'there', 'thereafter', 'thereby', 'therefore', 'these', 'theses', 'they', 'thick', 'thing', 'things', 'think', 'thinking', 'thinks', 'third', 'thirdly', 'thirteenth', 'this', 'thomas', 'thompson', 'thorough', 'thoroughly', 'those', 'though', 'thought', 'thoughts', 'thousands', 'threat', 'threaten', 'threatened', 'three', 'threshold', 'throngs', 'through', 'throughout', 'throw', 'thursday', 'thus', 'ticking', 'tied', 'ties', 'tight', 'tightened', 'til', 'till', 'time', 'timeline', 'timelines', 'timely', 'times', 'timetable', 'timing', 'tiny', 'tire', 'tiring', 'title', 'to', 'today', 'together', 'told', 'tomas', 'tomorrow', 'tomorrows', 'tone', 'tonight', 'tony', 'too', 'took', 'toolkit', 'tooma', 'top', 'topic', 'topics', 'torture', 'total', 'totally', 'touch', 'touched', 'touches', 'touching', 'tough', 'tourism', 'tourist', 'toward', 'towards', 'toxic', 'track', 'tracking', 'trade', 'trades', 'trading', 'tradition', 'traditionally', 'tragedy', 'trajectories', 'trajectory', 'tranche', 'tranquility', 'transaction', 'transactions', 'transcribed', 'transfer', 'transferred', 'transfers', 'transform', 'transformant', 'transition', 'translate', 'translated', 'translator', 'transmission', 'transmitted', 'transparency', 'transparent', 'transportation', 'transpose', 'trap', 'trapped', 'travel', 'treated', 'treaties', 'treatment', 'treaty', 'tremendous', 'trend', 'trends', 'trial', 'tried', 'trigger', 'triple', 'troika', 'tropa', 'trouble', 'troubles', 'troublesome', 'troubling', 'true', 'truly', 'trust', 'trusted', 'try', 'trying', 'tsipras', 'tuesday', 'tune', 'tunic', 'turbulence', 'turkey', 'turmoil', 'turn', 'turned', 'turning', 'turns', 'tusk', 'twenty', 'twice', 'twisting', 'twitter', 'two', 'type', 'types', 'tzipras', 'uc', 'uh', 'ultimate', 'ultimately', 'ultimatum', 'um', 'un', 'unable', 'unacceptable', 'unanimous', 'unanimously', 'unanswered', 'unanticipated', 'unaware', 'unbearable', 'unbelievable', 'uncertainty', 'unchanged', 'uncharted', 'unclear', 'undeclared', 'under', 'underestimated', 'underlies', 'underline', 'underlined', 'underlying', 'undermine', 'undermining', 'underpin', 'underpinned', 'underpinning', 'underpins', 'understand', 'understanding', 'understandings', 'understands', 'understatement', 'understood', 'undertake', 'undertaken', 'underway', 'undest', 'undogm', 'undogmatic', 'undoing', 'unemployed', 'unemployment', 'unending', 'unequivocal', 'unequivocally', 'unfathomable', 'unfinished', 'unfocused', 'unfold', 'unfolded', 'unfolding', 'unforeseen', 'unfortunate', 'unfortunately', 'unfriendly', 'unfulfilling', 'unfunded', 'unhappy', 'unheard', 'uni', 'unification', 'unified', 'unifying', 'unilateral', 'uninsured', 'unintended', 'union', 'united', 'universe', 'universities', 'unknown', 'unl', 'unleash', 'unleashed', 'unless', 'unlike', 'unlikely', 'unlock', 'unlocking', 'unnecessary', 'unpleasant', 'unpleasantness', 'unprecedented', 'unpredictable', 'unravel', 'unravelling', 'unravels', 'unrealistic', 'unreconstructed', 'unregulated', 'unresolved', 'unrestricted', 'unspecific', 'unsustainable', 'unsustainably', 'untaxed', 'until', 'untimely', 'unto', 'untoward', 'unusual', 'unutilized', 'unwelcome', 'unwilling', 'unwind', 'unwise', 'up', 'update', 'updated', 'updates', 'upheld', 'upon', 'upper', 'ups', 'upset', 'urge', 'urgency', 'urgent', 'urgently', 'urges', 'us', 'use', 'used', 'useful', 'uses', 'using', 'usual', 'usually', 'utilities', 'utilized', 'utmost', 'utter', 'utterly', 'vague', 'vain', 'valdis', 'valid', 'validity', 'value', 'values', 'variety', 'various', 'variously', 'varoufakis', 'vast', 'vastly', 'vat', 've', 'vehicles', 'velocity', 'venue', 'verb', 'verdict', 'verge', 'versa', 'version', 'versions', 'very', 'vessels', 'vested', 'via', 'viability', 'viable', 'vice', 'vicious', 'victory', 'video', 'view', 'viewpoint', 'views', 'violated', 'violates', 'violation', 'violent', 'viral', 'virtual', 'virtually', 'virtue', 'vis', 'visible', 'visit', 'visits', 'vital', 'vividly', 'vivo', 'vlt', 'voice', 'voiced', 'volatile', 'volatility', 'vote', 'voter', 'voters', 'voting', 'vouch', 'vouched', 'voyage', 'vu', 'vulnerable', 'wafting', 'wage', 'wages', 'wait', 'waiting', 'waiver', 'walk', 'walling', 'walls', 'wanna', 'want', 'wanted', 'wanting', 'wants', 'warmly', 'warn', 'warning', 'warnings', 'was', 'washington', 'wasn', 'waste', 'wasted', 'wasteful', 'wasting', 'watered', 'watering', 'wave', 'waver', 'way', 'ways', 'we', 'weak', 'weaken', 'weakened', 'weakening', 'weaker', 'weakest', 'weary', 'web', 'website', 'wednesday', 'week', 'weekend', 'weekends', 'weeks', 'weigh', 'weight', 'weighty', 'weiser', 'weizer', 'welcome', 'welcoming', 'welfare', 'well', 'went', 'were', 'what', 'whatever', 'whatsoever', 'wheel', 'when', 'whenever', 'where', 'whereas', 'whereby', 'whether', 'which', 'while', 'white', 'who', 'whoever', 'whole', 'wholehearted', 'wholesale', 'wholly', 'whom', 'whose', 'why', 'wide', 'widely', 'widen', 'wider', 'wieser', 'will', 'willing', 'willingness', 'win', 'wind', 'windfall', 'windfalls', 'window', 'windows', 'wing', 'wins', 'wires', 'wise', 'wiser', 'wish', 'wishing', 'with', 'withdrawal', 'withdrawing', 'within', 'without', 'witnessed', 'witnessing', 'woke', 'wolfgang', 'wolgang', 'wolgfang', 'won', 'wonder', 'wonderful', 'wondering', 'woods', 'word', 'wording', 'words', 'work', 'worked', 'worker', 'workers', 'working', 'workings', 'works', 'world', 'worldwide', 'worried', 'worries', 'worrisome', 'worry', 'worrying', 'worse', 'worsen', 'worsened', 'worst', 'worth', 'would', 'wouldn', 'wrap', 'wrinkle', 'write', 'written', 'wrong', 'wrote', 'yanis', 'yarun', 'ye', 'yeah', 'year', 'years', 'yes', 'yesterday', 'yet', 'yield', 'yielding', 'yields', 'you', 'young', 'younger', 'youngish', 'your', 'yours', 'zero', 'zone', 'από', 'καλό', 'καλύτερο', 'πολύ', 'ποτέ', 'υes']\n"
     ]
    }
   ],
   "source": [
    "print(vectorizer.get_feature_names())"
   ]
  },
  {
   "cell_type": "code",
   "execution_count": 17,
   "id": "useful-citizen",
   "metadata": {},
   "outputs": [],
   "source": [
    "df['wordcount'] = X.toarray().sum(axis=1)"
   ]
  },
  {
   "cell_type": "code",
   "execution_count": 18,
   "id": "choice-manhattan",
   "metadata": {},
   "outputs": [],
   "source": [
    "wc_by_speaker = df.groupby('speaker')['wordcount'].sum()"
   ]
  },
  {
   "cell_type": "code",
   "execution_count": 19,
   "id": "moderate-maldives",
   "metadata": {},
   "outputs": [
    {
     "data": {
      "text/plain": [
       "count       66.000000\n",
       "mean      1582.818182\n",
       "std       3768.963179\n",
       "min          3.000000\n",
       "25%        170.000000\n",
       "50%        455.000000\n",
       "75%       1206.000000\n",
       "max      24241.000000\n",
       "Name: wordcount, dtype: float64"
      ]
     },
     "execution_count": 19,
     "metadata": {},
     "output_type": "execute_result"
    }
   ],
   "source": [
    "wc_by_speaker.describe()"
   ]
  },
  {
   "cell_type": "code",
   "execution_count": 20,
   "id": "southeast-atmosphere",
   "metadata": {},
   "outputs": [
    {
     "data": {
      "image/png": "[encoded data removed]",
      "text/plain": [
       "<Figure size 432x288 with 1 Axes>"
      ]
     },
     "metadata": {
      "needs_background": "light"
     },
     "output_type": "display_data"
    }
   ],
   "source": [
    "ax = wc_by_speaker.sort_values(ascending=False).plot.bar()\n",
    "labels = ax.set_xticklabels([])"
   ]
  },
  {
   "cell_type": "code",
   "execution_count": 21,
   "id": "underlying-campaign",
   "metadata": {
    "scrolled": true
   },
   "outputs": [
    {
     "data": {
      "text/plain": [
       "<AxesSubplot:xlabel='speaker'>"
      ]
     },
     "execution_count": 21,
     "metadata": {},
     "output_type": "execute_result"
    },
    {
     "data": {
      "image/png": "[encoded data removed]",
      "text/plain": [
       "<Figure size 432x288 with 1 Axes>"
      ]
     },
     "metadata": {
      "needs_background": "light"
     },
     "output_type": "display_data"
    }
   ],
   "source": [
    "wc_by_speaker[wc_by_speaker > 1000].sort_values(ascending=False).plot.bar()"
   ]
  },
  {
   "cell_type": "markdown",
   "id": "political-casting",
   "metadata": {},
   "source": [
    "### word count by entity"
   ]
  },
  {
   "cell_type": "code",
   "execution_count": 25,
   "id": "inappropriate-spiritual",
   "metadata": {},
   "outputs": [],
   "source": [
    "df['entity'] = df.speaker.apply(lambda s: speaker_to_entity[s] if s in speaker_to_entity.keys() else 'unkown')"
   ]
  },
  {
   "cell_type": "code",
   "execution_count": 26,
   "id": "bridal-individual",
   "metadata": {},
   "outputs": [],
   "source": [
    "wc_by_entity = df.groupby('entity')['wordcount'].sum()"
   ]
  },
  {
   "cell_type": "code",
   "execution_count": 27,
   "id": "atlantic-marks",
   "metadata": {},
   "outputs": [
    {
     "data": {
      "text/plain": [
       "entity\n",
       "austria                  597\n",
       "belgium                  448\n",
       "cyprus                   603\n",
       "ecb                     6082\n",
       "efc                     6572\n",
       "esm                      610\n",
       "eurogroup president    18502\n",
       "european commission     6827\n",
       "finland                 2351\n",
       "france                   347\n",
       "germany                 3784\n",
       "greece                 26607\n",
       "imf                     5990\n",
       "ireland                 2352\n",
       "italy                   1218\n",
       "lithuania               1783\n",
       "malta                   1170\n",
       "portugal                 690\n",
       "slovakia                 436\n",
       "slovenia                 161\n",
       "spain                   3189\n",
       "unkown                 14161\n",
       "Name: wordcount, dtype: int64"
      ]
     },
     "execution_count": 27,
     "metadata": {},
     "output_type": "execute_result"
    }
   ],
   "source": [
    "wc_by_entity"
   ]
  },
  {
   "cell_type": "code",
   "execution_count": 28,
   "id": "reserved-import",
   "metadata": {},
   "outputs": [
    {
     "data": {
      "text/plain": [
       "<AxesSubplot:xlabel='entity'>"
      ]
     },
     "execution_count": 28,
     "metadata": {},
     "output_type": "execute_result"
    },
    {
     "data": {
      "image/png": "[encoded data removed]",
      "text/plain": [
       "<Figure size 432x288 with 1 Axes>"
      ]
     },
     "metadata": {
      "needs_background": "light"
     },
     "output_type": "display_data"
    }
   ],
   "source": [
    "wc_by_entity[wc_by_entity > 1000].sort_values(ascending=False).plot.bar()"
   ]
  },
  {
   "cell_type": "markdown",
   "id": "painted-advisory",
   "metadata": {},
   "source": [
    "#### group institutions together"
   ]
  },
  {
   "cell_type": "code",
   "execution_count": 29,
   "id": "hairy-calcium",
   "metadata": {},
   "outputs": [],
   "source": [
    "wcent = pd.DataFrame({\n",
    "    'total': wc_by_entity,\n",
    "    'countries': wc_by_entity,\n",
    "    'european commission': np.zeros(wc_by_entity.size, dtype=int),\n",
    "    'efc': np.zeros(wc_by_entity.size, dtype=int),\n",
    "    'ecb': np.zeros(wc_by_entity.size, dtype=int),\n",
    "    'imf': np.zeros(wc_by_entity.size, dtype=int)\n",
    "})\n",
    "\n",
    "wcent.loc['institutions'] = np.array([\n",
    "    0,\n",
    "    0,\n",
    "    wc_by_entity.loc['european commission'],\n",
    "    wc_by_entity.loc['efc'],\n",
    "    wc_by_entity.loc['ecb'],\n",
    "    wc_by_entity.loc['imf']\n",
    "])\n",
    "\n",
    "wcent['countries'][(wcent.index.to_numpy() == 'efc') | (wcent.index.to_numpy() == 'ecb') | (wcent.index.to_numpy() == 'imf') | (wcent.index.to_numpy() == 'european commission')] = 0"
   ]
  },
  {
   "cell_type": "code",
   "execution_count": 30,
   "id": "wired-wheel",
   "metadata": {},
   "outputs": [
    {
     "data": {
      "text/plain": [
       "<AxesSubplot:xlabel='entity'>"
      ]
     },
     "execution_count": 30,
     "metadata": {},
     "output_type": "execute_result"
    },
    {
     "data": {
      "image/png": "[encoded data removed]",
      "text/plain": [
       "<Figure size 720x504 with 1 Axes>"
      ]
     },
     "metadata": {
      "needs_background": "light"
     },
     "output_type": "display_data"
    }
   ],
   "source": [
    "wcent.sort_values(by='total', ascending=False).drop(columns=['total'], index=['european commission', 'efc', 'ecb', 'imf']).plot.bar(stacked=True, figsize=(10,7))"
   ]
  },
  {
   "cell_type": "markdown",
   "id": "advisory-animation",
   "metadata": {},
   "source": [
    "## auxiliary data\n",
    "\n",
    "- map speaker to entity (finance minister of country, ECB, IMF) DONE\n",
    "- map date to total duration of call, to be able to get speech duration for last speech entry for a date"
   ]
  },
  {
   "cell_type": "code",
   "execution_count": 82,
   "id": "measured-climate",
   "metadata": {},
   "outputs": [],
   "source": [
    "speaker_to_entity = {\n",
    "    'jeroen dijsselbloem': 'eurogroup president', # the netherlands\n",
    "    'michael noonan': 'ireland',\n",
    "    'pierre moscovici': 'european commission',\n",
    "    'mario draghi': 'ecb',\n",
    "    'wolfgang schäuble': 'germany',\n",
    "    'christine lagarde': 'imf',\n",
    "    'yanis varoufakis': 'greece',\n",
    "    'luis de guindos': 'spain',\n",
    "    'maria luís albuquerque': 'portugal',\n",
    "    'marco buti': 'european commission',\n",
    "    'thomas wieser': 'efc', # economic and financial committee\n",
    "    'declan costello': 'european commission', #dg ecfin\n",
    "    'benoît cœuré': 'ecb',\n",
    "    'poul mathias thomsen': 'imf',\n",
    "    'greek representative': 'greece',\n",
    "    'nikos theocarakis': 'greece',\n",
    "    'hans jörg schelling': 'austria',\n",
    "    'klaus regling': 'esm', # head of european stability mechanism\n",
    "    'peter kažimír': 'slovakia',\n",
    "    'dušan mramor': 'slovenia',\n",
    "    'michel sapin': 'france',\n",
    "    'pier carlo padoan': 'italy',\n",
    "    'edward scicluna': 'malta',\n",
    "    'rimantas šadžius': 'lithuania',\n",
    "    'alexander stubb': 'finland',\n",
    "    'johan van overtveldt': 'belgium',\n",
    "    'harris georgiades': 'cyprus',\n",
    "    'luis pierre': 'european commission'\n",
    "}"
   ]
  },
  {
   "cell_type": "code",
   "execution_count": 153,
   "id": "accomplished-reproduction",
   "metadata": {},
   "outputs": [
    {
     "data": {
      "text/plain": [
       "array(['jeroen dijsselbloem', 'speaker 2', 'michael noonan', 'speaker 3',\n",
       "       'pierre moscovici', 'mario draghi', 'wolfgang schäuble',\n",
       "       'christine lagarde', 'yanis varoufakis', 'yanis [not varoufakis]',\n",
       "       'luis de guindos', 'maria luís albuquerque', 'marco buti',\n",
       "       'thomas wieser', 'declan costello', 'computer', 'speaker 5',\n",
       "       'benoît cœuré', 'poul mathias thomsen', 'greek representative',\n",
       "       'speaker 9', 'speaker 10', 'speaker 1', 'nikos theocarakis',\n",
       "       'irina', 'irana', 'nabil', 'speaker 4', 'tooma', 'tropa',\n",
       "       'speaker 6', 'ricci', 'speaker 7', 'speaker 8',\n",
       "       'hans jörg schelling', 'speaker 11', 'speaker 12', 'speaker 13',\n",
       "       'speaker 14', 'klaus regling', 'peter kažimír', 'martin',\n",
       "       'dušan mramor', 'michel sapin', 'pier carlo padoan', 'speaker 19',\n",
       "       'edward scicluna', 'rimantas šadžius', 'alexander stubb',\n",
       "       'inaudible', 'yanis varoufakis [privately]',\n",
       "       'johan van overtveldt', 'unidentified speaker', 'kian', 'male',\n",
       "       'group', 'speaker 16', 'speaker 20', 'speaker 17', 'speaker 18',\n",
       "       'speaker 21', 'harris georgiades', 'translator', nan,\n",
       "       'luis pierre', 'speaker', 'luis'], dtype=object)"
      ]
     },
     "execution_count": 153,
     "metadata": {},
     "output_type": "execute_result"
    }
   ],
   "source": [
    "df.speaker.unique()"
   ]
  },
  {
   "cell_type": "code",
   "execution_count": 166,
   "id": "green-begin",
   "metadata": {},
   "outputs": [
    {
     "name": "stdout",
     "output_type": "stream",
     "text": [
      "speaker 2\n",
      "speaker 3\n",
      "speaker 5\n",
      "speaker 9\n",
      "speaker 10\n",
      "speaker 1\n",
      "speaker 4\n",
      "speaker 6\n",
      "speaker 7\n",
      "speaker 8\n",
      "speaker 11\n",
      "speaker 12\n",
      "speaker 13\n",
      "speaker 14\n",
      "speaker 19\n",
      "unidentified speaker\n",
      "speaker 16\n",
      "speaker 20\n",
      "speaker 17\n",
      "speaker 18\n",
      "speaker 21\n",
      "speaker\n"
     ]
    }
   ],
   "source": [
    "for speaker in df.speaker.unique():\n",
    "    if not pd.isnull(speaker) and 'speaker' in speaker:\n",
    "        print(speaker)"
   ]
  },
  {
   "cell_type": "markdown",
   "id": "junior-recording",
   "metadata": {},
   "source": [
    "# scrape commnuniques"
   ]
  },
  {
   "cell_type": "code",
   "execution_count": 265,
   "id": "preliminary-behavior",
   "metadata": {},
   "outputs": [],
   "source": [
    "communiques = [\n",
    "    'https://www.consilium.europa.eu/en/press/press-releases/2015/02/12/dijsselbloem-remarks/',\n",
    "    'https://www.consilium.europa.eu/en/press/press-releases/2015/02/16/eurogroup-remarks/',\n",
    "    'https://www.consilium.europa.eu/en/press/press-releases/2015/02/20/eurogroup-statement-greece/',\n",
    "    'https://www.consilium.europa.eu/en/press/press-releases/2015/02/20/eurogroup-press-remarks/',\n",
    "    'https://www.consilium.europa.eu/en/press/press-releases/2015/02/24/eurogroup-statement-greece/',\n",
    "    'https://www.consilium.europa.eu/en/press/press-releases/2015/04/24/eurogroup-dijsselbloem-remarks/',\n",
    "    'https://www.consilium.europa.eu/en/press/press-releases/2015/05/11/eurogroup-statement-greece/',\n",
    "    'https://www.consilium.europa.eu/en/press/press-releases/2015/05/11/eurogroup-jd-remarks/',\n",
    "    'https://www.consilium.europa.eu/en/press/press-releases/2015/06/18/press-remarks-eurogroup-president/',\n",
    "    'https://www.consilium.europa.eu/en/press/press-releases/2015/06/22/eurogroup-press-remarks/',\n",
    "    'https://www.consilium.europa.eu/en/press/press-releases/2015/06/24/eurogroup-exit-doorstep/',\n",
    "    'https://www.consilium.europa.eu/en/press/press-releases/2015/06/25/eurogroup-exit-doorstep/',\n",
    "    'https://www.consilium.europa.eu/en/press/press-releases/2015/06/27/eurogroup-statement-greece/',\n",
    "    'https://www.consilium.europa.eu/en/press/press-releases/2015/06/27/eurogroup-intermediary-press-remarks/',\n",
    "    'https://www.consilium.europa.eu/en/press/press-releases/2015/06/27/ministerial-statement/',\n",
    "    'https://www.consilium.europa.eu/en/press/press-releases/2015/06/27/eurogroup-press-remarks-final/',\n",
    "    'https://www.consilium.europa.eu/en/press/press-releases/2015/07/01/remarks-eurogroup-jd/',\n",
    "    'https://www.consilium.europa.eu/en/press/press-releases/2015/07/05/statement-eurogroup-president-following-referendum-greece/'\n",
    "]"
   ]
  },
  {
   "cell_type": "code",
   "execution_count": 303,
   "id": "photographic-edwards",
   "metadata": {},
   "outputs": [
    {
     "data": {
      "text/plain": [
       "'2015-02-12'"
      ]
     },
     "execution_count": 303,
     "metadata": {},
     "output_type": "execute_result"
    }
   ],
   "source": [
    "for i, url in enumerate(communiques, start=1):\n",
    "    req = urllib.request.Request(url, headers={'User-Agent': 'Mozilla/5.0'})\n",
    "    page = str(urllib.request.urlopen(req).read())\n",
    "    date = re.compile('(\\d{4}\\/\\d{2}\\/\\d{2})').search(url).group().replace('/','-')\n",
    "    with open(f'data/communiques/html/{date}-{i}.html', 'w') as f:\n",
    "        f.write(page)\n"
   ]
  },
  {
   "cell_type": "code",
   "execution_count": 78,
   "id": "elder-vietnamese",
   "metadata": {
    "scrolled": true
   },
   "outputs": [
    {
     "data": {
      "text/html": [
       "<div>\n",
       "<style scoped>\n",
       "    .dataframe tbody tr th:only-of-type {\n",
       "        vertical-align: middle;\n",
       "    }\n",
       "\n",
       "    .dataframe tbody tr th {\n",
       "        vertical-align: top;\n",
       "    }\n",
       "\n",
       "    .dataframe thead th {\n",
       "        text-align: right;\n",
       "    }\n",
       "</style>\n",
       "<table border=\"1\" class=\"dataframe\">\n",
       "  <thead>\n",
       "    <tr style=\"text-align: right;\">\n",
       "      <th></th>\n",
       "      <th>date</th>\n",
       "      <th>title</th>\n",
       "      <th>story</th>\n",
       "    </tr>\n",
       "  </thead>\n",
       "  <tbody>\n",
       "    <tr>\n",
       "      <th>0</th>\n",
       "      <td>2015-02-20</td>\n",
       "      <td>Eurogroup statement on Greece</td>\n",
       "      <td>The Eurogroup reiterates its appreciation for ...</td>\n",
       "    </tr>\n",
       "    <tr>\n",
       "      <th>1</th>\n",
       "      <td>2015-06-27</td>\n",
       "      <td>Ministerial statement on 27 June 2015</td>\n",
       "      <td>Ministers from eighteen euro area Member State...</td>\n",
       "    </tr>\n",
       "    <tr>\n",
       "      <th>2</th>\n",
       "      <td>2015-02-16</td>\n",
       "      <td>Remarks by Jeroen Dijsselbloem at the press co...</td>\n",
       "      <td>Good evening everyone and thanks for joining t...</td>\n",
       "    </tr>\n",
       "    <tr>\n",
       "      <th>3</th>\n",
       "      <td>2015-02-20</td>\n",
       "      <td>Remarks by Jeroen Dijsselbloem at the press co...</td>\n",
       "      <td>Good evening and welcome to this press confere...</td>\n",
       "    </tr>\n",
       "    <tr>\n",
       "      <th>4</th>\n",
       "      <td>2015-06-22</td>\n",
       "      <td>Press remarks by Eurogroup President Jeroen Di...</td>\n",
       "      <td>Good afternoon everyone. This will be a very s...</td>\n",
       "    </tr>\n",
       "  </tbody>\n",
       "</table>\n",
       "</div>"
      ],
      "text/plain": [
       "        date                                              title  \\\n",
       "0 2015-02-20                      Eurogroup statement on Greece   \n",
       "1 2015-06-27              Ministerial statement on 27 June 2015   \n",
       "2 2015-02-16  Remarks by Jeroen Dijsselbloem at the press co...   \n",
       "3 2015-02-20  Remarks by Jeroen Dijsselbloem at the press co...   \n",
       "4 2015-06-22  Press remarks by Eurogroup President Jeroen Di...   \n",
       "\n",
       "                                               story  \n",
       "0  The Eurogroup reiterates its appreciation for ...  \n",
       "1  Ministers from eighteen euro area Member State...  \n",
       "2  Good evening everyone and thanks for joining t...  \n",
       "3  Good evening and welcome to this press confere...  \n",
       "4  Good afternoon everyone. This will be a very s...  "
      ]
     },
     "execution_count": 78,
     "metadata": {},
     "output_type": "execute_result"
    }
   ],
   "source": [
    "import os\n",
    "import re\n",
    "\n",
    "col_dates = []\n",
    "col_titles = []\n",
    "col_stories = []\n",
    "\n",
    "for filename in os.listdir('data/communiques/html'):\n",
    "    \n",
    "    date = pd.to_datetime('-'.join(filename.split('-')[:-1]), format='%Y-%m-%d')\n",
    "\n",
    "    with open(f'data/communiques/html/{filename}', 'r') as page:\n",
    "            \n",
    "        content = page.read()\n",
    "        soup = BeautifulSoup(content, 'html.parser')\n",
    "\n",
    "        title = soup.find(re.compile('^h1$')).text.replace('\\\\r\\\\n', '').strip()\n",
    "        \n",
    "        story = ''\n",
    "        \n",
    "        for p in soup.find(id='main-content').find_all('p')[:-3]:\n",
    "            story = p.text if not story else '\\n'.join((story, p.text))\n",
    "        \n",
    "        col_dates.append(date)\n",
    "        col_titles.append(title)\n",
    "        col_stories.append(story)\n",
    "            \n",
    "            \n",
    "df = pd.DataFrame({\n",
    "    'date': col_dates,\n",
    "    'title': col_titles,\n",
    "    'story': col_stories\n",
    "})\n",
    "\n",
    "df.to_csv(PROJECT_ROOT / 'data/communiques/prepared.csv', index=False)"
   ]
  },
  {
   "cell_type": "code",
   "execution_count": 80,
   "id": "automatic-baking",
   "metadata": {},
   "outputs": [
    {
     "data": {
      "text/html": [
       "<div>\n",
       "<style scoped>\n",
       "    .dataframe tbody tr th:only-of-type {\n",
       "        vertical-align: middle;\n",
       "    }\n",
       "\n",
       "    .dataframe tbody tr th {\n",
       "        vertical-align: top;\n",
       "    }\n",
       "\n",
       "    .dataframe thead th {\n",
       "        text-align: right;\n",
       "    }\n",
       "</style>\n",
       "<table border=\"1\" class=\"dataframe\">\n",
       "  <thead>\n",
       "    <tr style=\"text-align: right;\">\n",
       "      <th></th>\n",
       "      <th>date</th>\n",
       "      <th>title</th>\n",
       "      <th>story</th>\n",
       "    </tr>\n",
       "  </thead>\n",
       "  <tbody>\n",
       "    <tr>\n",
       "      <th>0</th>\n",
       "      <td>2015-02-20</td>\n",
       "      <td>Eurogroup statement on Greece</td>\n",
       "      <td>The Eurogroup reiterates its appreciation for ...</td>\n",
       "    </tr>\n",
       "    <tr>\n",
       "      <th>1</th>\n",
       "      <td>2015-06-27</td>\n",
       "      <td>Ministerial statement on 27 June 2015</td>\n",
       "      <td>Ministers from eighteen euro area Member State...</td>\n",
       "    </tr>\n",
       "    <tr>\n",
       "      <th>2</th>\n",
       "      <td>2015-02-16</td>\n",
       "      <td>Remarks by Jeroen Dijsselbloem at the press co...</td>\n",
       "      <td>Good evening everyone and thanks for joining t...</td>\n",
       "    </tr>\n",
       "    <tr>\n",
       "      <th>3</th>\n",
       "      <td>2015-02-20</td>\n",
       "      <td>Remarks by Jeroen Dijsselbloem at the press co...</td>\n",
       "      <td>Good evening and welcome to this press confere...</td>\n",
       "    </tr>\n",
       "    <tr>\n",
       "      <th>4</th>\n",
       "      <td>2015-06-22</td>\n",
       "      <td>Press remarks by Eurogroup President Jeroen Di...</td>\n",
       "      <td>Good afternoon everyone. This will be a very s...</td>\n",
       "    </tr>\n",
       "  </tbody>\n",
       "</table>\n",
       "</div>"
      ],
      "text/plain": [
       "         date                                              title  \\\n",
       "0  2015-02-20                      Eurogroup statement on Greece   \n",
       "1  2015-06-27              Ministerial statement on 27 June 2015   \n",
       "2  2015-02-16  Remarks by Jeroen Dijsselbloem at the press co...   \n",
       "3  2015-02-20  Remarks by Jeroen Dijsselbloem at the press co...   \n",
       "4  2015-06-22  Press remarks by Eurogroup President Jeroen Di...   \n",
       "\n",
       "                                               story  \n",
       "0  The Eurogroup reiterates its appreciation for ...  \n",
       "1  Ministers from eighteen euro area Member State...  \n",
       "2  Good evening everyone and thanks for joining t...  \n",
       "3  Good evening and welcome to this press confere...  \n",
       "4  Good afternoon everyone. This will be a very s...  "
      ]
     },
     "execution_count": 80,
     "metadata": {},
     "output_type": "execute_result"
    }
   ],
   "source": [
    "pd.read_csv('data/communiques/prepared.csv').head()"
   ]
  },
  {
   "cell_type": "code",
   "execution_count": 70,
   "id": "separated-silence",
   "metadata": {},
   "outputs": [
    {
     "name": "stdout",
     "output_type": "stream",
     "text": [
      "\\r\\n    Remarks by Eurogroup President Jeroen Dijsselbloem following Eurogroup conference call of 1 July 2015\\r\\n\n",
      "None\n"
     ]
    }
   ],
   "source": [
    "import re\n",
    "\n",
    "with open(f'data/communiques/html/{filename}', 'r') as page:\n",
    "    content = page.read()\n",
    "    soup = BeautifulSoup(content, 'html.parser')\n",
    "\n",
    "    title_raw = soup.find(re.compile('^h1$')).text\n",
    "    \n",
    "    print(title_raw)\n",
    "    \n",
    "    pattern = re.compile('(?<=\\\\r\\\\n)(\\w*\\s?)*(?=\\\\r\\\\n)')\n",
    "    print(pattern.search(title_raw))\n",
    "    \n",
    "    #title = title_raw.replace('\\\\r\\\\n', '').strip()\n",
    "    \n",
    "    #print(title_raw)\n",
    "    #print(title)\n",
    "    #title = re.compile('[^\\\\r\\\\n]').search(title_raw).group().strip()\n",
    "    \n",
    "    #print(title)"
   ]
  },
  {
   "cell_type": "code",
   "execution_count": 60,
   "id": "thick-usage",
   "metadata": {},
   "outputs": [
    {
     "name": "stdout",
     "output_type": "stream",
     "text": [
      "\r\n",
      "    Remarks by Eurogroup President Jeroen Dijsselbloem following Eurogroup conference call of 1 July 2015\r\n",
      "\n"
     ]
    },
    {
     "data": {
      "text/plain": [
       "'    Remarks by Eurogroup President Jeroen Dijsselbloem following Eurogroup conference call of 1 July 2015'"
      ]
     },
     "execution_count": 60,
     "metadata": {},
     "output_type": "execute_result"
    }
   ],
   "source": [
    "s = \"\\r\\n    Remarks by Eurogroup President Jeroen Dijsselbloem following Eurogroup conference call of 1 July 2015\\r\\n\"\n",
    "print(s)\n",
    "pattern = re.compile('(?<=\\\\r\\\\n)(\\w*\\s?)*(?=\\\\r\\\\n)')\n",
    "pattern.search(s).group()"
   ]
  },
  {
   "cell_type": "code",
   "execution_count": 55,
   "id": "taken-minority",
   "metadata": {},
   "outputs": [
    {
     "name": "stdout",
     "output_type": "stream",
     "text": [
      "<class 'str'>\n",
      "<class 'str'>\n"
     ]
    }
   ],
   "source": [
    "print(type(s))\n",
    "print(type(title_raw))"
   ]
  },
  {
   "cell_type": "code",
   "execution_count": null,
   "id": "organized-creek",
   "metadata": {},
   "outputs": [],
   "source": []
  }
 ],
 "metadata": {
  "kernelspec": {
   "display_name": "Python 3",
   "language": "python",
   "name": "python3"
  },
  "language_info": {
   "codemirror_mode": {
    "name": "ipython",
    "version": 3
   },
   "file_extension": ".py",
   "mimetype": "text/x-python",
   "name": "python",
   "nbconvert_exporter": "python",
   "pygments_lexer": "ipython3",
   "version": "3.8.5"
  }
 },
 "nbformat": 4,
 "nbformat_minor": 5
}
