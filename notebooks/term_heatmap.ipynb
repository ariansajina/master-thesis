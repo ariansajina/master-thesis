{
 "cells": [
  {
   "cell_type": "markdown",
   "id": "cheap-cricket",
   "metadata": {},
   "source": [
    "# Heatmap\n",
    "Heatmap of terms over time for Euroleaks and Communiques."
   ]
  },
  {
   "cell_type": "code",
   "execution_count": 1,
   "id": "opening-gibraltar",
   "metadata": {},
   "outputs": [],
   "source": [
    "import re\n",
    "import time\n",
    "import json\n",
    "\n",
    "import numpy as np\n",
    "import pandas as pd\n",
    "import matplotlib.pyplot as plt\n",
    "\n",
    "from sklearn.feature_extraction.text import TfidfVectorizer\n",
    "import spacy"
   ]
  },
  {
   "cell_type": "markdown",
   "id": "medium-middle",
   "metadata": {},
   "source": [
    "## stopwords and collocations"
   ]
  },
  {
   "cell_type": "code",
   "execution_count": 2,
   "id": "e99beae5-e250-4bc1-ae73-524ca0960b91",
   "metadata": {},
   "outputs": [],
   "source": [
    "# stopwords\n",
    "with open('../data/euroleaks/stopwords.json', 'r') as f:\n",
    "    stopwords = json.load(f)\n",
    "    \n",
    "# collocations\n",
    "def apply_trigram_colloc(s, set_colloc):\n",
    "    res = s.lower()\n",
    "    for b1,b2,b3 in set_colloc:\n",
    "        res = res.replace(f'{b1} {b2} {b3}', f'{b1}_{b2}_{b3}')\n",
    "    return res\n",
    "\n",
    "def apply_bigram_colloc(s, set_colloc):\n",
    "    res = s.lower()\n",
    "    for b1,b2 in set_colloc:\n",
    "        res = res.replace(f'{b1} {b2}', f'{b1}_{b2}')\n",
    "    return res\n",
    "\n",
    "with open('../data/collocations/trigrams.json', 'r') as f:\n",
    "    trigram_colloc = json.load(f)\n",
    "\n",
    "with open('../data/collocations/bigrams.json', 'r') as f:\n",
    "    bigram_colloc = json.load(f)"
   ]
  },
  {
   "cell_type": "code",
   "execution_count": 3,
   "id": "31251e22-7384-499f-a57d-02e27a957e16",
   "metadata": {},
   "outputs": [
    {
     "data": {
      "text/plain": [
       "dict_keys(['names', 'disfluency', 'courtesy'])"
      ]
     },
     "execution_count": 3,
     "metadata": {},
     "output_type": "execute_result"
    }
   ],
   "source": [
    "stopwords.keys()"
   ]
  },
  {
   "cell_type": "code",
   "execution_count": 4,
   "id": "3ac12965-0d74-4071-8c66-e3e9f7085fb5",
   "metadata": {},
   "outputs": [],
   "source": [
    "nlp = spacy.load(\"en_core_web_sm\", exclude=[\"ner\"])"
   ]
  },
  {
   "cell_type": "markdown",
   "id": "killing-motivation",
   "metadata": {},
   "source": [
    "## helper functions"
   ]
  },
  {
   "cell_type": "code",
   "execution_count": 5,
   "id": "unexpected-craps",
   "metadata": {},
   "outputs": [],
   "source": [
    "def filter_token(token):\n",
    "    return token.pos_ in {'ADJ', 'ADV', 'NOUN', 'PROPN', 'VERB'}\\\n",
    "        and not token.is_stop\\\n",
    "        and not token.lower_ in stopwords['names']\\\n",
    "        and not token.lower_ in stopwords['disfluency']\\\n",
    "        and not token.lemma_.lower() in stopwords['courtesy']\\\n",
    "        and len(token.lemma_) > 1"
   ]
  },
  {
   "cell_type": "code",
   "execution_count": 6,
   "id": "4c48de75-1ba5-40d7-9fa4-994f4e57a3ac",
   "metadata": {},
   "outputs": [],
   "source": [
    "def find_most_prominent_k_words(k, X, vectorizer):\n",
    "    \n",
    "    print(f'matrix shape: {X.shape}\\n')\n",
    "    \n",
    "    tfidf = X.sum(axis =0).A1\n",
    "    sort_ix = np.argsort(tfidf)[::-1]\n",
    "    most_prominent_words = np.array(vectorizer.get_feature_names())[sort_ix][:k]\n",
    "    \n",
    "    max_length = pd.Series(most_prominent_words).apply(lambda s: len(s)).max()\n",
    "    \n",
    "    for word, score in zip(most_prominent_words, tfidf[sort_ix][:k]):\n",
    "        print(f'{word}{\" \"*(max_length-len(word))}\\t|\\t{round(score,3)}')\n",
    "        \n",
    "    return most_prominent_words\n",
    "\n",
    "def find_most_prominent_words_cutoff(cut_off, X, vectorizer, verbose=False):\n",
    "    \n",
    "    print(f'matrix shape: {X.shape}\\n')\n",
    "    \n",
    "    tfidf = X.sum(axis =0).A1\n",
    "    sort_ix = np.argsort(tfidf)[::-1]\n",
    "    mask = tfidf[sort_ix] > cut_off\n",
    "    most_prominent_words = np.array(vectorizer.get_feature_names())[sort_ix][mask]\n",
    "    \n",
    "    print(f'number of prominent words: {len(most_prominent_words)}\\n')\n",
    "    print(f'ratio of prominent words (relative to vocabulary size): {round(float(len(most_prominent_words)) / len(vectorizer.get_feature_names()) * 100,2)} %\\n')\n",
    "    \n",
    "    if verbose:\n",
    "        max_length = pd.Series(most_prominent_words).apply(lambda s: len(s)).max()\n",
    "        for word, score in zip(most_prominent_words, tfidf[sort_ix][mask]):\n",
    "            print(f'{word}{\" \"*(max_length-len(word))}\\t|\\t{round(score,3)}')\n",
    "        \n",
    "    return most_prominent_words"
   ]
  },
  {
   "cell_type": "markdown",
   "id": "chemical-teach",
   "metadata": {},
   "source": [
    "## Communiques"
   ]
  },
  {
   "cell_type": "code",
   "execution_count": 7,
   "id": "exclusive-bolivia",
   "metadata": {},
   "outputs": [],
   "source": [
    "communiques = pd.read_csv('../data/communiques/cleaned.csv')\n",
    "\n",
    "# group by date\n",
    "communiques_groupby_date = communiques.drop(columns=['title']).groupby('date').apply(lambda s: ' '.join(s.story))\n",
    "\n",
    "# preprocess\n",
    "communique_documents = [\n",
    "    ' '.join([token.lemma_ .lower() for sentence in nlp(doc).sents for token in sentence\n",
    "            if filter_token(token)\n",
    "    ])\n",
    "    for doc in communiques_groupby_date.values\n",
    "]\n",
    "\n",
    "# leave out empty documents\n",
    "communique_documents = [d for d in communique_documents if len(d)>1]\n",
    "\n",
    "# apply collocations\n",
    "communique_documents = [\n",
    "    apply_bigram_colloc(apply_trigram_colloc(doc, trigram_colloc), bigram_colloc)\n",
    "    for doc in communique_documents]\n",
    "\n",
    "# get labels\n",
    "communique_dates = communiques_groupby_date.index.to_series().apply(lambda s: pd.to_datetime(s).strftime('%d/%m'))\n",
    "\n",
    "# tfidf\n",
    "communique_vectorizer = TfidfVectorizer(analyzer='word',\n",
    "                                   min_df=1, # word has to be in at least two documents\n",
    "                                   max_df=0.95, # word has to be in less the 95% of documents\n",
    "                                   smooth_idf=True, # Smooth idf weights by adding one to document frequencies, as if an extra document was seen containing every term in the collection exactly once. Prevents zero divisions.\n",
    "                                   sublinear_tf=False) # replace tf with 1 + log(tf).\n",
    "\n",
    "communique_X = communique_vectorizer.fit_transform(communique_documents)"
   ]
  },
  {
   "cell_type": "code",
   "execution_count": 8,
   "id": "afc7506a-c5a7-4d58-a055-113aa1deabb8",
   "metadata": {},
   "outputs": [
    {
     "data": {
      "text/plain": [
       "<matplotlib.collections.PathCollection at 0x7fd6364d7c10>"
      ]
     },
     "execution_count": 8,
     "metadata": {},
     "output_type": "execute_result"
    },
    {
     "data": {
      "image/png": "[encoded data removed]",
      "text/plain": [
       "<Figure size 432x288 with 1 Axes>"
      ]
     },
     "metadata": {
      "needs_background": "light"
     },
     "output_type": "display_data"
    }
   ],
   "source": [
    "communique_tfidf = communique_X.sum(axis =0).A1\n",
    "\n",
    "plt.scatter(range(len(communique_tfidf)), np.sort(communique_tfidf)[::-1], marker='+')"
   ]
  },
  {
   "cell_type": "code",
   "execution_count": 9,
   "id": "861e8303-aeca-4e57-95e3-1db9c15e2424",
   "metadata": {},
   "outputs": [
    {
     "name": "stdout",
     "output_type": "stream",
     "text": [
      "matrix shape: (13, 898)\n",
      "\n",
      "number of prominent words: 170\n",
      "\n",
      "ratio of prominent words (relative to vocabulary size): 18.93 %\n",
      "\n"
     ]
    }
   ],
   "source": [
    "communique_cutoff = 0.2\n",
    "\n",
    "communique_most_prominent_words = find_most_prominent_words_cutoff(communique_cutoff, communique_X, communique_vectorizer)"
   ]
  },
  {
   "cell_type": "code",
   "execution_count": 67,
   "id": "1e833330-1c06-4c14-b4ec-9448118727f9",
   "metadata": {},
   "outputs": [
    {
     "name": "stdout",
     "output_type": "stream",
     "text": [
      "matrix shape: (13, 898)\n",
      "\n",
      "institution                 \t|\t1.602\n",
      "proposal                    \t|\t1.216\n",
      "greek_authority             \t|\t1.167\n",
      "program                     \t|\t1.04\n",
      "talk                        \t|\t0.931\n",
      "measure                     \t|\t0.912\n",
      "greece                      \t|\t0.895\n",
      "agreement                   \t|\t0.835\n",
      "work                        \t|\t0.826\n",
      "current                     \t|\t0.788\n",
      "inform                      \t|\t0.768\n",
      "greek                       \t|\t0.765\n",
      "situation                   \t|\t0.718\n",
      "agree                       \t|\t0.714\n",
      "reform                      \t|\t0.713\n",
      "discuss                     \t|\t0.662\n",
      "today                       \t|\t0.657\n",
      "state_play                  \t|\t0.634\n",
      "extension                   \t|\t0.629\n",
      "arrangement                 \t|\t0.629\n",
      "discussion                  \t|\t0.602\n",
      "meeting                     \t|\t0.599\n",
      "view                        \t|\t0.566\n",
      "start                       \t|\t0.564\n",
      "commitment                  \t|\t0.56\n",
      "euro_area                   \t|\t0.554\n",
      "referendum                  \t|\t0.553\n",
      "financial                   \t|\t0.552\n",
      "progress                    \t|\t0.549\n",
      "list                        \t|\t0.543\n",
      "give                        \t|\t0.537\n",
      "monday                      \t|\t0.537\n",
      "reconvene                   \t|\t0.528\n",
      "time                        \t|\t0.513\n",
      "framework                   \t|\t0.51\n",
      "outcome                     \t|\t0.504\n",
      "come                        \t|\t0.5\n",
      "order                       \t|\t0.497\n",
      "new                         \t|\t0.497\n",
      "fiscal                      \t|\t0.49\n",
      "take                        \t|\t0.488\n",
      "welcome                     \t|\t0.458\n",
      "remain                      \t|\t0.455\n",
      "good                        \t|\t0.45\n",
      "greek_government            \t|\t0.449\n",
      "prepare                     \t|\t0.449\n",
      "need                        \t|\t0.446\n",
      "request                     \t|\t0.442\n",
      "place                       \t|\t0.436\n",
      "economic                    \t|\t0.435\n",
      "continue                    \t|\t0.435\n",
      "flexibility                 \t|\t0.43\n",
      "ground                      \t|\t0.421\n",
      "issue                       \t|\t0.42\n",
      "negotiation                 \t|\t0.42\n",
      "decision                    \t|\t0.409\n",
      "successful_conclusion_review\t|\t0.405\n",
      "council                     \t|\t0.4\n",
      "recovery                    \t|\t0.399\n",
      "allow                       \t|\t0.397\n",
      "european                    \t|\t0.394\n",
      "week                        \t|\t0.39\n",
      "look                        \t|\t0.389\n",
      "pm                          \t|\t0.388\n",
      "reach                       \t|\t0.385\n",
      "important                   \t|\t0.385\n",
      "economy                     \t|\t0.382\n",
      "process                     \t|\t0.381\n",
      "stock                       \t|\t0.381\n",
      "government                  \t|\t0.376\n",
      "basis                       \t|\t0.375\n",
      "june                        \t|\t0.37\n",
      "ireland                     \t|\t0.369\n",
      "future                      \t|\t0.369\n",
      "regular                     \t|\t0.368\n",
      "thursday                    \t|\t0.367\n",
      "far                         \t|\t0.367\n",
      "possible                    \t|\t0.365\n",
      "month                       \t|\t0.364\n",
      "conclusion                  \t|\t0.361\n",
      "efsf                        \t|\t0.359\n",
      "statement                   \t|\t0.358\n",
      "base                        \t|\t0.351\n",
      "number                      \t|\t0.339\n",
      "review                      \t|\t0.338\n",
      "comprehensive               \t|\t0.337\n",
      "end                         \t|\t0.334\n",
      "go                          \t|\t0.326\n",
      "open                        \t|\t0.326\n",
      "final                       \t|\t0.324\n",
      "political                   \t|\t0.323\n",
      "portugal                    \t|\t0.322\n",
      "later                       \t|\t0.32\n",
      "assessment                  \t|\t0.319\n",
      "step                        \t|\t0.315\n",
      "note                        \t|\t0.315\n",
      "late                        \t|\t0.314\n",
      "stand                       \t|\t0.309\n",
      "cyprus                      \t|\t0.308\n",
      "probably                    \t|\t0.298\n"
     ]
    }
   ],
   "source": [
    "_ = find_most_prominent_k_words(100, communique_X, communique_vectorizer)"
   ]
  },
  {
   "cell_type": "code",
   "execution_count": 11,
   "id": "1c2ccfeb-ab6b-4705-b24d-9658dab8c0f5",
   "metadata": {},
   "outputs": [
    {
     "name": "stdout",
     "output_type": "stream",
     "text": [
      "Terms that are present in more than 12 documents are disregarded.\n"
     ]
    }
   ],
   "source": [
    "print(f'Terms that are present in more than {int(len(communique_documents) * 0.95)} documents are disregarded.')"
   ]
  },
  {
   "cell_type": "code",
   "execution_count": 12,
   "id": "efcaa2c2-82c1-4671-aba9-91c572f342c3",
   "metadata": {},
   "outputs": [
    {
     "name": "stdout",
     "output_type": "stream",
     "text": [
      "Communiques vocabulary size: 898\n",
      "Number of documents: 13\n"
     ]
    }
   ],
   "source": [
    "print(f'Communiques vocabulary size: {len(communique_vectorizer.get_feature_names())}')\n",
    "print(f'Number of documents: {len(communique_documents)}')"
   ]
  },
  {
   "cell_type": "markdown",
   "id": "pacific-soundtrack",
   "metadata": {},
   "source": [
    "## Euroleaks"
   ]
  },
  {
   "cell_type": "code",
   "execution_count": 13,
   "id": "verbal-china",
   "metadata": {},
   "outputs": [],
   "source": [
    "leaks = pd.read_csv('../data/euroleaks/squeezed.csv')\n",
    "\n",
    "# group by date\n",
    "leaks_groupby_date = leaks.drop(columns=['speaker']).groupby('date').apply(lambda s: ' '.join(s.speech))\n",
    "\n",
    "# preprocess\n",
    "leaks_documents = [\n",
    "    ' '.join([token.lemma_.lower() for sentence in nlp(doc).sents for token in sentence\n",
    "            if filter_token(token)\n",
    "    ])\n",
    "    for doc in leaks_groupby_date.values \n",
    "]\n",
    "\n",
    "# leave out empty documents\n",
    "leaks_documents = [d for d in leaks_documents if len(d)>1]\n",
    "\n",
    "# apply collocations\n",
    "leaks_documents = [\n",
    "    apply_bigram_colloc(apply_trigram_colloc(doc, trigram_colloc), bigram_colloc)\n",
    "    for doc in leaks_documents]\n",
    "\n",
    "# get labels\n",
    "leaks_dates = leaks_groupby_date.index.to_series().apply(lambda s: pd.to_datetime(s).strftime('%d/%m'))\n",
    "\n",
    "# tfidf\n",
    "leaks_vectorizer = TfidfVectorizer(analyzer='word',\n",
    "                                   min_df=1, # word has to be in at least two documents\n",
    "                                   max_df=0.95, # word has to be in less the 95% of documents\n",
    "                                   smooth_idf=True, # Smooth idf weights by adding one to document frequencies, as if an extra document was seen containing every term in the collection exactly once. Prevents zero divisions.\n",
    "                                   sublinear_tf=False) # replace tf with 1 + log(tf).\n",
    "\n",
    "leaks_X = leaks_vectorizer.fit_transform(leaks_documents)"
   ]
  },
  {
   "cell_type": "code",
   "execution_count": 14,
   "id": "510ea804-1446-461b-a412-c318c015611b",
   "metadata": {},
   "outputs": [
    {
     "data": {
      "text/plain": [
       "<matplotlib.collections.PathCollection at 0x7fd6367a76d0>"
      ]
     },
     "execution_count": 14,
     "metadata": {},
     "output_type": "execute_result"
    },
    {
     "data": {
      "image/png": "[encoded data removed]",
      "text/plain": [
       "<Figure size 432x288 with 1 Axes>"
      ]
     },
     "metadata": {
      "needs_background": "light"
     },
     "output_type": "display_data"
    }
   ],
   "source": [
    "leaks_tfidf = leaks_X.sum(axis =0).A1\n",
    "\n",
    "plt.scatter(range(len(leaks_tfidf))[5:], np.sort(leaks_tfidf)[::-1][5:], marker='+')"
   ]
  },
  {
   "cell_type": "code",
   "execution_count": 51,
   "id": "59dc0312-474f-4940-a668-ca836f983740",
   "metadata": {},
   "outputs": [
    {
     "name": "stdout",
     "output_type": "stream",
     "text": [
      "matrix shape: (12, 3357)\n",
      "\n",
      "number of prominent words: 398\n",
      "\n",
      "ratio of prominent words (relative to vocabulary size): 11.86 %\n",
      "\n"
     ]
    }
   ],
   "source": [
    "leaks_cutoff = 0.15\n",
    "\n",
    "leaks_most_prominent_words = find_most_prominent_words_cutoff(leaks_cutoff, leaks_X, leaks_vectorizer)"
   ]
  },
  {
   "cell_type": "code",
   "execution_count": 52,
   "id": "8017e936-6eb4-4640-bbb2-fac63423a1d0",
   "metadata": {},
   "outputs": [
    {
     "name": "stdout",
     "output_type": "stream",
     "text": [
      "matrix shape: (12, 3357)\n",
      "\n",
      "agreement   \t|\t1.902\n",
      "program     \t|\t1.367\n",
      "process     \t|\t1.165\n",
      "reform      \t|\t1.123\n",
      "referendum  \t|\t1.008\n",
      "letter      \t|\t0.918\n",
      "eurogroup   \t|\t0.882\n",
      "list        \t|\t0.854\n",
      "new         \t|\t0.811\n",
      "like        \t|\t0.779\n",
      "change      \t|\t0.723\n",
      "liquidity   \t|\t0.721\n",
      "pension     \t|\t0.716\n",
      "month       \t|\t0.689\n",
      "week        \t|\t0.684\n",
      "day         \t|\t0.681\n",
      "document    \t|\t0.642\n",
      "progress    \t|\t0.622\n",
      "fiscal      \t|\t0.614\n",
      "tomorrow    \t|\t0.607\n",
      "review      \t|\t0.606\n",
      "take        \t|\t0.601\n",
      "political   \t|\t0.6\n",
      "prior_action\t|\t0.6\n",
      "parliament  \t|\t0.58\n",
      "policy      \t|\t0.577\n",
      "statement   \t|\t0.554\n",
      "table       \t|\t0.55\n",
      "believe     \t|\t0.536\n",
      "problem     \t|\t0.534\n"
     ]
    }
   ],
   "source": [
    "_ = find_most_prominent_k_words(30, leaks_X, leaks_vectorizer)"
   ]
  },
  {
   "cell_type": "code",
   "execution_count": 53,
   "id": "72618986-d784-4fbb-a315-bead8289814c",
   "metadata": {},
   "outputs": [
    {
     "name": "stdout",
     "output_type": "stream",
     "text": [
      "Terms that are presint in more than 11 documents are disregarded.\n"
     ]
    }
   ],
   "source": [
    "print(f'Terms that are presint in more than {int(len(leaks_documents) * 0.95)} documents are disregarded.')"
   ]
  },
  {
   "cell_type": "code",
   "execution_count": 54,
   "id": "778a4cab-a480-42ff-a63e-6a08cce5b91f",
   "metadata": {},
   "outputs": [
    {
     "name": "stdout",
     "output_type": "stream",
     "text": [
      "Communiques vocabulary size: 3357\n",
      "Number of documents: 12\n"
     ]
    }
   ],
   "source": [
    "print(f'Communiques vocabulary size: {len(leaks_vectorizer.get_feature_names())}')\n",
    "print(f'Number of documents: {len(leaks_documents)}')"
   ]
  },
  {
   "cell_type": "markdown",
   "id": "4a2510bd-958b-4296-b922-59dd99fe28e3",
   "metadata": {},
   "source": [
    "## make figure for cutoffs"
   ]
  },
  {
   "cell_type": "code",
   "execution_count": 55,
   "id": "f73bca30-c5de-43ab-a55e-518ac1438a05",
   "metadata": {},
   "outputs": [
    {
     "data": {
      "image/png": "[encoded data removed]",
      "text/plain": [
       "<Figure size 720x288 with 2 Axes>"
      ]
     },
     "metadata": {
      "needs_background": "light"
     },
     "output_type": "display_data"
    }
   ],
   "source": [
    "fig, axes = plt.subplots(1, 2, sharey=True, figsize=(10,4))\n",
    "\n",
    "axes[0].scatter(range(len(communique_tfidf)), np.sort(communique_tfidf)[::-1], marker='+')\n",
    "axes[0].axhline(communique_cutoff, 0,len(communique_tfidf), color='black', linewidth=1, linestyle='--')\n",
    "axes[0].set_title('Communiques')\n",
    "axes[0].set_yticks([0, .5, 1, 1.5])\n",
    "axes[0].text(int(len(communique_tfidf)*.7), communique_cutoff*1.2, f'cut off = {communique_cutoff}')\n",
    "\n",
    "axes[1].scatter(range(len(leaks_tfidf)), np.sort(leaks_tfidf)[::-1], marker='+')\n",
    "axes[1].axhline(leaks_cutoff, 0,len(leaks_tfidf), color='black', linewidth=1, linestyle='--')\n",
    "axes[1].set_title('Euroleaks')\n",
    "axes[1].text(int(len(leaks_tfidf)*.7), leaks_cutoff*1.2, f'cut off = {leaks_cutoff}')\n",
    "\n",
    "#fig.tight_layout()\n",
    "\n",
    "fig.savefig('../figures/tfidf-cutoff.png')"
   ]
  },
  {
   "cell_type": "markdown",
   "id": "0eddb489-ace4-4433-ad90-2ec88a7adb51",
   "metadata": {},
   "source": [
    "## find differences"
   ]
  },
  {
   "cell_type": "code",
   "execution_count": 56,
   "id": "295f9f8e-3a67-48bd-9580-adad3a20e43d",
   "metadata": {},
   "outputs": [
    {
     "name": "stdout",
     "output_type": "stream",
     "text": [
      "Number of words: 69\n",
      "\n",
      "institution\n",
      "proposal\n",
      "greek_authority\n",
      "talk\n",
      "measure\n",
      "greece\n",
      "work\n",
      "inform\n",
      "greek\n",
      "situation\n",
      "agree\n",
      "discuss\n",
      "today\n",
      "state_play\n",
      "discussion\n",
      "meeting\n",
      "view\n",
      "start\n",
      "euro_area\n",
      "financial\n",
      "give\n",
      "monday\n",
      "time\n",
      "come\n",
      "good\n",
      "greek_government\n",
      "need\n",
      "ground\n",
      "issue\n",
      "decision\n",
      "recovery\n",
      "look\n",
      "pm\n",
      "stock\n",
      "government\n",
      "basis\n",
      "ireland\n",
      "regular\n",
      "thursday\n",
      "efsf\n",
      "number\n",
      "end\n",
      "go\n",
      "portugal\n",
      "step\n",
      "note\n",
      "cyprus\n",
      "inevitable\n",
      "initiative\n",
      "heads\n",
      "regrettable\n",
      "tuesday\n",
      "short\n",
      "july\n",
      "course\n",
      "question\n",
      "concerned\n",
      "structural_reform\n",
      "member_states\n",
      "wide\n",
      "main\n",
      "national_procedure\n",
      "meantime\n",
      "press_conference\n",
      "door\n",
      "surveillance\n",
      "intensive\n",
      "spain\n",
      "lot\n"
     ]
    }
   ],
   "source": [
    "# prominent words in communiques which are not prominent in euroleaks\n",
    "comm_but_not_leaks = []\n",
    "\n",
    "for word in communique_most_prominent_words:\n",
    "    if word not in leaks_most_prominent_words:\n",
    "        comm_but_not_leaks.append(word)\n",
    "        \n",
    "print(f'Number of words: {len(comm_but_not_leaks)}\\n')\n",
    "for word in comm_but_not_leaks:\n",
    "    print(word)"
   ]
  },
  {
   "cell_type": "code",
   "execution_count": 57,
   "id": "5a1babc5-e0cb-496a-9293-0432432eb041",
   "metadata": {},
   "outputs": [
    {
     "name": "stdout",
     "output_type": "stream",
     "text": [
      "Number of words: 297\n",
      "\n",
      "letter\n",
      "eurogroup\n",
      "change\n",
      "liquidity\n",
      "pension\n",
      "document\n",
      "tomorrow\n",
      "prior_action\n",
      "parliament\n",
      "believe\n",
      "problem\n",
      "public\n",
      "greek_people\n",
      "propose\n",
      "debt\n",
      "tax\n",
      "second_letter\n",
      "country\n",
      "area\n",
      "people\n",
      "deal\n",
      "athens\n",
      "bank\n",
      "line\n",
      "minister\n",
      "mou\n",
      "technical\n",
      "aide_memoire\n",
      "significant\n",
      "set\n",
      "market\n",
      "meet\n",
      "detail\n",
      "rate\n",
      "target\n",
      "euro\n",
      "concern\n",
      "package\n",
      "answer\n",
      "actually\n",
      "low\n",
      "credibility\n",
      "authority\n",
      "system\n",
      "communication\n",
      "move\n",
      "esm\n",
      "send\n",
      "certainly\n",
      "increase\n",
      "brussels_group\n",
      "find\n",
      "sure\n",
      "help\n",
      "able\n",
      "interest_rate\n",
      "prime_minister\n",
      "reason\n",
      "high\n",
      "complete\n",
      "general\n",
      "tell\n",
      "fact\n",
      "mandate\n",
      "previous\n",
      "ahead\n",
      "push\n",
      "ecb\n",
      "large\n",
      "great\n",
      "growth_friendly\n",
      "hope\n",
      "respect\n",
      "medium\n",
      "intention\n",
      "speak\n",
      "plan\n",
      "bill\n",
      "matter\n",
      "friday\n",
      "exist\n",
      "turn\n",
      "sustainable\n",
      "vote\n",
      "paper\n",
      "remark\n",
      "gdp\n",
      "additional\n",
      "direction\n",
      "moment\n",
      "convergence\n",
      "vat\n",
      "amendment\n",
      "require\n",
      "create\n",
      "early\n",
      "morning\n",
      "trust\n",
      "run\n",
      "absolutely\n",
      "difference\n",
      "action\n",
      "credible\n",
      "privatization\n",
      "close\n",
      "hour\n",
      "euro_working_group\n",
      "have\n",
      "scenario\n",
      "feel\n",
      "report\n",
      "available\n",
      "get\n",
      "happen\n",
      "bit\n",
      "expect\n",
      "example\n",
      "necessary\n",
      "extremely\n",
      "assess\n",
      "perspective\n",
      "implement\n",
      "hand\n",
      "sla\n",
      "principle\n",
      "money\n",
      "overall\n",
      "approach\n",
      "lead\n",
      "effort\n",
      "solution\n",
      "information\n",
      "especially\n",
      "low_interest_rate\n",
      "summit\n",
      "possibility\n",
      "raise\n",
      "opinion\n",
      "clearly\n",
      "stance\n",
      "sign\n",
      "february\n",
      "well\n",
      "major\n",
      "real\n",
      "stop\n",
      "produce\n",
      "prepared\n",
      "achieve\n",
      "receive\n",
      "finance\n",
      "word\n",
      "fair\n",
      "basically\n",
      "sense\n",
      "group\n",
      "hfsf\n",
      "environment\n",
      "revenue\n",
      "remind\n",
      "idea\n",
      "specific\n",
      "financing\n",
      "law\n",
      "conference\n",
      "conclude\n",
      "substance\n",
      "share\n",
      "leave\n",
      "improve\n",
      "common\n",
      "see\n",
      "call\n",
      "happy\n",
      "understanding\n",
      "context\n",
      "commit\n",
      "begin\n",
      "parametric\n",
      "implementation\n",
      "primary_surplus\n",
      "negotiate\n",
      "impact\n",
      "lack\n",
      "effect\n",
      "proceed\n",
      "chance\n",
      "refer\n",
      "helpful\n",
      "leader\n",
      "repayment\n",
      "floor\n",
      "legal\n",
      "offer\n",
      "communicate\n",
      "payment\n",
      "element\n",
      "impossible\n",
      "involve\n",
      "mind\n",
      "funding\n",
      "decide\n",
      "possibly\n",
      "beginning\n",
      "explain\n",
      "strengthen\n",
      "nominal\n",
      "exactly\n",
      "pay\n",
      "stage\n",
      "creditor\n",
      "page\n",
      "team\n",
      "highly\n",
      "obviously\n",
      "space\n",
      "sentence\n",
      "contribution\n",
      "labor_market\n",
      "cut\n",
      "conditionality\n",
      "brussels\n",
      "clarity\n",
      "bad\n",
      "unilateral\n",
      "soon\n",
      "deliver\n",
      "technical_team\n",
      "reality\n",
      "recession\n",
      "maintain\n",
      "put\n",
      "face\n",
      "regard\n",
      "credit\n",
      "procedure\n",
      "condition\n",
      "pass\n",
      "tonight\n",
      "separate\n",
      "elstat\n",
      "instance\n",
      "guess\n",
      "fall\n",
      "expectation\n",
      "indicate\n",
      "backtrack\n",
      "appear\n",
      "govern_council\n",
      "introduce\n",
      "sort\n",
      "version\n",
      "pace\n",
      "past\n",
      "scheme\n",
      "listen\n",
      "cost\n",
      "respond\n",
      "side\n",
      "suggest\n",
      "type\n",
      "uncertainty\n",
      "backtracking\n",
      "compare\n",
      "ensure\n",
      "agenda\n",
      "room\n",
      "windfall\n",
      "installment\n",
      "circumstance\n",
      "secondly\n",
      "access\n",
      "willing\n",
      "administration\n",
      "stay\n",
      "track\n",
      "away\n",
      "concrete\n",
      "politically\n",
      "ago\n",
      "reflect\n",
      "old\n",
      "crucial\n",
      "purpose\n",
      "substantial\n",
      "budget\n",
      "quickly\n",
      "stick\n",
      "reduction\n",
      "lose\n",
      "spirit\n",
      "consistent\n",
      "accelerate\n",
      "deadline\n",
      "etcetera\n",
      "strategic\n",
      "expenditure\n"
     ]
    }
   ],
   "source": [
    "# prominent words in communiques which are not prominent in euroleaks\n",
    "\n",
    "leaks_but_not_comms = []\n",
    "\n",
    "for word in leaks_most_prominent_words:\n",
    "    if word not in communique_most_prominent_words:\n",
    "        leaks_but_not_comms.append(word)\n",
    "        \n",
    "print(f'Number of words: {len(leaks_but_not_comms)}\\n')\n",
    "for word in leaks_but_not_comms:\n",
    "    print(word)"
   ]
  },
  {
   "cell_type": "code",
   "execution_count": 58,
   "id": "33ebf4f8-f004-44b9-8f35-1e01b4fdcb29",
   "metadata": {},
   "outputs": [],
   "source": [
    "def intersection(lst1, lst2):\n",
    "    lst3 = [value for value in lst1 if value in lst2]\n",
    "    return lst3\n",
    "\n",
    "assert len(intersection(comm_but_not_leaks, leaks_but_not_comms)) == 0"
   ]
  },
  {
   "cell_type": "markdown",
   "id": "b6998bf2-2c5f-45a4-98e0-644b1f961e03",
   "metadata": {},
   "source": [
    "### words of interest (collect manually)"
   ]
  },
  {
   "cell_type": "code",
   "execution_count": 59,
   "id": "19f485a3-7cbd-4f79-9cad-370da63e912e",
   "metadata": {},
   "outputs": [],
   "source": [
    "# manually collecter words of interest, which highlight differences\n",
    "\n",
    "highlight_differences = set([\n",
    "    \n",
    "    # comms but not leaks\n",
    "    #'institution', # prominent in both (vectorizere filters it out for leaks because present in every document)\n",
    "    #'ireland',\n",
    "    #'portugal',\n",
    "    #'cyprus',\n",
    "    'structural_reform',\n",
    "    #'national_procedure',\n",
    "    #'spain',\n",
    "    'recovery',\n",
    "\n",
    "    # leaks but not comms\n",
    "    'letter',\n",
    "    'liquidity',\n",
    "    'pension',\n",
    "    'parliament',\n",
    "    'debt',\n",
    "    'tax',\n",
    "    'second_letter',\n",
    "    'bank',\n",
    "    'mou',\n",
    "    'aide_memoire',\n",
    "    'market',\n",
    "    #'esm', # European stability mechanism\n",
    "    'brussels_group',\n",
    "    #'interest_rate',\n",
    "    #'prime_minister',\n",
    "    'mandate',\n",
    "    #'ecb', # European Central Bank\n",
    "    'bill',\n",
    "    'gdp',\n",
    "    'vat', # value-added tax\n",
    "    'privatization',\n",
    "    'sla', # staff level agreement\n",
    "    #'low_interest_rate',\n",
    "    'law',\n",
    "    'primary_surplus',\n",
    "    'labor_market',\n",
    "    'recession',\n",
    "    'budget',\n",
    "    \n",
    "    # interesting collocations\n",
    "    'minimum_wage',\n",
    "    'labor_market',\n",
    "    'collective_bargaining',\n",
    "    'structural_reform',\n",
    "    'second_letter',\n",
    "    #'non_performing_loan',\n",
    "    #'capital_control',\n",
    "    'primary_surplus',\n",
    "    'aide_memoire',\n",
    "    'brussels_group',\n",
    "    #'quantitative_easing',\n",
    "    'smp_bond',\n",
    "    \n",
    "    # prominent when tfidf trained on joint communiques + euroleaks\n",
    "    'reform',\n",
    "    'extension',\n",
    "    'referendum',\n",
    "    'list',\n",
    "    'agreement',\n",
    "    \n",
    "    # domain knowledge (Varoufakis claims they refused to talk debt restructuring)\n",
    "    'restructuring'\n",
    "      \n",
    "])\n",
    "\n",
    "# convert to list so that ordering is fixed\n",
    "highlight_differences = list(highlight_differences)\n",
    "# sort the list\n",
    "highlight_differences.sort()"
   ]
  },
  {
   "cell_type": "code",
   "execution_count": 60,
   "id": "b6c8dda4-ddb8-4726-9a28-e6d5bdf931bd",
   "metadata": {},
   "outputs": [
    {
     "name": "stdout",
     "output_type": "stream",
     "text": [
      "34\n"
     ]
    }
   ],
   "source": [
    "print(len(highlight_differences))"
   ]
  },
  {
   "cell_type": "markdown",
   "id": "2a7de649-ca22-47e3-9daa-0004b374925c",
   "metadata": {},
   "source": [
    "### words that are completely absent from one vocabulary"
   ]
  },
  {
   "cell_type": "code",
   "execution_count": 61,
   "id": "0769a2cb-f9e1-4274-a660-887f1124afd0",
   "metadata": {},
   "outputs": [],
   "source": [
    "from pprint import pprint"
   ]
  },
  {
   "cell_type": "code",
   "execution_count": 62,
   "id": "b926689b-5c79-4d2f-b37b-a2db67f95128",
   "metadata": {},
   "outputs": [
    {
     "name": "stdout",
     "output_type": "stream",
     "text": [
      "132 \n",
      "\n"
     ]
    }
   ],
   "source": [
    "# words in communiques which are not prominent and are absent from euroleaks\n",
    "\n",
    "my_list = [word for word in communique_vectorizer.get_feature_names() if word not in communique_most_prominent_words and word not in leaks_vectorizer.get_feature_names()]\n",
    "\n",
    "print(len(my_list),'\\n')\n",
    "#pprint(my_list)"
   ]
  },
  {
   "cell_type": "code",
   "execution_count": 63,
   "id": "42d47671-5703-4e95-9976-89f0a6cd39eb",
   "metadata": {},
   "outputs": [
    {
     "name": "stdout",
     "output_type": "stream",
     "text": [
      "2510 \n",
      "\n"
     ]
    }
   ],
   "source": [
    "# words in euroleaks which are not prominent and are absent from communiques\n",
    "\n",
    "my_list = [word for word in leaks_vectorizer.get_feature_names() if word not in leaks_most_prominent_words and word not in communique_vectorizer.get_feature_names()]\n",
    "\n",
    "print(len(my_list),'\\n')\n",
    "#pprint(my_list)"
   ]
  },
  {
   "cell_type": "markdown",
   "id": "ae4128d2-7004-4737-887b-66f030f3bca5",
   "metadata": {},
   "source": [
    "### inspect collocations"
   ]
  },
  {
   "cell_type": "code",
   "execution_count": 64,
   "id": "d0264c20-d87c-4086-854b-0171d7284f9f",
   "metadata": {},
   "outputs": [
    {
     "name": "stdout",
     "output_type": "stream",
     "text": [
      "et_cetera\n",
      "greek_governmental\n",
      "labor_market\n",
      "central_banker\n",
      "central_banks\n",
      "aide_memoire\n",
      "anti_corruption\n",
      "prime_minister\n",
      "second_letter\n",
      "sign_dotted_line\n",
      "arm_length\n",
      "state_play\n",
      "duration_mffa\n",
      "monetary_union\n",
      "debt_sustainability_analysis\n",
      "maximum_flexibility\n",
      "product_market\n",
      "uncharted_territory\n",
      "euro_working_group\n",
      "greek_authority\n",
      "member_states\n",
      "european_semester\n",
      "brussels_group\n",
      "low_interest_rate\n",
      "central_banking\n",
      "track_record\n",
      "united_states\n",
      "quantitative_easing\n",
      "minimum_wage\n",
      "central_bank\n",
      "interest_rate\n",
      "technical_team\n",
      "smp_bond\n",
      "common_ground\n",
      "international_monetary_fund\n",
      "govern_council\n",
      "structural_reform\n",
      "primary_surplus\n",
      "capital_control\n",
      "successful_conclusion_review\n",
      "growth_friendly\n",
      "prior_actions\n",
      "20th_february\n",
      "prior_action\n",
      "collective_bargaining\n",
      "euro_area\n",
      "real_estate\n",
      "national_procedure\n",
      "debt_sustainability\n",
      "safety_net\n",
      "greek_government\n",
      "greek_people\n",
      "member_state\n",
      "banking_union\n",
      "financial_stability\n",
      "master_financial_assistance\n",
      "press_conference\n",
      "non_performing_loan\n",
      "mission_chief\n",
      "half_percent\n"
     ]
    }
   ],
   "source": [
    "for word in set(communique_vectorizer.get_feature_names() + leaks_vectorizer.get_feature_names()):\n",
    "    if '_' in word:\n",
    "        print(word)"
   ]
  },
  {
   "cell_type": "markdown",
   "id": "instant-voice",
   "metadata": {},
   "source": [
    "## most prominent words (trained together)"
   ]
  },
  {
   "cell_type": "code",
   "execution_count": 73,
   "id": "competitive-importance",
   "metadata": {},
   "outputs": [
    {
     "name": "stdout",
     "output_type": "stream",
     "text": [
      "matrix shape: (25, 3528)\n",
      "\n",
      "institution\t|\t3.518\n",
      "proposal   \t|\t2.332\n",
      "agreement  \t|\t2.234\n",
      "program    \t|\t2.102\n",
      "need       \t|\t2.043\n",
      "know       \t|\t1.909\n",
      "work       \t|\t1.772\n",
      "greece     \t|\t1.724\n",
      "agree      \t|\t1.617\n",
      "measure    \t|\t1.584\n",
      "question   \t|\t1.574\n",
      "go         \t|\t1.573\n",
      "reform     \t|\t1.569\n",
      "greek      \t|\t1.509\n",
      "come       \t|\t1.439\n",
      "time       \t|\t1.377\n",
      "discussion \t|\t1.37\n",
      "referendum \t|\t1.369\n",
      "government \t|\t1.367\n",
      "talk       \t|\t1.359\n",
      "process    \t|\t1.344\n",
      "situation  \t|\t1.318\n",
      "meeting    \t|\t1.294\n",
      "discuss    \t|\t1.231\n",
      "list       \t|\t1.199\n",
      "today      \t|\t1.18\n",
      "new        \t|\t1.119\n",
      "issue      \t|\t1.099\n",
      "current    \t|\t1.059\n",
      "want       \t|\t1.02\n"
     ]
    }
   ],
   "source": [
    "documents = leaks_documents + communique_documents\n",
    "dates = pd.concat((leaks_dates, communique_dates)).values\n",
    "\n",
    "tfidf_vectorizer = TfidfVectorizer(analyzer='word',\n",
    "                                   min_df=1, # word has to be in at least two documents\n",
    "                                   max_df=0.95, # word has to be in less the 95% of documents\n",
    "                                   smooth_idf=True, # Smooth idf weights by adding one to document frequencies, as if an extra document was seen containing every term in the collection exactly once. Prevents zero divisions.\n",
    "                                   sublinear_tf=False) # replace tf with 1 + log(tf).\n",
    "\n",
    "X = tfidf_vectorizer.fit_transform(documents)\n",
    "\n",
    "_ = find_most_prominent_k_words(30, X, tfidf_vectorizer)"
   ]
  },
  {
   "cell_type": "code",
   "execution_count": 75,
   "id": "55e6a6fc-4ab3-4a15-8a3d-eb697420f43f",
   "metadata": {},
   "outputs": [
    {
     "name": "stdout",
     "output_type": "stream",
     "text": [
      "word                \t|\ttfidf\t|\tcount\t| relevant in\t| relevant in\n",
      "                    \t|\t\t|\t\t| communiques\t| euroleaks\n",
      "------------------------------------------------------------------------------------------\n",
      "agreement           \t|\t2.234\t|\t299\t|\tTrue\t|\tTrue\n",
      "aide_memoire        \t|\t0.339\t|\t31\t|\tFalse\t|\tTrue\n",
      "bank                \t|\t0.509\t|\t63\t|\tFalse\t|\tTrue\n",
      "bill                \t|\t0.239\t|\t13\t|\tFalse\t|\tTrue\n",
      "brussels_group      \t|\t0.312\t|\t30\t|\tFalse\t|\tTrue\n",
      "budget              \t|\t0.142\t|\t15\t|\tFalse\t|\tTrue\n",
      "collective_bargaining\t|\t0.118\t|\t12\t|\tFalse\t|\tFalse\n",
      "debt                \t|\t0.555\t|\t72\t|\tFalse\t|\tTrue\n",
      "extension           \t|\t0.883\t|\t65\t|\tTrue\t|\tTrue\n",
      "gdp                 \t|\t0.258\t|\t32\t|\tFalse\t|\tTrue\n",
      "labor_market        \t|\t0.171\t|\t21\t|\tFalse\t|\tTrue\n",
      "law                 \t|\t0.181\t|\t14\t|\tFalse\t|\tTrue\n",
      "letter              \t|\t0.971\t|\t70\t|\tFalse\t|\tTrue\n",
      "liquidity           \t|\t0.676\t|\t69\t|\tFalse\t|\tTrue\n",
      "list                \t|\t1.199\t|\t126\t|\tTrue\t|\tTrue\n",
      "mandate             \t|\t0.335\t|\t37\t|\tFalse\t|\tTrue\n",
      "market              \t|\t0.479\t|\t59\t|\tFalse\t|\tTrue\n",
      "minimum_wage        \t|\t0.065\t|\t7\t|\tFalse\t|\tFalse\n",
      "mou                 \t|\t0.444\t|\t49\t|\tFalse\t|\tTrue\n",
      "parliament          \t|\t0.586\t|\t86\t|\tFalse\t|\tTrue\n",
      "pension             \t|\t0.754\t|\t106\t|\tFalse\t|\tTrue\n",
      "primary_surplus     \t|\t0.218\t|\t24\t|\tFalse\t|\tTrue\n",
      "privatization       \t|\t0.241\t|\t30\t|\tFalse\t|\tTrue\n",
      "recession           \t|\t0.15\t|\t15\t|\tFalse\t|\tTrue\n",
      "recovery            \t|\t0.556\t|\t15\t|\tTrue\t|\tFalse\n",
      "referendum          \t|\t1.369\t|\t80\t|\tTrue\t|\tTrue\n",
      "reform              \t|\t1.569\t|\t181\t|\tTrue\t|\tTrue\n",
      "restructuring       \t|\t0.107\t|\t8\t|\tFalse\t|\tFalse\n",
      "second_letter       \t|\t0.449\t|\t21\t|\tFalse\t|\tTrue\n",
      "sla                 \t|\t0.219\t|\t16\t|\tFalse\t|\tTrue\n",
      "smp_bond            \t|\t0.077\t|\t8\t|\tFalse\t|\tFalse\n",
      "structural_reform   \t|\t0.354\t|\t26\t|\tTrue\t|\tFalse\n",
      "tax                 \t|\t0.523\t|\t71\t|\tFalse\t|\tTrue\n",
      "vat                 \t|\t0.258\t|\t29\t|\tFalse\t|\tTrue\n"
     ]
    }
   ],
   "source": [
    "# tfidf scores of words of interest, when tfidf is trained on joint text\n",
    "\n",
    "from sklearn.feature_extraction.text import CountVectorizer\n",
    "\n",
    "count_vectorizer = CountVectorizer(max_df=0.95)\n",
    "counts = count_vectorizer.fit_transform(leaks_documents + communique_documents)\n",
    "\n",
    "tfidf = X.sum(axis =0).A1\n",
    "\n",
    "print(f'word{\" \"*(20-4)}\\t|\\ttfidf\\t|\\tcount\\t| relevant in\\t| relevant in')\n",
    "print(f'{\" \"*20}\\t|\\t\\t|\\t\\t| communiques\\t| euroleaks')\n",
    "print('-'*90)\n",
    "for word in highlight_differences:\n",
    "    index = tfidf_vectorizer.vocabulary_[word]\n",
    "    print(f'{word}{\" \"*(20-len(word))}\\t|\\t{round(tfidf[index],3)}\\t|\\t{counts.sum(axis=0).A1[count_vectorizer.vocabulary_[word]]}\\t|\\t{word in communique_most_prominent_words}\\t|\\t{word in leaks_most_prominent_words}')"
   ]
  },
  {
   "cell_type": "raw",
   "id": "d3ef13b6-0056-4555-baf6-5ab67c04aac3",
   "metadata": {},
   "source": [
    "## Figure\n",
    "Grid: https://stackoverflow.com/questions/38973868/adjusting-gridlines-and-ticks-in-matplotlib-imshow"
   ]
  },
  {
   "cell_type": "code",
   "execution_count": 31,
   "id": "8ed13019-db67-4ae1-b97f-f58395dc91ea",
   "metadata": {},
   "outputs": [],
   "source": [
    "leaks_matshow = np.zeros((len(highlight_differences), len(leaks_dates)))\n",
    "\n",
    "for i,word in enumerate(highlight_differences):\n",
    "    if word in leaks_vectorizer.get_feature_names():\n",
    "        leaks_matshow[i] = leaks_X.toarray()[:,leaks_vectorizer.get_feature_names().index(word)]\n",
    "        \n",
    "comm_matshow = np.zeros((len(highlight_differences), len(communique_dates)))\n",
    "\n",
    "for i,word in enumerate(list(highlight_differences)):\n",
    "    if word in communique_vectorizer.get_feature_names():\n",
    "        comm_matshow[i,:] = communique_X.toarray()[:,communique_vectorizer.get_feature_names().index(word)]\n",
    "    "
   ]
  },
  {
   "cell_type": "code",
   "execution_count": 32,
   "id": "disturbed-session",
   "metadata": {},
   "outputs": [
    {
     "name": "stderr",
     "output_type": "stream",
     "text": [
      "<ipython-input-32-585dff3abe2a>:6: RuntimeWarning: divide by zero encountered in log\n",
      "  axes[0].matshow(np.log(leaks_matshow), cmap='Blues')\n",
      "<ipython-input-32-585dff3abe2a>:16: RuntimeWarning: divide by zero encountered in log\n",
      "  axes[1].matshow(np.log(comm_matshow), cmap='Blues')\n"
     ]
    },
    {
     "data": {
      "image/png": "[encoded data removed]",
      "text/plain": [
       "<Figure size 720x576 with 2 Axes>"
      ]
     },
     "metadata": {
      "needs_background": "light"
     },
     "output_type": "display_data"
    }
   ],
   "source": [
    "keywords = highlight_differences\n",
    "\n",
    "fig, axes = plt.subplots(1,2,figsize=(10,8),sharey=True)\n",
    "\n",
    "# leaks\n",
    "axes[0].matshow(np.log(leaks_matshow), cmap='Blues')\n",
    "axes[0].set_xticks(np.arange(len(leaks_dates)))\n",
    "_ = axes[0].set_xticklabels(leaks_dates, rotation=45)\n",
    "# grids\n",
    "axes[0].set_xticks(np.arange(-.5, len(leaks_dates), 1), minor=True)\n",
    "axes[0].set_yticks(np.arange(len(keywords)))\n",
    "axes[0].set_yticks(np.arange(-.53, len(keywords), 1), minor=True)\n",
    "axes[0].grid(which='minor', color='black', linestyle='-', linewidth=.5, alpha=.4)\n",
    "\n",
    "# communiques\n",
    "axes[1].matshow(np.log(comm_matshow), cmap='Blues')\n",
    "axes[1].set_xticks(range(len(communique_dates)))\n",
    "_ = axes[1].set_xticklabels(communique_dates, rotation=45)\n",
    "# grids\n",
    "axes[1].set_xticks(np.arange(-.53, len(leaks_dates), 1), minor=True)\n",
    "axes[1].set_yticks(np.arange(len(keywords)))\n",
    "axes[1].set_yticks(np.arange(-.53, len(keywords), 1), minor=True)\n",
    "axes[1].grid(which='minor', color='black', linestyle='-', linewidth=.5, alpha=.4)\n",
    "\n",
    "# shared y axis\n",
    "axes[0].set_yticks(range(len(keywords)))\n",
    "_ = axes[0].set_yticklabels(keywords)\n",
    "#axes[1].set_yticks(range(len(keywords)))\n",
    "#_ = axes[1].set_yticklabels(keywords)\n",
    "\n",
    "axes[0].set_title('Euroleaks')\n",
    "axes[1].set_title('Communiques')\n",
    "\n",
    "\n",
    "\n",
    "fig.tight_layout()\n",
    "\n",
    "fig.savefig('../figures/term_heatmap.png')"
   ]
  },
  {
   "cell_type": "markdown",
   "id": "fd35db35-1a5a-4e6c-b91a-5d248575eca9",
   "metadata": {},
   "source": [
    "**TODO** investigate terms with text search and read into them:\n",
    "- bank\n",
    "- bill\n",
    "- list\n",
    "\n",
    "Note that I have taken the log of the matrix so that high scores don't dominate the color spectrum."
   ]
  },
  {
   "cell_type": "markdown",
   "id": "39425fff-7949-48a3-9081-169fe6d1ac0b",
   "metadata": {},
   "source": [
    "# Auxiliary text search"
   ]
  },
  {
   "cell_type": "code",
   "execution_count": 76,
   "id": "0435f763-3a8a-40bb-b97b-5bf927207aea",
   "metadata": {},
   "outputs": [
    {
     "name": "stdout",
     "output_type": "stream",
     "text": [
      "christine lagarde (24/02):\n",
      "Thank you very much, Jerome and good afternoon to all of you. I will not repeat the content of the letter that we issued last night. I could, uh, literally endorse and exalt all the points made by Mario, except the last one, which is quite separate. The two points I will come back to to insist upon, is number one, that the discussions on completion of the review, which should start as soon as possible, and for which we are ready, to be successful, can not be merely confined within the policy parameters outlined in the government list. And I think the reference to the MOU and the NESP by Mario was particularly relevant. The second concern that I have, which was also mentioned by Mario, is the constant and recurring noise that we hear from Athens, and which echo around the world in a way that is inconsistent with what is indicated in the memorandum of the list issued by the Greek authorities. And there is real constant reference to backtracking. That includes expectation of im- impending changes to the pension scheme that backtrack on policy commitments, as well as changes to the general tax, uh debt installment fees, that already have, uh, weakened, uh, the revenue collection by the Greek authorities. So, Yanis, if you would, with us on the call, I would urge you to reduce that noise and make very clear that there is one single list and not a Greek list separate from your list. Finally, I think it could be extremely helpful, certainly from our perspective, if, uh, Yanis could explain to all of us the government’s current liquidity position, as well as how it is proposed to move forward. With that, as I said, uh, we stand ready, and we’re eager to, uh, begin the real work, which will not be about putting, uh, words on, on paper, which will, we’re not associated to over the weekend, but that’s fine. But clearly, the actual review work now needs to begin. Thank you.\n",
      "\n",
      "nikos theocarakis (01/04):\n",
      "Hello. Thank you, Thomas, for um…I would like to address several of the issues that uh, Marco and Benoit raised before. First of all, about the meetings of the technical teams in Athens and in Brussels group. I’m happy to note that you understand that it is a common understanding that the meetings in Brussels that last three days showed progress. And it was a better understanding from our side and the side of the institutions. Um, I’m also happy to note that you see that there is progress no the work that is done in Athens at the level of technical teams. Let me, however, remind you that uh, this was a very new process that has been established. That we have a meeting at the Brussels group level and then meetings at technical teams in Athens. So, we had to find out a way to cooperate with each other. So, at the beginning…when the modality has changed and people did not go to ministries and ask whatever type of data they liked. First the technical teams from the institutions were not well prepared. And there were no specific questions asked. At the second level, when we got specific question, we had, in actuality, an info glass. We were flooded with information that our people, and to be frank, our young government, could not answer to your heart’s content. So, communication was indeed suboptimal, but I think that recently, we have found a way to work in a more efficient and a more productive way, and since you understand and believe that our intentions are to give you as much information as you require to perform the review, we can carry on as long as it is necessary. And I think you understand very well that there is no stone walling from the part of the Greek government. So, in that respect, I think we have reached a modus mivendi in providing that information and we will continue to do so. So, the more we cooperate, the better the flow of information will be. Now, on the other hand, in uh, in the Brussels group meeting in the last three days, we have presented a number of our proposed reforms and we have actually put numbers on those reforms. And we compared the baseline scenario with reforms we intend to take that will affect that and produce a viable solution for Greece. In fact, after the discussions we had, we produced a new document that has taken into consideration all those comments we had received, which we have sent a few hours ago to the members of the Brussels group and I will be very happy to send a copy to all members of the Euro working group. Now, there are many issues I would like to address. For example, it was mentioned that there is a tendency, when a good measure has been adopted by the previous government, that to resist to adopt this measure simply because it has been adopted by the previous government. This is simply not true. To be frank, in many cases, when we entered minister’s offices, we find only the furniture. So, in some ways, we’re not even well informed about the work that has been done from our side. But, also, we know and I think you know, that our true intentions is to apply all those measures that would lead to the creation of a better, just, fair and more efficient state that is commensurate to the expectations of the Greek peopl and our partners in the European Union to which were invariably committed. For example, there are other international organizations such as the ILO or the OECD we’re working in close cooperation with them, there are teams as we speak from our ministries that go through the OECD people to produce agreements. So, this is not an ideological thing we’re talking about. And in fact, ideology works both ways. What you see as common sense, we see as ideology and vice versa. So, the idea is to find out what is optimal for Greece so that we have a viable, developing and growing economy that will make sustainable the payment of its debt. And I’m happy to know that… you know that we have reached agreements in many issues and that we are in the process of working even further With you to resolve matters that are subject of negotiations and that in some we can yield, and you know also that because we have specific commitments to the Greek people, there are other issues which we have costed and we shall not go back. Take pension reform for example. You call it a rollback. On the other hand, in the view of my government, reducing pension sharply for those on low pensions is not really a reform. We are in the process of reforming the pension system. This will take time, it will take actual studies, and all that. But we have costed that there’s a little more than one billion, not to accept the zero deficit clause in our pensions system. This will be done only for this year, and then we will, with your technical assistance, come up with a system that is both fair and viable. Regarding the issue of early retirement, I think we said that in the Brussels group, that our government is committed to pass a law that restricts early retirement in most cases, excepting those for example who are suddenly disability appears and the like. Privatization, another issue that has been raised. I think it is p- peculiar, to say the least, that a left-wing government is more sincere about privatization than a right-wing government. And there was a lot of talks about how much we are going to get from privatizations, but we are budgeting 1.5 billion, and we’re in the process of continuing the process. But in this process, we will improve vastly upon it, especially in the realm of offering safe and property rights to bidders. And minimizing the likelihood of legal challenges of the  led to the undoing of previous privatizations. In this sense, there’s nothing worse in privatizations about, uh, for the, uh, potential investor not to know that his bid is secure. So we would like to ask in the future, minimum investment provisions, state equity for the government, local economy development, and, uh, some minimum conditions for our employees, and we would like to escape the firesale logic. On the other hand, we tend to enhance the property right of the bidders by offering them things about the development of their properties, that were not there and in fact were gridlocked in, uh, those privatizations. So we are very clear about the privatizations we are going to do. We are going to respect everything that has been legally done by the previous government, and in fact increased the property rights of those who have entered in privatization agreement for the Greek government. Now regarding for example, issues like the moratorium of foreclosures. First, it has not been tabled in parliament yet, and also we believe that what can be seen as optimal at the micro level, what could be disastrous at the macro level, it is the fallacy of composition so to speak. Foreclosures of primary residents at the time when house prices are extremely depressed is in reality undermining the capitalization of the banks, seeing as they further reduce the value of the real estate portfolio. I think people from the Brussels group heard the, uh, Secretary General of Public Revenue, Katerina Savvaidou, discussing what a disaster was the attempt to go through auctions of people who actually had large properties. The, the, the problem was that there is no liquidity, there is no prospect, there are property taxes. No one wants to own property, so unless we accept a level of real estate of the past of real estate in Greece, that is absolutely out of the money, the, the whole thing would be disastrous in our case. So, uh, regarding collective bargaining, we of course willing to work with the ILO in establishing best practices and not going back to a system that was definitely not optimal. On the other hand, what do we see is that as a result of the agreements of the previous government, it has been a total dismantling of collective bargaining in Greece to a level that I don’t think that other European countries who have a history of, uh, worker’s right culture, so to speak, was there. So, and take another example. In labor market reforms, I think we know our little market better than other people, and one of the basic characteristics of our labor market is that one third of those employed, and let alone the one quarter of those… of the labor force who are unemployed, are undeclared, uninsured labor. So we said quite specifically, what we really need in terms of labor market reform is to make more important and more intense the inspection by the labor inspectorate so what that there is a crackdown on undeclared and uninsured labor. This would have very sizeable effects on our pension funds and I think we really underestimated that effect, uh, but say 150, uh, million euros. It will-\n",
      "\n",
      "nikos theocarakis (01/04):\n",
      "Okay. So, let me redirect again that we’re soon running out of money and it’s very hard to go beyond the ninth of April. Now, uh, Marco, both Marco and Benoit mentioned the extra cash that is, there available, and that uh, requires legislation, but in our Parliament we haven’t passed such legislation, since it would not suffice both for IMF repayments and paying for wages and pensions. So it would not make a difference. Now, recall that our stressed State already made payments of almost seven billion this year without having benefited from scheduled disbursements. So we paid seven billion but received none. Now, regarding the measures list. Now the Brussels group has received a comprehensive list in Excel form of our reform proposals that demonstrate the 70, 30 mix that these, which measures from the tenth of December list from the institution we accept and which we propose to change and how. Today, we improved on that list after the discussions we had in the Brussels group and we have sent this detailed document outlining our proposal for each one of these measures, both the 70% and the 30% parts. Now, I understand that, and I think everybody understands, that this is a working document that reflects the position of the Greek government. Of course it’s not something that has been agreed by all parties. But our, actually, I would like to send this document to the members of the Euro working group. I mean, you know, your trusted colleagues, I mean it is to you that we, uh, address our reform proposals. So I don’t think that, uh, certain things are, should not, uh, should be censored before  and then after that we should send these documents to the Euro working group. So if you all agree, I should send to you both the, uh, documents and the, uh, Excel, uh, um, spreadsheet on that.\n",
      "\n",
      "pierre moscovici (24/04):\n",
      "Thank you Jeroen. Um, let me um, begin by saying that we uh, welcome the Greek authorities’ intention to cooperate with the Euro area and IMF and to work with the institutions. Following February’s agreement which is uh, our roadmap Greek authorities shared drafts set by these initiatives uh, further material provided in the course of March and April uh, has represented useful contributions uh, that in talks, in Brussels, in Athens, in Paris uh, they have been held in goodwill, uh, with discussions more open and focused and covered a wide range of issues. Uh, however, we must acknowledge that today, that only very small steps uh, have been made in terms of narrowing the policy gap. Overall, uh, current policy intentions do not yet represent what we expect, which is a critical package, measures that could deliver sustainable public finances, some financial system and a competitive economy. Uh, and discussions are moving, but in our view, they are moving slowly and let’s tell it as we believe it, far too slowly. Uh, unless change here seems difficult to achieve in the next week, a comprehensive package that offers a credible prospect of being able to complete the review. We need clarity, specifically to have confidence in the robustness and credibility of actions in the areas which have been indicated and others. Um, we have seen, uh, limited ambition uh, in key reform areas such as labor market, uh, pensions, or on the moratoria on auctions. We understand some of these may be particularly difficult, like the commitments made  the democratic electoral process, which we see as being fully recognized. And there is some room of flexible, but only if shortfalls in one domain are offset by ambitious delivery in others, which was the logic of the 20th_february agreement. Uh, let me raise just a few detailed points on some areas where differences exist. On fiscal and macro, we need to come to- common understanding. Realism in projections is needed, our starting point for discussion, cannot be one of no fiscal effort is needed in 2015, sufficient effort should be undertaken as needed over the medium run. We can consider a lower target for 2015 but there is still a gap to be closed and as , so should ambition. Second, on labor market reforms. The gap is still large in consultation with social partners  On privatization, our long-standing ambitious plan is now de facto stopped. Although the government has indicated it intends to continue with some projects this year. We need to have further details, which have not yet been provided and to propose change on the remaining uh, assets. Tentatively, based on this cursory information received, we believe that the plan needs more ambition and that the risk is that it falls significantly short of what is expected financially from privatization. This also I think will be a very important signal to investors. Uh, on financial stability there are growing concerns about banks’ balance sheets. Uh, let me stress once again that policy initiatives need to be concrete, they need to be time bound and mutually consistent. Previously agreed measures need to be respected, uh, the institutions are willing to consider what could be substituted with equitable measures in line with government priorities. Once again this is about the flexibility which has been recognized in the agreement of 20th_february. But some changes must be carefully calibrated and discussed openly. We also talked about  action. Rollback of measures and unilateral changes to policies and structural reforms are not expedient means of eventual progress. Policy initiative should be discussed ex ante, this principle must be respected mutually and the basis of work going forward. In this respect let me stress uh, our willingness to work and tackle authorities’ genuine concern on protecting the most vulnerable. But this needs to be done using targeted instrument directed at those who are most in need . We welcome, the recent decision to centralize cash dispersed to all entities of general government. While this may provide some breathing space for the next few days, this solution we all know, cannot last. So to conclude, I would say that time, as we all know, is of the essence. That time is now extremely limited. Delays come with the risk, even liquidity change,  together.\n",
      "\n",
      "mario draghi (24/04):\n",
      "Let me, first give you an update on the bank liquidity and . Renewed uncertainty about the discussions with the institutions on the conclusion of the review and on the ability to meet future debt obligations. Greek sovereign bond yields have reached the highest levels during this week since the debt restructuring in 2012. But there have been no significant contagion effects to other countries. At the same time the liquidity conditions of banks remain strained and fragile. We have seen accelerated deposit outflows since we last met, last time, on the back of increased uncertainty related to the discussions around the IMF Spring meetings. The adoption of the law on deposit transfers from the general government funds to the Bank of Greece and to a lesser extent the resolution of the small cooperative bank Panellinia. Due to the loss of deposits and other sources of financing the Greek banking system currently receives 111 billion euros of central bank liquidity, more than doubling last December’s reliance and the highest level as a share of GDP of any euro area country. On April 22, 2015, the governing council non objected to an increase the ELA ceiling of Euro 75.5 billion until and including 29th of April 2015 representing an increase of another 1.5 billion euro for the previous week. The ECB will continue extending liquidity to the Greek banks while there are solvent and they have sufficient collateral. However, we should be aware that the collateral of Greek banks is limited and that its value is decreasing when Greek government bond yields rise. Moreover, in light of recent developments in the increased risk of default of the Hellenic Republic, the governing council may need to assess the quality of the collateral used for ELA purposes including the applicable haircuts. So, the extreme fragile market and liquidity situation underlies the urgency of making progress in restoring confidence in the Greek economy. It’s absolutely essential that now decisive steps are taken to have agreement with the institutions and restore calm into the financial system. On the program itself, I entirely agree with the remarks made by Pierre Moscovici. On the- especially on the fiscal part of the program uh, it’s quite- it’s essential that agreement be reached on the macroeconomic projections, on the growth projections, so that a reasonable figure for the fiscal surplus can be agreed upon. And the second point where agreement is absolutely needed and its very, very urgent, is the series of structural reforms. Let me list some of them, because one of them is the independence of the HFSF, is of crucial importance for us. The reforms in product and services markets, again here much more determination is needed. The pension reforms, it’s kind of pointless to have pension laws that are fiscally unsustainable. The labor market reforms and uh, in general, in general the refraining from unilateral actions. So the outcome of this agreement should be a strong policy package that would produce growth while having a certain level of equity, respect in fiscal sustainability and financial stability. Thank you.\n",
      "\n",
      "poul mathias thomsen (24/04):\n",
      "Thank you Jeroen. So, I agree with the remarks uh, made by Pierre and Mario. I agree that the discussions have been  good will and more open. I also want to be… make clear that we… there are… very vast differences we’re making in all key areas. I think there’s much progress in narrowing the differences that we take some of the major areas, one by one. Fiscal. On the fiscal, uh, we are in the situation where we don’t have final numbers for 2014, but it’s clear that rather than reaching the target of 1.5, we are probably at best, at balance. Because of backtracking of measures by the previous government, in the second half of last year. We might even have had a small deficit last year. Now, we have not, the new government has not presented us a revised budget for 2015. We have not been able to have that discussion, but it has said that it wants to backtrack in a number of areas. For instance, on pension reforms, the backtracking amounts, to…uh, if I include uh, the budget to pay a thirteenth pension, to almost 1% of GDP. What, what…On pensions, backtracking, yes. Backtracking on almost 1% of GDP, almost. Uh, altogether, I think that if we, uh, if we just take the proposals that have been put on the table, without the benefit of having seen a comprehensive budget proposal by the government, we think that you will have a deficit of 1-1.5% of GDP, this year, this year. Compared to a target of plus three, without measures. So we are facing a huge gap, a huge gap, between where we are going to come out without measures, um, and where we wanted to be, and we certainly agree that the 3% is not attainable anymore, that’s for sure. Uh, as the two others previous speakers said, there are major backtracking on on on pension reforms, on the fiscal structural reforms that are needed to get us to where we wanted to go over the next couple of years. Pension reforms, tax administration is moving in the wrong direction, and public administration reforms are moving, all three of them are moving in the wrong direction. Uh, so, so we, you know, we need to have that discussion, uh before we can even, uh discuss what is feasible and reasonable targets over the medium term. As others have said, labor market reforms are proposed to be reversed, although the government has not done so, yet. Product market reforms, there are some reversals there already, uh, but there is also a reluctance to go ahead with the framework that we had agreed, uh, for opening up of closed profession. Mario can comment on the financial sector. So throughout these important areas, there are major differences, and I think it’s important, I have to caution you what that would mean from our perspective, is that six months ago, we thought that Greece could go back to, possibly could go back to the market. And there would be no need for new money. With uh, with these, with these programs, with these proposals we have now, there will be a need for very, very significant new money. Secondly, until six months ago, we thought that there would be no need for debt relief. Under the November 2011 framework, agreed with the Eurogroup, we thought that these targets could… were basically achievable given where we were six months ago. If we aren’t uh… if we start deviating, in any notable way, from the existing program, be it primary target, be it privatization, be it the reforms underlying what already is very, very ambitious goals for some things. If that’s the case, we will be looking at the need for very significant debt relief, from Europe also, in order to ensure that this package is, package is sustainable. So, I think, you know, we need to keep this in mind, as we go forward. I do not want you to come back later and say that, that we sort of, jumped a surprise on you, in this regard. What should be done moving forward? Uh, I do think that the process needs to… still needs to improve. We’re still in a situation where our mission chiefs are not allowed to correlate the work in Athens. We’re still in a mission chiefs where our people sit in a hotel room and, , in Athens and not, can’t go to the ministries. It is not efficient. We .. err know, when we did this discussion in the previous four or five years, we always had the mission chiefs and discussions with ministers and their senior staff. Uh, policy level discussion with ministers and their senior staff. Then, it was another round of technical meeting and then more meetings with ministers. We had not one single time through the process with  where we had discussions with ministers. It’s not happened. So, uh, there is… it’s, the process needs to improve, uh, so that we can get into negotiations. We are not negotiating, at this stage. I, uh, and I think that is the diff–, also, for the, for the government to be able to move from what is still policies and objective, that are very, very broadly uh, defined and there are not anywhere close to specific action plans. Uh, so I, I think we need to…we need to discuss process also here, how to take it forward. Thank you.\n",
      "\n",
      "yanis varoufakis (24/04):\n",
      "Thank you, Jeroen. It is our, uh, assessment that the deliberations with institutions have picked up of recent. We are, uh, pleased to report that, at least from our side, it seems as if, uh, a great deal of convergence has been achieved, even though it was not sufficient to reach an agreement, yet. But we are very optimistic and very positive, and wholly determined to make sure that, um, uh, we do our part so that the extra mile is covered within a short space of time. Let me, just briefly, um, mention some areas of agreement and disagreement. Just to give colleagues flair of the kind of progress that we have made, both us and the institutions. Let me begin with the example of tax administration. It was, um, um, part of the previous government’s, uh, commitment to the institutions that, uh, the tax authority, the General Secretariat of Public Revenues within my ministry, should be given greater autonomy. And I believe there was worry amongst colleagues, as well as the institutions that our government would want to claw some of this back, to roll it back. Well, I’m pleased to report that not only are we not doing this, but we now have consensus in the government to actually take it further than what the institutions ever asked for. We are, um, interested in and committed to now creating a fully independent tax authority. Independent both of political intervention, interference, but also corporate interference. And we’re keen to work with the institutions in order to create the- this kind of IRS-like, uh, separate entity that looks after public revenues. And as the minister of finance, I have to tell you, on a personal basis, that I’m very much looking forward not to have such control over public revenues. Also, uh, regarding the independence of authorities such as the Hellenic statistical authority ELSTAT, and the HFSF that Mario, uh, mentioned, I believe it was Mario and maybe Klaus, if memory serves. Uh, let me reiterate our government’s commitment to strengthen the independence of such, uh, bodies, uh, in full compliance with what the institutions and colleagues here around the table, uh, consider to be appropriate. On other issues, I- I just- I will not- I do not propose to go through, uh, very many of them, because this is something for us and the institutions to work out in the Brussels group and so on and so forth. But just- I ju- I just want to give you a flavor of the progress as we see it and the reason why we think that we are, uh, on the right path. Maybe we should be moving forward faster, but we are nevertheless on the right path. Uh, take the issue of VAT. There is a disagreement of sorts between us and the institutions regarding the emphasis. Our emphasis goes on collection. Let me give you a brief example. Last year on the famous islands of Mykonos and Santorini, we had tourism, economic activity, tourist activity doubled, and yet disgracefully, absolutely disgracefully, VAT collection went down by 30%. This has nothing to do with the rate of VAT. That has to do with the failure of our tax authorities to collect it. So we put more emphasis on- on collection- on the collectability. The institutions put more emphasis on harmonization and looking at different rates, but I have no doubt that in good faith we can work this out, we can hammer out an agreement on this, uh, which I will not now bother you with as to how exactly it will be- it will manifest itself. On the question of privatizations, I heard Pierre, uh, mention that and- and- and- and Paul mention that there’s been backtracking. I don’t believe that backtracking or rolling back is apt as a description of what we’re doing. After a few weeks of deliberating as a new government, we have now come to a very clear position on this. We are continuing with the privatization drive, only we are resetting the parameters in a way that I think that colleagues, if I was given an opportunity to explain, my se – my hunch is colleagues would agree with what we’re saying. What we’re saying is that privatizations must happen in a way that, um, removes them from the realm of fire sales, which is what we’ve had in the past few years. So, it is not that we are slowing down privatizations, it is that we want to put greater emphasis not on the sale price, but on things like minimum investment provisions by the bidders. We want the state to retain an equity, like it happens in many other European countries around this table. We want to have-uh, in case of regional airports, let’s say for example, we would like greater commitment and planning for an integration of, uh, the new activities in these privatized facilities, with the local economies. So, our purpose is to remove the emphasis or to shift the emphasis away from the, uh, just, you know, the- the asking price or the bidding price and placing it- shifting it towards greater developmental, uh, um, impact and the multiplied accelerated- accelerated effects that these will have. Shifting on very quickly to the question of labor markets. Now, this is where we may agree to disagree with Paul and maybe some others. We believe that, uh, a labor market like Greece’s is not just excessively deregulated as it is, in practice, not so much in law but in practice. But it is a labor market that should all make us particularly worried regarding the degree of informality. When you have a labor market, which has shrunk significantly due to the recession and on top of that, more than 30% of paid labor is informal undeclared labor, one realizes that standard arguments about deregulation fail to connect with the reality on the ground. So, when we talk about, for instance, a role for collective bargaining, that is not simply a return to what we had before, this is not what we plan to do, but a kind of smart collective bargaining framework, um, not different to the one we have in Germany or in other European countries, uh, hammered out and designed together in association with the International Labor Organization for instance, uh, would help bring about a large number of workers into the formal sector again and therefore strengthen the pension system and strengthen our tax state. Uh, non-performing loans is a major issue. It keeps the credit circuits from functioning properly. It keeps our export-oriented companies from being able to fulfill orders and to finalize their transactions with, uh, their customers abroad as a result of the failure to secure letters of credit from the banking sector. These are all issues that we’re discussing with the institutions. These are all issues that we want to settle. And which I think we’re making considerable progress in finding common ground with the institutions. But be- uh, let me finish with a couple of, uh, points. All this, as Pierre very succinctly said, has to be, and I’m sure that Mario and Paul too would agree with, has to be embedded in a dynamically consistent fiscal plan, a dynamically consistent debt sustainability analysis. We are undogmatic about this. We don’t have any fixation about what the primary surplus should be. What we’re concerned about is the method, the method that has been, uh, utilized so far of saying, okay, in 2020, we want a particular debt to GDP ratio, let’s say 120% and now let’s work backwards, and their assumptions about, regarding the growth rate of, let’s say, 3% on average, what the primary surplus must be in 2019, ’18, ’17, all the way to today. And then we end up with a primary surplus, which in our estimation is not consistent with a growth rate, which is implicit, the assumption, for working out this kind of path. So this is a kind of consolidation trap that we want to avoid. And we want to discuss it with the institutions, the DSA, that actually makes dynamically consistent sense. And this is an area of disagreement so far, but this government is absolutely committed to signing on the dotted line of a fiscal plan that makes sense, to us, and which we can fully commit to. Unlike previous governments, you -you will allow me to say, we are not prepared, prepared to make pledges just in order to unl- unlock liquidity that we do not believe are possible to attain. And I hope that the- our partners, the institutions, everyone around this table takes this in good faith and recognizes that this is a government that wants to make pledges that it can fulfill. Finally, on the question of liquidity, I’m very much afraid that we are talking about very few days- week, less than two weeks before we have a serious, uh, chance of an accident. And it is our considered opinion that it will be a shame that these negotiations, which in our estimation, are proceeding along the lines that all of us want and which may very easily, uh, in the next few days or weeks, attain an agreement that is mutually beneficial to everyone, uh, be derailed by a liquidity, uh, sourced failure. Uh, we believe that sufficient progress has been made. And we are determined to put on, uh, to demonstrate constantly our utter commitment to making this negotiation bear fruit, so as to enable the Eurogroup very shortly, even possibly through a teleconference, to make the statement which is necessary in order to create conditions for, uh, relaxing the liquidity constraint. I shall close Jeroen by saying that I understand the view that only major pressure can progress be made and that includes liquidity pressure. But let me also say that too much pressure, too much duress may cause, can cause a breakdown of a negotiation perfectly capable of yielding a successful agreement. So I urge colleagues to help prevent this by creating a roadmap, both for the institutions and for the Greek authorities for what follows over the next few days and weeks. Thank you very much.\n",
      "\n",
      "peter kažimír (24/04):\n",
      "Thank you. Unbelievable. This is my feeling, what I heard just now. Okay, formally I would like to start with this that, I would like to thank, I think all we should thank to the institutions and the ESM for their work both in Brussels and in Athens. Uh, it’s true that that our Greek partners have finally started to open up in the talks but honestly we need a quantum leap forward than where it is now. Uh, we have agreed in February to have a comprehensive list of reforms by end of April. We don’t have it. Instead, we saw reluctance to corporate, backtracking on some measures adopted before elections and fiscal sustainability is volatile. Uh, personally though last month I refused to the union of pensioners in my country. I refused a proposal of a 13th pension introduction in my country. Why? Because medium term objective, fiscal responsibility, fiscal consolidation in my country. You can pay out additional pension to your pensioners if you have money enough. Do we have money enough? I cannot support any agreement with you and at the same time refuse the 13th pension in my country and to just observe 13th pension in your country. And this is backtracking of a measure that, which is, we regret in different ways. So we talk but substance is still missing and so, on this question is if we are still on track to meet our June deadline, this I think is the only question for us. And okay we are ready to help Greece but if Greece doesn’t want our help and conditions accompany maybe the time has come to talk consequences. Thank you.\n",
      "\n",
      "rimantas šadžius (24/04):\n",
      "Could I remind you that we started in February I think from discussing three trajectories of Pierre’s Moscovici and I was the one that – who said that, well the most likely trajectory is the third one, things go as they go, without any progress. Until now we see this. Uh, to find out the way uh, out of the situation, I think we also should recall the first message that was um, said by Michel Sapin, I also recall this in February. The first principle  that we should respect the will of Greek people. I think today we have a full ground of changing this attitude. I should tell you that Lithuanian people that I’m representing didn’t vote for the present majority in the Greek parliament. We even had no chance to say any argument during the election campaign so from this point of view uh, we have no obligation to support the measures that were proposed or given as promises uh, to the Greek people. And I think uh, that we have a full right in Lithuania to look critically at these proposals. Uh since Paul has said that uh, well um, a huge financial assistance is looming some time in the future, I think uh, for negotiating this huge financial assistance, I also will have to explain the measures that have been taken, or have been planned or have been realised or not, uh in Greece. And here I recall first the example that was given by Peter, the 13th pension that would amount to 1 percent of GDP, this assessment of IMF, uh if I recall uh, correctly in Lithuania we have overall 12 pensions of 8 percent of GDP. Which means that the pension system of Greece is unsustainable. Simply it is unsustainable. The second example, the second problem that was uh, widely discussed around this table was uh, the question of minimum wage. It was hidden somehow where I think they haven’t yet made the decisions uh, but still discussing it. To my mind and to mind of many people that I talk around in Lithuania, it would be crazy to increase to that extent the minimum wage when you have uh, 30 percent of uh, unemployment plus 30 percent of gray employment in your country as was said by Yanis. Um these two measures are the most evident things, the most evident points for discussion in the Lithuanian society if uh, further assistance to Greece from ESM would be discussed. People don’t know what the structural balance is, what the private , quite recently and now everyone in Lithuania compares how much we earn compared to other countries. Um, the situation that we do have in Greece now tells me that this country lives not by its means. And what is happening now, I would not call this tragedy. Uh, the lack of liquidity. I would call this natural economic adjustment. So this third trajectory uh, to-to it could be sustainable. This is also Lithuanian experience. We have the same situation in 2009 where we lost one-third of taxation income quite immediately after the uh, financial crisis started. We managed somehow to pay what we had to pay from our resources, then the necessary indispensable decisions, our own sovereign decisions were to cut expenses. We did this. We did this not very simply, now we have some decisions in the constitutional court. We managed to construct a quite complicated legal mechanisms of compensating people in the future which is always the case, which is always the possibility. Another possibility I think for those couple of thousands, which is many, civil servants that Greek authorities consider, that were fired not justly. I think this could solve the problem in the future. But all these decisions, all these decisions should be taken by Greek authorities. But here I think uh, the sovereignty of this country, it should be respected but we, the rest of the Eurozone, we also have a say. We also have a say because what is happening there affects our countries uh and there is no democratic counterbalance for that. Because in a single separate country, if the government behaves not the way it should, uh, there is always people who can elect another government. We have no such possibility, but I think we have a possibility and we should use this possibility today to tell our Greek friends that we care of- very much about. We wish the best success for them, but we can and we should give an advice for them: to undertake measures uh, are absolutely necessary. Of course they will be living for some time, I would uh, I can see this as quite, quite a long time, they will live on their own because uh, I can’t see any possibility to conclude the agreement very soon. But I would strongly uh, agree with proposal of Jeroen. That first, that we should say okay enough is enough. First, we change the mode of discussions. And uh, we should make the proposal for the Greek authorities on behalf of the rest of the Eurogroup to behave differently and to consider very seriously uh, the steps forward. Um, if we get this first result in terms of procedure, this could show us the sign of hope to get real results in discussing the program. Um, as a precondition for getting the final economic financial agreement with Greek authorities. But, uh, on the other hand, our advice would be uh, for Greece to start living on their own. To start not relying on external assistance all the way along and uh, then we shall see what can be undertaken solidly by all the Eurozone countries to improve the situation. But the basics should be done uh, by our Greek friends. And this is our friendly pressure. Please consider this as our friendly pressure. Thank you.\n",
      "\n",
      "yanis varoufakis (24/04):\n",
      "Thank you, Jeroen. I appreciate the difficulties that each one of us faces when we go back home to explain the present circumstances. I was struck by a certain disconnect between the atmosphere as I understand it in the negotiations, the Brussels group in Athens. Between our authorities and the institutions and a certain degree of hostility which I encountered here today. Hostility which I hope is going to simply dissipate and disappear very soon. I accept my Lithuanian friend’s friendly pressure, I do believe that we need to be pressurized. But I believe that all of us need to be pressurized into coming to a comple—a final conclusion to this saga. Let me reassure all colleagues that this government is not going to contemplate even being dragged into the indignity of primary deficits again. We will do whatever it takes, we will introduce whatever measures it takes, in order to ensure that we do not sink into primary deficit. Let me also remind you colleagues that Greece is not a country that has been idling around over the last five years doing nothing in order to help itself and to deal with its major problems. We are the champions of fiscal consolidation in the era of peace time. Our reduction of structural deficit has been monumental. Of course there were many social costs and economic costs as you all know. I don’t need to go into this again, but just hearing the various views around this table today someone who doesn’t know the history of the last five years will be mistaken into thinking that Greece has been sitting on its hands doing nothing. There has been wasted time since the 20th_february and 24th of February Eurogroup agreement. Our idea of how to implement that agreement, and it was one as Jeroen knows well, that we tried to communicate, was very simple. What we needed as a Eurogroup, as the institutions, as we the Greek authorities was to complete essentially a review very quickly, in a few weeks, couple of months at the most, a review what failed to be concluded by the previous government in a much longer space of time, and under very difficult circumstances. Let me remind you colleagues that we were elected after a bank run had already begun, speaking of liquidity. Our idea was that we should agree on a sustainable dynamically consistent fiscal plan and four or five major reform bills that could be pushed through parliament by now or by May. So as to show some action to our peoples, the Greek people, the Lithuanian people, the Slovak people. Everyone. Instead, we embarked upon, and I understand the reasons, there are institutional reasons for that, a full and comprehensive review. Time and again, the Greek government attempted to table very specific policy proposals. But time and again, we were told that this must await the complete and comprehensive review. So my Austrian friend will permit me to say, that it is not true that we did not table proposals. Some of them were actually, against our will, leaked to Financial Times. Another colleague spoke of a deja vu. We have that sensation too. The idea now of returning to the failed process of the troika where technocrats visit ministries and discuss with ministers. That was a model that was utilized in the past which made the Greek population, independently of what we may want as ministers or as the cabinet, made the Greek population very hostile to this process and this is why we agreed on the Brussels group and Athens group um, dual mechanism. I believe that the Commission, from what I hear from them, was very much in support of this mechanism. I do also believe that it is right that in the European Union ministers should be negotiating with ministers and not be interrogated by technocrats. I believed that we had settled this. As far as the efficiency of the process is concerned, I shall come back to this in one second. I won’t be long Jeroen. I just want to mention a couple of points. Firstly to my Slovak colleague, I understand your point about your pensioners but let me tell you that the direction of change matters perhaps matters more than the absolute level. It is one thing to deny pensioners pension rights, it’s quite another to have had what we have had, a sequence of pay reductions. Similarly, with a minimum wage, we would never imagine of increasing the minimum wage now if it hadn’t been reduced to the extent it has. But even that we have put on the back burner. We are prepared to leave this in abeyance until we negotiate. On the question of liquidity, a colleague mentioned that, suggested or opined that the liquidity problem we have is a natural economic adjustment. Let me beg to differ colleagues. The Greek state lives within its means. Has been doing so for a year now. We have a small but nevertheless positive primary surplus. The liquidity problem that we are facing is not due to the fact that we are over–living beyond our means, it is due to the fact that we are in a program which has certain redemptions, repayments particular to the IMF during these months, that have been scheduled. And certain scheduled disbursements which of course have been suspended for reasons that you all know. We have been meeting those repayments out of the flesh and blood of our own state’s liquidity. This is why we have a liquidity difficulty at the moment. We have been meeting, we’ve been scraping the bottom of the barrel of our state’s resources in order to be meeting repayments to the IMF and to other creditors which were meant, according to the program, to the previous program, to the existing program, call it what you might, were meant to be covered by disbursements. If you annualise the repayments that my ministry has made to creditors over the last two months, you will come to an astounding sum of 14.2 percent of GDP having come out of the fabric of the Greek state to meet those repayments. But without, simply because I do not want to carry on along those lines and burden you further, let me say that we can make this work. That Plan B should not be mentioned. It is highly and immoderately anti-European even to bring about this discussion. My dear colleague from Slovenia should know that it is not in the interest of his citizens that we even discuss this at the moment. I reject such a discussion, our government intends to do what it takes in order to remain within the Eurozone, it is a discussion that we are not accepting to have as a matter of principle and as a matter of commitment to the benefits and to the interests of the average European. We can move very quickly along the lines that were already suggested. Let’s agree on a dynamically sustainable fiscal plan, four or five bills that can be introduced in the next few weeks and move on. Thank you, colleagues.\n",
      "\n",
      "yanis varoufakis (24/04):\n",
      "I take it, do you want me to respond now? On the question of process, we are quite happy to discuss a revamping of the process in a way that makes, uh, the convergence more likely, but I must insist that the old ways of the troika visits in Athens, uh, have had their day. At least that is what I believe my mandate is from my prime minister and from the Greek government. I also believe that this was the view of the European Commission and maybe we can be enlightened on this. Secondly, on the question of, uh, backtracking, we are committed, during the negotiation not to make any moves that will jeopardize the negotiation. Our understanding of backtracking may be, of roll, uh, back or of rollback as it’s also called me be quite different. We don’t believe, for instance, that canceling pension reductions, very rapid pension de- reductions in the middle of this crisis as we speak constitutes any kind of rollback, but we are not going to move on until the negotiation has, uh, been completed, we will respect the process. Um, and the final question was?\n",
      "\n",
      "benoît cœuré (11/05):\n",
      "Thank you for your management of Alexander  framework. So there is still much, much to learn from it and from him. Um, moving to Greece, um, let me say a few words on the, uh, market, uh, and uh, banks liquidity situation. Um, markets are certainly waiting for the outcome of today’s, uh, meeting. Um, the, um, higher volatility recently displayed by Greek  Eurogroup, just to give you a measure of the, uh, nervousness of financial markets. Uh, the liquidity condition of banks remain extremely strained and fragile. Um, deposit outflows have accelerated, uh, following, uh, the last Eurogroup meeting, uh, on the 24th of April. This influx reflects the decree on cash pulling of, uh, government of public sector deposits, uh, which is in itself not an unwelcome development. It’s just a mechanical consequence of, uh, public sector entities withdrawing money from their bank account, which is fine. And, uh, and uh, consistent with the, uh, uh, general objective of ensuring the solvency of the state. But it also reflects, uh, deposit uncertainty. Uh, currently is a Greek banking system receives 114, 1-1-4, billion of central bank liquidity, which is 64% of Greek GDP and by far the highest of any, uh, euro zone country. Uh, liquidity will continue to be extended by the, uh, Central Bank of Greece, uh, as long as Greek banks are solvents, uh, and have, uh, sufficient collateral, uh, and as long as, uh, this liquidity extension, uh, does not constitute monetary dependence of the government. Uh, however we should be aware that collateral is limited, uh, and that the value decreases when, uh, Greek government bonds raise. Uh,  purpose, uh, including the applicable haircuts. Um, these had been discussed in the governing council last week, uh, and the governing councils closely, uh, monitoring the situation. So the bottom line here is a financial situation of banks is, uh, increasingly fragile, uh, and it’s crucial that we see next steps, uh, to come to an agreement, uh, to help restore market confidence and, and deposit of confidence. So in this perspective, we welcome very much the confirmation by the government that the, uh, uh, payment to the IMF tomorrow, uh, will be made. Uh, and let me just, uh, uh, let me just, uh, uh, comment that, uh, any, uh, um … That the government not, uh, uh, meeting an international commitment would have a, uh, severe and po-potentially devastating, uh, impact on the, on the  harm Greek economy. Um, on the um, review. Uh, and just, uh, to follow up on what Pierre has said, on the process, we also welcome, uh, the, uh, notable improvement in the discussions in the, uh, in the Brussels group. Um, still the process is far from optimal. Uh, logistic, logistical constraints have slowed down progress. Uh, direct discussions with relevant ministers, uh, would have been desirable. And this is not only a question of efficiency, but also a question of ownership by the, uh, various ministers. So it’s crucial, uh, that the Brussels group discussions has a backing from the entire, uh, government. Turning to substance, uh, we’ve seen progress in, now in some of the existing policy differences, uh, that relates to the macro economic collections for ’15 and ’16 as Pierre has said, had said, uh, where it should not be too difficult to agree on the common deadline. Uh, also, the authorities have shown openness to consider a significant simplification of the VAT, uh, system for reducing the number of freights and limiting the exemptions. Uh, discussions are continuing onto the appropriate fiscal targets. Uh, and we also welcome the government’s intention to, uh, bolster the autonomy of the, uh, revenue administration. Um, so in these areas and agreement  surplus targets, which would not be underpinned by, uh, the credible package, uh, of fiscal savings, uh, would lack credibility. Uh, and, uh, there are o- other important areas where differences, uh, between the political proposals of Greek government, uh, and what would be required, uh, for conclusion of the review, uh, are still very large. Um, so I’m not doing to restate what Pierre just said. Let me just reemphasize a few examples, uh, of policy areas where significant further work is needed. Um, apart from the possible simplification of the VAT, uh, system, uh, the government has not made any substantial proposal for, uh, solid structural revenue expenditure of these consolidation measure, which, uh, underpins a point that any fiscal targets should be backed by, uh, uh, permanent and, and tangible, uh, measures preferably on the, on the, on the uh, on the spending side. Uh, privatization targets are still for substantially short for program requirements and they’re not very specific. Um, the, um, policies for the pension sector, uh, still, uh, lack a, a coherent strategy. Uh, and the, uh, from an ECB standpoint, the non-performing loan, uh, eh, problem, uh, requires special attention. It is, uh, essential that the code of , uh, consultation process. Um, the government’s policy intention is there is area of pensions are clearly, uh,  the programs. So again, this is a scenario where that can be pluses and minuses, but, uh, we, uh, we, we have to discuss the pluses and not only minuses. Uh, regarding product market reform, uh, the government’s policy intentions still lack, uh, ambition and fall short of the program, uh, requirements. Uh, and we also believe that the government should move ahead with the social welfare review and, uh, consider the national  guaranteed minimum income scheme. That is a very important point, uh, because that is about achieving fairness, uh, uh, in the structural reform, uh, program. And, uh, we believe that fairness would be better ensured through a, uh, a, an overlay, uh, general scheme done by, uh, twisting all, uh, individual reforms, uh, toward the distribution, toward the distribution and fairness would be better achieved, uh, through a, uh, uh, uh, uh, a general scheme, uh, uh, allowing other reforms to focus on, uh, on efficiency. Um, so taking all of these together, uh, there has been a narrowing of differences in the limited number of areas. Uh, policy gaps remain large, uh, in others. And the conclusion is that that’s still, uh, a considerable distance, uh, of conclusions of the review. Uh, we need rapid progress, uh, in those areas, uh, where differences remain large. This requires further technical work, uh, in parallel with discussions with the Brussels group, um, and it requires significant, uh, movement from the side of the Greek government. So it’s all possible given the improved, uh, uh, work, uh, uh, atmosphere and improved, uh, trust and working relationships in the Brussels group. It’s all’s, it’s all possible, but there’s still a lot of work.\n",
      "\n",
      "poul mathias thomsen (11/05):\n",
      "Thank you Jeroen. So, i, I agree that, uh, we agree that, uh, there has been progress, uh, both as far as process and as far as substance, uh, concern. On the process, uh, uh, the dis-discussion in the Brussels group have become more open, more cooperative and, and, and better focused on lead negotiator report directly to the prime minister. And this is indeed a, a good news. And I joined Pierre and Benoit for, uh, having listened, uh, uh, uh, to the call for, for improving the process. This being said, uh, the process could clearly improve further. I think it’s important that we are open about this in lieu of the urgency of the situation and the need to be sure that the process does not become an obstacle to a timely conclusion. The main remaining problem is that ministers responsible for policy implementation are still not participating in the discussion. No minister have yet been to, eh, included in the deliberations in Brussels, uh, in, in the Brussels group. As a result, while technical experts finally joined the discussion as last week, they too often still do not have sufficient political gui- political guidance and the information received at the technical and political levels is sometime inconsistent. Moreover, eh, it’s been one of the commitments by negotiators in Brussels are still offer being contradicted by public statements or, or drafting legislation by line ministers in Athens. I think bringing ministers to the table would help overcome these problems. In any case, and I, it’s important for me to stress that fund management will need to be assured before endorsing a program that ministers responsible for implementation support the agreed policies. Again, we do agree that the process improved no-notably, and this is why we are making some progress. So on the issue of substance, eh, I think there has been progress so far in a, in a, in, in three areas. On the VAT reforms, eh, the authorities have, have suggested that they might consider to broaden the base by sign- essentially unifying tax rates with a few exceptions. They still need to indicate that they have sup- political support for this option and agree on tax rates and limitations on exemptions that ensure a notable positive revenue efect. But I think it’s fair to say that this is emerging as one of the potentially more promising areas for common ground for major reforms. Secondly, on the autonomy of revenue administration, this is an area where the authorities initially reversed reforms, uh, that had been made in the past to increase autonomy, including by adopting legislation that, that established in effect, the panel of tax administration undermine the effectiveness of the tax administration and increase the room for political int-interference. I think they … it’s clear signals that they intend on changing course. Uh, and, and, and, and, and understands the importance of a more autonomous agency. Here too, we still need to specify concrete critical details, but this also is an area where I see signs that we could agree on significant reforms. Third, insolvency framework. The authorities committed to undertake a series of reforms of the insolvency framework and, and, uh, and they have provided a draft strategy. Here too, critical details need to be specified and agreed within a comprehensive framework. So this is, this is good news. Uh, uh, uh, it is, it, it’s good news that we have progress in these areas. As others pointed out, it’s, it’s the progress on, uh, on broad objectives and principles and we need, we still need to agree on how to get, on how to achieve it. What are the concrete details? In all the areas, however, including some of the most important ones, we have not made much progress and policy differences remains significant. On the 2015 budget, there are still some differences of views with regard to what should be the primary surplus target for 2015, but the more important difference is that the authorities appear to believe that the fiscal targets can be achieved without any significant additional concrete measures requiring legislative changes. While we are still in the early stages, uh, uh, the authorities appear to believe that these targets can be achieved largely to efficiency measures. Uh, uh, and, and, and as I said that there’s no need for, for, for, for parametric or legislative changes. This is simply not realistic given Greece’s extremely weak administrative capacity and poor historical performance with sorts of administrative measures. The government needs to stand ready to undertake structural fiscal reforms that involves  changes approved by parliament. In this regard, as we have said before, tax rates have already been increased too much on a narrow base and all other expenditures and pensions have already been cut to what is likely to improve unsustainably low levels. It is simply not possible for Greece to meet the ambitious t- ambitious targets for the primary surplus that are still on the table without one comprehensive VAT reform to broaden the tax base and to in particular without pension reforms to reduce but remains exceptionally generous pension benefits. And suspension reform would need to produce significant savings, savings in the coming years and not in the distant future. Moving on to structural reforms, this is certainly not the time and place to go into, into a detailed discussion. The big picture is that most of the major areas for reform, notably pension reform, civil service reforms, public administration reforms and the labor market reforms. Uh, in most of these areas, the s- in all of these mentioned areas, the authorities are significantly backtracking, reversing policies already in place or saying the intent to reverse policies already in place and going back on program commitments about the future. We understand and I want to be clear about that. We understand that the authorities acknowledged that no reforms are not an option and that they, the point to them is that they want to do things differently and we of course accepted. But generally they have not told us … They, they have told us what they do not want to do, but they have not told us what they want to do. They, they have told us what they want to subtract, but they have not told us what they want to add. So until we know what to add, we will in a situation where there appears to be a track of undoing many of the key reforms implemented since 2010 without putting anything else in, in, in, in, in place. In conclusion, although it should improve further, the process now clearly works better. This has enabled us to finally start making some tangible progress on substance, although details still needs to be specified in all of these areas. We’ve definitely made progress. Moreover we are still, there are still, uh, uh, uh, uh, important differences in some of the most, most important policy areas. In general, the government still needs to be much more concrete about what it wants to do. Let me, uh … And I, I think, uh, it’s, it’s certainly encourage, courage, encouraging that we are making progress, but we obviously still far away from, from the staff level agreement. And uh, uh, uh, I, I, I, I join my two colleagues in, in, in, in encouraging the authorities to, to redouble the effort, given the, the, the time constraint and the urgency. Finally, and I should be very brief in, in, in view of the leaks from Riga and the press statements about the … misleading press statements of what I said about getting that sustainability. Let me be sure that there are no misunderstandings. To be very clear, we are not pushing for debt relief. We are not. Rather from a debt sustainability point of view, you would agree that there is an inverse relief, inverse relationship between the strengths of, of, of reforms and the amount of relief that would be required. What I said in Riga was, if there are major deviations from the program in the form of reduced targets and weakening of reforms, in that case, more financing would be needed. In this regard, carrying on more debt in a situation where Greece indebtedness is already very high, would point to the need for a more comprehensive debt measures than currently assumed. Thus, we would not be able to significantly weaken the program without accepting the need for significant move from the financing and significant move of debt relief, just to clarify. Thank you very much.\n",
      "\n",
      "yanis varoufakis (11/05):\n",
      "Thank you very much Jorun. Uh, let me start also, uh, with a comment on leaks. Um, it would be good if there were none, but if there are leaks, it would be good if they were accurate. I never heard Paul Thompson, uh, discuss, uh, debt restructuring,  in Riga and I never had any one of you, uh, hurl abuse at me or personal insults despite what was, uh, um, widely reported in the press. So please, no leaks. But if you leak, if anybody leaks, they might as well be accurate with the leaks. Now, colleagues, over the last, uh, three months and especially after the 20th_february, Eurogroup agreement, we’ve been striving to find common ground between the pre-existing program and our government’s priorities. It hasn’t been easy for reasons that were mostly political, but also partly to do with process, technical. A very belief comment here because, uh, several, uh, representatives of the, uh, institutions mentioned it, how it will expedite the process if ministers were part of the Brussels group. Let me say that this is something that, uh, uh, we have very strong views about and which we have discussed with the commission in particular – ministers only talk to ministers. And this is a principle that we have to abide by. It’s the principle of, uh, the Greek government, which I’m simply mandated to convey to you now. Now, nevertheless, we believe that the last fortnight as was said here by others, has produced substantial progress, partly because of a tightened negotiating process that removed procedural inefficiencies, but primarily because of major concessions on the Greek side. Agreement has not been reached, despite the substantial convergence achieved. The institutions wish to suggest that this imperfect convergence may be due to our, uh, reluctance to move further. Our side could retort that convergence has not been reached, because the agreement point has, has not, uh, appeared on the horizon due to the stance of the institutions. But it would be imprudent to enter into such a fruitless exchange at the moment. This Eurogroup meeting must help the negotiations move onward toward a successful outcome and refrain from anything that may impede that progress. This is what our mandate is at this crucial time for our currency union, for our country. So in this spirit, in the spirit of helping the process along, it is important and right that the substantial progress that has been made and the substantial concessions by our side be acknowledged in our communicate today. We have, as you heard, moved very substantially towards an independent tax authority. We have tabled particularly radical views of this, radical by the standards of any great government. Let me refer to something that was said. I think it was Paul that said it about backtracking there initially. It’s a very simple situation. The tax authority that the, that the general secretary for public revenues is part of my ministry. I am politically responsible for it. It has a quasi autonomous, um, existence at the moment, which means that I have political responsibility for what it does without having any authority over it. To enhance its autonomy while retaining the responsibility of the minister is to have responsibility without authority. And that is not something that is like, I think it wouldn’t be acceptable to any of you. So this is why I suggested let’s go the whole hog. Let’s render it, let’s just excise it completely from my ministry, thick walls of my ministry and turn it into a fully independent authority like the IRS for instance, which is answerable to parliament. I won’t bother you further with this. I think that we have a very good understanding of this with, with the institutions. On the question of the NPLS, there’s been significant progress towards convergence agreement on this question. On VAT, it was, um, our side that initiated the discussion about harmonizing, having two different rates and rationalizing the system, the question of pinning down precisely what those rates must be. And I’m here referring to something that Paul said, um, is something that we’ll have to do very carefully so as to ensure that on the one hand, yes Paul, you’re right, we have to increase the, the, the VAT, uh, take. But secondly, we must not make assumptions that, uh, raise the top rate too high and have the opposite effect. If at the moment we assume zero elasticity and we simply, um, pitch the top rate where it would have to be, if there was no increase in sales and VAT collection, then we will end up with such a high rate, the top rate, that we will, we will be doing damage to the potential tax state. So this is something that we really need to study properly and not simply, um, leave to horse trading at the Brussels group over a period of a few hours. This is very serious business, as I’m sure everybody agrees. On the questions of pensions, our government has moved away from the 13th pension idea for people, for pensioners below 700 and towards targeting, um, pensioners below the poverty line and targeting them efficiently. Uh, I know that the term 13th pension jars with lots of you. In our culture, it doesn’t, because it wasn’t really a 13th pension. It was simply a way of calculating annual payments, uh, in terms of simply giving more installments. Uh, I think that there’s significant pro-, um, uh, progress there. Now the idea that it’s kind of backtracking to eliminate the zero deficit clause that the previous government accepted and introduced, we would like to challenge that. I don’t want to bother you too much with this, but we have a view that city, simply cutting down pensions is not informing them. Maybe we need to cut them down. But to reform the pension system, we have to render it sustainable. And that means finding ways of boosting employment. Very importantly, reducing undeclared labor, which is now around one third of all paid labor. And you can understand that th- … Th-th-that number is just horrific. No pension system can really be rendered sustainable when you’ve got a third of paid laborers, employees, um, undeclared in the black market, so to speak. Um, we certainly are moving towards closing down all the windows that are making earlier diamonds, not only possible, but also, um, a method by which certain corporations and companies are pushing workers off their payroll onto the pension fund system. Uh, on the question of the Greek statistical office, they’ll start. Uh, we have drafted legisla- legislation that increases transparency, um, and accountability. These two have to go together. You can’t have an independent statistical office if it is not accountable and transparent. Now on the question, let me just say that other questions of macroeconomic focus that Paul referred to, I think we have significant convergence on the, of the two sides. Our focus of, of real GDP growth for 2015 differs from that of institutions only marginally, I would say within the realm of statistical error. And the real difference is not so much about nominal GDP, but it’s about the deflation rate. If we agree on the rate of deflation, then we will get much closer on the, o-o-on the real GDP growth. And this is important because our rate of deflation at the moment has been exacerbated by the standoff and the liquidity squeeze. It’s a monetary phenomenon as everybody knows. Now, besides the importance of acknowledging these concessions and their contribution to the conversions that we’ve all observed, it is also important to ensure that our communicate today plays a role in securing the advances we’ve made so far. And preventing any untoward events that might cause unnecessary plo-problems both for Greece and more broadly. I’m referring of course to my government’s capacity to function and to meet its obligations while the negotiations continue. Let me remind you colleagues that even though we have no market access, we haven’t had market access for a very long while, and we have no disbursements for eight months now. Our government is continuing to meet all its obligations to international creditors. We will be doing again this tomorrow morning. Indeed, our government, since our election has made payments to international creditors without market access or disbursements amounting to 14% of GDP in annualized terms. This is quite an extraordinary effort that must be acknowledged, together with an acknowledgment that these payments have been made at the expense of a virtual cessation of payments to local Greek creditors of the government, for instance, to suppliers of the Greek state. In addition, as is well known and I think Benoit mentioned it, we have dipped into every available reserve of the Greek, of the general Gre-Greek government, be it the health service, universities, willing municipalities, et cetera. Now, this extraordinary effort to fulfill our obligations to the IMF primarily and other creditors must receive its the acknowledgment in today’s communicate. On several occasions, we have been assured that as long as there is, as there is progress in the negotiations and convergence, the Greek state will have access to the liquidity necessary to carry on with its essential functions. I believe it is beyond the out that the negotiations have been progressing well enough to justify our expectation that the assurances that are just mentioned concerning our liquidity be upheld. Now, let me inform you colleagues that this is not quite so at the moment. We have now reached the point, as we speak, where the slightest perturbation in our tax revenues from a day to day basis or in our expenditures … Let me give you an example: suppose there is an extensive forest fire of the kind that will become forthcoming soon, given the change in seasons. Any such perturbation may well cause an accident. Also, and this is important having dipped into se-, so many organizations reserves, we run a serious risk that essential services may be jeopardized by unforeseen, yet not improbable events. In short, the assurance that as long as there is progress in the negotiations, the Greek state will have access to the liquidity necessary to carry on with its essential functions is currently not fulfilled, I’m afraid. It is for this reason and with the view to allowing the negotiations to converge fully into an agreement point that our government requests of today’s Eurogroup, that our communicate contains whatever phraseology  is necessary to allow the relevant institutions to top up our state’s liquidity to a level consistent with the reassurances I just mentioned. Lastly, let me ask a question that no one has asked me in this context out of courtesy, I think, but which I’m sure that many of you have on your mind. If our liquidity is so low, why don’t we just move faster in the negotiations? Why do we not bridge the gap on the outstanding issues much more quickly? I’m sure this is the question that most of you have in your mind. Let me answer this question, colleagues, that the answer is that we had determined that the agreement, which will result from these negotiations will be wind that we shall see through. That we shall be able to look at you in the eye at the time of signing the agreement and genuinely say, “We, the Greek government, can do this,” but the see this, we must believe that the fiscal targets, the pension labor market reforms, the product market reforms and so on, that all those parts, elements of the agreement, will be targets that we can reach maybe with a huge effort. Not maybe, definitely with a huge efforts and it would be the forms that we can excite the Greek people into supporting, unlike the previous unhappy experience with the programs reform agendas. So signing off on an agreement that we do not think is right, that we do not think will achieve the Greek targets would be an act of dishonesty to our partners, to you, and to our people. I have no doubt that no one in this room would want us to sign off, uh, dishonestly. Repeating mistakes and misdemeanors that past Greek governments committed. So to conclude, much prog-progress has been made. More progress is necessary. We can reach an agreement soon. But to get there, we need a communicate this evening that creates the right atmosphere both in here and outside and allows all of us, including the institutions, to do what it takes to smooth in the bath to the agreement point that I’m sure we’ll, we all want. Thank you Jeroen.\n",
      "\n",
      "jeroen dijsselbloem (18/06):\n",
      "Perhaps as a follow up this discussion, when we come back maybe after the summer, also on- on those issues, let’s say the downside issues, for pension funds, insurance companies, and what that would, uh, uh, mean in terms of policy. Uh, perhaps we can have a second round, uh, on- on those, uh, issues. .\n",
      "\n",
      "yanis varoufakis (18/06):\n",
      "The EKAS that Pierre mentioned, from the lowest of the low of pensions as the institutions have asked. Because that would push the poorest of the poor into grave- d- greater poverty and create a wave of hostility to whatever agreement and r- reform package we agree upon. In our proposals to the institutions we have offered very serious reforms. We’ve offered an extensive, but optimized privatization agenda spanning the period from this year to 2025. We’ve offered, offered, proposed the creation of a fully independent tax and customs authority under the aegis of the provision of parliament so that politicians, uh, but also corporate interests, h- hold no sway over tax collection. We proposed a fiscal council that oversees the State budget, a short-term program for limiting foreclosures and managing non-performing loans, judicial and civil procedural code reforms, liberalizing several product markets and services, am- elimination of many nuisance charges. Public administration reforms introducing, for instance, proper staff evaluation systems, reducing non-wage costs, modernizing and unifying public sector payrolls. In addition to these reforms, the Greek authorities have engaged the OECD to help our government design, implement and monitor a second series of reforms. Only yesterday I met with the OECD’s Secretary General, Mr. Gurría, and his team and mine announced a joint reform agenda complete with a specific road map that we’ve, we’ll focus on. A major anti-corruption drive and relevant institutions to support it, especially in the area of procurement. Liberalizing the construction sector, including the market and standards of construction materials. Wholesale trade liberalization. The unification of, uh, electronic and press codes of practice in the media. One-stop business centers that eradicate the bureaucratic impediments to doing business in Greece. Help on the front of pension reform, where the emphasis will be on proper long term actuarial studies, the phasing out, almost complete eradication of early retirements; the reduction in the operating costs of the pension funds; pension fund consolidation. Yes, colleagues, Greece needs to adjust further. But what we are calling upon is to agree with us, to concur with the difference between reforms that are attacking parasitic rent-seeking behavior on the one hand, or inefficiencies and, on the other hand, parametric changes that jack apt- jack up tax rates and reduce benefits to the weakest. We need a lot more of real re- reforms and a lot less of the parametric type. Now, much has been said about backtracking on labor market reform and our determination to bring in to the equation again, collective bargaining agreements in con- collaboration with the International Labor Organization and the OACD. Is this some kind of left wing fixation we have with collective bargaining? No, it is not. I’ll give you an example: Young workers in several chain, uh, stores get fired as they approach their 24th birthday so that this employer hires younger workers in their place to avoid paying them the extra €80 a week, or a week … A month, I should say, which along the lines of existing minimum wage legislation applies to under 24 year olds. Or take the case of employees who are hired part-time for less than €300 a month, but which are, who are made to work full-time and threatened with dismissal if they complain. Without a system of smart collective bargaining agreements these abuses abound with ill effects and competition because decent employers don’t do this and they have to compete against employers who do. But also with ill effects on pension funds. Does anyone seriously think that the introduction of a well th- thought out collective bargaining, uh, framework, in collaboration with international instit- institutions, like the ILO or the OACD, constitutes reform reversal or backtracking? We don’t think so. Now, briefly allow me to turn back to pensions. Much has been made of the fact that the pensions account in Greece form more than they did in the past, as much as 16% of GDP. However, consider this: Pensions have shrunk by almost 40/45%, and the number of pensions, pensioners, is stable. So expenditure on pensions has fallen but the percentage has increased because GDP has collapsed over the last five years. Our alleged backtracking on pension reforms is that we have suspended the further reduction in pensions that have already lost 40% of their value when, and this is important, the prices of goods and services that pensioners need, like pharmaceuticals, have hardly moved. Consider this rele- relatively unknown fact: Around one million families, that is a very large number in a population of 10 million, survive today on the meager pension of a grandfather or a grandmother as the rest of the family members are unemployed in a country where only 9% of them employed have ever collected any unemployment benefit. Diminishing that one solitary pension in those households is tantamount to turning a family into the streets. This is why we keep telling the institutions that, “Yes. We need pension reform. But, no. We cannot just cut 1% of GDP off pensions through one way or the other without creating substantial hardship and also giving another turn to the wheel of the recessionary forces.” If 1.8 billion is taken out of this economy from the lowest of the low of social strata if you take into consideration the multiplier effects that the IMF has con-, uh, confessed in the past to have underestimated. We’re talking about another spin of the deflationary wheel. Now, I suppose that institutions are asking us to eliminate these solitary, solidarity pensions, the EKAS, because already this, the, the, the distribution of pension income has been compressed so much that if you’re going to reduce pension costs today by 1% of GDP you have to attack the lowest of the low of pensions. It can’t be done any other way. Structural reforms, colleagues, of course, promote b- growth potential, but mere cutbacks in an economy like Greece is, promote recession. Greece must adjust by introducing genuine reforms, as I said. But, at the same time, going back to Doctor Blanchard’s que-, uh, answer, or question, I believe the institutions need to adjust their definition of growth enhancing reforms to acknowledge that parametric cuts and tax hikes are not reforms that will help Greece today. Now, colleagues have remarked in the past in the Eurogroup, and I understand that, that our pensions are higher than theirs, and they fear that the Greek government may be having designs to ask in the context of a transfer union that we do not have, as Pierre said, for your pensioners to be supporting ours. Let me be very clear on this. We’re never going to ask you to do this. We’re never going to ask you to subsidize our State, our wages, our pensions, our public en- expenditure. Indeed, this is not a transfer union. But, colleagues, the Greek State has been living within its means for a while. Over the past five months we have even managed, despite zero market access and zero disbursements, to repay up to eight billion to our creditors and do intend to keep doing so. Now, I understand there are concerns that our government may slip into a primary dece- deficit again. And I think, I, that this is the reason why the institutions are pressing us to accept large VAT rises, parametric changes and parametric pension cuts. Now, while there’s a view that the announcement of a viable agreement at early next, uh, early next week I, we, one hopes, will suffice to boost economic activity sufficiently to generate a pri- a healthy primary surplus, I understand perfectly well that our creditors, you, may have cause to be skeptical and to want safeguards, an insurance policy against our government’s possible slide into profligacy again. This is what I believe lies behind Doctor Blanchard’s call for the Greek government to offer, and I quote, “Truly credible measures.” So here comes an idea: What we consider to be a truly credible idea. Instead of arguing over half a percentage point of measures or whether these measures should be parametric or, uh, administrative, how about a deeper, more comprehensive, permanent reform? An automated hard deficit break that is legislated and monitored by the independent fiscal council that we, and the institutions, have already agreed upon? The fiscal council would, under this agreement, monitor the State’s budget execution on a week by week basis, issue warnings if a minimum primary surplus target looks like being violated in the foreseeable future and, at some point, the fiscal council, the independent fiscal bo- council could trigger automated across the board horizontal reductions in all State outlays so as to prevent the slide below the pre-agreed threshold for the, for the primary surplus. That way we will have a fail safe system that ensures the solvency of the Greek State and its primary surplus while the Greek government retates, retains the policy space it needs in order to remain sovereign and able to govern within a democratic context. Consider this a firm proposal that our government is prepared to implement as part of an immediate agreement. Now, given that our government will never again need to borrow from our ta- from your taxpayers or from the taxpayer standing behind the International Monetary Fund, the debate should now move, or should quickly move, from pensions and VAT to the very central question about primary surpluses. How large should they be? Does anyone seriously believe that the growth rate of an economy like ours who’s been deprived of serious bank credit and investment flows is, uh, independent of the primary targets set? The IMF understands fully that the two numbers are linked endogenously. And this is the reason why Greece’s public debt must be looked at once again. Our large debt overhang should be thought of as a large unfunded tax liability. While it is true that the HFSF and GLF slices of our debt are long dated and the interest rate is low, it is also true, colleagues, that the Greek State’s unfunded tax liability, our debt, features a lumpy component that impedes investment and recovery today. I am referring here, in particular, to the 27 billions of SMP bonds still held by the ECB. Now, this is short-dated, unfunded liability that potential investors in Greece, even after an agreement has been struck, will take a look at and turn back because they can see the funded gap this part of our debt creates because they recognize that this lump of 27 billion on the books of the ECB stops Greece from taking advantage of quantitative easing while, at the same time, creating a short term funding gap. It is indeed an irony, perhaps a cruel irony, irony, that the country most afflicted by deflation in the Eurozone today, is the one, the only one, effectively, that is excluded from the ECB’s anti-deflation remedy, and it is excluded even after an agreement has been struck because of this lump of 27 million, billion of SMP bonds. So our proposal of this front is I, we believe simple, efficient and mutually beneficial. We propose no new monies, not one fresh Euro, for our State. No new debt for Greece. But imagine the following three part agreement to be announced at a press conference over the next few days. Part one: The deeper reforms that I mentioned, including the automated hard deficit break that I suggested. Second part: A rationalization of Greece’s debt repayment schedule along the following lines: First, to effect an SMP buy back from the ECB, Greece would acquire a new loan facility from the ESM, would use it to purchase the SMP bonds back from the ECB and to retire them. To underpin this loan, like every loan agreement needs a conditionality, we could agree that the deep reform agenda that will be part of this agreement acts as a common conditionality for successfully completing the current program and for securing the new ESM arrangement that comes into operation immediately afterwards and runs concurrently with a continuing IMF program until the end of March 2016. Short term funding relies on the outstanding disbursement for the current program. And medium to long term funding is completed by the return of the SMP profits coming up to about nine billion out of the 27, which will go, could go into an us- escrow account, doesn’t come to Greece at all even, so as to repay in the medium term, the IMF. And part three of this agreement, as we envisage it, is an investment program for kick starting the Greek economy. Nothing to do with the Eurogroup that would, could be part of the Junker Plan, the European Investment Bank, with which we are in talks already, the ABLT and other partners, who will be invited to participate, also in conjunction with our privatization program and the establishment of a development bank that aims at developing, reforming and collat- collateralizing public assets, including real estate owned by the State. Does anyone doubt that such a three part announcement would dramatically change the mood, inspire Greeks to work hard in hope of a better future, invite investors to a country who’s asset prices have fallen so dramatically and give confidence to Europeans that Europe can even, at this eleventh hour, do the right thing? Colleagues, I close by saying, at this juncture, it is dangerously easy to think that nothing can be done. Let us not fall prey to this state of mind. We can forge a good agreement. Our government is standing by with ideas, with a will to compromise further, and with a determination to cultivate the two forms of trust necessary to end the Greek gov- the Greek drama. Your trust in us, and the trust of our people, both in their government and in Europe’s capacity to produce policies that work for them too. Thank you.\n",
      "\n",
      "christine lagarde (22/06):\n",
      "Thank you very much. Um. I think this document that we have received is actually both um strategic and smart. It’s strategic because it was released, certainly to us at uh half past midnight in version one, at eight am in version two, and ten am in version three. So I don’t know whether version four is coming or whether we’ll have something else to expect but  it’s very strategic. And it’s coming so late, which sadly the way because we could have made much more progress had we had the opportunity and the time to just go through the general proposal. It is smart in the way that it seems to use the framework of what we have called repeatedly the aide memoire, which as you will remember is this document which cannot be really shared without issue with some parliament but which is in and of itself uh a diluted version from the aide memoire so this strategic and smart document is moving in that direction, of the aide memoire but is certainly not the aide memoire as it is. Neither from the fiscal standpoint, which is also very smartly addressed, nor in the content, nor in the structural reforms, nor in the smart omissions that  here and there put in the document. So having been negative, as is quite often expected from the IMF, but honest to what I have had about twenty minutes to go through, I think that they are positive moves in quite a few directions but it lacks specificity, it’s only semi comprehensive, and we need to actually sit down and do some real technical work in order to assess what will be unleashed by the various proposals. We cannot say because there is point zero X of VAT or point zero Y of VAT or because there will be additional contributions to finance the pensions system as is proposed in some instances, it’s going to bridge the gap. What I’d do a simple, stupid exercise of comparing what we had in the aide memoire which was one percentage GDP out of pension reform, one percentage of GDP out of VAT reform, and half a percentage of GDP out of subsidies reform. It doesn’t add up for the moment but I don’t want to prejudge because we have not had time to actually do the work that needs to be done. The only comment that I would make on the substance is that we find it quite growth unfriendly, which is exactly the opposite direction of what we like to take going forward to make it more growth friendly. Is it going to be 100% growth friendly? Probably not, difficult in the present circumstances but it doesn’t have to be very growth unfriendly in that it focuses on additional contributions on labor where the labor costs edge is already… which is already quite high and I adds to the corporate tax, which as we know is historically difficult to collect, in many countries but in Greece in particular. On the structural reforms, uh we are I think a bit short on many points but as I said, don’t want to go into the details of it unless we have the time to do the work and the three institutions can come to a fully… a very common view which is what we, um, intent to work towards. In terms of process, I’m very much looking forward to the teams sitting down, very promptly this afternoon in order to assess and measure the contributions of the proposals, identify the gaps, and see how it can be bridged. I think that needs to be done promptly. I’m not too sure that the next two day will be sufficient but I’m certain that it will not be sufficient to reach, what under IMF jargon we call a staff level agreement, which requires that there be a list of prior action, financing for the next 12 months, assurance of financing going forward, and a debt sustainability analysis which will be a factor of the current debt and possibly debt reparation. Having said that, I’m sure that alternative sequences can be envisaged and from our perspective we are very keen to sit down from 3 pm onwards and to hope that there is broad support in Athens for what is clearly a change of approach by the authorities.\n",
      "\n",
      "yanis varoufakis (22/06):\n",
      "Thank you very much, Jeroen. Uh thank you to the institutions. Let me get one thing completely straight in the response to Christine’s uh, comment about uh the smartness of strategic element in the way and the timing of the presentation. Christine, let me assure you that there was no strategic delay involved, the reason why you got it late was because we were working very, very hard. Colleagues, you have to understand that the kind of compromises that we have affected, that we have introduced to this… in this text are politically extremely difficult. It’s not simply a question of three or four of us sitting around a table and deciding them, uh the reason why there was uh a second version during the night, I was not aware there was a third, but I don’t believe there was a third, there was a second version during the night was because, uh, there was some technical details that had to be corrected. There was no, uh, political change in the middle of the night. Christine, uh you, you you you described the approach that we have taken as ‘smart’ and I suspect what you mean, uh and I think I’m faithful to the spirit in which you said it, is that we we we are trying to fudge, we are trying to stay within the institutions expectations of us but at the same time not to. This is how I understand, uh your, your uh, your point. Colleagues let me remind you that our guiding principal, and I think we all agree on that is the 20th_february Agreement. And let me remind you that it took three EuroGroups to reach that agreement, and the whole point of that agreement, especially if you read the text of 20th_february, was to establish common ground between the existing MOU, the existing program, and the new ideas this government was elected to pursue. This is precisely what we are doing now. So I believe that the approach we have taken is fully in the spirit of the 20th_february Agreement. We’re trying to find the common ground between a program which um in the um opinion of many, including some within the IMF I believe, has failed to achieve its targets, the targets that were set in 2012, uh there were various uh how shall I say? Um, failures, predicted failures that were involved in that program. There were clearly huge failures on the Greek side, in terms of implementation, in terms of achieving the growth targets that were set, and at the same time we need to stay within the framework but at the same- but bring up to the new set of circumstances and put together a reform package that we can push through the Greek parliament, push through your parliaments, through your governments, and make a success of it. So it is quite clear, and I welcome the view of the uh, other institutions as well as Christine’s, that this is a framework for reaching an agreement, for founding an agreement on, within it. Uh as you can see, we have made great strides at, uh, um, meeting the institutions all the way, in terms of the fiscal targets. In particular the primary surplus numbers of 1%, 2%, 3% and thereafter 3.5%. We have um put forward parametric measures, more than what was asked by the institutions. The institutions were asking for two and a half percent, we have over parametric measures of 2.8% by 2016. The difference here is that the VAT target that the institutions presented to us of 1%, we do not believe we can extract it parametrically without any improvements in collectibility. We believe that, on the basis of a pretty thorough uh meso-economic, partly micro-economic, partly macro-economic analysis, that the best we can do parametrically is about 0.75% uh of GDP through parametric measures. Now, there seems to me that there is a small incongruity here on the part of the institutions, in particular of the IMF, the argument that was being put to us as to why we need to simplify the VAT code, um, was that it increases collectibility. But when we agreed on that and we proposed a major simplification of the VAT code, we were asked to produce numbers parametrically, assuming that there is no improvement in collectibility. I just want to mention that as an indication of the, of the differences that still exist. But on the question of pensions, we have produced numbers that credibly promise more than 1%, just slightly, just above 1% of GDP in savings for the pension system. We propose to do it differently, instead of cutting pensions, we are proposing an increase in contributions by both uh, uh I’ll come to this in a minute. On top of that, we have undertaken significant defense cuts, cuts in defenses expenditure. And of course, other administrative measures which are very important, firstly because one of the great problems in Greece, as everybody knows, is the collection of tax is not so much tax rates and parametric values. On the question of uh, the growth friendliness that Christine mentioned, now this is of course the crucial key. It is a key that will unlock success for this program and for the future arrangements for the Greek economy. The point we wish to make is that we have accepted the fiscal numbers of the institutions fully cognizant of the fact that these numbers are recessionary, when in an economy like the one we have now, which is in recession, has never managed to get out of recession, even in 2014, at least in nominal terms. When you introduce 2.8% of measures this is by definition, not particularly growth friendly. We had to compute to estimate our different multipliers. So for instance, whether it is growth friendly or not, or relatively growth friendly compared to the institutions suggestions depends on whether you think, for instance, that reducing the lowest of the low of pensions has a smaller or larger multiplier effect comparing- compared to increasing corporate tax. But this is, this is an empirical matter and, and we can sit down of course with our technical teams and discuss this, uh this afternoon, until we’re each in agreement. More precisely on the pensions, because the pensions are very important, I think for all institutions, all three institutions, and for us. Um, we have determined and committed to introduce legislation immediately that dras… drastically limits early retirements beginning 1st of January. This coming January 2016. Uh to push the minimum age of retirement, effective retirement not formal retirement, at 67 by the year 2025. From this year, we’re proposing that anyone who goes on early retirement, using the provisions of existing law which cannot just be cut off from one day to the next, uh there will be a 10% surcharge effectively reduction their pension in the form of a contribution to their own pension fund. That’s on top of the existing 6% so there will be a 16% reduction in the, um, pension that will be receiving… in the take home pension in a sense. The solidarity acas tranche that Pierre mentioned before uh, we’ve agreed to begin replacing it in 2018, and to faze it out completely by 2020. By, within an appropriate framework compensating pensioners below the official poverty line. Uh at the same time, again in the context of pension reform and, and, and reaching that level of just above 1% of measures benefiting the pension system and its sustainability, we are proposing to increase the health contribution of those on supplementary benefits by 5% from 0%, which is now to 5%. To increase the social security contribution for those who are um not already enjoying a supplementary pension but who are working towards it, to increase it by half a percent of their salary, to harmonize contributions in the private… in the public sector and make them equivalent to those in the private sector that is a significant improvement in the finances of the pension funds, and of course to complete the consolidation of pension funds with an effective and important saving in the operating costs of pension funds by the 31st of September 2016. Now additionally we have other parametric measures uh that we are proposing as part of this document that was uh related to the institutions overnight, uh for instance I mentioned the defense cuts. We’re talking about immediate defense cuts of 200 million, uh, reforming the income tax code that involves capital taxation investment vehicles, farmers, and the self employed. Um the corporate tax increase from 26% to 29%, a permanent tax regime for advertisements in the media, in particular television that have been scandalously exempt from taxation so far. Um, an increased… a permanent increase in luxury tax on recreational vessels, uh taxation on VLT machines and gaming machines of 30% that was, that was an unregulated part of the market and therefore untaxed. Uh reforms in pharmaceutical rebates, uh, perhaps far more importantly in the long term. And this is something I’ve mentioned before here but I’d like to mention once again because it is a momentous change in Greece, and it is one that I would like you to… I would like to impress upon you how difficult it was to push through parliament or to imagine pushing it through parliament, we haven’t pushed it yet but we shall. That is the creation of a fully independent tax and customs authority, outside the Ministry of Finance along the lines of something like the IRS in the United States. Uh the fiscal council that will be monitoring the budget, an independent fiscal coun… uh, uh council with a possibility, as I mentioned in our last meeting, of trading off policy space of the Greek government with an automated uh deficit break. Regarding product market and administrative reforms that Christine mentioned, we have begun and announced formally a joint project with the OECD that will be, um, that is already being implemented and which spell out to the institutions in some detail. Just mention, let me mention the headlines here uh “An Anti-Corruption Drive through-out the Greek Bureaucracy and the Greek procurement mechanisms”, “Liberalization of the Construction Sector” which is an important sector country like this, especially as we are exiting the recession. “The Liberalization of the Wholesale Trade of Electronic Platforms” media as well as communications. Removing the red tape drastically from the licensing of businesses and introducing digitalized ‘one stop shops’. Uh pension system reform that is serious long term actuarial studies in conjunction with the OECD for the purposes of dealing with the problem of the system and ability of the pension system once and for all and not just through parametric measures. Uh, in conjunction with the OECD and the ILO, the design flexible collective bargaining agreement for the labor markets. In the realm of privatization, we have set out what is a realistic problem. Let me remind you, colleagues, that the last programs of privatization in Greece were scandalously um misjudged and ill designed. Remember the 50 billions that were supposedly to be collected through privatization when 1/50th was achieved in the end. We have set out a very realistic program for this year 1.4 billion, for 2016 3.7 billion, and for 2017 1.2 billion in a market where asset prices have collapsed. And let me now complete by saying that, colleagues, these of course are critical moments, there is very little time left, and we all have to move. We believe that our government has moved a long way towards a position of the institutions, we have accepted fiscal measures that in an economy which has uh not stopped shrinking with uh no functioning banking system in terms of credit provision with very little investment. In that kind of economy, we have accepted in order to bring about this agreement uh measures that are indeed recessionary. Even under fairly conservative estimates of fiscal multipliers, we’re going to have a significant reduction in aggregate demand. For this package of reforms, which we have exceeded in order to conclude successfully the final review of at least the European program. Setting for the moment aside for the moment the IMF program which we can discuss later which runs in parallel until March of 2016. For that program to have a chance of success, a chance of being viable, it must come together with investor confidence building announcement regarding financing. And by financing I don’t mean just an extension of the current loans, uh a… a new package of loans which is not sustainable and which adds uh new debt on existing unsustainable debt, I’m referring to an announcement that inspires a high probability estimate in the mind of investors, and citizens, and consumers that Greece is going to be out of the woods soon. That Greece is about to be fully integrated for instance in the ECB’s Quantitative Easing Program, that we’re not merely buying time until a few months later when we come back to this forum and have another discussion about the Greek Crisis. Neither you nor we want to go to our parliaments yet again, after we go now in order to solidify, in order to push through them the agreement that we are discussing today. This is why we’re very much in favor of completing the review now, completing the second program, uh, and establishing the measures that we are going to agree upon and which we are going to push through parliament as the common conditionality with uh an ease and facility that will allow uh for the transfer… the effective transfer of the 27 billion of the legacy debt from the SNP program into a more manageable debt repayment program so that we can have, on the one hand, our government accepting MOU, a revised MOU, with significant recessionary measures in it but also a flattening out, a smoothening out of the debt repayments to the SNP bonds for the next year, year and a half, two years, which runs against the grain of what we are agreeing to today which is a package of reforms that makes Greece sustainable again. For as the minimum condition to make this work, both financially in terms of the funding gap, in terms of a modicum of hope that Greece will re… will join Quantitative Easing uh is an SNP buy back to smoothen out the short term repayment schedule and to allow a degree of hope about participating in a program, the QE program, which let’s not forget was created in order to defeat deflation, and this is significant for a country which is in the throngs of deflation, probably the only country in the Eurozone today which is suffering a deflation rate of -2%. Surely I believe the institutions can see that. I have no doubt because I have heard this, I have discussed this with the good people of the IMF that this um balancing between an MOU that gives you what you need in order to seal the agreement with us and at the same time a minimum approach to the way that the debt must be managed more efficiently in order to make the MOU reforms potentially successful. This balancing act is essential for us in order to be able to seal this agreement and to say that the Euro Group, the uh Euro Summit later today, the Greek government, each one of you taking this… this package to your parliaments, we have signed and sealed a viable agreement for Greece. One that has considerable hope and a high probability of uh ensuring that we’re not back here in a few months time, discussing the same problem again. Thank you very much.\n",
      "\n",
      "yanis varoufakis (24/06):\n",
      "Oh, ah, from the Greek side, as well, we would prefer to have the meeting, to hold the meeting as late in the day as possible, to give us more time to prepare. So I agree with most colleagues who have spoken on this. Ah, allow me to say that, ah, on the question of, ah, growth-friendly policies, since this has been mentioned and this is central to the issue at hand, my government is absolutely committed to them. But let me make the brief point that when you have a shrinking economy and we agree on two and half percent of GDP of extra measures. This is not in itself a particularly growth-friendly ah, posture. The difference of opinion is empirical. It’s not ideological. Do you get greater forces of recession by reducing the pensions of the lowest of the low of pensions, or do you get more recession when you increase tax on corporate tax? This is an empirical issue. This is not a dogmatic issue. Regarding prior actions and the SLA, of course, you have to have in front of you tomorrow, we all do, very specific text including prior actions. We hove worked on this. We have tabled our own version. Our own proposal and prior actions. It’s a question of coming to an agreement with the institutions on this. On the broader question, let me say colleagues that we feel, just like you do, perhaps more than you do, the pressure to end this conversation successfully to complete the review as quickly as possible. We more than you, for obvious reasons. But let me also add that maybe it is better to have the sequence of, ah, tedious meetings, than to have a situation where we hatch up an agreement which is not sustainable and which leads all of us to come back to this room six months, eight months, nine months, 12 months from now. That would harm the credibility of the institutions and the Eurogroup and each one of us even more. Finally, Alexander, you asked a question. You asked a question about whether my Prime Minister has an intention of deferring to the leaders, to the summit tomorrow night. Let me assure you that our government is determined to strike an agreement as quickly as possible with the institutions, hopefully tonight, so that our Eurogroup meeting is as profitable as possible. We do not have a strategy of deferring to other fora. We do not have a strategy for delaying. Thank you.\n",
      "\n",
      "speaker 4 (25/06):\n",
      " where we are today. And finally a  VAT and pensions.\n",
      "\n",
      "yanis varoufakis (25/06):\n",
      "Thank you Jeroen. As a everyone knows this is uh, this has been a very laborious process. It has been uh, variously um, difficult and sometimes uh, unpleasant. Uh, I have to concur on this but the unpleasantness should not um, deter us from looking at what we have achieved. If you compare the two documents, the document that is in front of you by the Institutions and our document, you’ll find that they are very close. I believe that especially if you take into consideration where we started from and you compare it with where we are, convergence is the only word that comes to mind. We have converged on primary balance uh, targets uh, for the near and medium term. We have uh, exactly the same fiscal baselines scenarios after quite a lot of deliberation on this. For 2015 an 2016. As a result of this coincidence of primary balances and the fiscal baseline scenario uh, we have um, convergence, complete convergence on uh our estimates of fiscal gaps for 2015 and 2016. There have been a multitude of uh, agreements uh. Most recently it was uh, recommended to use that we should uh, introduce a tax on shipping and ship owners in Greece. Something that previous governments would never have done. Uh, we were grateful to the Institutions for having made that suggestion. It strengthened us and we have adopted it. So this is just one example of last minute convergence. Uh, our government has um, only two sticking issues picking up the point that uh, Pier made about the two major issues that consumed countless hours of deliberations and negotiations uh. VAT reform on the one hand and pensions on the other. We have proposed uh, a major VAT reform, V-A-T reform. Uh, the estimated yield from that reform comes to 1.7 billion a year, or almost one percent, 0.93% of GDP. We are proposing to um, have a lower rate of six percent just for pharmaceuticals, books and theatrical performances, we have a tradition in Greece of subsidizing the theatre um, a mid-level rate 13%, which is where most the food goes uh, energy, utilities I should say more generally, and uh, hotels which as you can imagine in Greece are a very important part of the economy. And then to um, to, to, to, to 23% which is a top rate, we put everything else. It took a long time for uh, our technical teams to devise a model that we could use as a common model by which to estimate the impact of different tax rates upon um, our uh, V-A-T take, and this is uh, I consider this to be a successful endeavor on the part of the institutions and us of establishing this common ground uh, in at least in terms of the analysis. Uh, the institutions requested um, that we should get a little bit more than 0.93, t-t- they requested one percent of GDP in extra VAT. We are very close to this. The point I want to make regarding VAT, and I think that this is a point that collogues will take well, it is meant well, is that one of the great problems we have in Greece is um, collectability. Our collectability rates are very low. We’ve had a very uh, bad track record on this and this is where we would want, and this is where we want an AMAT focusing our efforts in order to increase our VAT take. As you all know, when you’re attempting to increase collectability, increase in tax rates and pushing whole categories of goods and services onto the higher tax rate, is not helpful. So there is question here of whether the emphasis of reform should be on changing the tax rate, harmonizing the tax rate or actually on the tax collection system itself. We believe that it is the latter which will bring in much greater revenues than those estimated but we did not agree with institutions on how to compute, to calculate, to estimate the improvements the different reforms in the tax administration system would have. Um, on the pension system. The institutions demanded uh, a one percent of GDP improvement in the fiscal impact of our pensions system. We have delivered that. We have delivered it in a way which differs from that was, that which was proposed by the institutions, so we are increasing contributions to the pensions’ system together with the drastic elimination of early retirements. The institutions would prefer reductions in the actual pensions rather than increases in contribution. Uh, we are also proposing that is quite significant uh, to our gov- to our gover- to our parliament, we are ready to propose to our parliament uh, that the institutions’ uh, suggestion, that we harmonize contributions between the different funds, in particular between the private sector and the public sector funds, goes ahead at the cost of public sector employees who will have to increase their contributions. Um, product markets, some product markets, product market reforms, we have agreed upon. Others, we have maintain differences. Let me say collogues at this stage I don’t intend to speak for very long Jeroen, but I do think it is important to mention that this government has shifted a great deal. On almost every front we’ve crossed what we considered originally to be our red lines. What we are asking for, as you can see or hear from what I just said, was a degree of policy space. Christine referred to maximum flexibility, we don’t see that the institutions have applied maximum flexibility. We have applied a lot more flexibility, we’ve bent over backwards effectively in order to come closer or very close to institutions’ position. I believe that uh, in, both in the case of Ireland and the case of Portugal, the institutions showed a great deal more flexibility than um, in what we have experienced over the last few days. And let me just finish by focusing on perhaps the most significant aspect of our disagreement, of the reason why we have not achieved complete convergence yet. The list of prior actions that we are presenting to you, in the document that you have in front of you, is a very difficult set of reforms for us. It would be very hard for us politically in an economy which is experiencing seven years of unending non-stop contraction of nominal GDP, to introduce measure of two and a half percent of GDP and parametric ones on top of that other non-parametric ones. There is no doubt that especially in view of the dysfunctionality of our banking system as they are over-laden by NPLs. That these prior actions are certainly going to be recessionary. We tried to make them redistributive in a way that is closer to our program. Our program did not envisage such recessionary measures but accepted them. We accepted them to the full magnitude that was request of us. But we have slanted them in a manner which is redistributed, re- redistributive um, in, uh, harmony with uh, our political priorities. We are prepared to take such an SLA, such a set of prior actions through parliament and do it efficiently and quickly. But we are going to face a great deal of discontent, not only from our own government members of parliament but throughout the parliament house. And the question that we will be asked as ministers in parliament is: you want to ask to pass these prior actions, these are difficult ones for an economy in recession. What are you offering us? Do you envisage that as part of this agreement there is clear sight of an escape from the debt deflationary cycle. That, that we can say that Greece in the next few months can look forward to coming out of the woods, so to speak, of the crisis. The problem, collogues, is that as you, many of you said yesterday in this very room, that this is a set of prior actions that is the foundation for an extension of the program by a few months. Let’s say until the end of the year. Which of course means in the mind of any rational investor that they will think, okay, so another set of negotiations is going to be come to, to, to, to kick in, in November, another set of headlines full of uncertainty and full of concerns about Grexit and about this and that. I submitted to you colleagues that this kind of extension is simply going to, after a few days of buoyancy in the markets, as a result of having come to an agreement. Very, very soon after that, investors are going to be in suspended animation, they’re going to be waiting to see what happens towards the end of the extension. An economy which is already in a recession and introduces these heavily recessionary measures. Because Let’s face it: two and a half percent, what, however redistributed within the Greek social economy, they are going to be recessionary. Without having a clear view ahead, with these bumpidy payments of the SMP bonds as they are approaching, without any, um, serious discussion of our proposal, which involves absolutely no new money for Greece. Many colleagues mentioned here no new money for Greece. We did not suggest new money for Greece. We suggested an operation involving the ESM, which is perfectly legal which we could agree to it now uh, in such a way as to smoothen out the repayment schedule, the bumpy lumpy SMP repayments over the next year or two, which is the time during which this economy has to achieve escape velocity, so that you and I do not come back here at the end of December with another set of conditionalities, another round of negotiations, another set of meetings perhaps to go again to our parliaments, again to face political pressure both in Greece and in your own polity. Our hope was that we would be able to agree on prior actions that would be hard for us but which unleash us from the shackles of this never ending cycle of debt deflation. But even at this late, late stage I’m conveying to you our government’s determination to reach the common ground which we set out to reach on the 20th_february, as per the communique. I believe that any impartial spectator or observer looking at the documents will come to the safe conclusion that we don’t have the right as a Eurogroup not to reach an agreement today, thank you.\n",
      "\n",
      "yanis varoufakis (25/06):\n",
      "Yes thank you Jeroen. Let me begin by saying to my Slovenian colleague that uh, and also to others who let it um, sort of created an impression with their intervention that the program was on track until we were elected. Colleagues the reason why we were elected was because the program was off the rails. The only reason. The uh, view that I heard that there was some growth last year is one that I would like very seriously to contest. Nominal GDP never stopped falling. I’ve told you this a number of times. I’m saying this to you again. We never had growth in 2014. Indeed every single target was missed, especially the primary number for 2014. But let’s not look backwards we have a very serious problem here in our hands uh, Christine mentioned that uh, the privatization agenda has not produced the goods, well it didn’t produce the goods in an economy where asset price has collapsed. And therefore it was impossible to reach those completely unfathomable targets. Uh, the point about the primary surpluses, yes there has been flexibility from the institutions but from what level? From four and a half percent primary surplus projections for the next, for the foreseeable future. I do not know an economist who can testify to having a rationale according to which an economy like the Greek economy under the circumstances could maintain, for the medium term, such a large primary surplus. Three and a half percent is still very large but we have accepted it in the spirit of cooperation. Regarding our measures that have been um, repeatedly described as not particularly growth friendly, I have to repeat the point I made before that when you have these large measures, uh, they’re not going to be growth friendly. And I made the point yesterday, I have to make it again, that whether you, it, it’s more growth friendly to reduce very low pensions will have a very high fiscal multiplayer or to increase corporate taxes is an empirical matter. I don’t have the numbers here for, yeah I don’t think that anybody does. Uh, it’s only through trial and error that you will work this one out. Um, the point that uh, Pier Carlo made was very important. Because if he’s right, than I’m very happy. If I correctly understand Pier Carlo, you said that you disagreed with me that if we have an extension for six months or so uh, eight months, nine months, whatever, than without a new um, approach to our debt repayment schedule, without any creative public finance, my prognostication was that in a few months time we will be back to where we are now, because the animal spirits will not come back on, because there will be no growth spurt because there will, because all investors, rational investors will be thinking ahead to the next negotiation. Waiting for what happens at the end of it. Pier Carlo disagreed, he thought that this is not necessarily so. I hope you are right, but I noticed colleagues that at least five of those who spoke, expressed either um, an inability to push through their parliament and through there polity the institutions’ own proposals. Or they said that the, the proposals that are on the table, whether its ours or the institutions’, do not offer a viable solution. Now, this is a very serious political problem, and it speaks to what Michel was saying before. That we have a political duty to come up with an outcome which is sustainable. And I do believe that this is always something that the Eurogroup wants to do and wants to include at the end of every statement, every communique. That the country, the program country that we are discussing is going to, will have insight market access. This was the point we were raising. The reason why we are um, at, at, uh, um, we haven’t agreed yet is because firstly, we ask for more flexibility, not in terms of the fiscal numbers but in terms of measures within those fiscal numbers, and secondly because we can’t see how this very large package can be pushed through all our parliaments. When there is no prospect for more than a few months of an extension. So I come to the conclusion, to the conclusion, to the question that Alexander amongst others asked, so what do we want to do from now on? What do we foresee as the next few steps. Let me, let me, let me say that we are very much like you at a loss. We hope that there are steps we can all take. We are constrained like you by our own parliaments, I cannot go to my parliament and table prior actions like you can’t, like you can’t Wolfgang. We cannot push through our parliaments a set of prior actions without being able to answer the question: is this sustainable? My great concern, as a European, not as a Greek at this very moment, is that, and again I’m alluding to something Alexander said about the kind of governance that we have, that this is a major concern for the way we are running Europe. The way we are running our monetary union. We should not be in position where we throw up our hands up in the air, and we declare that we don’t know how to move ahead. We all have the same interests, we all have a common purpose to bring this to fruition, we should find a way of doing it. I was hoping that today we would be able to come to this agreement. Alexander, I genuinely didn’t want this to go to the Summit tonight or to any other forum. Let us just resolve to make an example out of ourselves so that we can find a way of taking to our parliaments and set of prior actions that will go through the Greek parliament that is sustainable and which you can sell to our own people not just to our members of parliament, honestly and in faith within ourselves that it is truly sustainable. Thank you.\n",
      "\n",
      "yanis varoufakis (25/06):\n",
      "Well I think that the only remedy for this agreement is further conversation, I know no other remedy. On the questions that you raised, I think that they are up for uh, further deliberation. We don’t believe that we are asking for fiscal space, we have agreed on the fiscal numbers. Our proposals about reform simply are different to the institutions. We believe that our reforms are uh, more efficient reforms, we maybe wrong but it’s not a question that we do not want to reform so we are going to do backtracking on reforms. We don’t believe that simply cutting pensions is a reform, it’s a cutback. Maybe we should have it but it, we do not think that this is going to solve the problem of reforming the pension system. But as I said, discussions. Further work.\n",
      "\n",
      "alexander stubb (27/06):\n",
      "Thanks, uh, Jeroen. I, I, I’d like to make two comments, and then perhaps a few questions to, to Yanis. I, I think, I think I agree with all colleagues that either last night or this morning  on the table. And I, uh, I think that’s a situation in which we are now, we’ve basically come to a dead end. There’s no p- in this game of cat and mouse, but, but, you know, we’ve come to basically a dead end. And, and this brings me to my, my second point. I, I agree, we should spend our time here talking about the next steps, uh, of, uh, plan B. There’s absolutely no possibility we’ll get any kind of an outcome from here. I, I agree with Pier Carlo, we need clarity and that clarity is, is the next steps. Uh, to be quite honest, the way in which I see things unravelling is that number one, the program will not be extended. Number two, Greece will be unable to pay the IMF. Number three, uh, there will be a run on the banks, which has obviously already started. Number four, if there is no EL- uh, extension of the program, they will be no ELA. Number five, they will be both political and economic chaos. Number six, you will not be able to pay salaries and you will not be able to pay pensions. Number seven, you will probably be pretty much, uh, on your own. Um, number eight, there’ll be capital restrictions. Number nine, the IMF will not pay and number of 10, the EU will not pay. Against this background, which I find a horrifying perspective, especially from a Greek perspective, I think we should focus our time on how to protect the eurozone and how to stay unified. And my simple question will be rather blunt, Yanis, is that have you seriously been able to explain the consequences of the actions that you’re currently taking and then the risks that you are taking to the Greek people? Now, my question is also of trust. I left this meeting on the first day, can’t say I was happy about it, but I left in good faith thinking that negotiations between the institutions in Greece will take place, but obviously they haven’t. And then we’re surprised with announcement of a referendum. And how can we trust your actions if your prime minister comes out, and these are quotes, quotes on the  memoir, “Contravenes the founding principles and values of Europe.” In which way? “Accumulates unbearable new burdens”. Yeah. To all of us.”Amplifies social imbalances”. “Violates fundamental rights to work, equality and to dignity.” “Blackmail ultimatum.” And, “Strict and humiliating austerity.” Now, if I was a Greek voter, no matter how pro-European I was, and if I was listening to my prime minister saying that I would personally be voting against that package. So what is there really at the end of the day anymore to negotiate? I really think that this is a sad day for all of us and I think it’s time to start talking the next steps. Sorry for being so blunt, but that’s just how I see things right now.\n",
      "\n",
      "yanis varoufakis (30/06):\n",
      "I believe that, uh,  Costello has actually received the letter already from our technical team. Let me just say very briefly that, uh, there are s- some minor changes, uh, which c- represent, uh, very, uc- fair compromises, um, on, uh, the VAT rate that applies to utilities, uh, with regard to privatization, and, uh, the functional separation that is of the electricity provider. Um, the a- the, the, the, the areas that we’re covering are pensions and labor markets, and that’s about it. But I believe that Declan Costello already has a copy.\n",
      "\n",
      "luis pierre (01/07):\n",
      "– Ok.  and we discuss that morning in the College with the agreement of the Commission today we recommend that member states fully reserve the right to make a decision once there is more clarity on the situation. Yesterday Jeroen you asked the Institutions to prepare an assessment of Greece’s proposed amendments to the list of prior actions published on Sunday. This has been done on the basis of yesterday’s letter and the views outlined, are shared, by the three institutions, but of course everybody can express opinion. Firstly I must underline  that the document published on Sunday relates to discussions on the extension of the EFSF program. Moreover  circumstances plus the last request for new two year ESM program which will involve larger financial needs means that changes will be needed compared to the reform package which was previously envisaged. Any new ESM program would of course have to be fully in line with the provisions of the ESM treaty. As a general remark on Greece’s proposals, many of them from our point of view lack clarity and specificity. So further discussions with the Greek authorities will be needed to fully asses the impact our teams have not yet have the chance to do this. \n",
      "Um, some of the individual proposals could have merit as part of a comprehensive package. Proper assessment is nonetheless required  proposal would represent a missed opportunity to simplify the VAT system, a large administration is required to administer these discounts. \n",
      "On fiscal structure measures and pensions: The government is proposing longer phasing periods for a number of measures, for example the elimination of  changes on the IKA social top-up to be credible. This could be the way we need clarity on when the reforms will be legislated and implemented . We have been open to implement it, but not the legislating the latest phase out of EKA provided comprehensive measures are found. \n",
      "On the labor market, the proposal also deviates from the proposal of the institutions, and finally on product market the letter is more specific on some reforms compared to Greece’s earlier proposals but they are less ambitious then the institution’s proposals, so more explanations should be given on proceeding with measures for example in response to the recommendation of  on the competition toolkit, we are not being able to evaluate some of proposals that have not been discussed in the so-called Brussels Group. Proposals to split DEI electricity company into separate legal entity on the state majority ownership also needs further careful strategy. \n",
      "To sum up, I would say that at first site, measures proposed will not be sufficient to meet Greece’s fiscal targets and will need further clarity of a number of the ideas in order to accept them properly, some of the measures have not been discussed properly in the Brussels Group. But there is some progress here and there, especially on the pension area, and the Commission is ready to continue working along with the other institutions on a credible reform package for Greece that reflects the changed situation. Lastly, following yesterday’s Greek request for new ESM program ,we are preparing the risk assessment proposal and we stand ready to prepare an assessment of AGBD for the ESM program when you give us the mandate to do so. Obviously the recent speech of Prime Minister, um, well tends to give also some indication on when this could be done.\n",
      "\n",
      "yanis varoufakis (01/07):\n",
      "Ok. Thank you. Right. Let me begin with a few comments on the proposed prior actions of the Greek government which were submitted to you, which now the Institutions have had a chance to look at. I believe they were also discussed in the Euroworking Group just prior to this teleconference. We believe that the SLA changed the prior action amendments that we are proposing fall well within the maximum flexibility of the MOU process as described repeatedly to us by the institutions. Very briefly let me mention the 8 points which are pertinent here.\n",
      "One concerns the discount on VAT of the islands. It is our estimate, and I believe that the institutions agree with our estimate that maintaining the discount along the lines of also what happens on island complexes anywhere in Europe including the Canary Islands and so on, that the fiscal impact will be about 340 million of maintaining this discount. We have proposed equivalent measures that pertain to tax on rents on real estate rents and also some small increase on corporate tax. The second point of difference, the second amendment, concerns the request, the requirement that individual business owners should advance immediately, a 100% of their tax payments. We have shifted that from 2016 to 2017 in order to soften the blow to them. 19:59 The phasing out of diesel tax subsidies for farmers we would like again to have a glide path leading to that in 2017.\n",
      "On the question of pension reform both regarding the secondary pensions as well as EKAS, the solidarity, rather small add-on to the lowest of the low of pensions, we are again in tune with what the institutions are requesting except that again we are recommending, requesting a longer period of adaptation. As far as product markers are concerned, we‘d like to add here that the Greek government, as probably is known to most colleagues, has entered into a firm collaboration with the OECD. The secretary general of the OECD and his staff have committed to a joint program with Greece for creating, designing, implementing and monitoring the implementation of many more product market reforms and other kinds of reforms, like for instance the anti-corruption, procurement reforms and so on. And we would like these to be considered very positive steps from our government in order to pursue the reforming process, the structural reforming process which everybody wants to see being incorporated in Greece. \n",
      "Finally the, a couple more points, I won’t tire you more then is necessary, we had certain objections from the Ministry of Maritime Affairs regarding ferry transportation on security and safety grounds and finally the question of the ADMIE, the electricity sector reform where we are proposing that it be split by the  but is not privatized. This is the final change amendment that we are recommending. Again let me say that we believe that these um amendments fall well within the realm of flexibility which is part and parcel of the review process. \n",
      "Now, you asked me Jeroen to commend on the political situation. Let me be succinct on that and to the point. The referendum was called because we felt as a government that we did not have a mandate to answer the institutions’ call to accept this SLA and the particular financing package as it was given to us. We said we will put it to the Greek people the next Sunday, who are the final arbiters of such decisions. \n",
      "Again let me repeat what I said yesterday. We are fully committed and absolutely determined to implement the verdict of the Greek people on Sunday. So if the “YES” vote wins we will do whatever it takes in order to make sure that the institutions’ proposals of the 25th June, if the institutions feel like amending them, we will accept these amendments as well, will be signed, sealed and delivered within a very, very short space of time. The speech by the Prime Minister today, today, was a speech which was meant to say one thing: and that is that the concern of the government is, that whatever prior actions we undertake must be sustainable. There must be prior actions that are consistent with the reforms that Greece needs and must be embedded in a program whose financing component is giving us hope. Not just us, but to investors, to consumers, to, um, the markets, that Greece will be out of the woods in the course of the agreement that we are signing. Thank you.\n",
      "\n"
     ]
    }
   ],
   "source": [
    "# leaks\n",
    "\n",
    "def search_term(term):\n",
    "    for i,row in leaks.iterrows():\n",
    "        if term in row.speech.lower():\n",
    "            date = pd.to_datetime(row.date).strftime('%d/%m')\n",
    "            print(f'{row.speaker} ({date}):')\n",
    "            print(row.speech)\n",
    "            print()\n",
    "            \n",
    "search_term('pension')"
   ]
  },
  {
   "cell_type": "code",
   "execution_count": 77,
   "id": "16b82d5b-581b-47e5-91bd-57833c3f2a88",
   "metadata": {},
   "outputs": [
    {
     "name": "stdout",
     "output_type": "stream",
     "text": [
      "Remarks by Jeroen Dijsselbloem at the press conference following the Eurogroup meeting of 24 April 2015 (2015-04-24):\n",
      "Good afternoon and welcome to this press conference in a quite impressive venue. Let me start by thanking Janis Reirs for hosting us so well in Riga. Today we were joined in our meeting by Daniele Nouy, who is a chair of the the Single Supervisory Mechanism (SMM) and by the new Estonian Finance Minister, Sven Sester, who also informed us about new government and their ambition. I realise that all eyes are on Greece. But today was a regular Eurogroup so we had a full agenda. We also talked about the situation in Cyprus and in Spain. We discussed the report on the SSM and exchanged views on the implementation of the recommendations addressed to the euro area as a whole. As you know, this is part of the Eurogroup's thematic discussions to promote growth enhancing structural reforms. Today, the institutions informed us about the ongoing talks with the Greek authorities and we took stock of the situation. As agreed in February, a comprehensive and detailed list of agreed reforms is needed as a basis for a successful conclusion of the current review. I would like to reiterate again that a comprehensive deal is necessary before any disbursements can take place. Over the past few weeks, there have been intense discussions between the Greek authorities and the institutions. I understand that there have been recently some positive signs, but there are still wide differences to cover and to bridge on substance. We are all aware that time is running out. Too much time has been lost in the past two months. It is therefore clear that these discussions need to make significantly more progress, so that the institutions can give their green light on the comprehensive package which will then go to the Eurogroup for the political decision. The responsibility for that lies mainly on the side of the Greek authorities. Finding an agreement is first and foremost in Greece's interest. I would also like to reiterate that the agreement of 20th_february remains our framework for reaching a deal. We will take stock of the situation again at our next regular Eurogroup in May. Today we were also joined by Daniele Nouy for the first Eurogroup hearing, this is a Eurogroup and banking union format. Eurogroup hearing of the Single Supervisory Mechanism Chair. These special hearings are an important part of the way we intend to run the banking union. We have made a lot of progress in a very short time in this area. A lot of work has been done by the SSM and ECB. We are now focussing on the full establishment of the banking union on 1 of January 2016 and on the co-operation between its two pillars. We agreed the importance that Member States transpose the Bank Recovery and Resolution Directive (BRRD) without further delay and it is also important that Member States ratify the Inter-Governmental Agreement (IGA) on the Single Resolution Fund (SRF) as quickly as possible. Ministers also supported a concerted work effort on national options and discretions in order to move as rapidly as possible to a more level playing field within the Banking Union. Our thematic discussions on jobs and growth have become an important part of the regular Eurogroup meetings. Today, we took stock of the implementation of last year's recommendations to the euro area as a whole in the context of the European Semester. Structural reforms are a key part of these recommendations. We based our discussion on the Commission's euro area report. We agreed to continue and intensify these Eurogroup thematic discussions. This will involve benchmarking of some policies against best practice. We also agreed on some key policy issues that we will be taking up until the end of the year. This will include services market reforms and the link between pension reforms and fiscal sustainability. We will also take another look at Member States' efforts to reduce the high tax burden on labor, which is also one of the ambition of the new Estonian government. The aim of our discussions is to stimulate convergence by bringing our key policies closer to best practice, by improving adjustment capacity and resilience to shocks through out the euro area. Continuing on this reform-path is key to boost the recovery and to improve the growth potential and employment prospects through out our region. We were debriefed by the Commission and the ECB on the main findings of their third post-program surveillance mission to Spain that took place in mid-March. In which also the ESM was involved. We welcomed the significant progress made by Spain. All indicators are showing a progress in both budgetary and economic terms. We also realize that debt and unemployment remain high. So, clearly there are still important challenges ahead. We are confident that Spain will maintain its good track record and adhere to its commitments under the surveillance framework. Also on Cyprus I can share a good news with you. We were informed that on 17 April the Cypriot parliament legislated to establish an insolvency framework and that will also make an end to the suspension of the foreclosure framework. Which if I am informed correctly is coming to place on 6 May. This framework is needed to restore compliance with the prior actions of the fifth review. We therefore welcomed this important step bringing the program back on track, which will allow the institutions to return to Nicosia to carry out the next review. Another important development is that Cyprus lifted the last remaining capital controls on April 6th. Free circulation of capital has thus now been restored.\n",
      "\n"
     ]
    }
   ],
   "source": [
    "# communiques\n",
    "\n",
    "def search_term(term):\n",
    "    for i,row in communiques.iterrows():\n",
    "        if term in row.story.lower():\n",
    "            print(f'{row.title} ({row.date}):')\n",
    "            print(row.story)\n",
    "            print()\n",
    "            \n",
    "search_term('pension')"
   ]
  },
  {
   "cell_type": "code",
   "execution_count": null,
   "id": "c4d76b7e-8dea-4734-81a5-21c5033ef083",
   "metadata": {},
   "outputs": [],
   "source": []
  }
 ],
 "metadata": {
  "kernelspec": {
   "display_name": "Python 3",
   "language": "python",
   "name": "python3"
  },
  "language_info": {
   "codemirror_mode": {
    "name": "ipython",
    "version": 3
   },
   "file_extension": ".py",
   "mimetype": "text/x-python",
   "name": "python",
   "nbconvert_exporter": "python",
   "pygments_lexer": "ipython3",
   "version": "3.8.5"
  }
 },
 "nbformat": 4,
 "nbformat_minor": 5
}
