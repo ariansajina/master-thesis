{
 "cells": [
  {
   "cell_type": "markdown",
   "id": "cheap-cricket",
   "metadata": {},
   "source": [
    "# Heatmap\n",
    "Heatmap of terms over time for Euroleaks and Communiques."
   ]
  },
  {
   "cell_type": "code",
   "execution_count": 1,
   "id": "opening-gibraltar",
   "metadata": {},
   "outputs": [],
   "source": [
    "import re\n",
    "import time\n",
    "import json\n",
    "\n",
    "import numpy as np\n",
    "import pandas as pd\n",
    "import matplotlib.pyplot as plt\n",
    "\n",
    "from sklearn.feature_extraction.text import TfidfVectorizer\n",
    "import spacy"
   ]
  },
  {
   "cell_type": "markdown",
   "id": "medium-middle",
   "metadata": {},
   "source": [
    "## stopwords and collocations"
   ]
  },
  {
   "cell_type": "code",
   "execution_count": 2,
   "id": "e99beae5-e250-4bc1-ae73-524ca0960b91",
   "metadata": {},
   "outputs": [],
   "source": [
    "# stopwords\n",
    "with open('../data/euroleaks/stopwords.json', 'r') as f:\n",
    "    stopwords = json.load(f)\n",
    "    \n",
    "# collocations\n",
    "def apply_trigram_colloc(s, set_colloc):\n",
    "    res = s.lower()\n",
    "    for b1,b2,b3 in set_colloc:\n",
    "        res = res.replace(f'{b1} {b2} {b3}', f'{b1}_{b2}_{b3}')\n",
    "    return res\n",
    "\n",
    "def apply_bigram_colloc(s, set_colloc):\n",
    "    res = s.lower()\n",
    "    for b1,b2 in set_colloc:\n",
    "        res = res.replace(f'{b1} {b2}', f'{b1}_{b2}')\n",
    "    return res\n",
    "\n",
    "with open('../data/collocations/trigrams.json', 'r') as f:\n",
    "    trigram_colloc = json.load(f)\n",
    "\n",
    "with open('../data/collocations/bigrams.json', 'r') as f:\n",
    "    bigram_colloc = json.load(f)"
   ]
  },
  {
   "cell_type": "code",
   "execution_count": 3,
   "id": "31251e22-7384-499f-a57d-02e27a957e16",
   "metadata": {},
   "outputs": [
    {
     "data": {
      "text/plain": [
       "dict_keys(['names', 'disfluency', 'courtesy'])"
      ]
     },
     "execution_count": 3,
     "metadata": {},
     "output_type": "execute_result"
    }
   ],
   "source": [
    "stopwords.keys()"
   ]
  },
  {
   "cell_type": "code",
   "execution_count": 4,
   "id": "3ac12965-0d74-4071-8c66-e3e9f7085fb5",
   "metadata": {},
   "outputs": [],
   "source": [
    "nlp = spacy.load(\"en_core_web_sm\", exclude=[\"ner\"])"
   ]
  },
  {
   "cell_type": "markdown",
   "id": "killing-motivation",
   "metadata": {},
   "source": [
    "## helper functions"
   ]
  },
  {
   "cell_type": "code",
   "execution_count": 5,
   "id": "unexpected-craps",
   "metadata": {},
   "outputs": [],
   "source": [
    "def filter_token(token):\n",
    "    return token.pos_ in {'ADJ', 'ADV', 'NOUN', 'PROPN', 'VERB'}\\\n",
    "        and not token.is_stop\\\n",
    "        and not token.lower_ in stopwords['names']\\\n",
    "        and not token.lower_ in stopwords['disfluency']\\\n",
    "        and not token.lemma_.lower() in stopwords['courtesy']\\\n",
    "        and len(token.lemma_) > 1"
   ]
  },
  {
   "cell_type": "code",
   "execution_count": 6,
   "id": "4c48de75-1ba5-40d7-9fa4-994f4e57a3ac",
   "metadata": {},
   "outputs": [],
   "source": [
    "def find_most_prominent_k_words(k, X, vectorizer):\n",
    "    \n",
    "    print(f'matrix shape: {X.shape}\\n')\n",
    "    \n",
    "    tfidf = X.sum(axis =0).A1\n",
    "    sort_ix = np.argsort(tfidf)[::-1]\n",
    "    most_prominent_words = np.array(vectorizer.get_feature_names())[sort_ix][:k]\n",
    "    \n",
    "    max_length = pd.Series(most_prominent_words).apply(lambda s: len(s)).max()\n",
    "    \n",
    "    for word, score in zip(most_prominent_words, tfidf[sort_ix][:k]):\n",
    "        print(f'{word}{\" \"*(max_length-len(word))}\\t|\\t{round(score,3)}')\n",
    "        \n",
    "    return most_prominent_words\n",
    "\n",
    "def find_most_prominent_words_cutoff(cut_off, X, vectorizer, verbose=False):\n",
    "    \n",
    "    print(f'matrix shape: {X.shape}\\n')\n",
    "    \n",
    "    tfidf = X.sum(axis =0).A1\n",
    "    sort_ix = np.argsort(tfidf)[::-1]\n",
    "    mask = tfidf[sort_ix] > cut_off\n",
    "    most_prominent_words = np.array(vectorizer.get_feature_names())[sort_ix][mask]\n",
    "    \n",
    "    print(f'number of prominent words: {len(most_prominent_words)}\\n')\n",
    "    print(f'ratio of prominent words (relative to vocabulary size): {round(float(len(most_prominent_words)) / len(vectorizer.get_feature_names()) * 100,2)} %\\n')\n",
    "    \n",
    "    if verbose:\n",
    "        max_length = pd.Series(most_prominent_words).apply(lambda s: len(s)).max()\n",
    "        for word, score in zip(most_prominent_words, tfidf[sort_ix][mask]):\n",
    "            print(f'{word}{\" \"*(max_length-len(word))}\\t|\\t{round(score,3)}')\n",
    "        \n",
    "    return most_prominent_words"
   ]
  },
  {
   "cell_type": "markdown",
   "id": "chemical-teach",
   "metadata": {},
   "source": [
    "## Communiques"
   ]
  },
  {
   "cell_type": "code",
   "execution_count": 7,
   "id": "exclusive-bolivia",
   "metadata": {},
   "outputs": [],
   "source": [
    "communiques = pd.read_csv('../data/communiques/cleaned.csv')\n",
    "\n",
    "# group by date\n",
    "communiques_groupby_date = communiques.drop(columns=['title']).groupby('date').apply(lambda s: ' '.join(s.story))\n",
    "\n",
    "# preprocess\n",
    "communique_documents = [\n",
    "    ' '.join([token.lemma_ .lower() for sentence in nlp(doc).sents for token in sentence\n",
    "            if filter_token(token)\n",
    "    ])\n",
    "    for doc in communiques_groupby_date.values\n",
    "]\n",
    "\n",
    "# leave out empty documents\n",
    "communique_documents = [d for d in communique_documents if len(d)>1]\n",
    "\n",
    "# apply collocations\n",
    "communique_documents = [\n",
    "    apply_bigram_colloc(apply_trigram_colloc(doc, trigram_colloc), bigram_colloc)\n",
    "    for doc in communique_documents]\n",
    "\n",
    "# get labels\n",
    "communique_dates = communiques_groupby_date.index.to_series().apply(lambda s: pd.to_datetime(s).strftime('%d/%m'))\n",
    "\n",
    "# tfidf\n",
    "communique_vectorizer = TfidfVectorizer(analyzer='word',\n",
    "                                   min_df=1, # word has to be in at least two documents\n",
    "                                   max_df=0.95, # word has to be in less the 95% of documents\n",
    "                                   smooth_idf=True, # Smooth idf weights by adding one to document frequencies, as if an extra document was seen containing every term in the collection exactly once. Prevents zero divisions.\n",
    "                                   sublinear_tf=False) # replace tf with 1 + log(tf).\n",
    "\n",
    "communique_X = communique_vectorizer.fit_transform(communique_documents)"
   ]
  },
  {
   "cell_type": "code",
   "execution_count": 8,
   "id": "afc7506a-c5a7-4d58-a055-113aa1deabb8",
   "metadata": {},
   "outputs": [
    {
     "data": {
      "text/plain": [
       "<matplotlib.collections.PathCollection at 0x7fdb23b325e0>"
      ]
     },
     "execution_count": 8,
     "metadata": {},
     "output_type": "execute_result"
    },
    {
     "data": {
      "image/png": "[encoded data removed]",
      "text/plain": [
       "<Figure size 432x288 with 1 Axes>"
      ]
     },
     "metadata": {
      "needs_background": "light"
     },
     "output_type": "display_data"
    }
   ],
   "source": [
    "communique_tfidf = communique_X.sum(axis =0).A1\n",
    "\n",
    "plt.scatter(range(len(communique_tfidf)), np.sort(communique_tfidf)[::-1], marker='+')"
   ]
  },
  {
   "cell_type": "code",
   "execution_count": 9,
   "id": "861e8303-aeca-4e57-95e3-1db9c15e2424",
   "metadata": {},
   "outputs": [
    {
     "name": "stdout",
     "output_type": "stream",
     "text": [
      "matrix shape: (13, 898)\n",
      "\n",
      "number of prominent words: 170\n",
      "\n",
      "ratio of prominent words (relative to vocabulary size): 18.93 %\n",
      "\n"
     ]
    }
   ],
   "source": [
    "communique_cutoff = 0.2\n",
    "\n",
    "communique_most_prominent_words = find_most_prominent_words_cutoff(communique_cutoff, communique_X, communique_vectorizer)"
   ]
  },
  {
   "cell_type": "code",
   "execution_count": 35,
   "id": "1e833330-1c06-4c14-b4ec-9448118727f9",
   "metadata": {},
   "outputs": [
    {
     "name": "stdout",
     "output_type": "stream",
     "text": [
      "matrix shape: (13, 898)\n",
      "\n",
      "institution    \t|\t1.602\n",
      "proposal       \t|\t1.216\n",
      "greek_authority\t|\t1.167\n",
      "program        \t|\t1.04\n",
      "talk           \t|\t0.931\n",
      "measure        \t|\t0.912\n",
      "greece         \t|\t0.895\n",
      "agreement      \t|\t0.835\n",
      "work           \t|\t0.826\n",
      "current        \t|\t0.788\n",
      "inform         \t|\t0.768\n",
      "greek          \t|\t0.765\n",
      "situation      \t|\t0.718\n",
      "agree          \t|\t0.714\n",
      "reform         \t|\t0.713\n",
      "discuss        \t|\t0.662\n",
      "today          \t|\t0.657\n",
      "state_play     \t|\t0.634\n",
      "extension      \t|\t0.629\n",
      "arrangement    \t|\t0.629\n",
      "discussion     \t|\t0.602\n",
      "meeting        \t|\t0.599\n",
      "view           \t|\t0.566\n",
      "start          \t|\t0.564\n",
      "commitment     \t|\t0.56\n",
      "euro_area      \t|\t0.554\n",
      "referendum     \t|\t0.553\n",
      "financial      \t|\t0.552\n",
      "progress       \t|\t0.549\n",
      "list           \t|\t0.543\n"
     ]
    }
   ],
   "source": [
    "_ = find_most_prominent_k_words(30, communique_X, communique_vectorizer)"
   ]
  },
  {
   "cell_type": "code",
   "execution_count": 11,
   "id": "1c2ccfeb-ab6b-4705-b24d-9658dab8c0f5",
   "metadata": {},
   "outputs": [
    {
     "name": "stdout",
     "output_type": "stream",
     "text": [
      "Terms that are present in more than 12 documents are disregarded.\n"
     ]
    }
   ],
   "source": [
    "print(f'Terms that are present in more than {int(len(communique_documents) * 0.95)} documents are disregarded.')"
   ]
  },
  {
   "cell_type": "code",
   "execution_count": 12,
   "id": "efcaa2c2-82c1-4671-aba9-91c572f342c3",
   "metadata": {},
   "outputs": [
    {
     "name": "stdout",
     "output_type": "stream",
     "text": [
      "Communiques vocabulary size: 898\n",
      "Number of documents: 13\n"
     ]
    }
   ],
   "source": [
    "print(f'Communiques vocabulary size: {len(communique_vectorizer.get_feature_names())}')\n",
    "print(f'Number of documents: {len(communique_documents)}')"
   ]
  },
  {
   "cell_type": "markdown",
   "id": "pacific-soundtrack",
   "metadata": {},
   "source": [
    "## Euroleaks"
   ]
  },
  {
   "cell_type": "code",
   "execution_count": 13,
   "id": "verbal-china",
   "metadata": {},
   "outputs": [],
   "source": [
    "leaks = pd.read_csv('../data/euroleaks/squeezed.csv')\n",
    "\n",
    "# group by date\n",
    "leaks_groupby_date = leaks.drop(columns=['speaker']).groupby('date').apply(lambda s: ' '.join(s.speech))\n",
    "\n",
    "# preprocess\n",
    "leaks_documents = [\n",
    "    ' '.join([token.lemma_.lower() for sentence in nlp(doc).sents for token in sentence\n",
    "            if filter_token(token)\n",
    "    ])\n",
    "    for doc in leaks_groupby_date.values \n",
    "]\n",
    "\n",
    "# leave out empty documents\n",
    "leaks_documents = [d for d in leaks_documents if len(d)>1]\n",
    "\n",
    "# apply collocations\n",
    "leaks_documents = [\n",
    "    apply_bigram_colloc(apply_trigram_colloc(doc, trigram_colloc), bigram_colloc)\n",
    "    for doc in leaks_documents]\n",
    "\n",
    "# get labels\n",
    "leaks_dates = leaks_groupby_date.index.to_series().apply(lambda s: pd.to_datetime(s).strftime('%d/%m'))\n",
    "\n",
    "# tfidf\n",
    "leaks_vectorizer = TfidfVectorizer(analyzer='word',\n",
    "                                   min_df=1, # word has to be in at least two documents\n",
    "                                   max_df=0.95, # word has to be in less the 95% of documents\n",
    "                                   smooth_idf=True, # Smooth idf weights by adding one to document frequencies, as if an extra document was seen containing every term in the collection exactly once. Prevents zero divisions.\n",
    "                                   sublinear_tf=False) # replace tf with 1 + log(tf).\n",
    "\n",
    "leaks_X = leaks_vectorizer.fit_transform(leaks_documents)"
   ]
  },
  {
   "cell_type": "code",
   "execution_count": 14,
   "id": "510ea804-1446-461b-a412-c318c015611b",
   "metadata": {},
   "outputs": [
    {
     "data": {
      "text/plain": [
       "<matplotlib.collections.PathCollection at 0x7fdb13abcca0>"
      ]
     },
     "execution_count": 14,
     "metadata": {},
     "output_type": "execute_result"
    },
    {
     "data": {
      "image/png": "[encoded data removed]",
      "text/plain": [
       "<Figure size 432x288 with 1 Axes>"
      ]
     },
     "metadata": {
      "needs_background": "light"
     },
     "output_type": "display_data"
    }
   ],
   "source": [
    "leaks_tfidf = leaks_X.sum(axis =0).A1\n",
    "\n",
    "plt.scatter(range(len(leaks_tfidf))[5:], np.sort(leaks_tfidf)[::-1][5:], marker='+')"
   ]
  },
  {
   "cell_type": "code",
   "execution_count": 15,
   "id": "59dc0312-474f-4940-a668-ca836f983740",
   "metadata": {},
   "outputs": [
    {
     "name": "stdout",
     "output_type": "stream",
     "text": [
      "matrix shape: (12, 3357)\n",
      "\n",
      "number of prominent words: 398\n",
      "\n",
      "ratio of prominent words (relative to vocabulary size): 11.86 %\n",
      "\n"
     ]
    }
   ],
   "source": [
    "leaks_cutoff = 0.15\n",
    "\n",
    "leaks_most_prominent_words = find_most_prominent_words_cutoff(leaks_cutoff, leaks_X, leaks_vectorizer)"
   ]
  },
  {
   "cell_type": "code",
   "execution_count": 36,
   "id": "8017e936-6eb4-4640-bbb2-fac63423a1d0",
   "metadata": {},
   "outputs": [
    {
     "name": "stdout",
     "output_type": "stream",
     "text": [
      "matrix shape: (12, 3357)\n",
      "\n",
      "agreement   \t|\t1.902\n",
      "program     \t|\t1.367\n",
      "process     \t|\t1.165\n",
      "reform      \t|\t1.123\n",
      "referendum  \t|\t1.008\n",
      "letter      \t|\t0.918\n",
      "eurogroup   \t|\t0.882\n",
      "list        \t|\t0.854\n",
      "new         \t|\t0.811\n",
      "like        \t|\t0.779\n",
      "change      \t|\t0.723\n",
      "liquidity   \t|\t0.721\n",
      "pension     \t|\t0.716\n",
      "month       \t|\t0.689\n",
      "week        \t|\t0.684\n",
      "day         \t|\t0.681\n",
      "document    \t|\t0.642\n",
      "progress    \t|\t0.622\n",
      "fiscal      \t|\t0.614\n",
      "tomorrow    \t|\t0.607\n",
      "review      \t|\t0.606\n",
      "take        \t|\t0.601\n",
      "political   \t|\t0.6\n",
      "prior_action\t|\t0.6\n",
      "parliament  \t|\t0.58\n",
      "policy      \t|\t0.577\n",
      "statement   \t|\t0.554\n",
      "table       \t|\t0.55\n",
      "believe     \t|\t0.536\n",
      "problem     \t|\t0.534\n"
     ]
    }
   ],
   "source": [
    "_ = find_most_prominent_k_words(30, leaks_X, leaks_vectorizer)"
   ]
  },
  {
   "cell_type": "code",
   "execution_count": 17,
   "id": "72618986-d784-4fbb-a315-bead8289814c",
   "metadata": {},
   "outputs": [
    {
     "name": "stdout",
     "output_type": "stream",
     "text": [
      "Terms that are presint in more than 11 documents are disregarded.\n"
     ]
    }
   ],
   "source": [
    "print(f'Terms that are presint in more than {int(len(leaks_documents) * 0.95)} documents are disregarded.')"
   ]
  },
  {
   "cell_type": "code",
   "execution_count": 18,
   "id": "778a4cab-a480-42ff-a63e-6a08cce5b91f",
   "metadata": {},
   "outputs": [
    {
     "name": "stdout",
     "output_type": "stream",
     "text": [
      "Communiques vocabulary size: 3357\n",
      "Number of documents: 12\n"
     ]
    }
   ],
   "source": [
    "print(f'Communiques vocabulary size: {len(leaks_vectorizer.get_feature_names())}')\n",
    "print(f'Number of documents: {len(leaks_documents)}')"
   ]
  },
  {
   "cell_type": "markdown",
   "id": "4a2510bd-958b-4296-b922-59dd99fe28e3",
   "metadata": {},
   "source": [
    "## make figure for cutoffs"
   ]
  },
  {
   "cell_type": "code",
   "execution_count": 39,
   "id": "f73bca30-c5de-43ab-a55e-518ac1438a05",
   "metadata": {},
   "outputs": [
    {
     "data": {
      "text/plain": [
       "Text(2349, 0.18, 'cut off = 0.15')"
      ]
     },
     "execution_count": 39,
     "metadata": {},
     "output_type": "execute_result"
    },
    {
     "data": {
      "image/png": "[encoded data removed]",
      "text/plain": [
       "<Figure size 720x288 with 2 Axes>"
      ]
     },
     "metadata": {
      "needs_background": "light"
     },
     "output_type": "display_data"
    }
   ],
   "source": [
    "fig, axes = plt.subplots(1, 2, sharey=True, figsize=(10,4))\n",
    "\n",
    "axes[0].scatter(range(len(communique_tfidf)), np.sort(communique_tfidf)[::-1], marker='+')\n",
    "axes[0].axhline(communique_cutoff, 0,len(communique_tfidf), color='black', linewidth=1, linestyle='--')\n",
    "axes[0].set_title('Communiques')\n",
    "axes[0].set_yticks([0, .5, 1, 1.5])\n",
    "axes[0].text(int(len(communique_tfidf)*.7), communique_cutoff*1.2, f'cut off = {communique_cutoff}')\n",
    "\n",
    "axes[1].scatter(range(len(leaks_tfidf)), np.sort(leaks_tfidf)[::-1], marker='+')\n",
    "axes[1].axhline(leaks_cutoff, 0,len(leaks_tfidf), color='black', linewidth=1, linestyle='--')\n",
    "axes[1].set_title('Euroleaks')\n",
    "axes[1].text(int(len(leaks_tfidf)*.7), leaks_cutoff*1.2, f'cut off = {leaks_cutoff}')"
   ]
  },
  {
   "cell_type": "markdown",
   "id": "0eddb489-ace4-4433-ad90-2ec88a7adb51",
   "metadata": {},
   "source": [
    "## find differences"
   ]
  },
  {
   "cell_type": "code",
   "execution_count": 20,
   "id": "295f9f8e-3a67-48bd-9580-adad3a20e43d",
   "metadata": {},
   "outputs": [
    {
     "name": "stdout",
     "output_type": "stream",
     "text": [
      "Number of words: 69\n",
      "\n",
      "institution\n",
      "proposal\n",
      "greek_authority\n",
      "talk\n",
      "measure\n",
      "greece\n",
      "work\n",
      "inform\n",
      "greek\n",
      "situation\n",
      "agree\n",
      "discuss\n",
      "today\n",
      "state_play\n",
      "discussion\n",
      "meeting\n",
      "view\n",
      "start\n",
      "euro_area\n",
      "financial\n",
      "give\n",
      "monday\n",
      "time\n",
      "come\n",
      "good\n",
      "greek_government\n",
      "need\n",
      "ground\n",
      "issue\n",
      "decision\n",
      "recovery\n",
      "look\n",
      "pm\n",
      "stock\n",
      "government\n",
      "basis\n",
      "ireland\n",
      "regular\n",
      "thursday\n",
      "efsf\n",
      "number\n",
      "end\n",
      "go\n",
      "portugal\n",
      "step\n",
      "note\n",
      "cyprus\n",
      "inevitable\n",
      "initiative\n",
      "heads\n",
      "regrettable\n",
      "tuesday\n",
      "short\n",
      "july\n",
      "course\n",
      "question\n",
      "concerned\n",
      "structural_reform\n",
      "member_states\n",
      "wide\n",
      "main\n",
      "national_procedure\n",
      "meantime\n",
      "press_conference\n",
      "door\n",
      "surveillance\n",
      "intensive\n",
      "spain\n",
      "lot\n"
     ]
    }
   ],
   "source": [
    "# prominent words in communiques which are not prominent in euroleaks\n",
    "comm_but_not_leaks = []\n",
    "\n",
    "for word in communique_most_prominent_words:\n",
    "    if word not in leaks_most_prominent_words:\n",
    "        comm_but_not_leaks.append(word)\n",
    "        \n",
    "print(f'Number of words: {len(comm_but_not_leaks)}\\n')\n",
    "for word in comm_but_not_leaks:\n",
    "    print(word)"
   ]
  },
  {
   "cell_type": "code",
   "execution_count": 21,
   "id": "5a1babc5-e0cb-496a-9293-0432432eb041",
   "metadata": {},
   "outputs": [
    {
     "name": "stdout",
     "output_type": "stream",
     "text": [
      "Number of words: 297\n",
      "\n",
      "letter\n",
      "eurogroup\n",
      "change\n",
      "liquidity\n",
      "pension\n",
      "document\n",
      "tomorrow\n",
      "prior_action\n",
      "parliament\n",
      "believe\n",
      "problem\n",
      "public\n",
      "greek_people\n",
      "propose\n",
      "debt\n",
      "tax\n",
      "second_letter\n",
      "country\n",
      "area\n",
      "people\n",
      "deal\n",
      "athens\n",
      "bank\n",
      "line\n",
      "minister\n",
      "mou\n",
      "technical\n",
      "aide_memoire\n",
      "significant\n",
      "set\n",
      "market\n",
      "meet\n",
      "detail\n",
      "rate\n",
      "target\n",
      "euro\n",
      "concern\n",
      "package\n",
      "answer\n",
      "actually\n",
      "low\n",
      "credibility\n",
      "authority\n",
      "system\n",
      "communication\n",
      "move\n",
      "esm\n",
      "send\n",
      "certainly\n",
      "increase\n",
      "brussels_group\n",
      "find\n",
      "sure\n",
      "help\n",
      "able\n",
      "interest_rate\n",
      "prime_minister\n",
      "reason\n",
      "high\n",
      "complete\n",
      "general\n",
      "tell\n",
      "fact\n",
      "mandate\n",
      "previous\n",
      "ahead\n",
      "push\n",
      "ecb\n",
      "large\n",
      "great\n",
      "growth_friendly\n",
      "hope\n",
      "respect\n",
      "medium\n",
      "intention\n",
      "speak\n",
      "plan\n",
      "bill\n",
      "matter\n",
      "friday\n",
      "exist\n",
      "turn\n",
      "sustainable\n",
      "vote\n",
      "paper\n",
      "remark\n",
      "gdp\n",
      "additional\n",
      "direction\n",
      "moment\n",
      "convergence\n",
      "vat\n",
      "amendment\n",
      "require\n",
      "create\n",
      "early\n",
      "morning\n",
      "trust\n",
      "run\n",
      "absolutely\n",
      "difference\n",
      "action\n",
      "credible\n",
      "privatization\n",
      "close\n",
      "hour\n",
      "euro_working_group\n",
      "have\n",
      "scenario\n",
      "feel\n",
      "report\n",
      "available\n",
      "get\n",
      "happen\n",
      "bit\n",
      "expect\n",
      "example\n",
      "necessary\n",
      "extremely\n",
      "assess\n",
      "perspective\n",
      "implement\n",
      "hand\n",
      "sla\n",
      "principle\n",
      "money\n",
      "overall\n",
      "approach\n",
      "lead\n",
      "effort\n",
      "solution\n",
      "information\n",
      "especially\n",
      "low_interest_rate\n",
      "summit\n",
      "possibility\n",
      "raise\n",
      "opinion\n",
      "clearly\n",
      "stance\n",
      "sign\n",
      "february\n",
      "well\n",
      "major\n",
      "real\n",
      "stop\n",
      "produce\n",
      "prepared\n",
      "achieve\n",
      "receive\n",
      "finance\n",
      "word\n",
      "fair\n",
      "basically\n",
      "sense\n",
      "group\n",
      "hfsf\n",
      "environment\n",
      "revenue\n",
      "remind\n",
      "idea\n",
      "specific\n",
      "financing\n",
      "law\n",
      "conference\n",
      "conclude\n",
      "substance\n",
      "share\n",
      "leave\n",
      "improve\n",
      "common\n",
      "see\n",
      "call\n",
      "happy\n",
      "understanding\n",
      "context\n",
      "commit\n",
      "begin\n",
      "parametric\n",
      "implementation\n",
      "primary_surplus\n",
      "negotiate\n",
      "impact\n",
      "lack\n",
      "effect\n",
      "proceed\n",
      "chance\n",
      "refer\n",
      "helpful\n",
      "leader\n",
      "repayment\n",
      "floor\n",
      "legal\n",
      "offer\n",
      "communicate\n",
      "payment\n",
      "element\n",
      "impossible\n",
      "involve\n",
      "mind\n",
      "funding\n",
      "decide\n",
      "possibly\n",
      "beginning\n",
      "explain\n",
      "strengthen\n",
      "nominal\n",
      "exactly\n",
      "pay\n",
      "stage\n",
      "creditor\n",
      "page\n",
      "team\n",
      "highly\n",
      "obviously\n",
      "space\n",
      "sentence\n",
      "contribution\n",
      "labor_market\n",
      "cut\n",
      "conditionality\n",
      "brussels\n",
      "clarity\n",
      "bad\n",
      "unilateral\n",
      "soon\n",
      "deliver\n",
      "technical_team\n",
      "reality\n",
      "recession\n",
      "maintain\n",
      "put\n",
      "face\n",
      "regard\n",
      "credit\n",
      "procedure\n",
      "condition\n",
      "pass\n",
      "tonight\n",
      "separate\n",
      "elstat\n",
      "instance\n",
      "guess\n",
      "fall\n",
      "expectation\n",
      "indicate\n",
      "backtrack\n",
      "appear\n",
      "govern_council\n",
      "introduce\n",
      "sort\n",
      "version\n",
      "pace\n",
      "past\n",
      "scheme\n",
      "listen\n",
      "cost\n",
      "respond\n",
      "side\n",
      "suggest\n",
      "type\n",
      "uncertainty\n",
      "backtracking\n",
      "compare\n",
      "ensure\n",
      "agenda\n",
      "room\n",
      "windfall\n",
      "installment\n",
      "circumstance\n",
      "secondly\n",
      "access\n",
      "willing\n",
      "administration\n",
      "stay\n",
      "track\n",
      "away\n",
      "concrete\n",
      "politically\n",
      "ago\n",
      "reflect\n",
      "old\n",
      "crucial\n",
      "purpose\n",
      "substantial\n",
      "budget\n",
      "quickly\n",
      "stick\n",
      "reduction\n",
      "lose\n",
      "spirit\n",
      "consistent\n",
      "accelerate\n",
      "deadline\n",
      "etcetera\n",
      "strategic\n",
      "expenditure\n"
     ]
    }
   ],
   "source": [
    "# prominent words in communiques which are not prominent in euroleaks\n",
    "\n",
    "leaks_but_not_comms = []\n",
    "\n",
    "for word in leaks_most_prominent_words:\n",
    "    if word not in communique_most_prominent_words:\n",
    "        leaks_but_not_comms.append(word)\n",
    "        \n",
    "print(f'Number of words: {len(leaks_but_not_comms)}\\n')\n",
    "for word in leaks_but_not_comms:\n",
    "    print(word)"
   ]
  },
  {
   "cell_type": "code",
   "execution_count": 22,
   "id": "33ebf4f8-f004-44b9-8f35-1e01b4fdcb29",
   "metadata": {},
   "outputs": [],
   "source": [
    "def intersection(lst1, lst2):\n",
    "    lst3 = [value for value in lst1 if value in lst2]\n",
    "    return lst3\n",
    "\n",
    "assert len(intersection(comm_but_not_leaks, leaks_but_not_comms)) == 0"
   ]
  },
  {
   "cell_type": "markdown",
   "id": "b6998bf2-2c5f-45a4-98e0-644b1f961e03",
   "metadata": {},
   "source": [
    "### words of interest (collect manually)"
   ]
  },
  {
   "cell_type": "code",
   "execution_count": 23,
   "id": "19f485a3-7cbd-4f79-9cad-370da63e912e",
   "metadata": {},
   "outputs": [],
   "source": [
    "# manually collecter words of interest, which highlight differences\n",
    "\n",
    "highlight_differences = set([\n",
    "    \n",
    "    # comms but not leaks\n",
    "    #'institution', # prominent in both (vectorizere filters it out for leaks because present in every document)\n",
    "    #'ireland',\n",
    "    #'portugal',\n",
    "    #'cyprus',\n",
    "    'structural_reform',\n",
    "    #'national_procedure',\n",
    "    #'spain',\n",
    "    'recovery',\n",
    "\n",
    "    # leaks but not comms\n",
    "    'letter',\n",
    "    'liquidity',\n",
    "    'pension',\n",
    "    'parliament',\n",
    "    'debt',\n",
    "    'tax',\n",
    "    'second_letter',\n",
    "    'bank',\n",
    "    'mou',\n",
    "    'aide_memoire',\n",
    "    'market',\n",
    "    #'esm', # European stability mechanism\n",
    "    'brussels_group',\n",
    "    #'interest_rate',\n",
    "    #'prime_minister',\n",
    "    'mandate',\n",
    "    #'ecb', # European Central Bank\n",
    "    'bill',\n",
    "    'gdp',\n",
    "    'vat', # value-added tax\n",
    "    'privatization',\n",
    "    'sla', # staff level agreement\n",
    "    #'low_interest_rate',\n",
    "    'law',\n",
    "    'primary_surplus',\n",
    "    'labor_market',\n",
    "    'recession',\n",
    "    'budget',\n",
    "    \n",
    "    # interesting collocations\n",
    "    'minimum_wage',\n",
    "    'labor_market',\n",
    "    'collective_bargaining',\n",
    "    'structural_reform',\n",
    "    'second_letter',\n",
    "    #'non_performing_loan',\n",
    "    #'capital_control',\n",
    "    'primary_surplus',\n",
    "    'aide_memoire',\n",
    "    'brussels_group',\n",
    "    #'quantitative_easing',\n",
    "    'smp_bond',\n",
    "    \n",
    "    # prominent when tfidf trained on joint communiques + euroleaks\n",
    "    'reform',\n",
    "    'extension',\n",
    "    'referendum',\n",
    "    'list',\n",
    "    'agreement',\n",
    "    \n",
    "    # domain knowledge (Varoufakis claims they refused to talk debt restructuring)\n",
    "    'restructuring'\n",
    "      \n",
    "])\n",
    "\n",
    "# convert to list so that ordering is fixed\n",
    "highlight_differences = list(highlight_differences)\n",
    "# sort the list\n",
    "highlight_differences.sort()"
   ]
  },
  {
   "cell_type": "code",
   "execution_count": 24,
   "id": "b6c8dda4-ddb8-4726-9a28-e6d5bdf931bd",
   "metadata": {},
   "outputs": [
    {
     "name": "stdout",
     "output_type": "stream",
     "text": [
      "34\n"
     ]
    }
   ],
   "source": [
    "print(len(highlight_differences))"
   ]
  },
  {
   "cell_type": "markdown",
   "id": "2a7de649-ca22-47e3-9daa-0004b374925c",
   "metadata": {},
   "source": [
    "### words that are completely absent from one vocabulary"
   ]
  },
  {
   "cell_type": "code",
   "execution_count": 25,
   "id": "0769a2cb-f9e1-4274-a660-887f1124afd0",
   "metadata": {},
   "outputs": [],
   "source": [
    "from pprint import pprint"
   ]
  },
  {
   "cell_type": "code",
   "execution_count": 26,
   "id": "b926689b-5c79-4d2f-b37b-a2db67f95128",
   "metadata": {},
   "outputs": [
    {
     "name": "stdout",
     "output_type": "stream",
     "text": [
      "132 \n",
      "\n"
     ]
    }
   ],
   "source": [
    "# words in communiques which are not prominent and are absent from euroleaks\n",
    "\n",
    "my_list = [word for word in communique_vectorizer.get_feature_names() if word not in communique_most_prominent_words and word not in leaks_vectorizer.get_feature_names()]\n",
    "\n",
    "print(len(my_list),'\\n')\n",
    "#pprint(my_list)"
   ]
  },
  {
   "cell_type": "code",
   "execution_count": 27,
   "id": "42d47671-5703-4e95-9976-89f0a6cd39eb",
   "metadata": {},
   "outputs": [
    {
     "name": "stdout",
     "output_type": "stream",
     "text": [
      "2510 \n",
      "\n"
     ]
    }
   ],
   "source": [
    "# words in euroleaks which are not prominent and are absent from communiques\n",
    "\n",
    "my_list = [word for word in leaks_vectorizer.get_feature_names() if word not in leaks_most_prominent_words and word not in communique_vectorizer.get_feature_names()]\n",
    "\n",
    "print(len(my_list),'\\n')\n",
    "#pprint(my_list)"
   ]
  },
  {
   "cell_type": "markdown",
   "id": "ae4128d2-7004-4737-887b-66f030f3bca5",
   "metadata": {},
   "source": [
    "### inspect collocations"
   ]
  },
  {
   "cell_type": "code",
   "execution_count": 28,
   "id": "d0264c20-d87c-4086-854b-0171d7284f9f",
   "metadata": {},
   "outputs": [
    {
     "name": "stdout",
     "output_type": "stream",
     "text": [
      "greek_authority\n",
      "central_bank\n",
      "debt_sustainability_analysis\n",
      "collective_bargaining\n",
      "state_play\n",
      "brussels_group\n",
      "greek_governmental\n",
      "central_banking\n",
      "non_performing_loan\n",
      "mission_chief\n",
      "press_conference\n",
      "et_cetera\n",
      "duration_mffa\n",
      "labor_market\n",
      "international_monetary_fund\n",
      "track_record\n",
      "central_banks\n",
      "member_state\n",
      "real_estate\n",
      "low_interest_rate\n",
      "smp_bond\n",
      "structural_reform\n",
      "growth_friendly\n",
      "interest_rate\n",
      "prior_actions\n",
      "uncharted_territory\n",
      "safety_net\n",
      "prior_action\n",
      "sign_dotted_line\n",
      "debt_sustainability\n",
      "prime_minister\n",
      "banking_union\n",
      "maximum_flexibility\n",
      "govern_council\n",
      "euro_area\n",
      "national_procedure\n",
      "greek_government\n",
      "monetary_union\n",
      "master_financial_assistance\n",
      "product_market\n",
      "quantitative_easing\n",
      "aide_memoire\n",
      "arm_length\n",
      "technical_team\n",
      "member_states\n",
      "primary_surplus\n",
      "20th_february\n",
      "financial_stability\n",
      "common_ground\n",
      "euro_working_group\n",
      "united_states\n",
      "central_banker\n",
      "capital_control\n",
      "second_letter\n",
      "european_semester\n",
      "successful_conclusion_review\n",
      "minimum_wage\n",
      "greek_people\n",
      "anti_corruption\n",
      "half_percent\n"
     ]
    }
   ],
   "source": [
    "for word in set(communique_vectorizer.get_feature_names() + leaks_vectorizer.get_feature_names()):\n",
    "    if '_' in word:\n",
    "        print(word)"
   ]
  },
  {
   "cell_type": "markdown",
   "id": "instant-voice",
   "metadata": {},
   "source": [
    "## most prominent words (trained together)"
   ]
  },
  {
   "cell_type": "code",
   "execution_count": 40,
   "id": "competitive-importance",
   "metadata": {},
   "outputs": [
    {
     "name": "stdout",
     "output_type": "stream",
     "text": [
      "matrix shape: (25, 3530)\n",
      "\n",
      "institution    \t|\t3.468\n",
      "eurogroup      \t|\t2.508\n",
      "proposal       \t|\t2.305\n",
      "agreement      \t|\t2.208\n",
      "program        \t|\t2.085\n",
      "need           \t|\t2.035\n",
      "know           \t|\t1.904\n",
      "work           \t|\t1.749\n",
      "greece         \t|\t1.708\n",
      "greek_authority\t|\t1.692\n",
      "agree          \t|\t1.601\n",
      "measure        \t|\t1.57\n",
      "question       \t|\t1.569\n",
      "go             \t|\t1.565\n",
      "reform         \t|\t1.557\n",
      "greek          \t|\t1.491\n",
      "come           \t|\t1.426\n",
      "time           \t|\t1.368\n",
      "discussion     \t|\t1.363\n",
      "referendum     \t|\t1.359\n",
      "government     \t|\t1.356\n",
      "talk           \t|\t1.337\n",
      "process        \t|\t1.334\n",
      "situation      \t|\t1.304\n",
      "meeting        \t|\t1.28\n",
      "discuss        \t|\t1.222\n",
      "list           \t|\t1.188\n",
      "today          \t|\t1.167\n",
      "new            \t|\t1.11\n",
      "issue          \t|\t1.09\n"
     ]
    }
   ],
   "source": [
    "documents = leaks_documents + communique_documents\n",
    "dates = pd.concat((leaks_dates, communique_dates)).values\n",
    "\n",
    "tfidf_vectorizer = TfidfVectorizer(analyzer='word',\n",
    "                                   min_df=1, # word has to be in at least two documents\n",
    "                                   max_df=0.99, # word has to be in less the 95% of documents\n",
    "                                   smooth_idf=True, # Smooth idf weights by adding one to document frequencies, as if an extra document was seen containing every term in the collection exactly once. Prevents zero divisions.\n",
    "                                   sublinear_tf=False) # replace tf with 1 + log(tf).\n",
    "\n",
    "X = tfidf_vectorizer.fit_transform(documents)\n",
    "\n",
    "leaks_most_prominent_words = find_most_prominent_k_words(30, X, tfidf_vectorizer)"
   ]
  },
  {
   "cell_type": "code",
   "execution_count": 30,
   "id": "55e6a6fc-4ab3-4a15-8a3d-eb697420f43f",
   "metadata": {},
   "outputs": [
    {
     "name": "stdout",
     "output_type": "stream",
     "text": [
      "word                \t|\ttfidf\t|\tcount\t| prominent in\t| prominent in\n",
      "                    \t|\t\t|\t\t| communiques\t| euroleaks\n",
      "----------------------------------------------------------------------------------------------------\n",
      "agreement           \t|\t2.208\t|\t299\t|\tTrue\t|\tTrue\n",
      "aide_memoire        \t|\t0.338\t|\t31\t|\tFalse\t|\tFalse\n",
      "bank                \t|\t0.506\t|\t63\t|\tFalse\t|\tFalse\n",
      "bill                \t|\t0.239\t|\t13\t|\tFalse\t|\tFalse\n",
      "brussels_group      \t|\t0.312\t|\t30\t|\tFalse\t|\tFalse\n",
      "budget              \t|\t0.141\t|\t15\t|\tFalse\t|\tFalse\n",
      "collective_bargaining\t|\t0.118\t|\t12\t|\tFalse\t|\tFalse\n",
      "debt                \t|\t0.553\t|\t72\t|\tFalse\t|\tFalse\n",
      "extension           \t|\t0.872\t|\t65\t|\tTrue\t|\tTrue\n",
      "gdp                 \t|\t0.258\t|\t32\t|\tFalse\t|\tFalse\n",
      "labor_market        \t|\t0.171\t|\t21\t|\tFalse\t|\tFalse\n",
      "law                 \t|\t0.181\t|\t14\t|\tFalse\t|\tFalse\n",
      "letter              \t|\t0.967\t|\t70\t|\tFalse\t|\tTrue\n",
      "liquidity           \t|\t0.675\t|\t69\t|\tFalse\t|\tTrue\n",
      "list                \t|\t1.188\t|\t126\t|\tTrue\t|\tTrue\n",
      "mandate             \t|\t0.333\t|\t37\t|\tFalse\t|\tFalse\n",
      "market              \t|\t0.477\t|\t59\t|\tFalse\t|\tFalse\n",
      "minimum_wage        \t|\t0.065\t|\t7\t|\tFalse\t|\tFalse\n",
      "mou                 \t|\t0.442\t|\t49\t|\tFalse\t|\tFalse\n",
      "parliament          \t|\t0.584\t|\t86\t|\tFalse\t|\tTrue\n",
      "pension             \t|\t0.753\t|\t106\t|\tFalse\t|\tTrue\n",
      "primary_surplus     \t|\t0.216\t|\t24\t|\tFalse\t|\tFalse\n",
      "privatization       \t|\t0.24\t|\t30\t|\tFalse\t|\tFalse\n",
      "recession           \t|\t0.15\t|\t15\t|\tFalse\t|\tFalse\n",
      "recovery            \t|\t0.548\t|\t15\t|\tTrue\t|\tFalse\n",
      "referendum          \t|\t1.359\t|\t80\t|\tTrue\t|\tTrue\n",
      "reform              \t|\t1.557\t|\t181\t|\tTrue\t|\tTrue\n",
      "restructuring       \t|\t0.107\t|\t8\t|\tFalse\t|\tFalse\n",
      "second_letter       \t|\t0.449\t|\t21\t|\tFalse\t|\tFalse\n",
      "sla                 \t|\t0.219\t|\t16\t|\tFalse\t|\tFalse\n",
      "smp_bond            \t|\t0.077\t|\t8\t|\tFalse\t|\tFalse\n",
      "structural_reform   \t|\t0.351\t|\t26\t|\tTrue\t|\tFalse\n",
      "tax                 \t|\t0.521\t|\t71\t|\tFalse\t|\tFalse\n",
      "vat                 \t|\t0.258\t|\t29\t|\tFalse\t|\tFalse\n"
     ]
    }
   ],
   "source": [
    "# tfidf scores of words of interest, when tfidf is trained on joint text\n",
    "\n",
    "from sklearn.feature_extraction.text import CountVectorizer\n",
    "\n",
    "count_vectorizer = CountVectorizer(max_df=0.95)\n",
    "counts = count_vectorizer.fit_transform(leaks_documents + communique_documents)\n",
    "\n",
    "tfidf = X.sum(axis =0).A1\n",
    "\n",
    "print(f'word{\" \"*(20-4)}\\t|\\ttfidf\\t|\\tcount\\t| prominent in\\t| prominent in')\n",
    "print(f'{\" \"*20}\\t|\\t\\t|\\t\\t| communiques\\t| euroleaks')\n",
    "print('-'*100)\n",
    "for word in highlight_differences:\n",
    "    index = tfidf_vectorizer.vocabulary_[word]\n",
    "    print(f'{word}{\" \"*(20-len(word))}\\t|\\t{round(tfidf[index],3)}\\t|\\t{counts.sum(axis=0).A1[count_vectorizer.vocabulary_[word]]}\\t|\\t{word in communique_most_prominent_words}\\t|\\t{word in leaks_most_prominent_words}')"
   ]
  },
  {
   "cell_type": "markdown",
   "id": "4e7540e0-6acf-4345-9b45-adb59a70059a",
   "metadata": {},
   "source": [
    "## Figure\n",
    "Grid: https://stackoverflow.com/questions/38973868/adjusting-gridlines-and-ticks-in-matplotlib-imshow"
   ]
  },
  {
   "cell_type": "code",
   "execution_count": 31,
   "id": "8ed13019-db67-4ae1-b97f-f58395dc91ea",
   "metadata": {},
   "outputs": [],
   "source": [
    "leaks_matshow = np.zeros((len(highlight_differences), len(leaks_dates)))\n",
    "\n",
    "for i,word in enumerate(highlight_differences):\n",
    "    if word in leaks_vectorizer.get_feature_names():\n",
    "        leaks_matshow[i] = leaks_X.toarray()[:,leaks_vectorizer.get_feature_names().index(word)]\n",
    "        \n",
    "comm_matshow = np.zeros((len(highlight_differences), len(communique_dates)))\n",
    "\n",
    "for i,word in enumerate(list(highlight_differences)):\n",
    "    if word in communique_vectorizer.get_feature_names():\n",
    "        comm_matshow[i,:] = communique_X.toarray()[:,communique_vectorizer.get_feature_names().index(word)]\n",
    "    "
   ]
  },
  {
   "cell_type": "code",
   "execution_count": 41,
   "id": "disturbed-session",
   "metadata": {},
   "outputs": [
    {
     "name": "stderr",
     "output_type": "stream",
     "text": [
      "<ipython-input-41-585dff3abe2a>:6: RuntimeWarning: divide by zero encountered in log\n",
      "  axes[0].matshow(np.log(leaks_matshow), cmap='Blues')\n",
      "<ipython-input-41-585dff3abe2a>:16: RuntimeWarning: divide by zero encountered in log\n",
      "  axes[1].matshow(np.log(comm_matshow), cmap='Blues')\n"
     ]
    },
    {
     "data": {
      "image/png": "[encoded data removed]",
      "text/plain": [
       "<Figure size 720x576 with 2 Axes>"
      ]
     },
     "metadata": {
      "needs_background": "light"
     },
     "output_type": "display_data"
    }
   ],
   "source": [
    "keywords = highlight_differences\n",
    "\n",
    "fig, axes = plt.subplots(1,2,figsize=(10,8),sharey=True)\n",
    "\n",
    "# leaks\n",
    "axes[0].matshow(np.log(leaks_matshow), cmap='Blues')\n",
    "axes[0].set_xticks(np.arange(len(leaks_dates)))\n",
    "_ = axes[0].set_xticklabels(leaks_dates, rotation=45)\n",
    "# grids\n",
    "axes[0].set_xticks(np.arange(-.5, len(leaks_dates), 1), minor=True)\n",
    "axes[0].set_yticks(np.arange(len(keywords)))\n",
    "axes[0].set_yticks(np.arange(-.53, len(keywords), 1), minor=True)\n",
    "axes[0].grid(which='minor', color='black', linestyle='-', linewidth=.5, alpha=.4)\n",
    "\n",
    "# communiques\n",
    "axes[1].matshow(np.log(comm_matshow), cmap='Blues')\n",
    "axes[1].set_xticks(range(len(communique_dates)))\n",
    "_ = axes[1].set_xticklabels(communique_dates, rotation=45)\n",
    "# grids\n",
    "axes[1].set_xticks(np.arange(-.53, len(leaks_dates), 1), minor=True)\n",
    "axes[1].set_yticks(np.arange(len(keywords)))\n",
    "axes[1].set_yticks(np.arange(-.53, len(keywords), 1), minor=True)\n",
    "axes[1].grid(which='minor', color='black', linestyle='-', linewidth=.5, alpha=.4)\n",
    "\n",
    "# shared y axis\n",
    "axes[0].set_yticks(range(len(keywords)))\n",
    "_ = axes[0].set_yticklabels(keywords)\n",
    "#axes[1].set_yticks(range(len(keywords)))\n",
    "#_ = axes[1].set_yticklabels(keywords)\n",
    "\n",
    "axes[0].set_title('Euroleaks')\n",
    "axes[1].set_title('Communiques')\n",
    "\n",
    "\n",
    "\n",
    "fig.tight_layout()\n",
    "\n",
    "fig.savefig('../figures/term_heatmap.png')"
   ]
  },
  {
   "cell_type": "markdown",
   "id": "fd35db35-1a5a-4e6c-b91a-5d248575eca9",
   "metadata": {},
   "source": [
    "**TODO** investigate terms with text search and read into them:\n",
    "- bank\n",
    "- bill\n",
    "- list\n",
    "\n",
    "Note that I have taken the log of the matrix so that high scores don't dominate the color spectrum."
   ]
  },
  {
   "cell_type": "markdown",
   "id": "39425fff-7949-48a3-9081-169fe6d1ac0b",
   "metadata": {},
   "source": [
    "# Auxiliary text search"
   ]
  },
  {
   "cell_type": "code",
   "execution_count": 33,
   "id": "0435f763-3a8a-40bb-b97b-5bf927207aea",
   "metadata": {},
   "outputs": [],
   "source": [
    "# leaks\n",
    "\n",
    "def search_term(term):\n",
    "    for i,row in leaks.iterrows():\n",
    "        if term in row.speech.lower():\n",
    "            date = pd.to_datetime(row.date).strftime('%d/%m')\n",
    "            print(f'{row.speaker} ({date}):')\n",
    "            print(row.speech)\n",
    "            print()\n",
    "            \n",
    "#search_term('restructuring')"
   ]
  },
  {
   "cell_type": "code",
   "execution_count": 34,
   "id": "16b82d5b-581b-47e5-91bd-57833c3f2a88",
   "metadata": {},
   "outputs": [],
   "source": [
    "# communiques\n",
    "\n",
    "def search_term(term):\n",
    "    for i,row in communiques.iterrows():\n",
    "        if term in row.story.lower():\n",
    "            print(f'{row.title} ({row.date}):')\n",
    "            print(row.story)\n",
    "            print()\n",
    "            \n",
    "#search_term('capital control')"
   ]
  },
  {
   "cell_type": "code",
   "execution_count": null,
   "id": "c4d76b7e-8dea-4734-81a5-21c5033ef083",
   "metadata": {},
   "outputs": [],
   "source": []
  }
 ],
 "metadata": {
  "kernelspec": {
   "display_name": "Python 3",
   "language": "python",
   "name": "python3"
  },
  "language_info": {
   "codemirror_mode": {
    "name": "ipython",
    "version": 3
   },
   "file_extension": ".py",
   "mimetype": "text/x-python",
   "name": "python",
   "nbconvert_exporter": "python",
   "pygments_lexer": "ipython3",
   "version": "3.8.5"
  }
 },
 "nbformat": 4,
 "nbformat_minor": 5
}
