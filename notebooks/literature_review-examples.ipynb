{
 "cells": [
  {
   "cell_type": "code",
   "execution_count": 44,
   "id": "2fd1fe44-4457-405a-bb9d-0003a0e7ea44",
   "metadata": {},
   "outputs": [],
   "source": [
    "import spacy"
   ]
  },
  {
   "cell_type": "code",
   "execution_count": 57,
   "id": "1e6056a2-a396-49c8-bddf-832c2e96ea40",
   "metadata": {},
   "outputs": [],
   "source": [
    "nlp = spacy.load(\"en_core_web_lg\", exclude=[\"ner\"])"
   ]
  },
  {
   "cell_type": "code",
   "execution_count": 60,
   "id": "2fb4f481-627b-4ddc-a4b7-918221c71782",
   "metadata": {},
   "outputs": [],
   "source": [
    "s = 'Despite it being the \"Big Apple\", you can\\'t find a good apple in NYC. I like them best from Martha\\'s Vineyard.'\n",
    "\n",
    "d = nlp(s)\n",
    "\n",
    "result = [[token.lemma_.lower() for token in sentence if not token.is_stop and token.pos_ != 'PUNCT'] for sentence in d.sents]\n",
    "#[[f'{token.lemma_}_{token.pos_}' for token in sentence] for sentence in d.sents]"
   ]
  },
  {
   "cell_type": "code",
   "execution_count": 61,
   "id": "95a54af8-998e-40af-9fc5-63b2661e74fe",
   "metadata": {},
   "outputs": [
    {
     "name": "stdout",
     "output_type": "stream",
     "text": [
      "[ despite | big | apple | find | good | apple | nyc |]\n",
      "[ like | well | martha | vineyard |]\n"
     ]
    }
   ],
   "source": [
    "for sent in result:\n",
    "    print('[', end='')\n",
    "    for token in sent:\n",
    "        print('', token, '|', end='')\n",
    "    print(']')"
   ]
  },
  {
   "cell_type": "code",
   "execution_count": null,
   "id": "2df49444-dfd0-42a3-8c70-5e22ccd29b0f",
   "metadata": {},
   "outputs": [],
   "source": [
    "#nlp.Defaults.stop_words"
   ]
  },
  {
   "cell_type": "markdown",
   "id": "15279da7-28eb-433e-b091-d691d7fdda1a",
   "metadata": {},
   "source": [
    "### NMF"
   ]
  },
  {
   "cell_type": "code",
   "execution_count": 1,
   "id": "a52d9fa4-511b-4406-9ca8-359dcad7cd55",
   "metadata": {},
   "outputs": [],
   "source": [
    "documents = ['apple apple', 'peach peach', 'apple peach']\n",
    "\n",
    "from sklearn.feature_extraction.text import TfidfVectorizer\n",
    "\n",
    "tfidf_vectorizer = TfidfVectorizer(analyzer='word',\n",
    "                                   min_df=2,\n",
    "                                   max_df=0.95,\n",
    "                                   sublinear_tf=False)\n",
    "\n",
    "X = tfidf_vectorizer.fit_transform(documents) "
   ]
  },
  {
   "cell_type": "code",
   "execution_count": 5,
   "id": "792d9053-3adf-464e-8851-be48febccf0e",
   "metadata": {},
   "outputs": [
    {
     "data": {
      "text/plain": [
       "array([[1.        , 0.        ],\n",
       "       [0.        , 1.        ],\n",
       "       [0.70710678, 0.70710678]])"
      ]
     },
     "execution_count": 5,
     "metadata": {},
     "output_type": "execute_result"
    }
   ],
   "source": [
    "X.toarray()"
   ]
  },
  {
   "cell_type": "code",
   "execution_count": 23,
   "id": "13285d75-b4d2-41fc-8315-a370a6ae0196",
   "metadata": {},
   "outputs": [
    {
     "name": "stderr",
     "output_type": "stream",
     "text": [
      "/Users/asajina/repos/master-thesis/.env/lib/python3.8/site-packages/sklearn/decomposition/_nmf.py:312: FutureWarning: The 'init' value, when 'init=None' and n_components is less than n_samples and n_features, will be changed from 'nndsvd' to 'nndsvda' in 1.1 (renaming of 0.26).\n",
      "  warnings.warn((\"The 'init' value, when 'init=None' and \"\n"
     ]
    }
   ],
   "source": [
    "from sklearn.decomposition import NMF\n",
    "\n",
    "nmf = NMF(n_components=2)\n",
    "\n",
    "W = nmf.fit_transform(X.toarray().T)\n",
    "H = nmf.components_"
   ]
  },
  {
   "cell_type": "code",
   "execution_count": 24,
   "id": "9ebbbb98-1d64-4662-bbd8-ee464e82dffd",
   "metadata": {},
   "outputs": [
    {
     "data": {
      "text/plain": [
       "array([[1.05608892e-05, 1.08910877e+00],\n",
       "       [9.78610949e-01, 0.00000000e+00]])"
      ]
     },
     "execution_count": 24,
     "metadata": {},
     "output_type": "execute_result"
    }
   ],
   "source": [
    "W"
   ]
  },
  {
   "cell_type": "code",
   "execution_count": 25,
   "id": "0d02df3e-9922-479f-a5c5-7bd4db5bf73f",
   "metadata": {},
   "outputs": [
    {
     "data": {
      "text/plain": [
       "array([[0.        , 1.02185654, 0.72256169],\n",
       "       [0.91818194, 0.        , 0.64924567]])"
      ]
     },
     "execution_count": 25,
     "metadata": {},
     "output_type": "execute_result"
    }
   ],
   "source": [
    "H"
   ]
  },
  {
   "cell_type": "markdown",
   "id": "998540dc-a476-423e-bd46-f31c9b22a5a0",
   "metadata": {},
   "source": [
    "### word embeddings"
   ]
  },
  {
   "cell_type": "code",
   "execution_count": 1,
   "id": "0a8fcbed-1435-4bab-a6d0-45d6e1760eab",
   "metadata": {},
   "outputs": [
    {
     "name": "stderr",
     "output_type": "stream",
     "text": [
      "/Users/asajina/repos/master-thesis/.env/lib/python3.8/site-packages/gensim/similarities/__init__.py:15: UserWarning: The gensim.similarities.levenshtein submodule is disabled, because the optional Levenshtein package <https://pypi.org/project/python-Levenshtein/> is unavailable. Install Levenhstein (e.g. `pip install python-Levenshtein`) to suppress this warning.\n",
      "  warnings.warn(msg)\n"
     ]
    },
    {
     "name": "stdout",
     "output_type": "stream",
     "text": [
      "Time taken: 0.78 mins\n"
     ]
    }
   ],
   "source": [
    "import gensim.downloader as api\n",
    "import time\n",
    "\n",
    "t = time.time()\n",
    "\n",
    "model_wiki = api.load('glove-wiki-gigaword-200')\n",
    "#model_twitter = api.load(\"glove-twitter-200\")\n",
    "\n",
    "print(f'Time taken: {round((time.time() - t) / 60, 2)} mins')"
   ]
  },
  {
   "cell_type": "code",
   "execution_count": 2,
   "id": "a4b04fb9-e50c-4ca1-ac4a-fbc445a25023",
   "metadata": {},
   "outputs": [],
   "source": [
    "#model_wiki.most_similar('embedding')"
   ]
  },
  {
   "cell_type": "code",
   "execution_count": 3,
   "id": "51107399-ecef-4a73-8123-64939ce8d04f",
   "metadata": {},
   "outputs": [],
   "source": [
    "#model_twitter.most_similar('embedding')"
   ]
  },
  {
   "cell_type": "code",
   "execution_count": 25,
   "id": "301d3575-b759-4052-827a-6cdd9f51a939",
   "metadata": {},
   "outputs": [
    {
     "data": {
      "text/plain": [
       "True"
      ]
     },
     "execution_count": 25,
     "metadata": {},
     "output_type": "execute_result"
    }
   ],
   "source": [
    "model_wiki.__contains__('tram')"
   ]
  },
  {
   "cell_type": "code",
   "execution_count": 56,
   "id": "3be24e54-b5da-4a86-bfc6-e873b2101fd0",
   "metadata": {},
   "outputs": [],
   "source": [
    "import numpy as np\n",
    "\n",
    "words = [\n",
    "    'apple',\n",
    "    'banana',\n",
    "    'strawberry',\n",
    "    'blueberry',\n",
    "    'peach',\n",
    "    'apricot',\n",
    "#    'car',\n",
    "#    'bicycle',\n",
    "#    'bus',\n",
    "#    'metro',\n",
    "#    'tram',\n",
    "#    'train',\n",
    "    'asimov',\n",
    "    'dostoevsky',\n",
    "    'lermontov',\n",
    "    'nabokov',\n",
    "    'kafka',\n",
    "    'kundera'\n",
    "]\n",
    "\n",
    "vectors = np.array([model_wiki[word] for word in words])"
   ]
  },
  {
   "cell_type": "code",
   "execution_count": 57,
   "id": "2f54181b-30ce-4e03-a25c-e8497fa6c918",
   "metadata": {},
   "outputs": [
    {
     "data": {
      "text/plain": [
       "(12, 200)"
      ]
     },
     "execution_count": 57,
     "metadata": {},
     "output_type": "execute_result"
    }
   ],
   "source": [
    "vectors.shape"
   ]
  },
  {
   "cell_type": "code",
   "execution_count": 90,
   "id": "9fdbd544-974e-4879-a6b1-727b75c018a6",
   "metadata": {},
   "outputs": [
    {
     "data": {
      "image/png": "[encoded data removed]",
      "text/plain": [
       "<Figure size 504x360 with 2 Axes>"
      ]
     },
     "metadata": {
      "needs_background": "light"
     },
     "output_type": "display_data"
    }
   ],
   "source": [
    "from scipy.cluster import hierarchy\n",
    "import matplotlib.pyplot as plt\n",
    "from sklearn.manifold import TSNE\n",
    "\n",
    "# t-SNE\n",
    "tsne = TSNE(n_components=2, perplexity=5)\n",
    "tsne_result = tsne.fit_transform(vectors)\n",
    "\n",
    "# dendrogram\n",
    "Z = hierarchy.linkage(vectors, method='average', metric='cosine')\n",
    "\n",
    "# plot\n",
    "fig, axes = plt.subplots(1, 2, figsize=(7,5))\n",
    "\n",
    "# t-SNE\n",
    "axes[0].scatter(tsne_result[:,0], tsne_result[:,1], color='black', marker='+')\n",
    "for i,(x,y) in enumerate(tsne_result):\n",
    "    axes[0].text(x+5, y+5, words[i], fontsize=12)\n",
    "    \n",
    "axes[0].axis('off')\n",
    "axes[0].set_title('t-SNE')\n",
    "\n",
    "# dendrogram\n",
    "dn = hierarchy.dendrogram(Z, \n",
    "                          orientation='left', \n",
    "                          labels=words,\n",
    "                          ax=axes[1],\n",
    "                          link_color_func=lambda k: 'black'\n",
    "                         )\n",
    "\n",
    "axes[1].spines['top'].set_visible(False)\n",
    "axes[1].spines['right'].set_visible(False)\n",
    "axes[1].spines['bottom'].set_visible(False)\n",
    "axes[1].spines['left'].set_visible(False)\n",
    "axes[1].get_xaxis().set_visible(False)\n",
    "axes[1].set_title('dendrogram')\n",
    "\n",
    "fig.tight_layout()\n",
    "\n",
    "fig.savefig('../figures/visualization-example.png')"
   ]
  },
  {
   "cell_type": "code",
   "execution_count": 68,
   "id": "ffd6870d-a6fe-4d49-ae31-755f450e8139",
   "metadata": {},
   "outputs": [],
   "source": [
    "from sklearn.manifold import TSNE\n",
    "\n",
    "tsne = TSNE(n_components=2, perplexity=5)\n",
    "tsne_result = tsne.fit_transform(vectors)"
   ]
  },
  {
   "cell_type": "code",
   "execution_count": 69,
   "id": "f79f0595-d49b-4b64-9d6f-e4db91cc4ef6",
   "metadata": {},
   "outputs": [
    {
     "data": {
      "text/plain": [
       "(12, 2)"
      ]
     },
     "execution_count": 69,
     "metadata": {},
     "output_type": "execute_result"
    }
   ],
   "source": [
    "tsne_result.shape"
   ]
  },
  {
   "cell_type": "code",
   "execution_count": 78,
   "id": "be6f2b3d-8fd2-4d72-961b-9f97b7efc2d7",
   "metadata": {},
   "outputs": [
    {
     "data": {
      "text/plain": [
       "(-195.34778442382813,\n",
       " 140.24466552734376,\n",
       " -18.429882955551147,\n",
       " 69.4114589214325)"
      ]
     },
     "execution_count": 78,
     "metadata": {},
     "output_type": "execute_result"
    },
    {
     "data": {
      "image/png": "[encoded data removed]",
      "text/plain": [
       "<Figure size 432x288 with 1 Axes>"
      ]
     },
     "metadata": {
      "needs_background": "light"
     },
     "output_type": "display_data"
    }
   ],
   "source": [
    "fig, ax = plt.subplots()\n",
    "\n",
    "ax.scatter(tsne_result[:,0], tsne_result[:,1], color='black', marker='+')\n",
    "for i,(x,y) in enumerate(tsne_result):\n",
    "    ax.text(x+5, y, words[i])\n",
    "    \n",
    "ax.axis('off')"
   ]
  },
  {
   "cell_type": "markdown",
   "id": "0421c49f-958f-4b5c-9bcb-3bada94514cb",
   "metadata": {},
   "source": [
    "### temp"
   ]
  },
  {
   "cell_type": "code",
   "execution_count": 27,
   "id": "3f51b740-2555-4792-8f6a-786390df305b",
   "metadata": {},
   "outputs": [],
   "source": [
    "import pandas as pd\n",
    "\n",
    "df = pd.read_csv('../data/euroleaks/parsed.csv')"
   ]
  },
  {
   "cell_type": "code",
   "execution_count": 28,
   "id": "0c376c40-d3ab-4880-ab6e-a290da05c01a",
   "metadata": {},
   "outputs": [
    {
     "data": {
      "text/html": [
       "<div>\n",
       "<style scoped>\n",
       "    .dataframe tbody tr th:only-of-type {\n",
       "        vertical-align: middle;\n",
       "    }\n",
       "\n",
       "    .dataframe tbody tr th {\n",
       "        vertical-align: top;\n",
       "    }\n",
       "\n",
       "    .dataframe thead th {\n",
       "        text-align: right;\n",
       "    }\n",
       "</style>\n",
       "<table border=\"1\" class=\"dataframe\">\n",
       "  <thead>\n",
       "    <tr style=\"text-align: right;\">\n",
       "      <th></th>\n",
       "      <th>speaker</th>\n",
       "      <th>speech</th>\n",
       "      <th>timestamp</th>\n",
       "      <th>date</th>\n",
       "    </tr>\n",
       "  </thead>\n",
       "  <tbody>\n",
       "    <tr>\n",
       "      <th>0</th>\n",
       "      <td>Jeroen Dijsselbloem</td>\n",
       "      <td>… of your responses or questions. And can I fi...</td>\n",
       "      <td>1900-01-01 00:00:00</td>\n",
       "      <td>2015-02-24 00:00:00</td>\n",
       "    </tr>\n",
       "    <tr>\n",
       "      <th>1</th>\n",
       "      <td>Speaker 2</td>\n",
       "      <td>Uh, yes, uh, thank you, Jeroen. Well, uh, comm...</td>\n",
       "      <td>1900-01-01 00:00:10</td>\n",
       "      <td>2015-02-24 00:00:00</td>\n",
       "    </tr>\n",
       "    <tr>\n",
       "      <th>2</th>\n",
       "      <td>Michael Noonan</td>\n",
       "      <td>Michael Noonan.</td>\n",
       "      <td>1900-01-01 00:01:27</td>\n",
       "      <td>2015-02-24 00:00:00</td>\n",
       "    </tr>\n",
       "    <tr>\n",
       "      <th>3</th>\n",
       "      <td>Speaker 2</td>\n",
       "      <td>Uh, it is therefore regrettable that, uh-</td>\n",
       "      <td>1900-01-01 00:01:29</td>\n",
       "      <td>2015-02-24 00:00:00</td>\n",
       "    </tr>\n",
       "    <tr>\n",
       "      <th>4</th>\n",
       "      <td>Speaker 3</td>\n",
       "      <td>Has entered the conference.</td>\n",
       "      <td>1900-01-01 00:01:33</td>\n",
       "      <td>2015-02-24 00:00:00</td>\n",
       "    </tr>\n",
       "  </tbody>\n",
       "</table>\n",
       "</div>"
      ],
      "text/plain": [
       "               speaker                                             speech  \\\n",
       "0  Jeroen Dijsselbloem  … of your responses or questions. And can I fi...   \n",
       "1            Speaker 2  Uh, yes, uh, thank you, Jeroen. Well, uh, comm...   \n",
       "2       Michael Noonan                                    Michael Noonan.   \n",
       "3            Speaker 2          Uh, it is therefore regrettable that, uh-   \n",
       "4            Speaker 3                        Has entered the conference.   \n",
       "\n",
       "             timestamp                 date  \n",
       "0  1900-01-01 00:00:00  2015-02-24 00:00:00  \n",
       "1  1900-01-01 00:00:10  2015-02-24 00:00:00  \n",
       "2  1900-01-01 00:01:27  2015-02-24 00:00:00  \n",
       "3  1900-01-01 00:01:29  2015-02-24 00:00:00  \n",
       "4  1900-01-01 00:01:33  2015-02-24 00:00:00  "
      ]
     },
     "execution_count": 28,
     "metadata": {},
     "output_type": "execute_result"
    }
   ],
   "source": [
    "df.head()"
   ]
  },
  {
   "cell_type": "code",
   "execution_count": null,
   "id": "a1aaaea3-fd9d-4b37-a3aa-9d82542f9c5e",
   "metadata": {},
   "outputs": [],
   "source": []
  }
 ],
 "metadata": {
  "kernelspec": {
   "display_name": "Python 3",
   "language": "python",
   "name": "python3"
  },
  "language_info": {
   "codemirror_mode": {
    "name": "ipython",
    "version": 3
   },
   "file_extension": ".py",
   "mimetype": "text/x-python",
   "name": "python",
   "nbconvert_exporter": "python",
   "pygments_lexer": "ipython3",
   "version": "3.8.5"
  }
 },
 "nbformat": 4,
 "nbformat_minor": 5
}
