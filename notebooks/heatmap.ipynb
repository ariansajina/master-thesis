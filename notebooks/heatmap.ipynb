{
 "cells": [
  {
   "cell_type": "markdown",
   "id": "cheap-cricket",
   "metadata": {},
   "source": [
    "# Heatmap\n",
    "Heatmap of terms over time for Euroleaks and Communiques."
   ]
  },
  {
   "cell_type": "code",
   "execution_count": 1,
   "id": "opening-gibraltar",
   "metadata": {},
   "outputs": [],
   "source": [
    "import re\n",
    "import time\n",
    "import json\n",
    "\n",
    "import numpy as np\n",
    "import pandas as pd\n",
    "import matplotlib.pyplot as plt\n",
    "\n",
    "from sklearn.feature_extraction.text import TfidfVectorizer\n",
    "import spacy"
   ]
  },
  {
   "cell_type": "markdown",
   "id": "endangered-rouge",
   "metadata": {},
   "source": [
    "## stopwords"
   ]
  },
  {
   "cell_type": "code",
   "execution_count": 2,
   "id": "loved-signal",
   "metadata": {},
   "outputs": [],
   "source": [
    "import json\n",
    "\n",
    "with open('../data/euroleaks/amend_names.json', 'r') as f:\n",
    "    amend_names = json.load(f)\n",
    "    \n",
    "# make stopwords out of names\n",
    "stopnames = []\n",
    "\n",
    "for names in amend_names.values():\n",
    "    for name in names:\n",
    "        if not re.search('\\[.*\\]', name):\n",
    "            stopnames += name.split(' ')\n",
    "            \n",
    "for name in pd.read_csv('../data/euroleaks/cleaned.csv').speaker.unique():\n",
    "    if 'speaker' not in name:\n",
    "        stopnames += name.split(' ')\n",
    "    \n",
    "stopnames = set(stopnames)\n",
    "\n",
    "context_stopwords = [\n",
    "    'erm', # synonym for hmm in https://euroleaks.diem25.org/leaks/mar17ewg/\n",
    "    'today',\n",
    "    'tomorrow',\n",
    "    'yesterday',\n",
    "    'day',\n",
    "    'week',\n",
    "    'month'\n",
    "]"
   ]
  },
  {
   "cell_type": "markdown",
   "id": "medium-middle",
   "metadata": {},
   "source": [
    "## collocations"
   ]
  },
  {
   "cell_type": "code",
   "execution_count": 3,
   "id": "curious-angola",
   "metadata": {},
   "outputs": [],
   "source": [
    "def apply_trigram_colloc(s, set_colloc):\n",
    "    res = s.lower()\n",
    "    for b1,b2,b3 in set_colloc:\n",
    "        res = res.replace(f'{b1} {b2} {b3}', f'{b1}_{b2}_{b3}')\n",
    "    return res\n",
    "\n",
    "def apply_bigram_colloc(s, set_colloc):\n",
    "    res = s.lower()\n",
    "    for b1,b2 in set_colloc:\n",
    "        res = res.replace(f'{b1} {b2}', f'{b1}_{b2}')\n",
    "    return res"
   ]
  },
  {
   "cell_type": "markdown",
   "id": "killing-motivation",
   "metadata": {},
   "source": [
    "## spacy"
   ]
  },
  {
   "cell_type": "code",
   "execution_count": 4,
   "id": "unexpected-craps",
   "metadata": {},
   "outputs": [],
   "source": [
    "nlp = spacy.load(\"en_core_web_sm\", exclude=[\"ner\"])\n",
    "\n",
    "#filter_POS = {'NOUN'}\n",
    "filter_POS = {'ADJ', 'ADV', 'NOUN', 'PROPN', 'VERB'}\\\n",
    "\n",
    "def token_filter(token):\n",
    "    return token.pos_ in filter_POS\\\n",
    "            and not token.is_stop\\\n",
    "            and not token.text in stopnames\\\n",
    "            and not token.text in context_stopwords\\\n",
    "            and len(token.text) > 1 # for punctuation (but also 'I')"
   ]
  },
  {
   "cell_type": "markdown",
   "id": "chemical-teach",
   "metadata": {},
   "source": [
    "## Communiques"
   ]
  },
  {
   "cell_type": "code",
   "execution_count": 5,
   "id": "exclusive-bolivia",
   "metadata": {},
   "outputs": [
    {
     "name": "stdout",
     "output_type": "stream",
     "text": [
      "institution\n",
      "authority\n",
      "proposal\n",
      "program\n",
      "talk\n",
      "measure\n",
      "greece\n",
      "agreement\n",
      "work\n",
      "current\n",
      "inform\n",
      "situation\n",
      "reform\n",
      "agree\n",
      "financial\n",
      "discuss\n",
      "state\n",
      "play\n",
      "government\n",
      "conclusion\n"
     ]
    }
   ],
   "source": [
    "communiques = pd.read_csv('../data/communiques/cleaned.csv')\n",
    "\n",
    "# group by date\n",
    "communiques_groupby_date = communiques.drop(columns=['title']).groupby('date').apply(lambda s: ' '.join(s.story))\n",
    "\n",
    "# preprocess\n",
    "communique_documents = [\n",
    "    ' '.join([token.lemma_ for sentence in nlp(doc).sents for token in sentence\n",
    "            if token_filter(token)\n",
    "    ])\n",
    "    for doc in communiques_groupby_date.values\n",
    "]\n",
    "\n",
    "# apply collocations\n",
    "communique_bigram_colloc = {\n",
    "    ('euro', 'area'),\n",
    "    ('greek', 'authority'),\n",
    "    ('greek', 'government'),\n",
    "    ('brussel', 'group'),\n",
    "    ('member', 'state'),\n",
    "    ('monetary', 'union'),\n",
    "    ('press', 'conference'),\n",
    "    ('structural', 'reform'),\n",
    "}\n",
    "communique_documents = pd.Series(communique_documents).apply(lambda s: \n",
    "                apply_bigram_colloc(s,communique_bigram_colloc))\n",
    "\n",
    "# get labels\n",
    "communique_dates = communiques_groupby_date.index.to_series().apply(lambda s: pd.to_datetime(s).strftime('%d/%m'))\n",
    "\n",
    "# tfidf\n",
    "tfidf_vectorizer = TfidfVectorizer(analyzer='word',\n",
    "                                   min_df=1, # word has to be in at least two documents\n",
    "                                   max_df=0.95, # word has to be in less the 95% of documents\n",
    "                                   smooth_idf=True, # Smooth idf weights by adding one to document frequencies, as if an extra document was seen containing every term in the collection exactly once. Prevents zero divisions.\n",
    "                                   sublinear_tf=False) # replace tf with 1 + log(tf).\n",
    "\n",
    "communique_X = tfidf_vectorizer.fit_transform(communique_documents)\n",
    "\n",
    "# get most prominent words\n",
    "first_k = 20\n",
    "tfidf = communique_X.sum(axis =0).A1\n",
    "sort_ix = np.argsort(tfidf)[::-1]\n",
    "communique_most_prominent_words = np.array(tfidf_vectorizer.get_feature_names())[sort_ix][:first_k]\n",
    "for word in np.array(tfidf_vectorizer.get_feature_names())[sort_ix][:first_k]:\n",
    "    print(word)"
   ]
  },
  {
   "cell_type": "markdown",
   "id": "pacific-soundtrack",
   "metadata": {},
   "source": [
    "## Euroleaks"
   ]
  },
  {
   "cell_type": "code",
   "execution_count": 6,
   "id": "verbal-china",
   "metadata": {},
   "outputs": [
    {
     "name": "stdout",
     "output_type": "stream",
     "text": [
      "agreement\n",
      "program\n",
      "process\n",
      "reform\n",
      "ask\n",
      "referendum\n",
      "letter\n",
      "eurogroup\n",
      "list\n",
      "people\n",
      "new\n",
      "like\n",
      "change\n",
      "liquidity\n",
      "review\n",
      "pension\n",
      "document\n",
      "month\n",
      "progress\n",
      "fiscal\n"
     ]
    }
   ],
   "source": [
    "leaks = pd.read_csv('../data/euroleaks/cleaned.csv')\n",
    "\n",
    "# group by date\n",
    "leaks_groupby_date = leaks.drop(columns=['timestamp','speaker']).groupby('date').apply(lambda s: ' '.join(s.speech))\n",
    "\n",
    "# preprocess\n",
    "leaks_documents = [\n",
    "    ' '.join([token.lemma_ for sentence in nlp(doc).sents for token in sentence\n",
    "            if token_filter(token)\n",
    "    ])\n",
    "    for doc in leaks_groupby_date.values \n",
    "]\n",
    "\n",
    "# apply collocations\n",
    "leaks_trigram_colloc = {('euro', 'working', 'group')}\n",
    "leaks_bigram_colloc = {\n",
    "    ('20th', 'february'),\n",
    "    ('aide', 'memoire'),\n",
    "    ('anti', 'corruption'),\n",
    "    ('brussel', 'group'),\n",
    "    ('capital', 'control'),\n",
    "    ('central', 'bank'),\n",
    "    ('collective', 'bargaining'),\n",
    "    ('common', 'ground'),\n",
    "    ('debt', 'sustainability'),\n",
    "    ('govern', 'council'),\n",
    "    ('growth', 'friendly'),\n",
    "    ('interest', 'rate'),\n",
    "    ('labor', 'market'),\n",
    "    ('maximum', 'flexibility'),\n",
    "    ('member', 'state'),\n",
    "    ('minimum', 'wage'),\n",
    "    ('primary', 'surplus'),\n",
    "    ('prime', 'minister'),\n",
    "    ('prior', 'action'),\n",
    "    ('product', 'market'),\n",
    "    ('second', 'letter'),\n",
    "    ('smp', 'bond'),\n",
    "    ('structural', 'reform'),\n",
    "    ('successful', 'conclusion'),\n",
    "    ('technical', 'team'),\n",
    "    ('real', 'estate')\n",
    "}\n",
    "leaks_documents = pd.Series(leaks_documents).apply(lambda s: \n",
    "                apply_bigram_colloc(\n",
    "                    apply_trigram_colloc(s, leaks_trigram_colloc),\n",
    "                    leaks_bigram_colloc)\n",
    "                                      )\n",
    "# get labels\n",
    "leaks_dates = leaks_groupby_date.index.to_series().apply(lambda s: pd.to_datetime(s).strftime('%d/%m'))\n",
    "\n",
    "# tfidf\n",
    "tfidf_vectorizer = TfidfVectorizer(analyzer='word',\n",
    "                                   min_df=1, # word has to be in at least two documents\n",
    "                                   max_df=0.95, # word has to be in less the 95% of documents\n",
    "                                   smooth_idf=True, # Smooth idf weights by adding one to document frequencies, as if an extra document was seen containing every term in the collection exactly once. Prevents zero divisions.\n",
    "                                   sublinear_tf=False) # replace tf with 1 + log(tf).\n",
    "\n",
    "leaks_X = tfidf_vectorizer.fit_transform(leaks_documents)\n",
    "\n",
    "# get most prominent words\n",
    "first_k = 20\n",
    "tfidf = leaks_X.sum(axis =0).A1\n",
    "sort_ix = np.argsort(tfidf)[::-1]\n",
    "leaks_most_prominent_words = np.array(tfidf_vectorizer.get_feature_names())[sort_ix][:first_k]\n",
    "for word in np.array(tfidf_vectorizer.get_feature_names())[sort_ix][:first_k]:\n",
    "    print(word)"
   ]
  },
  {
   "cell_type": "markdown",
   "id": "instant-voice",
   "metadata": {},
   "source": [
    "## combined"
   ]
  },
  {
   "cell_type": "code",
   "execution_count": 7,
   "id": "competitive-importance",
   "metadata": {},
   "outputs": [
    {
     "name": "stdout",
     "output_type": "stream",
     "text": [
      "(25, 3544)\n"
     ]
    }
   ],
   "source": [
    "documents = pd.concat((leaks_documents, communique_documents))\n",
    "dates = pd.concat((leaks_dates, communique_dates)).values\n",
    "\n",
    "tfidf_vectorizer = TfidfVectorizer(analyzer='word',\n",
    "                                   min_df=1, # word has to be in at least two documents\n",
    "                                   max_df=0.99, # word has to be in less the 95% of documents\n",
    "                                   smooth_idf=True, # Smooth idf weights by adding one to document frequencies, as if an extra document was seen containing every term in the collection exactly once. Prevents zero divisions.\n",
    "                                   sublinear_tf=False) # replace tf with 1 + log(tf).\n",
    "\n",
    "X = tfidf_vectorizer.fit_transform(documents)\n",
    "print(X.shape)"
   ]
  },
  {
   "cell_type": "code",
   "execution_count": 8,
   "id": "charitable-model",
   "metadata": {},
   "outputs": [
    {
     "data": {
      "text/plain": [
       "True"
      ]
     },
     "execution_count": 8,
     "metadata": {},
     "output_type": "execute_result"
    }
   ],
   "source": [
    "'authority' in tfidf_vectorizer.get_feature_names()"
   ]
  },
  {
   "cell_type": "code",
   "execution_count": 9,
   "id": "forward-franchise",
   "metadata": {},
   "outputs": [
    {
     "name": "stdout",
     "output_type": "stream",
     "text": [
      "37 \n",
      "\n",
      "agree\n",
      "agreement\n",
      "ask\n",
      "authority\n",
      "change\n",
      "conclusion\n",
      "current\n",
      "discuss\n",
      "document\n",
      "eurogroup\n",
      "financial\n",
      "fiscal\n",
      "government\n",
      "greece\n",
      "inform\n",
      "institution\n",
      "letter\n",
      "like\n",
      "liquidity\n",
      "list\n",
      "measure\n",
      "month\n",
      "new\n",
      "pension\n",
      "people\n",
      "play\n",
      "process\n",
      "program\n",
      "progress\n",
      "proposal\n",
      "referendum\n",
      "reform\n",
      "review\n",
      "situation\n",
      "state\n",
      "talk\n",
      "work\n"
     ]
    }
   ],
   "source": [
    "most_prominent_words = np.sort(np.unique(np.concatenate((leaks_most_prominent_words, communique_most_prominent_words))))\n",
    "\n",
    "print(len(most_prominent_words), '\\n')\n",
    "for w in most_prominent_words:\n",
    "    print(w)"
   ]
  },
  {
   "cell_type": "code",
   "execution_count": 10,
   "id": "threaded-little",
   "metadata": {},
   "outputs": [],
   "source": [
    "my_keywords = [\n",
    "    \n",
    "    # prominent in both\n",
    "    'agreement',\n",
    "    #'referendum',\n",
    "    #'letter',\n",
    "    'political',\n",
    "    'ecb',\n",
    "    'imf',\n",
    "    'esm',\n",
    "    'market',\n",
    "    'mou',\n",
    "    'institution',\n",
    "    'greece',\n",
    "    \n",
    "    # prominent in leaks but not communiques\n",
    "    'aide_memoire',\n",
    "    'brussel_group',\n",
    "    'capital_control',\n",
    "    'collective_bargaining',\n",
    "    'labor_market',\n",
    "    'liquidity',\n",
    "    'minimum_wage',\n",
    "    'pension',\n",
    "    #'second_letter',\n",
    "    'smp_bond',\n",
    "    'tax',\n",
    "    'interest_rate',\n",
    "    'parliament',\n",
    "    'primary_surplus',\n",
    "    'maximum_flexibility',\n",
    "    \n",
    "    \n",
    "    # prominent in communiques but not leaks\n",
    "    'structural_reform',\n",
    "    \n",
    "    \n",
    "    \n",
    "    #'20th_february',\n",
    "    #'process',\n",
    "    #'reform',\n",
    "    #'program',\n",
    "    #'progress',\n",
    "    #'policy',\n",
    "    #'people',\n",
    "    #'change',\n",
    "    #'prime_minister',\n",
    "    #'bank',\n",
    "    #'debt',\n",
    "    #'deficit'\n",
    "    #'budget',\n",
    "    #'labor',\n",
    "    #'anti_corruption',\n",
    "    #'debt_sustainability',\n",
    "    #'growth',\n",
    "    #'growth_friendly',\n",
    "    #'flexibility',\n",
    "    #'real_estate', \n",
    "    #'unemployment',\n",
    "    #'health',\n",
    "    #'wage'\n",
    "]\n",
    "\n",
    "my_keywords = np.sort(np.unique(my_keywords))"
   ]
  },
  {
   "cell_type": "code",
   "execution_count": 11,
   "id": "running-table",
   "metadata": {
    "scrolled": true
   },
   "outputs": [
    {
     "data": {
      "image/png": "[encoded data removed]",
      "text/plain": [
       "<Figure size 720x720 with 2 Axes>"
      ]
     },
     "metadata": {
      "needs_background": "light"
     },
     "output_type": "display_data"
    }
   ],
   "source": [
    "keywords = most_prominent_words\n",
    "\n",
    "fig, axes = plt.subplots(1,2,figsize=(10,10),sharey=True)\n",
    "\n",
    "# leaks\n",
    "axes[0].matshow(X.toarray()[:len(leaks_dates)][:,[tfidf_vectorizer.get_feature_names().index(word) for word in keywords]].T)\n",
    "axes[0].set_xticks(range(len(leaks_dates)))\n",
    "_ = axes[0].set_xticklabels(leaks_dates, rotation=45)\n",
    "\n",
    "# communiques\n",
    "axes[1].matshow(X.toarray()[len(leaks_dates):][:,[tfidf_vectorizer.get_feature_names().index(word) for word in keywords]].T)\n",
    "axes[1].set_xticks(range(len(communique_dates)))\n",
    "_ = axes[1].set_xticklabels(communique_dates, rotation=45)\n",
    "\n",
    "# shared y axis\n",
    "axes[0].set_yticks(range(len(keywords)))\n",
    "_ = axes[0].set_yticklabels(keywords)\n",
    "#axes[1].set_yticks(range(len(keywords)))\n",
    "#_ = axes[1].set_yticklabels(keywords)\n",
    "\n",
    "axes[0].set_title('Euroleaks')\n",
    "axes[1].set_title('Communiques')\n",
    "\n",
    "fig.suptitle('Most prominent words')\n",
    "\n",
    "fig.tight_layout()"
   ]
  },
  {
   "cell_type": "code",
   "execution_count": 13,
   "id": "disturbed-session",
   "metadata": {},
   "outputs": [
    {
     "data": {
      "image/png": "[encoded data removed]",
      "text/plain": [
       "<Figure size 720x576 with 2 Axes>"
      ]
     },
     "metadata": {
      "needs_background": "light"
     },
     "output_type": "display_data"
    }
   ],
   "source": [
    "keywords = my_keywords\n",
    "\n",
    "fig, axes = plt.subplots(1,2,figsize=(10,8),sharey=True)\n",
    "\n",
    "# leaks\n",
    "axes[0].matshow(X.toarray()[:len(leaks_dates)][:,[tfidf_vectorizer.get_feature_names().index(word) for word in keywords]].T)\n",
    "axes[0].set_xticks(range(len(leaks_dates)))\n",
    "_ = axes[0].set_xticklabels(leaks_dates, rotation=45)\n",
    "\n",
    "# communiques\n",
    "axes[1].matshow(X.toarray()[len(leaks_dates):][:,[tfidf_vectorizer.get_feature_names().index(word) for word in keywords]].T)\n",
    "axes[1].set_xticks(range(len(communique_dates)))\n",
    "_ = axes[1].set_xticklabels(communique_dates, rotation=45)\n",
    "\n",
    "# shared y axis\n",
    "axes[0].set_yticks(range(len(keywords)))\n",
    "_ = axes[0].set_yticklabels(keywords)\n",
    "#axes[1].set_yticks(range(len(keywords)))\n",
    "#_ = axes[1].set_yticklabels(keywords)\n",
    "\n",
    "axes[0].set_title('Euroleaks')\n",
    "axes[1].set_title('Communiques')\n",
    "\n",
    "fig.suptitle('Keywords')\n",
    "\n",
    "fig.tight_layout()"
   ]
  },
  {
   "cell_type": "code",
   "execution_count": null,
   "id": "outer-engagement",
   "metadata": {},
   "outputs": [],
   "source": []
  }
 ],
 "metadata": {
  "kernelspec": {
   "display_name": "Python 3",
   "language": "python",
   "name": "python3"
  },
  "language_info": {
   "codemirror_mode": {
    "name": "ipython",
    "version": 3
   },
   "file_extension": ".py",
   "mimetype": "text/x-python",
   "name": "python",
   "nbconvert_exporter": "python",
   "pygments_lexer": "ipython3",
   "version": "3.8.5"
  }
 },
 "nbformat": 4,
 "nbformat_minor": 5
}
