{
 "cells": [
  {
   "cell_type": "markdown",
   "id": "established-trader",
   "metadata": {},
   "source": [
    "# TFIDF - NNMF analysis\n",
    "- define what a document is\n",
    "    - one uninterrupted speech made by speaker\n",
    "    - all speeches made by speaker\n",
    "    - all speeches made on the same date\n",
    "- preprocess text\n",
    "- count TFIDF\n",
    "- do dimensionality reduciton/topic clustering with NNMF\n",
    "- look for appropriate dimension with knee method\n",
    "- try visualizing document-topic in 2D or 3D\n",
    "\n",
    "Do this for both **euroleaks** and **communiques**, then do a comparative analysis if approapriate."
   ]
  },
  {
   "cell_type": "code",
   "execution_count": 760,
   "id": "elegant-cooperative",
   "metadata": {},
   "outputs": [],
   "source": [
    "import re\n",
    "import time\n",
    "\n",
    "import numpy as np\n",
    "import pandas as pd"
   ]
  },
  {
   "cell_type": "markdown",
   "id": "catholic-operation",
   "metadata": {},
   "source": [
    "# euroleaks"
   ]
  },
  {
   "cell_type": "markdown",
   "id": "different-shape",
   "metadata": {},
   "source": [
    "Get already cleaned data (see notebook clean.ipynb):"
   ]
  },
  {
   "cell_type": "code",
   "execution_count": 761,
   "id": "elect-broad",
   "metadata": {
    "scrolled": true
   },
   "outputs": [
    {
     "data": {
      "text/html": [
       "<div>\n",
       "<style scoped>\n",
       "    .dataframe tbody tr th:only-of-type {\n",
       "        vertical-align: middle;\n",
       "    }\n",
       "\n",
       "    .dataframe tbody tr th {\n",
       "        vertical-align: top;\n",
       "    }\n",
       "\n",
       "    .dataframe thead th {\n",
       "        text-align: right;\n",
       "    }\n",
       "</style>\n",
       "<table border=\"1\" class=\"dataframe\">\n",
       "  <thead>\n",
       "    <tr style=\"text-align: right;\">\n",
       "      <th></th>\n",
       "      <th>speaker</th>\n",
       "      <th>speech</th>\n",
       "      <th>timestamp</th>\n",
       "      <th>date</th>\n",
       "    </tr>\n",
       "  </thead>\n",
       "  <tbody>\n",
       "    <tr>\n",
       "      <th>0</th>\n",
       "      <td>jeroen dijsselbloem</td>\n",
       "      <td>… of your responses or questions. and can i fi...</td>\n",
       "      <td>1900-01-01 00:00:00</td>\n",
       "      <td>2015-02-24 00:00:00</td>\n",
       "    </tr>\n",
       "    <tr>\n",
       "      <th>1</th>\n",
       "      <td>speaker 2</td>\n",
       "      <td>uh, yes, uh, thank you, jeroen. well, uh, comm...</td>\n",
       "      <td>1900-01-01 00:00:10</td>\n",
       "      <td>2015-02-24 00:00:00</td>\n",
       "    </tr>\n",
       "    <tr>\n",
       "      <th>2</th>\n",
       "      <td>michael noonan</td>\n",
       "      <td>michael noonan.</td>\n",
       "      <td>1900-01-01 00:01:27</td>\n",
       "      <td>2015-02-24 00:00:00</td>\n",
       "    </tr>\n",
       "    <tr>\n",
       "      <th>3</th>\n",
       "      <td>speaker 2</td>\n",
       "      <td>uh, it is therefore regrettable that, uh-</td>\n",
       "      <td>1900-01-01 00:01:29</td>\n",
       "      <td>2015-02-24 00:00:00</td>\n",
       "    </tr>\n",
       "    <tr>\n",
       "      <th>4</th>\n",
       "      <td>speaker 3</td>\n",
       "      <td>has entered the conference.</td>\n",
       "      <td>1900-01-01 00:01:33</td>\n",
       "      <td>2015-02-24 00:00:00</td>\n",
       "    </tr>\n",
       "  </tbody>\n",
       "</table>\n",
       "</div>"
      ],
      "text/plain": [
       "               speaker                                             speech  \\\n",
       "0  jeroen dijsselbloem  … of your responses or questions. and can i fi...   \n",
       "1            speaker 2  uh, yes, uh, thank you, jeroen. well, uh, comm...   \n",
       "2       michael noonan                                    michael noonan.   \n",
       "3            speaker 2          uh, it is therefore regrettable that, uh-   \n",
       "4            speaker 3                        has entered the conference.   \n",
       "\n",
       "             timestamp                 date  \n",
       "0  1900-01-01 00:00:00  2015-02-24 00:00:00  \n",
       "1  1900-01-01 00:00:10  2015-02-24 00:00:00  \n",
       "2  1900-01-01 00:01:27  2015-02-24 00:00:00  \n",
       "3  1900-01-01 00:01:29  2015-02-24 00:00:00  \n",
       "4  1900-01-01 00:01:33  2015-02-24 00:00:00  "
      ]
     },
     "execution_count": 761,
     "metadata": {},
     "output_type": "execute_result"
    }
   ],
   "source": [
    "df = pd.read_csv('../data/euroleaks/cleaned.csv')\n",
    "df.head()"
   ]
  },
  {
   "cell_type": "code",
   "execution_count": 762,
   "id": "blond-wagner",
   "metadata": {},
   "outputs": [],
   "source": [
    "df_copy = df.copy()"
   ]
  },
  {
   "cell_type": "markdown",
   "id": "grand-campbell",
   "metadata": {},
   "source": [
    "## notes\n",
    "- not sure whether to use token.lemma_ or f'{token.lemma_}_{token.pos_}'\n",
    "    - POS allows for capital_ADJ and capital_NOUN to be differentiated\n",
    "    - but also introduces noise because POS derivation is not always correct (e.g. capital_NOUN control_NOUN)"
   ]
  },
  {
   "cell_type": "markdown",
   "id": "weekly-drunk",
   "metadata": {},
   "source": [
    "## stopwords\n",
    "amend_names was constructed after exploratory analysis into names from the scraped data."
   ]
  },
  {
   "cell_type": "code",
   "execution_count": 763,
   "id": "ethical-privilege",
   "metadata": {},
   "outputs": [],
   "source": [
    "import json\n",
    "\n",
    "with open('../data/euroleaks/amend_names.json', 'r') as f:\n",
    "    amend_names = json.load(f)"
   ]
  },
  {
   "cell_type": "code",
   "execution_count": 764,
   "id": "rental-encoding",
   "metadata": {},
   "outputs": [],
   "source": [
    "# make stopwords out of names\n",
    "stopnames = []\n",
    "\n",
    "for names in amend_names.values():\n",
    "    for name in names:\n",
    "        if not re.search('\\[.*\\]', name):\n",
    "            stopnames += name.split(' ')\n",
    "            \n",
    "for name in df.speaker.unique():\n",
    "    if 'speaker' not in name:\n",
    "        stopnames += name.split(' ')\n",
    "    \n",
    "stopnames = set(stopnames)"
   ]
  },
  {
   "cell_type": "code",
   "execution_count": 765,
   "id": "hungarian-azerbaijan",
   "metadata": {},
   "outputs": [],
   "source": [
    "context_stopwords = [\n",
    "    'erm', # synonym for hmm in https://euroleaks.diem25.org/leaks/mar17ewg/\n",
    "]"
   ]
  },
  {
   "cell_type": "markdown",
   "id": "worldwide-tension",
   "metadata": {},
   "source": [
    "## spacy"
   ]
  },
  {
   "cell_type": "code",
   "execution_count": 766,
   "id": "rental-stress",
   "metadata": {},
   "outputs": [],
   "source": [
    "import spacy\n",
    "\n",
    "nlp = spacy.load(\"en_core_web_sm\", exclude=[\"ner\"])"
   ]
  },
  {
   "cell_type": "code",
   "execution_count": 767,
   "id": "circular-prototype",
   "metadata": {},
   "outputs": [
    {
     "name": "stdout",
     "output_type": "stream",
     "text": [
      "Time taken: 1.92 mins\n"
     ]
    }
   ],
   "source": [
    "t = time.time()\n",
    "doc = nlp(' '.join(df.speech)) # takes a few minutes\n",
    "print(f'Time taken: {round((time.time() - t) / 60, 2)} mins')"
   ]
  },
  {
   "cell_type": "code",
   "execution_count": 768,
   "id": "communist-challenge",
   "metadata": {},
   "outputs": [],
   "source": [
    "def token_filter(token):\n",
    "    return token.pos_ in {'ADJ', 'ADV', 'NOUN', 'PROPN', 'VERB'}\\\n",
    "            and not token.is_stop\\\n",
    "            and not token.text in stopnames\\\n",
    "            and not token.text in context_stopwords\\\n",
    "            and len(token.text) > 1 # for punctuation (but also 'I')"
   ]
  },
  {
   "cell_type": "markdown",
   "id": "encouraging-dress",
   "metadata": {},
   "source": [
    "## collocations"
   ]
  },
  {
   "cell_type": "code",
   "execution_count": 769,
   "id": "preceding-scott",
   "metadata": {},
   "outputs": [],
   "source": [
    "def apply_trigram_colloc(s, set_colloc):\n",
    "    res = s.lower()\n",
    "    for b1,b2,b3 in set_colloc:\n",
    "        res = res.replace(f'{b1} {b2} {b3}', f'{b1}_{b2}_{b3}')\n",
    "    return res\n",
    "\n",
    "def apply_bigram_colloc(s, set_colloc):\n",
    "    res = s.lower()\n",
    "    for b1,b2 in set_colloc:\n",
    "        res = res.replace(f'{b1} {b2}', f'{b1}_{b2}')\n",
    "    return res"
   ]
  },
  {
   "cell_type": "markdown",
   "id": "german-budget",
   "metadata": {},
   "source": [
    "### trigrams"
   ]
  },
  {
   "cell_type": "code",
   "execution_count": 9,
   "id": "neutral-branch",
   "metadata": {},
   "outputs": [],
   "source": [
    "from nltk.collocations import TrigramCollocationFinder, TrigramAssocMeasures\n",
    "\n",
    "# needs to be a one-dim list\n",
    "# lemmatization, filter out punctuation and stop words\n",
    "words = [token.lemma_ for sentence in doc.sents for token in sentence\n",
    "            if token_filter(token)\n",
    "        ]\n",
    "\n",
    "finder = TrigramCollocationFinder.from_words(words)\n",
    "\n",
    "# word might be highly correlated but very infrequent, ignore all with less than n occurances\n",
    "finder.apply_freq_filter(5)\n",
    "\n",
    "tgm = TrigramAssocMeasures()\n",
    "collocations = {trigram: pmi for trigram, pmi in finder.score_ngrams(tgm.mi_like)}"
   ]
  },
  {
   "cell_type": "code",
   "execution_count": 10,
   "id": "finnish-child",
   "metadata": {},
   "outputs": [
    {
     "data": {
      "text/plain": [
       "{('euro', 'working', 'group'): 0.045454545454545456,\n",
       " ('comprehensive', 'valid', 'starting'): 0.027233115468409588,\n",
       " ('successful', 'conclusion', 'review'): 0.011784511784511785,\n",
       " ('low', 'interest', 'rate'): 0.010439612699499706,\n",
       " ('debt', 'sustainability', 'analysis'): 0.006432858214553638,\n",
       " ('valid', 'starting', 'point'): 0.006118453255017132,\n",
       " ('statement', '20th', 'february'): 0.005505095625703131,\n",
       " ('nominal', 'interest', 'rate'): 0.0030303030303030303,\n",
       " ('interest', 'rate', 'environment'): 0.0017536475869809204,\n",
       " ('list', 'prior', 'action'): 0.0015639581657280772,\n",
       " ('labor', 'market', 'reform'): 0.0015536554593193752,\n",
       " ('starting', 'point', 'successful'): 0.001529613313754283,\n",
       " ('staff', 'level', 'agreement'): 0.0012303485987696513,\n",
       " ('product', 'market', 'reform'): 0.0010193295077016006,\n",
       " ('set', 'prior', 'action'): 0.0009186602870813397,\n",
       " ('prior', 'action', 'list'): 0.00046339501206757845,\n",
       " ('discussion', 'brussel', 'group'): 0.0004310344827586207,\n",
       " ('low', 'low', 'pension'): 0.00034199258560074417,\n",
       " ('20th', 'february', 'agreement'): 0.0002451781627983001,\n",
       " ('point', 'successful', 'conclusion'): 0.00019865107970834842,\n",
       " ('list', 'reform', 'measure'): 7.985897496569022e-05,\n",
       " ('thank', 'thank', 'thank'): 3.2611215577516745e-05,\n",
       " ('thank', 'thank', 'colleague'): 1.5101226457292822e-05,\n",
       " ('thank', 'thank', 'like'): 1.1924428125891053e-05,\n",
       " ('thank', 'thank', 'let'): 1.0498947917927391e-05}"
      ]
     },
     "execution_count": 10,
     "metadata": {},
     "output_type": "execute_result"
    }
   ],
   "source": [
    "collocations"
   ]
  },
  {
   "cell_type": "code",
   "execution_count": 770,
   "id": "adapted-wesley",
   "metadata": {},
   "outputs": [],
   "source": [
    "trigram_colloc = {('euro', 'working', 'group')}"
   ]
  },
  {
   "cell_type": "markdown",
   "id": "northern-safety",
   "metadata": {},
   "source": [
    "### bigrams"
   ]
  },
  {
   "cell_type": "code",
   "execution_count": 12,
   "id": "mechanical-tampa",
   "metadata": {},
   "outputs": [],
   "source": [
    "from nltk.collocations import BigramCollocationFinder, BigramAssocMeasures\n",
    "\n",
    "finder = BigramCollocationFinder.from_words(words)\n",
    "\n",
    "# word might be highly correlated but very infrequent, ignore all with less than n occurances\n",
    "finder.apply_freq_filter(5)\n",
    "\n",
    "bgm = BigramAssocMeasures()\n",
    "collocations = {bigram: pmi for bigram, pmi in finder.score_ngrams(bgm.mi_like)}"
   ]
  },
  {
   "cell_type": "code",
   "execution_count": 13,
   "id": "twelve-neutral",
   "metadata": {},
   "outputs": [
    {
     "data": {
      "text/plain": [
       "{('20th', 'february'),\n",
       " ('aide', 'memoire'),\n",
       " ('anti', 'corruption'),\n",
       " ('brussel', 'group'),\n",
       " ('capital', 'control'),\n",
       " ('central', 'bank'),\n",
       " ('collective', 'bargaining'),\n",
       " ('common', 'ground'),\n",
       " ('debt', 'sustainability'),\n",
       " ('enter', 'conference'),\n",
       " ('euro', 'working'),\n",
       " ('govern', 'council'),\n",
       " ('growth', 'friendly'),\n",
       " ('half', 'percent'),\n",
       " ('interest', 'rate'),\n",
       " ('labor', 'market'),\n",
       " ('little', 'bit'),\n",
       " ('maximum', 'flexibility'),\n",
       " ('member', 'state'),\n",
       " ('minimum', 'wage'),\n",
       " ('primary', 'surplus'),\n",
       " ('prime', 'minister'),\n",
       " ('prior', 'action'),\n",
       " ('product', 'market'),\n",
       " ('second', 'letter'),\n",
       " ('smp', 'bond'),\n",
       " ('structural', 'reform'),\n",
       " ('successful', 'conclusion'),\n",
       " ('technical', 'team'),\n",
       " ('thank', 'thank'),\n",
       " ('valid', 'starting'),\n",
       " ('working', 'group')}"
      ]
     },
     "execution_count": 13,
     "metadata": {},
     "output_type": "execute_result"
    }
   ],
   "source": [
    "threshold = 1\n",
    "\n",
    "bigram_colloc_candidate = []\n",
    "for bigram, score in collocations.items():\n",
    "    if score > threshold:\n",
    "        bigram_colloc_candidate.append(bigram)\n",
    "    else:\n",
    "        break\n",
    "        \n",
    "bigram_colloc_candidate = set(bigram_colloc_candidate)\n",
    "bigram_colloc_candidate"
   ]
  },
  {
   "cell_type": "code",
   "execution_count": 771,
   "id": "human-cooling",
   "metadata": {},
   "outputs": [],
   "source": [
    "bigram_colloc = {\n",
    "    ('20th', 'february'),\n",
    "    ('aide', 'memoire'),\n",
    "    ('anti', 'corruption'),\n",
    "    ('brussel', 'group'),\n",
    "    ('capital', 'control'),\n",
    "    ('central', 'bank'),\n",
    "    ('collective', 'bargaining'),\n",
    "    ('common', 'ground'),\n",
    "    ('debt', 'sustainability'),\n",
    "    ('govern', 'council'),\n",
    "    ('growth', 'friendly'),\n",
    "    ('interest', 'rate'),\n",
    "    ('labor', 'market'),\n",
    "    ('maximum', 'flexibility'),\n",
    "    ('member', 'state'),\n",
    "    ('minimum', 'wage'),\n",
    "    ('primary', 'surplus'),\n",
    "    ('prime', 'minister'),\n",
    "    ('prior', 'action'),\n",
    "    ('product', 'market'),\n",
    "    ('second', 'letter'),\n",
    "    ('smp', 'bond'),\n",
    "    ('structural', 'reform'),\n",
    "    ('successful', 'conclusion'),\n",
    "    ('technical', 'team'),\n",
    "    ('real', 'estate')\n",
    "}"
   ]
  },
  {
   "cell_type": "markdown",
   "id": "fixed-country",
   "metadata": {},
   "source": [
    "## document = one speech made by a speaker"
   ]
  },
  {
   "cell_type": "code",
   "execution_count": 17,
   "id": "dutch-temple",
   "metadata": {},
   "outputs": [],
   "source": [
    "# join speech of consecutive rows with same speaker\n",
    "\n",
    "df_squeezed = pd.DataFrame(columns=['speaker','speech','date'])\n",
    "\n",
    "previous_speaker = None\n",
    "speech = None\n",
    "previous_date = None\n",
    "\n",
    "for index, data in df.iterrows():\n",
    "    \n",
    "    if not previous_speaker and not speech and not previous_date:\n",
    "        previous_speaker = data.speaker\n",
    "        speech = data.speech\n",
    "        previous_date = data.date\n",
    "    elif data.speaker == previous_speaker and previous_date == data.date:\n",
    "        speech = ' '.join((speech, data.speech))\n",
    "    else:\n",
    "        df_squeezed.loc[len(df_squeezed.index)] = [\n",
    "            previous_speaker,\n",
    "            speech,\n",
    "            previous_date\n",
    "        ]\n",
    "        previous_speaker = data.speaker\n",
    "        speech = data.speech\n",
    "        previous_date = data.date"
   ]
  },
  {
   "cell_type": "code",
   "execution_count": 24,
   "id": "regional-shift",
   "metadata": {},
   "outputs": [],
   "source": [
    "documents = [\n",
    "    ' '.join([token.lemma_ for sentence in nlp(doc).sents for token in sentence\n",
    "              if token_filter(token)\n",
    "             ])\n",
    "             for doc in df_squeezed.speech.to_numpy()\n",
    "]"
   ]
  },
  {
   "cell_type": "code",
   "execution_count": 25,
   "id": "advanced-michigan",
   "metadata": {},
   "outputs": [],
   "source": [
    "# apply collocations\n",
    "documents = pd.Series(documents).apply(lambda s: \n",
    "                apply_bigram_colloc(\n",
    "                    apply_trigram_colloc(s, trigram_colloc),\n",
    "                    bigram_colloc)\n",
    "                                      )"
   ]
  },
  {
   "cell_type": "code",
   "execution_count": 28,
   "id": "adult-cursor",
   "metadata": {},
   "outputs": [
    {
     "name": "stdout",
     "output_type": "stream",
     "text": [
      "There are 769 documents.\n"
     ]
    }
   ],
   "source": [
    "print(f'There are {len(documents)} documents.')"
   ]
  },
  {
   "cell_type": "code",
   "execution_count": 29,
   "id": "native-copper",
   "metadata": {},
   "outputs": [],
   "source": [
    "from sklearn.feature_extraction.text import TfidfVectorizer\n",
    "\n",
    "tfidf_vectorizer = TfidfVectorizer(analyzer='word',\n",
    "                                   min_df=2,\n",
    "                                   max_df=0.95,\n",
    "                                   sublinear_tf=False)\n",
    "\n",
    "X = tfidf_vectorizer.fit_transform(documents)                                  "
   ]
  },
  {
   "cell_type": "code",
   "execution_count": 30,
   "id": "headed-atmosphere",
   "metadata": {},
   "outputs": [],
   "source": [
    "idf = tfidf_vectorizer.idf_\n",
    "tfidf = X.sum(axis =0).A1"
   ]
  },
  {
   "cell_type": "code",
   "execution_count": null,
   "id": "circular-simulation",
   "metadata": {},
   "outputs": [],
   "source": []
  },
  {
   "cell_type": "code",
   "execution_count": null,
   "id": "urban-thought",
   "metadata": {},
   "outputs": [],
   "source": [
    "# get 10 most prominent words\n",
    "tfidf = X.sum(axis =0).A1\n",
    "sort_ix = np.argsort(tfidf)[::-1]\n",
    "for word in np.array(tfidf_vectorizer.get_feature_names())[sort_ix][:10]:\n",
    "    print(word)"
   ]
  },
  {
   "cell_type": "code",
   "execution_count": null,
   "id": "illegal-providence",
   "metadata": {},
   "outputs": [],
   "source": []
  },
  {
   "cell_type": "code",
   "execution_count": 31,
   "id": "wound-musical",
   "metadata": {},
   "outputs": [],
   "source": [
    "# get tf\n",
    "from sklearn.feature_extraction.text import CountVectorizer\n",
    "\n",
    "count_vectorizer = CountVectorizer(analyzer='word',\n",
    "                                   min_df=2,\n",
    "                                   max_df=0.95)\n",
    "\n",
    "X_ = count_vectorizer.fit_transform(documents)\n",
    "\n",
    "assert np.array_equal(\n",
    "    count_vectorizer.get_feature_names(),\n",
    "    tfidf_vectorizer.get_feature_names()\n",
    ")\n",
    "\n",
    "tf = X_.toarray().sum(axis=0)"
   ]
  },
  {
   "cell_type": "code",
   "execution_count": 32,
   "id": "instant-employer",
   "metadata": {},
   "outputs": [
    {
     "data": {
      "image/png": "[encoded data removed]",
      "text/plain": [
       "<Figure size 864x504 with 1 Axes>"
      ]
     },
     "metadata": {
      "needs_background": "light"
     },
     "output_type": "display_data"
    }
   ],
   "source": [
    "import matplotlib.pyplot as plt\n",
    "\n",
    "fig, ax = plt.subplots(figsize=(12,7))\n",
    "ax.scatter(tfidf, idf, s=tf, edgecolors='black', label='tfidf')\n",
    "#ax.legend()\n",
    "ax.set_xlabel('tfidf')\n",
    "ax.set_ylabel('idf')\n",
    "ax.set_title('scatterplot of TFIDF and IDF values, scaled by TF')\n",
    "\n",
    "# annotate words with highest tfidf\n",
    "first_k = 10\n",
    "sort_ix = np.argsort(tfidf)[::-1]\n",
    "for ix in sort_ix[:first_k]:\n",
    "    s = tfidf_vectorizer.get_feature_names()[ix]\n",
    "    jiggle_x = np.random.normal(0,0.1)\n",
    "    jiggle_y = np.random.normal(0,0.1)\n",
    "    ax.text(tfidf[ix]+jiggle_x, idf[ix]+jiggle_y, s)"
   ]
  },
  {
   "cell_type": "code",
   "execution_count": 34,
   "id": "another-prize",
   "metadata": {},
   "outputs": [
    {
     "name": "stdout",
     "output_type": "stream",
     "text": [
      "thank\n",
      "think\n",
      "question\n",
      "institution\n",
      "know\n",
      "come\n",
      "point\n",
      "say\n",
      "need\n",
      "ahead\n"
     ]
    }
   ],
   "source": [
    "for word in np.array(tfidf_vectorizer.get_feature_names())[sort_ix][:10]:\n",
    "    print(word)"
   ]
  },
  {
   "cell_type": "code",
   "execution_count": 35,
   "id": "sharing-skating",
   "metadata": {},
   "outputs": [
    {
     "data": {
      "text/plain": [
       "(769, 1918)"
      ]
     },
     "execution_count": 35,
     "metadata": {},
     "output_type": "execute_result"
    }
   ],
   "source": [
    "X.shape"
   ]
  },
  {
   "cell_type": "code",
   "execution_count": 36,
   "id": "demographic-longer",
   "metadata": {},
   "outputs": [
    {
     "name": "stdout",
     "output_type": "stream",
     "text": [
      "2 - iterations: 8\n",
      "3 - iterations: 8\n",
      "4 - iterations: 8\n",
      "5 - iterations: 13\n",
      "6 - iterations: 16\n",
      "7 - iterations: 19\n",
      "8 - iterations: 20\n",
      "9 - iterations: 57\n",
      "10 - iterations: 116\n",
      "11 - iterations: 31\n",
      "12 - iterations: 104\n",
      "13 - iterations: 155\n",
      "14 - iterations: 105\n",
      "15 - iterations: 110\n",
      "16 - iterations: 324\n",
      "17 - iterations: 114\n",
      "18 - iterations: 99\n",
      "19 - iterations: 124\n",
      "20 - iterations: 222\n",
      "21 - iterations: 104\n",
      "22 - iterations: 93\n",
      "23 - iterations: 143\n",
      "24 - iterations: 148\n",
      "25 - iterations: 81\n",
      "26 - iterations: 116\n",
      "27 - iterations: 75\n",
      "28 - iterations: 88\n",
      "29 - iterations: 216\n",
      "30 - iterations: 371\n",
      "31 - iterations: 95\n",
      "32 - iterations: 84\n",
      "33 - iterations: 89\n",
      "34 - iterations: 216\n",
      "35 - iterations: 92\n",
      "36 - iterations: 114\n",
      "37 - iterations: 84\n",
      "38 - iterations: 138\n"
     ]
    },
    {
     "name": "stderr",
     "output_type": "stream",
     "text": [
      "/home/asajina/repos/master-thesis/.env/lib/python3.8/site-packages/sklearn/decomposition/_nmf.py:1090: ConvergenceWarning: Maximum number of iterations 400 reached. Increase it to improve convergence.\n",
      "  warnings.warn(\"Maximum number of iterations %d reached. Increase it to\"\n"
     ]
    },
    {
     "name": "stdout",
     "output_type": "stream",
     "text": [
      "39 - iterations: 400\n",
      "40 - iterations: 90\n",
      "41 - iterations: 160\n"
     ]
    },
    {
     "name": "stderr",
     "output_type": "stream",
     "text": [
      "/home/asajina/repos/master-thesis/.env/lib/python3.8/site-packages/sklearn/decomposition/_nmf.py:1090: ConvergenceWarning: Maximum number of iterations 400 reached. Increase it to improve convergence.\n",
      "  warnings.warn(\"Maximum number of iterations %d reached. Increase it to\"\n"
     ]
    },
    {
     "name": "stdout",
     "output_type": "stream",
     "text": [
      "42 - iterations: 400\n",
      "43 - iterations: 279\n",
      "44 - iterations: 106\n",
      "45 - iterations: 204\n",
      "46 - iterations: 163\n",
      "47 - iterations: 271\n",
      "48 - iterations: 204\n",
      "49 - iterations: 142\n"
     ]
    }
   ],
   "source": [
    "from sklearn.decomposition import NMF\n",
    "\n",
    "reconstruction_error = []\n",
    "for k in range(2, 50):\n",
    "    \n",
    "    nmf = NMF(n_components=k,\n",
    "              init='nndsvd',\n",
    "              beta_loss='frobenius',\n",
    "              max_iter=400,\n",
    "              random_state=0,\n",
    "              alpha=0,\n",
    "              l1_ratio=0)\n",
    "    \n",
    "    nmf.fit(X.toarray())\n",
    "    \n",
    "    reconstruction_error.append(nmf.reconstruction_err_)\n",
    "    print(f'{k} - iterations: {nmf.n_iter_}')"
   ]
  },
  {
   "cell_type": "code",
   "execution_count": 37,
   "id": "limiting-bride",
   "metadata": {},
   "outputs": [
    {
     "data": {
      "text/plain": [
       "[<matplotlib.lines.Line2D at 0x7f84d89df1c0>]"
      ]
     },
     "execution_count": 37,
     "metadata": {},
     "output_type": "execute_result"
    },
    {
     "data": {
      "image/png": "[encoded data removed]",
      "text/plain": [
       "<Figure size 432x288 with 1 Axes>"
      ]
     },
     "metadata": {
      "needs_background": "light"
     },
     "output_type": "display_data"
    }
   ],
   "source": [
    "plt.plot(reconstruction_error, marker='+')"
   ]
  },
  {
   "cell_type": "code",
   "execution_count": 38,
   "id": "hindu-semester",
   "metadata": {},
   "outputs": [
    {
     "name": "stdout",
     "output_type": "stream",
     "text": [
      "W shape: (769, 2)\n",
      "H shape: (2, 1918)\n"
     ]
    }
   ],
   "source": [
    "nmf = NMF(n_components=2,\n",
    "          init='nndsvd',\n",
    "          beta_loss='frobenius',\n",
    "          max_iter=1000,\n",
    "          random_state=0,\n",
    "          alpha=0,\n",
    "          l1_ratio=0)\n",
    "\n",
    "W = nmf.fit_transform(X.toarray())\n",
    "H = nmf.components_\n",
    "\n",
    "print(f'W shape: {W.shape}')\n",
    "print(f'H shape: {H.shape}')"
   ]
  },
  {
   "cell_type": "code",
   "execution_count": 39,
   "id": "incident-choice",
   "metadata": {},
   "outputs": [
    {
     "data": {
      "text/plain": [
       "<matplotlib.collections.PathCollection at 0x7f84d899dfa0>"
      ]
     },
     "execution_count": 39,
     "metadata": {},
     "output_type": "execute_result"
    },
    {
     "data": {
      "image/png": "[encoded data removed]",
      "text/plain": [
       "<Figure size 432x288 with 1 Axes>"
      ]
     },
     "metadata": {
      "needs_background": "light"
     },
     "output_type": "display_data"
    }
   ],
   "source": [
    "plt.scatter(W[:,0], W[:,1])"
   ]
  },
  {
   "cell_type": "markdown",
   "id": "physical-badge",
   "metadata": {},
   "source": [
    "## document = speaker"
   ]
  },
  {
   "cell_type": "code",
   "execution_count": 772,
   "id": "requested-memory",
   "metadata": {},
   "outputs": [],
   "source": [
    "df = df_copy.copy()"
   ]
  },
  {
   "cell_type": "code",
   "execution_count": 773,
   "id": "medical-translation",
   "metadata": {},
   "outputs": [],
   "source": [
    "grouped = df.drop(columns=['timestamp','date']).groupby('speaker').apply(lambda s: ' '.join(s.speech))"
   ]
  },
  {
   "cell_type": "code",
   "execution_count": 774,
   "id": "challenging-black",
   "metadata": {},
   "outputs": [
    {
     "data": {
      "text/plain": [
       "speaker\n",
       "alexander stubb      thank you very much  foreign affairs council, ...\n",
       "benoît cœuré         erm, yes thomas, good afternoon to all of you,...\n",
       "christine lagarde    thank you very much, jerome and good afternoon...\n",
       "computer             has entered the conference. has entered the co...\n",
       "declan costello      yeah, thank you. erm, so just, just to add a b...\n",
       "dtype: object"
      ]
     },
     "execution_count": 774,
     "metadata": {},
     "output_type": "execute_result"
    }
   ],
   "source": [
    "grouped.head()"
   ]
  },
  {
   "cell_type": "code",
   "execution_count": 775,
   "id": "handed-heritage",
   "metadata": {},
   "outputs": [],
   "source": [
    "speakers = grouped.index"
   ]
  },
  {
   "cell_type": "code",
   "execution_count": 776,
   "id": "protective-amendment",
   "metadata": {},
   "outputs": [],
   "source": [
    "documents = [\n",
    "    ' '.join([token.lemma_ for sentence in nlp(doc).sents for token in sentence\n",
    "            if token_filter(token)\n",
    "    ])\n",
    "    for doc in grouped.values \n",
    "]"
   ]
  },
  {
   "cell_type": "code",
   "execution_count": 777,
   "id": "burning-developer",
   "metadata": {},
   "outputs": [],
   "source": [
    "# apply collocations\n",
    "documents = pd.Series(documents).apply(lambda s: \n",
    "                apply_bigram_colloc(\n",
    "                    apply_trigram_colloc(s, trigram_colloc),\n",
    "                    bigram_colloc)\n",
    "                                      )"
   ]
  },
  {
   "cell_type": "code",
   "execution_count": 778,
   "id": "disciplinary-things",
   "metadata": {},
   "outputs": [],
   "source": [
    "from sklearn.feature_extraction.text import TfidfVectorizer\n",
    "\n",
    "tfidf_vectorizer = TfidfVectorizer(analyzer='word',\n",
    "                                   min_df=2, # word has to be in at least two documents\n",
    "                                   max_df=0.95, # word has to be in less the 95% of documents\n",
    "                                   smooth_idf=True, # Smooth idf weights by adding one to document frequencies, as if an extra document was seen containing every term in the collection exactly once. Prevents zero divisions.\n",
    "                                   sublinear_tf=False) # replace tf with 1 + log(tf).\n",
    "\n",
    "X = tfidf_vectorizer.fit_transform(documents)  "
   ]
  },
  {
   "cell_type": "code",
   "execution_count": 779,
   "id": "reverse-discount",
   "metadata": {},
   "outputs": [
    {
     "data": {
      "text/plain": [
       "(62, 1734)"
      ]
     },
     "execution_count": 779,
     "metadata": {},
     "output_type": "execute_result"
    }
   ],
   "source": [
    "X.shape"
   ]
  },
  {
   "cell_type": "markdown",
   "id": "mexican-fancy",
   "metadata": {},
   "source": [
    "### most prominent words"
   ]
  },
  {
   "cell_type": "code",
   "execution_count": 780,
   "id": "higher-donor",
   "metadata": {},
   "outputs": [
    {
     "name": "stdout",
     "output_type": "stream",
     "text": [
      "think\n",
      "need\n",
      "thank\n",
      "institution\n",
      "know\n",
      "government\n",
      "say\n",
      "question\n",
      "point\n",
      "measure\n"
     ]
    }
   ],
   "source": [
    "# get 10 most prominent words\n",
    "tfidf = X.sum(axis =0).A1\n",
    "sort_ix = np.argsort(tfidf)[::-1]\n",
    "for word in np.array(tfidf_vectorizer.get_feature_names())[sort_ix][:10]:\n",
    "    print(word)"
   ]
  },
  {
   "cell_type": "markdown",
   "id": "transparent-classification",
   "metadata": {},
   "source": [
    "### NNMF clustering"
   ]
  },
  {
   "cell_type": "code",
   "execution_count": 60,
   "id": "bibliographic-russia",
   "metadata": {},
   "outputs": [
    {
     "name": "stdout",
     "output_type": "stream",
     "text": [
      "2 - iterations: 25\n",
      "3 - iterations: 53\n",
      "4 - iterations: 120\n",
      "5 - iterations: 189\n",
      "6 - iterations: 113\n",
      "7 - iterations: 87\n",
      "8 - iterations: 175\n"
     ]
    },
    {
     "name": "stderr",
     "output_type": "stream",
     "text": [
      "/home/asajina/repos/master-thesis/.env/lib/python3.8/site-packages/sklearn/decomposition/_nmf.py:1090: ConvergenceWarning: Maximum number of iterations 400 reached. Increase it to improve convergence.\n",
      "  warnings.warn(\"Maximum number of iterations %d reached. Increase it to\"\n"
     ]
    },
    {
     "name": "stdout",
     "output_type": "stream",
     "text": [
      "9 - iterations: 400\n",
      "10 - iterations: 191\n",
      "11 - iterations: 263\n",
      "12 - iterations: 185\n",
      "13 - iterations: 331\n",
      "14 - iterations: 347\n",
      "15 - iterations: 308\n"
     ]
    },
    {
     "name": "stderr",
     "output_type": "stream",
     "text": [
      "/home/asajina/repos/master-thesis/.env/lib/python3.8/site-packages/sklearn/decomposition/_nmf.py:1090: ConvergenceWarning: Maximum number of iterations 400 reached. Increase it to improve convergence.\n",
      "  warnings.warn(\"Maximum number of iterations %d reached. Increase it to\"\n"
     ]
    },
    {
     "name": "stdout",
     "output_type": "stream",
     "text": [
      "16 - iterations: 400\n",
      "17 - iterations: 192\n"
     ]
    },
    {
     "name": "stderr",
     "output_type": "stream",
     "text": [
      "/home/asajina/repos/master-thesis/.env/lib/python3.8/site-packages/sklearn/decomposition/_nmf.py:1090: ConvergenceWarning: Maximum number of iterations 400 reached. Increase it to improve convergence.\n",
      "  warnings.warn(\"Maximum number of iterations %d reached. Increase it to\"\n"
     ]
    },
    {
     "name": "stdout",
     "output_type": "stream",
     "text": [
      "18 - iterations: 400\n",
      "19 - iterations: 160\n",
      "20 - iterations: 264\n",
      "21 - iterations: 174\n",
      "22 - iterations: 182\n",
      "23 - iterations: 126\n",
      "24 - iterations: 157\n",
      "25 - iterations: 285\n",
      "26 - iterations: 149\n",
      "27 - iterations: 278\n",
      "28 - iterations: 359\n",
      "29 - iterations: 278\n",
      "30 - iterations: 65\n",
      "31 - iterations: 104\n",
      "32 - iterations: 273\n",
      "33 - iterations: 205\n",
      "34 - iterations: 178\n",
      "35 - iterations: 180\n",
      "36 - iterations: 191\n",
      "37 - iterations: 253\n",
      "38 - iterations: 248\n",
      "39 - iterations: 66\n",
      "40 - iterations: 270\n",
      "41 - iterations: 130\n",
      "42 - iterations: 61\n",
      "43 - iterations: 130\n",
      "44 - iterations: 293\n",
      "45 - iterations: 345\n",
      "46 - iterations: 77\n",
      "47 - iterations: 342\n",
      "48 - iterations: 126\n",
      "49 - iterations: 141\n"
     ]
    }
   ],
   "source": [
    "from sklearn.decomposition import NMF\n",
    "\n",
    "reconstruction_error = []\n",
    "for k in range(2, 50):\n",
    "    \n",
    "    nmf = NMF(n_components=k,\n",
    "              init='nndsvd',\n",
    "              beta_loss='frobenius',\n",
    "              max_iter=400,\n",
    "              random_state=0,\n",
    "              alpha=0,\n",
    "              l1_ratio=0)\n",
    "    \n",
    "    nmf.fit(X.toarray())\n",
    "    \n",
    "    reconstruction_error.append(nmf.reconstruction_err_)\n",
    "    print(f'{k} - iterations: {nmf.n_iter_}')"
   ]
  },
  {
   "cell_type": "code",
   "execution_count": 61,
   "id": "protective-niagara",
   "metadata": {},
   "outputs": [
    {
     "data": {
      "text/plain": [
       "[<matplotlib.lines.Line2D at 0x7f84d7e15460>]"
      ]
     },
     "execution_count": 61,
     "metadata": {},
     "output_type": "execute_result"
    },
    {
     "data": {
      "image/png": "[encoded data removed]",
      "text/plain": [
       "<Figure size 432x288 with 1 Axes>"
      ]
     },
     "metadata": {
      "needs_background": "light"
     },
     "output_type": "display_data"
    }
   ],
   "source": [
    "plt.plot(reconstruction_error, marker='+')"
   ]
  },
  {
   "cell_type": "markdown",
   "id": "nutritional-solomon",
   "metadata": {},
   "source": [
    "### 2D plot"
   ]
  },
  {
   "cell_type": "code",
   "execution_count": 183,
   "id": "alternate-infection",
   "metadata": {},
   "outputs": [
    {
     "name": "stdout",
     "output_type": "stream",
     "text": [
      "W shape: (62, 2)\n",
      "H shape: (2, 1738)\n"
     ]
    }
   ],
   "source": [
    "nmf = NMF(n_components=2,\n",
    "          init='nndsvd',\n",
    "          beta_loss='frobenius',\n",
    "          max_iter=1000,\n",
    "          random_state=0,\n",
    "          alpha=0,\n",
    "          l1_ratio=0)\n",
    "\n",
    "W = nmf.fit_transform(X.toarray())\n",
    "H = nmf.components_\n",
    "\n",
    "print(f'W shape: {W.shape}')\n",
    "print(f'H shape: {H.shape}')"
   ]
  },
  {
   "cell_type": "code",
   "execution_count": 184,
   "id": "designing-david",
   "metadata": {
    "scrolled": false
   },
   "outputs": [
    {
     "data": {
      "text/plain": [
       "<matplotlib.collections.PathCollection at 0x7f84d4f3cbb0>"
      ]
     },
     "execution_count": 184,
     "metadata": {},
     "output_type": "execute_result"
    },
    {
     "data": {
      "image/png": "[encoded data removed]",
      "text/plain": [
       "<Figure size 432x288 with 1 Axes>"
      ]
     },
     "metadata": {
      "needs_background": "light"
     },
     "output_type": "display_data"
    }
   ],
   "source": [
    "plt.scatter(W[:,0], W[:,1])"
   ]
  },
  {
   "cell_type": "markdown",
   "id": "talented-advocacy",
   "metadata": {},
   "source": [
    "### 3D plot"
   ]
  },
  {
   "cell_type": "code",
   "execution_count": 185,
   "id": "ceramic-technician",
   "metadata": {},
   "outputs": [
    {
     "name": "stdout",
     "output_type": "stream",
     "text": [
      "W shape: (62, 3)\n",
      "H shape: (3, 1738)\n"
     ]
    }
   ],
   "source": [
    "nmf = NMF(n_components=3,\n",
    "          init='nndsvd',\n",
    "          beta_loss='frobenius',\n",
    "          max_iter=1000,\n",
    "          random_state=0,\n",
    "          alpha=0,\n",
    "          l1_ratio=0)\n",
    "\n",
    "W = nmf.fit_transform(X.toarray())\n",
    "H = nmf.components_\n",
    "\n",
    "print(f'W shape: {W.shape}')\n",
    "print(f'H shape: {H.shape}')"
   ]
  },
  {
   "cell_type": "code",
   "execution_count": 186,
   "id": "progressive-gender",
   "metadata": {
    "scrolled": false
   },
   "outputs": [
    {
     "data": {
      "image/png": "[encoded data removed]",
      "text/plain": [
       "<Figure size 720x720 with 1 Axes>"
      ]
     },
     "metadata": {
      "needs_background": "light"
     },
     "output_type": "display_data"
    }
   ],
   "source": [
    "import matplotlib.pyplot as plt\n",
    "from mpl_toolkits.mplot3d import Axes3D\n",
    "\n",
    "fig = plt.figure(figsize=(10,10))\n",
    "ax = fig.add_subplot(111, projection='3d')\n",
    "\n",
    "# remove axis ticks\n",
    "ax.xaxis.set_ticklabels([])\n",
    "ax.yaxis.set_ticklabels([])\n",
    "ax.zaxis.set_ticklabels([])\n",
    "\n",
    "for point, label in zip(W, speakers):\n",
    "\n",
    "    x,y,z = point\n",
    "    ax.scatter( x, y, z,\n",
    "                color=(x,y,z),\n",
    "                edgecolor=None,\n",
    "                alpha=0.3,\n",
    "                s=100)\n",
    "    \n",
    "    jx, jy, jz = np.random.normal(0, 0.01, 3)\n",
    "    \n",
    "    if 'speaker' not in label:\n",
    "        ax.text(x + jx,\n",
    "                y + jy,\n",
    "                z + jz,\n",
    "                label,\n",
    "                zdir=(1,1,0))"
   ]
  },
  {
   "cell_type": "markdown",
   "id": "gross-hollywood",
   "metadata": {},
   "source": [
    "## _TODO_ document = entity"
   ]
  },
  {
   "cell_type": "markdown",
   "id": "fifty-quest",
   "metadata": {},
   "source": [
    "## document = date"
   ]
  },
  {
   "cell_type": "code",
   "execution_count": 800,
   "id": "inside-theme",
   "metadata": {},
   "outputs": [],
   "source": [
    "df = df_copy.copy()"
   ]
  },
  {
   "cell_type": "code",
   "execution_count": 801,
   "id": "interesting-cholesterol",
   "metadata": {},
   "outputs": [],
   "source": [
    "grouped = df.drop(columns=['timestamp','speaker']).groupby('date').apply(lambda s: ' '.join(s.speech))"
   ]
  },
  {
   "cell_type": "code",
   "execution_count": 338,
   "id": "least-prophet",
   "metadata": {
    "scrolled": true
   },
   "outputs": [
    {
     "data": {
      "text/plain": [
       "date\n",
       "2015-02-24 00:00:00    … of your responses or questions. and can i fi...\n",
       "2015-03-17 00:00:00    … coming in the next eh, in the next days and ...\n",
       "2015-04-01 00:00:00    also uh have a discussion on the hfsf buffer a...\n",
       "2015-04-24 00:00:00    uh, pierre, , welcome. thank you for joining u...\n",
       "2015-05-11 00:00:00    … closely and they’re supposed to conclude the...\n",
       "dtype: object"
      ]
     },
     "execution_count": 338,
     "metadata": {},
     "output_type": "execute_result"
    }
   ],
   "source": [
    "grouped.head()"
   ]
  },
  {
   "cell_type": "code",
   "execution_count": 339,
   "id": "respected-breeding",
   "metadata": {},
   "outputs": [],
   "source": [
    "dates = grouped.index"
   ]
  },
  {
   "cell_type": "code",
   "execution_count": 340,
   "id": "infrared-implement",
   "metadata": {},
   "outputs": [],
   "source": [
    "documents = [\n",
    "    ' '.join([token.lemma_ for sentence in nlp(doc).sents for token in sentence\n",
    "            if token_filter(token)\n",
    "    ])\n",
    "    for doc in grouped.values \n",
    "]"
   ]
  },
  {
   "cell_type": "code",
   "execution_count": 341,
   "id": "impaired-labor",
   "metadata": {},
   "outputs": [],
   "source": [
    "# apply collocations\n",
    "documents = pd.Series(documents).apply(lambda s: \n",
    "                apply_bigram_colloc(\n",
    "                    apply_trigram_colloc(s, trigram_colloc),\n",
    "                    bigram_colloc)\n",
    "                                      )"
   ]
  },
  {
   "cell_type": "code",
   "execution_count": 342,
   "id": "solved-glory",
   "metadata": {},
   "outputs": [],
   "source": [
    "from sklearn.feature_extraction.text import TfidfVectorizer\n",
    "\n",
    "tfidf_vectorizer = TfidfVectorizer(analyzer='word',\n",
    "                                   min_df=1, # word has to be in at least two documents\n",
    "                                   max_df=0.95, # word has to be in less the 95% of documents\n",
    "                                   smooth_idf=True, # Smooth idf weights by adding one to document frequencies, as if an extra document was seen containing every term in the collection exactly once. Prevents zero divisions.\n",
    "                                   sublinear_tf=False) # replace tf with 1 + log(tf).\n",
    "\n",
    "X = tfidf_vectorizer.fit_transform(documents)  "
   ]
  },
  {
   "cell_type": "code",
   "execution_count": 343,
   "id": "polar-brooklyn",
   "metadata": {},
   "outputs": [
    {
     "data": {
      "text/plain": [
       "(12, 3332)"
      ]
     },
     "execution_count": 343,
     "metadata": {},
     "output_type": "execute_result"
    }
   ],
   "source": [
    "X.shape"
   ]
  },
  {
   "cell_type": "code",
   "execution_count": 242,
   "id": "institutional-connection",
   "metadata": {},
   "outputs": [
    {
     "name": "stdout",
     "output_type": "stream",
     "text": [
      "2 - iterations: 45\n",
      "3 - iterations: 44\n",
      "4 - iterations: 56\n",
      "5 - iterations: 62\n",
      "6 - iterations: 211\n",
      "7 - iterations: 104\n",
      "8 - iterations: 84\n",
      "9 - iterations: 51\n",
      "10 - iterations: 42\n",
      "11 - iterations: 34\n",
      "12 - iterations: 30\n"
     ]
    }
   ],
   "source": [
    "from sklearn.decomposition import NMF\n",
    "\n",
    "reconstruction_error = []\n",
    "for k in range(2, len(dates)+1):\n",
    "    \n",
    "    nmf = NMF(n_components=k,\n",
    "              init='nndsvd',\n",
    "              beta_loss='frobenius',\n",
    "              max_iter=400,\n",
    "              random_state=0,\n",
    "              alpha=0,\n",
    "              l1_ratio=0)\n",
    "    \n",
    "    nmf.fit(X.toarray())\n",
    "    \n",
    "    reconstruction_error.append(nmf.reconstruction_err_)\n",
    "    print(f'{k} - iterations: {nmf.n_iter_}')"
   ]
  },
  {
   "cell_type": "code",
   "execution_count": 243,
   "id": "demographic-fields",
   "metadata": {},
   "outputs": [
    {
     "data": {
      "text/plain": [
       "[<matplotlib.lines.Line2D at 0x7f84d67a6e50>]"
      ]
     },
     "execution_count": 243,
     "metadata": {},
     "output_type": "execute_result"
    },
    {
     "data": {
      "image/png": "[encoded data removed]",
      "text/plain": [
       "<Figure size 432x288 with 1 Axes>"
      ]
     },
     "metadata": {
      "needs_background": "light"
     },
     "output_type": "display_data"
    }
   ],
   "source": [
    "plt.plot(reconstruction_error, marker='+')"
   ]
  },
  {
   "cell_type": "markdown",
   "id": "developed-thickness",
   "metadata": {},
   "source": [
    "### 2D plot"
   ]
  },
  {
   "cell_type": "code",
   "execution_count": 344,
   "id": "comparable-fault",
   "metadata": {},
   "outputs": [
    {
     "name": "stdout",
     "output_type": "stream",
     "text": [
      "W shape: (12, 2)\n",
      "H shape: (2, 3332)\n"
     ]
    }
   ],
   "source": [
    "nmf = NMF(n_components=2,\n",
    "          init='nndsvd',\n",
    "          beta_loss='frobenius',\n",
    "          max_iter=1000,\n",
    "          random_state=0,\n",
    "          alpha=0,\n",
    "          l1_ratio=0)\n",
    "\n",
    "W = nmf.fit_transform(X.toarray())\n",
    "H = nmf.components_\n",
    "\n",
    "print(f'W shape: {W.shape}')\n",
    "print(f'H shape: {H.shape}')"
   ]
  },
  {
   "cell_type": "code",
   "execution_count": 345,
   "id": "amber-nebraska",
   "metadata": {},
   "outputs": [
    {
     "data": {
      "text/plain": [
       "<matplotlib.collections.PathCollection at 0x7f84d5025130>"
      ]
     },
     "execution_count": 345,
     "metadata": {},
     "output_type": "execute_result"
    },
    {
     "data": {
      "image/png": "[encoded data removed]",
      "text/plain": [
       "<Figure size 432x288 with 1 Axes>"
      ]
     },
     "metadata": {
      "needs_background": "light"
     },
     "output_type": "display_data"
    }
   ],
   "source": [
    "plt.scatter(W[:,0], W[:,1])"
   ]
  },
  {
   "cell_type": "markdown",
   "id": "short-distance",
   "metadata": {},
   "source": [
    "### 3D plot"
   ]
  },
  {
   "cell_type": "code",
   "execution_count": 346,
   "id": "negative-arkansas",
   "metadata": {},
   "outputs": [
    {
     "name": "stdout",
     "output_type": "stream",
     "text": [
      "W shape: (12, 3)\n",
      "H shape: (3, 3332)\n"
     ]
    }
   ],
   "source": [
    "nmf = NMF(n_components=3,\n",
    "          init='nndsvd',\n",
    "          beta_loss='frobenius',\n",
    "          max_iter=1000,\n",
    "          random_state=0,\n",
    "          alpha=0,\n",
    "          l1_ratio=0)\n",
    "\n",
    "W = nmf.fit_transform(X.toarray())\n",
    "H = nmf.components_\n",
    "\n",
    "print(f'W shape: {W.shape}')\n",
    "print(f'H shape: {H.shape}')"
   ]
  },
  {
   "cell_type": "code",
   "execution_count": 347,
   "id": "diverse-oracle",
   "metadata": {},
   "outputs": [],
   "source": [
    "# from: https://stackoverflow.com/questions/22867620/putting-arrowheads-on-vectors-in-matplotlibs-3d-plot\n",
    "\n",
    "from matplotlib.patches import FancyArrowPatch\n",
    "from mpl_toolkits.mplot3d import proj3d\n",
    "\n",
    "class Arrow3D(FancyArrowPatch):\n",
    "    def __init__(self, xs, ys, zs, *args, **kwargs):\n",
    "        FancyArrowPatch.__init__(self, (0,0), (0,0), *args, **kwargs)\n",
    "        self._verts3d = xs, ys, zs\n",
    "\n",
    "    def draw(self, renderer):\n",
    "        xs3d, ys3d, zs3d = self._verts3d\n",
    "        xs, ys, zs = proj3d.proj_transform(xs3d, ys3d, zs3d, renderer.M)\n",
    "        self.set_positions((xs[0],ys[0]),(xs[1],ys[1]))\n",
    "        FancyArrowPatch.draw(self, renderer)"
   ]
  },
  {
   "cell_type": "code",
   "execution_count": 354,
   "id": "robust-device",
   "metadata": {
    "scrolled": false
   },
   "outputs": [
    {
     "data": {
      "image/png": "[encoded data removed]",
      "text/plain": [
       "<Figure size 720x720 with 1 Axes>"
      ]
     },
     "metadata": {
      "needs_background": "light"
     },
     "output_type": "display_data"
    }
   ],
   "source": [
    "import matplotlib.pyplot as plt\n",
    "from mpl_toolkits.mplot3d import Axes3D\n",
    "\n",
    "fig = plt.figure(figsize=(10,10))\n",
    "ax = fig.add_subplot(111, projection='3d')\n",
    "\n",
    "# remove axis ticks\n",
    "ax.xaxis.set_ticklabels([])\n",
    "ax.yaxis.set_ticklabels([])\n",
    "ax.zaxis.set_ticklabels([])\n",
    "\n",
    "ax.set_xlabel('x')\n",
    "ax.set_ylabel('y')\n",
    "ax.set_zlabel('z')\n",
    "\n",
    "for i, label in enumerate(dates):\n",
    "\n",
    "    point = W[i,:]\n",
    "    \n",
    "    # plot\n",
    "    x,y,z = point\n",
    "    c = (min(max(x,0),1),min(max(y,0),1),min(max(z,0),1))\n",
    "    ax.scatter( x, y, z,\n",
    "                color=c,\n",
    "                edgecolor=None,\n",
    "                alpha=0.5,\n",
    "                s=100)\n",
    "    \n",
    "    # annotate\n",
    "    jx, jy, jz = np.random.normal(0, 0.01, 3)\n",
    "    ax.text(x + jx,\n",
    "            y + jy,\n",
    "            z + jz,\n",
    "            pd.to_datetime(label).strftime('%d/%m'),\n",
    "            zdir=(1,1,0))\n",
    "    \n",
    "    # add arrow\n",
    "    if i>0:\n",
    "        previous_point = W[i-1,:]\n",
    "        px, py, pz = previous_point\n",
    "        #ax.arrow((px,x),(py,y),(pz,z),\n",
    "        #        color='black',\n",
    "        #        arrowstyle='-|>')\n",
    "        #ax.quiver(px,py,pz,\n",
    "        #          x,y,z,\n",
    "        #          color='black',\n",
    "        #          alpha=0.3,\n",
    "        #          lw=2)\n",
    "        arrow = Arrow3D([px,x],[py,y],[pz,z],\n",
    "                        mutation_scale=20,\n",
    "                        lw=1,\n",
    "                        arrowstyle='-|>',\n",
    "                        color='k',\n",
    "                        alpha=0.3)\n",
    "        ax.add_artist(arrow)"
   ]
  },
  {
   "cell_type": "markdown",
   "id": "federal-spine",
   "metadata": {},
   "source": [
    "Cluster the data points by finding the base topic (the axis) with which the document has the largest projection value."
   ]
  },
  {
   "cell_type": "code",
   "execution_count": 355,
   "id": "regular-peter",
   "metadata": {},
   "outputs": [
    {
     "data": {
      "text/plain": [
       "array([2, 2, 2, 2, 2, 0, 0, 0, 0, 1, 1, 1])"
      ]
     },
     "execution_count": 355,
     "metadata": {},
     "output_type": "execute_result"
    }
   ],
   "source": [
    "np.apply_along_axis(np.argmax,1,W)"
   ]
  },
  {
   "cell_type": "markdown",
   "id": "worldwide-visiting",
   "metadata": {},
   "source": [
    "This kind of shows that the talks went \"backwards\" after announcement of greek referendum.\n",
    "\n",
    "**TODO**\n",
    "- [x] keyword representation by topic\n",
    "- [x] most prominent words by topic\n",
    "- [ ] bring communiques into the picture"
   ]
  },
  {
   "cell_type": "markdown",
   "id": "rental-battery",
   "metadata": {},
   "source": [
    "Get the most prominent words for every topic."
   ]
  },
  {
   "cell_type": "code",
   "execution_count": 357,
   "id": "statistical-marking",
   "metadata": {},
   "outputs": [
    {
     "data": {
      "text/html": [
       "<div>\n",
       "<style scoped>\n",
       "    .dataframe tbody tr th:only-of-type {\n",
       "        vertical-align: middle;\n",
       "    }\n",
       "\n",
       "    .dataframe tbody tr th {\n",
       "        vertical-align: top;\n",
       "    }\n",
       "\n",
       "    .dataframe thead th {\n",
       "        text-align: right;\n",
       "    }\n",
       "</style>\n",
       "<table border=\"1\" class=\"dataframe\">\n",
       "  <thead>\n",
       "    <tr style=\"text-align: right;\">\n",
       "      <th></th>\n",
       "      <th>red</th>\n",
       "      <th>green</th>\n",
       "      <th>blue</th>\n",
       "    </tr>\n",
       "  </thead>\n",
       "  <tbody>\n",
       "    <tr>\n",
       "      <th>0</th>\n",
       "      <td>agreement</td>\n",
       "      <td>letter</td>\n",
       "      <td>process</td>\n",
       "    </tr>\n",
       "    <tr>\n",
       "      <th>1</th>\n",
       "      <td>ask</td>\n",
       "      <td>referendum</td>\n",
       "      <td>list</td>\n",
       "    </tr>\n",
       "    <tr>\n",
       "      <th>2</th>\n",
       "      <td>document</td>\n",
       "      <td>second_letter</td>\n",
       "      <td>liquidity</td>\n",
       "    </tr>\n",
       "    <tr>\n",
       "      <th>3</th>\n",
       "      <td>program</td>\n",
       "      <td>program</td>\n",
       "      <td>reform</td>\n",
       "    </tr>\n",
       "    <tr>\n",
       "      <th>4</th>\n",
       "      <td>month</td>\n",
       "      <td>people</td>\n",
       "      <td>review</td>\n",
       "    </tr>\n",
       "    <tr>\n",
       "      <th>5</th>\n",
       "      <td>pension</td>\n",
       "      <td>change</td>\n",
       "      <td>progress</td>\n",
       "    </tr>\n",
       "    <tr>\n",
       "      <th>6</th>\n",
       "      <td>reform</td>\n",
       "      <td>political</td>\n",
       "      <td>athen</td>\n",
       "    </tr>\n",
       "    <tr>\n",
       "      <th>7</th>\n",
       "      <td>prior_action</td>\n",
       "      <td>request</td>\n",
       "      <td>agreement</td>\n",
       "    </tr>\n",
       "    <tr>\n",
       "      <th>8</th>\n",
       "      <td>interest_rate</td>\n",
       "      <td>new</td>\n",
       "      <td>week</td>\n",
       "    </tr>\n",
       "    <tr>\n",
       "      <th>9</th>\n",
       "      <td>aide_memoire</td>\n",
       "      <td>sla</td>\n",
       "      <td>policy</td>\n",
       "    </tr>\n",
       "    <tr>\n",
       "      <th>10</th>\n",
       "      <td>eurogroup</td>\n",
       "      <td>vote</td>\n",
       "      <td>level</td>\n",
       "    </tr>\n",
       "    <tr>\n",
       "      <th>11</th>\n",
       "      <td>new</td>\n",
       "      <td>stance</td>\n",
       "      <td>area</td>\n",
       "    </tr>\n",
       "    <tr>\n",
       "      <th>12</th>\n",
       "      <td>parliament</td>\n",
       "      <td>eurogroup</td>\n",
       "      <td>public</td>\n",
       "    </tr>\n",
       "    <tr>\n",
       "      <th>13</th>\n",
       "      <td>tomorrow</td>\n",
       "      <td>prime_minister</td>\n",
       "      <td>april</td>\n",
       "    </tr>\n",
       "    <tr>\n",
       "      <th>14</th>\n",
       "      <td>like</td>\n",
       "      <td>programme</td>\n",
       "      <td>brussel_group</td>\n",
       "    </tr>\n",
       "    <tr>\n",
       "      <th>15</th>\n",
       "      <td>day</td>\n",
       "      <td>extension</td>\n",
       "      <td>comprehensive</td>\n",
       "    </tr>\n",
       "    <tr>\n",
       "      <th>16</th>\n",
       "      <td>process</td>\n",
       "      <td>sunday</td>\n",
       "      <td>statement</td>\n",
       "    </tr>\n",
       "    <tr>\n",
       "      <th>17</th>\n",
       "      <td>low</td>\n",
       "      <td>esm</td>\n",
       "      <td>bill</td>\n",
       "    </tr>\n",
       "    <tr>\n",
       "      <th>18</th>\n",
       "      <td>fiscal</td>\n",
       "      <td>ask</td>\n",
       "      <td>detail</td>\n",
       "    </tr>\n",
       "    <tr>\n",
       "      <th>19</th>\n",
       "      <td>debt</td>\n",
       "      <td>respect</td>\n",
       "      <td>people</td>\n",
       "    </tr>\n",
       "    <tr>\n",
       "      <th>20</th>\n",
       "      <td>order</td>\n",
       "      <td>propose</td>\n",
       "      <td>successful_conclusion</td>\n",
       "    </tr>\n",
       "    <tr>\n",
       "      <th>21</th>\n",
       "      <td>problem</td>\n",
       "      <td>ahead</td>\n",
       "      <td>commitment</td>\n",
       "    </tr>\n",
       "    <tr>\n",
       "      <th>22</th>\n",
       "      <td>growth_friendly</td>\n",
       "      <td>support</td>\n",
       "      <td>provide</td>\n",
       "    </tr>\n",
       "    <tr>\n",
       "      <th>23</th>\n",
       "      <td>credibility</td>\n",
       "      <td>prior_action</td>\n",
       "      <td>technical</td>\n",
       "    </tr>\n",
       "    <tr>\n",
       "      <th>24</th>\n",
       "      <td>forward</td>\n",
       "      <td>table</td>\n",
       "      <td>significant</td>\n",
       "    </tr>\n",
       "    <tr>\n",
       "      <th>25</th>\n",
       "      <td>tax</td>\n",
       "      <td>speech</td>\n",
       "      <td>bank</td>\n",
       "    </tr>\n",
       "    <tr>\n",
       "      <th>26</th>\n",
       "      <td>reach</td>\n",
       "      <td>amendment</td>\n",
       "      <td>intention</td>\n",
       "    </tr>\n",
       "    <tr>\n",
       "      <th>27</th>\n",
       "      <td>propose</td>\n",
       "      <td>saturday</td>\n",
       "      <td>previous</td>\n",
       "    </tr>\n",
       "    <tr>\n",
       "      <th>28</th>\n",
       "      <td>deal</td>\n",
       "      <td>mandate</td>\n",
       "      <td>like</td>\n",
       "    </tr>\n",
       "    <tr>\n",
       "      <th>29</th>\n",
       "      <td>country</td>\n",
       "      <td>reject</td>\n",
       "      <td>overall</td>\n",
       "    </tr>\n",
       "    <tr>\n",
       "      <th>30</th>\n",
       "      <td>year</td>\n",
       "      <td>send</td>\n",
       "      <td>arrangement</td>\n",
       "    </tr>\n",
       "    <tr>\n",
       "      <th>31</th>\n",
       "      <td>take</td>\n",
       "      <td>tomorrow</td>\n",
       "      <td>conference</td>\n",
       "    </tr>\n",
       "    <tr>\n",
       "      <th>32</th>\n",
       "      <td>line</td>\n",
       "      <td>negotiation</td>\n",
       "      <td>eurogroup</td>\n",
       "    </tr>\n",
       "    <tr>\n",
       "      <th>33</th>\n",
       "      <td>set</td>\n",
       "      <td>wait</td>\n",
       "      <td>friday</td>\n",
       "    </tr>\n",
       "    <tr>\n",
       "      <th>34</th>\n",
       "      <td>table</td>\n",
       "      <td>take</td>\n",
       "      <td>program</td>\n",
       "    </tr>\n",
       "    <tr>\n",
       "      <th>35</th>\n",
       "      <td>important</td>\n",
       "      <td>context</td>\n",
       "      <td>help</td>\n",
       "    </tr>\n",
       "    <tr>\n",
       "      <th>36</th>\n",
       "      <td>meet</td>\n",
       "      <td>yesterday</td>\n",
       "      <td>state</td>\n",
       "    </tr>\n",
       "    <tr>\n",
       "      <th>37</th>\n",
       "      <td>euro</td>\n",
       "      <td>logic</td>\n",
       "      <td>law</td>\n",
       "    </tr>\n",
       "    <tr>\n",
       "      <th>38</th>\n",
       "      <td>growth</td>\n",
       "      <td>like</td>\n",
       "      <td>general</td>\n",
       "    </tr>\n",
       "    <tr>\n",
       "      <th>39</th>\n",
       "      <td>great</td>\n",
       "      <td>tsipra</td>\n",
       "      <td>fact</td>\n",
       "    </tr>\n",
       "    <tr>\n",
       "      <th>40</th>\n",
       "      <td>market</td>\n",
       "      <td>concern</td>\n",
       "      <td>ask</td>\n",
       "    </tr>\n",
       "    <tr>\n",
       "      <th>41</th>\n",
       "      <td>possible</td>\n",
       "      <td>answer</td>\n",
       "      <td>key</td>\n",
       "    </tr>\n",
       "    <tr>\n",
       "      <th>42</th>\n",
       "      <td>mou</td>\n",
       "      <td>amend</td>\n",
       "      <td>fiscal</td>\n",
       "    </tr>\n",
       "    <tr>\n",
       "      <th>43</th>\n",
       "      <td>believe</td>\n",
       "      <td>conference</td>\n",
       "      <td>target</td>\n",
       "    </tr>\n",
       "    <tr>\n",
       "      <th>44</th>\n",
       "      <td>rate</td>\n",
       "      <td>expire</td>\n",
       "      <td>comment</td>\n",
       "    </tr>\n",
       "    <tr>\n",
       "      <th>45</th>\n",
       "      <td>little</td>\n",
       "      <td>25th</td>\n",
       "      <td>euro_working_group</td>\n",
       "    </tr>\n",
       "    <tr>\n",
       "      <th>46</th>\n",
       "      <td>change</td>\n",
       "      <td>comment</td>\n",
       "      <td>place</td>\n",
       "    </tr>\n",
       "    <tr>\n",
       "      <th>47</th>\n",
       "      <td>difficult</td>\n",
       "      <td>recommend</td>\n",
       "      <td>day</td>\n",
       "    </tr>\n",
       "    <tr>\n",
       "      <th>48</th>\n",
       "      <td>package</td>\n",
       "      <td>application</td>\n",
       "      <td>matter</td>\n",
       "    </tr>\n",
       "    <tr>\n",
       "      <th>49</th>\n",
       "      <td>week</td>\n",
       "      <td>believe</td>\n",
       "      <td>have</td>\n",
       "    </tr>\n",
       "  </tbody>\n",
       "</table>\n",
       "</div>"
      ],
      "text/plain": [
       "                red           green                   blue\n",
       "0         agreement          letter                process\n",
       "1               ask      referendum                   list\n",
       "2          document   second_letter              liquidity\n",
       "3           program         program                 reform\n",
       "4             month          people                 review\n",
       "5           pension          change               progress\n",
       "6            reform       political                  athen\n",
       "7      prior_action         request              agreement\n",
       "8     interest_rate             new                   week\n",
       "9      aide_memoire             sla                 policy\n",
       "10        eurogroup            vote                  level\n",
       "11              new          stance                   area\n",
       "12       parliament       eurogroup                 public\n",
       "13         tomorrow  prime_minister                  april\n",
       "14             like       programme          brussel_group\n",
       "15              day       extension          comprehensive\n",
       "16          process          sunday              statement\n",
       "17              low             esm                   bill\n",
       "18           fiscal             ask                 detail\n",
       "19             debt         respect                 people\n",
       "20            order         propose  successful_conclusion\n",
       "21          problem           ahead             commitment\n",
       "22  growth_friendly         support                provide\n",
       "23      credibility    prior_action              technical\n",
       "24          forward           table            significant\n",
       "25              tax          speech                   bank\n",
       "26            reach       amendment              intention\n",
       "27          propose        saturday               previous\n",
       "28             deal         mandate                   like\n",
       "29          country          reject                overall\n",
       "30             year            send            arrangement\n",
       "31             take        tomorrow             conference\n",
       "32             line     negotiation              eurogroup\n",
       "33              set            wait                 friday\n",
       "34            table            take                program\n",
       "35        important         context                   help\n",
       "36             meet       yesterday                  state\n",
       "37             euro           logic                    law\n",
       "38           growth            like                general\n",
       "39            great          tsipra                   fact\n",
       "40           market         concern                    ask\n",
       "41         possible          answer                    key\n",
       "42              mou           amend                 fiscal\n",
       "43          believe      conference                 target\n",
       "44             rate          expire                comment\n",
       "45           little            25th     euro_working_group\n",
       "46           change         comment                  place\n",
       "47        difficult       recommend                    day\n",
       "48          package     application                 matter\n",
       "49             week         believe                   have"
      ]
     },
     "execution_count": 357,
     "metadata": {},
     "output_type": "execute_result"
    }
   ],
   "source": [
    "top_k = 50\n",
    "\n",
    "pd.DataFrame({\n",
    "    'red': np.array(tfidf_vectorizer.get_feature_names())[np.argsort(H[0,:])[::-1][:top_k]],\n",
    "    'green': np.array(tfidf_vectorizer.get_feature_names())[np.argsort(H[1,:])[::-1][:top_k]],\n",
    "    'blue': np.array(tfidf_vectorizer.get_feature_names())[np.argsort(H[2,:])[::-1][:top_k]]\n",
    "})"
   ]
  },
  {
   "cell_type": "markdown",
   "id": "damaged-popularity",
   "metadata": {},
   "source": [
    "Get keyword representation by topic."
   ]
  },
  {
   "cell_type": "code",
   "execution_count": 404,
   "id": "fixed-peter",
   "metadata": {},
   "outputs": [],
   "source": [
    "keywords = [\n",
    "    # red\n",
    "    'instit',\n",
    "    'agreement',\n",
    "    'interest_rate',\n",
    "    'process',\n",
    "    'reform',\n",
    "    'program',\n",
    "    'progress',\n",
    "    'policy',\n",
    "    'tax',\n",
    "    'pension',\n",
    "    'market',\n",
    "    'parliament',\n",
    "    'govern',\n",
    "    # green\n",
    "    'referendum',\n",
    "    'letter',\n",
    "    'second_letter',\n",
    "    'people',\n",
    "    'political',\n",
    "    'change',\n",
    "    'programme',\n",
    "    'prime_minister',\n",
    "    'eurogroup',\n",
    "    'ecb',\n",
    "    'imf',\n",
    "    # blue\n",
    "    'liquidity',\n",
    "    'bank',\n",
    "    'crisis',\n",
    "    'mou',\n",
    "    'debt',\n",
    "    'aide_memoire',\n",
    "    'technical',\n",
    "    'bond',\n",
    "    'esm',\n",
    "    'brussel_group',\n",
    "    'deficit'\n",
    "]\n",
    "\n",
    "keywords = np.sort(np.unique(keywords))"
   ]
  },
  {
   "cell_type": "code",
   "execution_count": 405,
   "id": "naval-quality",
   "metadata": {},
   "outputs": [],
   "source": [
    "heatmap = pd.DataFrame(\n",
    "    index = keywords,\n",
    "    columns = ['red','green','blue'],\n",
    "    data = [[H[i,:][tfidf_vectorizer.get_feature_names().index(word)] for i in range(3)] for word in keywords]\n",
    ")"
   ]
  },
  {
   "cell_type": "code",
   "execution_count": 406,
   "id": "reserved-productivity",
   "metadata": {},
   "outputs": [],
   "source": [
    "heatmap = heatmap[['blue','red','green']]"
   ]
  },
  {
   "cell_type": "code",
   "execution_count": 407,
   "id": "medical-edmonton",
   "metadata": {},
   "outputs": [
    {
     "data": {
      "image/png": "[encoded data removed]",
      "text/plain": [
       "<Figure size 720x720 with 1 Axes>"
      ]
     },
     "metadata": {
      "needs_background": "light"
     },
     "output_type": "display_data"
    }
   ],
   "source": [
    "fig, ax = plt.subplots(figsize=(10,10))\n",
    "\n",
    "ax.matshow(heatmap)\n",
    "ax.set_yticks(range(heatmap.index.size))\n",
    "_ = ax.set_yticklabels(heatmap.index)\n",
    "ax.set_xticks(range(3))\n",
    "_ = ax.set_xticklabels(['b','r','g'])"
   ]
  },
  {
   "cell_type": "code",
   "execution_count": 408,
   "id": "elegant-modification",
   "metadata": {},
   "outputs": [
    {
     "data": {
      "image/png": "[encoded data removed]",
      "text/plain": [
       "<Figure size 720x720 with 1 Axes>"
      ]
     },
     "metadata": {
      "needs_background": "light"
     },
     "output_type": "display_data"
    }
   ],
   "source": [
    "fig, ax = plt.subplots(figsize=(10,10))\n",
    "\n",
    "ax.matshow(X.toarray()[:,[tfidf_vectorizer.get_feature_names().index(word) for word in keywords]].T)\n",
    "ax.set_yticks(range(len(keywords)))\n",
    "_ = ax.set_yticklabels(keywords)\n",
    "ax.set_xticks(range(X.shape[0]))\n",
    "formated_dates = dates.to_series().apply(lambda s: pd.to_datetime(s).strftime('%d/%m')).values\n",
    "_ = ax.set_xticklabels(formated_dates, rotation=45)"
   ]
  },
  {
   "cell_type": "code",
   "execution_count": 409,
   "id": "regional-jewel",
   "metadata": {},
   "outputs": [
    {
     "name": "stdout",
     "output_type": "stream",
     "text": [
      "instit\n",
      "institute\n",
      "institutional\n",
      "institutionalist\n"
     ]
    }
   ],
   "source": [
    "for w in tfidf_vectorizer.get_feature_names():\n",
    "    if w.startswith('instit'):\n",
    "        print(w)"
   ]
  },
  {
   "cell_type": "markdown",
   "id": "black-trail",
   "metadata": {},
   "source": [
    "# communiques"
   ]
  },
  {
   "cell_type": "code",
   "execution_count": 487,
   "id": "positive-sister",
   "metadata": {},
   "outputs": [],
   "source": [
    "df = pd.read_csv('../data/communiques/parsed.csv').sort_values(by='date').reset_index(drop=True)"
   ]
  },
  {
   "cell_type": "code",
   "execution_count": 488,
   "id": "working-stanford",
   "metadata": {
    "scrolled": true
   },
   "outputs": [
    {
     "data": {
      "text/html": [
       "<div>\n",
       "<style scoped>\n",
       "    .dataframe tbody tr th:only-of-type {\n",
       "        vertical-align: middle;\n",
       "    }\n",
       "\n",
       "    .dataframe tbody tr th {\n",
       "        vertical-align: top;\n",
       "    }\n",
       "\n",
       "    .dataframe thead th {\n",
       "        text-align: right;\n",
       "    }\n",
       "</style>\n",
       "<table border=\"1\" class=\"dataframe\">\n",
       "  <thead>\n",
       "    <tr style=\"text-align: right;\">\n",
       "      <th></th>\n",
       "      <th>date</th>\n",
       "      <th>title</th>\n",
       "      <th>story</th>\n",
       "    </tr>\n",
       "  </thead>\n",
       "  <tbody>\n",
       "    <tr>\n",
       "      <th>0</th>\n",
       "      <td>2015-02-12</td>\n",
       "      <td>Remarks by Jeroen Dijsselbloem at the press co...</td>\n",
       "      <td>Good evening.\\nToday, as you well know, we had...</td>\n",
       "    </tr>\n",
       "    <tr>\n",
       "      <th>1</th>\n",
       "      <td>2015-02-16</td>\n",
       "      <td>Remarks by Jeroen Dijsselbloem at the press co...</td>\n",
       "      <td>Good evening everyone and thanks for joining t...</td>\n",
       "    </tr>\n",
       "    <tr>\n",
       "      <th>2</th>\n",
       "      <td>2015-02-20</td>\n",
       "      <td>Eurogroup statement on Greece</td>\n",
       "      <td>The Eurogroup reiterates its appreciation for ...</td>\n",
       "    </tr>\n",
       "    <tr>\n",
       "      <th>3</th>\n",
       "      <td>2015-02-20</td>\n",
       "      <td>Remarks by Jeroen Dijsselbloem at the press co...</td>\n",
       "      <td>Good evening and welcome to this press confere...</td>\n",
       "    </tr>\n",
       "    <tr>\n",
       "      <th>4</th>\n",
       "      <td>2015-02-24</td>\n",
       "      <td>Eurogroup statement on Greece</td>\n",
       "      <td>The Eurogroup today discussed the first list o...</td>\n",
       "    </tr>\n",
       "  </tbody>\n",
       "</table>\n",
       "</div>"
      ],
      "text/plain": [
       "         date                                              title  \\\n",
       "0  2015-02-12  Remarks by Jeroen Dijsselbloem at the press co...   \n",
       "1  2015-02-16  Remarks by Jeroen Dijsselbloem at the press co...   \n",
       "2  2015-02-20                      Eurogroup statement on Greece   \n",
       "3  2015-02-20  Remarks by Jeroen Dijsselbloem at the press co...   \n",
       "4  2015-02-24                      Eurogroup statement on Greece   \n",
       "\n",
       "                                               story  \n",
       "0  Good evening.\\nToday, as you well know, we had...  \n",
       "1  Good evening everyone and thanks for joining t...  \n",
       "2  The Eurogroup reiterates its appreciation for ...  \n",
       "3  Good evening and welcome to this press confere...  \n",
       "4  The Eurogroup today discussed the first list o...  "
      ]
     },
     "execution_count": 488,
     "metadata": {},
     "output_type": "execute_result"
    }
   ],
   "source": [
    "df.head()"
   ]
  },
  {
   "cell_type": "markdown",
   "id": "excellent-session",
   "metadata": {},
   "source": [
    "## cleaning"
   ]
  },
  {
   "cell_type": "code",
   "execution_count": 486,
   "id": "exceptional-missouri",
   "metadata": {},
   "outputs": [],
   "source": [
    "# TODO\n",
    "\n",
    "# replace escaped characters with space\n",
    "def clean_escaped(s):\n",
    "    for esc in [\n",
    "        '\\\\n',\n",
    "        '\\\\xc2\\\\xa0',\n",
    "        '\\\\xc2\\\\xa0We'\n",
    "    ]:\n",
    "        s = s.replace(esc, ' ')\n",
    "    return s.replace('\\\\\\'', '\\'')\n",
    "    \n",
    "    \n",
    "df.story = df.story.apply(lambda s: clean_escaped(s))"
   ]
  },
  {
   "cell_type": "code",
   "execution_count": 489,
   "id": "furnished-forestry",
   "metadata": {},
   "outputs": [],
   "source": [
    "# make all lower\n",
    "df.title = df.title.apply(lambda s: s.lower())\n",
    "df.story = df.story.apply(lambda s: s.lower())"
   ]
  },
  {
   "cell_type": "markdown",
   "id": "turned-encyclopedia",
   "metadata": {},
   "source": [
    "## spacy"
   ]
  },
  {
   "cell_type": "code",
   "execution_count": 490,
   "id": "finite-vietnamese",
   "metadata": {},
   "outputs": [],
   "source": [
    "import spacy\n",
    "\n",
    "nlp = spacy.load(\"en_core_web_sm\", exclude=[\"ner\"])"
   ]
  },
  {
   "cell_type": "code",
   "execution_count": 491,
   "id": "handmade-sleep",
   "metadata": {},
   "outputs": [
    {
     "name": "stdout",
     "output_type": "stream",
     "text": [
      "Time taken: 0.05 mins\n"
     ]
    }
   ],
   "source": [
    "t = time.time()\n",
    "doc = nlp(' '.join(df.story)) # takes a few minutes\n",
    "print(f'Time taken: {round((time.time() - t) / 60, 2)} mins')"
   ]
  },
  {
   "cell_type": "code",
   "execution_count": 492,
   "id": "coupled-compiler",
   "metadata": {},
   "outputs": [],
   "source": [
    "def token_filter(token):\n",
    "    return token.pos_ in {'ADJ', 'ADV', 'NOUN', 'PROPN', 'VERB'}\\\n",
    "            and not token.is_stop\\\n",
    "            and len(token.text) > 1 # for punctuation (but also 'I')"
   ]
  },
  {
   "cell_type": "markdown",
   "id": "liable-ranking",
   "metadata": {},
   "source": [
    "## collocations"
   ]
  },
  {
   "cell_type": "code",
   "execution_count": 460,
   "id": "tough-christmas",
   "metadata": {},
   "outputs": [],
   "source": [
    "def apply_trigram_colloc(s, set_colloc):\n",
    "    res = s.lower()\n",
    "    for b1,b2,b3 in set_colloc:\n",
    "        res = res.replace(f'{b1} {b2} {b3}', f'{b1}_{b2}_{b3}')\n",
    "    return res\n",
    "\n",
    "def apply_bigram_colloc(s, set_colloc):\n",
    "    res = s.lower()\n",
    "    for b1,b2 in set_colloc:\n",
    "        res = res.replace(f'{b1} {b2}', f'{b1}_{b2}')\n",
    "    return res"
   ]
  },
  {
   "cell_type": "markdown",
   "id": "medical-speaker",
   "metadata": {},
   "source": [
    "### trigrams"
   ]
  },
  {
   "cell_type": "code",
   "execution_count": 461,
   "id": "neural-latvia",
   "metadata": {},
   "outputs": [],
   "source": [
    "from nltk.collocations import TrigramCollocationFinder, TrigramAssocMeasures\n",
    "\n",
    "# needs to be a one-dim list\n",
    "# lemmatization, filter out punctuation and stop words\n",
    "words = [token.lemma_ for sentence in doc.sents for token in sentence\n",
    "            if token_filter(token)\n",
    "        ]\n",
    "\n",
    "finder = TrigramCollocationFinder.from_words(words)\n",
    "\n",
    "# word might be highly correlated but very infrequent, ignore all with less than n occurances\n",
    "finder.apply_freq_filter(5)\n",
    "\n",
    "tgm = TrigramAssocMeasures()\n",
    "collocations = {trigram: pmi for trigram, pmi in finder.score_ngrams(tgm.mi_like)}"
   ]
  },
  {
   "cell_type": "code",
   "execution_count": 462,
   "id": "closing-disaster",
   "metadata": {},
   "outputs": [
    {
     "data": {
      "text/plain": [
       "{('successful', 'conclusion', 'review'): 0.121,\n",
       " ('euro', 'area', 'member'): 0.022766494092658966,\n",
       " ('area', 'member', 'state'): 0.022222222222222223,\n",
       " ('list', 'reform', 'measure'): 0.012056327160493827,\n",
       " ('efsf', 'financial', 'arrangement'): 0.00980392156862745,\n",
       " ('financial', 'arrangement', 'greece'): 0.0035014005602240898,\n",
       " ('greek', 'authority', 'institution'): 0.0009021947267638827}"
      ]
     },
     "execution_count": 462,
     "metadata": {},
     "output_type": "execute_result"
    }
   ],
   "source": [
    "collocations"
   ]
  },
  {
   "cell_type": "code",
   "execution_count": 466,
   "id": "annoying-david",
   "metadata": {},
   "outputs": [],
   "source": [
    "#trigram_colloc = {}"
   ]
  },
  {
   "cell_type": "markdown",
   "id": "threaded-dealer",
   "metadata": {},
   "source": [
    "### bigrams"
   ]
  },
  {
   "cell_type": "code",
   "execution_count": 464,
   "id": "silent-sweden",
   "metadata": {},
   "outputs": [],
   "source": [
    "from nltk.collocations import BigramCollocationFinder, BigramAssocMeasures\n",
    "\n",
    "finder = BigramCollocationFinder.from_words(words)\n",
    "\n",
    "# word might be highly correlated but very infrequent, ignore all with less than n occurances\n",
    "finder.apply_freq_filter(5)\n",
    "\n",
    "bgm = BigramAssocMeasures()\n",
    "collocations = {bigram: pmi for bigram, pmi in finder.score_ngrams(bgm.mi_like)}"
   ]
  },
  {
   "cell_type": "code",
   "execution_count": 577,
   "id": "heavy-addiction",
   "metadata": {},
   "outputs": [
    {
     "data": {
      "text/plain": [
       "{('area', 'member'),\n",
       " ('conclusion', 'review'),\n",
       " ('current', 'arrangement'),\n",
       " ('economic', 'recovery'),\n",
       " ('euro', 'area'),\n",
       " ('financial', 'assistance'),\n",
       " ('financial', 'sector'),\n",
       " ('good', 'evening'),\n",
       " ('greek', 'authority'),\n",
       " ('greek', 'government'),\n",
       " ('kind', 'flexibility'),\n",
       " ('list', 'reform'),\n",
       " ('member', 'state'),\n",
       " ('monetary', 'union'),\n",
       " ('national', 'procedure'),\n",
       " ('post', 'programme'),\n",
       " ('press', 'conference'),\n",
       " ('stand', 'ready'),\n",
       " ('starting', 'point'),\n",
       " ('state', 'play'),\n",
       " ('structural', 'reform'),\n",
       " ('successful', 'conclusion'),\n",
       " ('take', 'place'),\n",
       " ('take', 'stock')}"
      ]
     },
     "execution_count": 577,
     "metadata": {},
     "output_type": "execute_result"
    }
   ],
   "source": [
    "threshold = 0.5\n",
    "\n",
    "bigram_colloc_candidate = []\n",
    "for bigram, score in collocations.items():\n",
    "    if score > threshold:\n",
    "        bigram_colloc_candidate.append(bigram)\n",
    "    else:\n",
    "        break\n",
    "        \n",
    "bigram_colloc_candidate = set(bigram_colloc_candidate)\n",
    "bigram_colloc_candidate"
   ]
  },
  {
   "cell_type": "code",
   "execution_count": 467,
   "id": "continuous-encounter",
   "metadata": {},
   "outputs": [],
   "source": [
    "bigram_colloc = {\n",
    "    ('euro', 'area'),\n",
    "    ('greek', 'authority'),\n",
    "    ('greek', 'government'),\n",
    "    ('brussel', 'group'),\n",
    "    ('member', 'state'),\n",
    "    ('monetary', 'union'),\n",
    "    ('press', 'conference'),\n",
    "    ('structural', 'reform'),\n",
    "}"
   ]
  },
  {
   "cell_type": "markdown",
   "id": "aging-quebec",
   "metadata": {},
   "source": [
    "## tf-idf"
   ]
  },
  {
   "cell_type": "code",
   "execution_count": 500,
   "id": "sophisticated-bouquet",
   "metadata": {},
   "outputs": [],
   "source": [
    "grouped = df.drop(columns=['title']).groupby('date').apply(lambda s: ' '.join(s.story))"
   ]
  },
  {
   "cell_type": "code",
   "execution_count": 506,
   "id": "ethical-swaziland",
   "metadata": {},
   "outputs": [],
   "source": [
    "dates = grouped.index.values"
   ]
  },
  {
   "cell_type": "code",
   "execution_count": 509,
   "id": "sticky-respect",
   "metadata": {},
   "outputs": [],
   "source": [
    "documents = [\n",
    "    ' '.join([token.lemma_ for sentence in nlp(doc).sents for token in sentence\n",
    "            if token_filter(token)\n",
    "    ])\n",
    "    for doc in grouped.values\n",
    "]"
   ]
  },
  {
   "cell_type": "code",
   "execution_count": 510,
   "id": "charged-evaluation",
   "metadata": {},
   "outputs": [],
   "source": [
    "# apply collocations\n",
    "documents = pd.Series(documents).apply(lambda s: \n",
    "                apply_bigram_colloc(s,bigram_colloc))"
   ]
  },
  {
   "cell_type": "code",
   "execution_count": 511,
   "id": "advanced-spine",
   "metadata": {},
   "outputs": [],
   "source": [
    "from sklearn.feature_extraction.text import TfidfVectorizer\n",
    "\n",
    "tfidf_vectorizer = TfidfVectorizer(analyzer='word',\n",
    "                                   min_df=1, # word has to be in at least two documents\n",
    "                                   max_df=0.95, # word has to be in less the 95% of documents\n",
    "                                   smooth_idf=True, # Smooth idf weights by adding one to document frequencies, as if an extra document was seen containing every term in the collection exactly once. Prevents zero divisions.\n",
    "                                   sublinear_tf=False) # replace tf with 1 + log(tf).\n",
    "\n",
    "X = tfidf_vectorizer.fit_transform(documents)  "
   ]
  },
  {
   "cell_type": "code",
   "execution_count": 512,
   "id": "consecutive-swimming",
   "metadata": {},
   "outputs": [
    {
     "data": {
      "text/plain": [
       "(13, 957)"
      ]
     },
     "execution_count": 512,
     "metadata": {},
     "output_type": "execute_result"
    }
   ],
   "source": [
    "X.shape"
   ]
  },
  {
   "cell_type": "code",
   "execution_count": 513,
   "id": "interior-relations",
   "metadata": {},
   "outputs": [
    {
     "name": "stdout",
     "output_type": "stream",
     "text": [
      "2 - iterations: 135\n",
      "3 - iterations: 108\n",
      "4 - iterations: 56\n",
      "5 - iterations: 158\n",
      "6 - iterations: 99\n",
      "7 - iterations: 70\n",
      "8 - iterations: 38\n",
      "9 - iterations: 38\n",
      "10 - iterations: 74\n",
      "11 - iterations: 62\n",
      "12 - iterations: 32\n",
      "13 - iterations: 35\n"
     ]
    }
   ],
   "source": [
    "from sklearn.decomposition import NMF\n",
    "\n",
    "reconstruction_error = []\n",
    "for k in range(2, len(dates)+1):\n",
    "    \n",
    "    nmf = NMF(n_components=k,\n",
    "              init='nndsvd',\n",
    "              beta_loss='frobenius',\n",
    "              max_iter=400,\n",
    "              random_state=0,\n",
    "              alpha=0,\n",
    "              l1_ratio=0)\n",
    "    \n",
    "    nmf.fit(X.toarray())\n",
    "    \n",
    "    reconstruction_error.append(nmf.reconstruction_err_)\n",
    "    print(f'{k} - iterations: {nmf.n_iter_}')"
   ]
  },
  {
   "cell_type": "code",
   "execution_count": 514,
   "id": "efficient-tanzania",
   "metadata": {},
   "outputs": [
    {
     "data": {
      "text/plain": [
       "[<matplotlib.lines.Line2D at 0x7f84fc628610>]"
      ]
     },
     "execution_count": 514,
     "metadata": {},
     "output_type": "execute_result"
    },
    {
     "data": {
      "image/png": "[encoded data removed]",
      "text/plain": [
       "<Figure size 432x288 with 1 Axes>"
      ]
     },
     "metadata": {
      "needs_background": "light"
     },
     "output_type": "display_data"
    }
   ],
   "source": [
    "plt.plot(reconstruction_error, marker='+')"
   ]
  },
  {
   "cell_type": "markdown",
   "id": "primary-coaching",
   "metadata": {},
   "source": [
    "### 2D plot"
   ]
  },
  {
   "cell_type": "code",
   "execution_count": 515,
   "id": "chronic-torture",
   "metadata": {},
   "outputs": [
    {
     "name": "stdout",
     "output_type": "stream",
     "text": [
      "W shape: (13, 2)\n",
      "H shape: (2, 957)\n"
     ]
    }
   ],
   "source": [
    "nmf = NMF(n_components=2,\n",
    "          init='nndsvd',\n",
    "          beta_loss='frobenius',\n",
    "          max_iter=1000,\n",
    "          random_state=0,\n",
    "          alpha=0,\n",
    "          l1_ratio=0)\n",
    "\n",
    "W = nmf.fit_transform(X.toarray())\n",
    "H = nmf.components_\n",
    "\n",
    "print(f'W shape: {W.shape}')\n",
    "print(f'H shape: {H.shape}')"
   ]
  },
  {
   "cell_type": "code",
   "execution_count": 516,
   "id": "hearing-finance",
   "metadata": {},
   "outputs": [
    {
     "data": {
      "text/plain": [
       "<matplotlib.collections.PathCollection at 0x7f84fce5a790>"
      ]
     },
     "execution_count": 516,
     "metadata": {},
     "output_type": "execute_result"
    },
    {
     "data": {
      "image/png": "[encoded data removed]",
      "text/plain": [
       "<Figure size 432x288 with 1 Axes>"
      ]
     },
     "metadata": {
      "needs_background": "light"
     },
     "output_type": "display_data"
    }
   ],
   "source": [
    "plt.scatter(W[:,0], W[:,1])"
   ]
  },
  {
   "cell_type": "markdown",
   "id": "average-commercial",
   "metadata": {},
   "source": [
    "### 3D plot"
   ]
  },
  {
   "cell_type": "code",
   "execution_count": 517,
   "id": "blind-interstate",
   "metadata": {},
   "outputs": [
    {
     "name": "stdout",
     "output_type": "stream",
     "text": [
      "W shape: (13, 3)\n",
      "H shape: (3, 957)\n"
     ]
    }
   ],
   "source": [
    "nmf = NMF(n_components=3,\n",
    "          init='nndsvd',\n",
    "          beta_loss='frobenius',\n",
    "          max_iter=1000,\n",
    "          random_state=0,\n",
    "          alpha=0,\n",
    "          l1_ratio=0)\n",
    "\n",
    "W = nmf.fit_transform(X.toarray())\n",
    "H = nmf.components_\n",
    "\n",
    "print(f'W shape: {W.shape}')\n",
    "print(f'H shape: {H.shape}')"
   ]
  },
  {
   "cell_type": "code",
   "execution_count": 518,
   "id": "technological-breach",
   "metadata": {},
   "outputs": [],
   "source": [
    "# from: https://stackoverflow.com/questions/22867620/putting-arrowheads-on-vectors-in-matplotlibs-3d-plot\n",
    "\n",
    "from matplotlib.patches import FancyArrowPatch\n",
    "from mpl_toolkits.mplot3d import proj3d\n",
    "\n",
    "class Arrow3D(FancyArrowPatch):\n",
    "    def __init__(self, xs, ys, zs, *args, **kwargs):\n",
    "        FancyArrowPatch.__init__(self, (0,0), (0,0), *args, **kwargs)\n",
    "        self._verts3d = xs, ys, zs\n",
    "\n",
    "    def draw(self, renderer):\n",
    "        xs3d, ys3d, zs3d = self._verts3d\n",
    "        xs, ys, zs = proj3d.proj_transform(xs3d, ys3d, zs3d, renderer.M)\n",
    "        self.set_positions((xs[0],ys[0]),(xs[1],ys[1]))\n",
    "        FancyArrowPatch.draw(self, renderer)"
   ]
  },
  {
   "cell_type": "code",
   "execution_count": 519,
   "id": "southeast-novel",
   "metadata": {
    "scrolled": false
   },
   "outputs": [
    {
     "data": {
      "image/png": "[encoded data removed]",
      "text/plain": [
       "<Figure size 720x720 with 1 Axes>"
      ]
     },
     "metadata": {
      "needs_background": "light"
     },
     "output_type": "display_data"
    }
   ],
   "source": [
    "import matplotlib.pyplot as plt\n",
    "from mpl_toolkits.mplot3d import Axes3D\n",
    "\n",
    "fig = plt.figure(figsize=(10,10))\n",
    "ax = fig.add_subplot(111, projection='3d')\n",
    "\n",
    "# remove axis ticks\n",
    "ax.xaxis.set_ticklabels([])\n",
    "ax.yaxis.set_ticklabels([])\n",
    "ax.zaxis.set_ticklabels([])\n",
    "\n",
    "ax.set_xlabel('x')\n",
    "ax.set_ylabel('y')\n",
    "ax.set_zlabel('z')\n",
    "\n",
    "for i, label in enumerate(dates):\n",
    "\n",
    "    point = W[i,:]\n",
    "    \n",
    "    # plot\n",
    "    x,y,z = point\n",
    "    c = (min(max(x,0),1),min(max(y,0),1),min(max(z,0),1))\n",
    "    ax.scatter( x, y, z,\n",
    "                color=c,\n",
    "                edgecolor=None,\n",
    "                alpha=0.5,\n",
    "                s=100)\n",
    "    \n",
    "    # annotate\n",
    "    jx, jy, jz = np.random.normal(0, 0.01, 3)\n",
    "    ax.text(x + jx,\n",
    "            y + jy,\n",
    "            z + jz,\n",
    "            pd.to_datetime(label).strftime('%d/%m'),\n",
    "            zdir=(1,1,0))\n",
    "    \n",
    "    # add arrow\n",
    "    if i>0:\n",
    "        previous_point = W[i-1,:]\n",
    "        px, py, pz = previous_point\n",
    "        #ax.arrow((px,x),(py,y),(pz,z),\n",
    "        #        color='black',\n",
    "        #        arrowstyle='-|>')\n",
    "        #ax.quiver(px,py,pz,\n",
    "        #          x,y,z,\n",
    "        #          color='black',\n",
    "        #          alpha=0.3,\n",
    "        #          lw=2)\n",
    "        arrow = Arrow3D([px,x],[py,y],[pz,z],\n",
    "                        mutation_scale=20,\n",
    "                        lw=1,\n",
    "                        arrowstyle='-|>',\n",
    "                        color='k',\n",
    "                        alpha=0.3)\n",
    "        ax.add_artist(arrow)"
   ]
  },
  {
   "cell_type": "markdown",
   "id": "engaging-denial",
   "metadata": {},
   "source": [
    "Cluster the data points by finding the base topic (the axis) with which the document has the largest projection value."
   ]
  },
  {
   "cell_type": "code",
   "execution_count": 520,
   "id": "matched-tournament",
   "metadata": {},
   "outputs": [
    {
     "data": {
      "text/plain": [
       "array([0, 0, 2, 2, 0, 0, 0, 1, 1, 1, 2, 2, 2])"
      ]
     },
     "execution_count": 520,
     "metadata": {},
     "output_type": "execute_result"
    }
   ],
   "source": [
    "np.apply_along_axis(np.argmax,1,W)"
   ]
  },
  {
   "cell_type": "code",
   "execution_count": 560,
   "id": "passing-triple",
   "metadata": {},
   "outputs": [],
   "source": [
    "keywords = [\n",
    "    # red\n",
    "    'instit',\n",
    "    'agreement',\n",
    "    'interest_rate',\n",
    "    'process',\n",
    "    'reform',\n",
    "    'program',\n",
    "    'progress',\n",
    "    'policy',\n",
    "    'tax',\n",
    "    'pension',\n",
    "    'market',\n",
    "    'parliament',\n",
    "    'govern',\n",
    "    # green\n",
    "    'referendum',\n",
    "    'letter',\n",
    "    'second_letter',\n",
    "    'people',\n",
    "    'political',\n",
    "    'change',\n",
    "    'programme',\n",
    "    'prime_minister',\n",
    "    #'eurogroup',\n",
    "    'ecb',\n",
    "    'imf',\n",
    "    # blue\n",
    "    'liquidity',\n",
    "    'bank',\n",
    "    'crisis',\n",
    "    'mou',\n",
    "    'debt',\n",
    "    #'aide_memoire',\n",
    "    'technical',\n",
    "    'bond',\n",
    "    'esm',\n",
    "    #'brussel_group',\n",
    "    'deficit'\n",
    "]\n",
    "\n",
    "keywords = np.sort(np.unique(keywords))"
   ]
  },
  {
   "cell_type": "code",
   "execution_count": 525,
   "id": "apart-error",
   "metadata": {},
   "outputs": [
    {
     "ename": "ValueError",
     "evalue": "'deficit' is not in list",
     "output_type": "error",
     "traceback": [
      "\u001b[0;31m---------------------------------------------------------------------------\u001b[0m",
      "\u001b[0;31mValueError\u001b[0m                                Traceback (most recent call last)",
      "\u001b[0;32m<ipython-input-525-3a9555e0aeb8>\u001b[0m in \u001b[0;36m<module>\u001b[0;34m\u001b[0m\n\u001b[1;32m      1\u001b[0m \u001b[0mfig\u001b[0m\u001b[0;34m,\u001b[0m \u001b[0max\u001b[0m \u001b[0;34m=\u001b[0m \u001b[0mplt\u001b[0m\u001b[0;34m.\u001b[0m\u001b[0msubplots\u001b[0m\u001b[0;34m(\u001b[0m\u001b[0mfigsize\u001b[0m\u001b[0;34m=\u001b[0m\u001b[0;34m(\u001b[0m\u001b[0;36m10\u001b[0m\u001b[0;34m,\u001b[0m\u001b[0;36m10\u001b[0m\u001b[0;34m)\u001b[0m\u001b[0;34m)\u001b[0m\u001b[0;34m\u001b[0m\u001b[0;34m\u001b[0m\u001b[0m\n\u001b[1;32m      2\u001b[0m \u001b[0;34m\u001b[0m\u001b[0m\n\u001b[0;32m----> 3\u001b[0;31m \u001b[0max\u001b[0m\u001b[0;34m.\u001b[0m\u001b[0mmatshow\u001b[0m\u001b[0;34m(\u001b[0m\u001b[0mX\u001b[0m\u001b[0;34m.\u001b[0m\u001b[0mtoarray\u001b[0m\u001b[0;34m(\u001b[0m\u001b[0;34m)\u001b[0m\u001b[0;34m[\u001b[0m\u001b[0;34m:\u001b[0m\u001b[0;34m,\u001b[0m\u001b[0;34m[\u001b[0m\u001b[0mtfidf_vectorizer\u001b[0m\u001b[0;34m.\u001b[0m\u001b[0mget_feature_names\u001b[0m\u001b[0;34m(\u001b[0m\u001b[0;34m)\u001b[0m\u001b[0;34m.\u001b[0m\u001b[0mindex\u001b[0m\u001b[0;34m(\u001b[0m\u001b[0mword\u001b[0m\u001b[0;34m)\u001b[0m \u001b[0;32mfor\u001b[0m \u001b[0mword\u001b[0m \u001b[0;32min\u001b[0m \u001b[0mkeywords\u001b[0m\u001b[0;34m]\u001b[0m\u001b[0;34m]\u001b[0m\u001b[0;34m.\u001b[0m\u001b[0mT\u001b[0m\u001b[0;34m)\u001b[0m\u001b[0;34m\u001b[0m\u001b[0;34m\u001b[0m\u001b[0m\n\u001b[0m\u001b[1;32m      4\u001b[0m \u001b[0max\u001b[0m\u001b[0;34m.\u001b[0m\u001b[0mset_yticks\u001b[0m\u001b[0;34m(\u001b[0m\u001b[0mrange\u001b[0m\u001b[0;34m(\u001b[0m\u001b[0mlen\u001b[0m\u001b[0;34m(\u001b[0m\u001b[0mkeywords\u001b[0m\u001b[0;34m)\u001b[0m\u001b[0;34m)\u001b[0m\u001b[0;34m)\u001b[0m\u001b[0;34m\u001b[0m\u001b[0;34m\u001b[0m\u001b[0m\n\u001b[1;32m      5\u001b[0m \u001b[0m_\u001b[0m \u001b[0;34m=\u001b[0m \u001b[0max\u001b[0m\u001b[0;34m.\u001b[0m\u001b[0mset_yticklabels\u001b[0m\u001b[0;34m(\u001b[0m\u001b[0mkeywords\u001b[0m\u001b[0;34m)\u001b[0m\u001b[0;34m\u001b[0m\u001b[0;34m\u001b[0m\u001b[0m\n",
      "\u001b[0;32m<ipython-input-525-3a9555e0aeb8>\u001b[0m in \u001b[0;36m<listcomp>\u001b[0;34m(.0)\u001b[0m\n\u001b[1;32m      1\u001b[0m \u001b[0mfig\u001b[0m\u001b[0;34m,\u001b[0m \u001b[0max\u001b[0m \u001b[0;34m=\u001b[0m \u001b[0mplt\u001b[0m\u001b[0;34m.\u001b[0m\u001b[0msubplots\u001b[0m\u001b[0;34m(\u001b[0m\u001b[0mfigsize\u001b[0m\u001b[0;34m=\u001b[0m\u001b[0;34m(\u001b[0m\u001b[0;36m10\u001b[0m\u001b[0;34m,\u001b[0m\u001b[0;36m10\u001b[0m\u001b[0;34m)\u001b[0m\u001b[0;34m)\u001b[0m\u001b[0;34m\u001b[0m\u001b[0;34m\u001b[0m\u001b[0m\n\u001b[1;32m      2\u001b[0m \u001b[0;34m\u001b[0m\u001b[0m\n\u001b[0;32m----> 3\u001b[0;31m \u001b[0max\u001b[0m\u001b[0;34m.\u001b[0m\u001b[0mmatshow\u001b[0m\u001b[0;34m(\u001b[0m\u001b[0mX\u001b[0m\u001b[0;34m.\u001b[0m\u001b[0mtoarray\u001b[0m\u001b[0;34m(\u001b[0m\u001b[0;34m)\u001b[0m\u001b[0;34m[\u001b[0m\u001b[0;34m:\u001b[0m\u001b[0;34m,\u001b[0m\u001b[0;34m[\u001b[0m\u001b[0mtfidf_vectorizer\u001b[0m\u001b[0;34m.\u001b[0m\u001b[0mget_feature_names\u001b[0m\u001b[0;34m(\u001b[0m\u001b[0;34m)\u001b[0m\u001b[0;34m.\u001b[0m\u001b[0mindex\u001b[0m\u001b[0;34m(\u001b[0m\u001b[0mword\u001b[0m\u001b[0;34m)\u001b[0m \u001b[0;32mfor\u001b[0m \u001b[0mword\u001b[0m \u001b[0;32min\u001b[0m \u001b[0mkeywords\u001b[0m\u001b[0;34m]\u001b[0m\u001b[0;34m]\u001b[0m\u001b[0;34m.\u001b[0m\u001b[0mT\u001b[0m\u001b[0;34m)\u001b[0m\u001b[0;34m\u001b[0m\u001b[0;34m\u001b[0m\u001b[0m\n\u001b[0m\u001b[1;32m      4\u001b[0m \u001b[0max\u001b[0m\u001b[0;34m.\u001b[0m\u001b[0mset_yticks\u001b[0m\u001b[0;34m(\u001b[0m\u001b[0mrange\u001b[0m\u001b[0;34m(\u001b[0m\u001b[0mlen\u001b[0m\u001b[0;34m(\u001b[0m\u001b[0mkeywords\u001b[0m\u001b[0;34m)\u001b[0m\u001b[0;34m)\u001b[0m\u001b[0;34m)\u001b[0m\u001b[0;34m\u001b[0m\u001b[0;34m\u001b[0m\u001b[0m\n\u001b[1;32m      5\u001b[0m \u001b[0m_\u001b[0m \u001b[0;34m=\u001b[0m \u001b[0max\u001b[0m\u001b[0;34m.\u001b[0m\u001b[0mset_yticklabels\u001b[0m\u001b[0;34m(\u001b[0m\u001b[0mkeywords\u001b[0m\u001b[0;34m)\u001b[0m\u001b[0;34m\u001b[0m\u001b[0;34m\u001b[0m\u001b[0m\n",
      "\u001b[0;31mValueError\u001b[0m: 'deficit' is not in list"
     ]
    },
    {
     "data": {
      "image/png": "[encoded data removed]",
      "text/plain": [
       "<Figure size 720x720 with 1 Axes>"
      ]
     },
     "metadata": {
      "needs_background": "light"
     },
     "output_type": "display_data"
    }
   ],
   "source": [
    "fig, ax = plt.subplots(figsize=(10,10))\n",
    "\n",
    "ax.matshow(X.toarray()[:,[tfidf_vectorizer.get_feature_names().index(word) for word in keywords]].T)\n",
    "ax.set_yticks(range(len(keywords)))\n",
    "_ = ax.set_yticklabels(keywords)\n",
    "ax.set_xticks(range(X.shape[0]))\n",
    "formated_dates = dates.to_series().apply(lambda s: pd.to_datetime(s).strftime('%d/%m')).values\n",
    "_ = ax.set_xticklabels(formated_dates, rotation=45)"
   ]
  },
  {
   "cell_type": "markdown",
   "id": "technological-chassis",
   "metadata": {},
   "source": [
    "# euroleaks + communiques heatmap"
   ]
  },
  {
   "cell_type": "code",
   "execution_count": 785,
   "id": "fatal-sacramento",
   "metadata": {},
   "outputs": [],
   "source": [
    "communiques = pd.read_csv('../data/communiques/cleaned.csv')\n",
    "\n",
    "# group by date\n",
    "communiques_groupby_date = communiques.drop(columns=['title']).groupby('date').apply(lambda s: ' '.join(s.story))\n",
    "\n",
    "# preprocess\n",
    "communique_documents = [\n",
    "    ' '.join([token.lemma_ for sentence in nlp(doc).sents for token in sentence\n",
    "            if token.pos_ in {'ADJ', 'ADV', 'NOUN', 'PROPN', 'VERB'}\n",
    "            and not token.is_stop\n",
    "            and len(token.text) > 1\n",
    "    ])\n",
    "    for doc in communiques_groupby_date.values\n",
    "]\n",
    "\n",
    "# apply collocations\n",
    "communique_bigram_colloc = {\n",
    "    ('euro', 'area'),\n",
    "    ('greek', 'authority'),\n",
    "    ('greek', 'government'),\n",
    "    ('brussel', 'group'),\n",
    "    ('member', 'state'),\n",
    "    ('monetary', 'union'),\n",
    "    ('press', 'conference'),\n",
    "    ('structural', 'reform'),\n",
    "}\n",
    "communique_documents = pd.Series(communique_documents).apply(lambda s: \n",
    "                apply_bigram_colloc(s,communique_bigram_colloc))\n",
    "\n",
    "# get labels\n",
    "communique_dates = communiques_groupby_date.index.to_series().apply(lambda s: pd.to_datetime(s).strftime('%d/%m'))"
   ]
  },
  {
   "cell_type": "code",
   "execution_count": 786,
   "id": "signal-triple",
   "metadata": {},
   "outputs": [],
   "source": [
    "leaks = pd.read_csv('../data/euroleaks/cleaned.csv')\n",
    "\n",
    "# group by date\n",
    "leaks_groupby_date = leaks.drop(columns=['timestamp','speaker']).groupby('date').apply(lambda s: ' '.join(s.speech))\n",
    "\n",
    "# preprocess\n",
    "leaks_documents = [\n",
    "    ' '.join([token.lemma_ for sentence in nlp(doc).sents for token in sentence\n",
    "            if token.pos_ in {'ADJ', 'ADV', 'NOUN', 'PROPN', 'VERB'}\n",
    "            and not token.is_stop\n",
    "            and not token.text in stopnames\n",
    "            and not token.text in context_stopwords\n",
    "            and len(token.text) > 1\n",
    "    ])\n",
    "    for doc in leaks_groupby_date.values \n",
    "]\n",
    "\n",
    "# apply collocations\n",
    "leaks_trigram_colloc = {('euro', 'working', 'group')}\n",
    "leaks_bigram_colloc = {\n",
    "    ('20th', 'february'),\n",
    "    ('aide', 'memoire'),\n",
    "    ('anti', 'corruption'),\n",
    "    ('brussel', 'group'),\n",
    "    ('capital', 'control'),\n",
    "    ('central', 'bank'),\n",
    "    ('collective', 'bargaining'),\n",
    "    ('common', 'ground'),\n",
    "    ('debt', 'sustainability'),\n",
    "    ('govern', 'council'),\n",
    "    ('growth', 'friendly'),\n",
    "    ('interest', 'rate'),\n",
    "    ('labor', 'market'),\n",
    "    ('maximum', 'flexibility'),\n",
    "    ('member', 'state'),\n",
    "    ('minimum', 'wage'),\n",
    "    ('primary', 'surplus'),\n",
    "    ('prime', 'minister'),\n",
    "    ('prior', 'action'),\n",
    "    ('product', 'market'),\n",
    "    ('second', 'letter'),\n",
    "    ('smp', 'bond'),\n",
    "    ('structural', 'reform'),\n",
    "    ('successful', 'conclusion'),\n",
    "    ('technical', 'team'),\n",
    "    ('real', 'estate')\n",
    "}\n",
    "leaks_documents = pd.Series(leaks_documents).apply(lambda s: \n",
    "                apply_bigram_colloc(\n",
    "                    apply_trigram_colloc(s, leaks_trigram_colloc),\n",
    "                    leaks_bigram_colloc)\n",
    "                                      )\n",
    "# get labels\n",
    "leaks_dates = leaks_groupby_date.index.to_series().apply(lambda s: pd.to_datetime(s).strftime('%d/%m'))"
   ]
  },
  {
   "cell_type": "code",
   "execution_count": 787,
   "id": "pursuant-merit",
   "metadata": {},
   "outputs": [],
   "source": [
    "documents = pd.concat((leaks_documents, communique_documents))\n",
    "dates = pd.concat((leaks_dates, communique_dates)).values"
   ]
  },
  {
   "cell_type": "code",
   "execution_count": 788,
   "id": "legislative-links",
   "metadata": {},
   "outputs": [],
   "source": [
    "from sklearn.feature_extraction.text import TfidfVectorizer\n",
    "\n",
    "tfidf_vectorizer = TfidfVectorizer(analyzer='word',\n",
    "                                   min_df=1, # word has to be in at least two documents\n",
    "                                   max_df=0.95, # word has to be in less the 95% of documents\n",
    "                                   smooth_idf=True, # Smooth idf weights by adding one to document frequencies, as if an extra document was seen containing every term in the collection exactly once. Prevents zero divisions.\n",
    "                                   sublinear_tf=False) # replace tf with 1 + log(tf).\n",
    "\n",
    "X = tfidf_vectorizer.fit_transform(documents)  "
   ]
  },
  {
   "cell_type": "code",
   "execution_count": 789,
   "id": "bacterial-birmingham",
   "metadata": {},
   "outputs": [
    {
     "data": {
      "text/plain": [
       "(25, 3551)"
      ]
     },
     "execution_count": 789,
     "metadata": {},
     "output_type": "execute_result"
    }
   ],
   "source": [
    "X.shape"
   ]
  },
  {
   "cell_type": "code",
   "execution_count": null,
   "id": "absolute-heaven",
   "metadata": {},
   "outputs": [],
   "source": [
    "'institution' in tfidf_vectorizer.get_feature_names()"
   ]
  },
  {
   "cell_type": "code",
   "execution_count": 797,
   "id": "still-crime",
   "metadata": {},
   "outputs": [],
   "source": [
    "keywords = [\n",
    "    \n",
    "    # prominent in both\n",
    "    'agreement',\n",
    "    #'referendum',\n",
    "    #'letter',\n",
    "    'political',\n",
    "    'ecb',\n",
    "    'imf',\n",
    "    'esm',\n",
    "    'market',\n",
    "    'mou',\n",
    "    'institution',\n",
    "    'greece',\n",
    "    \n",
    "    # prominent in leaks but not communiques\n",
    "    'aide_memoire',\n",
    "    'brussel_group',\n",
    "    'capital_control',\n",
    "    'collective_bargaining',\n",
    "    'labor_market',\n",
    "    'liquidity',\n",
    "    'minimum_wage',\n",
    "    'pension',\n",
    "    #'second_letter',\n",
    "    'smp_bond',\n",
    "    'tax',\n",
    "    'interest_rate',\n",
    "    'parliament',\n",
    "    'primary_surplus',\n",
    "    'maximum_flexibility',\n",
    "    \n",
    "    \n",
    "    # prominent in communiques but not leaks\n",
    "    'structural_reform',\n",
    "    \n",
    "    \n",
    "    \n",
    "    #'20th_february',\n",
    "    #'process',\n",
    "    #'reform',\n",
    "    #'program',\n",
    "    #'progress',\n",
    "    #'policy',\n",
    "    #'people',\n",
    "    #'change',\n",
    "    #'prime_minister',\n",
    "    #'bank',\n",
    "    #'debt',\n",
    "    #'deficit'\n",
    "    #'budget',\n",
    "    #'labor',\n",
    "    #'anti_corruption',\n",
    "    #'debt_sustainability',\n",
    "    #'growth',\n",
    "    #'growth_friendly',\n",
    "    #'flexibility',\n",
    "    #'real_estate', \n",
    "    #'unemployment',\n",
    "    #'health',\n",
    "    #'wage'\n",
    "]\n",
    "\n",
    "keywords = np.sort(np.unique(keywords))"
   ]
  },
  {
   "cell_type": "code",
   "execution_count": 798,
   "id": "minor-persian",
   "metadata": {},
   "outputs": [
    {
     "data": {
      "text/plain": [
       "True"
      ]
     },
     "execution_count": 798,
     "metadata": {},
     "output_type": "execute_result"
    }
   ],
   "source": [
    "'greece' in tfidf_vectorizer.get_feature_names()"
   ]
  },
  {
   "cell_type": "code",
   "execution_count": 799,
   "id": "wireless-plasma",
   "metadata": {
    "scrolled": false
   },
   "outputs": [
    {
     "data": {
      "image/png": "[encoded data removed]",
      "text/plain": [
       "<Figure size 720x576 with 2 Axes>"
      ]
     },
     "metadata": {
      "needs_background": "light"
     },
     "output_type": "display_data"
    }
   ],
   "source": [
    "fig, axes = plt.subplots(1,2,figsize=(10,8),sharey=True)\n",
    "\n",
    "# leaks\n",
    "axes[0].matshow(X.toarray()[:len(leaks_dates)][:,[tfidf_vectorizer.get_feature_names().index(word) for word in keywords]].T)\n",
    "axes[0].set_xticks(range(len(leaks_dates)))\n",
    "_ = axes[0].set_xticklabels(leaks_dates, rotation=45)\n",
    "\n",
    "# communiques\n",
    "axes[1].matshow(X.toarray()[len(leaks_dates):][:,[tfidf_vectorizer.get_feature_names().index(word) for word in keywords]].T)\n",
    "axes[1].set_xticks(range(len(communique_dates)))\n",
    "_ = axes[1].set_xticklabels(communique_dates, rotation=45)\n",
    "\n",
    "# shared y axis\n",
    "axes[0].set_yticks(range(len(keywords)))\n",
    "_ = axes[0].set_yticklabels(keywords)\n",
    "#axes[1].set_yticks(range(len(keywords)))\n",
    "#_ = axes[1].set_yticklabels(keywords)\n",
    "\n",
    "axes[0].set_title('Euroleaks')\n",
    "axes[1].set_title('Communiques')\n",
    "\n",
    "fig.tight_layout()"
   ]
  },
  {
   "cell_type": "markdown",
   "id": "purple-sweet",
   "metadata": {},
   "source": [
    "**TODO**\n",
    "- [x] 20th february corrections\n",
    "- add keywords from communiques\n",
    "- clean up keywords: remove those without signal, collapse some (eg program programme)\n",
    "- explain inconsistency in dates between leaks and communiques\n",
    "- use NNMF as motivation for going over to word embeddings"
   ]
  },
  {
   "cell_type": "code",
   "execution_count": 741,
   "id": "iraqi-synthesis",
   "metadata": {},
   "outputs": [
    {
     "name": "stdout",
     "output_type": "stream",
     "text": [
      "jeroen dijsselbloem :\n",
      "thank you, yanis. um, let me for, uh, opening, uh, the, the, the floor to other ministers. uh, we iterate that the basis that we are working on is the eurogroup statement which, um, uh, talks about on the base of the framework of the existing arrangements, uh, underpinned by a set of commitments which are then spelled out. and i think one of the key ones there is that starting from the current arrangement, there can be use of the given flexibility that had to be always after consulting and agreeing with the institutions any changes to the arrangements. i think that could… that clear issue, and you underlined the, um, uh… how the greek government is committed on this point. \n",
      "\n",
      "thomas wieser :\n",
      "thanks very much thomas. erm, anybody else? does not appear to be the case… so for me, erm, i just have a look at all the agreements, erm, i see the 20th_february erm, where in the second paragraph it says, the purpose of the extension is the successful completion of the, the review, on the basis of the conditions in the current arrangement, making best use of the given flexibility, which will be considered jointly with the greek authorities and the institutions. \n",
      "\n",
      "thomas wieser :\n",
      "so erm, i guess erm, what erm, we should be striving for, erm, is that we all agree, hopefully after, erm, many more important people have spoken, that we could agree, erm, to significantly accelerate work at the technical level. erm, that this puts us into the position of being able to work within the existing erm, arrangements, identify what is jointly feasible and where erm, does one have to use, or does one want to use, the existing flexibility. erm, if one wants to use the flexibility, one has to look closely, what does that mean for the overall erm, fiscal framework erm, etcetera.  would then lead to further erm, measures erm, on the parts erm, of erm, all of us. \n",
      "\n",
      "thomas wieser :\n",
      "so, uh, i think after nine weeks we, we hopefully should have now arrived at the stage, uh,  process. it is clear from what colleagues from the institutions have said, uh, that we are still a very long way, uh, away from this being an agreed list, making full use of the flexibility that is in, in the program, of course. uh, but first one needs to define, and i think the greek colleagues have done this, one needs to define what do the greek authorities want, uh, and then one needs to have an agreed process and how do we deal with all the other things, uh, that for a variety of reasons the greek authorities, at this stage, do not feel like doing. \n",
      "\n",
      "jeroen dijsselbloem :\n",
      "uh, pierre, , welcome. thank you for joining us. um, the next item on the agenda is the,uh, situation in greece. uh, as you all vividly remember on the 20th_february and on the 24th of february, we agreed on, um, the starting point of the process and how the process should be managed. starting point and of course the current program, allowing for flexibility, to-changes to be put in the program within the parameters of the program. and that process, um, has been going on since then and, um, we all share the urgency, sense of urgency of the need to make progress, to get the-that deal. \n",
      "\n",
      "pierre moscovici :\n",
      "uh, let me stress once again that policy initiatives need to be concrete, they need to be time bound and mutually consistent. previously agreed measures need to be respected, uh, the institutions are willing to consider what could be substituted with equitable measures in line with government priorities. once again this is about the flexibility which has been recognized in the agreement of 20th_february. but some changes must be carefully calibrated and discussed openly. we also talked about  action. rollback of measures and unilateral changes to policies and structural reforms are not expedient means of eventual progress. \n",
      "\n",
      "jeroen dijsselbloem :\n",
      "our colleagues, let me try and draw a conclusion possibly that is going back to what we agreed on the 20th and 24th of february where we were quite clear that the program could be, would allow for some flexibility if it would remain within the key targets of the program. in other words the program had to stay on track. we are now very close to the end of april and my understanding from the institutions even though yanis is a little more optimistic is that very very little progress has been made. um, i don’t think it’s useful to set new deadlines. i think we have to hold the energy in uh, to work on an agreement as soon as possible within, fully within the agreement we had, the statement of the 20th_february, having said that i think the way the process is going so far we cannot continue. \n",
      "\n",
      "kian :\n",
      "first of all, i’m very pleased there… there is some movement. um i cannot rectify much new content in this proposal. um, there is some changes in the figures  so let me point out the channel, the institutions confer, that it is non-paper, this is why there is the flexibility we decided in february in our statement in the agreement with greece. if it is in line, that’s probably the base for the discussions which are necessary in the next hour and days. but it if it’s not in line there will be much more than the flexibility that we agreed on february that must be dealt in discussion in between ministers of finance. so i don’t know exactly what is the content of this aide memoire, but the discussions about a non-paper is very difficult for us to make the right decisions. \n",
      "\n",
      "christine lagarde :\n",
      "thank you very much, uh, mario’s comment was so short that i’m sure i can be associated with it. and i completely hope at this point uh, eh, its nice to see a lot of smile on our face after those hours and hours of uh, um very complicated, laborious and uh, fairly unfocused uh, discussions. i just would like to mention that the three institutions have worked together cohesively uh, for quite a few weeks uh, the aide memoire which i know you have now in front of you, represents maximum flexibility that could be applied to the february memorandum. i insist on the maximum flexibility and the prior action list that you have also in front of you the one that  in practical terms the prior actions that would be needed in order to um, respond to the aide memoire provisions. \n",
      "\n",
      "yanis varoufakis :\n",
      "um, product markets, some product markets, product market reforms, we have agreed upon. others, we have maintain differences. let me say collogues at this stage i don’t intend to speak for very long jeroen, but i do think it is important to mention that this government has shifted a great deal. on almost every front we’ve crossed what we considered originally to be our red lines. what we are asking for, as you can see or hear from what i just said, was a degree of policy space. christine referred to maximum flexibility, we don’t see that the institutions have applied maximum flexibility. we have applied a lot more flexibility, we’ve bent over backwards effectively in order to come closer or very close to institutions’ position. i believe that uh, in, both in the case of ireland and the case of portugal, the institutions showed a great deal more flexibility than um, in what we have experienced over the last few days. and let me just finish by focusing on perhaps the most significant aspect of our disagreement, of the reason why we have not achieved complete convergence yet. \n",
      "\n",
      "wolfgang schäuble :\n",
      "do you really imagine that that would work? therefore i could strongly argue an answer . and i can’t imagine that i can convince my parliament to accept the part of seven changes in the agreement. you summarized yesterday, mou segment of 20th_february, using the flexibility in the statement of the 20th_february, we are by far beyond 20th_february. no fresh money, no third program. \n",
      "\n",
      "alexander stubb :\n",
      "one is option a which is some kind of flexibility on conditionality uh, perhaps some kind of discussion of a way out from this dilemma. that will probably weaken the credibility of the euro. the other one is a plan b. an exit of one of the members of the eurozone now in the short term immediate term that would probably cause a lot of political and market turbulence. a lot of turbulence in the european project in general, but some say perhaps in the long term it would actually strengthen our common currency. now i, i really don’t know how we’re gonna get out of, of this one but all i’m trying to say is that the longer we prolong this, to take it to the 11th hour on the 30th of june, the worse of i think all of us are. now on the specifics, and i say this as a very strong pro-european much like wolgang. wolfgang looked at seven differences in changes from the memorandum of understanding. and i have a tendency to agree with those, i’d probably a notch a tiny little notch softer but saying that i simply don’t have a mandate to make a move. especially on the financing side uh, on the repayments from the efsf that’s just one example and i think  etcetera, etcetera. \n",
      "\n",
      "edward scicluna :\n",
      " so uh, are we moving forward or not? i’d like to enlist to share michel’s view that some progress has been made especially if you look backward and let’s not just uh, throw it out the window, that some progress has been made, yet of course the distance is still very large. um, but at the same time uh, i, i there is flexibility in what the institutions have achieved so far and what they are putting on the table. \n",
      "\n",
      "speaker 16 :\n",
      "the materials, trying to understand what’s the position of the institutions and the greek government. i came to a conclusion and i might be wrong  but if i understand it correctly, we have this program mou. and there was an assessment that offered six months approximately, from the change of government. the situation deteriorated so much that dsa or original scenario mou is so much different than the scenario that we see here. that uh, an adjustment of mou aide memoire was the maximum flexibility that was possible to do. \n",
      "\n",
      "speaker 17 :\n",
      "what i’m asking here is actually is, hasn’t aide memoire ran too far, isn’t this flexibility been taken too far because of the pressures of the three institutions of our colleagues in negotiations . \n",
      "\n",
      "christine lagarde :\n",
      "the point about the uh, the flexibility which uh, many of you have mentioned is, is correct uh. we have actually collected between the three institutions, we have demonstrated a lot of flexibility not just for the targets on which we have agreement with the uh, the greek authorities, 1, 2, 3.5%  those targets eventually been moved but in terms of the content what will deliver uh , that uh, that, that uh, those consolidation measures and the ultimate result of surplus. we are not, first of all, let’s put it that way we are not in agreement yet. or maybe we will never be in agreement, i don’t know, i hope it’s a yet rather than never, uh, with the greek authorities. we, i think, all have a particular concern which we have expressed which is that many of those measures are following suite to the old methods that have been applied by the greek authorities. which consist of taxing, taxing and retaxing. \n",
      "\n",
      "yanis varoufakis :\n",
      "uh, the point about the primary surpluses, yes there has been flexibility from the institutions but from what level? from four and a half percent primary surplus projections for the next, for the foreseeable future. i do not know an economist who can testify to having a rationale according to which an economy like the greek economy under the circumstances could maintain, for the medium term, such a large primary surplus. three and a half percent is still very large but we have accepted it in the spirit of cooperation. \n",
      "\n",
      "yanis varoufakis :\n",
      "that the country, the program country that we are discussing is going to, will have insight market access. this was the point we were raising. the reason why we are um, at, at, uh, um, we haven’t agreed yet is because firstly, we ask for more flexibility, not in terms of the fiscal numbers but in terms of measures within those fiscal numbers, and secondly because we can’t see how this very large package can be pushed through all our parliaments. when there is no prospect for more than a few months of an extension. so i come to the conclusion, to the conclusion, to the question that alexander amongst others asked, so what do we want to do from now on? what do we foresee as the next few steps. \n",
      "\n",
      "yanis varoufakis :\n",
      "…we eh, well i’m going to give you an example of a inflexibility that our colleagues should know. we, you all know the extent to which we rely on tourism. there is a demand by the institutions that we take hotels to 23% of v-a-t, when on the opposite coast, a mile, a nautical mile away in turkey it’s seven percent. now i do not have the mandate to simply say that for the purposes of a-a-achieving an agreement now i will sign up to this dotted line. this is another example of inflexibility. there is a great deal of this. this is how the greek side sees it and i think that you should know it. maybe we are wrong, maybe the institutions are right, or vice-versa. on the question of what, how do we take it from here just like pier, just like christine, just like mario, of course we are willing and ready to continue work but when jeroen you say that we have to work within the lines i, i need to ask you to tell me exactly what this means. that this means either we accept the document of the institutions or else? is it what one of the colleagues said that it’s a take it or leave it. because i just need to convey this to my government. \n",
      "\n",
      "jeroen dijsselbloem :\n",
      "let me make a couple of points on the process also in a response to luis’s remarks. starting point for us was you read it in 20th_february statements, the old program, the old mou. but we allowed uh, on two grounds, some flexibility for the institutions to work out a new agreement. once again for which the old mou is a basis. the first kind of flexibility was that the institutions, take with a commission have taken to account the new  and then we can continue to negotiate. uh, i think that will work. uh, so there needs to be a an agreement uh, and if he wants uh, a take it or leave it approach that is also possible, you can simply say yes. that is also an option, seriously because we are coming to the end of our time, our creativity, our options. uh, but if you have uh, last proposals that are feasible that will strengthen the credibility i have not seen them but strengthen the credibility, then there is little time left and that’s why in ask the institutions if they will still be prepared to look at that. um, i’m going to adjourn for lets say ten minutes to talk to the institutions uh, on what options we see eh, to move forward in this process. just ten minutes. \n",
      "\n",
      "jeroen dijsselbloem :\n",
      "i think it is very important to realize that the institutions have worked very, very hard, critically hard to try and reach an agreement within the framework of the statement of the 20th_february, which allowed for some flexibility on different levels. institutions have throughout the process made use of that possibility, in that, putting in that flexibility. some effectively said maybe too much and have expressed their concerns about the credibility of the outcome. there was no final decision made on that because there was no agreement. okay, it needs to be stressed that the institutions abused taking into account also the current economic set back that greece have used, the flexibility that was allowed. \n",
      "\n",
      "jeroen dijsselbloem :\n",
      "if the outcome is no, then apparently the greek government suggest to its people that there will be a better outcome, that they will renegotiate. but given the state of play, i don’t think that is a feasible possibility and i’m listening very careful to both the institutions and to the ministers that have said already flexibility’s run out. so that’s not very feasible, uh, way to move forward. all of this, uh, in combination with the fact that the government has been so negative on the results so far, the proposals by the institutions will go to a referendum with a negative vote and listening to you, there is no ground for an extension of the program, there is no support for that. \n",
      "\n",
      "yanis varoufakis :\n",
      "ok. thank you. right. let me begin with a few comments on the proposed prior actions of the greek government which were submitted to you, which now the institutions have had a chance to look at. i believe they were also discussed in the euroworking group just prior to this teleconference. we believe that the sla changed the prior action amendments that we are proposing fall well within the maximum flexibility of the mou process as described repeatedly to us by the institutions. very briefly let me mention the 8 points which are pertinent here.\n",
      "one concerns the discount on vat of the islands. it is our estimate, and i believe that the institutions agree with our estimate that maintaining the discount along the lines of also what happens on island complexes anywhere in europe including the canary islands and so on, that the fiscal impact will be about 340 million of maintaining this discount. we have proposed equivalent measures that pertain to tax on rents on real estate rents and also some small increase on corporate tax. \n",
      "\n",
      "yanis varoufakis :\n",
      "\n",
      "finally the, a couple more points, i won’t tire you more then is necessary, we had certain objections from the ministry of maritime affairs regarding ferry transportation on security and safety grounds and finally the question of the admie, the electricity sector reform where we are proposing that it be split by the  but is not privatized. this is the final change amendment that we are recommending. again let me say that we believe that these um amendments fall well within the realm of flexibility which is part and parcel of the review process. \n",
      "\n"
     ]
    }
   ],
   "source": [
    "for i,s in leaks.iterrows():\n",
    "    if 'flexibility' in s.speech:\n",
    "        print(s.speaker,':')\n",
    "        print(s.speech, '\\n')"
   ]
  },
  {
   "cell_type": "code",
   "execution_count": 571,
   "id": "informed-knitting",
   "metadata": {
    "scrolled": true
   },
   "outputs": [
    {
     "name": "stdout",
     "output_type": "stream",
     "text": [
      "2015-04-24 \n",
      " good afternoon and welcome to this press conference in a quite impressive venue. let me start by thanking janis reirs for hosting us so well in riga. today we were joined in our meeting by daniele nouy, who is a chair of the the single supervisory mechanism (smm) and by the new estonian finance minister, sven sester, who also informed us about new government and their ambition.\\xc2\\xa0\n",
      "i realise that all eyes are on greece. but today was a regular eurogroup so we had a full agenda. we also talked about the situation in cyprus and in spain. we discussed the report on the ssm and exchanged views on the implementation of the recommendations addressed to the euro area as a whole. as you know, this is part of the eurogroup\\'s thematic discussions to promote growth enhancing structural reforms.\\xc2\\xa0\n",
      "today, the institutions informed us about the ongoing talks with the greek authorities and we took stock of the situation.\n",
      "as agreed in february, a comprehensive and detailed list of agreed reforms is needed as a basis for a successful conclusion of the current review. i would like to reiterate again that a comprehensive deal is necessary before any disbursements can take place.\\xc2\\xa0\n",
      "over the past few weeks, there have been intense discussions between the greek authorities and the institutions. i understand that there have been recently some positive signs, but there are still wide differences to cover and to bridge on substance.\n",
      "we are all aware that time is running out. too much time has been lost in the past two months. it is therefore clear that these discussions need to make significantly more progress, so that the institutions can give their green light on the comprehensive package which will then go to the eurogroup for the political decision. the responsibility for that lies mainly on the side of the greek authorities. finding an agreement is first and foremost in greece\\'s interest.\\xc2\\xa0\n",
      "i would also like to reiterate that the agreement of 20 february remains our framework for reaching a deal.\\xc2\\xa0\n",
      "we will take stock of the situation again at our next regular eurogroup in may.\n",
      "today we were also joined by daniele nouy for the first eurogroup hearing, this is a eurogroup and banking union format. eurogroup hearing of the single supervisory mechanism chair. these special hearings are an important part of the way we intend to run the banking union.\\xc2\\xa0\n",
      "we have made a lot of progress in a very short time in this area. a lot of work has been done by the ssm and ecb. we are now focussing on the full establishment of the banking union on 1 of january 2016 and on the co-operation between its two pillars. we agreed the importance that member states transpose the bank recovery and resolution directive (brrd) without further delay and it is also important that member states ratify the inter-governmental agreement (iga) on the single resolution fund (srf) as quickly as possible.\\xc2\\xa0\n",
      "ministers also supported a concerted work effort on national options and discretions in order to move as rapidly as possible to a more level playing field within the banking union.\n",
      "our thematic discussions on jobs and growth have become an important part of the regular eurogroup meetings. today, we took stock of the implementation of last year\\'s recommendations to the euro area as a whole in the context of the european semester. structural reforms are a key part of these recommendations. we based our discussion on the commission\\'s euro area report.\\xc2\\xa0\n",
      "we agreed to continue and intensify these eurogroup thematic discussions. this will involve benchmarking of some policies against best practice.\\xc2\\xa0\n",
      "we also agreed on some key policy issues that we will be taking up until the end of the year. this will include services market reforms and the link between pension reforms and fiscal sustainability. we will also take another look at member states\\' efforts to reduce the high tax burden on labour, which is also one of the ambition of the new estonian government.\\xc2\\xa0\n",
      "the aim of our discussions is to stimulate convergence by bringing our key policies closer to best practice, by improving adjustment capacity and resilience to shocks through out the euro area. continuing on this reform-path is key to boost the recovery and to improve the growth potential and employment prospects through out our region.\n",
      "we were debriefed by the commission and the ecb on the main findings of their third post-programme surveillance mission to spain that took place in mid-march. in which also the esm was involved.\\xc2\\xa0\n",
      "we welcomed the significant progress made by spain. all indicators are showing a progress in both budgetary and economic terms.\\xc2\\xa0\n",
      "we also realize that debt and unemployment remain high. so, clearly there are still important challenges ahead.\\xc2\\xa0\n",
      "we are confident that spain will maintain its good track record and adhere to its commitments under the surveillance framework.\\xc2\\xa0\n",
      "also on cyprus i can share a good news with you.\\xc2\\xa0\n",
      "we were informed that on 17 april the cypriot parliament legislated to establish an insolvency framework and that will also make an end to the suspension of the foreclosure framework. which if i am informed correctly is coming to place on 6 may. this framework is needed to restore compliance with the prior actions of the fifth review. we therefore welcomed this important step bringing the programme back on track, which will allow the institutions to return to nicosia to carry out the next review.\n",
      "another important development is that cyprus lifted the last remaining capital controls on april 6th. free circulation of capital has thus now been restored.\\xc2\\xa0 \n",
      "\n",
      "\n"
     ]
    }
   ],
   "source": [
    "for i,s in communiques.iterrows():\n",
    "    if 'pension' in s.story:\n",
    "        print(s.date, '\\n', s.story, '\\n\\n')"
   ]
  },
  {
   "cell_type": "code",
   "execution_count": null,
   "id": "coordinate-means",
   "metadata": {},
   "outputs": [],
   "source": []
  }
 ],
 "metadata": {
  "kernelspec": {
   "display_name": "Python 3",
   "language": "python",
   "name": "python3"
  },
  "language_info": {
   "codemirror_mode": {
    "name": "ipython",
    "version": 3
   },
   "file_extension": ".py",
   "mimetype": "text/x-python",
   "name": "python",
   "nbconvert_exporter": "python",
   "pygments_lexer": "ipython3",
   "version": "3.8.5"
  }
 },
 "nbformat": 4,
 "nbformat_minor": 5
}
