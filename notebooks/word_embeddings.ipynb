{
 "cells": [
  {
   "cell_type": "code",
   "execution_count": 57,
   "id": "bearing-relative",
   "metadata": {},
   "outputs": [],
   "source": [
    "import time\n",
    "\n",
    "import numpy as np\n",
    "import pandas as pd\n",
    "import matplotlib.pyplot as plt"
   ]
  },
  {
   "cell_type": "markdown",
   "id": "liable-rotation",
   "metadata": {},
   "source": [
    "# Train own embedding using doc2vec from gensim"
   ]
  },
  {
   "cell_type": "code",
   "execution_count": 58,
   "id": "planned-constraint",
   "metadata": {},
   "outputs": [
    {
     "data": {
      "text/html": [
       "<div>\n",
       "<style scoped>\n",
       "    .dataframe tbody tr th:only-of-type {\n",
       "        vertical-align: middle;\n",
       "    }\n",
       "\n",
       "    .dataframe tbody tr th {\n",
       "        vertical-align: top;\n",
       "    }\n",
       "\n",
       "    .dataframe thead th {\n",
       "        text-align: right;\n",
       "    }\n",
       "</style>\n",
       "<table border=\"1\" class=\"dataframe\">\n",
       "  <thead>\n",
       "    <tr style=\"text-align: right;\">\n",
       "      <th></th>\n",
       "      <th>speaker</th>\n",
       "      <th>speech</th>\n",
       "      <th>timestamp</th>\n",
       "      <th>date</th>\n",
       "    </tr>\n",
       "  </thead>\n",
       "  <tbody>\n",
       "    <tr>\n",
       "      <th>0</th>\n",
       "      <td>jeroen dijsselbloem</td>\n",
       "      <td>… of your responses or questions. and can i fi...</td>\n",
       "      <td>1900-01-01 00:00:00</td>\n",
       "      <td>2015-02-24 00:00:00</td>\n",
       "    </tr>\n",
       "    <tr>\n",
       "      <th>1</th>\n",
       "      <td>speaker 2</td>\n",
       "      <td>uh, yes, uh, thank you, jeroen. well, uh, comm...</td>\n",
       "      <td>1900-01-01 00:00:10</td>\n",
       "      <td>2015-02-24 00:00:00</td>\n",
       "    </tr>\n",
       "    <tr>\n",
       "      <th>2</th>\n",
       "      <td>michael noonan</td>\n",
       "      <td>michael noonan.</td>\n",
       "      <td>1900-01-01 00:01:27</td>\n",
       "      <td>2015-02-24 00:00:00</td>\n",
       "    </tr>\n",
       "    <tr>\n",
       "      <th>3</th>\n",
       "      <td>speaker 2</td>\n",
       "      <td>uh, it is therefore regrettable that, uh-</td>\n",
       "      <td>1900-01-01 00:01:29</td>\n",
       "      <td>2015-02-24 00:00:00</td>\n",
       "    </tr>\n",
       "    <tr>\n",
       "      <th>4</th>\n",
       "      <td>speaker 2</td>\n",
       "      <td>… that the letter by the minister does not, uh...</td>\n",
       "      <td>1900-01-01 00:01:37</td>\n",
       "      <td>2015-02-24 00:00:00</td>\n",
       "    </tr>\n",
       "  </tbody>\n",
       "</table>\n",
       "</div>"
      ],
      "text/plain": [
       "               speaker                                             speech  \\\n",
       "0  jeroen dijsselbloem  … of your responses or questions. and can i fi...   \n",
       "1            speaker 2  uh, yes, uh, thank you, jeroen. well, uh, comm...   \n",
       "2       michael noonan                                    michael noonan.   \n",
       "3            speaker 2          uh, it is therefore regrettable that, uh-   \n",
       "4            speaker 2  … that the letter by the minister does not, uh...   \n",
       "\n",
       "             timestamp                 date  \n",
       "0  1900-01-01 00:00:00  2015-02-24 00:00:00  \n",
       "1  1900-01-01 00:00:10  2015-02-24 00:00:00  \n",
       "2  1900-01-01 00:01:27  2015-02-24 00:00:00  \n",
       "3  1900-01-01 00:01:29  2015-02-24 00:00:00  \n",
       "4  1900-01-01 00:01:37  2015-02-24 00:00:00  "
      ]
     },
     "execution_count": 58,
     "metadata": {},
     "output_type": "execute_result"
    }
   ],
   "source": [
    "df = pd.read_csv('../data/euroleaks/cleaned.csv')\n",
    "df.head()"
   ]
  },
  {
   "cell_type": "code",
   "execution_count": 59,
   "id": "naval-windows",
   "metadata": {},
   "outputs": [],
   "source": [
    "# see examples of cleaned speech\n",
    "#for s in df.speech[:5]:\n",
    "#    print(s.strip(), '\\n')"
   ]
  },
  {
   "cell_type": "markdown",
   "id": "lined-production",
   "metadata": {},
   "source": [
    "### stopwords"
   ]
  },
  {
   "cell_type": "code",
   "execution_count": 60,
   "id": "coated-creativity",
   "metadata": {},
   "outputs": [],
   "source": [
    "import json\n",
    "import re\n",
    "\n",
    "with open('../data/euroleaks/amend_names.json', 'r') as f:\n",
    "    amend_names = json.load(f)\n",
    "    \n",
    "# make stopwords out of names\n",
    "stopnames = []\n",
    "\n",
    "for names in amend_names.values():\n",
    "    for name in names:\n",
    "        if not re.search('\\[.*\\]', name):\n",
    "            stopnames += name.split(' ')\n",
    "            \n",
    "for name in df.speaker.unique():\n",
    "    if 'speaker' not in name:\n",
    "        stopnames += name.split(' ')\n",
    "\n",
    "stopnames = set(stopnames)\n",
    "        \n",
    "stopnames.remove('greek')\n",
    "stopnames.remove('representative')\n",
    "stopnames.remove('de')\n",
    "stopnames.remove('van')\n",
    "\n",
    "context_stopwords = set([\n",
    "    'erm', # synonym for hmm in https://euroleaks.diem25.org/leaks/mar17ewg/\n",
    "#    'today',\n",
    "#    'tomorrow',\n",
    "#    'yesterday',\n",
    "#    'day',\n",
    "#    'week',\n",
    "#    'month'\n",
    "])"
   ]
  },
  {
   "cell_type": "code",
   "execution_count": 61,
   "id": "assigned-stranger",
   "metadata": {},
   "outputs": [],
   "source": [
    "#stopnames"
   ]
  },
  {
   "cell_type": "markdown",
   "id": "alleged-edmonton",
   "metadata": {},
   "source": [
    "### collocations"
   ]
  },
  {
   "cell_type": "code",
   "execution_count": 62,
   "id": "abandoned-sector",
   "metadata": {},
   "outputs": [],
   "source": [
    "def apply_trigram_colloc(s, set_colloc):\n",
    "    res = s.lower()\n",
    "    for b1,b2,b3 in set_colloc:\n",
    "        res = res.replace(f'{b1} {b2} {b3}', f'{b1}_{b2}_{b3}')\n",
    "    return res\n",
    "\n",
    "def apply_bigram_colloc(s, set_colloc):\n",
    "    res = s.lower()\n",
    "    for b1,b2 in set_colloc:\n",
    "        res = res.replace(f'{b1} {b2}', f'{b1}_{b2}')\n",
    "    return res\n",
    "\n",
    "trigram_colloc = {('euro', 'working', 'group')}\n",
    "\n",
    "bigram_colloc = {\n",
    "    ('20th', 'february'),\n",
    "    ('aide', 'memoire'),\n",
    "    ('anti', 'corruption'),\n",
    "    ('brussel', 'group'),\n",
    "    ('capital', 'control'),\n",
    "    ('central', 'bank'),\n",
    "    ('collective', 'bargaining'),\n",
    "    ('common', 'ground'),\n",
    "    ('debt', 'sustainability'),\n",
    "    ('govern', 'council'),\n",
    "    ('growth', 'friendly'),\n",
    "    ('interest', 'rate'),\n",
    "    ('labor', 'market'),\n",
    "    ('maximum', 'flexibility'),\n",
    "    ('member', 'state'),\n",
    "    ('minimum', 'wage'),\n",
    "    ('primary', 'surplus'),\n",
    "    ('prime', 'minister'),\n",
    "    ('prior', 'action'),\n",
    "    ('product', 'market'),\n",
    "    ('second', 'letter'),\n",
    "    ('smp', 'bond'),\n",
    "    ('structural', 'reform'),\n",
    "    ('successful', 'conclusion'),\n",
    "    ('technical', 'team'),\n",
    "    ('real', 'estate')\n",
    "}"
   ]
  },
  {
   "cell_type": "markdown",
   "id": "reduced-creator",
   "metadata": {},
   "source": [
    "### quantify how much each speaker spoke"
   ]
  },
  {
   "cell_type": "code",
   "execution_count": 209,
   "id": "threaded-roommate",
   "metadata": {},
   "outputs": [],
   "source": [
    "from sklearn.feature_extraction.text import CountVectorizer\n",
    "\n",
    "vectorizer = CountVectorizer(stop_words='english') # does tokenozation under the hood\n",
    "X = vectorizer.fit_transform(df.speech)\n",
    "\n",
    "df['wordcount'] = X.toarray().sum(axis=1)\n",
    "wc_by_speaker = df.groupby('speaker')['wordcount'].sum()"
   ]
  },
  {
   "cell_type": "code",
   "execution_count": 210,
   "id": "demographic-sigma",
   "metadata": {},
   "outputs": [
    {
     "data": {
      "text/plain": [
       "(1492, 4644)"
      ]
     },
     "execution_count": 210,
     "metadata": {},
     "output_type": "execute_result"
    }
   ],
   "source": [
    "X.shape"
   ]
  },
  {
   "cell_type": "code",
   "execution_count": 211,
   "id": "hawaiian-sailing",
   "metadata": {},
   "outputs": [
    {
     "data": {
      "text/plain": [
       "count       61.000000\n",
       "mean       615.147541\n",
       "std       1550.831840\n",
       "min          2.000000\n",
       "25%         62.000000\n",
       "50%        155.000000\n",
       "75%        609.000000\n",
       "max      10270.000000\n",
       "Name: wordcount, dtype: float64"
      ]
     },
     "execution_count": 211,
     "metadata": {},
     "output_type": "execute_result"
    }
   ],
   "source": [
    "wc_by_speaker.describe()"
   ]
  },
  {
   "cell_type": "code",
   "execution_count": 212,
   "id": "pressed-butterfly",
   "metadata": {},
   "outputs": [],
   "source": [
    "wc_threshold = 200\n",
    "\n",
    "insignificant_speakers = wc_by_speaker.index[wc_by_speaker < 200].to_numpy()"
   ]
  },
  {
   "cell_type": "code",
   "execution_count": 213,
   "id": "ideal-timing",
   "metadata": {},
   "outputs": [],
   "source": [
    "words = np.array(vectorizer.get_feature_names())\n",
    "counts = X.toarray().sum(axis=0)\n",
    "\n",
    "sort_ix = np.argsort(counts)[::-1] # descendingly\n",
    "words = words[sort_ix]\n",
    "counts = counts[sort_ix]"
   ]
  },
  {
   "cell_type": "code",
   "execution_count": 222,
   "id": "junior-cornell",
   "metadata": {
    "scrolled": true
   },
   "outputs": [
    {
     "data": {
      "image/png": "[encoded data removed]",
      "text/plain": [
       "<Figure size 432x288 with 1 Axes>"
      ]
     },
     "metadata": {
      "needs_background": "light"
     },
     "output_type": "display_data"
    }
   ],
   "source": [
    "# histogram of word frequency without english stopwords\n",
    "_ = plt.hist(counts, bins=100, range=(0,500))"
   ]
  },
  {
   "cell_type": "markdown",
   "id": "assured-platinum",
   "metadata": {},
   "source": [
    "Zipf's law?\n",
    "\n",
    "Try with mean document frequency. What about TFIDF?"
   ]
  },
  {
   "cell_type": "code",
   "execution_count": 272,
   "id": "threatened-groove",
   "metadata": {},
   "outputs": [],
   "source": [
    "words = np.array(vectorizer.get_feature_names())\n",
    "freqs = np.mean(X.toarray() > 0, axis=0)\n",
    "\n",
    "sort_ix = np.argsort(freqs)[::-1] # descendingly\n",
    "words = words[sort_ix]\n",
    "freqs = freqs[sort_ix]"
   ]
  },
  {
   "cell_type": "code",
   "execution_count": 273,
   "id": "thrown-newman",
   "metadata": {},
   "outputs": [
    {
     "data": {
      "text/plain": [
       "array(['uh', 'um', 'think', 'institutions', 'greek', 'thank',\n",
       "       'government', 'agreement', 'just', 'said', 'let', 'say', 'point',\n",
       "       'know', 'need', 'like', 'greece', 'time', 'going', 'jeroen',\n",
       "       'process', 'question', 'colleagues', 'program', 'don', 'work',\n",
       "       'course', 'make', 'come', 'way', 'eurogroup', 'authorities',\n",
       "       'meeting', 'situation', 'today', 'clear', 'want', 'proposal',\n",
       "       'new', 'people', 'yes', 'yanis', 'second', 'agree', 'measures',\n",
       "       've', 'quite', 'proposals', 'right', 'reforms', 'list', 'ask',\n",
       "       'fiscal', 'terms', 'important', 'discussion', 'really', 'euro',\n",
       "       'agreed', 'end', 'review', 'days', 'group', 'possible', 'believe',\n",
       "       'months', 'fully', 'progress', 'view', 'debt', 'number', 'order',\n",
       "       'table', 'political', 'given', 'mentioned', 'referendum', 'issues',\n",
       "       'forward', 'needs', 'discussions', 'far', 'understand', 'having',\n",
       "       'different', 'll', 'okay', 'liquidity', 'reform', 'pierre',\n",
       "       'technical', 'conclusion', 'questions', 'maybe', 'good',\n",
       "       'statement', 'basis', 'market', 'position', 'coming'], dtype='<U17')"
      ]
     },
     "execution_count": 273,
     "metadata": {},
     "output_type": "execute_result"
    }
   ],
   "source": [
    "words[:100]"
   ]
  },
  {
   "cell_type": "code",
   "execution_count": 278,
   "id": "unlimited-azerbaijan",
   "metadata": {},
   "outputs": [
    {
     "data": {
      "text/plain": [
       "<matplotlib.collections.PathCollection at 0x7f849be64d90>"
      ]
     },
     "execution_count": 278,
     "metadata": {},
     "output_type": "execute_result"
    },
    {
     "data": {
      "image/png": "[encoded data removed]",
      "text/plain": [
       "<Figure size 432x288 with 1 Axes>"
      ]
     },
     "metadata": {
      "needs_background": "light"
     },
     "output_type": "display_data"
    }
   ],
   "source": [
    "plt.scatter(range(50,550), freqs[50:550], marker='+')"
   ]
  },
  {
   "cell_type": "code",
   "execution_count": 281,
   "id": "compressed-attachment",
   "metadata": {},
   "outputs": [
    {
     "data": {
      "text/plain": [
       "count    4644.000000\n",
       "mean        0.004427\n",
       "std         0.013231\n",
       "min         0.000670\n",
       "50%         0.001340\n",
       "75%         0.003351\n",
       "90%         0.009383\n",
       "95%         0.017426\n",
       "99%         0.052949\n",
       "max         0.458445\n",
       "dtype: float64"
      ]
     },
     "execution_count": 281,
     "metadata": {},
     "output_type": "execute_result"
    }
   ],
   "source": [
    "pd.Series(freqs).describe(percentiles=[.5, .75, .9, .95, .99])"
   ]
  },
  {
   "cell_type": "code",
   "execution_count": 283,
   "id": "double-ceremony",
   "metadata": {},
   "outputs": [
    {
     "data": {
      "text/plain": [
       "240"
      ]
     },
     "execution_count": 283,
     "metadata": {},
     "output_type": "execute_result"
    }
   ],
   "source": [
    "np.sum(freqs > 0.017426)"
   ]
  },
  {
   "cell_type": "markdown",
   "id": "current-highway",
   "metadata": {},
   "source": [
    "### tokenize, lemmatize, remove stopwords, apply collocations\n",
    "- https://radimrehurek.com/gensim/models/doc2vec.html\n",
    "- https://radimrehurek.com/gensim/models/doc2vec.html#gensim.models.doc2vec.TaggedDocument"
   ]
  },
  {
   "cell_type": "code",
   "execution_count": 63,
   "id": "exempt-harassment",
   "metadata": {},
   "outputs": [],
   "source": [
    "import spacy\n",
    "\n",
    "nlp = spacy.load('en_core_web_sm')  # speed\n",
    "#nlp = spacy.load('en_core_web_trf') # accuracy, change to this later"
   ]
  },
  {
   "cell_type": "code",
   "execution_count": 64,
   "id": "adolescent-african",
   "metadata": {},
   "outputs": [],
   "source": [
    "def filter_token(token):\n",
    "    return token.pos_ in {'ADJ', 'ADV', 'NOUN', 'PROPN', 'VERB'}\\\n",
    "        and not token.is_stop\\\n",
    "        and not token.text in stopnames\\\n",
    "        and not token.text in context_stopwords\\\n",
    "        and len(token.text) > 1\n",
    "\n",
    "#def filter_token(token):\n",
    "#    return token.pos_ in {'ADJ', 'ADV', 'NOUN', 'PROPN', 'VERB'}\\\n",
    "#        and len(token.text) > 1"
   ]
  },
  {
   "cell_type": "code",
   "execution_count": 65,
   "id": "wrapped-disclosure",
   "metadata": {},
   "outputs": [],
   "source": [
    "grouped = df.drop(columns=['timestamp','date']).groupby('speaker').apply(lambda s: ' '.join(s.speech))"
   ]
  },
  {
   "cell_type": "code",
   "execution_count": 66,
   "id": "charming-disorder",
   "metadata": {},
   "outputs": [
    {
     "name": "stdout",
     "output_type": "stream",
     "text": [
      "Time taken: 0.96 mins\n"
     ]
    }
   ],
   "source": [
    "from gensim.models import Doc2Vec\n",
    "from gensim.models.doc2vec import TaggedDocument\n",
    "\n",
    "t = time.time()\n",
    "\n",
    "documents = []\n",
    "for speaker, text in grouped.iteritems():\n",
    "    \n",
    "    doc = nlp(text)\n",
    "    \n",
    "    doc_ = [token.lemma_ for sentence in doc.sents for token in sentence\n",
    "                if filter_token(token)\n",
    "            ]\n",
    "    \n",
    "    # apply collocations\n",
    "    doc_ = apply_bigram_colloc(apply_trigram_colloc(' '.join(doc_), trigram_colloc), bigram_colloc).split()\n",
    "    \n",
    "    # maybe add date to tags, or country/intitution?\n",
    "    # TaggedDocument takes list of words as input\n",
    "    documents.append(TaggedDocument(doc_, tags=[speaker]))\n",
    "    \n",
    "print(f'Time taken: {round((time.time() - t) / 60, 2)} mins')"
   ]
  },
  {
   "cell_type": "code",
   "execution_count": 67,
   "id": "protecting-journalist",
   "metadata": {},
   "outputs": [
    {
     "name": "stdout",
     "output_type": "stream",
     "text": [
      "There are 61 documents (=speakers).\n"
     ]
    }
   ],
   "source": [
    "print(f'There are {len(documents)} documents (=speakers).')"
   ]
  },
  {
   "cell_type": "markdown",
   "id": "convenient-stroke",
   "metadata": {},
   "source": [
    "#### get sentence length statistics"
   ]
  },
  {
   "cell_type": "code",
   "execution_count": 17,
   "id": "rental-specialist",
   "metadata": {},
   "outputs": [
    {
     "name": "stdout",
     "output_type": "stream",
     "text": [
      "Time taken: 2.25 mins\n"
     ]
    }
   ],
   "source": [
    "t = time.time()\n",
    "\n",
    "doc = nlp(' '.join(df.speech))\n",
    "\n",
    "sentences = [[token.lemma_ for token in sentence\n",
    "                if filter_token(token)\n",
    "              ] for sentence in doc.sents\n",
    "            ]\n",
    "\n",
    "print(f'Time taken: {round((time.time() - t) / 60, 2)} mins')"
   ]
  },
  {
   "cell_type": "code",
   "execution_count": 18,
   "id": "metallic-lodging",
   "metadata": {},
   "outputs": [],
   "source": [
    "# apply collocations\n",
    "sentences = [apply_bigram_colloc(apply_trigram_colloc(' '.join(s), trigram_colloc), bigram_colloc).split() for s in sentences]"
   ]
  },
  {
   "cell_type": "code",
   "execution_count": 19,
   "id": "animated-senegal",
   "metadata": {},
   "outputs": [
    {
     "data": {
      "text/plain": [
       "count    4547.000000\n",
       "mean        6.808885\n",
       "std         6.219248\n",
       "min         0.000000\n",
       "25%         2.000000\n",
       "50%         5.000000\n",
       "75%        10.000000\n",
       "max        57.000000\n",
       "dtype: float64"
      ]
     },
     "execution_count": 19,
     "metadata": {},
     "output_type": "execute_result"
    }
   ],
   "source": [
    "# number of words in a sentence statistics\n",
    "len_sentences = [len(sent) for sent in sentences]\n",
    "pd.Series(len_sentences).describe()"
   ]
  },
  {
   "cell_type": "code",
   "execution_count": 20,
   "id": "comparative-former",
   "metadata": {},
   "outputs": [
    {
     "data": {
      "image/png": "[encoded data removed]",
      "text/plain": [
       "<Figure size 432x288 with 1 Axes>"
      ]
     },
     "metadata": {
      "needs_background": "light"
     },
     "output_type": "display_data"
    }
   ],
   "source": [
    "_ = plt.hist(len_sentences, bins=range(31), range=(0,30))"
   ]
  },
  {
   "cell_type": "markdown",
   "id": "filled-lounge",
   "metadata": {},
   "source": [
    "#### get speech length statistics"
   ]
  },
  {
   "cell_type": "code",
   "execution_count": 21,
   "id": "acute-helena",
   "metadata": {},
   "outputs": [],
   "source": [
    "# join speech of consecutive rows with same speaker\n",
    "\n",
    "df_squeezed = pd.DataFrame(columns=['speaker','speech','date'])\n",
    "\n",
    "previous_speaker = None\n",
    "speech = None\n",
    "previous_date = None\n",
    "\n",
    "for index, data in df.iterrows():\n",
    "    \n",
    "    if not previous_speaker and not speech and not previous_date:\n",
    "        previous_speaker = data.speaker\n",
    "        speech = data.speech\n",
    "        previous_date = data.date\n",
    "    elif data.speaker == previous_speaker and previous_date == data.date:\n",
    "        speech = ' '.join((speech, data.speech))\n",
    "    else:\n",
    "        df_squeezed.loc[len(df_squeezed.index)] = [\n",
    "            previous_speaker,\n",
    "            speech,\n",
    "            previous_date\n",
    "        ]\n",
    "        previous_speaker = data.speaker\n",
    "        speech = data.speech\n",
    "        previous_date = data.date"
   ]
  },
  {
   "cell_type": "code",
   "execution_count": 22,
   "id": "caring-psychiatry",
   "metadata": {},
   "outputs": [
    {
     "name": "stdout",
     "output_type": "stream",
     "text": [
      "Time taken: 1.04 mins\n"
     ]
    }
   ],
   "source": [
    "t = time.time()\n",
    "\n",
    "docs = [\n",
    "    ' '.join([token.lemma_ for sentence in nlp(doc).sents for token in sentence\n",
    "              if filter_token(token)\n",
    "             ])\n",
    "             for doc in df_squeezed.speech.to_numpy()\n",
    "]\n",
    "\n",
    "print(f'Time taken: {round((time.time() - t) / 60, 2)} mins')"
   ]
  },
  {
   "cell_type": "code",
   "execution_count": 23,
   "id": "beginning-trademark",
   "metadata": {},
   "outputs": [],
   "source": [
    "speeches = [' '.join(sentences).split() for sentences in docs]"
   ]
  },
  {
   "cell_type": "code",
   "execution_count": 24,
   "id": "equivalent-filling",
   "metadata": {},
   "outputs": [
    {
     "data": {
      "text/plain": [
       "count    4547.000000\n",
       "mean        6.808885\n",
       "std         6.219248\n",
       "min         0.000000\n",
       "25%         2.000000\n",
       "50%         5.000000\n",
       "75%        10.000000\n",
       "max        57.000000\n",
       "dtype: float64"
      ]
     },
     "execution_count": 24,
     "metadata": {},
     "output_type": "execute_result"
    }
   ],
   "source": [
    "# number of words in a speech statistics\n",
    "len_speeches = [len(speech) for speech in speeches]\n",
    "pd.Series(len_sentences).describe()"
   ]
  },
  {
   "cell_type": "code",
   "execution_count": 25,
   "id": "consecutive-portable",
   "metadata": {},
   "outputs": [
    {
     "data": {
      "image/png": "[encoded data removed]",
      "text/plain": [
       "<Figure size 432x288 with 1 Axes>"
      ]
     },
     "metadata": {
      "needs_background": "light"
     },
     "output_type": "display_data"
    }
   ],
   "source": [
    "_ = plt.hist(len_speeches)"
   ]
  },
  {
   "cell_type": "markdown",
   "id": "smart-morocco",
   "metadata": {},
   "source": [
    "### Doc2Vec"
   ]
  },
  {
   "cell_type": "code",
   "execution_count": 134,
   "id": "divine-deviation",
   "metadata": {},
   "outputs": [],
   "source": [
    "d2v_model = Doc2Vec(vector_size=300,\n",
    "                    window=3,\n",
    "                    sample=1e-5,\n",
    "                    negative=20, # usually 5-20\n",
    "                    min_count=10,\n",
    "                    #alpha=0.03,\n",
    "                    #min_alpha=0.000007,\n",
    "                    workers=-1,\n",
    "                    epochs=10000,\n",
    "                    dm=0,\n",
    "                    dbow_words=1\n",
    ")"
   ]
  },
  {
   "cell_type": "code",
   "execution_count": 135,
   "id": "worthy-hello",
   "metadata": {},
   "outputs": [
    {
     "name": "stdout",
     "output_type": "stream",
     "text": [
      "There are 30965 total words.\n"
     ]
    }
   ],
   "source": [
    "print(f'There are {np.sum([len(d.words) for d in documents])} total words.')"
   ]
  },
  {
   "cell_type": "markdown",
   "id": "conceptual-vampire",
   "metadata": {},
   "source": [
    "**Is this enough for the word embedding to capture word relations?**"
   ]
  },
  {
   "cell_type": "code",
   "execution_count": 136,
   "id": "bizarre-satin",
   "metadata": {},
   "outputs": [],
   "source": [
    "d2v_model.build_vocab(documents)"
   ]
  },
  {
   "cell_type": "code",
   "execution_count": 137,
   "id": "confirmed-danger",
   "metadata": {},
   "outputs": [
    {
     "name": "stdout",
     "output_type": "stream",
     "text": [
      "Time taken: 0.0 mins\n"
     ]
    }
   ],
   "source": [
    "t = time.time()\n",
    "\n",
    "d2v_model.train(documents, \n",
    "                total_examples=d2v_model.corpus_count, \n",
    "                epochs=100)#d2v_model.epochs)\n",
    "\n",
    "print(f'Time taken: {round((time.time() - t) / 60, 2)} mins')"
   ]
  },
  {
   "cell_type": "code",
   "execution_count": 138,
   "id": "acting-cabin",
   "metadata": {
    "scrolled": true
   },
   "outputs": [
    {
     "data": {
      "text/html": [
       "<div>\n",
       "<style scoped>\n",
       "    .dataframe tbody tr th:only-of-type {\n",
       "        vertical-align: middle;\n",
       "    }\n",
       "\n",
       "    .dataframe tbody tr th {\n",
       "        vertical-align: top;\n",
       "    }\n",
       "\n",
       "    .dataframe thead th {\n",
       "        text-align: right;\n",
       "    }\n",
       "</style>\n",
       "<table border=\"1\" class=\"dataframe\">\n",
       "  <thead>\n",
       "    <tr style=\"text-align: right;\">\n",
       "      <th></th>\n",
       "      <th>greece</th>\n",
       "      <th>institution</th>\n",
       "      <th>imf</th>\n",
       "      <th>ecb</th>\n",
       "      <th>commission</th>\n",
       "      <th>government</th>\n",
       "      <th>referendum</th>\n",
       "      <th>mou</th>\n",
       "      <th>debt</th>\n",
       "      <th>pension</th>\n",
       "      <th>bank</th>\n",
       "      <th>bond</th>\n",
       "      <th>crisis</th>\n",
       "    </tr>\n",
       "  </thead>\n",
       "  <tbody>\n",
       "    <tr>\n",
       "      <th>0</th>\n",
       "      <td>debate</td>\n",
       "      <td>sla</td>\n",
       "      <td>round</td>\n",
       "      <td>debt</td>\n",
       "      <td>past</td>\n",
       "      <td>primary</td>\n",
       "      <td>look</td>\n",
       "      <td>suggestion</td>\n",
       "      <td>run</td>\n",
       "      <td>line</td>\n",
       "      <td>possibly</td>\n",
       "      <td>conference</td>\n",
       "      <td>govern</td>\n",
       "    </tr>\n",
       "    <tr>\n",
       "      <th>1</th>\n",
       "      <td>backtracking</td>\n",
       "      <td>cut</td>\n",
       "      <td>primary</td>\n",
       "      <td>hard</td>\n",
       "      <td>procedure</td>\n",
       "      <td>team</td>\n",
       "      <td>ahead</td>\n",
       "      <td>development</td>\n",
       "      <td>discussion</td>\n",
       "      <td>doubt</td>\n",
       "      <td>early</td>\n",
       "      <td>communication</td>\n",
       "      <td>extend</td>\n",
       "    </tr>\n",
       "    <tr>\n",
       "      <th>2</th>\n",
       "      <td>implication</td>\n",
       "      <td>document</td>\n",
       "      <td>backtracking</td>\n",
       "      <td>policy</td>\n",
       "      <td>short</td>\n",
       "      <td>debt</td>\n",
       "      <td>negotiate</td>\n",
       "      <td>pretty</td>\n",
       "      <td>european</td>\n",
       "      <td>implement</td>\n",
       "      <td>away</td>\n",
       "      <td>undertake</td>\n",
       "      <td>low</td>\n",
       "    </tr>\n",
       "    <tr>\n",
       "      <th>3</th>\n",
       "      <td>particular</td>\n",
       "      <td>wrong</td>\n",
       "      <td>significant</td>\n",
       "      <td>face</td>\n",
       "      <td>feeling</td>\n",
       "      <td>one</td>\n",
       "      <td>implication</td>\n",
       "      <td>debate</td>\n",
       "      <td>government</td>\n",
       "      <td>market</td>\n",
       "      <td>difficult</td>\n",
       "      <td>second</td>\n",
       "      <td>inform</td>\n",
       "    </tr>\n",
       "    <tr>\n",
       "      <th>4</th>\n",
       "      <td>share</td>\n",
       "      <td>country</td>\n",
       "      <td>raise</td>\n",
       "      <td>move</td>\n",
       "      <td>meeting</td>\n",
       "      <td>base</td>\n",
       "      <td>room</td>\n",
       "      <td>politically</td>\n",
       "      <td>exactly</td>\n",
       "      <td>payment</td>\n",
       "      <td>ecb</td>\n",
       "      <td>outcome</td>\n",
       "      <td>comment</td>\n",
       "    </tr>\n",
       "    <tr>\n",
       "      <th>5</th>\n",
       "      <td>express</td>\n",
       "      <td>reaction</td>\n",
       "      <td>detail</td>\n",
       "      <td>bank</td>\n",
       "      <td>environment</td>\n",
       "      <td>perspective</td>\n",
       "      <td>hard</td>\n",
       "      <td>real</td>\n",
       "      <td>helpful</td>\n",
       "      <td>want</td>\n",
       "      <td>pass</td>\n",
       "      <td>point</td>\n",
       "      <td>go</td>\n",
       "    </tr>\n",
       "    <tr>\n",
       "      <th>6</th>\n",
       "      <td>extension</td>\n",
       "      <td>hear</td>\n",
       "      <td>improve</td>\n",
       "      <td>recommendation</td>\n",
       "      <td>refer</td>\n",
       "      <td>secondly</td>\n",
       "      <td>economy</td>\n",
       "      <td>half</td>\n",
       "      <td>ago</td>\n",
       "      <td>regard</td>\n",
       "      <td>question</td>\n",
       "      <td>measure</td>\n",
       "      <td>accept</td>\n",
       "    </tr>\n",
       "    <tr>\n",
       "      <th>7</th>\n",
       "      <td>institution</td>\n",
       "      <td>detailed</td>\n",
       "      <td>crisis</td>\n",
       "      <td>analysis</td>\n",
       "      <td>appear</td>\n",
       "      <td>good</td>\n",
       "      <td>leader</td>\n",
       "      <td>party</td>\n",
       "      <td>hear</td>\n",
       "      <td>add</td>\n",
       "      <td>see</td>\n",
       "      <td>expire</td>\n",
       "      <td>imf</td>\n",
       "    </tr>\n",
       "    <tr>\n",
       "      <th>8</th>\n",
       "      <td>stage</td>\n",
       "      <td>circumstance</td>\n",
       "      <td>listen</td>\n",
       "      <td>major</td>\n",
       "      <td>brussel</td>\n",
       "      <td>collect</td>\n",
       "      <td>technical</td>\n",
       "      <td>separate</td>\n",
       "      <td>instead</td>\n",
       "      <td>speed</td>\n",
       "      <td>monetary</td>\n",
       "      <td>sign</td>\n",
       "      <td>prime</td>\n",
       "    </tr>\n",
       "    <tr>\n",
       "      <th>9</th>\n",
       "      <td>proceed</td>\n",
       "      <td>place</td>\n",
       "      <td>completely</td>\n",
       "      <td>difficult</td>\n",
       "      <td>exactly</td>\n",
       "      <td>short</td>\n",
       "      <td>hour</td>\n",
       "      <td>cover</td>\n",
       "      <td>reduction</td>\n",
       "      <td>country</td>\n",
       "      <td>conference</td>\n",
       "      <td>ahead</td>\n",
       "      <td>happen</td>\n",
       "    </tr>\n",
       "  </tbody>\n",
       "</table>\n",
       "</div>"
      ],
      "text/plain": [
       "         greece   institution           imf             ecb   commission  \\\n",
       "0        debate           sla         round            debt         past   \n",
       "1  backtracking           cut       primary            hard    procedure   \n",
       "2   implication      document  backtracking          policy        short   \n",
       "3    particular         wrong   significant            face      feeling   \n",
       "4         share       country         raise            move      meeting   \n",
       "5       express      reaction        detail            bank  environment   \n",
       "6     extension          hear       improve  recommendation        refer   \n",
       "7   institution      detailed        crisis        analysis       appear   \n",
       "8         stage  circumstance        listen           major      brussel   \n",
       "9       proceed         place    completely       difficult      exactly   \n",
       "\n",
       "    government   referendum          mou        debt    pension        bank  \\\n",
       "0      primary         look   suggestion         run       line    possibly   \n",
       "1         team        ahead  development  discussion      doubt       early   \n",
       "2         debt    negotiate       pretty    european  implement        away   \n",
       "3          one  implication       debate  government     market   difficult   \n",
       "4         base         room  politically     exactly    payment         ecb   \n",
       "5  perspective         hard         real     helpful       want        pass   \n",
       "6     secondly      economy         half         ago     regard    question   \n",
       "7         good       leader        party        hear        add         see   \n",
       "8      collect    technical     separate     instead      speed    monetary   \n",
       "9        short         hour        cover   reduction    country  conference   \n",
       "\n",
       "            bond   crisis  \n",
       "0     conference   govern  \n",
       "1  communication   extend  \n",
       "2      undertake      low  \n",
       "3         second   inform  \n",
       "4        outcome  comment  \n",
       "5          point       go  \n",
       "6        measure   accept  \n",
       "7         expire      imf  \n",
       "8           sign    prime  \n",
       "9          ahead   happen  "
      ]
     },
     "execution_count": 138,
     "metadata": {},
     "output_type": "execute_result"
    }
   ],
   "source": [
    "keywords = [\n",
    "    'greece',\n",
    "    'institution',\n",
    "    'imf',\n",
    "    'ecb',\n",
    "    'commission',\n",
    "    'government',\n",
    "    'referendum',\n",
    "    'mou',\n",
    "    'debt',\n",
    "    'debt_sustainability',\n",
    "    'pension',\n",
    "    'bank',\n",
    "    'bond',\n",
    "    'crisis'\n",
    "]\n",
    "\n",
    "df_closest = pd.DataFrame({word.split('_')[0]: [n.split('_')[0] for n,score in d2v_model.wv.most_similar(word)] for word in keywords})\n",
    "df_closest"
   ]
  },
  {
   "cell_type": "code",
   "execution_count": 139,
   "id": "blessed-ecuador",
   "metadata": {},
   "outputs": [
    {
     "data": {
      "text/plain": [
       "[('speaker 4', 0.12930405139923096),\n",
       " ('kian', 0.08553998172283173),\n",
       " ('jeroen dijsselbloem', 0.08080030977725983),\n",
       " ('poul mathias thomsen', 0.0626433715224266),\n",
       " ('greek representative', 0.05928734689950943),\n",
       " ('alexander stubb', 0.05550258979201317),\n",
       " ('pierre moscovici', 0.04928017035126686),\n",
       " ('martin', 0.04772745445370674),\n",
       " ('luis pierre', 0.04753771051764488),\n",
       " ('irina', 0.04052360728383064)]"
      ]
     },
     "execution_count": 139,
     "metadata": {},
     "output_type": "execute_result"
    }
   ],
   "source": [
    "d2v_model.docvecs.most_similar('yanis varoufakis', topn=10)"
   ]
  },
  {
   "cell_type": "code",
   "execution_count": 140,
   "id": "federal-music",
   "metadata": {},
   "outputs": [
    {
     "data": {
      "text/plain": [
       "(300,)"
      ]
     },
     "execution_count": 140,
     "metadata": {},
     "output_type": "execute_result"
    }
   ],
   "source": [
    "d2v_model.docvecs['yanis varoufakis'].shape"
   ]
  },
  {
   "cell_type": "code",
   "execution_count": 141,
   "id": "continuing-stockholm",
   "metadata": {},
   "outputs": [],
   "source": [
    "dvecs = {}\n",
    "for speaker in np.unique(df.speaker):\n",
    "    if speaker not in insignificant_speakers:\n",
    "        dvecs[speaker] = d2v_model.docvecs[speaker]\n",
    "        #print(speaker)"
   ]
  },
  {
   "cell_type": "code",
   "execution_count": 142,
   "id": "hindu-anthony",
   "metadata": {},
   "outputs": [],
   "source": [
    "X = pd.DataFrame(dvecs).to_numpy().T"
   ]
  },
  {
   "cell_type": "markdown",
   "id": "ongoing-mistress",
   "metadata": {},
   "source": [
    "### PCA"
   ]
  },
  {
   "cell_type": "code",
   "execution_count": 143,
   "id": "australian-parallel",
   "metadata": {},
   "outputs": [],
   "source": [
    "# center and rescale\n",
    "X = (X - X.mean(axis=0)) / X.std(axis=0)"
   ]
  },
  {
   "cell_type": "code",
   "execution_count": 144,
   "id": "automated-offer",
   "metadata": {},
   "outputs": [
    {
     "data": {
      "text/plain": [
       "[<matplotlib.lines.Line2D at 0x7f84a152e3d0>]"
      ]
     },
     "execution_count": 144,
     "metadata": {},
     "output_type": "execute_result"
    },
    {
     "data": {
      "image/png": "[encoded data removed]",
      "text/plain": [
       "<Figure size 432x288 with 1 Axes>"
      ]
     },
     "metadata": {
      "needs_background": "light"
     },
     "output_type": "display_data"
    }
   ],
   "source": [
    "from sklearn.decomposition import PCA\n",
    "\n",
    "pca = PCA()\n",
    "\n",
    "pca.fit_transform(X)\n",
    "\n",
    "plt.plot(pca.explained_variance_ratio_)"
   ]
  },
  {
   "cell_type": "code",
   "execution_count": 145,
   "id": "nearby-parent",
   "metadata": {},
   "outputs": [
    {
     "data": {
      "text/plain": [
       "0.8601911"
      ]
     },
     "execution_count": 145,
     "metadata": {},
     "output_type": "execute_result"
    }
   ],
   "source": [
    "np.sum(pca.explained_variance_ratio_[:30])"
   ]
  },
  {
   "cell_type": "code",
   "execution_count": 147,
   "id": "precious-smell",
   "metadata": {},
   "outputs": [
    {
     "data": {
      "text/plain": [
       "(41, 41)"
      ]
     },
     "execution_count": 147,
     "metadata": {},
     "output_type": "execute_result"
    }
   ],
   "source": [
    "X_reduced = pca.components_[:,:41]\n",
    "X_reduced.shape"
   ]
  },
  {
   "cell_type": "markdown",
   "id": "electronic-settle",
   "metadata": {},
   "source": [
    "### agglomerative clustering"
   ]
  },
  {
   "cell_type": "code",
   "execution_count": 148,
   "id": "integrated-senator",
   "metadata": {},
   "outputs": [],
   "source": [
    "from sklearn.cluster import AgglomerativeClustering\n",
    "\n",
    "number_of_clusters = 5\n",
    "\n",
    "agg = AgglomerativeClustering(n_clusters=number_of_clusters) # Ward linkage by default\n",
    "clusters = agg.fit_predict(X_reduced)"
   ]
  },
  {
   "cell_type": "code",
   "execution_count": 149,
   "id": "perfect-reward",
   "metadata": {},
   "outputs": [
    {
     "data": {
      "text/plain": [
       "array([2, 0, 1, 1, 4, 4, 0, 0, 1, 1, 1, 1, 1, 2, 0, 4, 1, 2, 1, 2, 2, 1,\n",
       "       1, 0, 0, 2, 1, 4, 0, 0, 1, 2, 4, 2, 4, 2, 1, 2, 0, 2, 3])"
      ]
     },
     "execution_count": 149,
     "metadata": {},
     "output_type": "execute_result"
    }
   ],
   "source": [
    "clusters"
   ]
  },
  {
   "cell_type": "code",
   "execution_count": 150,
   "id": "parallel-tennis",
   "metadata": {},
   "outputs": [
    {
     "name": "stdout",
     "output_type": "stream",
     "text": [
      "cluster 0:\n",
      "\tbenoît cœuré\n",
      "\tharris georgiades\n",
      "\tjeroen dijsselbloem\n",
      "\tmaria luís albuquerque\n",
      "\trimantas šadžius\n",
      "\tspeaker\n",
      "\tspeaker 2\n",
      "\tspeaker 21\n",
      "\ttranslator\n",
      "\n",
      "cluster 1:\n",
      "\tchristine lagarde\n",
      "\tdeclan costello\n",
      "\tklaus regling\n",
      "\tluca antonio ricci\n",
      "\tluis de guindos\n",
      "\tluis pierre\n",
      "\tmale\n",
      "\tmichael noonan\n",
      "\tnikos theocarakis\n",
      "\tpierre moscovici\n",
      "\tpoul mathias thomsen\n",
      "\tspeaker 12\n",
      "\tspeaker 3\n",
      "\tthomas wieser\n",
      "\n",
      "cluster 2:\n",
      "\talexander stubb\n",
      "\tmarco buti\n",
      "\tmichel sapin\n",
      "\tpeter kažimír\n",
      "\tpier carlo padoan\n",
      "\tspeaker 1\n",
      "\tspeaker 5\n",
      "\tspeaker 7\n",
      "\tthomas steffen\n",
      "\ttooma\n",
      "\twolfgang schäuble\n",
      "\n",
      "cluster 3:\n",
      "\tyanis varoufakis\n",
      "\n",
      "cluster 4:\n",
      "\tedward scicluna\n",
      "\thans jörg schelling\n",
      "\tmario draghi\n",
      "\tspeaker 19\n",
      "\tspeaker 6\n",
      "\tspeaker 8\n",
      "\n"
     ]
    }
   ],
   "source": [
    "for k in range(number_of_clusters):\n",
    "    print(f'cluster {k}:')\n",
    "    for speaker in np.array(list(dvecs.keys()))[clusters==k]:\n",
    "        print(f'\\t{speaker}')\n",
    "    print()"
   ]
  },
  {
   "cell_type": "markdown",
   "id": "minor-glucose",
   "metadata": {},
   "source": [
    "# Pretrained embeddings\n",
    "\n",
    "- https://kavita-ganesan.com/easily-access-pre-trained-word-embeddings-with-gensim/"
   ]
  },
  {
   "cell_type": "code",
   "execution_count": 68,
   "id": "color-delight",
   "metadata": {},
   "outputs": [],
   "source": [
    "from gensim.models.word2vec import Word2Vec\n",
    "import gensim.downloader as api"
   ]
  },
  {
   "cell_type": "code",
   "execution_count": 78,
   "id": "removable-concentration",
   "metadata": {},
   "outputs": [
    {
     "name": "stdout",
     "output_type": "stream",
     "text": [
      "Time taken: 1.08 mins\n"
     ]
    }
   ],
   "source": [
    "t = time.time()\n",
    "\n",
    "# download the model and return as object ready for use\n",
    "#model = api.load(\"word2vec-google-news-300\")\n",
    "model = api.load(\"glove-wiki-gigaword-100\")\n",
    "#model = api.load(\"glove-twitter-25\")\n",
    "\n",
    "print(f'Time taken: {round((time.time() - t) / 60, 2)} mins')"
   ]
  },
  {
   "cell_type": "code",
   "execution_count": 115,
   "id": "addressed-cache",
   "metadata": {},
   "outputs": [
    {
     "data": {
      "text/plain": [
       "[('bulgaria', 0.7619102001190186),\n",
       " ('latvia', 0.7298097610473633),\n",
       " ('estonia', 0.7295340299606323),\n",
       " ('portugal', 0.7255569696426392),\n",
       " ('hungary', 0.724166214466095),\n",
       " ('italy', 0.7235244512557983),\n",
       " ('macedonia', 0.7231630086898804),\n",
       " ('albania', 0.7162705063819885),\n",
       " ('turkey', 0.7141141295433044),\n",
       " ('iceland', 0.7076017260551453)]"
      ]
     },
     "execution_count": 115,
     "metadata": {},
     "output_type": "execute_result"
    }
   ],
   "source": [
    "model.most_similar(\"greece\",topn=10)"
   ]
  },
  {
   "cell_type": "code",
   "execution_count": 116,
   "id": "pregnant-custom",
   "metadata": {},
   "outputs": [
    {
     "data": {
      "text/plain": [
       "[('juncker', 0.6745191812515259),\n",
       " ('ecofin', 0.5150660276412964),\n",
       " ('claude', 0.5108284950256348),\n",
       " ('arthuis', 0.49629801511764526),\n",
       " ('maystadt', 0.4791005551815033),\n",
       " ('56-member', 0.4776451587677002),\n",
       " ('g-7', 0.4750973880290985),\n",
       " ('mersch', 0.46765682101249695),\n",
       " ('g7', 0.4653204381465912),\n",
       " ('ecb', 0.46386680006980896)]"
      ]
     },
     "execution_count": 116,
     "metadata": {},
     "output_type": "execute_result"
    }
   ],
   "source": [
    "model.most_similar(\"eurogroup\",topn=10)"
   ]
  },
  {
   "cell_type": "code",
   "execution_count": 117,
   "id": "handed-revolution",
   "metadata": {},
   "outputs": [
    {
     "data": {
      "text/plain": [
       "gensim.models.keyedvectors.Word2VecKeyedVectors"
      ]
     },
     "execution_count": 117,
     "metadata": {},
     "output_type": "execute_result"
    }
   ],
   "source": [
    "type(model)"
   ]
  },
  {
   "cell_type": "code",
   "execution_count": 118,
   "id": "proper-furniture",
   "metadata": {},
   "outputs": [
    {
     "data": {
      "text/plain": [
       "False"
      ]
     },
     "execution_count": 118,
     "metadata": {},
     "output_type": "execute_result"
    }
   ],
   "source": [
    "model.__contains__('interest rate')"
   ]
  },
  {
   "cell_type": "code",
   "execution_count": 151,
   "id": "surrounded-domestic",
   "metadata": {},
   "outputs": [],
   "source": [
    "dvecs = {\n",
    "    d.tags[0]: np.mean([model[word] for word in d.words if model.__contains__(word)], axis=0)\n",
    "    for d in documents if d.tags[0] not in insignificant_speakers\n",
    "}"
   ]
  },
  {
   "cell_type": "code",
   "execution_count": 152,
   "id": "regular-bouquet",
   "metadata": {},
   "outputs": [],
   "source": [
    "X = pd.DataFrame(dvecs).to_numpy().T"
   ]
  },
  {
   "cell_type": "code",
   "execution_count": 153,
   "id": "weighted-surveillance",
   "metadata": {},
   "outputs": [
    {
     "data": {
      "text/plain": [
       "(41, 100)"
      ]
     },
     "execution_count": 153,
     "metadata": {},
     "output_type": "execute_result"
    }
   ],
   "source": [
    "X.shape"
   ]
  },
  {
   "cell_type": "code",
   "execution_count": 156,
   "id": "cordless-raising",
   "metadata": {},
   "outputs": [],
   "source": [
    "from sklearn.cluster import AgglomerativeClustering\n",
    "\n",
    "number_of_clusters = 5\n",
    "\n",
    "agg = AgglomerativeClustering(n_clusters=number_of_clusters) # Ward linkage by default\n",
    "clusters = agg.fit_predict(X)"
   ]
  },
  {
   "cell_type": "code",
   "execution_count": 157,
   "id": "minute-sender",
   "metadata": {},
   "outputs": [
    {
     "name": "stdout",
     "output_type": "stream",
     "text": [
      "cluster 0:\n",
      "\tbenoît cœuré\n",
      "\tdeclan costello\n",
      "\tklaus regling\n",
      "\tluca antonio ricci\n",
      "\tluis pierre\n",
      "\tmarco buti\n",
      "\tmario draghi\n",
      "\tnikos theocarakis\n",
      "\tpoul mathias thomsen\n",
      "\tspeaker 1\n",
      "\tspeaker 2\n",
      "\tspeaker 3\n",
      "\tspeaker 6\n",
      "\tyanis varoufakis\n",
      "\n",
      "cluster 1:\n",
      "\tharris georgiades\n",
      "\tpeter kažimír\n",
      "\tpier carlo padoan\n",
      "\trimantas šadžius\n",
      "\tspeaker\n",
      "\tspeaker 21\n",
      "\ttooma\n",
      "\n",
      "cluster 2:\n",
      "\tmichel sapin\n",
      "\n",
      "cluster 3:\n",
      "\talexander stubb\n",
      "\tedward scicluna\n",
      "\thans jörg schelling\n",
      "\tluis de guindos\n",
      "\tmaria luís albuquerque\n",
      "\tspeaker 12\n",
      "\tspeaker 7\n",
      "\tspeaker 8\n",
      "\n",
      "cluster 4:\n",
      "\tchristine lagarde\n",
      "\tjeroen dijsselbloem\n",
      "\tmale\n",
      "\tmichael noonan\n",
      "\tpierre moscovici\n",
      "\tspeaker 19\n",
      "\tspeaker 5\n",
      "\tthomas steffen\n",
      "\tthomas wieser\n",
      "\ttranslator\n",
      "\twolfgang schäuble\n",
      "\n"
     ]
    }
   ],
   "source": [
    "for k in range(number_of_clusters):\n",
    "    print(f'cluster {k}:')\n",
    "    for speaker in np.array(list(dvecs.keys()))[clusters==k]:\n",
    "        #if 'speaker' not in speaker:\n",
    "        print(f'\\t{speaker}')\n",
    "    print()"
   ]
  },
  {
   "cell_type": "code",
   "execution_count": null,
   "id": "first-driver",
   "metadata": {},
   "outputs": [],
   "source": []
  },
  {
   "cell_type": "code",
   "execution_count": null,
   "id": "respected-china",
   "metadata": {},
   "outputs": [],
   "source": []
  },
  {
   "cell_type": "code",
   "execution_count": null,
   "id": "eight-comparative",
   "metadata": {},
   "outputs": [],
   "source": []
  },
  {
   "cell_type": "code",
   "execution_count": 81,
   "id": "laden-spirituality",
   "metadata": {},
   "outputs": [],
   "source": [
    "model_ = api.load(\"glove-twitter-25\")"
   ]
  },
  {
   "cell_type": "code",
   "execution_count": 83,
   "id": "modern-reading",
   "metadata": {},
   "outputs": [
    {
     "data": {
      "text/plain": [
       "[('титул', 0.8404937386512756),\n",
       " ('заводской', 0.8266498446464539),\n",
       " ('дивизион', 0.8172610998153687),\n",
       " ('окружной', 0.8143825531005859),\n",
       " ('ανακοίνωσε', 0.8123123645782471),\n",
       " ('insolvenz', 0.8114680051803589),\n",
       " ('verklagt', 0.8110349178314209),\n",
       " ('rté', 0.807128369808197),\n",
       " ('argentinien', 0.8036397695541382),\n",
       " ('эрудит', 0.7994272708892822),\n",
       " ('тайфун', 0.793281078338623),\n",
       " ('превратила', 0.7902624607086182),\n",
       " ('промоутер', 0.7893069982528687),\n",
       " ('познание', 0.7892136573791504),\n",
       " ('окр', 0.7884601354598999),\n",
       " ('абсолютный', 0.7867385149002075),\n",
       " ('рейтингу', 0.78517746925354),\n",
       " ('аиф', 0.7848348617553711),\n",
       " ('муниципальный', 0.7845935821533203),\n",
       " ('ibnlive', 0.7843928933143616)]"
      ]
     },
     "execution_count": 83,
     "metadata": {},
     "output_type": "execute_result"
    }
   ],
   "source": [
    "model_.most_similar(\"eurogroup\",topn=20)"
   ]
  },
  {
   "cell_type": "markdown",
   "id": "forbidden-coupon",
   "metadata": {},
   "source": [
    "So according to this embedding, mostly Russians and Germans tweeted about the Eurogroup. rté is Irish National Television."
   ]
  },
  {
   "cell_type": "code",
   "execution_count": null,
   "id": "aggressive-mobility",
   "metadata": {},
   "outputs": [],
   "source": []
  }
 ],
 "metadata": {
  "kernelspec": {
   "display_name": "Python 3",
   "language": "python",
   "name": "python3"
  },
  "language_info": {
   "codemirror_mode": {
    "name": "ipython",
    "version": 3
   },
   "file_extension": ".py",
   "mimetype": "text/x-python",
   "name": "python",
   "nbconvert_exporter": "python",
   "pygments_lexer": "ipython3",
   "version": "3.8.5"
  }
 },
 "nbformat": 4,
 "nbformat_minor": 5
}
