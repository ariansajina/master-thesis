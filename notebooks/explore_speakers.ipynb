{
 "cells": [
  {
   "cell_type": "markdown",
   "id": "narrow-niagara",
   "metadata": {},
   "source": [
    "# Analyze speakers"
   ]
  },
  {
   "cell_type": "code",
   "execution_count": 1,
   "id": "exotic-nowhere",
   "metadata": {},
   "outputs": [],
   "source": [
    "import numpy as np\n",
    "import pandas as pd\n",
    "import re\n",
    "import matplotlib.pyplot as plt"
   ]
  },
  {
   "cell_type": "code",
   "execution_count": 2,
   "id": "polar-machine",
   "metadata": {},
   "outputs": [
    {
     "data": {
      "text/html": [
       "<div>\n",
       "<style scoped>\n",
       "    .dataframe tbody tr th:only-of-type {\n",
       "        vertical-align: middle;\n",
       "    }\n",
       "\n",
       "    .dataframe tbody tr th {\n",
       "        vertical-align: top;\n",
       "    }\n",
       "\n",
       "    .dataframe thead th {\n",
       "        text-align: right;\n",
       "    }\n",
       "</style>\n",
       "<table border=\"1\" class=\"dataframe\">\n",
       "  <thead>\n",
       "    <tr style=\"text-align: right;\">\n",
       "      <th></th>\n",
       "      <th>speaker</th>\n",
       "      <th>speech</th>\n",
       "      <th>timestamp</th>\n",
       "      <th>date</th>\n",
       "    </tr>\n",
       "  </thead>\n",
       "  <tbody>\n",
       "    <tr>\n",
       "      <th>0</th>\n",
       "      <td>Jeroen Dijsselbloem</td>\n",
       "      <td>… of your responses or questions. And can I fi...</td>\n",
       "      <td>1900-01-01 00:00:00</td>\n",
       "      <td>2015-02-24 00:00:00</td>\n",
       "    </tr>\n",
       "    <tr>\n",
       "      <th>1</th>\n",
       "      <td>Speaker 2</td>\n",
       "      <td>Uh, yes, uh, thank you, Jeroen. Well, uh, comm...</td>\n",
       "      <td>1900-01-01 00:00:10</td>\n",
       "      <td>2015-02-24 00:00:00</td>\n",
       "    </tr>\n",
       "    <tr>\n",
       "      <th>2</th>\n",
       "      <td>Michael Noonan</td>\n",
       "      <td>Michael Noonan.</td>\n",
       "      <td>1900-01-01 00:01:27</td>\n",
       "      <td>2015-02-24 00:00:00</td>\n",
       "    </tr>\n",
       "    <tr>\n",
       "      <th>3</th>\n",
       "      <td>Speaker 2</td>\n",
       "      <td>Uh, it is therefore regrettable that, uh-</td>\n",
       "      <td>1900-01-01 00:01:29</td>\n",
       "      <td>2015-02-24 00:00:00</td>\n",
       "    </tr>\n",
       "    <tr>\n",
       "      <th>4</th>\n",
       "      <td>Speaker 3</td>\n",
       "      <td>Has entered the conference.</td>\n",
       "      <td>1900-01-01 00:01:33</td>\n",
       "      <td>2015-02-24 00:00:00</td>\n",
       "    </tr>\n",
       "  </tbody>\n",
       "</table>\n",
       "</div>"
      ],
      "text/plain": [
       "               speaker                                             speech  \\\n",
       "0  Jeroen Dijsselbloem  … of your responses or questions. And can I fi...   \n",
       "1            Speaker 2  Uh, yes, uh, thank you, Jeroen. Well, uh, comm...   \n",
       "2       Michael Noonan                                    Michael Noonan.   \n",
       "3            Speaker 2          Uh, it is therefore regrettable that, uh-   \n",
       "4            Speaker 3                        Has entered the conference.   \n",
       "\n",
       "             timestamp                 date  \n",
       "0  1900-01-01 00:00:00  2015-02-24 00:00:00  \n",
       "1  1900-01-01 00:00:10  2015-02-24 00:00:00  \n",
       "2  1900-01-01 00:01:27  2015-02-24 00:00:00  \n",
       "3  1900-01-01 00:01:29  2015-02-24 00:00:00  \n",
       "4  1900-01-01 00:01:33  2015-02-24 00:00:00  "
      ]
     },
     "execution_count": 2,
     "metadata": {},
     "output_type": "execute_result"
    }
   ],
   "source": [
    "df = pd.read_csv('../data/euroleaks/parsed.csv')\n",
    "df.head()"
   ]
  },
  {
   "cell_type": "markdown",
   "id": "0ce03e5f-5fa2-4183-ab58-94a06e178a43",
   "metadata": {},
   "source": [
    "##### just used to find examples of transcription artifacts"
   ]
  },
  {
   "cell_type": "code",
   "execution_count": 3,
   "id": "6e4ff919-7dc8-4eba-b625-8d53e4d99620",
   "metadata": {},
   "outputs": [],
   "source": [
    "brackets_ = re.compile('\\[.*\\]')\n",
    "paranthesis_ = re.compile('\\(.*\\)')\n",
    "pattern = re.compile('20(th)?,? ?(uh)?,? ?(of)?,? ?(uh)?,? ?february|february ?(the)? ?20t?h?[^\\d,. ]')\n",
    "\n",
    "#for s in df.speech:\n",
    "    #if brackets_.match(s) or paranthesis_.match(s):\n",
    "    #if '20' in s:\n",
    "        #print(s, '\\n')"
   ]
  },
  {
   "cell_type": "markdown",
   "id": "pressing-thing",
   "metadata": {},
   "source": [
    "### handle missing speaker"
   ]
  },
  {
   "cell_type": "code",
   "execution_count": 4,
   "id": "authorized-phone",
   "metadata": {},
   "outputs": [
    {
     "data": {
      "text/html": [
       "<div>\n",
       "<style scoped>\n",
       "    .dataframe tbody tr th:only-of-type {\n",
       "        vertical-align: middle;\n",
       "    }\n",
       "\n",
       "    .dataframe tbody tr th {\n",
       "        vertical-align: top;\n",
       "    }\n",
       "\n",
       "    .dataframe thead th {\n",
       "        text-align: right;\n",
       "    }\n",
       "</style>\n",
       "<table border=\"1\" class=\"dataframe\">\n",
       "  <thead>\n",
       "    <tr style=\"text-align: right;\">\n",
       "      <th></th>\n",
       "      <th>speaker</th>\n",
       "      <th>speech</th>\n",
       "      <th>timestamp</th>\n",
       "      <th>date</th>\n",
       "    </tr>\n",
       "  </thead>\n",
       "  <tbody>\n",
       "    <tr>\n",
       "      <th>1394</th>\n",
       "      <td>NaN</td>\n",
       "      <td>Jeroen Dijsselbloem\\nNow, let’s see who is on ...</td>\n",
       "      <td>NaN</td>\n",
       "      <td>2015-07-01 00:00:00</td>\n",
       "    </tr>\n",
       "  </tbody>\n",
       "</table>\n",
       "</div>"
      ],
      "text/plain": [
       "     speaker                                             speech timestamp  \\\n",
       "1394     NaN  Jeroen Dijsselbloem\\nNow, let’s see who is on ...       NaN   \n",
       "\n",
       "                     date  \n",
       "1394  2015-07-01 00:00:00  "
      ]
     },
     "execution_count": 4,
     "metadata": {},
     "output_type": "execute_result"
    }
   ],
   "source": [
    "df[df.speaker.isnull()]"
   ]
  },
  {
   "cell_type": "code",
   "execution_count": 5,
   "id": "dental-apollo",
   "metadata": {},
   "outputs": [],
   "source": [
    "df.speaker.loc[df.speaker.isnull()] = 'jeroen dijsselbloem'"
   ]
  },
  {
   "cell_type": "markdown",
   "id": "ordinary-blair",
   "metadata": {},
   "source": [
    "## inspect unique speakers"
   ]
  },
  {
   "cell_type": "code",
   "execution_count": 6,
   "id": "spatial-transfer",
   "metadata": {},
   "outputs": [],
   "source": [
    "# strip and make lowercase\n",
    "df.speaker = df.speaker.apply(lambda s: s.strip().lower() if not pd.isnull(s) else s)"
   ]
  },
  {
   "cell_type": "code",
   "execution_count": 7,
   "id": "approximate-heart",
   "metadata": {},
   "outputs": [
    {
     "name": "stdout",
     "output_type": "stream",
     "text": [
      "jeroen dijsselbloem\n",
      "michael noonan\n",
      "pierre moscovici\n",
      "mario draghi\n",
      "wolfgang schäuble\n",
      "christine lagarde\n",
      "yanis varoufakis\n",
      "yanis [not varoufakis]\n",
      "luis de guindos\n",
      "maria luís\n",
      "marco buti\n",
      "thomas wieser\n",
      "declan costello\n",
      "computer\n",
      "benoit couré\n",
      "paul thomsen\n",
      "greek representative\n",
      "thomas\n",
      "benoit cœuré\n",
      "nikos theocarakis\n",
      "irina\n",
      "irana\n",
      "nabil\n",
      "tooma\n",
      "tropa\n",
      "ricci\n",
      "hans\n",
      "paul\n",
      "klaus regling\n",
      "peter kažimír\n",
      "martin\n",
      "hans jörg schelling\n",
      "dušan mramor\n",
      "michel sapin\n",
      "pier carlo padoan\n",
      "edward scicluna\n",
      "rimantas šadžius\n",
      "poul thomsen\n",
      "alexander stubb\n",
      "inaudible\n",
      "yanis varoufakis [privately]\n",
      "johan van overtveldt\n",
      "maria luís albuquerque\n",
      "benoît cœuré\n",
      "kian\n",
      "male\n",
      "group\n",
      "johan\n",
      "maria luis albuquerque\n",
      "harris georgiades\n",
      "translator\n",
      "michel\n",
      "luis pierre\n",
      "luis\n",
      "peter kazimir\n",
      "wolfgang schauble\n",
      "wolfgang\n"
     ]
    }
   ],
   "source": [
    "# display all the names\n",
    "\n",
    "for s in df.speaker.unique():\n",
    "    if 'speaker' not in s:\n",
    "        print(s)"
   ]
  },
  {
   "cell_type": "markdown",
   "id": "modular-easter",
   "metadata": {},
   "source": [
    "### drop some rows\n",
    "For instance those which transcribe words said by computer."
   ]
  },
  {
   "cell_type": "code",
   "execution_count": 8,
   "id": "focused-highlight",
   "metadata": {},
   "outputs": [],
   "source": [
    "#df[df.speech == 'Has entered the conference.']"
   ]
  },
  {
   "cell_type": "code",
   "execution_count": 9,
   "id": "opposed-thesaurus",
   "metadata": {},
   "outputs": [],
   "source": [
    "df = df[df.speech != 'Has entered the conference.']"
   ]
  },
  {
   "cell_type": "code",
   "execution_count": 10,
   "id": "aggressive-miracle",
   "metadata": {},
   "outputs": [],
   "source": [
    "#df[df.speaker == 'group']"
   ]
  },
  {
   "cell_type": "code",
   "execution_count": 11,
   "id": "wired-coral",
   "metadata": {},
   "outputs": [],
   "source": [
    "df = df[df.speaker != 'group']"
   ]
  },
  {
   "cell_type": "code",
   "execution_count": 12,
   "id": "twenty-guess",
   "metadata": {},
   "outputs": [],
   "source": [
    "#df[df.speaker == 'inaudible']"
   ]
  },
  {
   "cell_type": "code",
   "execution_count": 13,
   "id": "electronic-document",
   "metadata": {},
   "outputs": [],
   "source": [
    "df = df[df.speaker != 'inaudible']"
   ]
  },
  {
   "cell_type": "code",
   "execution_count": 14,
   "id": "least-productivity",
   "metadata": {},
   "outputs": [],
   "source": [
    "#for row in df[df.speaker == 'inaudible'].iterrows():\n",
    "#    print(row[1].speech)\n",
    "#    print()"
   ]
  },
  {
   "cell_type": "code",
   "execution_count": 15,
   "id": "11895bec-61a8-4098-886c-ca8e8f234294",
   "metadata": {},
   "outputs": [],
   "source": [
    "df = df[df.speaker != 'yanis varoufakis [privately]']"
   ]
  },
  {
   "cell_type": "markdown",
   "id": "intermediate-public",
   "metadata": {},
   "source": [
    "Unidentified speakers:"
   ]
  },
  {
   "cell_type": "code",
   "execution_count": 16,
   "id": "contained-horizon",
   "metadata": {},
   "outputs": [
    {
     "name": "stdout",
     "output_type": "stream",
     "text": [
      "speaker 2\n",
      "speaker 5\n",
      "speaker 9\n",
      "speaker 10\n",
      "speaker 6\n",
      "speaker 7\n",
      "speaker 8\n",
      "speaker 11\n",
      "speaker 12\n",
      "speaker 13\n",
      "speaker 14\n",
      "speaker 19\n",
      "speaker 1\n",
      "speaker 3\n",
      "unidentified speaker\n",
      "speaker 16\n",
      "speaker 20\n",
      "speaker 4\n",
      "speaker 17\n",
      "speaker 18\n",
      "speaker 21\n",
      "speaker\n"
     ]
    }
   ],
   "source": [
    "search_term = 'speaker'\n",
    "\n",
    "for speaker in df.speaker.apply(lambda s: s.strip().lower() if not pd.isnull(s) else s).unique():\n",
    "    if not pd.isnull(speaker) and search_term in speaker:\n",
    "        print(speaker)\n",
    "        pass"
   ]
  },
  {
   "cell_type": "markdown",
   "id": "legitimate-barrel",
   "metadata": {},
   "source": [
    "**Remark**: speaker 3, 2 and 1 might be relevant as their wordcounts are 1500, 800, 750, respectively. See preliminary_analysis notebook.\n",
    "\n",
    "But this is problematic because I would have listen and check if speaker 3 is the same speaker on different meetings."
   ]
  },
  {
   "cell_type": "markdown",
   "id": "falling-preliminary",
   "metadata": {},
   "source": [
    "### manually construct mapping of different version of the same name to that name\n",
    "Note that there is Thomas Wieser and just Thomas, two distinct persons."
   ]
  },
  {
   "cell_type": "code",
   "execution_count": 17,
   "id": "forced-sally",
   "metadata": {},
   "outputs": [],
   "source": [
    "amend_names = {\n",
    "    'wolfgang schäuble': [\n",
    "        'wolfgang schäuble',\n",
    "        'wolfgang schauble',\n",
    "        'wolfgang'\n",
    "    ],\n",
    "    'peter kažimír': [\n",
    "        'peter kažimír',\n",
    "        'peter kazimir'\n",
    "    ],\n",
    "    'michel sapin': [\n",
    "        'michel sapin',\n",
    "        'michel',\n",
    "        'translator'\n",
    "    ],\n",
    "    'maria luís albuquerque': [\n",
    "        'maria luís albuquerque',\n",
    "        'maria luís',\n",
    "        'maria luis albuquerque'\n",
    "    ],\n",
    "    'johan van overtveldt': [\n",
    "        'johan van overtveldt',\n",
    "        'johan'\n",
    "    ],\n",
    "    'benoît cœuré': [\n",
    "        'benoît cœuré',\n",
    "        'benoit couré',\n",
    "        'benoit cœuré'\n",
    "    ],\n",
    "    'hans jörg schelling': [\n",
    "        'hans jörg schelling',\n",
    "        'hans'\n",
    "    ],\n",
    "    'poul mathias thomsen': [\n",
    "        'paul thomsen',\n",
    "        'paul',\n",
    "        'poul thomsen'\n",
    "    ],\n",
    "    'luis de guindos': [\n",
    "        'luis de guindos',\n",
    "        'luis'\n",
    "    ],\n",
    "    'irina': [\n",
    "        'irina',\n",
    "        'irana'\n",
    "    ],\n",
    "    'jānis reirs': [\n",
    "        'yanis [not varoufakis]'\n",
    "    ],\n",
    "    'luca antonio ricci': [\n",
    "        'ricci'\n",
    "    ],\n",
    "    'thomas steffen': [\n",
    "        'thomas'\n",
    "    ],\n",
    "    'nikos theocarakis': [\n",
    "        'nikos theocarakis',\n",
    "        'greek representative'\n",
    "    ]\n",
    "}"
   ]
  },
  {
   "cell_type": "code",
   "execution_count": 18,
   "id": "gentle-precipitation",
   "metadata": {},
   "outputs": [],
   "source": [
    "# dump to json\n",
    "import json\n",
    "\n",
    "json = json.dumps(amend_names)\n",
    "with open('../data/euroleaks/amend_names.json', 'w') as f:\n",
    "    f.write(json)"
   ]
  },
  {
   "cell_type": "code",
   "execution_count": 19,
   "id": "practical-hierarchy",
   "metadata": {},
   "outputs": [],
   "source": [
    "# invert dict\n",
    "amend_names_inv = {value: key for key,values in amend_names.items() for value in values}"
   ]
  },
  {
   "cell_type": "code",
   "execution_count": 20,
   "id": "ceramic-idaho",
   "metadata": {},
   "outputs": [],
   "source": [
    "# amend speaker names\n",
    "df.speaker = df.speaker.apply(lambda s: amend_names_inv[s] if s in amend_names_inv.keys() else s)"
   ]
  },
  {
   "cell_type": "markdown",
   "id": "8d2cdfb3-32c5-421b-a2c6-7981c5f11769",
   "metadata": {},
   "source": [
    "##### speaker identification based on context and listening"
   ]
  },
  {
   "cell_type": "code",
   "execution_count": 21,
   "id": "aea10a50-6df2-43b2-8c3b-6bd6491a3022",
   "metadata": {},
   "outputs": [],
   "source": [
    "df.speaker[np.logical_and(df.speaker == 'speaker 1', df.date=='2015-05-11 00:00:00')] = 'pierre moscovici'\n",
    "df.speaker[np.logical_and(df.speaker == 'speaker 2', df.date=='2015-05-11 00:00:00')] = 'benoît cœuré'"
   ]
  },
  {
   "cell_type": "code",
   "execution_count": 22,
   "id": "sixth-simon",
   "metadata": {},
   "outputs": [
    {
     "name": "stdout",
     "output_type": "stream",
     "text": [
      "jeroen dijsselbloem\n",
      "michael noonan\n",
      "pierre moscovici\n",
      "mario draghi\n",
      "wolfgang schäuble\n",
      "christine lagarde\n",
      "yanis varoufakis\n",
      "jānis reirs\n",
      "luis de guindos\n",
      "maria luís albuquerque\n",
      "marco buti\n",
      "thomas wieser\n",
      "declan costello\n",
      "benoît cœuré\n",
      "poul mathias thomsen\n",
      "nikos theocarakis\n",
      "thomas steffen\n",
      "irina\n",
      "nabil\n",
      "tooma\n",
      "tropa\n",
      "luca antonio ricci\n",
      "hans jörg schelling\n",
      "klaus regling\n",
      "peter kažimír\n",
      "martin\n",
      "dušan mramor\n",
      "michel sapin\n",
      "pier carlo padoan\n",
      "edward scicluna\n",
      "rimantas šadžius\n",
      "alexander stubb\n",
      "johan van overtveldt\n",
      "kian\n",
      "male\n",
      "harris georgiades\n",
      "luis pierre\n"
     ]
    }
   ],
   "source": [
    "for speaker in df.speaker.unique():\n",
    "    if 'speaker' not in speaker:\n",
    "        print(speaker)\n",
    "        pass"
   ]
  },
  {
   "cell_type": "markdown",
   "id": "streaming-classic",
   "metadata": {},
   "source": [
    "Manually map speaker to entity."
   ]
  },
  {
   "cell_type": "code",
   "execution_count": 23,
   "id": "architectural-veteran",
   "metadata": {},
   "outputs": [],
   "source": [
    "# TODO maybe update after you get an answer to your email\n",
    "\n",
    "# missing:\n",
    "# estonia (Maris Lauri, Sven Sester)\n",
    "# luxembourg (Pierre Gramegna)\n",
    "\n",
    "\n",
    "speaker_to_entity = {\n",
    "    'jeroen dijsselbloem': 'EG President', # the netherlands\n",
    "    'michael noonan': 'Ireland',\n",
    "    'pierre moscovici': 'European Commission',\n",
    "    'mario draghi': 'ECB',\n",
    "    'wolfgang schäuble': 'Germany',\n",
    "    'thomas steffen': 'Germany', # State Secretary at the Federal Ministry of Finance under Schauble\n",
    "    'christine lagarde': 'IMF',\n",
    "    'yanis varoufakis': 'Greece',\n",
    "    'luis de guindos': 'Spain',\n",
    "    'maria luís albuquerque': 'Portugal',\n",
    "    'marco buti': 'European Commission',\n",
    "    'thomas wieser': 'EWG President', # economic and financial committee, president of EWG\n",
    "    'declan costello': 'European Commission', #dg ecfin\n",
    "    'benoît cœuré': 'ECB',\n",
    "    'poul mathias thomsen': 'IMF',\n",
    "    'nikos theocarakis': 'Greece',\n",
    "    'hans jörg schelling': 'Austria',\n",
    "    'klaus regling': 'ESM', # head of european stability mechanism\n",
    "    'peter kažimír': 'Slovakia',\n",
    "    'dušan mramor': 'Slovenia',\n",
    "    'michel sapin': 'France',\n",
    "    'pier carlo padoan': 'Italy',\n",
    "    'edward scicluna': 'Malta',\n",
    "    'rimantas šadžius': 'Lithuania',\n",
    "    'alexander stubb': 'Finland', # from May 29\n",
    "    'tooma': 'Finland', # based on saying they have two and a half weeks until elections on April 1\n",
    "    'johan van overtveldt': 'Belgium',\n",
    "    'harris georgiades': 'Cyprus',\n",
    "    'luis pierre': 'European Commission',\n",
    "    'jānis reirs': 'Latvia',\n",
    "    'luca antonio ricci': 'IMF'\n",
    "}"
   ]
  },
  {
   "cell_type": "code",
   "execution_count": 24,
   "id": "practical-ukraine",
   "metadata": {},
   "outputs": [],
   "source": [
    "# dump to json\n",
    "import json\n",
    "\n",
    "json = json.dumps(speaker_to_entity)\n",
    "with open('../data/euroleaks/name_to_entity.json', 'w') as f:\n",
    "    f.write(json)"
   ]
  },
  {
   "cell_type": "code",
   "execution_count": 25,
   "id": "d7b6a005-a8c9-49e4-87ad-b63d6dbcee94",
   "metadata": {},
   "outputs": [
    {
     "name": "stdout",
     "output_type": "stream",
     "text": [
      "\\hline\n",
      "alexander stubb & Finland \\\\\n",
      "\\hline\n",
      "benoît cœuré & ECB \\\\\n",
      "\\hline\n",
      "christine lagarde & IMF \\\\\n",
      "\\hline\n",
      "declan costello & European Commission \\\\\n",
      "\\hline\n",
      "dušan mramor & Slovenia \\\\\n",
      "\\hline\n",
      "edward scicluna & Malta \\\\\n",
      "\\hline\n",
      "hans jörg schelling & Austria \\\\\n",
      "\\hline\n",
      "harris georgiades & Cyprus \\\\\n",
      "\\hline\n",
      "jeroen dijsselbloem & EG President \\\\\n",
      "\\hline\n",
      "johan van overtveldt & Belgium \\\\\n",
      "\\hline\n",
      "jānis reirs & Latvia \\\\\n",
      "\\hline\n",
      "klaus regling & ESM \\\\\n",
      "\\hline\n",
      "luca antonio ricci & IMF \\\\\n",
      "\\hline\n",
      "luis de guindos & Spain \\\\\n",
      "\\hline\n",
      "luis pierre & European Commission \\\\\n",
      "\\hline\n",
      "marco buti & European Commission \\\\\n",
      "\\hline\n",
      "maria luís albuquerque & Portugal \\\\\n",
      "\\hline\n",
      "mario draghi & ECB \\\\\n",
      "\\hline\n",
      "michael noonan & Ireland \\\\\n",
      "\\hline\n",
      "michel sapin & France \\\\\n",
      "\\hline\n",
      "nikos theocarakis & Greece \\\\\n",
      "\\hline\n",
      "peter kažimír & Slovakia \\\\\n",
      "\\hline\n",
      "pier carlo padoan & Italy \\\\\n",
      "\\hline\n",
      "pierre moscovici & European Commission \\\\\n",
      "\\hline\n",
      "poul mathias thomsen & IMF \\\\\n",
      "\\hline\n",
      "rimantas šadžius & Lithuania \\\\\n",
      "\\hline\n",
      "thomas steffen & Germany \\\\\n",
      "\\hline\n",
      "thomas wieser & EWG President \\\\\n",
      "\\hline\n",
      "tooma & Finland \\\\\n",
      "\\hline\n",
      "wolfgang schäuble & Germany \\\\\n",
      "\\hline\n",
      "yanis varoufakis & Greece \\\\\n"
     ]
    }
   ],
   "source": [
    "# print the mapping in alphabetical order, in format for table in latex\n",
    "\n",
    "ix = np.argsort(list(speaker_to_entity.keys()))\n",
    "\n",
    "for s,e in zip(np.array(list(speaker_to_entity.keys()))[ix], np.array(list(speaker_to_entity.values()))[ix]):\n",
    "    print(f'\\\\hline\\n{s} & {e} \\\\\\\\')"
   ]
  },
  {
   "cell_type": "markdown",
   "id": "atomic-uruguay",
   "metadata": {},
   "source": [
    "#### still don't know who these people represent..."
   ]
  },
  {
   "cell_type": "code",
   "execution_count": 26,
   "id": "national-tunnel",
   "metadata": {},
   "outputs": [
    {
     "name": "stdout",
     "output_type": "stream",
     "text": [
      "irina\n",
      "nabil\n",
      "tropa\n",
      "martin\n",
      "kian\n",
      "male\n"
     ]
    }
   ],
   "source": [
    "for speaker in df.speaker.unique():\n",
    "    if not ('speaker' in speaker or speaker in speaker_to_entity.keys()):\n",
    "        print(speaker)"
   ]
  },
  {
   "cell_type": "markdown",
   "id": "c74c0bf7-fba6-41dd-8dfb-ccee78066cef",
   "metadata": {},
   "source": [
    "When do these unidentified speakers mostly speak? Are they members of the EWG?"
   ]
  },
  {
   "cell_type": "code",
   "execution_count": 27,
   "id": "municipal-blood",
   "metadata": {},
   "outputs": [
    {
     "name": "stdout",
     "output_type": "stream",
     "text": [
      "[inaudible 00:45:06] It’s [Nabil 00:45:08]. Yes, uh, my questions, um, because, um, uh, we have been talking about Nikos measures which were submitted by the Greek side. Um, frankly they have been already news in a lot of m- media, so, um, it would be really very helpful to get this list of measures so that we actually know what we are talking about. And I understand from Nikos that he’s going to send to the members of the, the EWG which would be very helpful.\n",
      "\n"
     ]
    }
   ],
   "source": [
    "for row in df[df.speaker == 'nabil'].iterrows():\n",
    "    print(row[1].speech)\n",
    "    print()"
   ]
  },
  {
   "cell_type": "code",
   "execution_count": 28,
   "id": "excessive-mitchell",
   "metadata": {},
   "outputs": [
    {
     "data": {
      "text/plain": [
       "array(['2015-03-17 00:00:00', '2015-04-01 00:00:00',\n",
       "       '2015-05-11 00:00:00', '2015-06-18 00:00:00',\n",
       "       '2015-06-22 00:00:00'], dtype=object)"
      ]
     },
     "execution_count": 28,
     "metadata": {},
     "output_type": "execute_result"
    }
   ],
   "source": [
    "df[df.speaker == 'speaker 10'].date.unique()"
   ]
  },
  {
   "cell_type": "code",
   "execution_count": 29,
   "id": "inclusive-airplane",
   "metadata": {},
   "outputs": [
    {
     "name": "stdout",
     "output_type": "stream",
     "text": [
      "Thank you, Jeroen. Uh, actually the debate has already gone a long way in pointing out pitfalls and opportunities of low interest rate environment. I would start from Mario’s point, which, uh, should set, uh, framework for all policy decisions related to lower interest rates.\n",
      "\n",
      "That lower interest rates are not here for to stay forever. At some stage we will see some return to some normal state of- of the world, including interest rates that are a little bit higher at least.\n",
      "\n",
      "Uh, so this to me, uh, suggests that the lower interest rate environment should be seen [inaudible] what I like to call a window of opportunity. Christine already alluded to that in terms of [inaudible] a- a weaker euro, uh better inflationary expectations, and of course easier monetary provisions.\n",
      "\n",
      "And therefore the first- the first, uh, implication I would draw for policy is, uh, since there is a window of opportunity, which by definition will close up sooner than expected possibly, please let’s all not make the mistake of not exploiting that window of opportunity by pushing forward the [inaudible] programs that in many, our- our cases, certainly in my case if I may, uh, is very much at the center of the agenda.\n",
      "\n",
      "This is a very general point, which does not relate to technicalities of the fiscal implications.\n",
      "\n",
      "Second, this has been mentioned by both, and I will not dwell on it. But it’s very important. What can we do to, uh, help, uh, institutional investors do better in such an environment?\n",
      "\n",
      "Of course the assumption that these low rates will go away at some stage, will have to impact on long term investment decisions. So it’s not just, uh, it’s not that straight forward how, what are the implications for institutional investors? Although I very much subscribe to the view that more, uh… a larger choice set, let me put it that way. A larger choice set should be allowed to these investors.\n",
      "\n",
      "Having said that, but then Pierre pointed out very clearly, of course the lower interest rates come along with an environment, where nominal growth, both nominal and real growth are lower, and inflation is also, uh, not high enough.\n",
      "\n",
      "So from that point of view, of course the impact on public finance of- of, uh, nom- a low nominal growth en- en- environment, has other implications. One must mention that- that it has caused an implication on revenues, which themselves would be lower.\n",
      "\n",
      "And this of course, uh, adds to the environment as, uh, the benchmark against which we have to assess. But also another point maybe worth mentioning, that while we have lower interest rates on- on government debt for a number of reasons, it is not always obvious to what extent this is transmitted to other interest rates in the market, to what extent there is a channel [inaudible] in terms of easier financial conditions or not. This may work both ways. But, uh, it’s also important to, uh, to take that into account.\n",
      "\n",
      "Coming to the point that was central in the presentation very quickly, uh, what should we do with that space that is generated by lower nominal, uh, interest rates?\n",
      "\n",
      "A- apart from measurement problems, how do we exactly measure the additional fiscal space generated by lower rates? Which has to do with the well known problems of measuring the impact, uh, on, uh, uh, uh, w- what is the cyclical impact? What is the impact of cyclical conditions on potential output, uh, coming from that, uh, just, uh, [inaudible 00:17:18]?\n",
      "\n",
      "I want to conclude with, uh, two lessons that I would, uh, draw. One, uh… Actually three lessons. One is, uh, yes that, uh, the, uh, amount of resources, uh, freed up by that window, should, uh, be devoted to, uh, making your fiscal stance stronger.\n",
      "\n",
      "Uh, which however can be seen in a number of ways. Not only, uh, uh, not only, uh, moderating your spending, but also modifying the composition of your spending towards more capital investment, which in many cases is complementary to the structure [inaudible 00:17:58].\n",
      "\n",
      "And of course I very much subscribe to [inaudible 00:18:02], uh many times [inaudible] the point that we, uh, we need good projects rather than good money. I fully subscribe to that, and I keep saying it around the world [inaudible] quoting you if I may.\n",
      "\n",
      "Um, the other point, and I’m finished, is that there is, uh, and opportunity with lower interest rates to improve debt management. To take benefit of the immediate lower cost of funding for the budget. And so to, uh, reassess the structure of your funding, your- your debt management, which will be helpful once at some stage the interest rate environment will be higher.\n",
      "\n",
      "So this is an additional element we should be taking into account, into asking what can we do to use that space, in order to improve our fiscal sustainability? Thank you.\n",
      "\n",
      "Okay, uh, [inaudible 00:00:40] the main element which was uh, on discussion or actually reflect [inaudible 00:01:37] opposition of the program on [crosstalk 00:01:37] on prior action we had uh, very long discussions uh, with uh, different documents [inaudible 00:02:02] number of elements [inaudible 00:02:02] on pensions [inaudible 00:02:02] elements will be explaining more uh, different elements we have the discussion [inaudible 00:02:05] basically as you’ll see [inaudible 00:02:11] proposals there is a joint proposal of the institutions and we must just redirect what we [inaudible 00:02:19] the institutions are working [inaudible 00:02:23] together and [inaudible 00:02:25]. Duration of extension of the program uh, where [inaudible 00:02:42] as institutions we uh, we can’t extend the program for appeal [inaudible 00:02:48] financing. The same thing listing uh, program [inaudible 00:02:52] which means some uh, five months period well a stretch maybe uh six months period [inaudible 00:02:58] on nine months extension [inaudible 00:03:07] institutional financing. So uh, yeah that’s uh a brief o-overview where we are now, so unfortunately uh, we cannot know agreement, documents are there for ministers to see what is the position of uh, the institutions [inaudible 00:03:47].\n",
      "\n"
     ]
    }
   ],
   "source": [
    "for row in df[df.speaker == 'speaker 3'].iterrows():\n",
    "    print(row[1].speech)\n",
    "    print()"
   ]
  },
  {
   "cell_type": "code",
   "execution_count": null,
   "id": "pacific-affiliate",
   "metadata": {},
   "outputs": [],
   "source": []
  }
 ],
 "metadata": {
  "kernelspec": {
   "display_name": "Python 3",
   "language": "python",
   "name": "python3"
  },
  "language_info": {
   "codemirror_mode": {
    "name": "ipython",
    "version": 3
   },
   "file_extension": ".py",
   "mimetype": "text/x-python",
   "name": "python",
   "nbconvert_exporter": "python",
   "pygments_lexer": "ipython3",
   "version": "3.8.5"
  }
 },
 "nbformat": 4,
 "nbformat_minor": 5
}
