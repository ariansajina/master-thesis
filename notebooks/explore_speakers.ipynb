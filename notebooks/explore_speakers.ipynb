{
 "cells": [
  {
   "cell_type": "markdown",
   "id": "narrow-niagara",
   "metadata": {},
   "source": [
    "# Analyze speakers"
   ]
  },
  {
   "cell_type": "code",
   "execution_count": 1,
   "id": "exotic-nowhere",
   "metadata": {},
   "outputs": [],
   "source": [
    "import numpy as np\n",
    "import pandas as pd\n",
    "import re\n",
    "import matplotlib.pyplot as plt"
   ]
  },
  {
   "cell_type": "code",
   "execution_count": 2,
   "id": "polar-machine",
   "metadata": {},
   "outputs": [
    {
     "data": {
      "text/html": [
       "<div>\n",
       "<style scoped>\n",
       "    .dataframe tbody tr th:only-of-type {\n",
       "        vertical-align: middle;\n",
       "    }\n",
       "\n",
       "    .dataframe tbody tr th {\n",
       "        vertical-align: top;\n",
       "    }\n",
       "\n",
       "    .dataframe thead th {\n",
       "        text-align: right;\n",
       "    }\n",
       "</style>\n",
       "<table border=\"1\" class=\"dataframe\">\n",
       "  <thead>\n",
       "    <tr style=\"text-align: right;\">\n",
       "      <th></th>\n",
       "      <th>speaker</th>\n",
       "      <th>speech</th>\n",
       "      <th>timestamp</th>\n",
       "      <th>date</th>\n",
       "    </tr>\n",
       "  </thead>\n",
       "  <tbody>\n",
       "    <tr>\n",
       "      <th>0</th>\n",
       "      <td>Jeroen Dijsselbloem</td>\n",
       "      <td>… of your responses or questions. And can I fi...</td>\n",
       "      <td>1900-01-01 00:00:00</td>\n",
       "      <td>2015-02-24 00:00:00</td>\n",
       "    </tr>\n",
       "    <tr>\n",
       "      <th>1</th>\n",
       "      <td>Speaker 2</td>\n",
       "      <td>Uh, yes, uh, thank you, Jeroen. Well, uh, comm...</td>\n",
       "      <td>1900-01-01 00:00:10</td>\n",
       "      <td>2015-02-24 00:00:00</td>\n",
       "    </tr>\n",
       "    <tr>\n",
       "      <th>2</th>\n",
       "      <td>Michael Noonan</td>\n",
       "      <td>Michael Noonan.</td>\n",
       "      <td>1900-01-01 00:01:27</td>\n",
       "      <td>2015-02-24 00:00:00</td>\n",
       "    </tr>\n",
       "    <tr>\n",
       "      <th>3</th>\n",
       "      <td>Speaker 2</td>\n",
       "      <td>Uh, it is therefore regrettable that, uh-</td>\n",
       "      <td>1900-01-01 00:01:29</td>\n",
       "      <td>2015-02-24 00:00:00</td>\n",
       "    </tr>\n",
       "    <tr>\n",
       "      <th>4</th>\n",
       "      <td>Speaker 3</td>\n",
       "      <td>Has entered the conference.</td>\n",
       "      <td>1900-01-01 00:01:33</td>\n",
       "      <td>2015-02-24 00:00:00</td>\n",
       "    </tr>\n",
       "  </tbody>\n",
       "</table>\n",
       "</div>"
      ],
      "text/plain": [
       "               speaker                                             speech  \\\n",
       "0  Jeroen Dijsselbloem  … of your responses or questions. And can I fi...   \n",
       "1            Speaker 2  Uh, yes, uh, thank you, Jeroen. Well, uh, comm...   \n",
       "2       Michael Noonan                                    Michael Noonan.   \n",
       "3            Speaker 2          Uh, it is therefore regrettable that, uh-   \n",
       "4            Speaker 3                        Has entered the conference.   \n",
       "\n",
       "             timestamp                 date  \n",
       "0  1900-01-01 00:00:00  2015-02-24 00:00:00  \n",
       "1  1900-01-01 00:00:10  2015-02-24 00:00:00  \n",
       "2  1900-01-01 00:01:27  2015-02-24 00:00:00  \n",
       "3  1900-01-01 00:01:29  2015-02-24 00:00:00  \n",
       "4  1900-01-01 00:01:33  2015-02-24 00:00:00  "
      ]
     },
     "execution_count": 2,
     "metadata": {},
     "output_type": "execute_result"
    }
   ],
   "source": [
    "df = pd.read_csv('../data/euroleaks/parsed.csv')\n",
    "df.head()"
   ]
  },
  {
   "cell_type": "markdown",
   "id": "0ce03e5f-5fa2-4183-ab58-94a06e178a43",
   "metadata": {},
   "source": [
    "Use to find examples of transcription artifacts:"
   ]
  },
  {
   "cell_type": "code",
   "execution_count": 3,
   "id": "6e4ff919-7dc8-4eba-b625-8d53e4d99620",
   "metadata": {},
   "outputs": [],
   "source": [
    "brackets_ = re.compile('\\[.*\\]')\n",
    "paranthesis_ = re.compile('\\(.*\\)')\n",
    "pattern = re.compile('20(th)?,? ?(uh)?,? ?(of)?,? ?(uh)?,? ?february|february ?(the)? ?20t?h?[^\\d,. ]')\n",
    "\n",
    "#for s in df.speech:\n",
    "    #if brackets_.match(s) or paranthesis_.match(s):\n",
    "    #if '20' in s:\n",
    "        #print(s, '\\n')"
   ]
  },
  {
   "cell_type": "markdown",
   "id": "pressing-thing",
   "metadata": {},
   "source": [
    "Handle missing speaker"
   ]
  },
  {
   "cell_type": "code",
   "execution_count": 4,
   "id": "authorized-phone",
   "metadata": {},
   "outputs": [
    {
     "data": {
      "text/html": [
       "<div>\n",
       "<style scoped>\n",
       "    .dataframe tbody tr th:only-of-type {\n",
       "        vertical-align: middle;\n",
       "    }\n",
       "\n",
       "    .dataframe tbody tr th {\n",
       "        vertical-align: top;\n",
       "    }\n",
       "\n",
       "    .dataframe thead th {\n",
       "        text-align: right;\n",
       "    }\n",
       "</style>\n",
       "<table border=\"1\" class=\"dataframe\">\n",
       "  <thead>\n",
       "    <tr style=\"text-align: right;\">\n",
       "      <th></th>\n",
       "      <th>speaker</th>\n",
       "      <th>speech</th>\n",
       "      <th>timestamp</th>\n",
       "      <th>date</th>\n",
       "    </tr>\n",
       "  </thead>\n",
       "  <tbody>\n",
       "    <tr>\n",
       "      <th>1394</th>\n",
       "      <td>NaN</td>\n",
       "      <td>Jeroen Dijsselbloem\\nNow, let’s see who is on ...</td>\n",
       "      <td>NaN</td>\n",
       "      <td>2015-07-01 00:00:00</td>\n",
       "    </tr>\n",
       "  </tbody>\n",
       "</table>\n",
       "</div>"
      ],
      "text/plain": [
       "     speaker                                             speech timestamp  \\\n",
       "1394     NaN  Jeroen Dijsselbloem\\nNow, let’s see who is on ...       NaN   \n",
       "\n",
       "                     date  \n",
       "1394  2015-07-01 00:00:00  "
      ]
     },
     "execution_count": 4,
     "metadata": {},
     "output_type": "execute_result"
    }
   ],
   "source": [
    "df[df.speaker.isnull()]"
   ]
  },
  {
   "cell_type": "code",
   "execution_count": 5,
   "id": "dental-apollo",
   "metadata": {},
   "outputs": [],
   "source": [
    "df.speaker.loc[df.speaker.isnull()] = 'jeroen dijsselbloem'"
   ]
  },
  {
   "cell_type": "markdown",
   "id": "ordinary-blair",
   "metadata": {},
   "source": [
    "## inspect unique speakers"
   ]
  },
  {
   "cell_type": "code",
   "execution_count": 6,
   "id": "spatial-transfer",
   "metadata": {},
   "outputs": [],
   "source": [
    "# strip and make lowercase\n",
    "df.speaker = df.speaker.apply(lambda s: s.strip().lower() if not pd.isnull(s) else s)"
   ]
  },
  {
   "cell_type": "code",
   "execution_count": 7,
   "id": "approximate-heart",
   "metadata": {},
   "outputs": [
    {
     "name": "stdout",
     "output_type": "stream",
     "text": [
      "jeroen dijsselbloem\n",
      "michael noonan\n",
      "pierre moscovici\n",
      "mario draghi\n",
      "wolfgang schäuble\n",
      "christine lagarde\n",
      "yanis varoufakis\n",
      "yanis [not varoufakis]\n",
      "luis de guindos\n",
      "maria luís\n",
      "marco buti\n",
      "thomas wieser\n",
      "declan costello\n",
      "computer\n",
      "benoit couré\n",
      "paul thomsen\n",
      "greek representative\n",
      "thomas\n",
      "benoit cœuré\n",
      "nikos theocarakis\n",
      "irina\n",
      "irana\n",
      "nabil\n",
      "tooma\n",
      "tropa\n",
      "ricci\n",
      "hans\n",
      "paul\n",
      "klaus regling\n",
      "peter kažimír\n",
      "martin\n",
      "hans jörg schelling\n",
      "dušan mramor\n",
      "michel sapin\n",
      "pier carlo padoan\n",
      "edward scicluna\n",
      "rimantas šadžius\n",
      "poul thomsen\n",
      "alexander stubb\n",
      "inaudible\n",
      "yanis varoufakis [privately]\n",
      "johan van overtveldt\n",
      "maria luís albuquerque\n",
      "benoît cœuré\n",
      "kian\n",
      "male\n",
      "group\n",
      "johan\n",
      "maria luis albuquerque\n",
      "harris georgiades\n",
      "translator\n",
      "michel\n",
      "luis pierre\n",
      "luis\n",
      "peter kazimir\n",
      "wolfgang schauble\n",
      "wolfgang\n"
     ]
    }
   ],
   "source": [
    "# display all the names\n",
    "\n",
    "for s in df.speaker.unique():\n",
    "    if 'speaker' not in s:\n",
    "        print(s)"
   ]
  },
  {
   "cell_type": "markdown",
   "id": "modular-easter",
   "metadata": {},
   "source": [
    "## drop some rows\n",
    "For instance those which transcribe words said by computer."
   ]
  },
  {
   "cell_type": "code",
   "execution_count": 8,
   "id": "focused-highlight",
   "metadata": {},
   "outputs": [],
   "source": [
    "#df[df.speech == 'Has entered the conference.']"
   ]
  },
  {
   "cell_type": "code",
   "execution_count": 9,
   "id": "opposed-thesaurus",
   "metadata": {},
   "outputs": [],
   "source": [
    "df = df[df.speech != 'Has entered the conference.']"
   ]
  },
  {
   "cell_type": "code",
   "execution_count": 10,
   "id": "aggressive-miracle",
   "metadata": {},
   "outputs": [],
   "source": [
    "#df[df.speaker == 'group']"
   ]
  },
  {
   "cell_type": "code",
   "execution_count": 11,
   "id": "wired-coral",
   "metadata": {},
   "outputs": [],
   "source": [
    "df = df[df.speaker != 'group']"
   ]
  },
  {
   "cell_type": "code",
   "execution_count": 12,
   "id": "twenty-guess",
   "metadata": {},
   "outputs": [],
   "source": [
    "#df[df.speaker == 'inaudible']"
   ]
  },
  {
   "cell_type": "code",
   "execution_count": 13,
   "id": "electronic-document",
   "metadata": {},
   "outputs": [],
   "source": [
    "df = df[df.speaker != 'inaudible']"
   ]
  },
  {
   "cell_type": "code",
   "execution_count": 14,
   "id": "least-productivity",
   "metadata": {},
   "outputs": [],
   "source": [
    "#for row in df[df.speaker == 'inaudible'].iterrows():\n",
    "#    print(row[1].speech)\n",
    "#    print()"
   ]
  },
  {
   "cell_type": "code",
   "execution_count": 15,
   "id": "4466ec37-3b88-4ca1-bf73-fe802af5978d",
   "metadata": {},
   "outputs": [
    {
     "data": {
      "text/html": [
       "<div>\n",
       "<style scoped>\n",
       "    .dataframe tbody tr th:only-of-type {\n",
       "        vertical-align: middle;\n",
       "    }\n",
       "\n",
       "    .dataframe tbody tr th {\n",
       "        vertical-align: top;\n",
       "    }\n",
       "\n",
       "    .dataframe thead th {\n",
       "        text-align: right;\n",
       "    }\n",
       "</style>\n",
       "<table border=\"1\" class=\"dataframe\">\n",
       "  <thead>\n",
       "    <tr style=\"text-align: right;\">\n",
       "      <th></th>\n",
       "      <th>speaker</th>\n",
       "      <th>speech</th>\n",
       "      <th>timestamp</th>\n",
       "      <th>date</th>\n",
       "    </tr>\n",
       "  </thead>\n",
       "  <tbody>\n",
       "    <tr>\n",
       "      <th>730</th>\n",
       "      <td>yanis varoufakis [privately]</td>\n",
       "      <td>Good point.</td>\n",
       "      <td>1900-01-01 01:54:51</td>\n",
       "      <td>2015-06-18 00:00:00</td>\n",
       "    </tr>\n",
       "    <tr>\n",
       "      <th>738</th>\n",
       "      <td>yanis varoufakis [privately]</td>\n",
       "      <td>Mm. Did you hear that?</td>\n",
       "      <td>1900-01-01 01:56:08</td>\n",
       "      <td>2015-06-18 00:00:00</td>\n",
       "    </tr>\n",
       "    <tr>\n",
       "      <th>746</th>\n",
       "      <td>yanis varoufakis [privately]</td>\n",
       "      <td>Πολύ καλό, καλύτερο από ποτέ.</td>\n",
       "      <td>1900-01-01 02:01:15</td>\n",
       "      <td>2015-06-18 00:00:00</td>\n",
       "    </tr>\n",
       "  </tbody>\n",
       "</table>\n",
       "</div>"
      ],
      "text/plain": [
       "                          speaker                         speech  \\\n",
       "730  yanis varoufakis [privately]                    Good point.   \n",
       "738  yanis varoufakis [privately]         Mm. Did you hear that?   \n",
       "746  yanis varoufakis [privately]  Πολύ καλό, καλύτερο από ποτέ.   \n",
       "\n",
       "               timestamp                 date  \n",
       "730  1900-01-01 01:54:51  2015-06-18 00:00:00  \n",
       "738  1900-01-01 01:56:08  2015-06-18 00:00:00  \n",
       "746  1900-01-01 02:01:15  2015-06-18 00:00:00  "
      ]
     },
     "execution_count": 15,
     "metadata": {},
     "output_type": "execute_result"
    }
   ],
   "source": [
    "df[df.speaker == 'yanis varoufakis [privately]']"
   ]
  },
  {
   "cell_type": "code",
   "execution_count": 16,
   "id": "11895bec-61a8-4098-886c-ca8e8f234294",
   "metadata": {},
   "outputs": [],
   "source": [
    "df = df[df.speaker != 'yanis varoufakis [privately]']"
   ]
  },
  {
   "cell_type": "markdown",
   "id": "intermediate-public",
   "metadata": {},
   "source": [
    "## unidentified speakers"
   ]
  },
  {
   "cell_type": "code",
   "execution_count": 17,
   "id": "contained-horizon",
   "metadata": {},
   "outputs": [
    {
     "name": "stdout",
     "output_type": "stream",
     "text": [
      "speaker 2\n",
      "speaker 5\n",
      "speaker 9\n",
      "speaker 10\n",
      "speaker 6\n",
      "speaker 7\n",
      "speaker 8\n",
      "speaker 11\n",
      "speaker 12\n",
      "speaker 13\n",
      "speaker 14\n",
      "speaker 19\n",
      "speaker 1\n",
      "speaker 3\n",
      "unidentified speaker\n",
      "speaker 16\n",
      "speaker 20\n",
      "speaker 4\n",
      "speaker 17\n",
      "speaker 18\n",
      "speaker 21\n",
      "speaker\n"
     ]
    }
   ],
   "source": [
    "search_term = 'speaker'\n",
    "\n",
    "for speaker in df.speaker.apply(lambda s: s.strip().lower() if not pd.isnull(s) else s).unique():\n",
    "    if not pd.isnull(speaker) and search_term in speaker:\n",
    "        print(speaker)\n",
    "        pass"
   ]
  },
  {
   "cell_type": "markdown",
   "id": "legitimate-barrel",
   "metadata": {},
   "source": [
    "**Remark**: speaker 3, 2 and 1 might be relevant as their wordcounts are 1500, 800, 750, respectively. See preliminary_analysis notebook.\n",
    "\n",
    "But this is problematic because I would have listen and check if speaker 3 is the same speaker on different meetings."
   ]
  },
  {
   "cell_type": "markdown",
   "id": "falling-preliminary",
   "metadata": {},
   "source": [
    "## manually construct mapping of different version of the same name to that name\n",
    "Note that there is Thomas Wieser and just Thomas, two distinct persons."
   ]
  },
  {
   "cell_type": "code",
   "execution_count": 18,
   "id": "forced-sally",
   "metadata": {},
   "outputs": [],
   "source": [
    "amend_names = {\n",
    "    'wolfgang schäuble': [\n",
    "        'wolfgang schäuble',\n",
    "        'wolfgang schauble',\n",
    "        'wolfgang'\n",
    "    ],\n",
    "    'peter kažimír': [\n",
    "        'peter kažimír',\n",
    "        'peter kazimir'\n",
    "    ],\n",
    "    'michel sapin': [\n",
    "        'michel sapin',\n",
    "        'michel',\n",
    "        'translator'\n",
    "    ],\n",
    "    'maria luís albuquerque': [\n",
    "        'maria luís albuquerque',\n",
    "        'maria luís',\n",
    "        'maria luis albuquerque'\n",
    "    ],\n",
    "    'johan van overtveldt': [\n",
    "        'johan van overtveldt',\n",
    "        'johan'\n",
    "    ],\n",
    "    'benoît cœuré': [\n",
    "        'benoît cœuré',\n",
    "        'benoit couré',\n",
    "        'benoit cœuré'\n",
    "    ],\n",
    "    'hans jörg schelling': [\n",
    "        'hans jörg schelling',\n",
    "        'hans'\n",
    "    ],\n",
    "    'poul mathias thomsen': [\n",
    "        'paul thomsen',\n",
    "        'paul',\n",
    "        'poul thomsen'\n",
    "    ],\n",
    "    'luis de guindos': [\n",
    "        'luis de guindos',\n",
    "        'luis'\n",
    "    ],\n",
    "    'irina': [\n",
    "        'irina',\n",
    "        'irana'\n",
    "    ],\n",
    "    'jānis reirs': [\n",
    "        'yanis [not varoufakis]'\n",
    "    ],\n",
    "    'luca antonio ricci': [\n",
    "        'ricci'\n",
    "    ],\n",
    "    'thomas steffen': [\n",
    "        'thomas'\n",
    "    ],\n",
    "    'nikos theocarakis': [\n",
    "        'nikos theocarakis',\n",
    "        'greek representative'\n",
    "    ]\n",
    "}"
   ]
  },
  {
   "cell_type": "code",
   "execution_count": 19,
   "id": "gentle-precipitation",
   "metadata": {},
   "outputs": [],
   "source": [
    "# dump to json\n",
    "import json\n",
    "\n",
    "json = json.dumps(amend_names)\n",
    "with open('../data/euroleaks/amend_names.json', 'w') as f:\n",
    "    f.write(json)"
   ]
  },
  {
   "cell_type": "code",
   "execution_count": 20,
   "id": "practical-hierarchy",
   "metadata": {},
   "outputs": [],
   "source": [
    "# invert dict\n",
    "amend_names_inv = {value: key for key,values in amend_names.items() for value in values}"
   ]
  },
  {
   "cell_type": "code",
   "execution_count": 21,
   "id": "ceramic-idaho",
   "metadata": {},
   "outputs": [],
   "source": [
    "# amend speaker names\n",
    "df.speaker = df.speaker.apply(lambda s: amend_names_inv[s] if s in amend_names_inv.keys() else s)"
   ]
  },
  {
   "cell_type": "markdown",
   "id": "8d2cdfb3-32c5-421b-a2c6-7981c5f11769",
   "metadata": {},
   "source": [
    "## speaker identification based on context and listening"
   ]
  },
  {
   "cell_type": "code",
   "execution_count": 22,
   "id": "aea10a50-6df2-43b2-8c3b-6bd6491a3022",
   "metadata": {},
   "outputs": [],
   "source": [
    "df.speaker[np.logical_and(df.speaker == 'speaker 1', df.date=='2015-05-11 00:00:00')] = 'pierre moscovici'\n",
    "df.speaker[np.logical_and(df.speaker == 'speaker 2', df.date=='2015-05-11 00:00:00')] = 'benoît cœuré'"
   ]
  },
  {
   "cell_type": "code",
   "execution_count": 23,
   "id": "sixth-simon",
   "metadata": {},
   "outputs": [
    {
     "name": "stdout",
     "output_type": "stream",
     "text": [
      "jeroen dijsselbloem\n",
      "michael noonan\n",
      "pierre moscovici\n",
      "mario draghi\n",
      "wolfgang schäuble\n",
      "christine lagarde\n",
      "yanis varoufakis\n",
      "jānis reirs\n",
      "luis de guindos\n",
      "maria luís albuquerque\n",
      "marco buti\n",
      "thomas wieser\n",
      "declan costello\n",
      "benoît cœuré\n",
      "poul mathias thomsen\n",
      "nikos theocarakis\n",
      "thomas steffen\n",
      "irina\n",
      "nabil\n",
      "tooma\n",
      "tropa\n",
      "luca antonio ricci\n",
      "hans jörg schelling\n",
      "klaus regling\n",
      "peter kažimír\n",
      "martin\n",
      "dušan mramor\n",
      "michel sapin\n",
      "pier carlo padoan\n",
      "edward scicluna\n",
      "rimantas šadžius\n",
      "alexander stubb\n",
      "johan van overtveldt\n",
      "kian\n",
      "male\n",
      "harris georgiades\n",
      "luis pierre\n"
     ]
    }
   ],
   "source": [
    "for speaker in df.speaker.unique():\n",
    "    if 'speaker' not in speaker:\n",
    "        print(speaker)\n",
    "        pass"
   ]
  },
  {
   "cell_type": "markdown",
   "id": "streaming-classic",
   "metadata": {},
   "source": [
    "Manually map speaker to entity."
   ]
  },
  {
   "cell_type": "code",
   "execution_count": 24,
   "id": "architectural-veteran",
   "metadata": {},
   "outputs": [],
   "source": [
    "# DONE maybe update after you get an answer to your email; got the response, nothing to update\n",
    "\n",
    "# missing:\n",
    "# estonia (Maris Lauri, Sven Sester)\n",
    "# luxembourg (Pierre Gramegna)\n",
    "\n",
    "\n",
    "speaker_to_entity = {\n",
    "    'jeroen dijsselbloem': 'EG President', # the Netherlands\n",
    "    'michael noonan': 'Ireland',\n",
    "    'pierre moscovici': 'European Commission',\n",
    "    'mario draghi': 'ECB',\n",
    "    'wolfgang schäuble': 'Germany',\n",
    "    'thomas steffen': 'Germany', # State Secretary at the Federal Ministry of Finance under Schauble\n",
    "    'christine lagarde': 'IMF',\n",
    "    'yanis varoufakis': 'Greece',\n",
    "    'luis de guindos': 'Spain',\n",
    "    'maria luís albuquerque': 'Portugal',\n",
    "    'marco buti': 'European Commission', # https://ec.europa.eu/info/persons/director-general-marco-buti_en\n",
    "    'thomas wieser': 'EWG President', # economic and financial committee, president of EWG\n",
    "    'declan costello': 'European Commission', #dg ecfin\n",
    "    'benoît cœuré': 'ECB',\n",
    "    'poul mathias thomsen': 'IMF',\n",
    "    'nikos theocarakis': 'Greece',\n",
    "    'hans jörg schelling': 'Austria',\n",
    "    'klaus regling': 'ESM', # head of european stability mechanism\n",
    "    'peter kažimír': 'Slovakia',\n",
    "    'dušan mramor': 'Slovenia',\n",
    "    'michel sapin': 'France',\n",
    "    'pier carlo padoan': 'Italy',\n",
    "    'edward scicluna': 'Malta',\n",
    "    'rimantas šadžius': 'Lithuania',\n",
    "    'alexander stubb': 'Finland', # from May 29\n",
    "    'tooma': 'Finland', # based on saying they have two and a half weeks until elections on April 1\n",
    "    'johan van overtveldt': 'Belgium',\n",
    "    'harris georgiades': 'Cyprus',\n",
    "    'luis pierre': 'European Commission',\n",
    "    'jānis reirs': 'Latvia',\n",
    "    'luca antonio ricci': 'IMF' # https://www.imf.org/external/np/cv/AuthorCV.aspx?AuthID=108\n",
    "}"
   ]
  },
  {
   "cell_type": "code",
   "execution_count": 25,
   "id": "practical-ukraine",
   "metadata": {},
   "outputs": [],
   "source": [
    "# dump to json\n",
    "import json\n",
    "\n",
    "json = json.dumps(speaker_to_entity)\n",
    "with open('../data/euroleaks/name_to_entity.json', 'w') as f:\n",
    "    f.write(json)"
   ]
  },
  {
   "cell_type": "markdown",
   "id": "dd75a310-8bd1-4f7a-af35-848dd4ea95be",
   "metadata": {},
   "source": [
    "## print the mapping in alphabetical order, in format for table in latex"
   ]
  },
  {
   "cell_type": "code",
   "execution_count": 26,
   "id": "d7b6a005-a8c9-49e4-87ad-b63d6dbcee94",
   "metadata": {},
   "outputs": [
    {
     "name": "stdout",
     "output_type": "stream",
     "text": [
      "\\hline\n",
      "alexander stubb & Finland \\\\\n",
      "\\hline\n",
      "benoît cœuré & ECB \\\\\n",
      "\\hline\n",
      "christine lagarde & IMF \\\\\n",
      "\\hline\n",
      "declan costello & European Commission \\\\\n",
      "\\hline\n",
      "dušan mramor & Slovenia \\\\\n",
      "\\hline\n",
      "edward scicluna & Malta \\\\\n",
      "\\hline\n",
      "hans jörg schelling & Austria \\\\\n",
      "\\hline\n",
      "harris georgiades & Cyprus \\\\\n",
      "\\hline\n",
      "jeroen dijsselbloem & EG President \\\\\n",
      "\\hline\n",
      "johan van overtveldt & Belgium \\\\\n",
      "\\hline\n",
      "jānis reirs & Latvia \\\\\n",
      "\\hline\n",
      "klaus regling & ESM \\\\\n",
      "\\hline\n",
      "luca antonio ricci & IMF \\\\\n",
      "\\hline\n",
      "luis de guindos & Spain \\\\\n",
      "\\hline\n",
      "luis pierre & European Commission \\\\\n",
      "\\hline\n",
      "marco buti & European Commission \\\\\n",
      "\\hline\n",
      "maria luís albuquerque & Portugal \\\\\n",
      "\\hline\n",
      "mario draghi & ECB \\\\\n",
      "\\hline\n",
      "michael noonan & Ireland \\\\\n",
      "\\hline\n",
      "michel sapin & France \\\\\n",
      "\\hline\n",
      "nikos theocarakis & Greece \\\\\n",
      "\\hline\n",
      "peter kažimír & Slovakia \\\\\n",
      "\\hline\n",
      "pier carlo padoan & Italy \\\\\n",
      "\\hline\n",
      "pierre moscovici & European Commission \\\\\n",
      "\\hline\n",
      "poul mathias thomsen & IMF \\\\\n",
      "\\hline\n",
      "rimantas šadžius & Lithuania \\\\\n",
      "\\hline\n",
      "thomas steffen & Germany \\\\\n",
      "\\hline\n",
      "thomas wieser & EWG President \\\\\n",
      "\\hline\n",
      "tooma & Finland \\\\\n",
      "\\hline\n",
      "wolfgang schäuble & Germany \\\\\n",
      "\\hline\n",
      "yanis varoufakis & Greece \\\\\n"
     ]
    }
   ],
   "source": [
    "ix = np.argsort(list(speaker_to_entity.keys()))\n",
    "\n",
    "for s,e in zip(np.array(list(speaker_to_entity.keys()))[ix], np.array(list(speaker_to_entity.values()))[ix]):\n",
    "    print(f'\\\\hline\\n{s} & {e} \\\\\\\\')"
   ]
  },
  {
   "cell_type": "markdown",
   "id": "atomic-uruguay",
   "metadata": {},
   "source": [
    "### still don't know who these people represent..."
   ]
  },
  {
   "cell_type": "code",
   "execution_count": 27,
   "id": "national-tunnel",
   "metadata": {},
   "outputs": [
    {
     "name": "stdout",
     "output_type": "stream",
     "text": [
      "irina\n",
      "nabil\n",
      "tropa\n",
      "martin\n",
      "kian\n",
      "male\n"
     ]
    }
   ],
   "source": [
    "for speaker in df.speaker.unique():\n",
    "    if not ('speaker' in speaker or speaker in speaker_to_entity.keys()):\n",
    "        print(speaker)"
   ]
  },
  {
   "cell_type": "markdown",
   "id": "c74c0bf7-fba6-41dd-8dfb-ccee78066cef",
   "metadata": {},
   "source": [
    "When do these unidentified speakers mostly speak? Are they members of the EWG?"
   ]
  },
  {
   "cell_type": "code",
   "execution_count": 28,
   "id": "a66ff10f-85c8-474f-abf8-39c58609f283",
   "metadata": {},
   "outputs": [],
   "source": [
    "speaker_of_interest = 'luis pierre'"
   ]
  },
  {
   "cell_type": "code",
   "execution_count": 29,
   "id": "excessive-mitchell",
   "metadata": {},
   "outputs": [
    {
     "data": {
      "text/plain": [
       "array(['2015-07-01 00:00:00'], dtype=object)"
      ]
     },
     "execution_count": 29,
     "metadata": {},
     "output_type": "execute_result"
    }
   ],
   "source": [
    "df[df.speaker == speaker_of_interest].date.unique()"
   ]
  },
  {
   "cell_type": "code",
   "execution_count": 30,
   "id": "inclusive-airplane",
   "metadata": {},
   "outputs": [
    {
     "name": "stdout",
     "output_type": "stream",
     "text": [
      "– Ok. [I hear today ] that the circumstances have obviously changed, Greece is now in arrears to the IMF following a non payment and the EFSF program that expired. The Commission response to non-payment [inaudible] to propose reaction to member states [inaudible] and we discuss that morning in the College with the agreement of the Commission today we recommend that member states fully reserve the right to make a decision once there is more clarity on the situation. Yesterday Jeroen you asked the Institutions to prepare an assessment of Greece’s proposed amendments to the list of prior actions published on Sunday. This has been done on the basis of yesterday’s letter and the views outlined, are shared, by the three institutions, but of course everybody can express opinion. Firstly I must underline (crosstalk) that the document published on Sunday relates to discussions on the extension of the EFSF program.\n",
      "\n",
      "Moreover (inaudible) circumstances plus the last request for new two year ESM program which will involve larger financial needs means that changes will be needed compared to the reform package which was previously envisaged.\n",
      "\n",
      "Any new ESM program would of course have to be fully in line with the provisions of the ESM treaty. As a general remark on Greece’s proposals, many of them from our point of view lack clarity and specificity. So further discussions with the Greek authorities will be needed to fully asses the impact our teams have not yet have the chance to do this.\n",
      "\n",
      "(06:45)\n",
      "Um, some of the individual proposals could have merit as part of a comprehensive package. Proper assessment is nonetheless required [crosstalk] fiscal, financial [crosstalk] to make sure that any proposals which we (crosstalk). If I look more specifically at the proposals in order: First on VAT, um, the proposal to keep the VAT discount for islands goes in the wrong direction, not only compared to the proposal of the institutions but also earlier proposal by the Greek authorities during during (inaudible) backtracking. In addition to lower fiscal [inaudible] proposal would represent a missed opportunity to simplify the VAT system, a large administration is required to administer these discounts.\n",
      "\n",
      "(07:36)\n",
      "On fiscal structure measures and pensions: The government is proposing longer phasing periods for a number of measures, for example the elimination of [inaudible] changes on the IKA social top-up to be credible. This could be the way we need clarity on when the reforms will be legislated and implemented . We have been open to implement it, but not the legislating the latest phase out of EKA provided comprehensive measures are found.\n",
      "\n",
      "(08:14)\n",
      "On the labour market, the proposal also deviates from the proposal of the institutions, and finally on product market the letter is more specific on some reforms compared to Greece’s earlier proposals but they are less ambitious then the institution’s proposals, so more explanations should be given on proceeding with measures for example in response to the recommendation of [OECB 8:44] on the competition toolkit, we are not being able to evaluate some of proposals that have not been discussed in the so-called Brussels Group. Proposals to split DEI electricity company into separate legal entity on the state majority ownership also needs further careful strategy.\n",
      "\n",
      "(09:08)\n",
      "To sum up, I would say that at first site, measures proposed will not be sufficient to meet Greece’s fiscal targets and will need further clarity of a number of the ideas in order to accept them properly, some of the measures have not been discussed properly in the Brussels Group.\n",
      "\n",
      "But there is some progress here and there, especially on the pension area, and the Commission is ready to continue working along with the other institutions on a credible reform package for Greece that reflects the changed situation.\n",
      "\n",
      "Lastly, following yesterday’s Greek request for new ESM program ,we are preparing the risk assessment proposal and we stand ready to prepare an assessment of AGBD for the ESM program when you give us the mandate to do so. Obviously the recent speech of Prime Minister, um, well tends to give also some indication on when this could be done.\n",
      "\n"
     ]
    }
   ],
   "source": [
    "for row in df[df.speaker == speaker_of_interest].iterrows():\n",
    "    print(row[1].speech)\n",
    "    print()"
   ]
  },
  {
   "cell_type": "code",
   "execution_count": null,
   "id": "pacific-affiliate",
   "metadata": {},
   "outputs": [],
   "source": []
  }
 ],
 "metadata": {
  "kernelspec": {
   "display_name": "Python 3",
   "language": "python",
   "name": "python3"
  },
  "language_info": {
   "codemirror_mode": {
    "name": "ipython",
    "version": 3
   },
   "file_extension": ".py",
   "mimetype": "text/x-python",
   "name": "python",
   "nbconvert_exporter": "python",
   "pygments_lexer": "ipython3",
   "version": "3.8.5"
  }
 },
 "nbformat": 4,
 "nbformat_minor": 5
}
