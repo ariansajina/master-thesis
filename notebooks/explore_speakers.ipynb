{
 "cells": [
  {
   "cell_type": "markdown",
   "id": "narrow-niagara",
   "metadata": {},
   "source": [
    "# Analyze speakers"
   ]
  },
  {
   "cell_type": "code",
   "execution_count": 1,
   "id": "exotic-nowhere",
   "metadata": {},
   "outputs": [],
   "source": [
    "import numpy as np\n",
    "import pandas as pd\n",
    "import re\n",
    "import matplotlib.pyplot as plt"
   ]
  },
  {
   "cell_type": "code",
   "execution_count": 2,
   "id": "polar-machine",
   "metadata": {},
   "outputs": [
    {
     "data": {
      "text/html": [
       "<div>\n",
       "<style scoped>\n",
       "    .dataframe tbody tr th:only-of-type {\n",
       "        vertical-align: middle;\n",
       "    }\n",
       "\n",
       "    .dataframe tbody tr th {\n",
       "        vertical-align: top;\n",
       "    }\n",
       "\n",
       "    .dataframe thead th {\n",
       "        text-align: right;\n",
       "    }\n",
       "</style>\n",
       "<table border=\"1\" class=\"dataframe\">\n",
       "  <thead>\n",
       "    <tr style=\"text-align: right;\">\n",
       "      <th></th>\n",
       "      <th>speaker</th>\n",
       "      <th>speech</th>\n",
       "      <th>timestamp</th>\n",
       "      <th>date</th>\n",
       "    </tr>\n",
       "  </thead>\n",
       "  <tbody>\n",
       "    <tr>\n",
       "      <th>0</th>\n",
       "      <td>Jeroen Dijsselbloem</td>\n",
       "      <td>… of your responses or questions. And can I fi...</td>\n",
       "      <td>1900-01-01 00:00:00</td>\n",
       "      <td>2015-02-24 00:00:00</td>\n",
       "    </tr>\n",
       "    <tr>\n",
       "      <th>1</th>\n",
       "      <td>Speaker 2</td>\n",
       "      <td>Uh, yes, uh, thank you, Jeroen. Well, uh, comm...</td>\n",
       "      <td>1900-01-01 00:00:10</td>\n",
       "      <td>2015-02-24 00:00:00</td>\n",
       "    </tr>\n",
       "    <tr>\n",
       "      <th>2</th>\n",
       "      <td>Michael Noonan</td>\n",
       "      <td>Michael Noonan.</td>\n",
       "      <td>1900-01-01 00:01:27</td>\n",
       "      <td>2015-02-24 00:00:00</td>\n",
       "    </tr>\n",
       "    <tr>\n",
       "      <th>3</th>\n",
       "      <td>Speaker 2</td>\n",
       "      <td>Uh, it is therefore regrettable that, uh-</td>\n",
       "      <td>1900-01-01 00:01:29</td>\n",
       "      <td>2015-02-24 00:00:00</td>\n",
       "    </tr>\n",
       "    <tr>\n",
       "      <th>4</th>\n",
       "      <td>Speaker 3</td>\n",
       "      <td>Has entered the conference.</td>\n",
       "      <td>1900-01-01 00:01:33</td>\n",
       "      <td>2015-02-24 00:00:00</td>\n",
       "    </tr>\n",
       "  </tbody>\n",
       "</table>\n",
       "</div>"
      ],
      "text/plain": [
       "               speaker                                             speech  \\\n",
       "0  Jeroen Dijsselbloem  … of your responses or questions. And can I fi...   \n",
       "1            Speaker 2  Uh, yes, uh, thank you, Jeroen. Well, uh, comm...   \n",
       "2       Michael Noonan                                    Michael Noonan.   \n",
       "3            Speaker 2          Uh, it is therefore regrettable that, uh-   \n",
       "4            Speaker 3                        Has entered the conference.   \n",
       "\n",
       "             timestamp                 date  \n",
       "0  1900-01-01 00:00:00  2015-02-24 00:00:00  \n",
       "1  1900-01-01 00:00:10  2015-02-24 00:00:00  \n",
       "2  1900-01-01 00:01:27  2015-02-24 00:00:00  \n",
       "3  1900-01-01 00:01:29  2015-02-24 00:00:00  \n",
       "4  1900-01-01 00:01:33  2015-02-24 00:00:00  "
      ]
     },
     "execution_count": 2,
     "metadata": {},
     "output_type": "execute_result"
    }
   ],
   "source": [
    "df = pd.read_csv('../data/euroleaks/parsed.csv')\n",
    "df.head()"
   ]
  },
  {
   "cell_type": "markdown",
   "id": "pressing-thing",
   "metadata": {},
   "source": [
    "### handle missing speaker"
   ]
  },
  {
   "cell_type": "code",
   "execution_count": 3,
   "id": "authorized-phone",
   "metadata": {},
   "outputs": [
    {
     "data": {
      "text/html": [
       "<div>\n",
       "<style scoped>\n",
       "    .dataframe tbody tr th:only-of-type {\n",
       "        vertical-align: middle;\n",
       "    }\n",
       "\n",
       "    .dataframe tbody tr th {\n",
       "        vertical-align: top;\n",
       "    }\n",
       "\n",
       "    .dataframe thead th {\n",
       "        text-align: right;\n",
       "    }\n",
       "</style>\n",
       "<table border=\"1\" class=\"dataframe\">\n",
       "  <thead>\n",
       "    <tr style=\"text-align: right;\">\n",
       "      <th></th>\n",
       "      <th>speaker</th>\n",
       "      <th>speech</th>\n",
       "      <th>timestamp</th>\n",
       "      <th>date</th>\n",
       "    </tr>\n",
       "  </thead>\n",
       "  <tbody>\n",
       "    <tr>\n",
       "      <th>1394</th>\n",
       "      <td>NaN</td>\n",
       "      <td>Jeroen Dijsselbloem\\nNow, let’s see who is on ...</td>\n",
       "      <td>NaN</td>\n",
       "      <td>2015-07-01 00:00:00</td>\n",
       "    </tr>\n",
       "  </tbody>\n",
       "</table>\n",
       "</div>"
      ],
      "text/plain": [
       "     speaker                                             speech timestamp  \\\n",
       "1394     NaN  Jeroen Dijsselbloem\\nNow, let’s see who is on ...       NaN   \n",
       "\n",
       "                     date  \n",
       "1394  2015-07-01 00:00:00  "
      ]
     },
     "execution_count": 3,
     "metadata": {},
     "output_type": "execute_result"
    }
   ],
   "source": [
    "df[df.speaker.isnull()]"
   ]
  },
  {
   "cell_type": "code",
   "execution_count": 4,
   "id": "dental-apollo",
   "metadata": {},
   "outputs": [],
   "source": [
    "df.speaker.loc[df.speaker.isnull()] = 'jeroen dijsselbloem'"
   ]
  },
  {
   "cell_type": "markdown",
   "id": "ordinary-blair",
   "metadata": {},
   "source": [
    "## inspect unique speakers"
   ]
  },
  {
   "cell_type": "code",
   "execution_count": 5,
   "id": "spatial-transfer",
   "metadata": {},
   "outputs": [],
   "source": [
    "# strip and make lowercase\n",
    "df.speaker = df.speaker.apply(lambda s: s.strip().lower() if not pd.isnull(s) else s)"
   ]
  },
  {
   "cell_type": "code",
   "execution_count": 6,
   "id": "approximate-heart",
   "metadata": {},
   "outputs": [
    {
     "name": "stdout",
     "output_type": "stream",
     "text": [
      "jeroen dijsselbloem\n",
      "michael noonan\n",
      "pierre moscovici\n",
      "mario draghi\n",
      "wolfgang schäuble\n",
      "christine lagarde\n",
      "yanis varoufakis\n",
      "yanis [not varoufakis]\n",
      "luis de guindos\n",
      "maria luís\n",
      "marco buti\n",
      "thomas wieser\n",
      "declan costello\n",
      "computer\n",
      "benoit couré\n",
      "paul thomsen\n",
      "greek representative\n",
      "thomas\n",
      "benoit cœuré\n",
      "nikos theocarakis\n",
      "irina\n",
      "irana\n",
      "nabil\n",
      "tooma\n",
      "tropa\n",
      "ricci\n",
      "hans\n",
      "paul\n",
      "klaus regling\n",
      "peter kažimír\n",
      "martin\n",
      "hans jörg schelling\n",
      "dušan mramor\n",
      "michel sapin\n",
      "pier carlo padoan\n",
      "edward scicluna\n",
      "rimantas šadžius\n",
      "poul thomsen\n",
      "alexander stubb\n",
      "inaudible\n",
      "yanis varoufakis [privately]\n",
      "johan van overtveldt\n",
      "maria luís albuquerque\n",
      "benoît cœuré\n",
      "kian\n",
      "male\n",
      "group\n",
      "johan\n",
      "maria luis albuquerque\n",
      "harris georgiades\n",
      "translator\n",
      "michel\n",
      "luis pierre\n",
      "luis\n",
      "peter kazimir\n",
      "wolfgang schauble\n",
      "wolfgang\n"
     ]
    }
   ],
   "source": [
    "# display all the names\n",
    "\n",
    "for s in df.speaker.unique():\n",
    "    if 'speaker' not in s:\n",
    "        print(s)"
   ]
  },
  {
   "cell_type": "markdown",
   "id": "modular-easter",
   "metadata": {},
   "source": [
    "### drop some rows\n",
    "For instance those which transcribe words said by computer."
   ]
  },
  {
   "cell_type": "code",
   "execution_count": 7,
   "id": "focused-highlight",
   "metadata": {},
   "outputs": [],
   "source": [
    "#df[df.speech == 'Has entered the conference.']"
   ]
  },
  {
   "cell_type": "code",
   "execution_count": 8,
   "id": "opposed-thesaurus",
   "metadata": {},
   "outputs": [],
   "source": [
    "df = df[df.speech != 'Has entered the conference.']"
   ]
  },
  {
   "cell_type": "code",
   "execution_count": 9,
   "id": "aggressive-miracle",
   "metadata": {},
   "outputs": [],
   "source": [
    "#df[df.speaker == 'group']"
   ]
  },
  {
   "cell_type": "code",
   "execution_count": 10,
   "id": "wired-coral",
   "metadata": {},
   "outputs": [],
   "source": [
    "df = df[df.speaker != 'group']"
   ]
  },
  {
   "cell_type": "code",
   "execution_count": 11,
   "id": "twenty-guess",
   "metadata": {},
   "outputs": [],
   "source": [
    "#df[df.speaker == 'inaudible']"
   ]
  },
  {
   "cell_type": "code",
   "execution_count": 12,
   "id": "electronic-document",
   "metadata": {},
   "outputs": [],
   "source": [
    "df = df[df.speaker != 'inaudible']"
   ]
  },
  {
   "cell_type": "code",
   "execution_count": 13,
   "id": "least-productivity",
   "metadata": {},
   "outputs": [],
   "source": [
    "#for row in df[df.speaker == 'inaudible'].iterrows():\n",
    "#    print(row[1].speech)\n",
    "#    print()"
   ]
  },
  {
   "cell_type": "markdown",
   "id": "intermediate-public",
   "metadata": {},
   "source": [
    "Unidentified speakers:"
   ]
  },
  {
   "cell_type": "code",
   "execution_count": 14,
   "id": "contained-horizon",
   "metadata": {},
   "outputs": [
    {
     "name": "stdout",
     "output_type": "stream",
     "text": [
      "speaker 2\n",
      "speaker 5\n",
      "speaker 9\n",
      "speaker 10\n",
      "speaker 6\n",
      "speaker 7\n",
      "speaker 8\n",
      "speaker 11\n",
      "speaker 12\n",
      "speaker 13\n",
      "speaker 14\n",
      "speaker 19\n",
      "speaker 1\n",
      "speaker 3\n",
      "unidentified speaker\n",
      "speaker 16\n",
      "speaker 20\n",
      "speaker 4\n",
      "speaker 17\n",
      "speaker 18\n",
      "speaker 21\n",
      "speaker\n"
     ]
    }
   ],
   "source": [
    "search_term = 'speaker'\n",
    "\n",
    "for speaker in df.speaker.apply(lambda s: s.strip().lower() if not pd.isnull(s) else s).unique():\n",
    "    if not pd.isnull(speaker) and search_term in speaker:\n",
    "        print(speaker)\n",
    "        pass"
   ]
  },
  {
   "cell_type": "markdown",
   "id": "falling-preliminary",
   "metadata": {},
   "source": [
    "### manually construct mapping of different version of the same name to that name\n",
    "Note that there is Thomas Wieser and just Thomas, two distinct persons."
   ]
  },
  {
   "cell_type": "code",
   "execution_count": 15,
   "id": "forced-sally",
   "metadata": {},
   "outputs": [],
   "source": [
    "amend_names = {\n",
    "    'wolfgang schäuble': [\n",
    "        'wolfgang schäuble',\n",
    "        'wolfgang schauble',\n",
    "        'wolfgang'\n",
    "    ],\n",
    "    'peter kažimír': [\n",
    "        'peter kažimír',\n",
    "        'peter kazimir'\n",
    "    ],\n",
    "    'michel sapin': [\n",
    "        'michel sapin',\n",
    "        'michel'\n",
    "    ],\n",
    "    'maria luís albuquerque': [\n",
    "        'maria luís albuquerque',\n",
    "        'maria luís',\n",
    "        'maria luis albuquerque'\n",
    "    ],\n",
    "    'johan van overtveldt': [\n",
    "        'johan van overtveldt',\n",
    "        'johan'\n",
    "    ],\n",
    "    'benoît cœuré': [\n",
    "        'benoît cœuré',\n",
    "        'benoit couré',\n",
    "        'benoit cœuré'\n",
    "    ],\n",
    "    'hans jörg schelling': [\n",
    "        'hans jörg schelling',\n",
    "        'hans'\n",
    "    ],\n",
    "    'poul mathias thomsen': [\n",
    "        'paul thomsen',\n",
    "        'paul',\n",
    "        'poul thomsen'\n",
    "    ],\n",
    "    'yanis varoufakis': [\n",
    "        'yanis varoufakis',\n",
    "        'yanis varoufakis [privately]'\n",
    "    ],\n",
    "    'luis de guindos': [\n",
    "        'luis de guindos',\n",
    "        'luis'\n",
    "    ],\n",
    "    'irina': [\n",
    "        'irina',\n",
    "        'irana'\n",
    "    ],\n",
    "    'jānis reirs': [\n",
    "        'yanis [not varoufakis]'\n",
    "    ],\n",
    "    'luca antonio ricci': [\n",
    "        'ricci'\n",
    "    ],\n",
    "    'thomas steffen': [\n",
    "        'thomas'\n",
    "    ]\n",
    "}"
   ]
  },
  {
   "cell_type": "code",
   "execution_count": 20,
   "id": "gentle-precipitation",
   "metadata": {},
   "outputs": [],
   "source": [
    "# dump to json\n",
    "import json\n",
    "\n",
    "json = json.dumps(amend_names)\n",
    "with open('../data/euroleaks/amend_names.json', 'w') as f:\n",
    "    f.write(json)"
   ]
  },
  {
   "cell_type": "code",
   "execution_count": 16,
   "id": "practical-hierarchy",
   "metadata": {},
   "outputs": [],
   "source": [
    "# invert dict\n",
    "amend_names_inv = {value: key for key,values in amend_names.items() for value in values}"
   ]
  },
  {
   "cell_type": "code",
   "execution_count": 17,
   "id": "ceramic-idaho",
   "metadata": {},
   "outputs": [],
   "source": [
    "# amend speaker names\n",
    "df.speaker = df.speaker.apply(lambda s: amend_names_inv[s] if s in amend_names_inv.keys() else s)"
   ]
  },
  {
   "cell_type": "code",
   "execution_count": 18,
   "id": "sixth-simon",
   "metadata": {},
   "outputs": [
    {
     "name": "stdout",
     "output_type": "stream",
     "text": [
      "jeroen dijsselbloem\n",
      "michael noonan\n",
      "pierre moscovici\n",
      "mario draghi\n",
      "wolfgang schäuble\n",
      "christine lagarde\n",
      "yanis varoufakis\n",
      "jānis reirs\n",
      "luis de guindos\n",
      "maria luís albuquerque\n",
      "marco buti\n",
      "thomas wieser\n",
      "declan costello\n",
      "benoît cœuré\n",
      "poul mathias thomsen\n",
      "greek representative\n",
      "thomas steffen\n",
      "nikos theocarakis\n",
      "irina\n",
      "nabil\n",
      "tooma\n",
      "tropa\n",
      "luca antonio ricci\n",
      "hans jörg schelling\n",
      "klaus regling\n",
      "peter kažimír\n",
      "martin\n",
      "dušan mramor\n",
      "michel sapin\n",
      "pier carlo padoan\n",
      "edward scicluna\n",
      "rimantas šadžius\n",
      "alexander stubb\n",
      "johan van overtveldt\n",
      "kian\n",
      "male\n",
      "harris georgiades\n",
      "translator\n",
      "luis pierre\n"
     ]
    }
   ],
   "source": [
    "for speaker in df.speaker.unique():\n",
    "    if 'speaker' not in speaker:\n",
    "        print(speaker)\n",
    "        pass"
   ]
  },
  {
   "cell_type": "markdown",
   "id": "streaming-classic",
   "metadata": {},
   "source": [
    "Manually map speaker to entity."
   ]
  },
  {
   "cell_type": "code",
   "execution_count": 32,
   "id": "architectural-veteran",
   "metadata": {},
   "outputs": [],
   "source": [
    "# TODO maybe update after you get an answer to your email\n",
    "\n",
    "# missing:\n",
    "# estonia (Maris Lauri, Sven Sester)\n",
    "# luxembourg (Pierre Gramegna)\n",
    "\n",
    "\n",
    "speaker_to_entity = {\n",
    "    'jeroen dijsselbloem': 'eurogroup president', # the netherlands\n",
    "    'michael noonan': 'ireland',\n",
    "    'pierre moscovici': 'european commission',\n",
    "    'mario draghi': 'ecb',\n",
    "    'wolfgang schäuble': 'germany',\n",
    "    'thomas steffen': 'germany', # State Secretary at the Federal Ministry of Finance under Schauble\n",
    "    'christine lagarde': 'imf',\n",
    "    'yanis varoufakis': 'greece',\n",
    "    'luis de guindos': 'spain',\n",
    "    'maria luís albuquerque': 'portugal',\n",
    "    'marco buti': 'european commission',\n",
    "    'thomas wieser': 'efc', # economic and financial committee\n",
    "    'declan costello': 'european commission', #dg ecfin\n",
    "    'benoît cœuré': 'ecb',\n",
    "    'poul mathias thomsen': 'imf',\n",
    "    'greek representative': 'greece',\n",
    "    'nikos theocarakis': 'greece',\n",
    "    'hans jörg schelling': 'austria',\n",
    "    'klaus regling': 'esm', # head of european stability mechanism\n",
    "    'peter kažimír': 'slovakia',\n",
    "    'dušan mramor': 'slovenia',\n",
    "    'michel sapin': 'france',\n",
    "    'translator': 'france',\n",
    "    'pier carlo padoan': 'italy',\n",
    "    'edward scicluna': 'malta',\n",
    "    'rimantas šadžius': 'lithuania',\n",
    "    'alexander stubb': 'finland', # from May 29\n",
    "    'tooma': 'finland', # based on saying they have two and a half weeks until elections on April 1\n",
    "    'johan van overtveldt': 'belgium',\n",
    "    'harris georgiades': 'cyprus',\n",
    "    'luis pierre': 'european commission',\n",
    "    'jānis reirs': 'latvia',\n",
    "    'luca antonio ricci': 'imf'\n",
    "}"
   ]
  },
  {
   "cell_type": "code",
   "execution_count": 33,
   "id": "practical-ukraine",
   "metadata": {},
   "outputs": [],
   "source": [
    "# dump to json\n",
    "import json\n",
    "\n",
    "json = json.dumps(speaker_to_entity)\n",
    "with open('../data/euroleaks/name_to_entity.json', 'w') as f:\n",
    "    f.write(json)"
   ]
  },
  {
   "cell_type": "markdown",
   "id": "atomic-uruguay",
   "metadata": {},
   "source": [
    "#### still don't know who these people represent..."
   ]
  },
  {
   "cell_type": "code",
   "execution_count": 34,
   "id": "national-tunnel",
   "metadata": {},
   "outputs": [
    {
     "name": "stdout",
     "output_type": "stream",
     "text": [
      "irina\n",
      "27\n",
      "\n",
      "nabil\n",
      "87\n",
      "\n",
      "tropa\n",
      "254\n",
      "\n",
      "martin\n",
      "73\n",
      "\n",
      "kian\n",
      "165\n",
      "\n",
      "male\n",
      "639\n",
      "\n"
     ]
    }
   ],
   "source": [
    "for speaker in df.speaker.unique():\n",
    "    if not ('speaker' in speaker or speaker in speaker_to_entity.keys()):\n",
    "        print(speaker)\n",
    "        print(df[df.speaker == speaker].wordcount.sum())\n",
    "        print()\n",
    "        pass"
   ]
  },
  {
   "cell_type": "code",
   "execution_count": 35,
   "id": "bronze-minnesota",
   "metadata": {},
   "outputs": [
    {
     "data": {
      "text/plain": [
       "array(['2015-04-01 00:00:00'], dtype=object)"
      ]
     },
     "execution_count": 35,
     "metadata": {},
     "output_type": "execute_result"
    }
   ],
   "source": [
    "df[df.speaker == 'nabil'].date.unique()"
   ]
  },
  {
   "cell_type": "code",
   "execution_count": 36,
   "id": "municipal-blood",
   "metadata": {},
   "outputs": [
    {
     "name": "stdout",
     "output_type": "stream",
     "text": [
      "[inaudible 00:45:06] It’s [Nabil 00:45:08]. Yes, uh, my questions, um, because, um, uh, we have been talking about Nikos measures which were submitted by the Greek side. Um, frankly they have been already news in a lot of m- media, so, um, it would be really very helpful to get this list of measures so that we actually know what we are talking about. And I understand from Nikos that he’s going to send to the members of the, the EWG which would be very helpful.\n",
      "\n"
     ]
    }
   ],
   "source": [
    "for row in df[df.speaker == 'nabil'].iterrows():\n",
    "    print(row[1].speech)\n",
    "    print()"
   ]
  }
 ],
 "metadata": {
  "kernelspec": {
   "display_name": "Python 3",
   "language": "python",
   "name": "python3"
  },
  "language_info": {
   "codemirror_mode": {
    "name": "ipython",
    "version": 3
   },
   "file_extension": ".py",
   "mimetype": "text/x-python",
   "name": "python",
   "nbconvert_exporter": "python",
   "pygments_lexer": "ipython3",
   "version": "3.8.5"
  }
 },
 "nbformat": 4,
 "nbformat_minor": 5
}
