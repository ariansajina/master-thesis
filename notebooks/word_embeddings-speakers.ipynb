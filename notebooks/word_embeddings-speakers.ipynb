{
 "cells": [
  {
   "cell_type": "code",
   "execution_count": 1,
   "id": "bearing-relative",
   "metadata": {},
   "outputs": [],
   "source": [
    "import time\n",
    "\n",
    "import numpy as np\n",
    "import pandas as pd\n",
    "import matplotlib.pyplot as plt"
   ]
  },
  {
   "cell_type": "markdown",
   "id": "liable-rotation",
   "metadata": {},
   "source": [
    "# Train own embedding using doc2vec from gensim"
   ]
  },
  {
   "cell_type": "code",
   "execution_count": 2,
   "id": "planned-constraint",
   "metadata": {},
   "outputs": [
    {
     "data": {
      "text/html": [
       "<div>\n",
       "<style scoped>\n",
       "    .dataframe tbody tr th:only-of-type {\n",
       "        vertical-align: middle;\n",
       "    }\n",
       "\n",
       "    .dataframe tbody tr th {\n",
       "        vertical-align: top;\n",
       "    }\n",
       "\n",
       "    .dataframe thead th {\n",
       "        text-align: right;\n",
       "    }\n",
       "</style>\n",
       "<table border=\"1\" class=\"dataframe\">\n",
       "  <thead>\n",
       "    <tr style=\"text-align: right;\">\n",
       "      <th></th>\n",
       "      <th>speaker</th>\n",
       "      <th>speech</th>\n",
       "      <th>timestamp</th>\n",
       "      <th>date</th>\n",
       "    </tr>\n",
       "  </thead>\n",
       "  <tbody>\n",
       "    <tr>\n",
       "      <th>0</th>\n",
       "      <td>jeroen dijsselbloem</td>\n",
       "      <td>… of your responses or questions. and can i fi...</td>\n",
       "      <td>1900-01-01 00:00:00</td>\n",
       "      <td>2015-02-24 00:00:00</td>\n",
       "    </tr>\n",
       "    <tr>\n",
       "      <th>1</th>\n",
       "      <td>speaker 2</td>\n",
       "      <td>uh, yes, uh, thank you, jeroen. well, uh, comm...</td>\n",
       "      <td>1900-01-01 00:00:10</td>\n",
       "      <td>2015-02-24 00:00:00</td>\n",
       "    </tr>\n",
       "    <tr>\n",
       "      <th>2</th>\n",
       "      <td>michael noonan</td>\n",
       "      <td>michael noonan.</td>\n",
       "      <td>1900-01-01 00:01:27</td>\n",
       "      <td>2015-02-24 00:00:00</td>\n",
       "    </tr>\n",
       "    <tr>\n",
       "      <th>3</th>\n",
       "      <td>speaker 2</td>\n",
       "      <td>uh, it is therefore regrettable that, uh-</td>\n",
       "      <td>1900-01-01 00:01:29</td>\n",
       "      <td>2015-02-24 00:00:00</td>\n",
       "    </tr>\n",
       "    <tr>\n",
       "      <th>4</th>\n",
       "      <td>speaker 2</td>\n",
       "      <td>… that the letter by the minister does not, uh...</td>\n",
       "      <td>1900-01-01 00:01:37</td>\n",
       "      <td>2015-02-24 00:00:00</td>\n",
       "    </tr>\n",
       "  </tbody>\n",
       "</table>\n",
       "</div>"
      ],
      "text/plain": [
       "               speaker                                             speech  \\\n",
       "0  jeroen dijsselbloem  … of your responses or questions. and can i fi...   \n",
       "1            speaker 2  uh, yes, uh, thank you, jeroen. well, uh, comm...   \n",
       "2       michael noonan                                    michael noonan.   \n",
       "3            speaker 2          uh, it is therefore regrettable that, uh-   \n",
       "4            speaker 2  … that the letter by the minister does not, uh...   \n",
       "\n",
       "             timestamp                 date  \n",
       "0  1900-01-01 00:00:00  2015-02-24 00:00:00  \n",
       "1  1900-01-01 00:00:10  2015-02-24 00:00:00  \n",
       "2  1900-01-01 00:01:27  2015-02-24 00:00:00  \n",
       "3  1900-01-01 00:01:29  2015-02-24 00:00:00  \n",
       "4  1900-01-01 00:01:37  2015-02-24 00:00:00  "
      ]
     },
     "execution_count": 2,
     "metadata": {},
     "output_type": "execute_result"
    }
   ],
   "source": [
    "df = pd.read_csv('../data/euroleaks/cleaned.csv')\n",
    "df.head()"
   ]
  },
  {
   "cell_type": "code",
   "execution_count": 3,
   "id": "naval-windows",
   "metadata": {},
   "outputs": [],
   "source": [
    "# see examples of cleaned speech\n",
    "#for s in df.speech[:5]:\n",
    "#    print(s.strip(), '\\n')"
   ]
  },
  {
   "cell_type": "markdown",
   "id": "lined-production",
   "metadata": {},
   "source": [
    "### stopwords"
   ]
  },
  {
   "cell_type": "code",
   "execution_count": 4,
   "id": "coated-creativity",
   "metadata": {},
   "outputs": [],
   "source": [
    "import json\n",
    "\n",
    "with open('../data/euroleaks/stopwords.json', 'r') as f:\n",
    "    stopwords = json.load(f)"
   ]
  },
  {
   "cell_type": "code",
   "execution_count": 5,
   "id": "assigned-stranger",
   "metadata": {},
   "outputs": [
    {
     "data": {
      "text/plain": [
       "['names',\n",
       " 'artifacts',\n",
       " 'weak_speaker_discriminants_0.5',\n",
       " 'weak_speaker_discriminants_0.1']"
      ]
     },
     "execution_count": 5,
     "metadata": {},
     "output_type": "execute_result"
    }
   ],
   "source": [
    "list(stopwords.keys())"
   ]
  },
  {
   "cell_type": "markdown",
   "id": "alleged-edmonton",
   "metadata": {},
   "source": [
    "### collocations"
   ]
  },
  {
   "cell_type": "code",
   "execution_count": 6,
   "id": "abandoned-sector",
   "metadata": {},
   "outputs": [],
   "source": [
    "def apply_trigram_colloc(s, set_colloc):\n",
    "    res = s.lower()\n",
    "    for b1,b2,b3 in set_colloc:\n",
    "        res = res.replace(f'{b1} {b2} {b3}', f'{b1}_{b2}_{b3}')\n",
    "    return res\n",
    "\n",
    "def apply_bigram_colloc(s, set_colloc):\n",
    "    res = s.lower()\n",
    "    for b1,b2 in set_colloc:\n",
    "        res = res.replace(f'{b1} {b2}', f'{b1}_{b2}')\n",
    "    return res\n",
    "\n",
    "trigram_colloc = {('euro', 'working', 'group')}\n",
    "\n",
    "bigram_colloc = {\n",
    "    ('20th', 'february'),\n",
    "    ('aide', 'memoire'),\n",
    "    ('anti', 'corruption'),\n",
    "    ('brussel', 'group'),\n",
    "    ('capital', 'control'),\n",
    "    ('central', 'bank'),\n",
    "    ('collective', 'bargaining'),\n",
    "    ('common', 'ground'),\n",
    "    ('debt', 'sustainability'),\n",
    "    ('govern', 'council'),\n",
    "    ('growth', 'friendly'),\n",
    "    ('interest', 'rate'),\n",
    "    ('labor', 'market'),\n",
    "    ('maximum', 'flexibility'),\n",
    "    ('member', 'state'),\n",
    "    ('minimum', 'wage'),\n",
    "    ('primary', 'surplus'),\n",
    "    ('prime', 'minister'),\n",
    "    ('prior', 'action'),\n",
    "    ('product', 'market'),\n",
    "    ('second', 'letter'),\n",
    "    ('smp', 'bond'),\n",
    "    ('structural', 'reform'),\n",
    "    ('successful', 'conclusion'),\n",
    "    ('technical', 'team'),\n",
    "    ('real', 'estate')\n",
    "}"
   ]
  },
  {
   "cell_type": "markdown",
   "id": "rough-headquarters",
   "metadata": {},
   "source": [
    "### quantify how much each speaker spoke to filter out insignificant speakers"
   ]
  },
  {
   "cell_type": "code",
   "execution_count": 7,
   "id": "hairy-radius",
   "metadata": {},
   "outputs": [],
   "source": [
    "from sklearn.feature_extraction.text import CountVectorizer\n",
    "\n",
    "vectorizer = CountVectorizer(stop_words='english') # does tokenozation under the hood\n",
    "X = vectorizer.fit_transform(df.speech)\n",
    "\n",
    "df['wordcount'] = X.toarray().sum(axis=1)\n",
    "wc_by_speaker = df.groupby('speaker')['wordcount'].sum()"
   ]
  },
  {
   "cell_type": "code",
   "execution_count": 8,
   "id": "hollywood-vulnerability",
   "metadata": {},
   "outputs": [
    {
     "data": {
      "text/plain": [
       "(1492, 4644)"
      ]
     },
     "execution_count": 8,
     "metadata": {},
     "output_type": "execute_result"
    }
   ],
   "source": [
    "X.shape"
   ]
  },
  {
   "cell_type": "code",
   "execution_count": 9,
   "id": "native-maine",
   "metadata": {},
   "outputs": [
    {
     "data": {
      "text/plain": [
       "count       59.000000\n",
       "mean       636.000000\n",
       "std       1573.796409\n",
       "min          2.000000\n",
       "25%         65.500000\n",
       "50%        174.000000\n",
       "75%        657.500000\n",
       "max      10270.000000\n",
       "Name: wordcount, dtype: float64"
      ]
     },
     "execution_count": 9,
     "metadata": {},
     "output_type": "execute_result"
    }
   ],
   "source": [
    "wc_by_speaker.describe()"
   ]
  },
  {
   "cell_type": "code",
   "execution_count": 10,
   "id": "specific-apparatus",
   "metadata": {},
   "outputs": [],
   "source": [
    "wc_threshold = 200\n",
    "\n",
    "insignificant_speakers = wc_by_speaker.index[wc_by_speaker < wc_threshold].to_numpy()"
   ]
  },
  {
   "cell_type": "markdown",
   "id": "current-highway",
   "metadata": {},
   "source": [
    "### tokenize, lemmatize, remove stopwords, apply collocations\n",
    "- https://radimrehurek.com/gensim/models/doc2vec.html\n",
    "- https://radimrehurek.com/gensim/models/doc2vec.html#gensim.models.doc2vec.TaggedDocument"
   ]
  },
  {
   "cell_type": "code",
   "execution_count": 11,
   "id": "exempt-harassment",
   "metadata": {},
   "outputs": [],
   "source": [
    "import spacy\n",
    "\n",
    "nlp = spacy.load('en_core_web_sm')  # speed\n",
    "#nlp = spacy.load('en_core_web_trf') # accuracy, but very slow"
   ]
  },
  {
   "cell_type": "code",
   "execution_count": 12,
   "id": "adolescent-african",
   "metadata": {},
   "outputs": [],
   "source": [
    "def filter_token(token):\n",
    "    return token.pos_ in {'ADJ', 'ADV', 'NOUN', 'PROPN', 'VERB'}\\\n",
    "        and not token.is_stop\\\n",
    "        and not token.text in stopwords['names']\\\n",
    "        and not token.text in stopwords['artifacts']\\\n",
    "        and not token.text in stopwords['weak_speaker_discriminants_0.1']\\\n",
    "        and len(token.text) > 1\n",
    "\n",
    "# and not token.text in stopwords['weak_speaker_discriminants_0.1']\\\n",
    "\n",
    "#def filter_token(token):\n",
    "#    return token.pos_ in {'ADJ', 'ADV', 'NOUN', 'PROPN', 'VERB'}\\\n",
    "#        and len(token.text) > 1"
   ]
  },
  {
   "cell_type": "code",
   "execution_count": 13,
   "id": "wrapped-disclosure",
   "metadata": {},
   "outputs": [],
   "source": [
    "grouped = df.drop(columns=['timestamp','date']).groupby('speaker').apply(lambda s: ' '.join(s.speech))"
   ]
  },
  {
   "cell_type": "code",
   "execution_count": 14,
   "id": "charming-disorder",
   "metadata": {},
   "outputs": [
    {
     "name": "stdout",
     "output_type": "stream",
     "text": [
      "Time taken: 0.92 mins\n"
     ]
    }
   ],
   "source": [
    "from gensim.models import Doc2Vec\n",
    "from gensim.models.doc2vec import TaggedDocument\n",
    "\n",
    "t = time.time()\n",
    "\n",
    "documents = []\n",
    "for speaker, text in grouped.iteritems():\n",
    "    \n",
    "    doc = nlp(text)\n",
    "    \n",
    "    doc_ = [token.lemma_ for sentence in doc.sents for token in sentence\n",
    "                if filter_token(token)\n",
    "            ]\n",
    "    \n",
    "    # apply collocations\n",
    "    doc_ = apply_bigram_colloc(apply_trigram_colloc(' '.join(doc_), trigram_colloc), bigram_colloc).split()\n",
    "    \n",
    "    # maybe add date to tags, or country/intitution?\n",
    "    # TaggedDocument takes list of words as input\n",
    "    documents.append(TaggedDocument(doc_, tags=[speaker]))\n",
    "    \n",
    "print(f'Time taken: {round((time.time() - t) / 60, 2)} mins')"
   ]
  },
  {
   "cell_type": "code",
   "execution_count": 15,
   "id": "protecting-journalist",
   "metadata": {},
   "outputs": [
    {
     "name": "stdout",
     "output_type": "stream",
     "text": [
      "There are 59 documents (=speakers).\n"
     ]
    }
   ],
   "source": [
    "print(f'There are {len(documents)} documents (=speakers).')"
   ]
  },
  {
   "cell_type": "markdown",
   "id": "convenient-stroke",
   "metadata": {},
   "source": [
    "#### get sentence length statistics"
   ]
  },
  {
   "cell_type": "code",
   "execution_count": 16,
   "id": "rental-specialist",
   "metadata": {},
   "outputs": [
    {
     "name": "stdout",
     "output_type": "stream",
     "text": [
      "Time taken: 2.19 mins\n"
     ]
    }
   ],
   "source": [
    "t = time.time()\n",
    "\n",
    "doc = nlp(' '.join(df.speech))\n",
    "\n",
    "sentences = [[token.lemma_ for token in sentence\n",
    "                if filter_token(token)\n",
    "              ] for sentence in doc.sents\n",
    "            ]\n",
    "\n",
    "print(f'Time taken: {round((time.time() - t) / 60, 2)} mins')"
   ]
  },
  {
   "cell_type": "code",
   "execution_count": 17,
   "id": "metallic-lodging",
   "metadata": {},
   "outputs": [],
   "source": [
    "# apply collocations\n",
    "sentences = [apply_bigram_colloc(apply_trigram_colloc(' '.join(s), trigram_colloc), bigram_colloc).split() for s in sentences]"
   ]
  },
  {
   "cell_type": "code",
   "execution_count": 18,
   "id": "animated-senegal",
   "metadata": {},
   "outputs": [
    {
     "data": {
      "text/plain": [
       "count    4547.000000\n",
       "mean        6.808885\n",
       "std         6.219248\n",
       "min         0.000000\n",
       "25%         2.000000\n",
       "50%         5.000000\n",
       "75%        10.000000\n",
       "max        57.000000\n",
       "dtype: float64"
      ]
     },
     "execution_count": 18,
     "metadata": {},
     "output_type": "execute_result"
    }
   ],
   "source": [
    "# number of words in a sentence statistics\n",
    "len_sentences = [len(sent) for sent in sentences]\n",
    "pd.Series(len_sentences).describe()"
   ]
  },
  {
   "cell_type": "code",
   "execution_count": 19,
   "id": "comparative-former",
   "metadata": {},
   "outputs": [
    {
     "data": {
      "image/png": "[encoded data removed]",
      "text/plain": [
       "<Figure size 432x288 with 1 Axes>"
      ]
     },
     "metadata": {
      "needs_background": "light"
     },
     "output_type": "display_data"
    }
   ],
   "source": [
    "_ = plt.hist(len_sentences, bins=range(31), range=(0,30))"
   ]
  },
  {
   "cell_type": "markdown",
   "id": "filled-lounge",
   "metadata": {},
   "source": [
    "#### get speech length statistics"
   ]
  },
  {
   "cell_type": "code",
   "execution_count": 20,
   "id": "acute-helena",
   "metadata": {},
   "outputs": [],
   "source": [
    "# join speech of consecutive rows with same speaker\n",
    "\n",
    "df_squeezed = pd.DataFrame(columns=['speaker','speech','date'])\n",
    "\n",
    "previous_speaker = None\n",
    "speech = None\n",
    "previous_date = None\n",
    "\n",
    "for index, data in df.iterrows():\n",
    "    \n",
    "    if not previous_speaker and not speech and not previous_date:\n",
    "        previous_speaker = data.speaker\n",
    "        speech = data.speech\n",
    "        previous_date = data.date\n",
    "    elif data.speaker == previous_speaker and previous_date == data.date:\n",
    "        speech = ' '.join((speech, data.speech))\n",
    "    else:\n",
    "        df_squeezed.loc[len(df_squeezed.index)] = [\n",
    "            previous_speaker,\n",
    "            speech,\n",
    "            previous_date\n",
    "        ]\n",
    "        previous_speaker = data.speaker\n",
    "        speech = data.speech\n",
    "        previous_date = data.date"
   ]
  },
  {
   "cell_type": "code",
   "execution_count": 21,
   "id": "caring-psychiatry",
   "metadata": {},
   "outputs": [
    {
     "name": "stdout",
     "output_type": "stream",
     "text": [
      "Time taken: 1.06 mins\n"
     ]
    }
   ],
   "source": [
    "t = time.time()\n",
    "\n",
    "docs = [\n",
    "    ' '.join([token.lemma_ for sentence in nlp(doc).sents for token in sentence\n",
    "              if filter_token(token)\n",
    "             ])\n",
    "             for doc in df_squeezed.speech.to_numpy()\n",
    "]\n",
    "\n",
    "print(f'Time taken: {round((time.time() - t) / 60, 2)} mins')"
   ]
  },
  {
   "cell_type": "code",
   "execution_count": 22,
   "id": "duplicate-plant",
   "metadata": {},
   "outputs": [],
   "source": [
    "# apply collocations\n",
    "speeches = [apply_bigram_colloc(apply_trigram_colloc(' '.join(sentences), trigram_colloc), bigram_colloc).split() for sentences in docs]"
   ]
  },
  {
   "cell_type": "code",
   "execution_count": 25,
   "id": "equivalent-filling",
   "metadata": {},
   "outputs": [
    {
     "data": {
      "text/plain": [
       "count     740.000000\n",
       "mean      274.285135\n",
       "std       672.342848\n",
       "min         0.000000\n",
       "25%         5.000000\n",
       "50%        37.000000\n",
       "75%       252.000000\n",
       "max      6874.000000\n",
       "dtype: float64"
      ]
     },
     "execution_count": 25,
     "metadata": {},
     "output_type": "execute_result"
    }
   ],
   "source": [
    "# number of words in a speech statistics\n",
    "len_speeches = [len(speech) for speech in speeches]\n",
    "pd.Series(len_speeches).describe()"
   ]
  },
  {
   "cell_type": "code",
   "execution_count": 24,
   "id": "consecutive-portable",
   "metadata": {},
   "outputs": [
    {
     "data": {
      "image/png": "[encoded data removed]",
      "text/plain": [
       "<Figure size 432x288 with 1 Axes>"
      ]
     },
     "metadata": {
      "needs_background": "light"
     },
     "output_type": "display_data"
    }
   ],
   "source": [
    "_ = plt.hist(len_speeches)"
   ]
  },
  {
   "cell_type": "markdown",
   "id": "smart-morocco",
   "metadata": {},
   "source": [
    "### Doc2Vec"
   ]
  },
  {
   "cell_type": "code",
   "execution_count": 153,
   "id": "divine-deviation",
   "metadata": {},
   "outputs": [],
   "source": [
    "d2v_model = Doc2Vec(vector_size=300,\n",
    "                    window=3,\n",
    "                    sample=1e-5,\n",
    "                    negative=20, # usually 5-20\n",
    "                    min_count=10,\n",
    "                    #alpha=0.03,\n",
    "                    #min_alpha=0.000007,\n",
    "                    workers=-1,\n",
    "                    epochs=10000,\n",
    "                    dm=0,\n",
    "                    dbow_words=1\n",
    ")"
   ]
  },
  {
   "cell_type": "code",
   "execution_count": 154,
   "id": "worthy-hello",
   "metadata": {},
   "outputs": [
    {
     "name": "stdout",
     "output_type": "stream",
     "text": [
      "There are 30965 total words.\n"
     ]
    }
   ],
   "source": [
    "print(f'There are {np.sum([len(d.words) for d in documents])} total words.')"
   ]
  },
  {
   "cell_type": "markdown",
   "id": "conceptual-vampire",
   "metadata": {},
   "source": [
    "**Is this enough for the word embedding to capture word relations?**"
   ]
  },
  {
   "cell_type": "code",
   "execution_count": 155,
   "id": "bizarre-satin",
   "metadata": {},
   "outputs": [],
   "source": [
    "d2v_model.build_vocab(documents)"
   ]
  },
  {
   "cell_type": "code",
   "execution_count": 156,
   "id": "confirmed-danger",
   "metadata": {},
   "outputs": [
    {
     "name": "stdout",
     "output_type": "stream",
     "text": [
      "Time taken: 0.0 mins\n"
     ]
    }
   ],
   "source": [
    "t = time.time()\n",
    "\n",
    "d2v_model.train(documents, \n",
    "                total_examples=d2v_model.corpus_count, \n",
    "                epochs=100)#d2v_model.epochs)\n",
    "\n",
    "print(f'Time taken: {round((time.time() - t) / 60, 2)} mins')"
   ]
  },
  {
   "cell_type": "code",
   "execution_count": 157,
   "id": "acting-cabin",
   "metadata": {
    "scrolled": true
   },
   "outputs": [
    {
     "data": {
      "text/html": [
       "<div>\n",
       "<style scoped>\n",
       "    .dataframe tbody tr th:only-of-type {\n",
       "        vertical-align: middle;\n",
       "    }\n",
       "\n",
       "    .dataframe tbody tr th {\n",
       "        vertical-align: top;\n",
       "    }\n",
       "\n",
       "    .dataframe thead th {\n",
       "        text-align: right;\n",
       "    }\n",
       "</style>\n",
       "<table border=\"1\" class=\"dataframe\">\n",
       "  <thead>\n",
       "    <tr style=\"text-align: right;\">\n",
       "      <th></th>\n",
       "      <th>greece</th>\n",
       "      <th>institution</th>\n",
       "      <th>imf</th>\n",
       "      <th>ecb</th>\n",
       "      <th>commission</th>\n",
       "      <th>government</th>\n",
       "      <th>referendum</th>\n",
       "      <th>mou</th>\n",
       "      <th>debt</th>\n",
       "      <th>pension</th>\n",
       "      <th>bank</th>\n",
       "      <th>bond</th>\n",
       "      <th>crisis</th>\n",
       "    </tr>\n",
       "  </thead>\n",
       "  <tbody>\n",
       "    <tr>\n",
       "      <th>0</th>\n",
       "      <td>work</td>\n",
       "      <td>make</td>\n",
       "      <td>board</td>\n",
       "      <td>parliament</td>\n",
       "      <td>little</td>\n",
       "      <td>effectively</td>\n",
       "      <td>sorry</td>\n",
       "      <td>direction</td>\n",
       "      <td>tomorrow</td>\n",
       "      <td>future</td>\n",
       "      <td>budget</td>\n",
       "      <td>fiscal</td>\n",
       "      <td>public</td>\n",
       "    </tr>\n",
       "    <tr>\n",
       "      <th>1</th>\n",
       "      <td>political</td>\n",
       "      <td>package</td>\n",
       "      <td>requirement</td>\n",
       "      <td>system</td>\n",
       "      <td>positive</td>\n",
       "      <td>pace</td>\n",
       "      <td>gap</td>\n",
       "      <td>possible</td>\n",
       "      <td>june</td>\n",
       "      <td>review</td>\n",
       "      <td>clearly</td>\n",
       "      <td>generate</td>\n",
       "      <td>reaction</td>\n",
       "    </tr>\n",
       "    <tr>\n",
       "      <th>2</th>\n",
       "      <td>solution</td>\n",
       "      <td>suppose</td>\n",
       "      <td>call</td>\n",
       "      <td>away</td>\n",
       "      <td>asset</td>\n",
       "      <td>describe</td>\n",
       "      <td>previous</td>\n",
       "      <td>high</td>\n",
       "      <td>version</td>\n",
       "      <td>tonight</td>\n",
       "      <td>medium</td>\n",
       "      <td>main</td>\n",
       "      <td>consider</td>\n",
       "    </tr>\n",
       "    <tr>\n",
       "      <th>3</th>\n",
       "      <td>debt</td>\n",
       "      <td>solution</td>\n",
       "      <td>reconvene</td>\n",
       "      <td>month</td>\n",
       "      <td>briefly</td>\n",
       "      <td>measure</td>\n",
       "      <td>independent</td>\n",
       "      <td>say</td>\n",
       "      <td>outcome</td>\n",
       "      <td>track</td>\n",
       "      <td>commitment</td>\n",
       "      <td>additional</td>\n",
       "      <td>confidence</td>\n",
       "    </tr>\n",
       "    <tr>\n",
       "      <th>4</th>\n",
       "      <td>commitment</td>\n",
       "      <td>include</td>\n",
       "      <td>require</td>\n",
       "      <td>undertake</td>\n",
       "      <td>team</td>\n",
       "      <td>finish</td>\n",
       "      <td>viable</td>\n",
       "      <td>opinion</td>\n",
       "      <td>simple</td>\n",
       "      <td>minute</td>\n",
       "      <td>year</td>\n",
       "      <td>administration</td>\n",
       "      <td>want</td>\n",
       "    </tr>\n",
       "    <tr>\n",
       "      <th>5</th>\n",
       "      <td>europe</td>\n",
       "      <td>ago</td>\n",
       "      <td>important</td>\n",
       "      <td>financial</td>\n",
       "      <td>stick</td>\n",
       "      <td>represent</td>\n",
       "      <td>different</td>\n",
       "      <td>concerned</td>\n",
       "      <td>convergence</td>\n",
       "      <td>forward</td>\n",
       "      <td>enter</td>\n",
       "      <td>suppose</td>\n",
       "      <td>social</td>\n",
       "    </tr>\n",
       "    <tr>\n",
       "      <th>6</th>\n",
       "      <td>focus</td>\n",
       "      <td>political</td>\n",
       "      <td>design</td>\n",
       "      <td>beginning</td>\n",
       "      <td>relevant</td>\n",
       "      <td>quickly</td>\n",
       "      <td>call</td>\n",
       "      <td>set</td>\n",
       "      <td>set</td>\n",
       "      <td>deposit</td>\n",
       "      <td>balance</td>\n",
       "      <td>critical</td>\n",
       "      <td>private</td>\n",
       "    </tr>\n",
       "    <tr>\n",
       "      <th>7</th>\n",
       "      <td>join</td>\n",
       "      <td>true</td>\n",
       "      <td>confirm</td>\n",
       "      <td>answer</td>\n",
       "      <td>future</td>\n",
       "      <td>analysis</td>\n",
       "      <td>code</td>\n",
       "      <td>produce</td>\n",
       "      <td>esm</td>\n",
       "      <td>option</td>\n",
       "      <td>pretty</td>\n",
       "      <td>principle</td>\n",
       "      <td>refer</td>\n",
       "    </tr>\n",
       "    <tr>\n",
       "      <th>8</th>\n",
       "      <td>indicate</td>\n",
       "      <td>extra</td>\n",
       "      <td>instead</td>\n",
       "      <td>inform</td>\n",
       "      <td>cut</td>\n",
       "      <td>bring</td>\n",
       "      <td>stage</td>\n",
       "      <td>vote</td>\n",
       "      <td>prepare</td>\n",
       "      <td>consistent</td>\n",
       "      <td>successful</td>\n",
       "      <td>small</td>\n",
       "      <td>sla</td>\n",
       "    </tr>\n",
       "    <tr>\n",
       "      <th>9</th>\n",
       "      <td>prime</td>\n",
       "      <td>reflect</td>\n",
       "      <td>cut</td>\n",
       "      <td>value</td>\n",
       "      <td>communicate</td>\n",
       "      <td>old</td>\n",
       "      <td>prospect</td>\n",
       "      <td>fully</td>\n",
       "      <td>greek</td>\n",
       "      <td>hour</td>\n",
       "      <td>plan</td>\n",
       "      <td>flexibility</td>\n",
       "      <td>page</td>\n",
       "    </tr>\n",
       "  </tbody>\n",
       "</table>\n",
       "</div>"
      ],
      "text/plain": [
       "       greece institution          imf         ecb   commission   government  \\\n",
       "0        work        make        board  parliament       little  effectively   \n",
       "1   political     package  requirement      system     positive         pace   \n",
       "2    solution     suppose         call        away        asset     describe   \n",
       "3        debt    solution    reconvene       month      briefly      measure   \n",
       "4  commitment     include      require   undertake         team       finish   \n",
       "5      europe         ago    important   financial        stick    represent   \n",
       "6       focus   political       design   beginning     relevant      quickly   \n",
       "7        join        true      confirm      answer       future     analysis   \n",
       "8    indicate       extra      instead      inform          cut        bring   \n",
       "9       prime     reflect          cut       value  communicate          old   \n",
       "\n",
       "    referendum        mou         debt     pension        bank  \\\n",
       "0        sorry  direction     tomorrow      future      budget   \n",
       "1          gap   possible         june      review     clearly   \n",
       "2     previous       high      version     tonight      medium   \n",
       "3  independent        say      outcome       track  commitment   \n",
       "4       viable    opinion       simple      minute        year   \n",
       "5    different  concerned  convergence     forward       enter   \n",
       "6         call        set          set     deposit     balance   \n",
       "7         code    produce          esm      option      pretty   \n",
       "8        stage       vote      prepare  consistent  successful   \n",
       "9     prospect      fully        greek        hour        plan   \n",
       "\n",
       "             bond      crisis  \n",
       "0          fiscal      public  \n",
       "1        generate    reaction  \n",
       "2            main    consider  \n",
       "3      additional  confidence  \n",
       "4  administration        want  \n",
       "5         suppose      social  \n",
       "6        critical     private  \n",
       "7       principle       refer  \n",
       "8           small         sla  \n",
       "9     flexibility        page  "
      ]
     },
     "execution_count": 157,
     "metadata": {},
     "output_type": "execute_result"
    }
   ],
   "source": [
    "keywords = [\n",
    "    'greece',\n",
    "    'institution',\n",
    "    'imf',\n",
    "    'ecb',\n",
    "    'commission',\n",
    "    'government',\n",
    "    'referendum',\n",
    "    'mou',\n",
    "    'debt',\n",
    "    'debt_sustainability',\n",
    "    'pension',\n",
    "    'bank',\n",
    "    'bond',\n",
    "    'crisis'\n",
    "]\n",
    "\n",
    "df_closest = pd.DataFrame({word.split('_')[0]: [n.split('_')[0] for n,score in d2v_model.wv.most_similar(word)] for word in keywords})\n",
    "df_closest"
   ]
  },
  {
   "cell_type": "code",
   "execution_count": 158,
   "id": "blessed-ecuador",
   "metadata": {},
   "outputs": [
    {
     "data": {
      "text/plain": [
       "[('benoît cœuré', 0.10908900201320648),\n",
       " ('jānis reirs', 0.08759872615337372),\n",
       " ('speaker 10', 0.08291041851043701),\n",
       " ('maria luís albuquerque', 0.07647712528705597),\n",
       " ('edward scicluna', 0.07468631118535995),\n",
       " ('martin', 0.0735548734664917),\n",
       " ('speaker 18', 0.07275982201099396),\n",
       " ('jeroen dijsselbloem', 0.07184631377458572),\n",
       " ('christine lagarde', 0.06929035484790802),\n",
       " ('thomas steffen', 0.06520646065473557)]"
      ]
     },
     "execution_count": 158,
     "metadata": {},
     "output_type": "execute_result"
    }
   ],
   "source": [
    "d2v_model.dv.most_similar('yanis varoufakis', topn=10)"
   ]
  },
  {
   "cell_type": "code",
   "execution_count": 159,
   "id": "presidential-analysis",
   "metadata": {},
   "outputs": [
    {
     "data": {
      "text/plain": [
       "[('thomas steffen', 0.14806018769741058),\n",
       " ('speaker 19', 0.1395573914051056),\n",
       " ('kian', 0.1284523755311966),\n",
       " ('tropa', 0.11643417179584503),\n",
       " ('dušan mramor', 0.1144581139087677),\n",
       " ('edward scicluna', 0.09188489615917206),\n",
       " ('marco buti', 0.08791420608758926),\n",
       " ('speaker 11', 0.07277753949165344),\n",
       " ('nikos theocarakis', 0.07247788459062576),\n",
       " ('yanis varoufakis', 0.06929033994674683)]"
      ]
     },
     "execution_count": 159,
     "metadata": {},
     "output_type": "execute_result"
    }
   ],
   "source": [
    "d2v_model.dv.most_similar('christine lagarde', topn=10)"
   ]
  },
  {
   "cell_type": "code",
   "execution_count": 160,
   "id": "federal-music",
   "metadata": {},
   "outputs": [
    {
     "data": {
      "text/plain": [
       "(300,)"
      ]
     },
     "execution_count": 160,
     "metadata": {},
     "output_type": "execute_result"
    }
   ],
   "source": [
    "d2v_model.dv['yanis varoufakis'].shape"
   ]
  },
  {
   "cell_type": "markdown",
   "id": "quiet-genius",
   "metadata": {},
   "source": [
    "#### get speaker embeddings"
   ]
  },
  {
   "cell_type": "code",
   "execution_count": 161,
   "id": "continuing-stockholm",
   "metadata": {},
   "outputs": [],
   "source": [
    "dvecs = {}\n",
    "for speaker in np.unique(df.speaker):\n",
    "    if speaker not in insignificant_speakers\\\n",
    "    and 'speaker' not in speaker:\n",
    "        dvecs[speaker] = d2v_model.dv[speaker]"
   ]
  },
  {
   "cell_type": "code",
   "execution_count": 162,
   "id": "hindu-anthony",
   "metadata": {},
   "outputs": [],
   "source": [
    "X = pd.DataFrame(dvecs).to_numpy().T"
   ]
  },
  {
   "cell_type": "markdown",
   "id": "ongoing-mistress",
   "metadata": {},
   "source": [
    "### PCA"
   ]
  },
  {
   "cell_type": "code",
   "execution_count": 163,
   "id": "australian-parallel",
   "metadata": {},
   "outputs": [],
   "source": [
    "# center and rescale\n",
    "X = (X - X.mean(axis=0)) / X.std(axis=0)"
   ]
  },
  {
   "cell_type": "code",
   "execution_count": 164,
   "id": "automated-offer",
   "metadata": {},
   "outputs": [
    {
     "data": {
      "text/plain": [
       "[<matplotlib.lines.Line2D at 0x7f9dd136ba00>]"
      ]
     },
     "execution_count": 164,
     "metadata": {},
     "output_type": "execute_result"
    },
    {
     "data": {
      "image/png": "[encoded data removed]",
      "text/plain": [
       "<Figure size 432x288 with 1 Axes>"
      ]
     },
     "metadata": {
      "needs_background": "light"
     },
     "output_type": "display_data"
    }
   ],
   "source": [
    "from sklearn.preprocessing import StandardScaler\n",
    "from sklearn.decomposition import PCA\n",
    "\n",
    "# center and rescale\n",
    "X = StandardScaler().fit_transform(X)\n",
    "\n",
    "pca = PCA()\n",
    "X_reduced = pca.fit_transform(X)\n",
    "\n",
    "plt.plot(pca.explained_variance_ratio_)"
   ]
  },
  {
   "cell_type": "code",
   "execution_count": 165,
   "id": "nearby-parent",
   "metadata": {},
   "outputs": [
    {
     "data": {
      "text/plain": [
       "0.99999994"
      ]
     },
     "execution_count": 165,
     "metadata": {},
     "output_type": "execute_result"
    }
   ],
   "source": [
    "np.sum(pca.explained_variance_ratio_)"
   ]
  },
  {
   "cell_type": "markdown",
   "id": "electronic-settle",
   "metadata": {},
   "source": [
    "### agglomerative clustering\n",
    "Should I use PCA before clustering?"
   ]
  },
  {
   "cell_type": "code",
   "execution_count": 166,
   "id": "integrated-senator",
   "metadata": {},
   "outputs": [],
   "source": [
    "from sklearn.cluster import AgglomerativeClustering\n",
    "\n",
    "number_of_clusters = 2\n",
    "\n",
    "agg = AgglomerativeClustering(n_clusters=number_of_clusters) # Ward linkage by default\n",
    "clusters = agg.fit_predict(X)"
   ]
  },
  {
   "cell_type": "code",
   "execution_count": 167,
   "id": "perfect-reward",
   "metadata": {},
   "outputs": [],
   "source": [
    "#clusters"
   ]
  },
  {
   "cell_type": "code",
   "execution_count": 168,
   "id": "leading-campbell",
   "metadata": {
    "scrolled": true
   },
   "outputs": [],
   "source": [
    "#for k in range(number_of_clusters):\n",
    "#    print(f'cluster {k}:')\n",
    "#    for speaker in np.array(list(dvecs.keys()))[clusters==k]:\n",
    "#        print(f'\\t{speaker}')\n",
    "#    print()"
   ]
  },
  {
   "cell_type": "markdown",
   "id": "faced-scheduling",
   "metadata": {},
   "source": [
    "### dendogram"
   ]
  },
  {
   "cell_type": "code",
   "execution_count": 169,
   "id": "unavailable-ordering",
   "metadata": {},
   "outputs": [
    {
     "data": {
      "text/plain": [
       "(22, 22)"
      ]
     },
     "execution_count": 169,
     "metadata": {},
     "output_type": "execute_result"
    }
   ],
   "source": [
    "X_reduced.shape"
   ]
  },
  {
   "cell_type": "code",
   "execution_count": 170,
   "id": "corporate-mattress",
   "metadata": {},
   "outputs": [],
   "source": [
    "from scipy.cluster import hierarchy\n",
    "\n",
    "Z = hierarchy.linkage(X_reduced, method='ward')\n",
    "#Z = hierarchy.linkage(X, method='ward')"
   ]
  },
  {
   "cell_type": "code",
   "execution_count": 171,
   "id": "fatal-interaction",
   "metadata": {},
   "outputs": [
    {
     "data": {
      "text/plain": [
       "{'jeroen dijsselbloem': 'EG President',\n",
       " 'michael noonan': 'Ireland',\n",
       " 'pierre moscovici': 'European Commission',\n",
       " 'mario draghi': 'ECB',\n",
       " 'wolfgang schäuble': 'Germany',\n",
       " 'thomas steffen': 'Germany',\n",
       " 'christine lagarde': 'IMF',\n",
       " 'yanis varoufakis': 'Greece',\n",
       " 'luis de guindos': 'Spain',\n",
       " 'maria luís albuquerque': 'Portugal',\n",
       " 'marco buti': 'European Commission',\n",
       " 'thomas wieser': 'EFC',\n",
       " 'declan costello': 'European Commission',\n",
       " 'benoît cœuré': 'ECB',\n",
       " 'poul mathias thomsen': 'IMF',\n",
       " 'nikos theocarakis': 'Greece',\n",
       " 'hans jörg schelling': 'Austria',\n",
       " 'klaus regling': 'ESM',\n",
       " 'peter kažimír': 'Slovakia',\n",
       " 'dušan mramor': 'Slovenia',\n",
       " 'michel sapin': 'France',\n",
       " 'pier carlo padoan': 'Italy',\n",
       " 'edward scicluna': 'Malta',\n",
       " 'rimantas šadžius': 'Lithuania',\n",
       " 'alexander stubb': 'Finland',\n",
       " 'tooma': 'Finland',\n",
       " 'johan van overtveldt': 'Belgium',\n",
       " 'harris georgiades': 'Cyprus',\n",
       " 'luis pierre': 'European Commission',\n",
       " 'jānis reirs': 'Latvia',\n",
       " 'luca antonio ricci': 'IMF'}"
      ]
     },
     "execution_count": 171,
     "metadata": {},
     "output_type": "execute_result"
    }
   ],
   "source": [
    "speaker_to_entity"
   ]
  },
  {
   "cell_type": "code",
   "execution_count": 174,
   "id": "adjusted-addiction",
   "metadata": {
    "scrolled": false
   },
   "outputs": [
    {
     "data": {
      "text/plain": [
       "<matplotlib.legend.Legend at 0x7f9dd34ad3a0>"
      ]
     },
     "execution_count": 174,
     "metadata": {},
     "output_type": "execute_result"
    },
    {
     "data": {
      "image/png": "[encoded data removed]",
      "text/plain": [
       "<Figure size 504x504 with 1 Axes>"
      ]
     },
     "metadata": {
      "needs_background": "light"
     },
     "output_type": "display_data"
    }
   ],
   "source": [
    "# get labels\n",
    "with open('../data/euroleaks/name_to_entity.json', 'r') as f:\n",
    "    speaker_to_entity = json.load(f)\n",
    "\n",
    "institutions = ['ECB', 'IMF', 'European Commission', 'ESM', 'EFC']\n",
    "markers = ['\\u25a0', '\\u25cb']\n",
    "labels = pd.Series(dvecs.keys()).apply(lambda s: \n",
    "        f'{markers[0] if speaker_to_entity[s] in institutions else markers[1]} {s.title()} ({speaker_to_entity[s] if s in speaker_to_entity.keys() else \"Unkown\"})').to_numpy()\n",
    "\n",
    "# plot\n",
    "fig, ax = plt.subplots(figsize=(7,7))\n",
    "\n",
    "# dendrogram\n",
    "dn = hierarchy.dendrogram(Z, \n",
    "                          orientation='left', \n",
    "                          labels=labels,\n",
    "                          ax=ax\n",
    "                         )\n",
    "\n",
    "from matplotlib.lines import Line2D\n",
    "legend_elements = [\n",
    "    Line2D([0], [0], marker='s', label='institution', color='k', linestyle='None'),\n",
    "    Line2D([0], [0], marker='o', label='country', color='k', markerfacecolor='w', linestyle='None')\n",
    "]\n",
    "ax.legend(handles=legend_elements, loc='upper left')\n",
    "\n",
    "# table - closest words\n",
    "#topn = 5\n",
    "#closest_words = pd.DataFrame(\n",
    "#        data = np.array([[t[0] for t in d2v_model.wv.most_similar(positive=[d2v_model.dv[speaker]], topn=topn)] for speaker in dvecs.keys()]),\n",
    "#        index = labels\n",
    "#)\n",
    "\n",
    "#closest_words = closest_words.T[dn['ivl']].T\n",
    "\n",
    "#axes[1].table(cellText=closest_words.to_numpy(),\n",
    "#             loc='upper center')\n",
    "#axes[1].axis('off')\n",
    "\n",
    "#axes[1].matshow(np.zeros(closest_words.shape), cmap='Greys')\n",
    "\n",
    "# xticks\n",
    "#_ = axes[1].set_xticks([])\n",
    "#_ = axes[1].set_xticklabels([])\n",
    "# yticks\n",
    "#_ = axes[1].set_yticks([])\n",
    "#_ = axes[1].set_yticklabels([])\n",
    "\n",
    "# grids\n",
    "#axes[1].set_xticks(np.arange(-.53, closest_words.shape[1]*3, 3), minor=True)\n",
    "#axes[1].set_yticks(np.arange(-.53, closest_words.shape[0], 1), minor=True)\n",
    "#axes[1].grid(which='minor', color='black', linestyle='-', linewidth=.5, alpha=.4)\n",
    "\n",
    "# values\n",
    "#for (i,j),z in np.ndenumerate(closest_words.to_numpy()[::-1]):\n",
    "#    axes[1].text(j*3+1, i, z, ha='center', va='center')#, fontsize='small')\n",
    "\n",
    "#fig.tight_layout()\n",
    "#fig.subplots_adjust(wspace=0.05)"
   ]
  },
  {
   "cell_type": "markdown",
   "id": "durable-huntington",
   "metadata": {},
   "source": [
    "**TODO**: but closest words should be closest in original (ndim=300) or PCA-reduced space?"
   ]
  },
  {
   "cell_type": "code",
   "execution_count": 38,
   "id": "excess-johnson",
   "metadata": {},
   "outputs": [
    {
     "data": {
      "text/html": [
       "<div>\n",
       "<style scoped>\n",
       "    .dataframe tbody tr th:only-of-type {\n",
       "        vertical-align: middle;\n",
       "    }\n",
       "\n",
       "    .dataframe tbody tr th {\n",
       "        vertical-align: top;\n",
       "    }\n",
       "\n",
       "    .dataframe thead th {\n",
       "        text-align: right;\n",
       "    }\n",
       "</style>\n",
       "<table border=\"1\" class=\"dataframe\">\n",
       "  <thead>\n",
       "    <tr style=\"text-align: right;\">\n",
       "      <th></th>\n",
       "      <th>0</th>\n",
       "      <th>1</th>\n",
       "      <th>2</th>\n",
       "      <th>3</th>\n",
       "      <th>4</th>\n",
       "    </tr>\n",
       "  </thead>\n",
       "  <tbody>\n",
       "    <tr>\n",
       "      <th>Alexander Stubb (Finland)</th>\n",
       "      <td>colleague</td>\n",
       "      <td>amendment</td>\n",
       "      <td>finish</td>\n",
       "      <td>structural_reform</td>\n",
       "      <td>collect</td>\n",
       "    </tr>\n",
       "    <tr>\n",
       "      <th>Benoît Cœuré (ECB)</th>\n",
       "      <td>reconvene</td>\n",
       "      <td>reject</td>\n",
       "      <td>willing</td>\n",
       "      <td>process</td>\n",
       "      <td>estimate</td>\n",
       "    </tr>\n",
       "    <tr>\n",
       "      <th>Christine Lagarde (IMF)</th>\n",
       "      <td>spirit</td>\n",
       "      <td>expire</td>\n",
       "      <td>ecb</td>\n",
       "      <td>discuss</td>\n",
       "      <td>respect</td>\n",
       "    </tr>\n",
       "    <tr>\n",
       "      <th>Declan Costello (European Commission)</th>\n",
       "      <td>think</td>\n",
       "      <td>saturday</td>\n",
       "      <td>assure</td>\n",
       "      <td>balance</td>\n",
       "      <td>remain</td>\n",
       "    </tr>\n",
       "    <tr>\n",
       "      <th>Edward Scicluna (Malta)</th>\n",
       "      <td>implication</td>\n",
       "      <td>use</td>\n",
       "      <td>additional</td>\n",
       "      <td>funding</td>\n",
       "      <td>approach</td>\n",
       "    </tr>\n",
       "    <tr>\n",
       "      <th>Jeroen Dijsselbloem (EG President)</th>\n",
       "      <td>technical_team</td>\n",
       "      <td>week</td>\n",
       "      <td>labor</td>\n",
       "      <td>service</td>\n",
       "      <td>labor_market</td>\n",
       "    </tr>\n",
       "    <tr>\n",
       "      <th>Klaus Regling (ESM)</th>\n",
       "      <td>strong</td>\n",
       "      <td>forward</td>\n",
       "      <td>bank</td>\n",
       "      <td>reject</td>\n",
       "      <td>provision</td>\n",
       "    </tr>\n",
       "    <tr>\n",
       "      <th>Luis De Guindos (Spain)</th>\n",
       "      <td>significant</td>\n",
       "      <td>help</td>\n",
       "      <td>reject</td>\n",
       "      <td>brief</td>\n",
       "      <td>hfsf</td>\n",
       "    </tr>\n",
       "    <tr>\n",
       "      <th>Luis Pierre (European Commission)</th>\n",
       "      <td>essential</td>\n",
       "      <td>happen</td>\n",
       "      <td>flexibility</td>\n",
       "      <td>moment</td>\n",
       "      <td>technical</td>\n",
       "    </tr>\n",
       "    <tr>\n",
       "      <th>Marco Buti (European Commission)</th>\n",
       "      <td>measure</td>\n",
       "      <td>build</td>\n",
       "      <td>place</td>\n",
       "      <td>lack</td>\n",
       "      <td>sufficiently</td>\n",
       "    </tr>\n",
       "    <tr>\n",
       "      <th>Mario Draghi (ECB)</th>\n",
       "      <td>stress</td>\n",
       "      <td>submit</td>\n",
       "      <td>windfall</td>\n",
       "      <td>second</td>\n",
       "      <td>framework</td>\n",
       "    </tr>\n",
       "    <tr>\n",
       "      <th>Michael Noonan (Ireland)</th>\n",
       "      <td>appear</td>\n",
       "      <td>ewg</td>\n",
       "      <td>gap</td>\n",
       "      <td>raise</td>\n",
       "      <td>maintain</td>\n",
       "    </tr>\n",
       "    <tr>\n",
       "      <th>Michel Sapin (France)</th>\n",
       "      <td>mean</td>\n",
       "      <td>sector</td>\n",
       "      <td>debt_sustainability</td>\n",
       "      <td>current</td>\n",
       "      <td>lead</td>\n",
       "    </tr>\n",
       "    <tr>\n",
       "      <th>Nikos Theocarakis (Greece)</th>\n",
       "      <td>decide</td>\n",
       "      <td>exactly</td>\n",
       "      <td>look</td>\n",
       "      <td>analysis</td>\n",
       "      <td>send</td>\n",
       "    </tr>\n",
       "    <tr>\n",
       "      <th>Pier Carlo Padoan (Italy)</th>\n",
       "      <td>prepare</td>\n",
       "      <td>yesterday</td>\n",
       "      <td>clearly</td>\n",
       "      <td>immediately</td>\n",
       "      <td>ewg</td>\n",
       "    </tr>\n",
       "    <tr>\n",
       "      <th>Pierre Moscovici (European Commission)</th>\n",
       "      <td>available</td>\n",
       "      <td>sufficiently</td>\n",
       "      <td>sustainable</td>\n",
       "      <td>term</td>\n",
       "      <td>kind</td>\n",
       "    </tr>\n",
       "    <tr>\n",
       "      <th>Poul Mathias Thomsen (IMF)</th>\n",
       "      <td>clear</td>\n",
       "      <td>describe</td>\n",
       "      <td>purpose</td>\n",
       "      <td>national</td>\n",
       "      <td>remark</td>\n",
       "    </tr>\n",
       "    <tr>\n",
       "      <th>Rimantas Šadžius (Lithuania)</th>\n",
       "      <td>finance</td>\n",
       "      <td>achieve</td>\n",
       "      <td>intend</td>\n",
       "      <td>environment</td>\n",
       "      <td>appear</td>\n",
       "    </tr>\n",
       "    <tr>\n",
       "      <th>Thomas Steffen (Germany)</th>\n",
       "      <td>party</td>\n",
       "      <td>spirit</td>\n",
       "      <td>rate</td>\n",
       "      <td>successful</td>\n",
       "      <td>pensioner</td>\n",
       "    </tr>\n",
       "    <tr>\n",
       "      <th>Thomas Wieser (EFC)</th>\n",
       "      <td>point</td>\n",
       "      <td>fund</td>\n",
       "      <td>agreement</td>\n",
       "      <td>positive</td>\n",
       "      <td>tonight</td>\n",
       "    </tr>\n",
       "    <tr>\n",
       "      <th>Wolfgang Schäuble (Germany)</th>\n",
       "      <td>press</td>\n",
       "      <td>opportunity</td>\n",
       "      <td>financial</td>\n",
       "      <td>page</td>\n",
       "      <td>collect</td>\n",
       "    </tr>\n",
       "    <tr>\n",
       "      <th>Yanis Varoufakis (Greece)</th>\n",
       "      <td>track</td>\n",
       "      <td>produce</td>\n",
       "      <td>well</td>\n",
       "      <td>have</td>\n",
       "      <td>recall</td>\n",
       "    </tr>\n",
       "  </tbody>\n",
       "</table>\n",
       "</div>"
      ],
      "text/plain": [
       "                                                     0             1  \\\n",
       "Alexander Stubb (Finland)                    colleague     amendment   \n",
       "Benoît Cœuré (ECB)                           reconvene        reject   \n",
       "Christine Lagarde (IMF)                         spirit        expire   \n",
       "Declan Costello (European Commission)            think      saturday   \n",
       "Edward Scicluna (Malta)                    implication           use   \n",
       "Jeroen Dijsselbloem (EG President)      technical_team          week   \n",
       "Klaus Regling (ESM)                             strong       forward   \n",
       "Luis De Guindos (Spain)                    significant          help   \n",
       "Luis Pierre (European Commission)            essential        happen   \n",
       "Marco Buti (European Commission)               measure         build   \n",
       "Mario Draghi (ECB)                              stress        submit   \n",
       "Michael Noonan (Ireland)                        appear           ewg   \n",
       "Michel Sapin (France)                             mean        sector   \n",
       "Nikos Theocarakis (Greece)                      decide       exactly   \n",
       "Pier Carlo Padoan (Italy)                      prepare     yesterday   \n",
       "Pierre Moscovici (European Commission)       available  sufficiently   \n",
       "Poul Mathias Thomsen (IMF)                       clear      describe   \n",
       "Rimantas Šadžius (Lithuania)                   finance       achieve   \n",
       "Thomas Steffen (Germany)                         party        spirit   \n",
       "Thomas Wieser (EFC)                              point          fund   \n",
       "Wolfgang Schäuble (Germany)                      press   opportunity   \n",
       "Yanis Varoufakis (Greece)                        track       produce   \n",
       "\n",
       "                                                          2  \\\n",
       "Alexander Stubb (Finland)                            finish   \n",
       "Benoît Cœuré (ECB)                                  willing   \n",
       "Christine Lagarde (IMF)                                 ecb   \n",
       "Declan Costello (European Commission)                assure   \n",
       "Edward Scicluna (Malta)                          additional   \n",
       "Jeroen Dijsselbloem (EG President)                    labor   \n",
       "Klaus Regling (ESM)                                    bank   \n",
       "Luis De Guindos (Spain)                              reject   \n",
       "Luis Pierre (European Commission)               flexibility   \n",
       "Marco Buti (European Commission)                      place   \n",
       "Mario Draghi (ECB)                                 windfall   \n",
       "Michael Noonan (Ireland)                                gap   \n",
       "Michel Sapin (France)                   debt_sustainability   \n",
       "Nikos Theocarakis (Greece)                             look   \n",
       "Pier Carlo Padoan (Italy)                           clearly   \n",
       "Pierre Moscovici (European Commission)          sustainable   \n",
       "Poul Mathias Thomsen (IMF)                          purpose   \n",
       "Rimantas Šadžius (Lithuania)                         intend   \n",
       "Thomas Steffen (Germany)                               rate   \n",
       "Thomas Wieser (EFC)                               agreement   \n",
       "Wolfgang Schäuble (Germany)                       financial   \n",
       "Yanis Varoufakis (Greece)                              well   \n",
       "\n",
       "                                                        3             4  \n",
       "Alexander Stubb (Finland)               structural_reform       collect  \n",
       "Benoît Cœuré (ECB)                                process      estimate  \n",
       "Christine Lagarde (IMF)                           discuss       respect  \n",
       "Declan Costello (European Commission)             balance        remain  \n",
       "Edward Scicluna (Malta)                           funding      approach  \n",
       "Jeroen Dijsselbloem (EG President)                service  labor_market  \n",
       "Klaus Regling (ESM)                                reject     provision  \n",
       "Luis De Guindos (Spain)                             brief          hfsf  \n",
       "Luis Pierre (European Commission)                  moment     technical  \n",
       "Marco Buti (European Commission)                     lack  sufficiently  \n",
       "Mario Draghi (ECB)                                 second     framework  \n",
       "Michael Noonan (Ireland)                            raise      maintain  \n",
       "Michel Sapin (France)                             current          lead  \n",
       "Nikos Theocarakis (Greece)                       analysis          send  \n",
       "Pier Carlo Padoan (Italy)                     immediately           ewg  \n",
       "Pierre Moscovici (European Commission)               term          kind  \n",
       "Poul Mathias Thomsen (IMF)                       national        remark  \n",
       "Rimantas Šadžius (Lithuania)                  environment        appear  \n",
       "Thomas Steffen (Germany)                       successful     pensioner  \n",
       "Thomas Wieser (EFC)                              positive       tonight  \n",
       "Wolfgang Schäuble (Germany)                          page       collect  \n",
       "Yanis Varoufakis (Greece)                            have        recall  "
      ]
     },
     "execution_count": 38,
     "metadata": {},
     "output_type": "execute_result"
    }
   ],
   "source": [
    "closest_words = pd.DataFrame(\n",
    "        data = np.array([[t[0] for t in d2v_model.wv.most_similar(positive=[d2v_model.dv[speaker]], topn=5)] for speaker in dvecs.keys()]),\n",
    "        index = labels\n",
    ")\n",
    "\n",
    "#closest_words.T[dn['ivl']].T\n",
    "closest_words"
   ]
  },
  {
   "cell_type": "code",
   "execution_count": 38,
   "id": "physical-collective",
   "metadata": {
    "scrolled": false
   },
   "outputs": [
    {
     "data": {
      "text/html": [
       "<div>\n",
       "<style scoped>\n",
       "    .dataframe tbody tr th:only-of-type {\n",
       "        vertical-align: middle;\n",
       "    }\n",
       "\n",
       "    .dataframe tbody tr th {\n",
       "        vertical-align: top;\n",
       "    }\n",
       "\n",
       "    .dataframe thead th {\n",
       "        text-align: right;\n",
       "    }\n",
       "</style>\n",
       "<table border=\"1\" class=\"dataframe\">\n",
       "  <thead>\n",
       "    <tr style=\"text-align: right;\">\n",
       "      <th></th>\n",
       "      <th>0</th>\n",
       "      <th>1</th>\n",
       "      <th>2</th>\n",
       "      <th>3</th>\n",
       "      <th>4</th>\n",
       "      <th>5</th>\n",
       "      <th>6</th>\n",
       "      <th>7</th>\n",
       "      <th>8</th>\n",
       "      <th>9</th>\n",
       "    </tr>\n",
       "  </thead>\n",
       "  <tbody>\n",
       "    <tr>\n",
       "      <th>alexander stubb</th>\n",
       "      <td>try</td>\n",
       "      <td>great</td>\n",
       "      <td>feel</td>\n",
       "      <td>master</td>\n",
       "      <td>windfall</td>\n",
       "      <td>sound</td>\n",
       "      <td>finnish</td>\n",
       "      <td>affect</td>\n",
       "      <td>role</td>\n",
       "      <td>link</td>\n",
       "    </tr>\n",
       "    <tr>\n",
       "      <th>benoît cœuré</th>\n",
       "      <td>governance</td>\n",
       "      <td>cover</td>\n",
       "      <td>number</td>\n",
       "      <td>breadth</td>\n",
       "      <td>element</td>\n",
       "      <td>pace</td>\n",
       "      <td>outflow</td>\n",
       "      <td>object</td>\n",
       "      <td>fund</td>\n",
       "      <td>euro</td>\n",
       "    </tr>\n",
       "    <tr>\n",
       "      <th>christine lagarde</th>\n",
       "      <td>strategic</td>\n",
       "      <td>smart</td>\n",
       "      <td>constant</td>\n",
       "      <td>indicate</td>\n",
       "      <td>memorandum</td>\n",
       "      <td>include</td>\n",
       "      <td>collection</td>\n",
       "      <td>sit</td>\n",
       "      <td>contribution</td>\n",
       "      <td>bridge</td>\n",
       "    </tr>\n",
       "    <tr>\n",
       "      <th>declan costello</th>\n",
       "      <td>bill</td>\n",
       "      <td>touch</td>\n",
       "      <td>intensity</td>\n",
       "      <td>interaction</td>\n",
       "      <td>witness</td>\n",
       "      <td>exclusively</td>\n",
       "      <td>depth</td>\n",
       "      <td>finding</td>\n",
       "      <td>date</td>\n",
       "      <td>element</td>\n",
       "    </tr>\n",
       "    <tr>\n",
       "      <th>edward scicluna</th>\n",
       "      <td>dramatic</td>\n",
       "      <td>eurogroup</td>\n",
       "      <td>story</td>\n",
       "      <td>propose</td>\n",
       "      <td>tell</td>\n",
       "      <td>favor</td>\n",
       "      <td>self</td>\n",
       "      <td>destructive</td>\n",
       "      <td>path</td>\n",
       "      <td>solution</td>\n",
       "    </tr>\n",
       "    <tr>\n",
       "      <th>jeroen dijsselbloem</th>\n",
       "      <td>floor</td>\n",
       "      <td>listen</td>\n",
       "      <td>paper</td>\n",
       "      <td>conclusion</td>\n",
       "      <td>react</td>\n",
       "      <td>leader</td>\n",
       "      <td>minute</td>\n",
       "      <td>respond</td>\n",
       "      <td>old</td>\n",
       "      <td>line</td>\n",
       "    </tr>\n",
       "    <tr>\n",
       "      <th>klaus regling</th>\n",
       "      <td>rating</td>\n",
       "      <td>corporate</td>\n",
       "      <td>triple</td>\n",
       "      <td>agency</td>\n",
       "      <td>speaker</td>\n",
       "      <td>appropriate</td>\n",
       "      <td>geared</td>\n",
       "      <td>protect</td>\n",
       "      <td>indebted</td>\n",
       "      <td>household</td>\n",
       "    </tr>\n",
       "    <tr>\n",
       "      <th>luis de guindos</th>\n",
       "      <td>nominal</td>\n",
       "      <td>consideration</td>\n",
       "      <td>inflation</td>\n",
       "      <td>evolution</td>\n",
       "      <td>know</td>\n",
       "      <td>simultaneously</td>\n",
       "      <td>life</td>\n",
       "      <td>maintain</td>\n",
       "      <td>create</td>\n",
       "      <td>confront</td>\n",
       "    </tr>\n",
       "    <tr>\n",
       "      <th>luis pierre</th>\n",
       "      <td>publish</td>\n",
       "      <td>sunday</td>\n",
       "      <td>compare</td>\n",
       "      <td>phase</td>\n",
       "      <td>properly</td>\n",
       "      <td>college</td>\n",
       "      <td>recommend</td>\n",
       "      <td>reserve</td>\n",
       "      <td>amendment</td>\n",
       "      <td>share</td>\n",
       "    </tr>\n",
       "    <tr>\n",
       "      <th>marco buti</th>\n",
       "      <td>recall</td>\n",
       "      <td>code</td>\n",
       "      <td>indicate</td>\n",
       "      <td>pace</td>\n",
       "      <td>consider</td>\n",
       "      <td>tackle</td>\n",
       "      <td>afford</td>\n",
       "      <td>safety</td>\n",
       "      <td>depth</td>\n",
       "      <td>attend</td>\n",
       "    </tr>\n",
       "    <tr>\n",
       "      <th>mario draghi</th>\n",
       "      <td>collateral</td>\n",
       "      <td>ela</td>\n",
       "      <td>development</td>\n",
       "      <td>credit</td>\n",
       "      <td>bond</td>\n",
       "      <td>appreciate</td>\n",
       "      <td>deposit</td>\n",
       "      <td>increase</td>\n",
       "      <td>high</td>\n",
       "      <td>resolution</td>\n",
       "    </tr>\n",
       "    <tr>\n",
       "      <th>michael noonan</th>\n",
       "      <td>position</td>\n",
       "      <td>bad</td>\n",
       "      <td>counter</td>\n",
       "      <td>specific</td>\n",
       "      <td>copy</td>\n",
       "      <td>generate</td>\n",
       "      <td>degree</td>\n",
       "      <td>monday</td>\n",
       "      <td>event</td>\n",
       "      <td>control</td>\n",
       "    </tr>\n",
       "    <tr>\n",
       "      <th>michel sapin</th>\n",
       "      <td>sufficiently</td>\n",
       "      <td>finish</td>\n",
       "      <td>french</td>\n",
       "      <td>reject</td>\n",
       "      <td>anti</td>\n",
       "      <td>element</td>\n",
       "      <td>contact</td>\n",
       "      <td>expression</td>\n",
       "      <td>foreign</td>\n",
       "      <td>language</td>\n",
       "    </tr>\n",
       "    <tr>\n",
       "      <th>nikos theocarakis</th>\n",
       "      <td>privatisation</td>\n",
       "      <td>property</td>\n",
       "      <td>address</td>\n",
       "      <td>frank</td>\n",
       "      <td>viable</td>\n",
       "      <td>adopt</td>\n",
       "      <td>optimal</td>\n",
       "      <td>estate</td>\n",
       "      <td>read</td>\n",
       "      <td>establish</td>\n",
       "    </tr>\n",
       "    <tr>\n",
       "      <th>pier carlo padoan</th>\n",
       "      <td>fool</td>\n",
       "      <td>suggest</td>\n",
       "      <td>confused</td>\n",
       "      <td>welfare</td>\n",
       "      <td>frustration</td>\n",
       "      <td>apologize</td>\n",
       "      <td>alternative</td>\n",
       "      <td>analyze</td>\n",
       "      <td>anticipate</td>\n",
       "      <td>briefly</td>\n",
       "    </tr>\n",
       "    <tr>\n",
       "      <th>pierre moscovici</th>\n",
       "      <td>expect</td>\n",
       "      <td>urgent</td>\n",
       "      <td>initiative</td>\n",
       "      <td>hold</td>\n",
       "      <td>ambition</td>\n",
       "      <td>recognize</td>\n",
       "      <td>space</td>\n",
       "      <td>solution</td>\n",
       "      <td>postpone</td>\n",
       "      <td>sad</td>\n",
       "    </tr>\n",
       "    <tr>\n",
       "      <th>poul mathias thomsen</th>\n",
       "      <td>relief</td>\n",
       "      <td>improve</td>\n",
       "      <td>join</td>\n",
       "      <td>mission</td>\n",
       "      <td>reverse</td>\n",
       "      <td>regard</td>\n",
       "      <td>concrete</td>\n",
       "      <td>ambitious</td>\n",
       "      <td>chief</td>\n",
       "      <td>specify</td>\n",
       "    </tr>\n",
       "    <tr>\n",
       "      <th>rimantas šadžius</th>\n",
       "      <td>trajectory</td>\n",
       "      <td>election</td>\n",
       "      <td>recall</td>\n",
       "      <td>lithuania</td>\n",
       "      <td>percent</td>\n",
       "      <td>live</td>\n",
       "      <td>lithuanian</td>\n",
       "      <td>promise</td>\n",
       "      <td>pre</td>\n",
       "      <td>argument</td>\n",
       "    </tr>\n",
       "    <tr>\n",
       "      <th>thomas steffen</th>\n",
       "      <td>cooperation</td>\n",
       "      <td>cooperate</td>\n",
       "      <td>collect</td>\n",
       "      <td>late</td>\n",
       "      <td>disperse</td>\n",
       "      <td>quick</td>\n",
       "      <td>picture</td>\n",
       "      <td>ride</td>\n",
       "      <td>horse</td>\n",
       "      <td>offer</td>\n",
       "    </tr>\n",
       "    <tr>\n",
       "      <th>thomas wieser</th>\n",
       "      <td>wednesday</td>\n",
       "      <td>intermediate</td>\n",
       "      <td>appear</td>\n",
       "      <td>know</td>\n",
       "      <td>circulate</td>\n",
       "      <td>update</td>\n",
       "      <td>frankly</td>\n",
       "      <td>cost</td>\n",
       "      <td>washington</td>\n",
       "      <td>precise</td>\n",
       "    </tr>\n",
       "    <tr>\n",
       "      <th>wolfgang schäuble</th>\n",
       "      <td>precondition</td>\n",
       "      <td>totally</td>\n",
       "      <td>sell</td>\n",
       "      <td>amendment</td>\n",
       "      <td>summarize</td>\n",
       "      <td>ongoing</td>\n",
       "      <td>redefine</td>\n",
       "      <td>careful</td>\n",
       "      <td>follow</td>\n",
       "      <td>fresh</td>\n",
       "    </tr>\n",
       "    <tr>\n",
       "      <th>yanis varoufakis</th>\n",
       "      <td>great</td>\n",
       "      <td>sign</td>\n",
       "      <td>sla</td>\n",
       "      <td>instance</td>\n",
       "      <td>introduce</td>\n",
       "      <td>percent</td>\n",
       "      <td>repayment</td>\n",
       "      <td>offer</td>\n",
       "      <td>parametric</td>\n",
       "      <td>cut</td>\n",
       "    </tr>\n",
       "  </tbody>\n",
       "</table>\n",
       "</div>"
      ],
      "text/plain": [
       "                                  0              1            2            3  \\\n",
       "alexander stubb                 try          great         feel       master   \n",
       "benoît cœuré             governance          cover       number      breadth   \n",
       "christine lagarde         strategic          smart     constant     indicate   \n",
       "declan costello                bill          touch    intensity  interaction   \n",
       "edward scicluna            dramatic      eurogroup        story      propose   \n",
       "jeroen dijsselbloem           floor         listen        paper   conclusion   \n",
       "klaus regling                rating      corporate       triple       agency   \n",
       "luis de guindos             nominal  consideration    inflation    evolution   \n",
       "luis pierre                 publish         sunday      compare        phase   \n",
       "marco buti                   recall           code     indicate         pace   \n",
       "mario draghi             collateral            ela  development       credit   \n",
       "michael noonan             position            bad      counter     specific   \n",
       "michel sapin           sufficiently         finish       french       reject   \n",
       "nikos theocarakis     privatisation       property      address        frank   \n",
       "pier carlo padoan              fool        suggest     confused      welfare   \n",
       "pierre moscovici             expect         urgent   initiative         hold   \n",
       "poul mathias thomsen         relief        improve         join      mission   \n",
       "rimantas šadžius         trajectory       election       recall    lithuania   \n",
       "thomas steffen          cooperation      cooperate      collect         late   \n",
       "thomas wieser             wednesday   intermediate       appear         know   \n",
       "wolfgang schäuble      precondition        totally         sell    amendment   \n",
       "yanis varoufakis              great           sign          sla     instance   \n",
       "\n",
       "                                4               5            6            7  \\\n",
       "alexander stubb          windfall           sound      finnish       affect   \n",
       "benoît cœuré              element            pace      outflow       object   \n",
       "christine lagarde      memorandum         include   collection          sit   \n",
       "declan costello           witness     exclusively        depth      finding   \n",
       "edward scicluna              tell           favor         self  destructive   \n",
       "jeroen dijsselbloem         react          leader       minute      respond   \n",
       "klaus regling             speaker     appropriate       geared      protect   \n",
       "luis de guindos              know  simultaneously         life     maintain   \n",
       "luis pierre              properly         college    recommend      reserve   \n",
       "marco buti               consider          tackle       afford       safety   \n",
       "mario draghi                 bond      appreciate      deposit     increase   \n",
       "michael noonan               copy        generate       degree       monday   \n",
       "michel sapin                 anti         element      contact   expression   \n",
       "nikos theocarakis          viable           adopt      optimal       estate   \n",
       "pier carlo padoan     frustration       apologize  alternative      analyze   \n",
       "pierre moscovici         ambition       recognize        space     solution   \n",
       "poul mathias thomsen      reverse          regard     concrete    ambitious   \n",
       "rimantas šadžius          percent            live   lithuanian      promise   \n",
       "thomas steffen           disperse           quick      picture         ride   \n",
       "thomas wieser           circulate          update      frankly         cost   \n",
       "wolfgang schäuble       summarize         ongoing     redefine      careful   \n",
       "yanis varoufakis        introduce         percent    repayment        offer   \n",
       "\n",
       "                                 8           9  \n",
       "alexander stubb               role        link  \n",
       "benoît cœuré                  fund        euro  \n",
       "christine lagarde     contribution      bridge  \n",
       "declan costello               date     element  \n",
       "edward scicluna               path    solution  \n",
       "jeroen dijsselbloem            old        line  \n",
       "klaus regling             indebted   household  \n",
       "luis de guindos             create    confront  \n",
       "luis pierre              amendment       share  \n",
       "marco buti                   depth      attend  \n",
       "mario draghi                  high  resolution  \n",
       "michael noonan               event     control  \n",
       "michel sapin               foreign    language  \n",
       "nikos theocarakis             read   establish  \n",
       "pier carlo padoan       anticipate     briefly  \n",
       "pierre moscovici          postpone         sad  \n",
       "poul mathias thomsen         chief     specify  \n",
       "rimantas šadžius               pre    argument  \n",
       "thomas steffen               horse       offer  \n",
       "thomas wieser           washington     precise  \n",
       "wolfgang schäuble           follow       fresh  \n",
       "yanis varoufakis        parametric         cut  "
      ]
     },
     "execution_count": 38,
     "metadata": {},
     "output_type": "execute_result"
    }
   ],
   "source": [
    "from collections import Counter\n",
    "\n",
    "top_n = 10\n",
    "pd.DataFrame({doc.tags[0]: [w[0] for w in Counter(doc.words).most_common(top_n)] for doc in documents if doc.tags[0] in dvecs.keys()}).T"
   ]
  },
  {
   "cell_type": "code",
   "execution_count": 60,
   "id": "invalid-retreat",
   "metadata": {},
   "outputs": [
    {
     "name": "stdout",
     "output_type": "stream",
     "text": [
      "alexander stubb :  743\n",
      "benoît cœuré :  910\n",
      "christine lagarde :  1104\n",
      "declan costello :  301\n",
      "edward scicluna :  261\n",
      "jeroen dijsselbloem :  5374\n",
      "klaus regling :  188\n",
      "luis de guindos :  1028\n",
      "luis pierre :  251\n",
      "marco buti :  716\n",
      "mario draghi :  797\n",
      "michael noonan :  687\n",
      "michel sapin :  184\n",
      "nikos theocarakis :  841\n",
      "pier carlo padoan :  391\n",
      "pierre moscovici :  930\n",
      "poul mathias thomsen :  920\n",
      "rimantas šadžius :  560\n",
      "thomas steffen :  210\n",
      "thomas wieser :  1507\n",
      "wolfgang schäuble :  485\n",
      "yanis varoufakis :  8956\n"
     ]
    }
   ],
   "source": [
    "for doc in documents:\n",
    "    if doc.tags[0] in dvecs.keys():\n",
    "        print(doc.tags[0],': ', len(doc.words))"
   ]
  },
  {
   "cell_type": "markdown",
   "id": "minor-glucose",
   "metadata": {},
   "source": [
    "# Pretrained embeddings\n",
    "\n",
    "- https://kavita-ganesan.com/easily-access-pre-trained-word-embeddings-with-gensim/"
   ]
  },
  {
   "cell_type": "code",
   "execution_count": 16,
   "id": "color-delight",
   "metadata": {},
   "outputs": [],
   "source": [
    "from gensim.models.word2vec import Word2Vec\n",
    "import gensim.downloader as api"
   ]
  },
  {
   "cell_type": "code",
   "execution_count": 17,
   "id": "removable-concentration",
   "metadata": {},
   "outputs": [
    {
     "name": "stdout",
     "output_type": "stream",
     "text": [
      "Time taken: 2.84 mins\n"
     ]
    }
   ],
   "source": [
    "import time\n",
    "t = time.time()\n",
    "\n",
    "#model_name = \"word2vec-google-news-300\"\n",
    "model_name = \"glove-wiki-gigaword-300\"\n",
    "#model_name = \"fasttext-wiki-news-subwords-300\"\n",
    "#model_name = \"glove-twitter-200\"\n",
    "\n",
    "# download the model and return as object ready for use\n",
    "model = api.load(model_name)\n",
    "\n",
    "print(f'Time taken: {round((time.time() - t) / 60, 2)} mins')"
   ]
  },
  {
   "cell_type": "code",
   "execution_count": 18,
   "id": "addressed-cache",
   "metadata": {},
   "outputs": [],
   "source": [
    "# crashes the kernel when using google-news\n",
    "#model.most_similar(\"greece\",topn=10)"
   ]
  },
  {
   "cell_type": "code",
   "execution_count": 21,
   "id": "pregnant-custom",
   "metadata": {},
   "outputs": [],
   "source": [
    "#model.most_similar(\"eurogroup\",topn=10)"
   ]
  },
  {
   "cell_type": "code",
   "execution_count": 22,
   "id": "documentary-david",
   "metadata": {},
   "outputs": [
    {
     "data": {
      "text/plain": [
       "gensim.models.keyedvectors.KeyedVectors"
      ]
     },
     "execution_count": 22,
     "metadata": {},
     "output_type": "execute_result"
    }
   ],
   "source": [
    "type(model)"
   ]
  },
  {
   "cell_type": "code",
   "execution_count": 23,
   "id": "posted-eclipse",
   "metadata": {},
   "outputs": [
    {
     "data": {
      "text/plain": [
       "False"
      ]
     },
     "execution_count": 23,
     "metadata": {},
     "output_type": "execute_result"
    }
   ],
   "source": [
    "model.__contains__('interest rate')"
   ]
  },
  {
   "cell_type": "code",
   "execution_count": 19,
   "id": "surrounded-domestic",
   "metadata": {},
   "outputs": [],
   "source": [
    "dvecs = {\n",
    "    d.tags[0]: np.mean([model[word] for word in d.words if model.__contains__(word)], axis=0)\n",
    "    for d in documents if d.tags[0] not in insignificant_speakers and 'speaker' not in d.tags[0]\n",
    "}"
   ]
  },
  {
   "cell_type": "markdown",
   "id": "piano-sauce",
   "metadata": {},
   "source": [
    "Need to quantify how many words are not in the embedding for each speaker."
   ]
  },
  {
   "cell_type": "code",
   "execution_count": 20,
   "id": "behavioral-athletics",
   "metadata": {},
   "outputs": [],
   "source": [
    "X = pd.DataFrame(dvecs).to_numpy().T"
   ]
  },
  {
   "cell_type": "code",
   "execution_count": 21,
   "id": "exceptional-arlington",
   "metadata": {},
   "outputs": [
    {
     "data": {
      "text/plain": [
       "(22, 300)"
      ]
     },
     "execution_count": 21,
     "metadata": {},
     "output_type": "execute_result"
    }
   ],
   "source": [
    "X.shape"
   ]
  },
  {
   "cell_type": "markdown",
   "id": "affiliated-elder",
   "metadata": {},
   "source": [
    "### PCA"
   ]
  },
  {
   "cell_type": "code",
   "execution_count": 22,
   "id": "later-kitty",
   "metadata": {
    "scrolled": true
   },
   "outputs": [
    {
     "data": {
      "text/plain": [
       "[<matplotlib.lines.Line2D at 0x7f7d75955cd0>]"
      ]
     },
     "execution_count": 22,
     "metadata": {},
     "output_type": "execute_result"
    },
    {
     "data": {
      "image/png": "[encoded data removed]",
      "text/plain": [
       "<Figure size 432x288 with 1 Axes>"
      ]
     },
     "metadata": {
      "needs_background": "light"
     },
     "output_type": "display_data"
    }
   ],
   "source": [
    "from sklearn.preprocessing import StandardScaler\n",
    "from sklearn.decomposition import PCA\n",
    "\n",
    "# center and rescale\n",
    "X = StandardScaler().fit_transform(X)\n",
    "\n",
    "pca = PCA()\n",
    "X_reduced = pca.fit_transform(X)\n",
    "\n",
    "plt.plot(pca.explained_variance_ratio_)"
   ]
  },
  {
   "cell_type": "code",
   "execution_count": 23,
   "id": "spatial-cooperative",
   "metadata": {},
   "outputs": [
    {
     "data": {
      "text/plain": [
       "1.0"
      ]
     },
     "execution_count": 23,
     "metadata": {},
     "output_type": "execute_result"
    }
   ],
   "source": [
    "np.sum(pca.explained_variance_ratio_)"
   ]
  },
  {
   "cell_type": "markdown",
   "id": "entitled-malaysia",
   "metadata": {},
   "source": [
    "### agglomerative clustering"
   ]
  },
  {
   "cell_type": "code",
   "execution_count": 40,
   "id": "written-romantic",
   "metadata": {},
   "outputs": [],
   "source": [
    "#from sklearn.cluster import AgglomerativeClustering\n",
    "\n",
    "#number_of_clusters = 2\n",
    "\n",
    "#agg = AgglomerativeClustering(n_clusters=number_of_clusters) # Ward linkage by default\n",
    "#clusters = agg.fit_predict(X_reduced)"
   ]
  },
  {
   "cell_type": "code",
   "execution_count": 41,
   "id": "optical-nursing",
   "metadata": {},
   "outputs": [],
   "source": [
    "#for k in range(number_of_clusters):\n",
    "#    print(f'cluster {k}:')\n",
    "#    for speaker in np.array(list(dvecs.keys()))[clusters==k]:\n",
    "#        #if 'speaker' not in speaker:\n",
    "#        print(f'\\t{speaker}')\n",
    "#    print()"
   ]
  },
  {
   "cell_type": "markdown",
   "id": "saved-puzzle",
   "metadata": {},
   "source": [
    "### dendrogram"
   ]
  },
  {
   "cell_type": "code",
   "execution_count": 33,
   "id": "opponent-focus",
   "metadata": {
    "scrolled": false
   },
   "outputs": [
    {
     "data": {
      "image/png": "[encoded data removed]",
      "text/plain": [
       "<Figure size 720x504 with 1 Axes>"
      ]
     },
     "metadata": {
      "needs_background": "light"
     },
     "output_type": "display_data"
    }
   ],
   "source": [
    "# agglomerative clustering\n",
    "from scipy.cluster import hierarchy\n",
    "\n",
    "#Z = hierarchy.linkage(X, method='single', metric='cosine')\n",
    "Z = hierarchy.linkage(X_reduced, method='ward', metric='euclidean')\n",
    "\n",
    "# get labels\n",
    "with open('../data/euroleaks/name_to_entity.json', 'r') as f:\n",
    "    speaker_to_entity = json.load(f)\n",
    "\n",
    "institutions = ['ECB', 'IMF', 'European Commission', 'ESM', 'EFC']\n",
    "markers = ['\\u25a0', '\\u25cb']\n",
    "labels = pd.Series(dvecs.keys()).apply(lambda s: \n",
    "        f'{markers[0] if speaker_to_entity[s] in institutions else markers[1]} {s.title()} ({speaker_to_entity[s] if s in speaker_to_entity.keys() else \"Unkown\"})').to_numpy()\n",
    "\n",
    "# plot\n",
    "fig, ax = plt.subplots(figsize=(10,7))\n",
    "\n",
    "# dendrogram\n",
    "dn = hierarchy.dendrogram(Z, \n",
    "                          orientation='left', \n",
    "                          labels=labels,\n",
    "                          ax=ax\n",
    "                         )\n",
    "\n",
    "from matplotlib.lines import Line2D\n",
    "legend_elements = [\n",
    "    Line2D([0], [0], marker='s', label='institution', color='k', linestyle='None'),\n",
    "    Line2D([0], [0], marker='o', label='country', color='k', markerfacecolor='w', linestyle='None')\n",
    "]\n",
    "ax.legend(handles=legend_elements, loc='upper left')\n",
    "\n",
    "# significant words (max|min)\n",
    "# max: word that the cluster has most in common\n",
    "# min: word that the cluster has least in common\n",
    "for i,(words,loc) in enumerate(zip(significant_words, text_locations)):\n",
    "    ax.text(Z[i,2]-0.2, loc*10+3.5, f'{words[0]}|{words[1]}')\n",
    "\n",
    "ax.set_title(model_name + '\\n(max|min)')\n",
    "fig.tight_layout()\n",
    "\n",
    "fig.savefig(f'../figures/wip/{model_name}.png', facecolor='white')"
   ]
  },
  {
   "cell_type": "code",
   "execution_count": 317,
   "id": "dated-screen",
   "metadata": {
    "scrolled": true
   },
   "outputs": [
    {
     "data": {
      "text/plain": [
       "array(['dušan mramor', 'hans jörg schelling', 'harris georgiades',\n",
       "       'irina', 'johan van overtveldt', 'jānis reirs', 'kian',\n",
       "       'luca antonio ricci', 'male', 'maria luís albuquerque', 'martin',\n",
       "       'nabil', 'peter kažimír', 'speaker', 'speaker 10', 'speaker 11',\n",
       "       'speaker 12', 'speaker 13', 'speaker 14', 'speaker 16',\n",
       "       'speaker 17', 'speaker 18', 'speaker 19', 'speaker 20',\n",
       "       'speaker 21', 'speaker 4', 'speaker 5', 'speaker 7', 'speaker 8',\n",
       "       'speaker 9', 'tooma', 'tropa', 'unidentified speaker'],\n",
       "      dtype=object)"
      ]
     },
     "execution_count": 317,
     "metadata": {},
     "output_type": "execute_result"
    }
   ],
   "source": [
    "insignificant_speakers"
   ]
  },
  {
   "cell_type": "markdown",
   "id": "impressive-munich",
   "metadata": {},
   "source": [
    "### get most significant word for each cluster"
   ]
  },
  {
   "cell_type": "code",
   "execution_count": 25,
   "id": "fatal-fortune",
   "metadata": {},
   "outputs": [],
   "source": [
    "vocabulary = np.unique(np.concatenate([documents[i].words for i in range(len(documents))]))"
   ]
  },
  {
   "cell_type": "code",
   "execution_count": 26,
   "id": "inner-marshall",
   "metadata": {},
   "outputs": [
    {
     "data": {
      "text/plain": [
       "3131"
      ]
     },
     "execution_count": 26,
     "metadata": {},
     "output_type": "execute_result"
    }
   ],
   "source": [
    "len(vocabulary)"
   ]
  },
  {
   "cell_type": "code",
   "execution_count": 27,
   "id": "liable-memory",
   "metadata": {},
   "outputs": [],
   "source": [
    "def flatten(l1):\n",
    "    \n",
    "    if len(l1) == 1:\n",
    "        if type(l1[0]) == list:\n",
    "            result = flatten(l1[0])\n",
    "        else:\n",
    "            result = l1\n",
    "\n",
    "    #recursive case\n",
    "    elif type(l1[0]) == list:\n",
    "        result = flatten(l1[0]) + flatten(l1[1:])\n",
    "    else:\n",
    "        result = [l1[0]] + flatten(l1[1:])\n",
    "        \n",
    "    return result\n",
    "    \n",
    "#flatten([1,[2,[3,4],5],6])"
   ]
  },
  {
   "cell_type": "code",
   "execution_count": 28,
   "id": "round-trace",
   "metadata": {
    "scrolled": true
   },
   "outputs": [],
   "source": [
    "dn_labels = pd.Series(dn['ivl']).apply(lambda s: ' '.join(s.lower().split('(')[0].strip().split(' ')[1:])).to_numpy()"
   ]
  },
  {
   "cell_type": "code",
   "execution_count": 29,
   "id": "protected-professor",
   "metadata": {},
   "outputs": [],
   "source": [
    "speakers = list(dvecs.keys())\n",
    "locations = [np.where(dn_labels == s)[0][0] for s in speakers]\n",
    "\n",
    "text_locations = []\n",
    "clusters = []\n",
    "\n",
    "for x,y in Z[:,:2].astype(int):\n",
    "    \n",
    "    cluster = flatten([speakers[x], speakers[y]])\n",
    "    clusters.append(cluster)\n",
    "    speakers.append(cluster)\n",
    "    \n",
    "    loc = np.mean([locations[x], locations[y]])\n",
    "    text_locations.append(loc)\n",
    "    locations.append(loc)\n",
    "\n",
    "#clusters\n",
    "#locations"
   ]
  },
  {
   "cell_type": "code",
   "execution_count": 30,
   "id": "falling-target",
   "metadata": {},
   "outputs": [
    {
     "name": "stdout",
     "output_type": "stream",
     "text": [
      "Time taken: 49.6 mins\n"
     ]
    }
   ],
   "source": [
    "import time\n",
    "\n",
    "from itertools import combinations as comb\n",
    "from scipy.spatial.distance import pdist\n",
    "\n",
    "# choose distance metric (should be same as for dendrogram)\n",
    "metric = 'euclidean'\n",
    "\n",
    "# helper function\n",
    "def cluster_avg_dist(vecs, cluster):\n",
    "    \n",
    "    distances = []\n",
    "    \n",
    "    for pair in comb(cluster, 2):\n",
    "        X_ = np.vstack([vecs[pair[0]], vecs[pair[1]]])\n",
    "        # transform to PCA reduced space (same as dendrogram)\n",
    "        X_ = pca.transform(X_)\n",
    "        distances.append(pdist(X_, metric=metric)[0])\n",
    "        \n",
    "    return np.mean(distances)\n",
    "    \n",
    "    \n",
    "    \n",
    "t = time.time()\n",
    "\n",
    "words_by_speaker = {d.tags[0]: d.words for d in documents}\n",
    "\n",
    "significant_words = []\n",
    "\n",
    "for cluster in clusters:\n",
    "    \n",
    "    # get average distance of cluster members without removing the word\n",
    "    # REMARK: dvecs vs vecs\n",
    "    max_dist = min_dist = cluster_avg_dist(dvecs, cluster)\n",
    "    \n",
    "    max_target_word = min_target_word = ''\n",
    "    \n",
    "    for word in vocabulary:\n",
    "\n",
    "        # maybe compute only for words that are shared by all speakers in cluster\n",
    "\n",
    "        # get vectors of documents, leaving out the current word\n",
    "        vecs = {}\n",
    "        for speaker in cluster:\n",
    "            vecs[speaker] = np.mean([model[w] for w in words_by_speaker[speaker] if model.__contains__(w) and w!=word], axis=0)\n",
    "            #if word in words_by_speaker[speaker]:\n",
    "            #    assert not np.array_equal(dvecs[speaker], vecs[speaker])\n",
    "            #else:\n",
    "            #    assert np.array_equal(dvecs[speaker], vecs[speaker])\n",
    "\n",
    "        # compute distances between all speaker in cluster\n",
    "        new_cluster_avg_dist = cluster_avg_dist(vecs, cluster)\n",
    "\n",
    "        if new_cluster_avg_dist > max_dist:\n",
    "            max_dist = new_cluster_avg_dist\n",
    "            max_target_word = word\n",
    "            \n",
    "        if new_cluster_avg_dist < min_dist:\n",
    "            min_dist = new_cluster_avg_dist\n",
    "            min_target_word = word\n",
    "        \n",
    "    significant_words.append((max_target_word, min_target_word))\n",
    "\n",
    "#print(f'{target_word}: {max_dist}')\n",
    "print(f'Time taken: {round((time.time() - t) / 60, 2)} mins')"
   ]
  },
  {
   "cell_type": "code",
   "execution_count": 34,
   "id": "owned-joining",
   "metadata": {},
   "outputs": [
    {
     "data": {
      "text/plain": [
       "59"
      ]
     },
     "execution_count": 34,
     "metadata": {},
     "output_type": "execute_result"
    }
   ],
   "source": [
    "len(documents)"
   ]
  },
  {
   "cell_type": "code",
   "execution_count": null,
   "id": "existing-stopping",
   "metadata": {},
   "outputs": [],
   "source": []
  },
  {
   "cell_type": "code",
   "execution_count": 31,
   "id": "broad-primary",
   "metadata": {},
   "outputs": [
    {
     "data": {
      "text/plain": [
       "[('tax', 'smart'),\n",
       " ('wednesday', 'floor'),\n",
       " ('tax', 'solution'),\n",
       " ('wednesday', 'intermediate'),\n",
       " ('emergency', 'code'),\n",
       " ('restructuring', 'inflation'),\n",
       " ('emergency', 'code'),\n",
       " ('number', 'privatisation'),\n",
       " ('reflect', 'inflation'),\n",
       " ('memorandum', 'inflation'),\n",
       " ('repayment', 'collateral'),\n",
       " ('memorandum', 'precondition'),\n",
       " ('tell', 'eurogroup'),\n",
       " ('external', 'precondition'),\n",
       " ('sunday', 'precondition'),\n",
       " ('housing', 'collateral'),\n",
       " ('sunday', 'eurogroup'),\n",
       " ('sunday', 'eurogroup'),\n",
       " ('sunday', 'collateral'),\n",
       " ('ongoing', 'rating'),\n",
       " ('sufficiently', 'rating')]"
      ]
     },
     "execution_count": 31,
     "metadata": {},
     "output_type": "execute_result"
    }
   ],
   "source": [
    "significant_words"
   ]
  },
  {
   "cell_type": "code",
   "execution_count": 328,
   "id": "polished-alfred",
   "metadata": {},
   "outputs": [],
   "source": [
    "for i,d in df.iterrows():\n",
    "    if 'euclid' in d.speaker and 'privatization' in d.speech:\n",
    "        print(d.speech)\n",
    "        print()"
   ]
  },
  {
   "cell_type": "code",
   "execution_count": null,
   "id": "entertaining-height",
   "metadata": {},
   "outputs": [],
   "source": [
    "closest_words = pd.DataFrame(\n",
    "        data = np.array([[t[0] for t in d2v_model.wv.most_similar(positive=[d2v_model.dv[speaker]], topn=5)] for speaker in dvecs.keys()]),\n",
    "        index = labels\n",
    ")\n",
    "\n",
    "#closest_words.T[dn['ivl']].T\n",
    "closest_words"
   ]
  },
  {
   "cell_type": "markdown",
   "id": "realistic-novelty",
   "metadata": {},
   "source": [
    "## Produce all the dendrograms figures in one run"
   ]
  },
  {
   "cell_type": "code",
   "execution_count": 16,
   "id": "opposed-latino",
   "metadata": {},
   "outputs": [],
   "source": [
    "import time\n",
    "\n",
    "from gensim.models.word2vec import Word2Vec\n",
    "import gensim.downloader as api\n",
    "from sklearn.preprocessing import StandardScaler\n",
    "from sklearn.decomposition import PCA\n",
    "from scipy.cluster import hierarchy\n",
    "from itertools import combinations as comb\n",
    "from scipy.spatial.distance import pdist"
   ]
  },
  {
   "cell_type": "code",
   "execution_count": 17,
   "id": "integral-nelson",
   "metadata": {},
   "outputs": [],
   "source": [
    "# get labels\n",
    "with open('../data/euroleaks/name_to_entity.json', 'r') as f:\n",
    "    speaker_to_entity = json.load(f)\n",
    "    \n",
    "institutions = ['ECB', 'IMF', 'European Commission', 'ESM', 'EFC']\n",
    "markers = ['\\u25a0', '\\u25cb']\n",
    "\n",
    "# get vocabulary\n",
    "vocabulary = np.unique(np.concatenate([documents[i].words for i in range(len(documents))]))\n",
    "\n",
    "# get words by speaker\n",
    "words_by_speaker = {d.tags[0]: d.words for d in documents}"
   ]
  },
  {
   "cell_type": "code",
   "execution_count": 18,
   "id": "personalized-theta",
   "metadata": {},
   "outputs": [],
   "source": [
    "def flatten(l1):  \n",
    "    \n",
    "    if len(l1) == 1:\n",
    "        if type(l1[0]) == list:\n",
    "            result = flatten(l1[0])\n",
    "        else:\n",
    "            result = l1\n",
    "            \n",
    "    #recursive case\n",
    "    elif type(l1[0]) == list:\n",
    "        result = flatten(l1[0]) + flatten(l1[1:])\n",
    "    else:\n",
    "        result = [l1[0]] + flatten(l1[1:])      \n",
    "        \n",
    "    return result\n",
    "\n",
    "\n",
    "def cluster_avg_dist(vecs, cluster):\n",
    "    \n",
    "    distances = []\n",
    "    \n",
    "    for pair in comb(cluster, 2):\n",
    "        X_ = np.vstack([vecs[pair[0]], vecs[pair[1]]])\n",
    "        # transform to PCA reduced space (same as dendrogram)\n",
    "        X_ = pca.transform(X_)\n",
    "        distances.append(pdist(X_, metric=metric)[0])\n",
    "        \n",
    "    return np.mean(distances)"
   ]
  },
  {
   "cell_type": "code",
   "execution_count": null,
   "id": "designing-banner",
   "metadata": {},
   "outputs": [
    {
     "name": "stdout",
     "output_type": "stream",
     "text": [
      "### word2vec-google-news-300 ###\n"
     ]
    }
   ],
   "source": [
    "model_names = [\n",
    "    \"word2vec-google-news-300\",\n",
    "    \"glove-wiki-gigaword-300\",\n",
    "    \"fasttext-wiki-news-subwords-300\",\n",
    "    \"glove-twitter-200\"\n",
    "]\n",
    "\n",
    "metric = 'euclidean'\n",
    "\n",
    "for model_name in model_names[:2]:\n",
    "    \n",
    "    t = time.time()\n",
    "    print(f'### {model_name} ###')\n",
    "    \n",
    "    # download/load the model and return as object ready for use\n",
    "    model = api.load(model_name)\n",
    "    print(f'\\tload model time taken: {round((time.time() - t) / 60, 2)} mins')\n",
    "    \n",
    "    # build document vectors\n",
    "    dvecs = {\n",
    "        d.tags[0]: np.mean([model[word] for word in d.words if model.__contains__(word)], axis=0)\n",
    "        for d in documents if d.tags[0] not in insignificant_speakers and 'speaker' not in d.tags[0]\n",
    "    }\n",
    "    \n",
    "    # build matrix\n",
    "    X = pd.DataFrame(dvecs).to_numpy().T\n",
    "    \n",
    "    # PCA\n",
    "    X = StandardScaler().fit_transform(X)\n",
    "    pca = PCA()\n",
    "    X_reduced = pca.fit_transform(X)\n",
    "    \n",
    "    # dendrogram (no plot)\n",
    "    #Z = hierarchy.linkage(X, method='single', metric='cosine')\n",
    "    Z = hierarchy.linkage(X_reduced, method='ward', metric='euclidean')\n",
    "\n",
    "    labels = pd.Series(dvecs.keys()).apply(lambda s: \n",
    "        f'{markers[0] if speaker_to_entity[s] in institutions else markers[1]} {s.title()} ({speaker_to_entity[s] if s in speaker_to_entity.keys() else \"Unkown\"})').to_numpy()\n",
    "\n",
    "    dn = hierarchy.dendrogram(Z, \n",
    "                          orientation='left', \n",
    "                          labels=labels,\n",
    "                          no_plot=True)\n",
    "    \n",
    "    # get labels from dendrogram (different order than just labels)\n",
    "    dn_labels = pd.Series(dn['ivl']).apply(lambda s: ' '.join(s.lower().split('(')[0].strip().split(' ')[1:])).to_numpy()\n",
    "    \n",
    "    # get clusters and text locations\n",
    "    speakers = list(dvecs.keys())\n",
    "    locations = [np.where(dn_labels == s)[0][0] for s in speakers]\n",
    "\n",
    "    text_locations = []\n",
    "    clusters = []\n",
    "\n",
    "    for x,y in Z[:,:2].astype(int):\n",
    "\n",
    "        cluster = flatten([speakers[x], speakers[y]])\n",
    "        clusters.append(cluster)\n",
    "        speakers.append(cluster)\n",
    "\n",
    "        loc = np.mean([locations[x], locations[y]])\n",
    "        text_locations.append(loc)\n",
    "        locations.append(loc)\n",
    "        \n",
    "    # get most significant words\n",
    "    t = time.time()\n",
    "    significant_words = []\n",
    "\n",
    "    for cluster in clusters:\n",
    "\n",
    "        # get average distance of cluster members without removing the word\n",
    "        # REMARK: dvecs vs vecs\n",
    "        max_dist = min_dist = cluster_avg_dist(dvecs, cluster)\n",
    "\n",
    "        max_target_word = min_target_word = ''\n",
    "\n",
    "        for word in vocabulary[:10]:\n",
    "\n",
    "            # maybe compute only for words that are shared by all speakers in cluster\n",
    "\n",
    "            # get vectors of documents, leaving out the current word\n",
    "            vecs = {}\n",
    "            for speaker in cluster:\n",
    "                vecs[speaker] = np.mean([model[w] for w in words_by_speaker[speaker] if model.__contains__(w) and w!=word], axis=0)\n",
    "\n",
    "            # compute distances between all speaker in cluster\n",
    "            new_cluster_avg_dist = cluster_avg_dist(vecs, cluster)\n",
    "\n",
    "            if new_cluster_avg_dist > max_dist:\n",
    "                max_dist = new_cluster_avg_dist\n",
    "                max_target_word = word\n",
    "\n",
    "            if new_cluster_avg_dist < min_dist:\n",
    "                min_dist = new_cluster_avg_dist\n",
    "                min_target_word = word\n",
    "\n",
    "        significant_words.append((max_target_word, min_target_word))\n",
    "\n",
    "    print(f'\\tsignificant words time taken: {round((time.time() - t) / 60, 2)} mins')\n",
    "    \n",
    "    # release memory\n",
    "    del model\n",
    "    \n",
    "    # make plot\n",
    "    fig, ax = plt.subplots(figsize=(10,7))\n",
    "\n",
    "    dn = hierarchy.dendrogram(Z, \n",
    "                              orientation='left', \n",
    "                              labels=labels,\n",
    "                              ax=ax\n",
    "                             )\n",
    "\n",
    "    from matplotlib.lines import Line2D\n",
    "    legend_elements = [\n",
    "        Line2D([0], [0], marker='s', label='institution', color='k', linestyle='None'),\n",
    "        Line2D([0], [0], marker='o', label='country', color='k', markerfacecolor='w', linestyle='None')\n",
    "    ]\n",
    "    ax.legend(handles=legend_elements, loc='upper left')\n",
    "\n",
    "    # significant words (max|min)\n",
    "    # max: word that the cluster has least in common\n",
    "    # min: word that the cluster has most in common\n",
    "    for i,(words,loc) in enumerate(zip(significant_words, text_locations)):\n",
    "        ax.text(Z[i,2]-0.2, loc*10+3.5, f'{words[0]}|{words[1]}')\n",
    "\n",
    "    ax.set_title(model_name)\n",
    "    fig.tight_layout()\n",
    "\n",
    "    fig.savefig(f'../figures/wip/{model_name}.png', facecolor='white')"
   ]
  },
  {
   "cell_type": "code",
   "execution_count": null,
   "id": "played-guest",
   "metadata": {},
   "outputs": [],
   "source": []
  },
  {
   "cell_type": "markdown",
   "id": "cardiovascular-annual",
   "metadata": {},
   "source": [
    "### sense2vec"
   ]
  },
  {
   "cell_type": "code",
   "execution_count": 15,
   "id": "cosmetic-frontier",
   "metadata": {},
   "outputs": [],
   "source": [
    "from sense2vec import Sense2Vec\n",
    "s2v = Sense2Vec().from_disk(\"/home/asajina/downloads/s2v_reddit_2015_md/s2v_old\")"
   ]
  },
  {
   "cell_type": "code",
   "execution_count": 16,
   "id": "global-modem",
   "metadata": {},
   "outputs": [
    {
     "data": {
      "text/plain": [
       "True"
      ]
     },
     "execution_count": 16,
     "metadata": {},
     "output_type": "execute_result"
    }
   ],
   "source": [
    "\"greece|NOUN\" in s2v"
   ]
  },
  {
   "cell_type": "code",
   "execution_count": 18,
   "id": "scheduled-conditions",
   "metadata": {},
   "outputs": [],
   "source": [
    "#s2v[\"greece|NOUN\"]"
   ]
  },
  {
   "cell_type": "code",
   "execution_count": 27,
   "id": "divine-spirit",
   "metadata": {},
   "outputs": [
    {
     "name": "stdout",
     "output_type": "stream",
     "text": [
      "Time taken: 0.82 mins\n"
     ]
    }
   ],
   "source": [
    "from gensim.models import Doc2Vec\n",
    "from gensim.models.doc2vec import TaggedDocument\n",
    "\n",
    "t = time.time()\n",
    "\n",
    "documents = []\n",
    "for speaker, text in grouped.iteritems():\n",
    "    \n",
    "    doc = nlp(text)\n",
    "    \n",
    "    doc_ = [f'{token.lemma_}|{token.pos_.upper()}' for sentence in doc.sents for token in sentence\n",
    "                if filter_token(token)\n",
    "            ]\n",
    "    \n",
    "    # apply collocations\n",
    "    #doc_ = apply_bigram_colloc(apply_trigram_colloc(' '.join(doc_), trigram_colloc), bigram_colloc).split()\n",
    "    \n",
    "    # maybe add date to tags, or country/intitution?\n",
    "    # TaggedDocument takes list of words as input\n",
    "    documents.append(TaggedDocument(doc_, tags=[speaker]))\n",
    "    \n",
    "print(f'Time taken: {round((time.time() - t) / 60, 2)} mins')"
   ]
  },
  {
   "cell_type": "code",
   "execution_count": 28,
   "id": "enabling-system",
   "metadata": {},
   "outputs": [
    {
     "data": {
      "text/plain": [
       "'thank|VERB'"
      ]
     },
     "execution_count": 28,
     "metadata": {},
     "output_type": "execute_result"
    }
   ],
   "source": [
    "documents[0].words[0]"
   ]
  },
  {
   "cell_type": "code",
   "execution_count": 29,
   "id": "daily-bhutan",
   "metadata": {},
   "outputs": [
    {
     "data": {
      "text/plain": [
       "(22, 128)"
      ]
     },
     "execution_count": 29,
     "metadata": {},
     "output_type": "execute_result"
    }
   ],
   "source": [
    "dvecs = {\n",
    "    d.tags[0]: np.mean([s2v[word] for word in d.words if word in s2v], axis=0)\n",
    "    for d in documents if d.tags[0] not in insignificant_speakers and 'speaker' not in d.tags[0]\n",
    "}\n",
    "\n",
    "X = pd.DataFrame(dvecs).to_numpy().T\n",
    "X.shape"
   ]
  },
  {
   "cell_type": "code",
   "execution_count": 30,
   "id": "personal-threat",
   "metadata": {},
   "outputs": [
    {
     "data": {
      "text/plain": [
       "[<matplotlib.lines.Line2D at 0x7f246280f760>]"
      ]
     },
     "execution_count": 30,
     "metadata": {},
     "output_type": "execute_result"
    },
    {
     "data": {
      "image/png": "[encoded data removed]",
      "text/plain": [
       "<Figure size 432x288 with 1 Axes>"
      ]
     },
     "metadata": {
      "needs_background": "light"
     },
     "output_type": "display_data"
    }
   ],
   "source": [
    "from sklearn.preprocessing import StandardScaler\n",
    "from sklearn.decomposition import PCA\n",
    "\n",
    "# center and rescale\n",
    "X = StandardScaler().fit_transform(X)\n",
    "\n",
    "pca = PCA()\n",
    "X_reduced = pca.fit_transform(X)\n",
    "\n",
    "plt.plot(pca.explained_variance_ratio_)"
   ]
  },
  {
   "cell_type": "code",
   "execution_count": 32,
   "id": "sorted-medicare",
   "metadata": {},
   "outputs": [
    {
     "data": {
      "image/png": "[encoded data removed]",
      "text/plain": [
       "<Figure size 720x504 with 1 Axes>"
      ]
     },
     "metadata": {
      "needs_background": "light"
     },
     "output_type": "display_data"
    }
   ],
   "source": [
    "# agglomerative clustering\n",
    "from scipy.cluster import hierarchy\n",
    "\n",
    "Z = hierarchy.linkage(X_reduced, method='ward')\n",
    "\n",
    "# get labels\n",
    "with open('../data/euroleaks/name_to_entity.json', 'r') as f:\n",
    "    speaker_to_entity = json.load(f)\n",
    "\n",
    "institutions = ['ECB', 'IMF', 'European Commission', 'ESM', 'EFC']\n",
    "markers = ['\\u25a0', '\\u25cb']\n",
    "labels = pd.Series(dvecs.keys()).apply(lambda s: \n",
    "        f'{markers[0] if speaker_to_entity[s] in institutions else markers[1]} {s.title()} ({speaker_to_entity[s] if s in speaker_to_entity.keys() else \"Unkown\"})').to_numpy()\n",
    "\n",
    "# plot\n",
    "fig, ax = plt.subplots(figsize=(10,7))\n",
    "\n",
    "# dendrogram\n",
    "dn = hierarchy.dendrogram(Z, \n",
    "                          orientation='left', \n",
    "                          labels=labels,\n",
    "                          ax=ax\n",
    "                         )\n",
    "\n",
    "from matplotlib.lines import Line2D\n",
    "legend_elements = [\n",
    "    Line2D([0], [0], marker='s', label='institution', color='k', linestyle='None'),\n",
    "    Line2D([0], [0], marker='o', label='country', color='k', markerfacecolor='w', linestyle='None')\n",
    "]\n",
    "ax.legend(handles=legend_elements, loc='upper left')\n",
    "\n",
    "ax.set_title('sense2vec-reddit-2015')\n",
    "fig.tight_layout()\n",
    "\n",
    "fig.savefig('../figures/wip/sense2vec-reddit-2015.png', facecolor='white')"
   ]
  },
  {
   "cell_type": "code",
   "execution_count": 23,
   "id": "interstate-shepherd",
   "metadata": {},
   "outputs": [
    {
     "data": {
      "text/plain": [
       "'THANK|VERB'"
      ]
     },
     "execution_count": 23,
     "metadata": {},
     "output_type": "execute_result"
    }
   ],
   "source": []
  },
  {
   "cell_type": "markdown",
   "id": "public-driving",
   "metadata": {},
   "source": [
    "### sanity check: don't use twitter"
   ]
  },
  {
   "cell_type": "code",
   "execution_count": 81,
   "id": "economic-newsletter",
   "metadata": {},
   "outputs": [],
   "source": [
    "model_ = api.load(\"glove-twitter-25\")"
   ]
  },
  {
   "cell_type": "code",
   "execution_count": 83,
   "id": "harmful-flooring",
   "metadata": {},
   "outputs": [
    {
     "data": {
      "text/plain": [
       "[('титул', 0.8404937386512756),\n",
       " ('заводской', 0.8266498446464539),\n",
       " ('дивизион', 0.8172610998153687),\n",
       " ('окружной', 0.8143825531005859),\n",
       " ('ανακοίνωσε', 0.8123123645782471),\n",
       " ('insolvenz', 0.8114680051803589),\n",
       " ('verklagt', 0.8110349178314209),\n",
       " ('rté', 0.807128369808197),\n",
       " ('argentinien', 0.8036397695541382),\n",
       " ('эрудит', 0.7994272708892822),\n",
       " ('тайфун', 0.793281078338623),\n",
       " ('превратила', 0.7902624607086182),\n",
       " ('промоутер', 0.7893069982528687),\n",
       " ('познание', 0.7892136573791504),\n",
       " ('окр', 0.7884601354598999),\n",
       " ('абсолютный', 0.7867385149002075),\n",
       " ('рейтингу', 0.78517746925354),\n",
       " ('аиф', 0.7848348617553711),\n",
       " ('муниципальный', 0.7845935821533203),\n",
       " ('ibnlive', 0.7843928933143616)]"
      ]
     },
     "execution_count": 83,
     "metadata": {},
     "output_type": "execute_result"
    }
   ],
   "source": [
    "model_.most_similar(\"eurogroup\",topn=20)"
   ]
  },
  {
   "cell_type": "markdown",
   "id": "relevant-sister",
   "metadata": {},
   "source": [
    "So according to this embedding, mostly Russians and Germans tweeted about the Eurogroup. rté is Irish National Television."
   ]
  },
  {
   "cell_type": "code",
   "execution_count": null,
   "id": "silent-hepatitis",
   "metadata": {},
   "outputs": [],
   "source": []
  }
 ],
 "metadata": {
  "kernelspec": {
   "display_name": "Python 3",
   "language": "python",
   "name": "python3"
  },
  "language_info": {
   "codemirror_mode": {
    "name": "ipython",
    "version": 3
   },
   "file_extension": ".py",
   "mimetype": "text/x-python",
   "name": "python",
   "nbconvert_exporter": "python",
   "pygments_lexer": "ipython3",
   "version": "3.8.5"
  }
 },
 "nbformat": 4,
 "nbformat_minor": 5
}
