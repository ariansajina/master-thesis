{
 "cells": [
  {
   "cell_type": "code",
   "execution_count": 4,
   "id": "induced-relationship",
   "metadata": {},
   "outputs": [],
   "source": [
    "import time\n",
    "import json\n",
    "\n",
    "import numpy as np\n",
    "import pandas as pd\n",
    "import matplotlib.pyplot as plt"
   ]
  },
  {
   "cell_type": "code",
   "execution_count": 5,
   "id": "right-language",
   "metadata": {},
   "outputs": [],
   "source": [
    "# read data\n",
    "df = pd.read_csv('../data/euroleaks/cleaned.csv')\n",
    "\n",
    "# stopwords\n",
    "with open('../data/euroleaks/stopwords.json', 'r') as f:\n",
    "    stopwords = json.load(f)\n",
    "    \n",
    "# collocations\n",
    "def apply_trigram_colloc(s, set_colloc):\n",
    "    res = s.lower()\n",
    "    for b1,b2,b3 in set_colloc:\n",
    "        res = res.replace(f'{b1} {b2} {b3}', f'{b1}_{b2}_{b3}')\n",
    "    return res\n",
    "\n",
    "def apply_bigram_colloc(s, set_colloc):\n",
    "    res = s.lower()\n",
    "    for b1,b2 in set_colloc:\n",
    "        res = res.replace(f'{b1} {b2}', f'{b1}_{b2}')\n",
    "    return res\n",
    "\n",
    "trigram_colloc = {('euro', 'working', 'group')}\n",
    "\n",
    "bigram_colloc = {\n",
    "    ('20th', 'february'),\n",
    "    ('aide', 'memoire'),\n",
    "    ('anti', 'corruption'),\n",
    "    ('brussel', 'group'),\n",
    "    ('capital', 'control'),\n",
    "    ('central', 'bank'),\n",
    "    ('collective', 'bargaining'),\n",
    "    ('common', 'ground'),\n",
    "    ('debt', 'sustainability'),\n",
    "    ('govern', 'council'),\n",
    "    ('growth', 'friendly'),\n",
    "    ('interest', 'rate'),\n",
    "    ('labor', 'market'),\n",
    "    ('maximum', 'flexibility'),\n",
    "    ('member', 'state'),\n",
    "    ('minimum', 'wage'),\n",
    "    ('primary', 'surplus'),\n",
    "    ('prime', 'minister'),\n",
    "    ('prior', 'action'),\n",
    "    ('product', 'market'),\n",
    "    ('second', 'letter'),\n",
    "    ('smp', 'bond'),\n",
    "    ('structural', 'reform'),\n",
    "    ('successful', 'conclusion'),\n",
    "    ('technical', 'team'),\n",
    "    ('real', 'estate')\n",
    "}"
   ]
  },
  {
   "cell_type": "markdown",
   "id": "laden-laser",
   "metadata": {},
   "source": [
    "### preprocessing"
   ]
  },
  {
   "cell_type": "code",
   "execution_count": 6,
   "id": "diagnostic-concept",
   "metadata": {},
   "outputs": [],
   "source": [
    "import spacy\n",
    "\n",
    "nlp = spacy.load('en_core_web_sm')  # speed\n",
    "#nlp = spacy.load('en_core_web_trf') # accuracy, but very slow"
   ]
  },
  {
   "cell_type": "code",
   "execution_count": 7,
   "id": "fluid-observation",
   "metadata": {},
   "outputs": [],
   "source": [
    "def filter_token(token):\n",
    "    return token.pos_ in {'ADJ', 'ADV', 'NOUN', 'PROPN', 'VERB'}\\\n",
    "        and not token.is_stop\\\n",
    "        and not token.text in stopwords['names']\\\n",
    "        and not token.text in stopwords['artifacts']\\\n",
    "        and len(token.text) > 1\n",
    "\n",
    "# and not token.text in stopwords['weak_speaker_discriminants_0.1']\\"
   ]
  },
  {
   "cell_type": "markdown",
   "id": "julian-perfume",
   "metadata": {},
   "source": [
    "#### document = date"
   ]
  },
  {
   "cell_type": "code",
   "execution_count": 8,
   "id": "solid-belle",
   "metadata": {},
   "outputs": [],
   "source": [
    "grouped = df.drop(columns=['timestamp','speaker']).groupby('date').apply(lambda s: ' '.join(s.speech))"
   ]
  },
  {
   "cell_type": "code",
   "execution_count": 9,
   "id": "arctic-recipient",
   "metadata": {},
   "outputs": [],
   "source": [
    "dates = grouped.index.to_series().apply(lambda label: pd.to_datetime(label).strftime('%d/%m')).values"
   ]
  },
  {
   "cell_type": "code",
   "execution_count": 10,
   "id": "fourth-report",
   "metadata": {},
   "outputs": [
    {
     "name": "stdout",
     "output_type": "stream",
     "text": [
      "Time taken: 0.77 mins\n"
     ]
    }
   ],
   "source": [
    "t = time.time()\n",
    "\n",
    "documents = [\n",
    "    [token.lemma_ for sentence in nlp(doc).sents for token in sentence\n",
    "            if filter_token(token)\n",
    "    ]\n",
    "    for doc in grouped.values \n",
    "]\n",
    "\n",
    "# apply collocations\n",
    "documents = [\n",
    "    apply_bigram_colloc(apply_trigram_colloc(' '.join(doc), trigram_colloc), bigram_colloc).split()\n",
    "    for doc in documents]\n",
    "\n",
    "print(f'Time taken: {round((time.time() - t) / 60, 2)} mins')"
   ]
  },
  {
   "cell_type": "code",
   "execution_count": 11,
   "id": "personal-scout",
   "metadata": {},
   "outputs": [
    {
     "data": {
      "text/plain": [
       "['response', 'question', 'ask', 'commission', 'headline']"
      ]
     },
     "execution_count": 11,
     "metadata": {},
     "output_type": "execute_result"
    }
   ],
   "source": [
    "documents[0][:5]"
   ]
  },
  {
   "cell_type": "markdown",
   "id": "married-float",
   "metadata": {},
   "source": [
    "**documents** is a list of lists of words."
   ]
  },
  {
   "cell_type": "markdown",
   "id": "covered-noise",
   "metadata": {},
   "source": [
    "### gensim LDA topic model"
   ]
  },
  {
   "cell_type": "code",
   "execution_count": 12,
   "id": "cooked-champagne",
   "metadata": {},
   "outputs": [],
   "source": [
    "from gensim.models import LdaMulticore , TfidfModel\n",
    "from gensim.corpora import Dictionary\n",
    "import multiprocessing"
   ]
  },
  {
   "cell_type": "code",
   "execution_count": 13,
   "id": "fifth-surface",
   "metadata": {},
   "outputs": [],
   "source": [
    "dictionary = Dictionary(documents)\n",
    "\n",
    "dictionary.filter_extremes(\n",
    "    no_below=2,  # Keep tokens which are contained in at least no_below documents.\n",
    "    no_above=.5 # Keep tokens which are contained in no more than no_above documents (fraction of total corpus size, not an absolute number).\n",
    ")"
   ]
  },
  {
   "cell_type": "code",
   "execution_count": 14,
   "id": "polar-coordination",
   "metadata": {},
   "outputs": [],
   "source": [
    "ldacorpus = [dictionary.doc2bow(text) for text in documents]\n",
    "\n",
    "tfidfmodel = TfidfModel(ldacorpus)\n",
    "\n",
    "model_corpus = tfidfmodel[ldacorpus]"
   ]
  },
  {
   "cell_type": "code",
   "execution_count": 15,
   "id": "tight-philadelphia",
   "metadata": {},
   "outputs": [
    {
     "name": "stdout",
     "output_type": "stream",
     "text": [
      "Number of unique tokens: 1330\n",
      "Number of documents: 12\n"
     ]
    }
   ],
   "source": [
    "print('Number of unique tokens: %d' % len(dictionary))\n",
    "print('Number of documents: %d' % len(ldacorpus))"
   ]
  },
  {
   "cell_type": "code",
   "execution_count": 18,
   "id": "absolute-metadata",
   "metadata": {},
   "outputs": [
    {
     "name": "stdout",
     "output_type": "stream",
     "text": [
      "Time taken: 0.29 mins\n"
     ]
    }
   ],
   "source": [
    "# train the model\n",
    "t = time.time()\n",
    "\n",
    "num_passes = 50\n",
    "num_topics = 4\n",
    "# find chunksize to make about 200 updates\n",
    "#chunk_size = len(model_corpus) * num_passes/200\n",
    "chunk_size = 2000\n",
    "\n",
    "model = LdaMulticore(model_corpus,\n",
    "                     id2word=dictionary,\n",
    "                     num_topics=num_topics,\n",
    "                     workers=min(10, multiprocessing.cpu_count()-1),\n",
    "                     passes=num_passes,\n",
    "                     chunksize=chunk_size)\n",
    "\n",
    "print(f'Time taken: {round((time.time() - t) / 60, 2)} mins')"
   ]
  },
  {
   "cell_type": "code",
   "execution_count": 19,
   "id": "jewish-israel",
   "metadata": {},
   "outputs": [],
   "source": [
    "# get topic proportions\n",
    "topic_corpus = model[model_corpus]"
   ]
  },
  {
   "cell_type": "code",
   "execution_count": 20,
   "id": "personal-internet",
   "metadata": {},
   "outputs": [
    {
     "data": {
      "text/plain": [
       "[(0, 0.013942054), (1, 0.01402661), (2, 0.95761466), (3, 0.0144166965)]"
      ]
     },
     "execution_count": 20,
     "metadata": {},
     "output_type": "execute_result"
    }
   ],
   "source": [
    "topic_corpus[2]"
   ]
  },
  {
   "cell_type": "code",
   "execution_count": 21,
   "id": "everyday-alcohol",
   "metadata": {},
   "outputs": [
    {
     "data": {
      "text/plain": [
       "[(0,\n",
       "  '0.003*\"referendum\" + 0.002*\"credibility\" + 0.001*\"growth_friendly\" + 0.001*\"prior_action\" + 0.001*\"adjourn\" + 0.001*\"vote\" + 0.001*\"summit\" + 0.001*\"principle\" + 0.001*\"combination\" + 0.001*\"night\"'),\n",
       " (1,\n",
       "  '0.003*\"second_letter\" + 0.002*\"aide_memoire\" + 0.002*\"letter\" + 0.002*\"prior_action\" + 0.002*\"growth_friendly\" + 0.001*\"strategic\" + 0.001*\"saturday\" + 0.001*\"referendum\" + 0.001*\"sell\" + 0.001*\"smart\"'),\n",
       " (2,\n",
       "  '0.002*\"referendum\" + 0.002*\"letter\" + 0.002*\"successful_conclusion\" + 0.002*\"elstat\" + 0.001*\"installment\" + 0.001*\"brussel_group\" + 0.001*\"april\" + 0.001*\"valid\" + 0.001*\"starting\" + 0.001*\"sufficiently\"'),\n",
       " (3,\n",
       "  '0.003*\"interest_rate\" + 0.002*\"bill\" + 0.001*\"accelerate\" + 0.001*\"side\" + 0.001*\"brussel_group\" + 0.001*\"concession\" + 0.001*\"april\" + 0.001*\"13th\" + 0.001*\"overall\" + 0.001*\"live\"')]"
      ]
     },
     "execution_count": 21,
     "metadata": {},
     "output_type": "execute_result"
    }
   ],
   "source": [
    "# examine the learned topics\n",
    "model.print_topics()"
   ]
  },
  {
   "cell_type": "code",
   "execution_count": 22,
   "id": "better-senior",
   "metadata": {},
   "outputs": [
    {
     "name": "stdout",
     "output_type": "stream",
     "text": [
      "1 \"referendum\", \"credibility\", \"growth_friendly\", \"prior_action\", \"adjourn\"\n",
      "2 \"second_letter\", \"aide_memoire\", \"letter\", \"prior_action\", \"growth_friendly\"\n",
      "3 \"referendum\", \"letter\", \"successful_conclusion\", \"elstat\", \"installment\"\n",
      "4 \"interest_rate\", \"bill\", \"accelerate\", \"side\", \"brussel_group\"\n"
     ]
    }
   ],
   "source": [
    "# pretty print\n",
    "import re\n",
    "topic_sep = re.compile(r\"0\\.[0 -9]{3}\\*\")\n",
    "\n",
    "model_topics = [( topic_no , re.sub(topic_sep , '', model_topic).\n",
    "    split(' + ')) for topic_no , model_topic in\n",
    "        model.print_topics(num_topics=num_topics,\n",
    "    num_words=5)]\n",
    "\n",
    "descriptors = []\n",
    "for i, m in model_topics:\n",
    "    print(i+1, \", \".join(m[:5]))\n",
    "    descriptors.append(\", \".join(m[:2]).replace('\"', ''))"
   ]
  },
  {
   "cell_type": "code",
   "execution_count": 23,
   "id": "coordinate-hobby",
   "metadata": {},
   "outputs": [
    {
     "data": {
      "text/html": [
       "<div>\n",
       "<style scoped>\n",
       "    .dataframe tbody tr th:only-of-type {\n",
       "        vertical-align: middle;\n",
       "    }\n",
       "\n",
       "    .dataframe tbody tr th {\n",
       "        vertical-align: top;\n",
       "    }\n",
       "\n",
       "    .dataframe thead th {\n",
       "        text-align: right;\n",
       "    }\n",
       "</style>\n",
       "<table border=\"1\" class=\"dataframe\">\n",
       "  <thead>\n",
       "    <tr style=\"text-align: right;\">\n",
       "      <th></th>\n",
       "      <th>0</th>\n",
       "      <th>1</th>\n",
       "      <th>2</th>\n",
       "      <th>3</th>\n",
       "    </tr>\n",
       "  </thead>\n",
       "  <tbody>\n",
       "    <tr>\n",
       "      <th>24/02</th>\n",
       "      <td>0.018857</td>\n",
       "      <td>0.018942</td>\n",
       "      <td>0.943073</td>\n",
       "      <td>0.019128</td>\n",
       "    </tr>\n",
       "    <tr>\n",
       "      <th>17/03</th>\n",
       "      <td>0.021223</td>\n",
       "      <td>0.021271</td>\n",
       "      <td>0.021493</td>\n",
       "      <td>0.936013</td>\n",
       "    </tr>\n",
       "    <tr>\n",
       "      <th>01/04</th>\n",
       "      <td>0.013942</td>\n",
       "      <td>0.014027</td>\n",
       "      <td>0.957639</td>\n",
       "      <td>0.014392</td>\n",
       "    </tr>\n",
       "    <tr>\n",
       "      <th>24/04</th>\n",
       "      <td>0.012962</td>\n",
       "      <td>0.013015</td>\n",
       "      <td>0.013071</td>\n",
       "      <td>0.960951</td>\n",
       "    </tr>\n",
       "    <tr>\n",
       "      <th>11/05</th>\n",
       "      <td>0.014709</td>\n",
       "      <td>0.014782</td>\n",
       "      <td>0.014907</td>\n",
       "      <td>0.955601</td>\n",
       "    </tr>\n",
       "    <tr>\n",
       "      <th>18/06</th>\n",
       "      <td>0.021176</td>\n",
       "      <td>0.021635</td>\n",
       "      <td>0.021328</td>\n",
       "      <td>0.935861</td>\n",
       "    </tr>\n",
       "    <tr>\n",
       "      <th>22/06</th>\n",
       "      <td>0.015137</td>\n",
       "      <td>0.954400</td>\n",
       "      <td>0.015138</td>\n",
       "      <td>0.015325</td>\n",
       "    </tr>\n",
       "    <tr>\n",
       "      <th>24/06</th>\n",
       "      <td>0.942600</td>\n",
       "      <td>0.019325</td>\n",
       "      <td>0.019022</td>\n",
       "      <td>0.019052</td>\n",
       "    </tr>\n",
       "    <tr>\n",
       "      <th>25/06</th>\n",
       "      <td>0.015537</td>\n",
       "      <td>0.953358</td>\n",
       "      <td>0.015489</td>\n",
       "      <td>0.015616</td>\n",
       "    </tr>\n",
       "    <tr>\n",
       "      <th>27/06</th>\n",
       "      <td>0.941544</td>\n",
       "      <td>0.019431</td>\n",
       "      <td>0.019530</td>\n",
       "      <td>0.019495</td>\n",
       "    </tr>\n",
       "    <tr>\n",
       "      <th>30/06</th>\n",
       "      <td>0.037487</td>\n",
       "      <td>0.887486</td>\n",
       "      <td>0.038027</td>\n",
       "      <td>0.037000</td>\n",
       "    </tr>\n",
       "    <tr>\n",
       "      <th>01/07</th>\n",
       "      <td>0.022395</td>\n",
       "      <td>0.022554</td>\n",
       "      <td>0.932761</td>\n",
       "      <td>0.022290</td>\n",
       "    </tr>\n",
       "  </tbody>\n",
       "</table>\n",
       "</div>"
      ],
      "text/plain": [
       "              0         1         2         3\n",
       "24/02  0.018857  0.018942  0.943073  0.019128\n",
       "17/03  0.021223  0.021271  0.021493  0.936013\n",
       "01/04  0.013942  0.014027  0.957639  0.014392\n",
       "24/04  0.012962  0.013015  0.013071  0.960951\n",
       "11/05  0.014709  0.014782  0.014907  0.955601\n",
       "18/06  0.021176  0.021635  0.021328  0.935861\n",
       "22/06  0.015137  0.954400  0.015138  0.015325\n",
       "24/06  0.942600  0.019325  0.019022  0.019052\n",
       "25/06  0.015537  0.953358  0.015489  0.015616\n",
       "27/06  0.941544  0.019431  0.019530  0.019495\n",
       "30/06  0.037487  0.887486  0.038027  0.037000\n",
       "01/07  0.022395  0.022554  0.932761  0.022290"
      ]
     },
     "execution_count": 23,
     "metadata": {},
     "output_type": "execute_result"
    }
   ],
   "source": [
    "from collections import defaultdict\n",
    "\n",
    "topic_proportions = pd.DataFrame(np.zeros((len(topic_corpus), num_topics)))\n",
    "\n",
    "for i,doc in enumerate(topic_corpus):\n",
    "    for topic in doc:\n",
    "        topic_proportions.iloc[i,topic[0]] = topic[1]\n",
    "    \n",
    "#pd.DataFrame(topic_proportions, index=dates)\n",
    "topic_proportions.set_index(dates, inplace=True)\n",
    "\n",
    "topic_proportions"
   ]
  },
  {
   "cell_type": "code",
   "execution_count": 31,
   "id": "revised-pharmaceutical",
   "metadata": {},
   "outputs": [
    {
     "data": {
      "image/png": "[encoded data removed]",
      "text/plain": [
       "<Figure size 432x288 with 1 Axes>"
      ]
     },
     "metadata": {
      "needs_background": "light"
     },
     "output_type": "display_data"
    }
   ],
   "source": [
    "ax = topic_proportions.plot.bar()\n",
    "_=ax.set_title('Eurloeaks topics')"
   ]
  },
  {
   "cell_type": "code",
   "execution_count": 29,
   "id": "favorite-equality",
   "metadata": {},
   "outputs": [
    {
     "name": "stdout",
     "output_type": "stream",
     "text": [
      "0 \"referendum\", \"credibility\", \"growth_friendly\", \"prior_action\", \"adjourn\"\n",
      "1 \"second_letter\", \"aide_memoire\", \"letter\", \"prior_action\", \"growth_friendly\"\n",
      "2 \"referendum\", \"letter\", \"successful_conclusion\", \"elstat\", \"installment\"\n",
      "3 \"interest_rate\", \"bill\", \"accelerate\", \"side\", \"brussel_group\"\n"
     ]
    }
   ],
   "source": [
    "# pretty print\n",
    "import re\n",
    "topic_sep = re.compile(r\"0\\.[0 -9]{3}\\*\")\n",
    "\n",
    "model_topics = [( topic_no , re.sub(topic_sep , '', model_topic).\n",
    "    split(' + ')) for topic_no , model_topic in\n",
    "        model.print_topics(num_topics=num_topics,\n",
    "    num_words=5)]\n",
    "\n",
    "descriptors = []\n",
    "for i, m in model_topics:\n",
    "    print(i, \", \".join(m[:5]))\n",
    "    descriptors.append(\", \".join(m[:2]).replace('\"', ''))"
   ]
  },
  {
   "cell_type": "code",
   "execution_count": null,
   "id": "endangered-summer",
   "metadata": {},
   "outputs": [],
   "source": []
  }
 ],
 "metadata": {
  "kernelspec": {
   "display_name": "Python 3",
   "language": "python",
   "name": "python3"
  },
  "language_info": {
   "codemirror_mode": {
    "name": "ipython",
    "version": 3
   },
   "file_extension": ".py",
   "mimetype": "text/x-python",
   "name": "python",
   "nbconvert_exporter": "python",
   "pygments_lexer": "ipython3",
   "version": "3.8.5"
  }
 },
 "nbformat": 4,
 "nbformat_minor": 5
}
