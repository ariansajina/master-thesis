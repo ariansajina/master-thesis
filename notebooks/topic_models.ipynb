{
 "cells": [
  {
   "cell_type": "code",
   "execution_count": 1,
   "id": "induced-relationship",
   "metadata": {},
   "outputs": [],
   "source": [
    "import time\n",
    "import json\n",
    "from pprint import pprint\n",
    "\n",
    "import numpy as np\n",
    "import pandas as pd\n",
    "import matplotlib.pyplot as plt"
   ]
  },
  {
   "cell_type": "markdown",
   "id": "cb3a55f4-f305-4407-a1da-add34b1e5b37",
   "metadata": {},
   "source": [
    "# Euroleaks"
   ]
  },
  {
   "cell_type": "markdown",
   "id": "0ee4e7cf-fb37-4476-848c-8e0717ad42d0",
   "metadata": {},
   "source": [
    "## load data"
   ]
  },
  {
   "cell_type": "code",
   "execution_count": 2,
   "id": "right-language",
   "metadata": {},
   "outputs": [],
   "source": [
    "# read data\n",
    "df = pd.read_csv('../data/euroleaks/cleaned.csv')\n",
    "\n",
    "# stopwords\n",
    "with open('../data/euroleaks/stopwords.json', 'r') as f:\n",
    "    stopwords = json.load(f)\n",
    "    \n",
    "# collocations\n",
    "def apply_trigram_colloc(s, set_colloc):\n",
    "    res = s.lower()\n",
    "    for b1,b2,b3 in set_colloc:\n",
    "        res = res.replace(f'{b1} {b2} {b3}', f'{b1}_{b2}_{b3}')\n",
    "    return res\n",
    "\n",
    "def apply_bigram_colloc(s, set_colloc):\n",
    "    res = s.lower()\n",
    "    for b1,b2 in set_colloc:\n",
    "        res = res.replace(f'{b1} {b2}', f'{b1}_{b2}')\n",
    "    return res\n",
    "\n",
    "with open('../data/collocations/trigrams.json', 'r') as f:\n",
    "    trigram_colloc = json.load(f)\n",
    "\n",
    "with open('../data/collocations/bigrams.json', 'r') as f:\n",
    "    bigram_colloc = json.load(f)"
   ]
  },
  {
   "cell_type": "code",
   "execution_count": 3,
   "id": "diagnostic-concept",
   "metadata": {},
   "outputs": [],
   "source": [
    "import spacy\n",
    "\n",
    "nlp = spacy.load('en_core_web_sm', exclude=[\"ner\"])  # speed\n",
    "#nlp = spacy.load('en_core_web_trf') # accuracy, but very slow"
   ]
  },
  {
   "cell_type": "markdown",
   "id": "covered-noise",
   "metadata": {},
   "source": [
    "## LDA topic model"
   ]
  },
  {
   "cell_type": "markdown",
   "id": "b4bba086-6c59-428a-8093-c56dee0bb4f7",
   "metadata": {},
   "source": [
    "### preprocessing"
   ]
  },
  {
   "cell_type": "code",
   "execution_count": 4,
   "id": "4ee56be8-c050-480d-a29d-03b438adc6f6",
   "metadata": {},
   "outputs": [
    {
     "name": "stdout",
     "output_type": "stream",
     "text": [
      "dict_keys(['names', 'artifacts', 'weak_speaker_discriminants_0.5', 'weak_speaker_discriminants_0.1'])\n"
     ]
    }
   ],
   "source": [
    "print(stopwords.keys())"
   ]
  },
  {
   "cell_type": "markdown",
   "id": "2876d5af-36b0-40ac-969d-ac8e07e65da1",
   "metadata": {},
   "source": [
    "- [ ] maybe remove time stopwords"
   ]
  },
  {
   "cell_type": "code",
   "execution_count": 5,
   "id": "c2a89a90-08d5-4a72-9abc-37ff0fb0df4d",
   "metadata": {},
   "outputs": [],
   "source": [
    "def filter_token(token):\n",
    "    return token.pos_ in {'ADJ', 'ADV', 'NOUN', 'PROPN', 'VERB'}\\\n",
    "        and not token.is_stop\\\n",
    "        and not token.text in stopwords['names']\\\n",
    "        and not token.text in stopwords['artifacts']\\\n",
    "        and len(token.lemma_) > 1"
   ]
  },
  {
   "cell_type": "code",
   "execution_count": 6,
   "id": "408b46ff-9e98-42dc-8add-432ae6a63e71",
   "metadata": {},
   "outputs": [
    {
     "name": "stdout",
     "output_type": "stream",
     "text": [
      "Time taken: 0.27 mins\n"
     ]
    }
   ],
   "source": [
    "t = time.time()\n",
    "\n",
    "documents = [\n",
    "    [token.lemma_ for sentence in nlp(doc).sents for token in sentence\n",
    "            if filter_token(token)\n",
    "    ]\n",
    "    for doc in df.speech.values \n",
    "]\n",
    "\n",
    "# apply collocations\n",
    "documents = [\n",
    "    apply_bigram_colloc(apply_trigram_colloc(' '.join(doc), trigram_colloc), bigram_colloc).split()\n",
    "    for doc in documents]\n",
    "\n",
    "print(f'Time taken: {round((time.time() - t) / 60, 2)} mins')"
   ]
  },
  {
   "cell_type": "code",
   "execution_count": 7,
   "id": "7758b84e-1521-4fce-92f7-08542ef9d361",
   "metadata": {},
   "outputs": [
    {
     "name": "stdout",
     "output_type": "stream",
     "text": [
      "There are a total of 30963 tokens, and a total of 1489 documents.\n"
     ]
    }
   ],
   "source": [
    "print(f'There are a total of {np.sum([len(doc) for doc in documents])} tokens, and a total of {len(documents)} documents.')"
   ]
  },
  {
   "cell_type": "code",
   "execution_count": 8,
   "id": "59143320-04fc-4330-863f-02803e0ef25f",
   "metadata": {},
   "outputs": [
    {
     "data": {
      "text/plain": [
       "'… of your responses or questions. and can i first, first ask the commission,  or pierre, to uh, give their headlines.'"
      ]
     },
     "execution_count": 8,
     "metadata": {},
     "output_type": "execute_result"
    }
   ],
   "source": [
    "df.iloc[0].speech"
   ]
  },
  {
   "cell_type": "code",
   "execution_count": 9,
   "id": "6789057e-cc1a-4b68-876b-4f5fb17b01bc",
   "metadata": {},
   "outputs": [
    {
     "data": {
      "text/plain": [
       "['response', 'question', 'ask', 'commission', 'headline']"
      ]
     },
     "execution_count": 9,
     "metadata": {},
     "output_type": "execute_result"
    }
   ],
   "source": [
    "documents[0]"
   ]
  },
  {
   "cell_type": "markdown",
   "id": "36650aed-0f22-4bad-9826-8d28c914319c",
   "metadata": {},
   "source": [
    "### dictionary: filter extremes"
   ]
  },
  {
   "cell_type": "code",
   "execution_count": 10,
   "id": "6d8fd36c-bab2-4138-a752-ea6426af7932",
   "metadata": {},
   "outputs": [],
   "source": [
    "from gensim.models import LdaMulticore, TfidfModel\n",
    "from gensim.models import CoherenceModel\n",
    "from gensim.corpora import Dictionary\n",
    "import multiprocessing"
   ]
  },
  {
   "cell_type": "code",
   "execution_count": 11,
   "id": "0c074dcd-fcb5-4704-bd36-5ef648b9626a",
   "metadata": {},
   "outputs": [],
   "source": [
    "dictionary = Dictionary(documents)\n",
    "\n",
    "no_below = 50 # Keep only tokens which are contained in at least no_below documents.\n",
    "no_above = .1 # Keep tokens which are contained in no more than no_above documents (fraction of total corpus size, not an absolute number)."
   ]
  },
  {
   "cell_type": "code",
   "execution_count": 12,
   "id": "28585422-b107-4e96-afdf-e36b5273bcfe",
   "metadata": {},
   "outputs": [
    {
     "name": "stdout",
     "output_type": "stream",
     "text": [
      "no_below will remove 3306 tokens.\n",
      "no_above will remove 16 tokens.\n"
     ]
    }
   ],
   "source": [
    "# see what will be removed\n",
    "no_below_removed = [dictionary.get(token_id) for token_id, freq in dictionary.cfs.items() if freq < no_below]\n",
    "no_above_removed = [dictionary.get(token_id) for token_id, freq in dictionary.dfs.items() if freq > no_above * len(documents)]\n",
    "\n",
    "print(f'no_below will remove {len(no_below_removed)} tokens.')\n",
    "print(f'no_above will remove {len(no_above_removed)} tokens.')"
   ]
  },
  {
   "cell_type": "code",
   "execution_count": 13,
   "id": "03fe700d-e13d-4abe-8e6e-d9c957787d63",
   "metadata": {},
   "outputs": [],
   "source": [
    "dictionary.filter_extremes(\n",
    "    no_below=no_below,\n",
    "    no_above=no_above\n",
    ")"
   ]
  },
  {
   "cell_type": "code",
   "execution_count": 14,
   "id": "daf94759-f07a-4366-9983-e45cf118473c",
   "metadata": {},
   "outputs": [],
   "source": [
    "corpus = [dictionary.doc2bow(text) for text in documents]\n",
    "\n",
    "tfidfmodel = TfidfModel(corpus)\n",
    "\n",
    "tfidf_corpus = tfidfmodel[corpus]"
   ]
  },
  {
   "cell_type": "markdown",
   "id": "988add96-0723-4ba8-ae4b-f12875e618e5",
   "metadata": {},
   "source": [
    "- Q: should I use term-document frequency (BoW) or TF-IDF as input to LDA? A: use it as a hyperparameter in the grid search."
   ]
  },
  {
   "cell_type": "code",
   "execution_count": 15,
   "id": "e6b7ca2f-92a0-4697-869c-8a507dccd114",
   "metadata": {},
   "outputs": [
    {
     "name": "stdout",
     "output_type": "stream",
     "text": [
      "Number of unique tokens: 81\n",
      "Number of documents: 1489\n"
     ]
    }
   ],
   "source": [
    "print('Number of unique tokens: %d' % len(dictionary))\n",
    "print('Number of documents: %d' % len(corpus))"
   ]
  },
  {
   "cell_type": "code",
   "execution_count": 16,
   "id": "c3855d3a-5c73-40c3-9927-9911b50b977f",
   "metadata": {},
   "outputs": [],
   "source": [
    "def filter_extremes(documents, no_below, no_above):\n",
    "    \n",
    "    dictionary = Dictionary(documents)\n",
    "    dictionary.filter_extremes(no_below=no_below, no_above=no_above)\n",
    "    \n",
    "    corpus = [dictionary.doc2bow(text) for text in documents]\n",
    "\n",
    "    tfidfmodel = TfidfModel(corpus)\n",
    "\n",
    "    tfidf_corpus = tfidfmodel[corpus]\n",
    "    \n",
    "    return dictionary, tfidf_corpus"
   ]
  },
  {
   "cell_type": "markdown",
   "id": "89b1f287-cc30-474b-a0b3-6277f6d04ec0",
   "metadata": {},
   "source": [
    "### basic model"
   ]
  },
  {
   "cell_type": "code",
   "execution_count": 17,
   "id": "809a48e2-04bd-4f0e-97fa-463a98f48166",
   "metadata": {},
   "outputs": [
    {
     "name": "stdout",
     "output_type": "stream",
     "text": [
      "Time taken: 0.2 mins\n"
     ]
    }
   ],
   "source": [
    "t = time.time()\n",
    "\n",
    "lda_model = LdaMulticore(corpus=corpus,\n",
    "                         id2word=dictionary,\n",
    "                         num_topics=2, \n",
    "                         random_state=100,\n",
    "                         iterations=400,\n",
    "                         passes=20\n",
    "                        )\n",
    "\n",
    "print(f'Time taken: {round((time.time() - t) / 60, 2)} mins')"
   ]
  },
  {
   "cell_type": "code",
   "execution_count": 19,
   "id": "f4c3a716-77de-4385-8481-1d862d48b55b",
   "metadata": {},
   "outputs": [
    {
     "name": "stdout",
     "output_type": "stream",
     "text": [
      "[(0,\n",
      "  '0.050*\"program\" + 0.043*\"greece\" + 0.042*\"reform\" + 0.040*\"agree\" + '\n",
      "  '0.029*\"pension\" + 0.029*\"eurogroup\" + 0.028*\"clear\" + 0.026*\"month\" + '\n",
      "  '0.024*\"list\" + 0.023*\"parliament\"'),\n",
      " (1,\n",
      "  '0.043*\"work\" + 0.037*\"process\" + 0.034*\"ask\" + 0.028*\"issue\" + '\n",
      "  '0.026*\"meeting\" + 0.025*\"like\" + 0.025*\"term\" + 0.024*\"colleague\" + '\n",
      "  '0.024*\"situation\" + 0.023*\"course\"')]\n"
     ]
    }
   ],
   "source": [
    "from pprint import pprint\n",
    "\n",
    "pprint(lda_model.print_topics())"
   ]
  },
  {
   "cell_type": "code",
   "execution_count": 20,
   "id": "35f49a57-15a4-443c-9905-3a06e9609196",
   "metadata": {},
   "outputs": [
    {
     "name": "stdout",
     "output_type": "stream",
     "text": [
      "\n",
      "Coherence Score: -2.4310578208474922\n"
     ]
    }
   ],
   "source": [
    "from gensim.models import CoherenceModel\n",
    "\n",
    "coherence_model_lda = CoherenceModel(model=lda_model,\n",
    "                                     corpus=corpus,\n",
    "                                     coherence='u_mass')\n",
    "\n",
    "coherence_lda = coherence_model_lda.get_coherence()\n",
    "print(f'\\nCoherence Score: {coherence_lda}')"
   ]
  },
  {
   "cell_type": "markdown",
   "id": "9c1caa80-6c88-408c-88dd-06b8f87e69e9",
   "metadata": {},
   "source": [
    "### grid search: k, alpha, beta"
   ]
  },
  {
   "cell_type": "code",
   "execution_count": 21,
   "id": "762323c7-0941-4b8c-a10e-8ed7b6abbbdf",
   "metadata": {},
   "outputs": [],
   "source": [
    "import multiprocessing\n",
    "n_cores = multiprocessing.cpu_count() - 1"
   ]
  },
  {
   "cell_type": "code",
   "execution_count": 22,
   "id": "48032126-893a-4939-bb43-ee546d5b9fcc",
   "metadata": {},
   "outputs": [],
   "source": [
    "# supporting function\n",
    "def compute_coherence_values(corpus, dictionary, num_topics, alpha, beta):\n",
    "    \n",
    "    lda_model = LdaMulticore(corpus=corpus,\n",
    "                             id2word=dictionary,\n",
    "                             num_topics=num_topics, \n",
    "                             random_state=100,\n",
    "                             iterations=400,\n",
    "                             passes=20,\n",
    "                             alpha=alpha,\n",
    "                             eta=beta,\n",
    "                             workers=n_cores)\n",
    "    \n",
    "    coherence_model_lda = CoherenceModel(model=lda_model,\n",
    "                                         corpus=corpus, \n",
    "                                         coherence='u_mass')\n",
    "    \n",
    "    return coherence_model_lda.get_coherence()"
   ]
  },
  {
   "cell_type": "markdown",
   "id": "a71229d7-80cc-42f8-9d64-ddfcda72f67c",
   "metadata": {},
   "source": [
    "TF-IDF yields better coherence score consistently, so just use that."
   ]
  },
  {
   "cell_type": "code",
   "execution_count": 23,
   "id": "54edb633-4f47-4bbd-8b26-3ea34711ed82",
   "metadata": {},
   "outputs": [
    {
     "name": "stdout",
     "output_type": "stream",
     "text": [
      "You are about to execute 1800 runs. This could take up to 540.0 minutes.\n"
     ]
    }
   ],
   "source": [
    "# filter extremes\n",
    "no_belows = [0, 5, 10, 20, 30]\n",
    "no_aboves = [.1, 1]\n",
    "\n",
    "# k = number of topics hyperparameter\n",
    "topics_range = range(1,7)\n",
    "\n",
    "# alpha hyperparameter\n",
    "alpha = [.01, .3, .6, 1]\n",
    "alpha.append('symmetric')\n",
    "alpha.append('asymmetric')\n",
    "\n",
    "# beta hyperparameter\n",
    "beta = [.01, .3, .6, 1]\n",
    "beta.append('symmetric')\n",
    "\n",
    "\n",
    "model_results = {'no_below': [],\n",
    "                 'no_above': [],\n",
    "                 'corpus': [],\n",
    "                 'num_topics': [],\n",
    "                 'alpha': [],\n",
    "                 'beta': [],\n",
    "                 'coherence': []\n",
    "                }\n",
    "\n",
    "number_of_runs = len(no_belows) * len(no_aboves) * len(topics_range) * len(alpha) * len(beta)\n",
    "print(f'You are about to execute {number_of_runs} runs. This could take up to {np.round(number_of_runs*0.3,2)} minutes.')"
   ]
  },
  {
   "cell_type": "code",
   "execution_count": 24,
   "id": "1ba1c2eb-8248-45e0-b72b-fce7efddb937",
   "metadata": {},
   "outputs": [
    {
     "name": "stderr",
     "output_type": "stream",
     "text": [
      " 26%|██▌       | 467/1800 [2:48:36<8:01:17, 21.66s/it]   \n"
     ]
    },
    {
     "ename": "KeyboardInterrupt",
     "evalue": "",
     "output_type": "error",
     "traceback": [
      "\u001b[0;31m---------------------------------------------------------------------------\u001b[0m",
      "\u001b[0;31mKeyboardInterrupt\u001b[0m                         Traceback (most recent call last)",
      "\u001b[0;32m<ipython-input-24-1307e94ecb2c>\u001b[0m in \u001b[0;36m<module>\u001b[0;34m\u001b[0m\n\u001b[1;32m     17\u001b[0m                     \u001b[0;32mfor\u001b[0m \u001b[0mb\u001b[0m \u001b[0;32min\u001b[0m \u001b[0mbeta\u001b[0m\u001b[0;34m:\u001b[0m\u001b[0;34m\u001b[0m\u001b[0;34m\u001b[0m\u001b[0m\n\u001b[1;32m     18\u001b[0m                         \u001b[0;31m# get the coherence score for the given parameters\u001b[0m\u001b[0;34m\u001b[0m\u001b[0;34m\u001b[0m\u001b[0;34m\u001b[0m\u001b[0m\n\u001b[0;32m---> 19\u001b[0;31m                         cv = compute_coherence_values(corpus=tfidf_corpus,\n\u001b[0m\u001b[1;32m     20\u001b[0m                                                       \u001b[0mdictionary\u001b[0m\u001b[0;34m=\u001b[0m\u001b[0mdictionary\u001b[0m\u001b[0;34m,\u001b[0m\u001b[0;34m\u001b[0m\u001b[0;34m\u001b[0m\u001b[0m\n\u001b[1;32m     21\u001b[0m                                                       \u001b[0mnum_topics\u001b[0m\u001b[0;34m=\u001b[0m\u001b[0mk\u001b[0m\u001b[0;34m,\u001b[0m\u001b[0;34m\u001b[0m\u001b[0;34m\u001b[0m\u001b[0m\n",
      "\u001b[0;32m<ipython-input-22-8c8baea02593>\u001b[0m in \u001b[0;36mcompute_coherence_values\u001b[0;34m(corpus, dictionary, num_topics, alpha, beta)\u001b[0m\n\u001b[1;32m      2\u001b[0m \u001b[0;32mdef\u001b[0m \u001b[0mcompute_coherence_values\u001b[0m\u001b[0;34m(\u001b[0m\u001b[0mcorpus\u001b[0m\u001b[0;34m,\u001b[0m \u001b[0mdictionary\u001b[0m\u001b[0;34m,\u001b[0m \u001b[0mnum_topics\u001b[0m\u001b[0;34m,\u001b[0m \u001b[0malpha\u001b[0m\u001b[0;34m,\u001b[0m \u001b[0mbeta\u001b[0m\u001b[0;34m)\u001b[0m\u001b[0;34m:\u001b[0m\u001b[0;34m\u001b[0m\u001b[0;34m\u001b[0m\u001b[0m\n\u001b[1;32m      3\u001b[0m \u001b[0;34m\u001b[0m\u001b[0m\n\u001b[0;32m----> 4\u001b[0;31m     lda_model = LdaMulticore(corpus=corpus,\n\u001b[0m\u001b[1;32m      5\u001b[0m                              \u001b[0mid2word\u001b[0m\u001b[0;34m=\u001b[0m\u001b[0mdictionary\u001b[0m\u001b[0;34m,\u001b[0m\u001b[0;34m\u001b[0m\u001b[0;34m\u001b[0m\u001b[0m\n\u001b[1;32m      6\u001b[0m                              \u001b[0mnum_topics\u001b[0m\u001b[0;34m=\u001b[0m\u001b[0mnum_topics\u001b[0m\u001b[0;34m,\u001b[0m\u001b[0;34m\u001b[0m\u001b[0;34m\u001b[0m\u001b[0m\n",
      "\u001b[0;32m~/repos/master-thesis/.env/lib/python3.8/site-packages/gensim/models/ldamulticore.py\u001b[0m in \u001b[0;36m__init__\u001b[0;34m(self, corpus, num_topics, id2word, workers, chunksize, passes, batch, alpha, eta, decay, offset, eval_every, iterations, gamma_threshold, random_state, minimum_probability, minimum_phi_value, per_word_topics, dtype)\u001b[0m\n\u001b[1;32m    177\u001b[0m             \u001b[0;32mraise\u001b[0m \u001b[0mNotImplementedError\u001b[0m\u001b[0;34m(\u001b[0m\u001b[0;34m\"auto-tuning alpha not implemented in multicore LDA; use plain LdaModel.\"\u001b[0m\u001b[0;34m)\u001b[0m\u001b[0;34m\u001b[0m\u001b[0;34m\u001b[0m\u001b[0m\n\u001b[1;32m    178\u001b[0m \u001b[0;34m\u001b[0m\u001b[0m\n\u001b[0;32m--> 179\u001b[0;31m         super(LdaMulticore, self).__init__(\n\u001b[0m\u001b[1;32m    180\u001b[0m             \u001b[0mcorpus\u001b[0m\u001b[0;34m=\u001b[0m\u001b[0mcorpus\u001b[0m\u001b[0;34m,\u001b[0m \u001b[0mnum_topics\u001b[0m\u001b[0;34m=\u001b[0m\u001b[0mnum_topics\u001b[0m\u001b[0;34m,\u001b[0m\u001b[0;34m\u001b[0m\u001b[0;34m\u001b[0m\u001b[0m\n\u001b[1;32m    181\u001b[0m             \u001b[0mid2word\u001b[0m\u001b[0;34m=\u001b[0m\u001b[0mid2word\u001b[0m\u001b[0;34m,\u001b[0m \u001b[0mchunksize\u001b[0m\u001b[0;34m=\u001b[0m\u001b[0mchunksize\u001b[0m\u001b[0;34m,\u001b[0m \u001b[0mpasses\u001b[0m\u001b[0;34m=\u001b[0m\u001b[0mpasses\u001b[0m\u001b[0;34m,\u001b[0m \u001b[0malpha\u001b[0m\u001b[0;34m=\u001b[0m\u001b[0malpha\u001b[0m\u001b[0;34m,\u001b[0m \u001b[0meta\u001b[0m\u001b[0;34m=\u001b[0m\u001b[0meta\u001b[0m\u001b[0;34m,\u001b[0m\u001b[0;34m\u001b[0m\u001b[0;34m\u001b[0m\u001b[0m\n",
      "\u001b[0;32m~/repos/master-thesis/.env/lib/python3.8/site-packages/gensim/models/ldamodel.py\u001b[0m in \u001b[0;36m__init__\u001b[0;34m(self, corpus, num_topics, id2word, distributed, chunksize, passes, update_every, alpha, eta, decay, offset, eval_every, iterations, gamma_threshold, minimum_probability, random_state, ns_conf, minimum_phi_value, per_word_topics, callbacks, dtype)\u001b[0m\n\u001b[1;32m    521\u001b[0m             \u001b[0muse_numpy\u001b[0m \u001b[0;34m=\u001b[0m \u001b[0mself\u001b[0m\u001b[0;34m.\u001b[0m\u001b[0mdispatcher\u001b[0m \u001b[0;32mis\u001b[0m \u001b[0;32mnot\u001b[0m \u001b[0;32mNone\u001b[0m\u001b[0;34m\u001b[0m\u001b[0;34m\u001b[0m\u001b[0m\n\u001b[1;32m    522\u001b[0m             \u001b[0mstart\u001b[0m \u001b[0;34m=\u001b[0m \u001b[0mtime\u001b[0m\u001b[0;34m.\u001b[0m\u001b[0mtime\u001b[0m\u001b[0;34m(\u001b[0m\u001b[0;34m)\u001b[0m\u001b[0;34m\u001b[0m\u001b[0;34m\u001b[0m\u001b[0m\n\u001b[0;32m--> 523\u001b[0;31m             \u001b[0mself\u001b[0m\u001b[0;34m.\u001b[0m\u001b[0mupdate\u001b[0m\u001b[0;34m(\u001b[0m\u001b[0mcorpus\u001b[0m\u001b[0;34m,\u001b[0m \u001b[0mchunks_as_numpy\u001b[0m\u001b[0;34m=\u001b[0m\u001b[0muse_numpy\u001b[0m\u001b[0;34m)\u001b[0m\u001b[0;34m\u001b[0m\u001b[0;34m\u001b[0m\u001b[0m\n\u001b[0m\u001b[1;32m    524\u001b[0m             self.add_lifecycle_event(\n\u001b[1;32m    525\u001b[0m                 \u001b[0;34m\"created\"\u001b[0m\u001b[0;34m,\u001b[0m\u001b[0;34m\u001b[0m\u001b[0;34m\u001b[0m\u001b[0m\n",
      "\u001b[0;32m~/repos/master-thesis/.env/lib/python3.8/site-packages/gensim/models/ldamulticore.py\u001b[0m in \u001b[0;36mupdate\u001b[0;34m(self, corpus, chunks_as_numpy)\u001b[0m\n\u001b[1;32m    308\u001b[0m             \u001b[0;31m# wait for all outstanding jobs to finish\u001b[0m\u001b[0;34m\u001b[0m\u001b[0;34m\u001b[0m\u001b[0;34m\u001b[0m\u001b[0m\n\u001b[1;32m    309\u001b[0m             \u001b[0;32mwhile\u001b[0m \u001b[0mqueue_size\u001b[0m\u001b[0;34m[\u001b[0m\u001b[0;36m0\u001b[0m\u001b[0;34m]\u001b[0m \u001b[0;34m>\u001b[0m \u001b[0;36m0\u001b[0m\u001b[0;34m:\u001b[0m\u001b[0;34m\u001b[0m\u001b[0;34m\u001b[0m\u001b[0m\n\u001b[0;32m--> 310\u001b[0;31m                 \u001b[0mprocess_result_queue\u001b[0m\u001b[0;34m(\u001b[0m\u001b[0mforce\u001b[0m\u001b[0;34m=\u001b[0m\u001b[0;32mTrue\u001b[0m\u001b[0;34m)\u001b[0m\u001b[0;34m\u001b[0m\u001b[0;34m\u001b[0m\u001b[0m\n\u001b[0m\u001b[1;32m    311\u001b[0m \u001b[0;34m\u001b[0m\u001b[0m\n\u001b[1;32m    312\u001b[0m             \u001b[0;32mif\u001b[0m \u001b[0mreallen\u001b[0m \u001b[0;34m!=\u001b[0m \u001b[0mlencorpus\u001b[0m\u001b[0;34m:\u001b[0m\u001b[0;34m\u001b[0m\u001b[0;34m\u001b[0m\u001b[0m\n",
      "\u001b[0;32m~/repos/master-thesis/.env/lib/python3.8/site-packages/gensim/models/ldamulticore.py\u001b[0m in \u001b[0;36mprocess_result_queue\u001b[0;34m(force)\u001b[0m\n\u001b[1;32m    266\u001b[0m             \"\"\"\n\u001b[1;32m    267\u001b[0m             \u001b[0mmerged_new\u001b[0m \u001b[0;34m=\u001b[0m \u001b[0;32mFalse\u001b[0m\u001b[0;34m\u001b[0m\u001b[0;34m\u001b[0m\u001b[0m\n\u001b[0;32m--> 268\u001b[0;31m             \u001b[0;32mwhile\u001b[0m \u001b[0;32mnot\u001b[0m \u001b[0mresult_queue\u001b[0m\u001b[0;34m.\u001b[0m\u001b[0mempty\u001b[0m\u001b[0;34m(\u001b[0m\u001b[0;34m)\u001b[0m\u001b[0;34m:\u001b[0m\u001b[0;34m\u001b[0m\u001b[0;34m\u001b[0m\u001b[0m\n\u001b[0m\u001b[1;32m    269\u001b[0m                 \u001b[0mother\u001b[0m\u001b[0;34m.\u001b[0m\u001b[0mmerge\u001b[0m\u001b[0;34m(\u001b[0m\u001b[0mresult_queue\u001b[0m\u001b[0;34m.\u001b[0m\u001b[0mget\u001b[0m\u001b[0;34m(\u001b[0m\u001b[0;34m)\u001b[0m\u001b[0;34m)\u001b[0m\u001b[0;34m\u001b[0m\u001b[0;34m\u001b[0m\u001b[0m\n\u001b[1;32m    270\u001b[0m                 \u001b[0mqueue_size\u001b[0m\u001b[0;34m[\u001b[0m\u001b[0;36m0\u001b[0m\u001b[0;34m]\u001b[0m \u001b[0;34m-=\u001b[0m \u001b[0;36m1\u001b[0m\u001b[0;34m\u001b[0m\u001b[0;34m\u001b[0m\u001b[0m\n",
      "\u001b[0;32m/Library/Frameworks/Python.framework/Versions/3.8/lib/python3.8/multiprocessing/queues.py\u001b[0m in \u001b[0;36mempty\u001b[0;34m(self)\u001b[0m\n\u001b[1;32m    121\u001b[0m \u001b[0;34m\u001b[0m\u001b[0m\n\u001b[1;32m    122\u001b[0m     \u001b[0;32mdef\u001b[0m \u001b[0mempty\u001b[0m\u001b[0;34m(\u001b[0m\u001b[0mself\u001b[0m\u001b[0;34m)\u001b[0m\u001b[0;34m:\u001b[0m\u001b[0;34m\u001b[0m\u001b[0;34m\u001b[0m\u001b[0m\n\u001b[0;32m--> 123\u001b[0;31m         \u001b[0;32mreturn\u001b[0m \u001b[0;32mnot\u001b[0m \u001b[0mself\u001b[0m\u001b[0;34m.\u001b[0m\u001b[0m_poll\u001b[0m\u001b[0;34m(\u001b[0m\u001b[0;34m)\u001b[0m\u001b[0;34m\u001b[0m\u001b[0;34m\u001b[0m\u001b[0m\n\u001b[0m\u001b[1;32m    124\u001b[0m \u001b[0;34m\u001b[0m\u001b[0m\n\u001b[1;32m    125\u001b[0m     \u001b[0;32mdef\u001b[0m \u001b[0mfull\u001b[0m\u001b[0;34m(\u001b[0m\u001b[0mself\u001b[0m\u001b[0;34m)\u001b[0m\u001b[0;34m:\u001b[0m\u001b[0;34m\u001b[0m\u001b[0;34m\u001b[0m\u001b[0m\n",
      "\u001b[0;32m/Library/Frameworks/Python.framework/Versions/3.8/lib/python3.8/multiprocessing/connection.py\u001b[0m in \u001b[0;36mpoll\u001b[0;34m(self, timeout)\u001b[0m\n\u001b[1;32m    255\u001b[0m         \u001b[0mself\u001b[0m\u001b[0;34m.\u001b[0m\u001b[0m_check_closed\u001b[0m\u001b[0;34m(\u001b[0m\u001b[0;34m)\u001b[0m\u001b[0;34m\u001b[0m\u001b[0;34m\u001b[0m\u001b[0m\n\u001b[1;32m    256\u001b[0m         \u001b[0mself\u001b[0m\u001b[0;34m.\u001b[0m\u001b[0m_check_readable\u001b[0m\u001b[0;34m(\u001b[0m\u001b[0;34m)\u001b[0m\u001b[0;34m\u001b[0m\u001b[0;34m\u001b[0m\u001b[0m\n\u001b[0;32m--> 257\u001b[0;31m         \u001b[0;32mreturn\u001b[0m \u001b[0mself\u001b[0m\u001b[0;34m.\u001b[0m\u001b[0m_poll\u001b[0m\u001b[0;34m(\u001b[0m\u001b[0mtimeout\u001b[0m\u001b[0;34m)\u001b[0m\u001b[0;34m\u001b[0m\u001b[0;34m\u001b[0m\u001b[0m\n\u001b[0m\u001b[1;32m    258\u001b[0m \u001b[0;34m\u001b[0m\u001b[0m\n\u001b[1;32m    259\u001b[0m     \u001b[0;32mdef\u001b[0m \u001b[0m__enter__\u001b[0m\u001b[0;34m(\u001b[0m\u001b[0mself\u001b[0m\u001b[0;34m)\u001b[0m\u001b[0;34m:\u001b[0m\u001b[0;34m\u001b[0m\u001b[0;34m\u001b[0m\u001b[0m\n",
      "\u001b[0;32m/Library/Frameworks/Python.framework/Versions/3.8/lib/python3.8/multiprocessing/connection.py\u001b[0m in \u001b[0;36m_poll\u001b[0;34m(self, timeout)\u001b[0m\n\u001b[1;32m    422\u001b[0m \u001b[0;34m\u001b[0m\u001b[0m\n\u001b[1;32m    423\u001b[0m     \u001b[0;32mdef\u001b[0m \u001b[0m_poll\u001b[0m\u001b[0;34m(\u001b[0m\u001b[0mself\u001b[0m\u001b[0;34m,\u001b[0m \u001b[0mtimeout\u001b[0m\u001b[0;34m)\u001b[0m\u001b[0;34m:\u001b[0m\u001b[0;34m\u001b[0m\u001b[0;34m\u001b[0m\u001b[0m\n\u001b[0;32m--> 424\u001b[0;31m         \u001b[0mr\u001b[0m \u001b[0;34m=\u001b[0m \u001b[0mwait\u001b[0m\u001b[0;34m(\u001b[0m\u001b[0;34m[\u001b[0m\u001b[0mself\u001b[0m\u001b[0;34m]\u001b[0m\u001b[0;34m,\u001b[0m \u001b[0mtimeout\u001b[0m\u001b[0;34m)\u001b[0m\u001b[0;34m\u001b[0m\u001b[0;34m\u001b[0m\u001b[0m\n\u001b[0m\u001b[1;32m    425\u001b[0m         \u001b[0;32mreturn\u001b[0m \u001b[0mbool\u001b[0m\u001b[0;34m(\u001b[0m\u001b[0mr\u001b[0m\u001b[0;34m)\u001b[0m\u001b[0;34m\u001b[0m\u001b[0;34m\u001b[0m\u001b[0m\n\u001b[1;32m    426\u001b[0m \u001b[0;34m\u001b[0m\u001b[0m\n",
      "\u001b[0;32m/Library/Frameworks/Python.framework/Versions/3.8/lib/python3.8/multiprocessing/connection.py\u001b[0m in \u001b[0;36mwait\u001b[0;34m(object_list, timeout)\u001b[0m\n\u001b[1;32m    929\u001b[0m \u001b[0;34m\u001b[0m\u001b[0m\n\u001b[1;32m    930\u001b[0m             \u001b[0;32mwhile\u001b[0m \u001b[0;32mTrue\u001b[0m\u001b[0;34m:\u001b[0m\u001b[0;34m\u001b[0m\u001b[0;34m\u001b[0m\u001b[0m\n\u001b[0;32m--> 931\u001b[0;31m                 \u001b[0mready\u001b[0m \u001b[0;34m=\u001b[0m \u001b[0mselector\u001b[0m\u001b[0;34m.\u001b[0m\u001b[0mselect\u001b[0m\u001b[0;34m(\u001b[0m\u001b[0mtimeout\u001b[0m\u001b[0;34m)\u001b[0m\u001b[0;34m\u001b[0m\u001b[0;34m\u001b[0m\u001b[0m\n\u001b[0m\u001b[1;32m    932\u001b[0m                 \u001b[0;32mif\u001b[0m \u001b[0mready\u001b[0m\u001b[0;34m:\u001b[0m\u001b[0;34m\u001b[0m\u001b[0;34m\u001b[0m\u001b[0m\n\u001b[1;32m    933\u001b[0m                     \u001b[0;32mreturn\u001b[0m \u001b[0;34m[\u001b[0m\u001b[0mkey\u001b[0m\u001b[0;34m.\u001b[0m\u001b[0mfileobj\u001b[0m \u001b[0;32mfor\u001b[0m \u001b[0;34m(\u001b[0m\u001b[0mkey\u001b[0m\u001b[0;34m,\u001b[0m \u001b[0mevents\u001b[0m\u001b[0;34m)\u001b[0m \u001b[0;32min\u001b[0m \u001b[0mready\u001b[0m\u001b[0;34m]\u001b[0m\u001b[0;34m\u001b[0m\u001b[0;34m\u001b[0m\u001b[0m\n",
      "\u001b[0;32m/Library/Frameworks/Python.framework/Versions/3.8/lib/python3.8/selectors.py\u001b[0m in \u001b[0;36mselect\u001b[0;34m(self, timeout)\u001b[0m\n\u001b[1;32m    413\u001b[0m         \u001b[0mready\u001b[0m \u001b[0;34m=\u001b[0m \u001b[0;34m[\u001b[0m\u001b[0;34m]\u001b[0m\u001b[0;34m\u001b[0m\u001b[0;34m\u001b[0m\u001b[0m\n\u001b[1;32m    414\u001b[0m         \u001b[0;32mtry\u001b[0m\u001b[0;34m:\u001b[0m\u001b[0;34m\u001b[0m\u001b[0;34m\u001b[0m\u001b[0m\n\u001b[0;32m--> 415\u001b[0;31m             \u001b[0mfd_event_list\u001b[0m \u001b[0;34m=\u001b[0m \u001b[0mself\u001b[0m\u001b[0;34m.\u001b[0m\u001b[0m_selector\u001b[0m\u001b[0;34m.\u001b[0m\u001b[0mpoll\u001b[0m\u001b[0;34m(\u001b[0m\u001b[0mtimeout\u001b[0m\u001b[0;34m)\u001b[0m\u001b[0;34m\u001b[0m\u001b[0;34m\u001b[0m\u001b[0m\n\u001b[0m\u001b[1;32m    416\u001b[0m         \u001b[0;32mexcept\u001b[0m \u001b[0mInterruptedError\u001b[0m\u001b[0;34m:\u001b[0m\u001b[0;34m\u001b[0m\u001b[0;34m\u001b[0m\u001b[0m\n\u001b[1;32m    417\u001b[0m             \u001b[0;32mreturn\u001b[0m \u001b[0mready\u001b[0m\u001b[0;34m\u001b[0m\u001b[0;34m\u001b[0m\u001b[0m\n",
      "\u001b[0;31mKeyboardInterrupt\u001b[0m: "
     ]
    }
   ],
   "source": [
    "import tqdm\n",
    "\n",
    "with tqdm.tqdm(total=number_of_runs) as pbar:\n",
    "    \n",
    "    # iterate through filter extremes\n",
    "    for no_below in no_belows:\n",
    "        for no_above in no_aboves:\n",
    "            \n",
    "            dictionary, tfidf_corpus = filter_extremes(documents, no_below, no_above)\n",
    "    \n",
    "\n",
    "            # iterate through number of topics\n",
    "            for k in topics_range:\n",
    "                # iterate through alpha values\n",
    "                for a in alpha:\n",
    "                    # iterare through beta values\n",
    "                    for b in beta:\n",
    "                        # get the coherence score for the given parameters\n",
    "                        cv = compute_coherence_values(corpus=tfidf_corpus,\n",
    "                                                      dictionary=dictionary, \n",
    "                                                      num_topics=k,\n",
    "                                                      alpha=a,\n",
    "                                                      beta=b)\n",
    "                        # save the model results\n",
    "                        model_results['no_below'].append(no_below)\n",
    "                        model_results['no_above'].append(no_above)\n",
    "                        model_results['corpus'].append('tfidf')\n",
    "                        model_results['num_topics'].append(k)\n",
    "                        model_results['alpha'].append(a)\n",
    "                        model_results['beta'].append(b)\n",
    "                        model_results['coherence'].append(cv)\n",
    "\n",
    "                        # update process bar\n",
    "                        pbar.update(1)\n",
    "                \n",
    "pd.DataFrame(model_results).to_csv('../data/euroleaks/lda_tuning_results.csv', index=False)"
   ]
  },
  {
   "cell_type": "markdown",
   "id": "5b56f7c7-2222-4133-a7a6-84bd7f9c0a6b",
   "metadata": {},
   "source": [
    "### best model"
   ]
  },
  {
   "cell_type": "code",
   "execution_count": 102,
   "id": "3f9d5cf4-7fb2-48b2-a563-74dc7d381793",
   "metadata": {},
   "outputs": [
    {
     "data": {
      "text/plain": [
       "no_below             5\n",
       "no_above          0.05\n",
       "corpus          TF-IDF\n",
       "num_topics           3\n",
       "alpha             0.01\n",
       "beta              0.01\n",
       "coherence    -6.469997\n",
       "Name: 5, dtype: object"
      ]
     },
     "execution_count": 102,
     "metadata": {},
     "output_type": "execute_result"
    }
   ],
   "source": [
    "# find best combination of hyperparams\n",
    "results = pd.read_csv('../data/euroleaks/lda_tuning_results.csv')\n",
    "best = results.iloc[np.argmin(results['coherence'])]\n",
    "best"
   ]
  },
  {
   "cell_type": "code",
   "execution_count": 197,
   "id": "de51b56e-312f-4238-a6ac-767614abe19d",
   "metadata": {},
   "outputs": [],
   "source": [
    "# train basic LDA model with those hyperparameters\n",
    "\n",
    "dictionary, corpora = filter_extremes(documents, best['no_below'], best['no_above'])\n",
    "\n",
    "lda_model = LdaMulticore(corpus=corpus if best['corpus'] == corpus_title[0] else tfidf_corpus,\n",
    "                         id2word=dictionary,\n",
    "                         num_topics=best['num_topics'],\n",
    "                         alpha=best['alpha'],\n",
    "                         eta=best['beta'],\n",
    "                         random_state=100,\n",
    "                         iterations=400,\n",
    "                         passes=20\n",
    "                        )\n",
    "\n",
    "\n",
    "# get coherence per topic\n",
    "\n",
    "coherence_model_lda = CoherenceModel(model=lda_model,\n",
    "                                     corpus=corpus, \n",
    "                                     coherence='u_mass')\n",
    "\n",
    "coherence_per_topic = coherence_model_lda.get_coherence_per_topic()"
   ]
  },
  {
   "cell_type": "code",
   "execution_count": 198,
   "id": "edcb812b-e0bc-4107-8339-13c3f87ec7f6",
   "metadata": {},
   "outputs": [
    {
     "name": "stdout",
     "output_type": "stream",
     "text": [
      "[(0,\n",
      "  '0.036*\"call\" + 0.034*\"carefully\" + 0.030*\"critical\" + 0.030*\"memorandum\" + '\n",
      "  '0.025*\"decision\" + 0.025*\"initiative\" + 0.023*\"european\" + 0.023*\"assess\" + '\n",
      "  '0.021*\"financing\" + 0.021*\"basis\"'),\n",
      " (1,\n",
      "  '0.053*\"important\" + 0.040*\"impact\" + 0.034*\"headline\" + 0.031*\"financial\" + '\n",
      "  '0.030*\"response\" + 0.030*\"unilateral\" + 0.030*\"basis\" + '\n",
      "  '0.029*\"primary_surplus\" + 0.027*\"end\" + 0.026*\"legal\"'),\n",
      " (2,\n",
      "  '0.036*\"structural_reform\" + 0.033*\"provide\" + 0.030*\"proceed\" + '\n",
      "  '0.027*\"yesterday\" + 0.026*\"facility\" + 0.025*\"uh-\" + 0.024*\"commission\" + '\n",
      "  '0.024*\"successful_conclusion\" + 0.024*\"economic\" + 0.023*\"fully\"')]\n"
     ]
    }
   ],
   "source": [
    "pprint(lda_model.print_topics(num_words=10))"
   ]
  },
  {
   "cell_type": "code",
   "execution_count": 199,
   "id": "baca14cc-1662-41c0-895a-c9b3cb812d45",
   "metadata": {},
   "outputs": [
    {
     "name": "stdout",
     "output_type": "stream",
     "text": [
      "[-2.897759885374639, -2.5239345701526106, -2.447363189828585]\n"
     ]
    }
   ],
   "source": [
    "pprint(coherence_per_topic)"
   ]
  },
  {
   "cell_type": "markdown",
   "id": "a7d3fd54-7be8-4bcc-a1a2-fef86c57be00",
   "metadata": {},
   "source": [
    "### figure"
   ]
  },
  {
   "cell_type": "code",
   "execution_count": 183,
   "id": "110ccae4-7b93-4a02-80dc-b21e40300143",
   "metadata": {},
   "outputs": [],
   "source": [
    "term_topic_matrix = lda_model.get_topics()\n",
    "term_topic_matrix.shape"
   ]
  },
  {
   "cell_type": "code",
   "execution_count": 195,
   "id": "085264d3-2d62-49b9-a291-91fe8fecaf8d",
   "metadata": {},
   "outputs": [
    {
     "data": {
      "image/png": "[encoded data removed]",
      "text/plain": [
       "<Figure size 1008x504 with 3 Axes>"
      ]
     },
     "metadata": {
      "needs_background": "light"
     },
     "output_type": "display_data"
    }
   ],
   "source": [
    "fig, axes = plt.subplots(3, 1, sharex=True, sharey=True, figsize=(14,7))\n",
    "\n",
    "x = range(len(dictionary))\n",
    "\n",
    "for i, ax in enumerate(axes):\n",
    "    ax.bar(range(len(term_topic_matrix[i])), term_topic_matrix[i], width=.8)\n",
    "    ax.set_ylabel(f'topic {i}')\n",
    "    #ax.set_yticks([])\n",
    "    #ax.set_xticks([])"
   ]
  },
  {
   "cell_type": "code",
   "execution_count": 223,
   "id": "e13c6b7b-41d3-432f-902d-fef0eddfd252",
   "metadata": {},
   "outputs": [
    {
     "data": {
      "text/plain": [
       "array([['call', 'carefully', 'critical', 'memorandum', 'decision',\n",
       "        'initiative', 'european', 'assess', 'financing', 'basis'],\n",
       "       ['important', 'impact', 'headline', 'financial', 'response',\n",
       "        'unilateral', 'basis', 'primary_surplus', 'end', 'legal'],\n",
       "       ['structural_reform', 'provide', 'proceed', 'yesterday',\n",
       "        'facility', 'uh-', 'commission', 'successful_conclusion',\n",
       "        'economic', 'fully']], dtype='<U21')"
      ]
     },
     "execution_count": 223,
     "metadata": {},
     "output_type": "execute_result"
    }
   ],
   "source": [
    "import re\n",
    "\n",
    "first_n = 10\n",
    "\n",
    "topic_sep = re.compile(r'0\\.[0-9]{3}\\*\"|\"')\n",
    "\n",
    "model_topics = np.array([re.sub(topic_sep , '', model_topic).\n",
    "    split(' + ') for topic_no , model_topic in lda_model.print_topics(num_words=first_n)])\n",
    "\n",
    "model_topics"
   ]
  },
  {
   "cell_type": "code",
   "execution_count": 220,
   "id": "1b66723b-a254-4f66-b3c0-725d411a939e",
   "metadata": {},
   "outputs": [
    {
     "data": {
      "text/plain": [
       "(0,\n",
       " ['call',\n",
       "  'carefully',\n",
       "  'critical',\n",
       "  'memorandum',\n",
       "  'decision',\n",
       "  'initiative',\n",
       "  'european',\n",
       "  'assess',\n",
       "  'financing',\n",
       "  'basis'])"
      ]
     },
     "execution_count": 220,
     "metadata": {},
     "output_type": "execute_result"
    }
   ],
   "source": [
    "model_topics[0]"
   ]
  },
  {
   "cell_type": "code",
   "execution_count": 239,
   "id": "5d375dac-dafc-40d8-b290-eb10b66ac116",
   "metadata": {},
   "outputs": [
    {
     "data": {
      "text/plain": [
       "<matplotlib.table.Table at 0x7fda32536c70>"
      ]
     },
     "execution_count": 239,
     "metadata": {},
     "output_type": "execute_result"
    },
    {
     "data": {
      "image/png": "[encoded data removed]",
      "text/plain": [
       "<Figure size 648x288 with 1 Axes>"
      ]
     },
     "metadata": {
      "needs_background": "light"
     },
     "output_type": "display_data"
    }
   ],
   "source": [
    "fig, ax = plt.subplots(figsize=(9,4))\n",
    "\n",
    "ax.axis('off')\n",
    "ax.table(model_topics.T,\n",
    "         colLabels=[f'topic {i} ({c})' for i,c in enumerate(np.around(coherence_per_topic,2))],\n",
    "         cellLoc='center',\n",
    "         loc='center')\n",
    "\n",
    "# this is probably better done by hand in latex"
   ]
  },
  {
   "cell_type": "markdown",
   "id": "44a10021-6536-4f04-9021-6f4fa0fdbd01",
   "metadata": {},
   "source": [
    "### delete me"
   ]
  },
  {
   "cell_type": "code",
   "execution_count": 20,
   "id": "better-senior",
   "metadata": {},
   "outputs": [
    {
     "name": "stdout",
     "output_type": "stream",
     "text": [
      "1 \"referendum\", \"interest_rate\", \"environment\", \"wednesday\", \"implication\", \"cash\", \"9th\", \"update\"\n",
      "2 \"timely\", \"palatable\", \"wording\", \"interject\", \"reject\", \"director\", \"external\", \"background\"\n",
      "3 \"second_letter\", \"bill\", \"growth_friendly\", \"strategic\", \"saturday\", \"maximum_flexibility\", \"smart\", \"wrong\"\n",
      "4 \"scheme\", \"elstat\", \"growth_friendly\", \"side\", \"installment\", \"concession\", \"adjourn\", \"valid\"\n"
     ]
    }
   ],
   "source": [
    "first_n = 8\n",
    "\n",
    "# pretty print\n",
    "import re\n",
    "topic_sep = re.compile(r\"0\\.[0 -9]{3}\\*\")\n",
    "\n",
    "model_topics = [( topic_no , re.sub(topic_sep , '', model_topic).\n",
    "    split(' + ')) for topic_no , model_topic in\n",
    "        model.print_topics(num_topics=num_topics,\n",
    "    num_words=first_n)]\n",
    "\n",
    "descriptors = []\n",
    "for i, m in model_topics:\n",
    "    print(i+1, \", \".join(m[:first_n]))\n",
    "    descriptors.append(\", \".join(m[:2]).replace('\"', ''))"
   ]
  },
  {
   "cell_type": "code",
   "execution_count": 21,
   "id": "coordinate-hobby",
   "metadata": {},
   "outputs": [
    {
     "data": {
      "text/html": [
       "<div>\n",
       "<style scoped>\n",
       "    .dataframe tbody tr th:only-of-type {\n",
       "        vertical-align: middle;\n",
       "    }\n",
       "\n",
       "    .dataframe tbody tr th {\n",
       "        vertical-align: top;\n",
       "    }\n",
       "\n",
       "    .dataframe thead th {\n",
       "        text-align: right;\n",
       "    }\n",
       "</style>\n",
       "<table border=\"1\" class=\"dataframe\">\n",
       "  <thead>\n",
       "    <tr style=\"text-align: right;\">\n",
       "      <th></th>\n",
       "      <th>0</th>\n",
       "      <th>1</th>\n",
       "      <th>2</th>\n",
       "      <th>3</th>\n",
       "    </tr>\n",
       "  </thead>\n",
       "  <tbody>\n",
       "    <tr>\n",
       "      <th>24/02</th>\n",
       "      <td>0.026300</td>\n",
       "      <td>0.025981</td>\n",
       "      <td>0.026327</td>\n",
       "      <td>0.921392</td>\n",
       "    </tr>\n",
       "    <tr>\n",
       "      <th>17/03</th>\n",
       "      <td>0.029733</td>\n",
       "      <td>0.029462</td>\n",
       "      <td>0.911100</td>\n",
       "      <td>0.029705</td>\n",
       "    </tr>\n",
       "    <tr>\n",
       "      <th>01/04</th>\n",
       "      <td>0.943643</td>\n",
       "      <td>0.018523</td>\n",
       "      <td>0.019066</td>\n",
       "      <td>0.018768</td>\n",
       "    </tr>\n",
       "    <tr>\n",
       "      <th>24/04</th>\n",
       "      <td>0.017846</td>\n",
       "      <td>0.017522</td>\n",
       "      <td>0.946694</td>\n",
       "      <td>0.017938</td>\n",
       "    </tr>\n",
       "    <tr>\n",
       "      <th>11/05</th>\n",
       "      <td>0.020623</td>\n",
       "      <td>0.020402</td>\n",
       "      <td>0.020804</td>\n",
       "      <td>0.938170</td>\n",
       "    </tr>\n",
       "    <tr>\n",
       "      <th>18/06</th>\n",
       "      <td>0.905684</td>\n",
       "      <td>0.031005</td>\n",
       "      <td>0.032083</td>\n",
       "      <td>0.031227</td>\n",
       "    </tr>\n",
       "    <tr>\n",
       "      <th>22/06</th>\n",
       "      <td>0.020834</td>\n",
       "      <td>0.020591</td>\n",
       "      <td>0.937764</td>\n",
       "      <td>0.020811</td>\n",
       "    </tr>\n",
       "    <tr>\n",
       "      <th>24/06</th>\n",
       "      <td>0.025688</td>\n",
       "      <td>0.025512</td>\n",
       "      <td>0.026127</td>\n",
       "      <td>0.922674</td>\n",
       "    </tr>\n",
       "    <tr>\n",
       "      <th>25/06</th>\n",
       "      <td>0.021207</td>\n",
       "      <td>0.021035</td>\n",
       "      <td>0.936385</td>\n",
       "      <td>0.021372</td>\n",
       "    </tr>\n",
       "    <tr>\n",
       "      <th>27/06</th>\n",
       "      <td>0.916973</td>\n",
       "      <td>0.027246</td>\n",
       "      <td>0.028090</td>\n",
       "      <td>0.027691</td>\n",
       "    </tr>\n",
       "    <tr>\n",
       "      <th>30/06</th>\n",
       "      <td>0.054139</td>\n",
       "      <td>0.050127</td>\n",
       "      <td>0.845260</td>\n",
       "      <td>0.050475</td>\n",
       "    </tr>\n",
       "    <tr>\n",
       "      <th>01/07</th>\n",
       "      <td>0.902598</td>\n",
       "      <td>0.032007</td>\n",
       "      <td>0.033053</td>\n",
       "      <td>0.032342</td>\n",
       "    </tr>\n",
       "  </tbody>\n",
       "</table>\n",
       "</div>"
      ],
      "text/plain": [
       "              0         1         2         3\n",
       "24/02  0.026300  0.025981  0.026327  0.921392\n",
       "17/03  0.029733  0.029462  0.911100  0.029705\n",
       "01/04  0.943643  0.018523  0.019066  0.018768\n",
       "24/04  0.017846  0.017522  0.946694  0.017938\n",
       "11/05  0.020623  0.020402  0.020804  0.938170\n",
       "18/06  0.905684  0.031005  0.032083  0.031227\n",
       "22/06  0.020834  0.020591  0.937764  0.020811\n",
       "24/06  0.025688  0.025512  0.026127  0.922674\n",
       "25/06  0.021207  0.021035  0.936385  0.021372\n",
       "27/06  0.916973  0.027246  0.028090  0.027691\n",
       "30/06  0.054139  0.050127  0.845260  0.050475\n",
       "01/07  0.902598  0.032007  0.033053  0.032342"
      ]
     },
     "execution_count": 21,
     "metadata": {},
     "output_type": "execute_result"
    }
   ],
   "source": [
    "from collections import defaultdict\n",
    "\n",
    "topic_proportions = pd.DataFrame(np.zeros((len(topic_corpus), num_topics)))\n",
    "\n",
    "for i,doc in enumerate(topic_corpus):\n",
    "    for topic in doc:\n",
    "        topic_proportions.iloc[i,topic[0]] = topic[1]\n",
    "    \n",
    "#pd.DataFrame(topic_proportions, index=dates)\n",
    "topic_proportions.set_index(dates, inplace=True)\n",
    "\n",
    "topic_proportions"
   ]
  },
  {
   "cell_type": "code",
   "execution_count": 22,
   "id": "revised-pharmaceutical",
   "metadata": {},
   "outputs": [
    {
     "data": {
      "image/png": "[encoded data removed]",
      "text/plain": [
       "<Figure size 432x288 with 1 Axes>"
      ]
     },
     "metadata": {
      "needs_background": "light"
     },
     "output_type": "display_data"
    }
   ],
   "source": [
    "ax = topic_proportions.plot.bar()\n",
    "_=ax.set_title('Eurloeaks topics')"
   ]
  },
  {
   "cell_type": "markdown",
   "id": "98afeda5-b44a-406c-862f-605629c33cfa",
   "metadata": {},
   "source": [
    "## auxiliary"
   ]
  },
  {
   "cell_type": "code",
   "execution_count": 61,
   "id": "0d23c538-158c-4191-b814-c183230f9c23",
   "metadata": {},
   "outputs": [],
   "source": [
    "def search_term(term):\n",
    "    for i,row in df.iterrows():\n",
    "        if term in row.speech:\n",
    "            date = pd.to_datetime(row.date).strftime('%d/%m')\n",
    "            print(f'{row.speaker} ({date}):')\n",
    "            print(row.speech)\n",
    "            print()"
   ]
  },
  {
   "cell_type": "code",
   "execution_count": 65,
   "id": "a5a228a9-bd99-477d-8bf8-cd7ee0af26c6",
   "metadata": {},
   "outputs": [],
   "source": [
    "#search_term('thoma')"
   ]
  },
  {
   "cell_type": "markdown",
   "id": "e4c25345-aa40-4dd1-b1a0-52ad064becea",
   "metadata": {},
   "source": [
    "## LDA author topic model with author=date"
   ]
  },
  {
   "cell_type": "code",
   "execution_count": 5,
   "id": "20a8708e-c043-4dc7-9dad-01f360c2ef07",
   "metadata": {},
   "outputs": [],
   "source": [
    "stopwords['time'] = [\n",
    "    'monday',\n",
    "    'tuesday',\n",
    "    'wednesday',\n",
    "    'thursday',\n",
    "    'friday',\n",
    "    'saturday',\n",
    "    'sunday',\n",
    "    'today',\n",
    "    'yesterday',\n",
    "    'tomorrow',\n",
    "    'now',\n",
    "    'before',\n",
    "    'after',\n",
    "    'day',\n",
    "    'week',\n",
    "    'month',\n",
    "    #'year',\n",
    "    'afternoon',\n",
    "    'hour',\n",
    "    'past',\n",
    "    'present',\n",
    "    'future',\n",
    "    'january',\n",
    "    'february',\n",
    "    'march',\n",
    "    'april',\n",
    "    'may',\n",
    "    'june',\n",
    "    'july',\n",
    "    'august',\n",
    "    'september',\n",
    "    'october',\n",
    "    'november',\n",
    "    'december',\n",
    "]"
   ]
  },
  {
   "cell_type": "code",
   "execution_count": 117,
   "id": "49415d60-1814-461a-916e-e35e5298be68",
   "metadata": {},
   "outputs": [],
   "source": [
    "context_stopwords = [\n",
    "    'colleague',\n",
    "    'comment',\n",
    "    'maybe',\n",
    "    'table',\n",
    "    'start',\n",
    "    'thank',\n",
    "    'thing',\n",
    "    'point',\n",
    "    'need',\n",
    "    'word',\n",
    "    'question',\n",
    "    'meeting',\n",
    "    'discussion',\n",
    "    'decision',\n",
    "    'matter',\n",
    "    'fact',\n",
    "    'moment',\n",
    "    'remark',\n",
    "    'lot',\n",
    "    'place',\n",
    "    'way',\n",
    "    'sense'\n",
    "]"
   ]
  },
  {
   "cell_type": "code",
   "execution_count": null,
   "id": "4d844aa1-85e4-48df-b828-02c900687f6f",
   "metadata": {},
   "outputs": [],
   "source": [
    "def filter_token(token):\n",
    "    return token.pos_ in {'ADJ', 'ADV', 'NOUN', 'PROPN', 'VERB'}\\\n",
    "        and not token.is_stop\\\n",
    "        and not token.text in stopwords['names']\\\n",
    "        and not token.lemma_ in stopwords['artifacts']\\\n",
    "        and not token.lemma_ in stopwords['time']\\\n",
    "        and not token.lemma_ in context_stopwords\\\n",
    "        and len(token.lemma_) > 1\n",
    "\n",
    "# and not token.text in stopwords['weak_speaker_discriminants_0.1']\\"
   ]
  },
  {
   "cell_type": "code",
   "execution_count": 163,
   "id": "295caa54-b7cd-48fb-b1ae-6c7c0f54ce47",
   "metadata": {},
   "outputs": [
    {
     "name": "stdout",
     "output_type": "stream",
     "text": [
      "Time taken: 0.33 mins\n"
     ]
    }
   ],
   "source": [
    "t = time.time()\n",
    "\n",
    "documents = [\n",
    "    [token.lemma_ for sentence in nlp(doc).sents for token in sentence\n",
    "            if filter_token(token)\n",
    "    ]\n",
    "    for doc in df.speech.values \n",
    "]\n",
    "\n",
    "# apply collocations\n",
    "documents = [\n",
    "    apply_bigram_colloc(apply_trigram_colloc(' '.join(doc), trigram_colloc), bigram_colloc).split()\n",
    "    for doc in documents]\n",
    "\n",
    "print(f'Time taken: {round((time.time() - t) / 60, 2)} mins')"
   ]
  },
  {
   "cell_type": "code",
   "execution_count": 164,
   "id": "ed1c419a-6151-4eff-8dc0-43860e5ad825",
   "metadata": {},
   "outputs": [
    {
     "name": "stdout",
     "output_type": "stream",
     "text": [
      "There are a total of 13601 tokens, and a total of 1489 documents.\n"
     ]
    }
   ],
   "source": [
    "print(f'There are a total of {np.sum([len(doc) for doc in documents])} tokens, and a total of {len(documents)} documents.')"
   ]
  },
  {
   "cell_type": "code",
   "execution_count": 165,
   "id": "b9b1ecd1-14e7-4db7-a8c1-102bd37e529f",
   "metadata": {},
   "outputs": [],
   "source": [
    "from gensim.models import LdaMulticore, TfidfModel\n",
    "from gensim.corpora import Dictionary\n",
    "import multiprocessing"
   ]
  },
  {
   "cell_type": "code",
   "execution_count": 166,
   "id": "60740392-77eb-40b2-82ae-f05c02a716de",
   "metadata": {},
   "outputs": [],
   "source": [
    "dictionary = Dictionary(documents)\n",
    "\n",
    "dictionary.filter_extremes(\n",
    "    no_below=20,  # Keep tokens which are contained in at least no_below documents.\n",
    "    no_above=.1 # Keep tokens which are contained in no more than no_above documents (fraction of total corpus size, not an absolute number).\n",
    ")"
   ]
  },
  {
   "cell_type": "code",
   "execution_count": 167,
   "id": "4397864f-9bf2-4015-b24c-b86c9a12fffd",
   "metadata": {},
   "outputs": [
    {
     "name": "stdout",
     "output_type": "stream",
     "text": [
      "Dictionary(123 unique tokens: ['commission', 'area', 'authority', 'basis', 'conclusion']...)\n"
     ]
    }
   ],
   "source": [
    "print(dictionary)"
   ]
  },
  {
   "cell_type": "code",
   "execution_count": 168,
   "id": "0e567db2-e4d7-4f26-818d-fc5c771e3e1b",
   "metadata": {},
   "outputs": [],
   "source": [
    "#for i in range(len(dictionary)):\n",
    "#    print(dictionary.get(i))"
   ]
  },
  {
   "cell_type": "code",
   "execution_count": 169,
   "id": "8de1153d-024a-49fb-ba1c-62540d43f744",
   "metadata": {},
   "outputs": [],
   "source": [
    "ldacorpus = [dictionary.doc2bow(text) for text in documents]\n",
    "\n",
    "tfidfmodel = TfidfModel(ldacorpus)\n",
    "\n",
    "model_corpus = tfidfmodel[ldacorpus]"
   ]
  },
  {
   "cell_type": "code",
   "execution_count": 170,
   "id": "b5a0043b-b294-4831-a05c-abfc41b38bcf",
   "metadata": {},
   "outputs": [
    {
     "name": "stdout",
     "output_type": "stream",
     "text": [
      "Number of unique tokens: 123\n",
      "Number of documents: 1489\n"
     ]
    }
   ],
   "source": [
    "print('Number of unique tokens: %d' % len(dictionary))\n",
    "print('Number of documents: %d' % len(ldacorpus))"
   ]
  },
  {
   "cell_type": "code",
   "execution_count": 171,
   "id": "bca8a695-3eb3-4123-9ce3-ca553e17d54e",
   "metadata": {},
   "outputs": [],
   "source": [
    "from collections import defaultdict\n",
    "\n",
    "date2doc = defaultdict(list)\n",
    "\n",
    "for i,row in df.iterrows():\n",
    "    date = pd.to_datetime(row.date).strftime('%d/%m')\n",
    "    date2doc[date].append(i)"
   ]
  },
  {
   "cell_type": "code",
   "execution_count": 172,
   "id": "f8d10673-7a85-4249-90ed-2c5c6319fc76",
   "metadata": {},
   "outputs": [],
   "source": [
    "from gensim.models import AuthorTopicModel\n",
    "from gensim.test.utils import temporary_file\n",
    "\n",
    "num_topics = 3\n",
    "alpha = 'auto'\n",
    "eta = 'auto'\n",
    "\n",
    "with temporary_file(\"serialized\") as s_path:\n",
    "    \n",
    "    author_model = AuthorTopicModel(\n",
    "                    model_corpus,\n",
    "                    author2doc=date2doc,\n",
    "                    id2word=dictionary,\n",
    "                    num_topics=num_topics,\n",
    "                    serialized=True,\n",
    "                    serialization_path=s_path,\n",
    "                    passes=20,\n",
    "                    alpha=alpha,\n",
    "                    eta=eta\n",
    "                    )\n",
    "\n",
    "    author_model.update(model_corpus, date2doc)"
   ]
  },
  {
   "cell_type": "code",
   "execution_count": 173,
   "id": "87bc1ada-6eed-4547-a3c6-13951db09071",
   "metadata": {},
   "outputs": [],
   "source": [
    "topic_corpus = [author_model.get_author_topics(date) for date in date2doc.keys()]"
   ]
  },
  {
   "cell_type": "code",
   "execution_count": 174,
   "id": "06994648-fb40-4cee-9435-9834680ca0c9",
   "metadata": {},
   "outputs": [
    {
     "name": "stdout",
     "output_type": "stream",
     "text": [
      "[(0,\n",
      "  '0.073*\"line\" + 0.064*\"solution\" + 0.060*\"conclusion\" + 0.054*\"aide_memoire\" '\n",
      "  '+ 0.054*\"case\" + 0.034*\"framework\" + 0.034*\"course\" + 0.029*\"direction\" + '\n",
      "  '0.029*\"conference\" + 0.029*\"effort\"'),\n",
      " (1,\n",
      "  '0.115*\"process\" + 0.077*\"interest_rate\" + 0.065*\"problem\" + 0.052*\"issue\" + '\n",
      "  '0.040*\"letter\" + 0.027*\"statement\" + 0.027*\"couple\" + 0.027*\"answer\" + '\n",
      "  '0.027*\"referendum\" + 0.027*\"situation\"'),\n",
      " (2,\n",
      "  '0.093*\"people\" + 0.078*\"document\" + 0.063*\"progress\" + 0.048*\"time\" + '\n",
      "  '0.048*\"greece\" + 0.048*\"ecb\" + 0.033*\"information\" + 0.033*\"stage\" + '\n",
      "  '0.032*\"growth\" + 0.032*\"athen\"')]\n"
     ]
    }
   ],
   "source": [
    "# examine the learned topics\n",
    "import pprint\n",
    "pprint.pprint(author_model.print_topics())"
   ]
  },
  {
   "cell_type": "code",
   "execution_count": 160,
   "id": "e5651547-6110-4477-930c-ec1c6aaf1968",
   "metadata": {},
   "outputs": [
    {
     "name": "stdout",
     "output_type": "stream",
     "text": [
      "0 \"process\", \"meeting\", \"people\", \"interest_rate\", \"thing\", \"ecb\", \"discussion\", \"aide_memoire\", \"fact\", \"greece\"\n",
      "1 \"colleague\", \"comment\", \"line\", \"document\", \"progress\", \"decision\", \"word\", \"referendum\", \"issue\", \"framework\"\n",
      "2 \"thank\", \"problem\", \"solution\", \"course\", \"statement\", \"table\", \"stage\", \"parliament\", \"time\", \"effort\"\n"
     ]
    }
   ],
   "source": [
    "first_n = 10\n",
    "\n",
    "# pretty print\n",
    "import re\n",
    "topic_sep = re.compile(r\"0\\.[0 -9]{3}\\*\")\n",
    "\n",
    "model_topics = [( topic_no , re.sub(topic_sep , '', model_topic).\n",
    "    split(' + ')) for topic_no , model_topic in\n",
    "        author_model.print_topics(num_topics=num_topics,\n",
    "    num_words=first_n)]\n",
    "\n",
    "descriptors = []\n",
    "for i, m in model_topics:\n",
    "    print(i, \", \".join(m[:first_n]))\n",
    "    descriptors.append(\", \".join(m[:2]).replace('\"', ''))"
   ]
  },
  {
   "cell_type": "code",
   "execution_count": 161,
   "id": "a8879ecb-1a70-4142-b9e8-d49dfc31c467",
   "metadata": {},
   "outputs": [
    {
     "data": {
      "image/png": "[encoded data removed]",
      "text/plain": [
       "<Figure size 432x288 with 1 Axes>"
      ]
     },
     "metadata": {
      "needs_background": "light"
     },
     "output_type": "display_data"
    }
   ],
   "source": [
    "from collections import defaultdict\n",
    "\n",
    "dates = pd.Series(df.date.unique()).apply(lambda s: pd.to_datetime(s).strftime('%d/%m')).values\n",
    "\n",
    "topic_corpus = [author_model.get_author_topics(date) for date in date2doc.keys()]\n",
    "\n",
    "topic_proportions = pd.DataFrame(np.zeros((len(topic_corpus), num_topics)))\n",
    "\n",
    "for i,doc in enumerate(topic_corpus):\n",
    "    for topic in doc:\n",
    "        topic_proportions.iloc[i,topic[0]] = topic[1]\n",
    "    \n",
    "#pd.DataFrame(topic_proportions, index=dates)\n",
    "topic_proportions.set_index(dates, inplace=True)\n",
    "\n",
    "ax = topic_proportions.plot.bar()\n",
    "_=ax.set_title('Eurloeaks topics')"
   ]
  },
  {
   "cell_type": "markdown",
   "id": "324bc658-2c80-43ab-b882-be2b5368c543",
   "metadata": {},
   "source": [
    "# Communiques"
   ]
  },
  {
   "cell_type": "markdown",
   "id": "120d4592-85ff-4170-8eda-659b3a560040",
   "metadata": {},
   "source": [
    "## load data"
   ]
  },
  {
   "cell_type": "code",
   "execution_count": 65,
   "id": "69478888-9557-4e19-9be0-d1126a414acd",
   "metadata": {},
   "outputs": [],
   "source": [
    "# read data\n",
    "df = pd.read_csv('../data/communiques/cleaned.csv')\n",
    "    \n",
    "# collocations\n",
    "def apply_trigram_colloc(s, set_colloc):\n",
    "    res = s.lower()\n",
    "    for b1,b2,b3 in set_colloc:\n",
    "        res = res.replace(f'{b1} {b2} {b3}', f'{b1}_{b2}_{b3}')\n",
    "    return res\n",
    "\n",
    "def apply_bigram_colloc(s, set_colloc):\n",
    "    res = s.lower()\n",
    "    for b1,b2 in set_colloc:\n",
    "        res = res.replace(f'{b1} {b2}', f'{b1}_{b2}')\n",
    "    return res\n",
    "\n",
    "with open('../data/collocations/trigrams.json', 'r') as f:\n",
    "    trigram_colloc = json.load(f)\n",
    "\n",
    "with open('../data/collocations/bigrams.json', 'r') as f:\n",
    "    bigram_colloc = json.load(f)"
   ]
  },
  {
   "cell_type": "markdown",
   "id": "678b240a-8d00-471a-86f9-d58df4ed61cb",
   "metadata": {},
   "source": [
    "## LDA topic model"
   ]
  },
  {
   "cell_type": "markdown",
   "id": "88a9ec01-0f9a-4354-99ae-2b2de5c566b9",
   "metadata": {},
   "source": [
    "### preprocessing"
   ]
  },
  {
   "cell_type": "code",
   "execution_count": 66,
   "id": "7bc3b00e-d8c4-4dca-a58c-b68653aa845c",
   "metadata": {},
   "outputs": [
    {
     "name": "stdout",
     "output_type": "stream",
     "text": [
      "Time taken: 0.01 mins.\n",
      "There are a total of 3640 tokens, and a total of 18 documents.\n"
     ]
    }
   ],
   "source": [
    "def filter_token(token):\n",
    "    return token.pos_ in {'ADJ', 'ADV', 'NOUN', 'PROPN', 'VERB'}\\\n",
    "        and not token.is_stop\\\n",
    "        and len(token.lemma_) > 1\n",
    "\n",
    "t = time.time()\n",
    "\n",
    "documents = [\n",
    "    [token.lemma_ for sentence in nlp(doc).sents for token in sentence\n",
    "            if filter_token(token)\n",
    "    ]\n",
    "    for doc in df.story.values \n",
    "]\n",
    "\n",
    "# apply collocations\n",
    "documents = [\n",
    "    apply_bigram_colloc(apply_trigram_colloc(' '.join(doc), trigram_colloc), bigram_colloc).split()\n",
    "    for doc in documents]\n",
    "\n",
    "print(f'Time taken: {round((time.time() - t) / 60, 2)} mins.')\n",
    "\n",
    "print(f'There are a total of {np.sum([len(doc) for doc in documents])} tokens, and a total of {len(documents)} documents.')"
   ]
  },
  {
   "cell_type": "markdown",
   "id": "10143fb5-5b65-4cd2-aa93-b794777f5113",
   "metadata": {},
   "source": [
    "### dictionary: filter extremes"
   ]
  },
  {
   "cell_type": "code",
   "execution_count": 67,
   "id": "d28f6f16-488b-4e0f-a145-4da0825dda87",
   "metadata": {},
   "outputs": [],
   "source": [
    "from gensim.models import LdaMulticore, TfidfModel\n",
    "from gensim.models import CoherenceModel\n",
    "from gensim.corpora import Dictionary\n",
    "import multiprocessing"
   ]
  },
  {
   "cell_type": "code",
   "execution_count": 68,
   "id": "260557bb-94e9-469a-bab8-5edb1af4881f",
   "metadata": {},
   "outputs": [],
   "source": [
    "dictionary = Dictionary(documents)\n",
    "\n",
    "no_below = 1 # Keep only tokens which are contained in at least no_below documents.\n",
    "no_above = .1 # Keep tokens which are contained in no more than no_above documents (fraction of total corpus size, not an absolute number)."
   ]
  },
  {
   "cell_type": "code",
   "execution_count": 69,
   "id": "e7d10fa2-5b4b-4cac-98ef-d0ac80bd92b8",
   "metadata": {},
   "outputs": [
    {
     "name": "stdout",
     "output_type": "stream",
     "text": [
      "no_below will remove 0 tokens.\n",
      "no_above will remove 481 tokens.\n"
     ]
    }
   ],
   "source": [
    "# see what will be removed\n",
    "no_below_removed = [dictionary.get(token_id) for token_id, freq in dictionary.cfs.items() if freq < no_below]\n",
    "no_above_removed = [dictionary.get(token_id) for token_id, freq in dictionary.dfs.items() if freq > no_above * len(documents)]\n",
    "\n",
    "print(f'no_below will remove {len(no_below_removed)} tokens.')\n",
    "print(f'no_above will remove {len(no_above_removed)} tokens.')"
   ]
  },
  {
   "cell_type": "code",
   "execution_count": 70,
   "id": "62fe21c2-d5a6-4e71-9548-d5d942d3860a",
   "metadata": {},
   "outputs": [],
   "source": [
    "dictionary.filter_extremes(\n",
    "    no_below=no_below,\n",
    "    no_above=no_above\n",
    ")"
   ]
  },
  {
   "cell_type": "code",
   "execution_count": 71,
   "id": "5bb781e6-80cb-4a54-9a24-d7cd4e066604",
   "metadata": {},
   "outputs": [],
   "source": [
    "corpus = [dictionary.doc2bow(text) for text in documents]\n",
    "\n",
    "tfidfmodel = TfidfModel(corpus)\n",
    "\n",
    "tfidf_corpus = tfidfmodel[corpus]"
   ]
  },
  {
   "cell_type": "markdown",
   "id": "6ca30a25-9c7a-419e-9ad0-2681607ff0ef",
   "metadata": {},
   "source": [
    "- Q: should I use term-document frequency (BoW) or TF-IDF as input to LDA? A: use it as a hyperparameter in the grid search."
   ]
  },
  {
   "cell_type": "code",
   "execution_count": 72,
   "id": "f66f5965-9437-4df4-b67d-0f463e6d30a3",
   "metadata": {},
   "outputs": [
    {
     "name": "stdout",
     "output_type": "stream",
     "text": [
      "Number of unique tokens: 464\n",
      "Number of documents: 18\n"
     ]
    }
   ],
   "source": [
    "print('Number of unique tokens: %d' % len(dictionary))\n",
    "print('Number of documents: %d' % len(corpus))"
   ]
  },
  {
   "cell_type": "code",
   "execution_count": 73,
   "id": "124939bc-07e3-45ae-9d20-6e313e6cc913",
   "metadata": {},
   "outputs": [],
   "source": [
    "def filter_extremes(documents, no_below, no_above):\n",
    "    \n",
    "    dictionary = Dictionary(documents)\n",
    "    dictionary.filter_extremes(no_below=no_below, no_above=no_above)\n",
    "    \n",
    "    corpus = [dictionary.doc2bow(text) for text in documents]\n",
    "\n",
    "    tfidfmodel = TfidfModel(corpus)\n",
    "\n",
    "    tfidf_corpus = tfidfmodel[corpus]\n",
    "    \n",
    "    return dictionary, tfidf_corpus"
   ]
  },
  {
   "cell_type": "markdown",
   "id": "4e5766cc-69f9-4283-9b97-e863f219e40f",
   "metadata": {},
   "source": [
    "### basic model"
   ]
  },
  {
   "cell_type": "code",
   "execution_count": 77,
   "id": "2e6f2171-3f44-4d8c-9b1a-e0b84dca66b2",
   "metadata": {},
   "outputs": [
    {
     "name": "stdout",
     "output_type": "stream",
     "text": [
      "Time taken: 0.02 mins\n"
     ]
    }
   ],
   "source": [
    "t = time.time()\n",
    "\n",
    "lda_model = LdaMulticore(corpus=tfidf_corpus,\n",
    "                         id2word=dictionary,\n",
    "                         num_topics=2, \n",
    "                         random_state=100,\n",
    "                         iterations=400,\n",
    "                         passes=20\n",
    "                        )\n",
    "\n",
    "print(f'Time taken: {round((time.time() - t) / 60, 2)} mins')"
   ]
  },
  {
   "cell_type": "code",
   "execution_count": 78,
   "id": "a3c9b057-082b-4692-8540-a71c2c760616",
   "metadata": {},
   "outputs": [
    {
     "name": "stdout",
     "output_type": "stream",
     "text": [
      "[(0,\n",
      "  '0.004*\"question\" + 0.004*\"difficult\" + 0.004*\"result\" + 0.004*\"initiative\" '\n",
      "  '+ 0.004*\"wait\" + 0.004*\"inevitable\" + 0.004*\"ask\" + 0.004*\"certainly\" + '\n",
      "  '0.004*\"consist\" + 0.004*\"preservation\"'),\n",
      " (1,\n",
      "  '0.005*\"pm\" + 0.004*\"concerned\" + 0.003*\"develop\" + 0.003*\"speedy\" + '\n",
      "  '0.003*\"broaden\" + 0.003*\"coordination\" + 0.003*\"trust\" + 0.003*\"undertake\" '\n",
      "  '+ 0.003*\"credible\" + 0.003*\"streamlining\"')]\n"
     ]
    }
   ],
   "source": [
    "from pprint import pprint\n",
    "\n",
    "pprint(lda_model.print_topics())"
   ]
  },
  {
   "cell_type": "code",
   "execution_count": 79,
   "id": "88105649-4123-4c66-8e66-e2fee4ded62f",
   "metadata": {},
   "outputs": [
    {
     "name": "stdout",
     "output_type": "stream",
     "text": [
      "\n",
      "Coherence Score: -20.31337526238126\n"
     ]
    }
   ],
   "source": [
    "from gensim.models import CoherenceModel\n",
    "\n",
    "coherence_model_lda = CoherenceModel(model=lda_model,\n",
    "                                     corpus=corpus,\n",
    "                                     coherence='u_mass')\n",
    "\n",
    "coherence_lda = coherence_model_lda.get_coherence()\n",
    "print(f'\\nCoherence Score: {coherence_lda}')"
   ]
  },
  {
   "cell_type": "markdown",
   "id": "8cd1dced-ed26-4e01-86d0-02f18baf7ff5",
   "metadata": {},
   "source": [
    "### grid search: k, alpha, beta"
   ]
  },
  {
   "cell_type": "code",
   "execution_count": 80,
   "id": "26804d05-3833-4eaa-b52f-3f3aa0c8db97",
   "metadata": {},
   "outputs": [],
   "source": [
    "import multiprocessing\n",
    "n_cores = multiprocessing.cpu_count() - 1"
   ]
  },
  {
   "cell_type": "code",
   "execution_count": 81,
   "id": "c49e9ca1-d1ff-4bc6-8a66-2ca9264bbf99",
   "metadata": {},
   "outputs": [],
   "source": [
    "# supporting function\n",
    "def compute_coherence_values(corpus, dictionary, num_topics, alpha, beta):\n",
    "    \n",
    "    lda_model = LdaMulticore(corpus=corpus,\n",
    "                             id2word=dictionary,\n",
    "                             num_topics=num_topics, \n",
    "                             random_state=100,\n",
    "                             iterations=400,\n",
    "                             passes=20,\n",
    "                             alpha=alpha,\n",
    "                             eta=beta,\n",
    "                             workers=n_cores)\n",
    "    \n",
    "    coherence_model_lda = CoherenceModel(model=lda_model,\n",
    "                                         corpus=corpus, \n",
    "                                         coherence='u_mass')\n",
    "    \n",
    "    return coherence_model_lda.get_coherence()"
   ]
  },
  {
   "cell_type": "markdown",
   "id": "c14da8b7-0952-41d7-aa39-7de6b854e525",
   "metadata": {},
   "source": [
    "TF-IDF yields better coherence score consistently, so just use that."
   ]
  },
  {
   "cell_type": "code",
   "execution_count": 82,
   "id": "6b4c855d-e2eb-4e1a-904b-f3874624ec57",
   "metadata": {},
   "outputs": [
    {
     "name": "stdout",
     "output_type": "stream",
     "text": [
      "You are about to execute 540 runs. This could take up to 162.0 minutes.\n"
     ]
    }
   ],
   "source": [
    "# filter extremes\n",
    "no_belows = [0]\n",
    "no_aboves = [.1, .5, 1]\n",
    "\n",
    "# k = number of topics hyperparameter\n",
    "topics_range = range(1,7)\n",
    "\n",
    "# alpha hyperparameter\n",
    "alpha = [.01, .3, .6, 1]\n",
    "alpha.append('symmetric')\n",
    "alpha.append('asymmetric')\n",
    "\n",
    "# beta hyperparameter\n",
    "beta = [.01, .3, .6, 1]\n",
    "beta.append('symmetric')\n",
    "\n",
    "\n",
    "model_results = {'no_below': [],\n",
    "                 'no_above': [],\n",
    "                 'corpus': [],\n",
    "                 'num_topics': [],\n",
    "                 'alpha': [],\n",
    "                 'beta': [],\n",
    "                 'coherence': []\n",
    "                }\n",
    "\n",
    "number_of_runs = len(no_belows) * len(no_aboves) * len(topics_range) * len(alpha) * len(beta)\n",
    "print(f'You are about to execute {number_of_runs} runs. This could take up to {np.round(number_of_runs*0.3,2)} minutes.')"
   ]
  },
  {
   "cell_type": "code",
   "execution_count": 83,
   "id": "b6dab6bf-62da-427d-a49c-f551c712e805",
   "metadata": {},
   "outputs": [
    {
     "name": "stderr",
     "output_type": "stream",
     "text": [
      "  2%|▏         | 10/540 [00:11<09:59,  1.13s/it]\n"
     ]
    },
    {
     "ename": "KeyboardInterrupt",
     "evalue": "",
     "output_type": "error",
     "traceback": [
      "\u001b[0;31m---------------------------------------------------------------------------\u001b[0m",
      "\u001b[0;31mKeyboardInterrupt\u001b[0m                         Traceback (most recent call last)",
      "\u001b[0;32m<ipython-input-83-0d771c228c67>\u001b[0m in \u001b[0;36m<module>\u001b[0;34m\u001b[0m\n\u001b[1;32m     17\u001b[0m                     \u001b[0;32mfor\u001b[0m \u001b[0mb\u001b[0m \u001b[0;32min\u001b[0m \u001b[0mbeta\u001b[0m\u001b[0;34m:\u001b[0m\u001b[0;34m\u001b[0m\u001b[0;34m\u001b[0m\u001b[0m\n\u001b[1;32m     18\u001b[0m                         \u001b[0;31m# get the coherence score for the given parameters\u001b[0m\u001b[0;34m\u001b[0m\u001b[0;34m\u001b[0m\u001b[0;34m\u001b[0m\u001b[0m\n\u001b[0;32m---> 19\u001b[0;31m                         cv = compute_coherence_values(corpus=tfidf_corpus,\n\u001b[0m\u001b[1;32m     20\u001b[0m                                                       \u001b[0mdictionary\u001b[0m\u001b[0;34m=\u001b[0m\u001b[0mdictionary\u001b[0m\u001b[0;34m,\u001b[0m\u001b[0;34m\u001b[0m\u001b[0;34m\u001b[0m\u001b[0m\n\u001b[1;32m     21\u001b[0m                                                       \u001b[0mnum_topics\u001b[0m\u001b[0;34m=\u001b[0m\u001b[0mk\u001b[0m\u001b[0;34m,\u001b[0m\u001b[0;34m\u001b[0m\u001b[0;34m\u001b[0m\u001b[0m\n",
      "\u001b[0;32m<ipython-input-81-8c8baea02593>\u001b[0m in \u001b[0;36mcompute_coherence_values\u001b[0;34m(corpus, dictionary, num_topics, alpha, beta)\u001b[0m\n\u001b[1;32m      2\u001b[0m \u001b[0;32mdef\u001b[0m \u001b[0mcompute_coherence_values\u001b[0m\u001b[0;34m(\u001b[0m\u001b[0mcorpus\u001b[0m\u001b[0;34m,\u001b[0m \u001b[0mdictionary\u001b[0m\u001b[0;34m,\u001b[0m \u001b[0mnum_topics\u001b[0m\u001b[0;34m,\u001b[0m \u001b[0malpha\u001b[0m\u001b[0;34m,\u001b[0m \u001b[0mbeta\u001b[0m\u001b[0;34m)\u001b[0m\u001b[0;34m:\u001b[0m\u001b[0;34m\u001b[0m\u001b[0;34m\u001b[0m\u001b[0m\n\u001b[1;32m      3\u001b[0m \u001b[0;34m\u001b[0m\u001b[0m\n\u001b[0;32m----> 4\u001b[0;31m     lda_model = LdaMulticore(corpus=corpus,\n\u001b[0m\u001b[1;32m      5\u001b[0m                              \u001b[0mid2word\u001b[0m\u001b[0;34m=\u001b[0m\u001b[0mdictionary\u001b[0m\u001b[0;34m,\u001b[0m\u001b[0;34m\u001b[0m\u001b[0;34m\u001b[0m\u001b[0m\n\u001b[1;32m      6\u001b[0m                              \u001b[0mnum_topics\u001b[0m\u001b[0;34m=\u001b[0m\u001b[0mnum_topics\u001b[0m\u001b[0;34m,\u001b[0m\u001b[0;34m\u001b[0m\u001b[0;34m\u001b[0m\u001b[0m\n",
      "\u001b[0;32m~/repos/master-thesis/.env/lib/python3.8/site-packages/gensim/models/ldamulticore.py\u001b[0m in \u001b[0;36m__init__\u001b[0;34m(self, corpus, num_topics, id2word, workers, chunksize, passes, batch, alpha, eta, decay, offset, eval_every, iterations, gamma_threshold, random_state, minimum_probability, minimum_phi_value, per_word_topics, dtype)\u001b[0m\n\u001b[1;32m    177\u001b[0m             \u001b[0;32mraise\u001b[0m \u001b[0mNotImplementedError\u001b[0m\u001b[0;34m(\u001b[0m\u001b[0;34m\"auto-tuning alpha not implemented in multicore LDA; use plain LdaModel.\"\u001b[0m\u001b[0;34m)\u001b[0m\u001b[0;34m\u001b[0m\u001b[0;34m\u001b[0m\u001b[0m\n\u001b[1;32m    178\u001b[0m \u001b[0;34m\u001b[0m\u001b[0m\n\u001b[0;32m--> 179\u001b[0;31m         super(LdaMulticore, self).__init__(\n\u001b[0m\u001b[1;32m    180\u001b[0m             \u001b[0mcorpus\u001b[0m\u001b[0;34m=\u001b[0m\u001b[0mcorpus\u001b[0m\u001b[0;34m,\u001b[0m \u001b[0mnum_topics\u001b[0m\u001b[0;34m=\u001b[0m\u001b[0mnum_topics\u001b[0m\u001b[0;34m,\u001b[0m\u001b[0;34m\u001b[0m\u001b[0;34m\u001b[0m\u001b[0m\n\u001b[1;32m    181\u001b[0m             \u001b[0mid2word\u001b[0m\u001b[0;34m=\u001b[0m\u001b[0mid2word\u001b[0m\u001b[0;34m,\u001b[0m \u001b[0mchunksize\u001b[0m\u001b[0;34m=\u001b[0m\u001b[0mchunksize\u001b[0m\u001b[0;34m,\u001b[0m \u001b[0mpasses\u001b[0m\u001b[0;34m=\u001b[0m\u001b[0mpasses\u001b[0m\u001b[0;34m,\u001b[0m \u001b[0malpha\u001b[0m\u001b[0;34m=\u001b[0m\u001b[0malpha\u001b[0m\u001b[0;34m,\u001b[0m \u001b[0meta\u001b[0m\u001b[0;34m=\u001b[0m\u001b[0meta\u001b[0m\u001b[0;34m,\u001b[0m\u001b[0;34m\u001b[0m\u001b[0;34m\u001b[0m\u001b[0m\n",
      "\u001b[0;32m~/repos/master-thesis/.env/lib/python3.8/site-packages/gensim/models/ldamodel.py\u001b[0m in \u001b[0;36m__init__\u001b[0;34m(self, corpus, num_topics, id2word, distributed, chunksize, passes, update_every, alpha, eta, decay, offset, eval_every, iterations, gamma_threshold, minimum_probability, random_state, ns_conf, minimum_phi_value, per_word_topics, callbacks, dtype)\u001b[0m\n\u001b[1;32m    521\u001b[0m             \u001b[0muse_numpy\u001b[0m \u001b[0;34m=\u001b[0m \u001b[0mself\u001b[0m\u001b[0;34m.\u001b[0m\u001b[0mdispatcher\u001b[0m \u001b[0;32mis\u001b[0m \u001b[0;32mnot\u001b[0m \u001b[0;32mNone\u001b[0m\u001b[0;34m\u001b[0m\u001b[0;34m\u001b[0m\u001b[0m\n\u001b[1;32m    522\u001b[0m             \u001b[0mstart\u001b[0m \u001b[0;34m=\u001b[0m \u001b[0mtime\u001b[0m\u001b[0;34m.\u001b[0m\u001b[0mtime\u001b[0m\u001b[0;34m(\u001b[0m\u001b[0;34m)\u001b[0m\u001b[0;34m\u001b[0m\u001b[0;34m\u001b[0m\u001b[0m\n\u001b[0;32m--> 523\u001b[0;31m             \u001b[0mself\u001b[0m\u001b[0;34m.\u001b[0m\u001b[0mupdate\u001b[0m\u001b[0;34m(\u001b[0m\u001b[0mcorpus\u001b[0m\u001b[0;34m,\u001b[0m \u001b[0mchunks_as_numpy\u001b[0m\u001b[0;34m=\u001b[0m\u001b[0muse_numpy\u001b[0m\u001b[0;34m)\u001b[0m\u001b[0;34m\u001b[0m\u001b[0;34m\u001b[0m\u001b[0m\n\u001b[0m\u001b[1;32m    524\u001b[0m             self.add_lifecycle_event(\n\u001b[1;32m    525\u001b[0m                 \u001b[0;34m\"created\"\u001b[0m\u001b[0;34m,\u001b[0m\u001b[0;34m\u001b[0m\u001b[0;34m\u001b[0m\u001b[0m\n",
      "\u001b[0;32m~/repos/master-thesis/.env/lib/python3.8/site-packages/gensim/models/ldamulticore.py\u001b[0m in \u001b[0;36mupdate\u001b[0;34m(self, corpus, chunks_as_numpy)\u001b[0m\n\u001b[1;32m    308\u001b[0m             \u001b[0;31m# wait for all outstanding jobs to finish\u001b[0m\u001b[0;34m\u001b[0m\u001b[0;34m\u001b[0m\u001b[0;34m\u001b[0m\u001b[0m\n\u001b[1;32m    309\u001b[0m             \u001b[0;32mwhile\u001b[0m \u001b[0mqueue_size\u001b[0m\u001b[0;34m[\u001b[0m\u001b[0;36m0\u001b[0m\u001b[0;34m]\u001b[0m \u001b[0;34m>\u001b[0m \u001b[0;36m0\u001b[0m\u001b[0;34m:\u001b[0m\u001b[0;34m\u001b[0m\u001b[0;34m\u001b[0m\u001b[0m\n\u001b[0;32m--> 310\u001b[0;31m                 \u001b[0mprocess_result_queue\u001b[0m\u001b[0;34m(\u001b[0m\u001b[0mforce\u001b[0m\u001b[0;34m=\u001b[0m\u001b[0;32mTrue\u001b[0m\u001b[0;34m)\u001b[0m\u001b[0;34m\u001b[0m\u001b[0;34m\u001b[0m\u001b[0m\n\u001b[0m\u001b[1;32m    311\u001b[0m \u001b[0;34m\u001b[0m\u001b[0m\n\u001b[1;32m    312\u001b[0m             \u001b[0;32mif\u001b[0m \u001b[0mreallen\u001b[0m \u001b[0;34m!=\u001b[0m \u001b[0mlencorpus\u001b[0m\u001b[0;34m:\u001b[0m\u001b[0;34m\u001b[0m\u001b[0;34m\u001b[0m\u001b[0m\n",
      "\u001b[0;32m~/repos/master-thesis/.env/lib/python3.8/site-packages/gensim/models/ldamulticore.py\u001b[0m in \u001b[0;36mprocess_result_queue\u001b[0;34m(force)\u001b[0m\n\u001b[1;32m    266\u001b[0m             \"\"\"\n\u001b[1;32m    267\u001b[0m             \u001b[0mmerged_new\u001b[0m \u001b[0;34m=\u001b[0m \u001b[0;32mFalse\u001b[0m\u001b[0;34m\u001b[0m\u001b[0;34m\u001b[0m\u001b[0m\n\u001b[0;32m--> 268\u001b[0;31m             \u001b[0;32mwhile\u001b[0m \u001b[0;32mnot\u001b[0m \u001b[0mresult_queue\u001b[0m\u001b[0;34m.\u001b[0m\u001b[0mempty\u001b[0m\u001b[0;34m(\u001b[0m\u001b[0;34m)\u001b[0m\u001b[0;34m:\u001b[0m\u001b[0;34m\u001b[0m\u001b[0;34m\u001b[0m\u001b[0m\n\u001b[0m\u001b[1;32m    269\u001b[0m                 \u001b[0mother\u001b[0m\u001b[0;34m.\u001b[0m\u001b[0mmerge\u001b[0m\u001b[0;34m(\u001b[0m\u001b[0mresult_queue\u001b[0m\u001b[0;34m.\u001b[0m\u001b[0mget\u001b[0m\u001b[0;34m(\u001b[0m\u001b[0;34m)\u001b[0m\u001b[0;34m)\u001b[0m\u001b[0;34m\u001b[0m\u001b[0;34m\u001b[0m\u001b[0m\n\u001b[1;32m    270\u001b[0m                 \u001b[0mqueue_size\u001b[0m\u001b[0;34m[\u001b[0m\u001b[0;36m0\u001b[0m\u001b[0;34m]\u001b[0m \u001b[0;34m-=\u001b[0m \u001b[0;36m1\u001b[0m\u001b[0;34m\u001b[0m\u001b[0;34m\u001b[0m\u001b[0m\n",
      "\u001b[0;32m/Library/Frameworks/Python.framework/Versions/3.8/lib/python3.8/multiprocessing/queues.py\u001b[0m in \u001b[0;36mempty\u001b[0;34m(self)\u001b[0m\n\u001b[1;32m    121\u001b[0m \u001b[0;34m\u001b[0m\u001b[0m\n\u001b[1;32m    122\u001b[0m     \u001b[0;32mdef\u001b[0m \u001b[0mempty\u001b[0m\u001b[0;34m(\u001b[0m\u001b[0mself\u001b[0m\u001b[0;34m)\u001b[0m\u001b[0;34m:\u001b[0m\u001b[0;34m\u001b[0m\u001b[0;34m\u001b[0m\u001b[0m\n\u001b[0;32m--> 123\u001b[0;31m         \u001b[0;32mreturn\u001b[0m \u001b[0;32mnot\u001b[0m \u001b[0mself\u001b[0m\u001b[0;34m.\u001b[0m\u001b[0m_poll\u001b[0m\u001b[0;34m(\u001b[0m\u001b[0;34m)\u001b[0m\u001b[0;34m\u001b[0m\u001b[0;34m\u001b[0m\u001b[0m\n\u001b[0m\u001b[1;32m    124\u001b[0m \u001b[0;34m\u001b[0m\u001b[0m\n\u001b[1;32m    125\u001b[0m     \u001b[0;32mdef\u001b[0m \u001b[0mfull\u001b[0m\u001b[0;34m(\u001b[0m\u001b[0mself\u001b[0m\u001b[0;34m)\u001b[0m\u001b[0;34m:\u001b[0m\u001b[0;34m\u001b[0m\u001b[0;34m\u001b[0m\u001b[0m\n",
      "\u001b[0;32m/Library/Frameworks/Python.framework/Versions/3.8/lib/python3.8/multiprocessing/connection.py\u001b[0m in \u001b[0;36mpoll\u001b[0;34m(self, timeout)\u001b[0m\n\u001b[1;32m    255\u001b[0m         \u001b[0mself\u001b[0m\u001b[0;34m.\u001b[0m\u001b[0m_check_closed\u001b[0m\u001b[0;34m(\u001b[0m\u001b[0;34m)\u001b[0m\u001b[0;34m\u001b[0m\u001b[0;34m\u001b[0m\u001b[0m\n\u001b[1;32m    256\u001b[0m         \u001b[0mself\u001b[0m\u001b[0;34m.\u001b[0m\u001b[0m_check_readable\u001b[0m\u001b[0;34m(\u001b[0m\u001b[0;34m)\u001b[0m\u001b[0;34m\u001b[0m\u001b[0;34m\u001b[0m\u001b[0m\n\u001b[0;32m--> 257\u001b[0;31m         \u001b[0;32mreturn\u001b[0m \u001b[0mself\u001b[0m\u001b[0;34m.\u001b[0m\u001b[0m_poll\u001b[0m\u001b[0;34m(\u001b[0m\u001b[0mtimeout\u001b[0m\u001b[0;34m)\u001b[0m\u001b[0;34m\u001b[0m\u001b[0;34m\u001b[0m\u001b[0m\n\u001b[0m\u001b[1;32m    258\u001b[0m \u001b[0;34m\u001b[0m\u001b[0m\n\u001b[1;32m    259\u001b[0m     \u001b[0;32mdef\u001b[0m \u001b[0m__enter__\u001b[0m\u001b[0;34m(\u001b[0m\u001b[0mself\u001b[0m\u001b[0;34m)\u001b[0m\u001b[0;34m:\u001b[0m\u001b[0;34m\u001b[0m\u001b[0;34m\u001b[0m\u001b[0m\n",
      "\u001b[0;32m/Library/Frameworks/Python.framework/Versions/3.8/lib/python3.8/multiprocessing/connection.py\u001b[0m in \u001b[0;36m_poll\u001b[0;34m(self, timeout)\u001b[0m\n\u001b[1;32m    422\u001b[0m \u001b[0;34m\u001b[0m\u001b[0m\n\u001b[1;32m    423\u001b[0m     \u001b[0;32mdef\u001b[0m \u001b[0m_poll\u001b[0m\u001b[0;34m(\u001b[0m\u001b[0mself\u001b[0m\u001b[0;34m,\u001b[0m \u001b[0mtimeout\u001b[0m\u001b[0;34m)\u001b[0m\u001b[0;34m:\u001b[0m\u001b[0;34m\u001b[0m\u001b[0;34m\u001b[0m\u001b[0m\n\u001b[0;32m--> 424\u001b[0;31m         \u001b[0mr\u001b[0m \u001b[0;34m=\u001b[0m \u001b[0mwait\u001b[0m\u001b[0;34m(\u001b[0m\u001b[0;34m[\u001b[0m\u001b[0mself\u001b[0m\u001b[0;34m]\u001b[0m\u001b[0;34m,\u001b[0m \u001b[0mtimeout\u001b[0m\u001b[0;34m)\u001b[0m\u001b[0;34m\u001b[0m\u001b[0;34m\u001b[0m\u001b[0m\n\u001b[0m\u001b[1;32m    425\u001b[0m         \u001b[0;32mreturn\u001b[0m \u001b[0mbool\u001b[0m\u001b[0;34m(\u001b[0m\u001b[0mr\u001b[0m\u001b[0;34m)\u001b[0m\u001b[0;34m\u001b[0m\u001b[0;34m\u001b[0m\u001b[0m\n\u001b[1;32m    426\u001b[0m \u001b[0;34m\u001b[0m\u001b[0m\n",
      "\u001b[0;32m/Library/Frameworks/Python.framework/Versions/3.8/lib/python3.8/multiprocessing/connection.py\u001b[0m in \u001b[0;36mwait\u001b[0;34m(object_list, timeout)\u001b[0m\n\u001b[1;32m    921\u001b[0m         \u001b[0mReturns\u001b[0m \u001b[0mlist\u001b[0m \u001b[0mof\u001b[0m \u001b[0mthose\u001b[0m \u001b[0mobjects\u001b[0m \u001b[0;32min\u001b[0m \u001b[0mobject_list\u001b[0m \u001b[0mwhich\u001b[0m \u001b[0mare\u001b[0m \u001b[0mready\u001b[0m\u001b[0;34m/\u001b[0m\u001b[0mreadable\u001b[0m\u001b[0;34m.\u001b[0m\u001b[0;34m\u001b[0m\u001b[0;34m\u001b[0m\u001b[0m\n\u001b[1;32m    922\u001b[0m         '''\n\u001b[0;32m--> 923\u001b[0;31m         \u001b[0;32mwith\u001b[0m \u001b[0m_WaitSelector\u001b[0m\u001b[0;34m(\u001b[0m\u001b[0;34m)\u001b[0m \u001b[0;32mas\u001b[0m \u001b[0mselector\u001b[0m\u001b[0;34m:\u001b[0m\u001b[0;34m\u001b[0m\u001b[0;34m\u001b[0m\u001b[0m\n\u001b[0m\u001b[1;32m    924\u001b[0m             \u001b[0;32mfor\u001b[0m \u001b[0mobj\u001b[0m \u001b[0;32min\u001b[0m \u001b[0mobject_list\u001b[0m\u001b[0;34m:\u001b[0m\u001b[0;34m\u001b[0m\u001b[0;34m\u001b[0m\u001b[0m\n\u001b[1;32m    925\u001b[0m                 \u001b[0mselector\u001b[0m\u001b[0;34m.\u001b[0m\u001b[0mregister\u001b[0m\u001b[0;34m(\u001b[0m\u001b[0mobj\u001b[0m\u001b[0;34m,\u001b[0m \u001b[0mselectors\u001b[0m\u001b[0;34m.\u001b[0m\u001b[0mEVENT_READ\u001b[0m\u001b[0;34m)\u001b[0m\u001b[0;34m\u001b[0m\u001b[0;34m\u001b[0m\u001b[0m\n",
      "\u001b[0;32m/Library/Frameworks/Python.framework/Versions/3.8/lib/python3.8/selectors.py\u001b[0m in \u001b[0;36m__init__\u001b[0;34m(self)\u001b[0m\n\u001b[1;32m    346\u001b[0m \u001b[0;34m\u001b[0m\u001b[0m\n\u001b[1;32m    347\u001b[0m     \u001b[0;32mdef\u001b[0m \u001b[0m__init__\u001b[0m\u001b[0;34m(\u001b[0m\u001b[0mself\u001b[0m\u001b[0;34m)\u001b[0m\u001b[0;34m:\u001b[0m\u001b[0;34m\u001b[0m\u001b[0;34m\u001b[0m\u001b[0m\n\u001b[0;32m--> 348\u001b[0;31m         \u001b[0msuper\u001b[0m\u001b[0;34m(\u001b[0m\u001b[0;34m)\u001b[0m\u001b[0;34m.\u001b[0m\u001b[0m__init__\u001b[0m\u001b[0;34m(\u001b[0m\u001b[0;34m)\u001b[0m\u001b[0;34m\u001b[0m\u001b[0;34m\u001b[0m\u001b[0m\n\u001b[0m\u001b[1;32m    349\u001b[0m         \u001b[0mself\u001b[0m\u001b[0;34m.\u001b[0m\u001b[0m_selector\u001b[0m \u001b[0;34m=\u001b[0m \u001b[0mself\u001b[0m\u001b[0;34m.\u001b[0m\u001b[0m_selector_cls\u001b[0m\u001b[0;34m(\u001b[0m\u001b[0;34m)\u001b[0m\u001b[0;34m\u001b[0m\u001b[0;34m\u001b[0m\u001b[0m\n\u001b[1;32m    350\u001b[0m \u001b[0;34m\u001b[0m\u001b[0m\n",
      "\u001b[0;32m/Library/Frameworks/Python.framework/Versions/3.8/lib/python3.8/selectors.py\u001b[0m in \u001b[0;36m__init__\u001b[0;34m(self)\u001b[0m\n\u001b[1;32m    209\u001b[0m     \u001b[0;32mdef\u001b[0m \u001b[0m__init__\u001b[0m\u001b[0;34m(\u001b[0m\u001b[0mself\u001b[0m\u001b[0;34m)\u001b[0m\u001b[0;34m:\u001b[0m\u001b[0;34m\u001b[0m\u001b[0;34m\u001b[0m\u001b[0m\n\u001b[1;32m    210\u001b[0m         \u001b[0;31m# this maps file descriptors to keys\u001b[0m\u001b[0;34m\u001b[0m\u001b[0;34m\u001b[0m\u001b[0;34m\u001b[0m\u001b[0m\n\u001b[0;32m--> 211\u001b[0;31m         \u001b[0mself\u001b[0m\u001b[0;34m.\u001b[0m\u001b[0m_fd_to_key\u001b[0m \u001b[0;34m=\u001b[0m \u001b[0;34m{\u001b[0m\u001b[0;34m}\u001b[0m\u001b[0;34m\u001b[0m\u001b[0;34m\u001b[0m\u001b[0m\n\u001b[0m\u001b[1;32m    212\u001b[0m         \u001b[0;31m# read-only mapping returned by get_map()\u001b[0m\u001b[0;34m\u001b[0m\u001b[0;34m\u001b[0m\u001b[0;34m\u001b[0m\u001b[0m\n\u001b[1;32m    213\u001b[0m         \u001b[0mself\u001b[0m\u001b[0;34m.\u001b[0m\u001b[0m_map\u001b[0m \u001b[0;34m=\u001b[0m \u001b[0m_SelectorMapping\u001b[0m\u001b[0;34m(\u001b[0m\u001b[0mself\u001b[0m\u001b[0;34m)\u001b[0m\u001b[0;34m\u001b[0m\u001b[0;34m\u001b[0m\u001b[0m\n",
      "\u001b[0;31mKeyboardInterrupt\u001b[0m: "
     ]
    }
   ],
   "source": [
    "import tqdm\n",
    "\n",
    "with tqdm.tqdm(total=number_of_runs) as pbar:\n",
    "    \n",
    "    # iterate through filter extremes\n",
    "    for no_below in no_belows:\n",
    "        for no_above in no_aboves:\n",
    "            \n",
    "            dictionary, tfidf_corpus = filter_extremes(documents, no_below, no_above)\n",
    "    \n",
    "\n",
    "            # iterate through number of topics\n",
    "            for k in topics_range:\n",
    "                # iterate through alpha values\n",
    "                for a in alpha:\n",
    "                    # iterare through beta values\n",
    "                    for b in beta:\n",
    "                        # get the coherence score for the given parameters\n",
    "                        cv = compute_coherence_values(corpus=tfidf_corpus,\n",
    "                                                      dictionary=dictionary, \n",
    "                                                      num_topics=k,\n",
    "                                                      alpha=a,\n",
    "                                                      beta=b)\n",
    "                        # save the model results\n",
    "                        model_results['no_below'].append(no_below)\n",
    "                        model_results['no_above'].append(no_above)\n",
    "                        model_results['corpus'].append('tfidf')\n",
    "                        model_results['num_topics'].append(k)\n",
    "                        model_results['alpha'].append(a)\n",
    "                        model_results['beta'].append(b)\n",
    "                        model_results['coherence'].append(cv)\n",
    "\n",
    "                        # update process bar\n",
    "                        pbar.update(1)\n",
    "                \n",
    "pd.DataFrame(model_results).to_csv('../data/communiques/lda_tuning_results.csv', index=False)"
   ]
  },
  {
   "cell_type": "markdown",
   "id": "cb674aa9-c627-4318-b465-6f0c6eb6b1ce",
   "metadata": {},
   "source": [
    "### best model"
   ]
  },
  {
   "cell_type": "code",
   "execution_count": 102,
   "id": "a12b73b8-9ff7-41de-894b-bd05301ecead",
   "metadata": {},
   "outputs": [
    {
     "data": {
      "text/plain": [
       "no_below             5\n",
       "no_above          0.05\n",
       "corpus          TF-IDF\n",
       "num_topics           3\n",
       "alpha             0.01\n",
       "beta              0.01\n",
       "coherence    -6.469997\n",
       "Name: 5, dtype: object"
      ]
     },
     "execution_count": 102,
     "metadata": {},
     "output_type": "execute_result"
    }
   ],
   "source": [
    "# find best combination of hyperparams\n",
    "results = pd.read_csv('../data/communiques/lda_tuning_results.csv')\n",
    "best = results.iloc[np.argmin(results['coherence'])]\n",
    "best"
   ]
  },
  {
   "cell_type": "code",
   "execution_count": 197,
   "id": "5622238d-44ec-400a-aba1-b5bcf3345b82",
   "metadata": {},
   "outputs": [],
   "source": [
    "# train basic LDA model with those hyperparameters\n",
    "\n",
    "dictionary, corpora = filter_extremes(documents, best['no_below'], best['no_above'])\n",
    "\n",
    "lda_model = LdaMulticore(corpus=corpus if best['corpus'] == corpus_title[0] else tfidf_corpus,\n",
    "                         id2word=dictionary,\n",
    "                         num_topics=best['num_topics'],\n",
    "                         alpha=best['alpha'],\n",
    "                         eta=best['beta'],\n",
    "                         random_state=100,\n",
    "                         iterations=400,\n",
    "                         passes=20\n",
    "                        )\n",
    "\n",
    "\n",
    "# get coherence per topic\n",
    "\n",
    "coherence_model_lda = CoherenceModel(model=lda_model,\n",
    "                                     corpus=corpus, \n",
    "                                     coherence='u_mass')\n",
    "\n",
    "coherence_per_topic = coherence_model_lda.get_coherence_per_topic()"
   ]
  },
  {
   "cell_type": "code",
   "execution_count": 198,
   "id": "e49e5166-59bd-49f5-95f6-182eb42a1459",
   "metadata": {},
   "outputs": [
    {
     "name": "stdout",
     "output_type": "stream",
     "text": [
      "[(0,\n",
      "  '0.036*\"call\" + 0.034*\"carefully\" + 0.030*\"critical\" + 0.030*\"memorandum\" + '\n",
      "  '0.025*\"decision\" + 0.025*\"initiative\" + 0.023*\"european\" + 0.023*\"assess\" + '\n",
      "  '0.021*\"financing\" + 0.021*\"basis\"'),\n",
      " (1,\n",
      "  '0.053*\"important\" + 0.040*\"impact\" + 0.034*\"headline\" + 0.031*\"financial\" + '\n",
      "  '0.030*\"response\" + 0.030*\"unilateral\" + 0.030*\"basis\" + '\n",
      "  '0.029*\"primary_surplus\" + 0.027*\"end\" + 0.026*\"legal\"'),\n",
      " (2,\n",
      "  '0.036*\"structural_reform\" + 0.033*\"provide\" + 0.030*\"proceed\" + '\n",
      "  '0.027*\"yesterday\" + 0.026*\"facility\" + 0.025*\"uh-\" + 0.024*\"commission\" + '\n",
      "  '0.024*\"successful_conclusion\" + 0.024*\"economic\" + 0.023*\"fully\"')]\n"
     ]
    }
   ],
   "source": [
    "pprint(lda_model.print_topics(num_words=10))"
   ]
  },
  {
   "cell_type": "code",
   "execution_count": 199,
   "id": "4f4921ac-4f68-4592-a447-e3731680bf81",
   "metadata": {},
   "outputs": [
    {
     "name": "stdout",
     "output_type": "stream",
     "text": [
      "[-2.897759885374639, -2.5239345701526106, -2.447363189828585]\n"
     ]
    }
   ],
   "source": [
    "pprint(coherence_per_topic)"
   ]
  },
  {
   "cell_type": "code",
   "execution_count": null,
   "id": "22001506-7d89-4cc2-8847-a85733190ba1",
   "metadata": {},
   "outputs": [],
   "source": []
  }
 ],
 "metadata": {
  "kernelspec": {
   "display_name": "Python 3",
   "language": "python",
   "name": "python3"
  },
  "language_info": {
   "codemirror_mode": {
    "name": "ipython",
    "version": 3
   },
   "file_extension": ".py",
   "mimetype": "text/x-python",
   "name": "python",
   "nbconvert_exporter": "python",
   "pygments_lexer": "ipython3",
   "version": "3.8.5"
  },
  "toc-autonumbering": false,
  "toc-showcode": false,
  "toc-showmarkdowntxt": false,
  "toc-showtags": false
 },
 "nbformat": 4,
 "nbformat_minor": 5
}
