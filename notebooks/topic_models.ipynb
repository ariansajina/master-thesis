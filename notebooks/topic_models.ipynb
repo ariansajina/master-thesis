{
 "cells": [
  {
   "cell_type": "code",
   "execution_count": 329,
   "id": "induced-relationship",
   "metadata": {},
   "outputs": [],
   "source": [
    "import time\n",
    "import json\n",
    "from pprint import pprint\n",
    "\n",
    "import numpy as np\n",
    "import pandas as pd\n",
    "import matplotlib.pyplot as plt\n",
    "import spacy"
   ]
  },
  {
   "cell_type": "markdown",
   "id": "cb3a55f4-f305-4407-a1da-add34b1e5b37",
   "metadata": {},
   "source": [
    "# Euroleaks\n",
    "- document = uninterrupted speech made by speaker (this is similar to the Ferrara et al. approach with ECB hearings)"
   ]
  },
  {
   "cell_type": "markdown",
   "id": "9f01aa71-3710-463a-bea5-d7a291ab5e2f",
   "metadata": {},
   "source": [
    "## LDA author topic model\n",
    "Author can be either speaker (entity) or date. "
   ]
  },
  {
   "cell_type": "code",
   "execution_count": 573,
   "id": "a682d110-9005-4437-baa0-f00df2dc61f2",
   "metadata": {},
   "outputs": [],
   "source": [
    "# parameters\n",
    "\n",
    "author = 'entity' # 'date' or 'entity'\n",
    "POS_filter = 'content' # 'content' or 'nouns'"
   ]
  },
  {
   "cell_type": "markdown",
   "id": "afdeb29b-3b3d-49a0-8fc4-f44ad6c21902",
   "metadata": {},
   "source": [
    "### preprocessing"
   ]
  },
  {
   "cell_type": "code",
   "execution_count": 574,
   "id": "6c23343c-df6a-4b6f-8f0e-62c71819265f",
   "metadata": {},
   "outputs": [],
   "source": [
    "# stopwords\n",
    "with open('../data/euroleaks/stopwords.json', 'r') as f:\n",
    "    stopwords = json.load(f)\n",
    "    \n",
    "# collocations\n",
    "def apply_trigram_colloc(s, set_colloc):\n",
    "    res = s.lower()\n",
    "    for b1,b2,b3 in set_colloc:\n",
    "        res = res.replace(f'{b1} {b2} {b3}', f'{b1}_{b2}_{b3}')\n",
    "    return res\n",
    "\n",
    "def apply_bigram_colloc(s, set_colloc):\n",
    "    res = s.lower()\n",
    "    for b1,b2 in set_colloc:\n",
    "        res = res.replace(f'{b1} {b2}', f'{b1}_{b2}')\n",
    "    return res\n",
    "\n",
    "with open('../data/collocations/trigrams.json', 'r') as f:\n",
    "    trigram_colloc = json.load(f)\n",
    "\n",
    "with open('../data/collocations/bigrams.json', 'r') as f:\n",
    "    bigram_colloc = json.load(f)\n",
    "    \n",
    "nlp = spacy.load(\"en_core_web_sm\", exclude=[\"ner\"])"
   ]
  },
  {
   "cell_type": "code",
   "execution_count": 575,
   "id": "43e1a8d7-9936-4ffe-bef3-86cbe34938e8",
   "metadata": {},
   "outputs": [],
   "source": [
    "if POS_filter == 'content':\n",
    "    filter_POS = {'ADJ', 'ADV', 'NOUN', 'PROPN', 'VERB'}\n",
    "elif POS_filter == 'nouns':\n",
    "    filter_POS = {'NOUN', 'PROPN'}\n",
    "\n",
    "def filter_token(token):\n",
    "    return token.pos_ in filter_POS\\\n",
    "        and not token.lemma_.lower() in nlp.Defaults.stop_words\\\n",
    "        and not token.lower_ in stopwords['names']\\\n",
    "        and not token.lower_ in stopwords['disfluency']\\\n",
    "        and not token.lemma_.lower() in stopwords['courtesy']\\\n",
    "        and len(token.lemma_) > 1"
   ]
  },
  {
   "cell_type": "code",
   "execution_count": 576,
   "id": "313dc391-b11e-4a33-a17e-7fd58211d00f",
   "metadata": {},
   "outputs": [],
   "source": [
    "# read data\n",
    "df = pd.read_csv('../data/euroleaks/squeezed.csv')\n",
    "\n",
    "\n",
    "# add column for entity, label unassigned as Unidentified\n",
    "with open('../data/euroleaks/name_to_entity.json', 'r') as f:\n",
    "    speaker_to_entity = json.load(f)\n",
    "df['entity'] = df.speaker.apply(lambda s: speaker_to_entity[s] if s in speaker_to_entity.keys() else 'Unidentified')\n",
    "\n",
    "\n",
    "# preprocess\n",
    "documents = [\n",
    "    [token.lemma_.lower() for token in nlp(doc) if filter_token(token)]\n",
    "    for doc in df.speech.values \n",
    "]\n",
    "\n",
    "# get labels (important that this is done BEFORE removing documents)\n",
    "dates = [pd.to_datetime(date).strftime('%d/%m') for date,d in zip(df.date, documents) if len(d) > 0]\n",
    "entities = [entity for entity,d in zip(df.entity, documents) if len(d) > 0]\n",
    "\n",
    "# leave out empty documents\n",
    "documents = [d for d in documents if len(d) > 0]\n",
    "\n",
    "# apply collocations\n",
    "documents = [\n",
    "    apply_bigram_colloc(apply_trigram_colloc(' '.join(doc), trigram_colloc), bigram_colloc).split()\n",
    "    for doc in documents]"
   ]
  },
  {
   "cell_type": "code",
   "execution_count": 577,
   "id": "ba26631e-2a71-4ffa-a81a-dc0414b8b3e3",
   "metadata": {},
   "outputs": [
    {
     "data": {
      "text/plain": [
       "array(['01/04', '01/07', '11/05', '17/03', '18/06', '22/06', '24/02',\n",
       "       '24/04', '24/06', '25/06', '27/06', '30/06'], dtype='<U5')"
      ]
     },
     "execution_count": 577,
     "metadata": {},
     "output_type": "execute_result"
    }
   ],
   "source": [
    "np.unique(dates)"
   ]
  },
  {
   "cell_type": "code",
   "execution_count": 578,
   "id": "e3be1c8b-9942-4922-864f-52225917cbda",
   "metadata": {},
   "outputs": [
    {
     "name": "stdout",
     "output_type": "stream",
     "text": [
      "There are a total of 27170 tokens, and a total of 538 documents.\n"
     ]
    }
   ],
   "source": [
    "print(f'There are a total of {np.sum([len(doc) for doc in documents])} tokens, and a total of {len(documents)} documents.')"
   ]
  },
  {
   "cell_type": "markdown",
   "id": "723dff6e-87f2-4b87-acfc-13d9f21a376b",
   "metadata": {},
   "source": [
    "### dictionary: filter extremes"
   ]
  },
  {
   "cell_type": "code",
   "execution_count": 579,
   "id": "54f1c8c5-3fed-42e3-bb0f-b093727fc3c8",
   "metadata": {},
   "outputs": [
    {
     "name": "stdout",
     "output_type": "stream",
     "text": [
      "no_below will remove 1429 tokens.\n",
      "no_above will remove 41 tokens.\n"
     ]
    }
   ],
   "source": [
    "from gensim.corpora import Dictionary\n",
    "\n",
    "dictionary = Dictionary(documents)\n",
    "\n",
    "no_below=2\n",
    "no_above=.1\n",
    "\n",
    "# see what will be removed\n",
    "no_below_removed = [dictionary.get(token_id) for token_id, freq in dictionary.cfs.items() if freq < no_below]\n",
    "no_above_removed = [dictionary.get(token_id) for token_id, freq in dictionary.dfs.items() if freq > no_above * len(documents)]\n",
    "\n",
    "print(f'no_below will remove {len(no_below_removed)} tokens.')\n",
    "print(f'no_above will remove {len(no_above_removed)} tokens.')\n",
    "\n",
    "dictionary.filter_extremes(\n",
    "    no_below=no_below,  # Keep tokens which are contained in at least no_below documents.\n",
    "    no_above=no_above # Keep tokens which are contained in no more than no_above documents (fraction of total corpus size, not an absolute number).\n",
    ")"
   ]
  },
  {
   "cell_type": "code",
   "execution_count": 580,
   "id": "d3ca24f1-97c4-4a85-9d3b-95971b2aaf59",
   "metadata": {},
   "outputs": [
    {
     "name": "stdout",
     "output_type": "stream",
     "text": [
      "Number of unique tokens: 1856\n",
      "Number of documents: 538\n"
     ]
    }
   ],
   "source": [
    "# bag of words\n",
    "corpus = [dictionary.doc2bow(text) for text in documents]\n",
    "\n",
    "print('Number of unique tokens: %d' % len(dictionary))\n",
    "print('Number of documents: %d' % len(corpus))"
   ]
  },
  {
   "cell_type": "markdown",
   "id": "74cb94a3-92db-4f2a-8ee2-ea4ad63a0876",
   "metadata": {},
   "source": [
    "### author2doc"
   ]
  },
  {
   "cell_type": "code",
   "execution_count": 581,
   "id": "15986c3e-d4f8-444d-9c67-ba33ace039c4",
   "metadata": {},
   "outputs": [],
   "source": [
    "from collections import defaultdict\n",
    "\n",
    "author2doc = defaultdict(list)\n",
    "\n",
    "if author == 'date':\n",
    "    for i,date in enumerate(dates):\n",
    "        author2doc[date].append(i)\n",
    "elif author == 'entity':\n",
    "    for i,entity in enumerate(entities):\n",
    "        author2doc[entity].append(i)"
   ]
  },
  {
   "cell_type": "markdown",
   "id": "25e43ba2-6133-437c-9bec-c750268bf74f",
   "metadata": {},
   "source": [
    "### grid search"
   ]
  },
  {
   "cell_type": "code",
   "execution_count": 582,
   "id": "d0aff867-ff37-41d3-a67a-6e740443e7d7",
   "metadata": {},
   "outputs": [],
   "source": [
    "import multiprocessing\n",
    "n_cores = multiprocessing.cpu_count() - 1\n",
    "\n",
    "from gensim.models import CoherenceModel\n",
    "from gensim.models import AuthorTopicModel\n",
    "from gensim.test.utils import temporary_file"
   ]
  },
  {
   "cell_type": "code",
   "execution_count": 584,
   "id": "d0aeb64d-6690-46a6-8ae8-eee124f889ae",
   "metadata": {},
   "outputs": [],
   "source": [
    "def compute_coherence_values(corpus, dictionary, num_topics, alpha, beta):\n",
    "     \n",
    "    with temporary_file(\"serialized\") as s_path:\n",
    "    \n",
    "        author_model = AuthorTopicModel(\n",
    "                        corpus=corpus,\n",
    "                        author2doc=author2doc,\n",
    "                        id2word=dictionary,\n",
    "                        num_topics=num_topics,\n",
    "                        serialized=True,\n",
    "                        serialization_path=s_path,\n",
    "                        iterations=200,\n",
    "                        passes=10,\n",
    "                        alpha=alpha,\n",
    "                        eta=beta,\n",
    "                        random_state=101\n",
    "                        )\n",
    "\n",
    "        author_model.update(corpus, author2doc)\n",
    "    \n",
    "    \n",
    "    coherence_model_umass = CoherenceModel(model=author_model,\n",
    "                                         corpus=corpus, \n",
    "                                         coherence='u_mass')\n",
    "    \n",
    "#     coherence_model_cv = CoherenceModel(model=author_model,\n",
    "#                                          texts=documents, \n",
    "#                                          coherence='c_v')\n",
    "    \n",
    "#     return (coherence_model_umass.get_coherence(), coherence_model_cv.get_coherence())\n",
    "    return coherence_model_umass.get_coherence()"
   ]
  },
  {
   "cell_type": "code",
   "execution_count": 585,
   "id": "10df8896-790e-4c7a-a7c6-2a440d8d957d",
   "metadata": {},
   "outputs": [
    {
     "name": "stdout",
     "output_type": "stream",
     "text": [
      "Time taken: 0.09 mins\n",
      "u_mass: -1.3751306492599653\n",
      "c_v: -2.6070831196239643\n"
     ]
    }
   ],
   "source": [
    "# test run\n",
    "\n",
    "t = time.time()\n",
    "\n",
    "umass = compute_coherence_values(corpus, dictionary, 3, 1, 1)\n",
    "\n",
    "time_taken = round((time.time() - t) / 60, 2)\n",
    "print(f'Time taken: {time_taken} mins')\n",
    "\n",
    "print(f'u_mass: {umass}\\nc_v: {cv}')"
   ]
  },
  {
   "cell_type": "code",
   "execution_count": 586,
   "id": "75b490ac-f878-4861-879a-4652a2ee90f5",
   "metadata": {},
   "outputs": [
    {
     "name": "stdout",
     "output_type": "stream",
     "text": [
      "You are about to execute 80 runs. This could take up to 7.2 minutes.\n"
     ]
    }
   ],
   "source": [
    "# k = number of topics hyperparameter\n",
    "topics_range = range(2,6)\n",
    "\n",
    "# alpha hyperparameter\n",
    "alpha = [.01, .3, 1]\n",
    "alpha.append('symmetric')\n",
    "alpha.append('asymmetric')\n",
    "\n",
    "# beta hyperparameter\n",
    "beta = [.01, .3, 1]\n",
    "beta.append('symmetric')\n",
    "\n",
    "\n",
    "model_results = {'num_topics': [],\n",
    "                 'alpha': [],\n",
    "                 'beta': [],\n",
    "                 'u_mass': [],\n",
    "                }\n",
    "\n",
    "number_of_runs = len(topics_range) * len(alpha) * len(beta)\n",
    "print(f'You are about to execute {number_of_runs} runs. This could take up to {np.round(number_of_runs*time_taken,2)} minutes.')"
   ]
  },
  {
   "cell_type": "code",
   "execution_count": 587,
   "id": "dca03c93-5597-4a03-bd19-8b71e67dff99",
   "metadata": {},
   "outputs": [
    {
     "name": "stderr",
     "output_type": "stream",
     "text": [
      "100%|██████████| 80/80 [04:47<00:00,  3.60s/it]\n"
     ]
    }
   ],
   "source": [
    "import tqdm\n",
    "\n",
    "with tqdm.tqdm(total=number_of_runs) as pbar:\n",
    "\n",
    "    # iterate through number of topics\n",
    "    for k in topics_range:\n",
    "        # iterate through alpha values\n",
    "        for a in alpha:\n",
    "            # iterare through beta values\n",
    "            for b in beta:\n",
    "                # get the coherence score for the given parameters\n",
    "                \n",
    "                umass = compute_coherence_values(corpus=corpus,\n",
    "                                                       dictionary=dictionary, \n",
    "                                                       num_topics=k,\n",
    "                                                       alpha=a,\n",
    "                                                       beta=b)\n",
    "                    \n",
    "                # save the model results\n",
    "                model_results['num_topics'].append(k)\n",
    "                model_results['alpha'].append(a)\n",
    "                model_results['beta'].append(b)\n",
    "                model_results['u_mass'].append(np.mean(umass))\n",
    "\n",
    "                # update process bar\n",
    "                pbar.update(1)\n",
    "                \n",
    "pd.DataFrame(model_results).to_csv(f'../data/lda-grid-search/stm-euroleaks-doc_{author}-2.csv', index=False)"
   ]
  },
  {
   "cell_type": "markdown",
   "id": "7da69634-3210-4cd0-b05a-d65c668902fe",
   "metadata": {},
   "source": [
    "### inspect results"
   ]
  },
  {
   "cell_type": "code",
   "execution_count": 246,
   "id": "a9dd9d03-aada-403b-8a4f-afd1d76c5f77",
   "metadata": {},
   "outputs": [],
   "source": [
    "# import os\n",
    "\n",
    "# listing = os.listdir('../data/lda-grid-search')\n",
    "# for filename in listing:\n",
    "#     print(filename)"
   ]
  },
  {
   "cell_type": "code",
   "execution_count": 588,
   "id": "0c365b5e-5b12-45cc-afb0-413116265e44",
   "metadata": {},
   "outputs": [
    {
     "data": {
      "text/html": [
       "<div>\n",
       "<style scoped>\n",
       "    .dataframe tbody tr th:only-of-type {\n",
       "        vertical-align: middle;\n",
       "    }\n",
       "\n",
       "    .dataframe tbody tr th {\n",
       "        vertical-align: top;\n",
       "    }\n",
       "\n",
       "    .dataframe thead th {\n",
       "        text-align: right;\n",
       "    }\n",
       "</style>\n",
       "<table border=\"1\" class=\"dataframe\">\n",
       "  <thead>\n",
       "    <tr style=\"text-align: right;\">\n",
       "      <th></th>\n",
       "      <th>num_topics</th>\n",
       "      <th>alpha</th>\n",
       "      <th>beta</th>\n",
       "      <th>u_mass</th>\n",
       "    </tr>\n",
       "  </thead>\n",
       "  <tbody>\n",
       "    <tr>\n",
       "      <th>30</th>\n",
       "      <td>3</td>\n",
       "      <td>1</td>\n",
       "      <td>1</td>\n",
       "      <td>-1.375131</td>\n",
       "    </tr>\n",
       "    <tr>\n",
       "      <th>49</th>\n",
       "      <td>4</td>\n",
       "      <td>1</td>\n",
       "      <td>0.3</td>\n",
       "      <td>-1.390550</td>\n",
       "    </tr>\n",
       "    <tr>\n",
       "      <th>50</th>\n",
       "      <td>4</td>\n",
       "      <td>1</td>\n",
       "      <td>1</td>\n",
       "      <td>-1.416687</td>\n",
       "    </tr>\n",
       "    <tr>\n",
       "      <th>51</th>\n",
       "      <td>4</td>\n",
       "      <td>1</td>\n",
       "      <td>symmetric</td>\n",
       "      <td>-1.419198</td>\n",
       "    </tr>\n",
       "    <tr>\n",
       "      <th>20</th>\n",
       "      <td>3</td>\n",
       "      <td>0.01</td>\n",
       "      <td>0.01</td>\n",
       "      <td>-1.441977</td>\n",
       "    </tr>\n",
       "    <tr>\n",
       "      <th>...</th>\n",
       "      <td>...</td>\n",
       "      <td>...</td>\n",
       "      <td>...</td>\n",
       "      <td>...</td>\n",
       "    </tr>\n",
       "    <tr>\n",
       "      <th>56</th>\n",
       "      <td>4</td>\n",
       "      <td>asymmetric</td>\n",
       "      <td>0.01</td>\n",
       "      <td>-2.496839</td>\n",
       "    </tr>\n",
       "    <tr>\n",
       "      <th>59</th>\n",
       "      <td>4</td>\n",
       "      <td>asymmetric</td>\n",
       "      <td>symmetric</td>\n",
       "      <td>-3.286099</td>\n",
       "    </tr>\n",
       "    <tr>\n",
       "      <th>78</th>\n",
       "      <td>5</td>\n",
       "      <td>asymmetric</td>\n",
       "      <td>1</td>\n",
       "      <td>-3.364709</td>\n",
       "    </tr>\n",
       "    <tr>\n",
       "      <th>57</th>\n",
       "      <td>4</td>\n",
       "      <td>asymmetric</td>\n",
       "      <td>0.3</td>\n",
       "      <td>-3.567376</td>\n",
       "    </tr>\n",
       "    <tr>\n",
       "      <th>58</th>\n",
       "      <td>4</td>\n",
       "      <td>asymmetric</td>\n",
       "      <td>1</td>\n",
       "      <td>-4.295895</td>\n",
       "    </tr>\n",
       "  </tbody>\n",
       "</table>\n",
       "<p>80 rows × 4 columns</p>\n",
       "</div>"
      ],
      "text/plain": [
       "    num_topics       alpha       beta    u_mass\n",
       "30           3           1          1 -1.375131\n",
       "49           4           1        0.3 -1.390550\n",
       "50           4           1          1 -1.416687\n",
       "51           4           1  symmetric -1.419198\n",
       "20           3        0.01       0.01 -1.441977\n",
       "..         ...         ...        ...       ...\n",
       "56           4  asymmetric       0.01 -2.496839\n",
       "59           4  asymmetric  symmetric -3.286099\n",
       "78           5  asymmetric          1 -3.364709\n",
       "57           4  asymmetric        0.3 -3.567376\n",
       "58           4  asymmetric          1 -4.295895\n",
       "\n",
       "[80 rows x 4 columns]"
      ]
     },
     "execution_count": 588,
     "metadata": {},
     "output_type": "execute_result"
    }
   ],
   "source": [
    "results = pd.read_csv('../data/lda-grid-search/stm-euroleaks-doc_entity-2.csv')\n",
    "\n",
    "results.sort_values(by='u_mass', ascending=False)"
   ]
  },
  {
   "cell_type": "code",
   "execution_count": 235,
   "id": "f9a1998a-a41f-4dbe-aff9-bcb2736312d8",
   "metadata": {},
   "outputs": [],
   "source": [
    "# fig, axes = plt.subplots(1,2, figsize=(10,4))\n",
    "\n",
    "# y1 = results.groupby('num_topics').u_mass.max()\n",
    "# y2 = results.groupby('num_topics').c_v.max()\n",
    "\n",
    "# axes[0].plot(y1, marker='+', label='u_mass')\n",
    "# axes[0].set_title('u_mass')\n",
    "\n",
    "# axes[1].plot(y2, marker='o', label='c_v')\n",
    "# axes[1].set_title('c_v')\n",
    "\n",
    "#_ = ax.set_xticks(results.groupby('num_topics').c_v.mean().index)"
   ]
  },
  {
   "cell_type": "markdown",
   "id": "b97ffd25-434c-4537-a7a1-03bb532904ad",
   "metadata": {},
   "source": [
    "### best model"
   ]
  },
  {
   "cell_type": "code",
   "execution_count": 589,
   "id": "8911e0e1-9f14-4fe0-976e-1e1ad286d444",
   "metadata": {},
   "outputs": [],
   "source": [
    "results = pd.read_csv(f'../data/lda-grid-search/stm-euroleaks-doc_{author}.csv')\n",
    "\n",
    "best = results.iloc[results.u_mass.argmax()]\n",
    "\n",
    "best_alpha = best['alpha'] if 'symmetric' in best['alpha'] else float(best['alpha'])\n",
    "best_beta = best['beta'] if 'symmetric' in best['beta'] else float(best['beta'])\n",
    "\n",
    "num_topics = int(best[0])\n",
    "expected_u_mass = float(best[-1])"
   ]
  },
  {
   "cell_type": "code",
   "execution_count": 590,
   "id": "a176d237-6255-4e5e-8206-9b53f6f311f8",
   "metadata": {},
   "outputs": [
    {
     "name": "stdout",
     "output_type": "stream",
     "text": [
      "-1.477276806739293\n"
     ]
    }
   ],
   "source": [
    "with temporary_file(\"serialized\") as s_path:\n",
    "\n",
    "    author_model = AuthorTopicModel(\n",
    "                    corpus=corpus,\n",
    "                    author2doc=author2doc,\n",
    "                    id2word=dictionary,\n",
    "                    num_topics=num_topics,\n",
    "                    serialized=True,\n",
    "                    serialization_path=s_path,\n",
    "                    iterations=200,\n",
    "                    passes=10,\n",
    "                    alpha=best_alpha,\n",
    "                    eta=best_beta,\n",
    "                    random_state=100\n",
    "                    )\n",
    "\n",
    "    author_model.update(corpus, author2doc)\n",
    "\n",
    "\n",
    "coherence_model_umass = CoherenceModel(model=author_model,\n",
    "                                     corpus=corpus, \n",
    "                                     coherence='u_mass')\n",
    "\n",
    "print(coherence_model_umass.get_coherence())\n",
    "#assert np.isclose(coherence_model_umass.get_coherence(), expected_u_mass)"
   ]
  },
  {
   "cell_type": "code",
   "execution_count": 591,
   "id": "f7d9cc2f-f928-4314-b446-8a5955ce53d5",
   "metadata": {},
   "outputs": [
    {
     "name": "stdout",
     "output_type": "stream",
     "text": [
      "[(0,\n",
      "  '0.008*\"policy\" + 0.008*\"reform\" + 0.007*\"area\" + 0.007*\"number\" + '\n",
      "  '0.006*\"bank\" + 0.006*\"document\" + 0.005*\"fiscal\" + 0.005*\"general\" + '\n",
      "  '0.005*\"liquidity\" + 0.004*\"list\" + 0.004*\"detail\" + 0.004*\"market\" + '\n",
      "  '0.004*\"authority\" + 0.004*\"progress\" + 0.004*\"debt\" + 0.004*\"problem\" + '\n",
      "  '0.004*\"include\" + 0.004*\"start\" + 0.004*\"technical\" + 0.003*\"position\" + '\n",
      "  '0.003*\"provide\" + 0.003*\"actually\" + 0.003*\"review\" + 0.003*\"forward\" + '\n",
      "  '0.003*\"direction\" + 0.003*\"financial\" + 0.003*\"fully\" + 0.003*\"important\" + '\n",
      "  '0.003*\"growth\" + 0.003*\"interest_rate\"'),\n",
      " (1,\n",
      "  '0.008*\"list\" + 0.008*\"referendum\" + 0.007*\"political\" + 0.007*\"letter\" + '\n",
      "  '0.006*\"decision\" + 0.006*\"use\" + 0.006*\"statement\" + 0.006*\"different\" + '\n",
      "  '0.005*\"try\" + 0.005*\"start\" + 0.005*\"possible\" + 0.005*\"country\" + '\n",
      "  '0.005*\"thing\" + 0.005*\"conclusion\" + 0.005*\"minister\" + 0.005*\"basis\" + '\n",
      "  '0.004*\"maybe\" + 0.004*\"hear\" + 0.004*\"reach\" + 0.004*\"final\" + '\n",
      "  '0.004*\"fully\" + 0.004*\"position\" + 0.004*\"support\" + 0.004*\"commission\" + '\n",
      "  '0.004*\"communication\" + 0.004*\"important\" + 0.003*\"people\" + '\n",
      "  '0.003*\"forward\" + 0.003*\"place\" + 0.003*\"continue\"'),\n",
      " (2,\n",
      "  '0.011*\"pension\" + 0.011*\"reform\" + 0.007*\"parliament\" + 0.007*\"believe\" + '\n",
      "  '0.006*\"month\" + 0.006*\"tax\" + 0.006*\"order\" + 0.005*\"mention\" + '\n",
      "  '0.005*\"propose\" + 0.005*\"regard\" + 0.005*\"negotiation\" + '\n",
      "  '0.004*\"greek_people\" + 0.004*\"fiscal\" + 0.004*\"state\" + 0.004*\"accept\" + '\n",
      "  '0.004*\"review\" + 0.004*\"year\" + 0.004*\"rate\" + 0.004*\"increase\" + '\n",
      "  '0.003*\"people\" + 0.003*\"debt\" + 0.003*\"mou\" + 0.003*\"complete\" + '\n",
      "  '0.003*\"number\" + 0.003*\"system\" + 0.003*\"simply\" + 0.003*\"set\" + '\n",
      "  '0.003*\"important\" + 0.003*\"gdp\" + 0.003*\"list\"')]\n"
     ]
    }
   ],
   "source": [
    "from pprint import pprint\n",
    "\n",
    "pprint(author_model.print_topics(num_words=30))"
   ]
  },
  {
   "cell_type": "code",
   "execution_count": 558,
   "id": "8c3e5263-daae-43e1-aeb3-33a188659b1b",
   "metadata": {},
   "outputs": [
    {
     "data": {
      "text/plain": [
       "['reform pension debt policy fiscal tax low important parliament increase',\n",
       " 'list reform liquidity progress country believe month negotiation bank number',\n",
       " 'document list letter political problem position statement understand decision basis']"
      ]
     },
     "execution_count": 558,
     "metadata": {},
     "output_type": "execute_result"
    }
   ],
   "source": [
    "top_n = 10\n",
    "topic_labels = [' '.join(np.array(author_model.show_topic(i,top_n))[:,0]) for i in range(num_topics)]\n",
    "topic_labels"
   ]
  },
  {
   "cell_type": "code",
   "execution_count": 406,
   "id": "34630975-923f-40d9-ae54-b39f3195f11b",
   "metadata": {},
   "outputs": [],
   "source": [
    "# import re\n",
    "\n",
    "# first_n = 20\n",
    "\n",
    "# topic_sep = re.compile(r'0\\.[0-9]{3}\\*\"|\"')\n",
    "\n",
    "# model_topics = np.array([re.sub(topic_sep , '', model_topic).\n",
    "#     split(' + ') for topic_no , model_topic in author_model.print_topics(num_words=first_n)])"
   ]
  },
  {
   "cell_type": "code",
   "execution_count": 433,
   "id": "ec2cc03f-f212-42f9-9a6f-d9de0eb6ff46",
   "metadata": {},
   "outputs": [],
   "source": [
    "topic_corpus = [author_model.get_author_topics(author) for author in author2doc.keys()]\n",
    "\n",
    "topic_proportions = pd.DataFrame(np.zeros((len(topic_corpus), 3)))\n",
    "\n",
    "for i,doc in enumerate(topic_corpus):\n",
    "    for topic in doc:\n",
    "        topic_proportions.iloc[i,topic[0]] = topic[1]\n",
    "    \n",
    "topic_proportions.set_index(pd.Series(list(author2doc.keys())), inplace=True)\n",
    "topic_proportions.rename(columns={i:t for i,t in enumerate(topic_labels)}, inplace=True)"
   ]
  },
  {
   "cell_type": "code",
   "execution_count": 417,
   "id": "5f1af37a-a9d5-4b9c-870a-98e0db7b6e61",
   "metadata": {},
   "outputs": [],
   "source": []
  },
  {
   "cell_type": "code",
   "execution_count": 418,
   "id": "987678ed-d6fc-4645-b764-8999259b38b7",
   "metadata": {},
   "outputs": [
    {
     "data": {
      "image/png": "[encoded data removed]",
      "text/plain": [
       "<Figure size 504x432 with 1 Axes>"
      ]
     },
     "metadata": {
      "needs_background": "light"
     },
     "output_type": "display_data"
    }
   ],
   "source": [
    "# author = date\n",
    "#date_topic_proportions = topic_proportions.copy()\n",
    "\n",
    "fig, ax = plt.subplots(figsize=(7,6))\n",
    "\n",
    "date_topic_proportions.sort_index().plot.bar(ax=ax, label=topic_labels)\n",
    "ax.set_xticklabels(date_topic_proportions.index, rotation=45)\n",
    "#ax.legend()\n",
    "ax.legend(loc='upper center', bbox_to_anchor=(0.5, -0.2), shadow=True, ncol=1, )\n",
    "\n",
    "ax.set_ylabel('topic proportion')\n",
    "ax.set_xlabel('Eurogroup meeting date')\n",
    "ax.grid(axis='y')\n",
    "\n",
    "#ig.tight_layout()\n",
    "fig.subplots_adjust(bottom=0.25)\n",
    "fig.savefig('../figures/stm-leaks-dates.png')"
   ]
  },
  {
   "cell_type": "code",
   "execution_count": 499,
   "id": "2b6e7d5b-159f-4e11-8ffb-f5fc9ceb9d58",
   "metadata": {},
   "outputs": [
    {
     "data": {
      "image/png": "[encoded data removed]",
      "text/plain": [
       "<Figure size 864x504 with 1 Axes>"
      ]
     },
     "metadata": {
      "needs_background": "light"
     },
     "output_type": "display_data"
    }
   ],
   "source": [
    "# author = entity\n",
    "entity_topic_proportions = topic_proportions.copy()\n",
    "\n",
    "fig, ax = plt.subplots(figsize=(12,7))\n",
    "\n",
    "entity_topic_proportions.sort_index().plot.bar(ax=ax, label=topic_labels)\n",
    "#ax.set_xticklabels(entity_topic_proportions.index, rotation=45)\n",
    "#ax.legend()\n",
    "#ax.legend(loc='upper center', bbox_to_anchor=(0.6, -0.2), shadow=True, ncol=1, )\n",
    "\n",
    "ax.set_ylabel('topic proportion')\n",
    "#ax.set_xlabel('Eurogroup meeting date')\n",
    "ax.grid(axis='y')\n",
    "\n",
    "#ig.tight_layout()\n",
    "fig.subplots_adjust(bottom=0.25)\n",
    "fig.savefig('../figures/stm-leaks-dates.png')"
   ]
  },
  {
   "cell_type": "code",
   "execution_count": 517,
   "id": "6888f522-9555-4c80-8665-8841164d4d80",
   "metadata": {},
   "outputs": [
    {
     "data": {
      "image/png": "[encoded data removed]",
      "text/plain": [
       "<Figure size 864x1008 with 2 Axes>"
      ]
     },
     "metadata": {
      "needs_background": "light"
     },
     "output_type": "display_data"
    }
   ],
   "source": [
    "fig, axes = plt.subplots(2,1,figsize=(12,14))\n",
    "\n",
    "plt.rc('font', size=14)\n",
    "\n",
    "date_topic_proportions.sort_index().plot.bar(ax=axes[0])\n",
    "axes[0].set_xticklabels(date_topic_proportions.index, rotation=45)\n",
    "axes[0].grid(axis='y')\n",
    "axes[0].set_ylabel('topic proportion')\n",
    "axes[0].set_xlabel('Eurogroup meeting date')\n",
    "\n",
    "entity_topic_proportions.sort_index().plot.bar(ax=axes[1], label=topic_labels)\n",
    "axes[1].grid(axis='y')\n",
    "axes[1].set_ylabel('topic proportion')\n",
    "axes[1].set_xlabel('Entity represented in the Eurogroup')\n",
    "\n",
    "#ax.set_ylabel('topic proportion')\n",
    "#ax.set_xlabel('Eurogroup meeting date')\n",
    "ax.grid(axis='y')\n",
    "\n",
    "fig.tight_layout()\n",
    "fig.savefig('../figures/stm-joint.png')"
   ]
  },
  {
   "cell_type": "markdown",
   "id": "covered-noise",
   "metadata": {},
   "source": [
    "## LDA doc=speech"
   ]
  },
  {
   "cell_type": "markdown",
   "id": "36650aed-0f22-4bad-9826-8d28c914319c",
   "metadata": {},
   "source": [
    "### dictionary: filter extremes"
   ]
  },
  {
   "cell_type": "code",
   "execution_count": 70,
   "id": "6d8fd36c-bab2-4138-a752-ea6426af7932",
   "metadata": {},
   "outputs": [],
   "source": [
    "from gensim.models import LdaMulticore, TfidfModel\n",
    "from gensim.models import CoherenceModel\n",
    "from gensim.corpora import Dictionary\n",
    "import multiprocessing"
   ]
  },
  {
   "cell_type": "markdown",
   "id": "fd2c4bf9-bc1c-41be-b649-d4d02a17f0df",
   "metadata": {},
   "source": [
    "In the ECB study, Ferrara et al. also use no_below = 2."
   ]
  },
  {
   "cell_type": "code",
   "execution_count": 71,
   "id": "0c074dcd-fcb5-4704-bd36-5ef648b9626a",
   "metadata": {},
   "outputs": [],
   "source": [
    "dictionary = Dictionary(documents)\n",
    "\n",
    "no_below = 2 # Keep only tokens which are contained in at least no_below documents.\n",
    "no_above = .1 # Keep tokens which are contained in no more than no_above documents (fraction of total corpus size, not an absolute number)."
   ]
  },
  {
   "cell_type": "code",
   "execution_count": 72,
   "id": "28585422-b107-4e96-afdf-e36b5273bcfe",
   "metadata": {},
   "outputs": [
    {
     "name": "stdout",
     "output_type": "stream",
     "text": [
      "no_below will remove 1429 tokens.\n",
      "no_above will remove 41 tokens.\n"
     ]
    }
   ],
   "source": [
    "# see what will be removed\n",
    "no_below_removed = [dictionary.get(token_id) for token_id, freq in dictionary.cfs.items() if freq < no_below]\n",
    "no_above_removed = [dictionary.get(token_id) for token_id, freq in dictionary.dfs.items() if freq > no_above * len(documents)]\n",
    "\n",
    "print(f'no_below will remove {len(no_below_removed)} tokens.')\n",
    "print(f'no_above will remove {len(no_above_removed)} tokens.')"
   ]
  },
  {
   "cell_type": "code",
   "execution_count": 73,
   "id": "03fe700d-e13d-4abe-8e6e-d9c957787d63",
   "metadata": {},
   "outputs": [],
   "source": [
    "dictionary.filter_extremes(\n",
    "    no_below=no_below,\n",
    "    no_above=no_above\n",
    ")"
   ]
  },
  {
   "cell_type": "code",
   "execution_count": 74,
   "id": "daf94759-f07a-4366-9983-e45cf118473c",
   "metadata": {},
   "outputs": [],
   "source": [
    "# vanilla bag of words\n",
    "corpus = [dictionary.doc2bow(text) for text in documents]"
   ]
  },
  {
   "cell_type": "code",
   "execution_count": 75,
   "id": "e6b7ca2f-92a0-4697-869c-8a507dccd114",
   "metadata": {},
   "outputs": [
    {
     "name": "stdout",
     "output_type": "stream",
     "text": [
      "Number of unique tokens: 1856\n",
      "Number of documents: 538\n"
     ]
    }
   ],
   "source": [
    "print('Number of unique tokens: %d' % len(dictionary))\n",
    "print('Number of documents: %d' % len(corpus))"
   ]
  },
  {
   "cell_type": "markdown",
   "id": "89b1f287-cc30-474b-a0b3-6277f6d04ec0",
   "metadata": {},
   "source": [
    "### basic model"
   ]
  },
  {
   "cell_type": "code",
   "execution_count": 17,
   "id": "54ff73ab-68ab-43ee-a9f7-735e1f200a8c",
   "metadata": {},
   "outputs": [],
   "source": [
    "#import logging\n",
    "#logging.basicConfig(format='%(asctime)s : %(levelname)s : %(message)s', level=logging.DEBUG)"
   ]
  },
  {
   "cell_type": "code",
   "execution_count": 18,
   "id": "809a48e2-04bd-4f0e-97fa-463a98f48166",
   "metadata": {},
   "outputs": [
    {
     "name": "stdout",
     "output_type": "stream",
     "text": [
      "Time taken: 0.06 mins\n"
     ]
    }
   ],
   "source": [
    "t = time.time()\n",
    "\n",
    "lda_model = LdaMulticore(corpus=corpus,\n",
    "                         id2word=dictionary,\n",
    "                         num_topics=6, \n",
    "                         random_state=100,\n",
    "                         iterations=200,\n",
    "                         passes=10,\n",
    "                         alpha=.1,\n",
    "                         eta=.1,\n",
    "                        )\n",
    "\n",
    "print(f'Time taken: {round((time.time() - t) / 60, 2)} mins')"
   ]
  },
  {
   "cell_type": "code",
   "execution_count": null,
   "id": "308c57ac-eee8-48a1-b02e-a07b83c0caea",
   "metadata": {},
   "outputs": [],
   "source": [
    "import pyLDAvis.gensim_models as gensimvis\n",
    "import pyLDAvis\n",
    "\n",
    "#pyLDAvis.enable_notebook()\n",
    "#gensimvis.prepare(lda_model, corpus, dictionary)"
   ]
  },
  {
   "cell_type": "code",
   "execution_count": null,
   "id": "f4c3a716-77de-4385-8481-1d862d48b55b",
   "metadata": {},
   "outputs": [],
   "source": [
    "from pprint import pprint\n",
    "\n",
    "pprint(lda_model.print_topics(num_words=20))"
   ]
  },
  {
   "cell_type": "code",
   "execution_count": null,
   "id": "35f49a57-15a4-443c-9905-3a06e9609196",
   "metadata": {},
   "outputs": [],
   "source": [
    "from gensim.models import CoherenceModel\n",
    "\n",
    "coherence_model_lda = CoherenceModel(model=lda_model,\n",
    "                                     corpus=corpus,\n",
    "                                     coherence='u_mass')\n",
    "\n",
    "coherence_lda = coherence_model_lda.get_coherence()\n",
    "print(f'\\nCoherence Score: {coherence_lda}')"
   ]
  },
  {
   "cell_type": "markdown",
   "id": "9c1caa80-6c88-408c-88dd-06b8f87e69e9",
   "metadata": {},
   "source": [
    "### grid search: k, alpha, beta"
   ]
  },
  {
   "cell_type": "code",
   "execution_count": 20,
   "id": "48032126-893a-4939-bb43-ee546d5b9fcc",
   "metadata": {},
   "outputs": [],
   "source": [
    "# supporting function\n",
    "def compute_coherence_values(corpus, dictionary, num_topics, alpha, beta):\n",
    "    \n",
    "    lda_model = LdaMulticore(corpus=corpus,\n",
    "                             id2word=dictionary,\n",
    "                             num_topics=num_topics,\n",
    "                             iterations=200,\n",
    "                             passes=10,\n",
    "                             alpha=alpha,\n",
    "                             eta=beta,\n",
    "                             random_state=100)\n",
    "    \n",
    "    coherence_model_umass = CoherenceModel(model=lda_model,\n",
    "                                         corpus=corpus, \n",
    "                                         coherence='u_mass')\n",
    "    \n",
    "    coherence_model_cv = CoherenceModel(model=lda_model,\n",
    "                                         texts=documents, \n",
    "                                         coherence='c_v')\n",
    "    \n",
    "    return (coherence_model_umass.get_coherence(), coherence_model_cv.get_coherence())"
   ]
  },
  {
   "cell_type": "code",
   "execution_count": 21,
   "id": "54edb633-4f47-4bbd-8b26-3ea34711ed82",
   "metadata": {},
   "outputs": [
    {
     "name": "stdout",
     "output_type": "stream",
     "text": [
      "You are about to execute 570 runs. This could take up to 34.2 minutes.\n"
     ]
    }
   ],
   "source": [
    "# k = number of topics hyperparameter\n",
    "topics_range = range(2,21)\n",
    "\n",
    "# alpha hyperparameter\n",
    "alpha = [.01, .3, .6, 1]\n",
    "alpha.append('symmetric')\n",
    "alpha.append('asymmetric')\n",
    "\n",
    "# beta hyperparameter\n",
    "beta = [.01, .3, .6, 1]\n",
    "beta.append('symmetric')\n",
    "\n",
    "\n",
    "model_results = {'num_topics': [],\n",
    "                 'alpha': [],\n",
    "                 'beta': [],\n",
    "                 'u_mass': [],\n",
    "                 'c_v': []\n",
    "                }\n",
    "\n",
    "number_of_runs = len(topics_range) * len(alpha) * len(beta)\n",
    "print(f'You are about to execute {number_of_runs} runs. This could take up to {np.round(number_of_runs*0.06,2)} minutes.')"
   ]
  },
  {
   "cell_type": "code",
   "execution_count": 22,
   "id": "1ba1c2eb-8248-45e0-b72b-fce7efddb937",
   "metadata": {},
   "outputs": [
    {
     "name": "stderr",
     "output_type": "stream",
     "text": [
      "100%|██████████| 570/570 [49:47<00:00,  5.24s/it]\n"
     ]
    }
   ],
   "source": [
    "import tqdm\n",
    "\n",
    "with tqdm.tqdm(total=number_of_runs) as pbar:\n",
    "\n",
    "    # iterate through number of topics\n",
    "    for k in topics_range:\n",
    "        # iterate through alpha values\n",
    "        for a in alpha:\n",
    "            # iterare through beta values\n",
    "            for b in beta:\n",
    "                # get the coherence score for the given parameters\n",
    "                umass, cv = compute_coherence_values(corpus=corpus,\n",
    "                                                     dictionary=dictionary, \n",
    "                                                     num_topics=k,\n",
    "                                                     alpha=a,\n",
    "                                                     beta=b)\n",
    "                # save the model results\n",
    "                model_results['num_topics'].append(k)\n",
    "                model_results['alpha'].append(a)\n",
    "                model_results['beta'].append(b)\n",
    "                model_results['u_mass'].append(umass)\n",
    "                model_results['c_v'].append(cv)\n",
    "\n",
    "                # update process bar\n",
    "                pbar.update(1)\n",
    "                \n",
    "pd.DataFrame(model_results).to_csv(f'../data/lda-grid-search/euroleaks-doc_speech-{POS_filter}.csv', index=False)"
   ]
  },
  {
   "cell_type": "markdown",
   "id": "5b56f7c7-2222-4133-a7a6-84bd7f9c0a6b",
   "metadata": {},
   "source": [
    "### best model"
   ]
  },
  {
   "cell_type": "code",
   "execution_count": 76,
   "id": "a42ec62d-b098-4ed3-8b48-101761da531d",
   "metadata": {},
   "outputs": [
    {
     "name": "stdout",
     "output_type": "stream",
     "text": [
      "euroleaks-doc_entity-nouns.csv\n",
      "euroleaks-doc_entity-content.csv\n",
      "euroleaks-dentity-nouns.csv\n",
      "euroleaks-doc_speech-content.csv\n",
      "euroleaks-doc_speech-nouns.csv\n"
     ]
    }
   ],
   "source": [
    "import os\n",
    "\n",
    "listing = os.listdir('../data/lda-grid-search')\n",
    "for filename in listing:\n",
    "    print(filename)"
   ]
  },
  {
   "cell_type": "code",
   "execution_count": 77,
   "id": "a067bb23-23db-404d-b48d-43008d0135a3",
   "metadata": {},
   "outputs": [
    {
     "name": "stdout",
     "output_type": "stream",
     "text": [
      "POS filter: content\n"
     ]
    },
    {
     "data": {
      "text/html": [
       "<div>\n",
       "<style scoped>\n",
       "    .dataframe tbody tr th:only-of-type {\n",
       "        vertical-align: middle;\n",
       "    }\n",
       "\n",
       "    .dataframe tbody tr th {\n",
       "        vertical-align: top;\n",
       "    }\n",
       "\n",
       "    .dataframe thead th {\n",
       "        text-align: right;\n",
       "    }\n",
       "</style>\n",
       "<table border=\"1\" class=\"dataframe\">\n",
       "  <thead>\n",
       "    <tr style=\"text-align: right;\">\n",
       "      <th></th>\n",
       "      <th>num_topics</th>\n",
       "      <th>alpha</th>\n",
       "      <th>beta</th>\n",
       "      <th>u_mass</th>\n",
       "      <th>c_v</th>\n",
       "    </tr>\n",
       "  </thead>\n",
       "  <tbody>\n",
       "    <tr>\n",
       "      <th>55</th>\n",
       "      <td>3</td>\n",
       "      <td>asymmetric</td>\n",
       "      <td>0.01</td>\n",
       "      <td>-1.434143</td>\n",
       "      <td>0.264034</td>\n",
       "    </tr>\n",
       "    <tr>\n",
       "      <th>8</th>\n",
       "      <td>2</td>\n",
       "      <td>0.3</td>\n",
       "      <td>1</td>\n",
       "      <td>-1.493507</td>\n",
       "      <td>0.280311</td>\n",
       "    </tr>\n",
       "    <tr>\n",
       "      <th>7</th>\n",
       "      <td>2</td>\n",
       "      <td>0.3</td>\n",
       "      <td>0.6</td>\n",
       "      <td>-1.494860</td>\n",
       "      <td>0.271524</td>\n",
       "    </tr>\n",
       "    <tr>\n",
       "      <th>9</th>\n",
       "      <td>2</td>\n",
       "      <td>0.3</td>\n",
       "      <td>symmetric</td>\n",
       "      <td>-1.500617</td>\n",
       "      <td>0.271524</td>\n",
       "    </tr>\n",
       "    <tr>\n",
       "      <th>3</th>\n",
       "      <td>2</td>\n",
       "      <td>0.01</td>\n",
       "      <td>1</td>\n",
       "      <td>-1.513423</td>\n",
       "      <td>0.286903</td>\n",
       "    </tr>\n",
       "    <tr>\n",
       "      <th>6</th>\n",
       "      <td>2</td>\n",
       "      <td>0.3</td>\n",
       "      <td>0.3</td>\n",
       "      <td>-1.516607</td>\n",
       "      <td>0.267734</td>\n",
       "    </tr>\n",
       "    <tr>\n",
       "      <th>4</th>\n",
       "      <td>2</td>\n",
       "      <td>0.01</td>\n",
       "      <td>symmetric</td>\n",
       "      <td>-1.522851</td>\n",
       "      <td>0.285916</td>\n",
       "    </tr>\n",
       "    <tr>\n",
       "      <th>23</th>\n",
       "      <td>2</td>\n",
       "      <td>symmetric</td>\n",
       "      <td>1</td>\n",
       "      <td>-1.525237</td>\n",
       "      <td>0.315435</td>\n",
       "    </tr>\n",
       "    <tr>\n",
       "      <th>2</th>\n",
       "      <td>2</td>\n",
       "      <td>0.01</td>\n",
       "      <td>0.6</td>\n",
       "      <td>-1.528629</td>\n",
       "      <td>0.298404</td>\n",
       "    </tr>\n",
       "    <tr>\n",
       "      <th>22</th>\n",
       "      <td>2</td>\n",
       "      <td>symmetric</td>\n",
       "      <td>0.6</td>\n",
       "      <td>-1.529206</td>\n",
       "      <td>0.295806</td>\n",
       "    </tr>\n",
       "  </tbody>\n",
       "</table>\n",
       "</div>"
      ],
      "text/plain": [
       "    num_topics       alpha       beta    u_mass       c_v\n",
       "55           3  asymmetric       0.01 -1.434143  0.264034\n",
       "8            2         0.3          1 -1.493507  0.280311\n",
       "7            2         0.3        0.6 -1.494860  0.271524\n",
       "9            2         0.3  symmetric -1.500617  0.271524\n",
       "3            2        0.01          1 -1.513423  0.286903\n",
       "6            2         0.3        0.3 -1.516607  0.267734\n",
       "4            2        0.01  symmetric -1.522851  0.285916\n",
       "23           2   symmetric          1 -1.525237  0.315435\n",
       "2            2        0.01        0.6 -1.528629  0.298404\n",
       "22           2   symmetric        0.6 -1.529206  0.295806"
      ]
     },
     "execution_count": 77,
     "metadata": {},
     "output_type": "execute_result"
    }
   ],
   "source": [
    "results = pd.read_csv(f'../data/lda-grid-search/euroleaks-doc_speech-{POS_filter}.csv')\n",
    "print(f'POS filter: {POS_filter}')\n",
    "\n",
    "results.sort_values(by='u_mass', ascending=False).head(10)"
   ]
  },
  {
   "cell_type": "code",
   "execution_count": 78,
   "id": "cfbe5160-df46-4385-b6a1-9c829cacb659",
   "metadata": {},
   "outputs": [
    {
     "data": {
      "text/plain": [
       "[<matplotlib.lines.Line2D at 0x7ffa226ab040>]"
      ]
     },
     "execution_count": 78,
     "metadata": {},
     "output_type": "execute_result"
    },
    {
     "data": {
      "image/png": "[encoded data removed]",
      "text/plain": [
       "<Figure size 432x288 with 1 Axes>"
      ]
     },
     "metadata": {
      "needs_background": "light"
     },
     "output_type": "display_data"
    }
   ],
   "source": [
    "plt.plot(results.groupby('num_topics').u_mass.max())"
   ]
  },
  {
   "cell_type": "code",
   "execution_count": 79,
   "id": "27dc870d-db8c-4b33-94de-e89a37449e4e",
   "metadata": {},
   "outputs": [
    {
     "data": {
      "text/plain": [
       "num_topics             3\n",
       "alpha         asymmetric\n",
       "beta                0.01\n",
       "u_mass         -1.434143\n",
       "c_v             0.264034\n",
       "Name: 55, dtype: object"
      ]
     },
     "execution_count": 79,
     "metadata": {},
     "output_type": "execute_result"
    }
   ],
   "source": [
    "best = results.iloc[np.argmax(results.u_mass)]\n",
    "best"
   ]
  },
  {
   "cell_type": "code",
   "execution_count": 80,
   "id": "3f9d5cf4-7fb2-48b2-a563-74dc7d381793",
   "metadata": {},
   "outputs": [],
   "source": [
    "# find best combination of hyperparams\n",
    "#best = results.iloc[np.argmax(results['coherence'])]\n",
    "#best"
   ]
  },
  {
   "cell_type": "code",
   "execution_count": 81,
   "id": "e3289d34-7fd1-4cdc-b8e8-c1ebe435ff57",
   "metadata": {},
   "outputs": [],
   "source": [
    "best_alpha = best['alpha'] if 'symmetric' in best['alpha'] else float(best['alpha'])\n",
    "best_beta = best['beta'] if 'symmetric' in best['beta'] else float(best['beta'])"
   ]
  },
  {
   "cell_type": "code",
   "execution_count": 82,
   "id": "de51b56e-312f-4238-a6ac-767614abe19d",
   "metadata": {},
   "outputs": [
    {
     "name": "stdout",
     "output_type": "stream",
     "text": [
      "-1.434142697566876\n"
     ]
    }
   ],
   "source": [
    "# train basic LDA model with those hyperparameters\n",
    "\n",
    "lda_model = LdaMulticore(corpus=corpus,\n",
    "                         id2word=dictionary,\n",
    "                         num_topics=best['num_topics'],\n",
    "                         alpha=best_alpha,\n",
    "                         eta=best_beta,\n",
    "                         iterations=200,\n",
    "                         passes=10,\n",
    "                         random_state=100\n",
    "                        )\n",
    "\n",
    "\n",
    "# get coherence per topic\n",
    "\n",
    "coherence_model_lda = CoherenceModel(model=lda_model,\n",
    "                                     corpus=corpus, \n",
    "                                     coherence='u_mass')\n",
    "\n",
    "print(coherence_model_lda.get_coherence())"
   ]
  },
  {
   "cell_type": "code",
   "execution_count": 84,
   "id": "edcb812b-e0bc-4107-8339-13c3f87ec7f6",
   "metadata": {},
   "outputs": [
    {
     "name": "stdout",
     "output_type": "stream",
     "text": [
      "[(0,\n",
      "  '0.006*\"document\" + 0.006*\"use\" + 0.006*\"policy\" + 0.006*\"fiscal\" + '\n",
      "  '0.005*\"number\" + 0.005*\"bank\" + 0.005*\"statement\" + 0.005*\"set\" + '\n",
      "  '0.005*\"progress\" + 0.005*\"liquidity\"'),\n",
      " (1,\n",
      "  '0.014*\"list\" + 0.009*\"decision\" + 0.007*\"country\" + 0.007*\"hear\" + '\n",
      "  '0.007*\"start\" + 0.006*\"different\" + 0.006*\"referendum\" + 0.006*\"political\" '\n",
      "  '+ 0.006*\"fully\" + 0.006*\"order\"'),\n",
      " (2,\n",
      "  '0.018*\"reform\" + 0.015*\"pension\" + 0.009*\"month\" + 0.008*\"propose\" + '\n",
      "  '0.008*\"parliament\" + 0.007*\"tax\" + 0.006*\"problem\" + 0.006*\"greek_people\" + '\n",
      "  '0.006*\"year\" + 0.005*\"mention\"')]\n"
     ]
    }
   ],
   "source": [
    "pprint(lda_model.print_topics(num_words=10))"
   ]
  },
  {
   "cell_type": "code",
   "execution_count": 91,
   "id": "e63dd141-c0e6-4148-a3d3-e3f1d58da53a",
   "metadata": {},
   "outputs": [
    {
     "name": "stderr",
     "output_type": "stream",
     "text": [
      "/Users/asajina/repos/master-thesis/.env/lib/python3.8/site-packages/ipykernel/ipkernel.py:283: DeprecationWarning: `should_run_async` will not call `transform_cell` automatically in the future. Please pass the result to `transformed_cell` argument and any exception that happen during thetransform in `preprocessing_exc_tuple` in IPython 7.17 and above.\n",
      "  and should_run_async(code)\n"
     ]
    }
   ],
   "source": [
    "import pyLDAvis.gensim_models as gensimvis\n",
    "import pyLDAvis\n",
    "\n",
    "#pyLDAvis.enable_notebook()\n",
    "#gensimvis.prepare(lda_model, corpus, dictionary)"
   ]
  },
  {
   "cell_type": "markdown",
   "id": "a7d3fd54-7be8-4bcc-a1a2-fef86c57be00",
   "metadata": {},
   "source": [
    "### figure"
   ]
  },
  {
   "cell_type": "code",
   "execution_count": 85,
   "id": "110ccae4-7b93-4a02-80dc-b21e40300143",
   "metadata": {},
   "outputs": [
    {
     "data": {
      "text/plain": [
       "(3, 1856)"
      ]
     },
     "execution_count": 85,
     "metadata": {},
     "output_type": "execute_result"
    }
   ],
   "source": [
    "term_topic_matrix = lda_model.get_topics()\n",
    "term_topic_matrix.shape"
   ]
  },
  {
   "cell_type": "code",
   "execution_count": 86,
   "id": "85b9aef2-bae8-40fd-b3e6-798bd04046c4",
   "metadata": {},
   "outputs": [
    {
     "data": {
      "text/plain": [
       "0.0061640805"
      ]
     },
     "execution_count": 86,
     "metadata": {},
     "output_type": "execute_result"
    }
   ],
   "source": [
    "np.max(term_topic_matrix[0])"
   ]
  },
  {
   "cell_type": "code",
   "execution_count": 87,
   "id": "085264d3-2d62-49b9-a291-91fe8fecaf8d",
   "metadata": {},
   "outputs": [
    {
     "data": {
      "image/png": "[encoded data removed]",
      "text/plain": [
       "<Figure size 1008x504 with 3 Axes>"
      ]
     },
     "metadata": {
      "needs_background": "light"
     },
     "output_type": "display_data"
    }
   ],
   "source": [
    "fig, axes = plt.subplots(best['num_topics'], 1, sharex=True, sharey=True, figsize=(14,7))\n",
    "\n",
    "x = range(len(dictionary))\n",
    "\n",
    "for i, ax in enumerate(axes):\n",
    "    ax.bar(range(len(term_topic_matrix[i])), term_topic_matrix[i], width=.8)\n",
    "    ax.set_ylabel(f'topic {i}')\n",
    "    #ax.set_yticks([])\n",
    "    #ax.set_xticks([])"
   ]
  },
  {
   "cell_type": "code",
   "execution_count": 95,
   "id": "e13c6b7b-41d3-432f-902d-fef0eddfd252",
   "metadata": {},
   "outputs": [
    {
     "data": {
      "text/plain": [
       "array([['document', 'use', 'policy', 'fiscal', 'number', 'bank',\n",
       "        'statement', 'set', 'progress', 'liquidity', 'month', 'debt',\n",
       "        'level', 'letter', 'reform'],\n",
       "       ['list', 'decision', 'country', 'hear', 'start', 'different',\n",
       "        'referendum', 'political', 'fully', 'order', 'thing',\n",
       "        'comprehensive', 'try', 'minister', 'reform'],\n",
       "       ['reform', 'pension', 'month', 'propose', 'parliament', 'tax',\n",
       "        'problem', 'greek_people', 'year', 'mention', 'short', 'believe',\n",
       "        'state', 'fiscal', 'debt']], dtype='<U13')"
      ]
     },
     "execution_count": 95,
     "metadata": {},
     "output_type": "execute_result"
    }
   ],
   "source": [
    "import re\n",
    "\n",
    "first_n = 15\n",
    "\n",
    "topic_sep = re.compile(r'0\\.[0-9]{3}\\*\"|\"')\n",
    "\n",
    "model_topics = np.array([re.sub(topic_sep , '', model_topic).\n",
    "    split(' + ') for topic_no , model_topic in lda_model.print_topics(num_words=first_n)])\n",
    "\n",
    "model_topics"
   ]
  },
  {
   "cell_type": "code",
   "execution_count": 97,
   "id": "315e7385-6fce-4305-a8d0-d94323c114cf",
   "metadata": {},
   "outputs": [
    {
     "name": "stdout",
     "output_type": "stream",
     "text": [
      "document & list & reform\\\\\n",
      "use & decision & pension\\\\\n",
      "policy & country & month\\\\\n",
      "fiscal & hear & propose\\\\\n",
      "number & start & parliament\\\\\n",
      "bank & different & tax\\\\\n",
      "statement & referendum & problem\\\\\n",
      "set & political & greek_people\\\\\n",
      "progress & fully & year\\\\\n",
      "liquidity & order & mention\\\\\n",
      "month & thing & short\\\\\n",
      "debt & comprehensive & believe\\\\\n",
      "level & try & state\\\\\n",
      "letter & minister & fiscal\\\\\n",
      "reform & reform & debt\\\\\n"
     ]
    }
   ],
   "source": [
    "for row in model_topics.T:\n",
    "    print(f'{row[0]} & {row[1]} & {row[2]}', end='')\n",
    "    print('\\\\\\\\')"
   ]
  },
  {
   "cell_type": "code",
   "execution_count": 98,
   "id": "e5651547-6110-4477-930c-ec1c6aaf1968",
   "metadata": {},
   "outputs": [],
   "source": [
    "# first_n = 10\n",
    "\n",
    "# # pretty print\n",
    "# import re\n",
    "# topic_sep = re.compile(r\"0\\.[0 -9]{3}\\*\")\n",
    "\n",
    "# model_topics = [( topic_no , re.sub(topic_sep , '', model_topic).\n",
    "#     split(' + ')) for topic_no , model_topic in\n",
    "#         author_model.print_topics(num_topics=num_topics,\n",
    "#     num_words=first_n)]\n",
    "\n",
    "# descriptors = []\n",
    "# for i, m in model_topics:\n",
    "#     print(i, \", \".join(m[:first_n]))\n",
    "#     descriptors.append(\", \".join(m[:2]).replace('\"', ''))"
   ]
  },
  {
   "cell_type": "markdown",
   "id": "4a8ca994-d7cc-4976-9261-ef1b6d0c6a06",
   "metadata": {},
   "source": [
    "# LDA doc=date"
   ]
  },
  {
   "cell_type": "code",
   "execution_count": 104,
   "id": "e896a491-fef1-41b5-a121-edde78b79ced",
   "metadata": {},
   "outputs": [],
   "source": [
    "# parameters\n",
    "POS_filter = 'content' # 'content' or 'nouns'"
   ]
  },
  {
   "cell_type": "markdown",
   "id": "bad9e146-c3fd-400f-b6a4-81acf6132d65",
   "metadata": {},
   "source": [
    "### preprocessing"
   ]
  },
  {
   "cell_type": "code",
   "execution_count": 105,
   "id": "c6a5ae82-9a06-48da-989b-880e34fc4e46",
   "metadata": {},
   "outputs": [],
   "source": [
    "# stopwords\n",
    "with open('../data/euroleaks/stopwords.json', 'r') as f:\n",
    "    stopwords = json.load(f)\n",
    "    \n",
    "# collocations\n",
    "def apply_trigram_colloc(s, set_colloc):\n",
    "    res = s.lower()\n",
    "    for b1,b2,b3 in set_colloc:\n",
    "        res = res.replace(f'{b1} {b2} {b3}', f'{b1}_{b2}_{b3}')\n",
    "    return res\n",
    "\n",
    "def apply_bigram_colloc(s, set_colloc):\n",
    "    res = s.lower()\n",
    "    for b1,b2 in set_colloc:\n",
    "        res = res.replace(f'{b1} {b2}', f'{b1}_{b2}')\n",
    "    return res\n",
    "\n",
    "with open('../data/collocations/trigrams.json', 'r') as f:\n",
    "    trigram_colloc = json.load(f)\n",
    "\n",
    "with open('../data/collocations/bigrams.json', 'r') as f:\n",
    "    bigram_colloc = json.load(f)\n",
    "    \n",
    "nlp = spacy.load(\"en_core_web_sm\", exclude=[\"ner\"])"
   ]
  },
  {
   "cell_type": "code",
   "execution_count": 106,
   "id": "d7e254bd-6b8b-4038-b535-f93ca6ea1e50",
   "metadata": {},
   "outputs": [],
   "source": [
    "if POS_filter == 'content':\n",
    "    filter_POS = {'ADJ', 'ADV', 'NOUN', 'PROPN', 'VERB'}\n",
    "elif POS_filter == 'nouns':\n",
    "    filter_POS = {'NOUN', 'PROPN'}\n",
    "\n",
    "def filter_token(token):\n",
    "    return token.pos_ in filter_POS\\\n",
    "        and not token.lemma_.lower() in nlp.Defaults.stop_words\\\n",
    "        and not token.lower_ in stopwords['names']\\\n",
    "        and not token.lower_ in stopwords['disfluency']\\\n",
    "        and not token.lemma_.lower() in stopwords['courtesy']\\\n",
    "        and len(token.lemma_) > 1"
   ]
  },
  {
   "cell_type": "code",
   "execution_count": 107,
   "id": "f9f0a0fd-34db-46b2-8d08-4d489bd3da12",
   "metadata": {},
   "outputs": [],
   "source": [
    "# read data\n",
    "df = pd.read_csv('../data/euroleaks/squeezed.csv')\n",
    "\n",
    "# group by date\n",
    "grouped = df.drop(columns=['speaker']).groupby('date').apply(lambda s: ' '.join(s.speech))\n",
    "# get speaker labels\n",
    "dates = grouped.index\n",
    "\n",
    "# preprocess\n",
    "documents = [\n",
    "    [token.lemma_.lower() for token in nlp(doc) if filter_token(token)]\n",
    "    for doc in grouped.values \n",
    "]\n",
    "\n",
    "\n",
    "# leave out empty documents\n",
    "documents = [d for d in documents if len(d) > 0]\n",
    "\n",
    "\n",
    "# get labels\n",
    "dates = [pd.to_datetime(date).strftime('%d/%m') for date,d in zip(df.date, documents) if len(d) > 0]\n",
    "entities = [entity for entity,d in zip(df.entity, documents) if len(d) > 0]\n",
    "\n",
    "\n",
    "# apply collocations\n",
    "documents = [\n",
    "    apply_bigram_colloc(apply_trigram_colloc(' '.join(doc), trigram_colloc), bigram_colloc).split()\n",
    "    for doc in documents]"
   ]
  },
  {
   "cell_type": "code",
   "execution_count": 108,
   "id": "da20b285-b966-4d23-abef-425918b227de",
   "metadata": {},
   "outputs": [
    {
     "name": "stdout",
     "output_type": "stream",
     "text": [
      "There are a total of 27161 tokens, and a total of 12 documents.\n"
     ]
    }
   ],
   "source": [
    "print(f'There are a total of {np.sum([len(doc) for doc in documents])} tokens, and a total of {len(documents)} documents.')"
   ]
  },
  {
   "cell_type": "markdown",
   "id": "dd06d016-2513-4f00-85ba-a9fde0f283b9",
   "metadata": {},
   "source": [
    "### dictionary: filter extremes"
   ]
  },
  {
   "cell_type": "code",
   "execution_count": 140,
   "id": "063e3995-245e-4312-b891-0d1e67a3e0ae",
   "metadata": {},
   "outputs": [
    {
     "name": "stdout",
     "output_type": "stream",
     "text": [
      "no_below will remove 1425 tokens.\n",
      "no_above will remove 57 tokens.\n"
     ]
    }
   ],
   "source": [
    "from gensim.corpora import Dictionary\n",
    "\n",
    "dictionary = Dictionary(documents)\n",
    "\n",
    "no_below=2\n",
    "no_above=.95\n",
    "\n",
    "# see what will be removed\n",
    "no_below_removed = [dictionary.get(token_id) for token_id, freq in dictionary.cfs.items() if freq < no_below]\n",
    "no_above_removed = [dictionary.get(token_id) for token_id, freq in dictionary.dfs.items() if freq > no_above * len(documents)]\n",
    "\n",
    "print(f'no_below will remove {len(no_below_removed)} tokens.')\n",
    "print(f'no_above will remove {len(no_above_removed)} tokens.')\n",
    "\n",
    "dictionary.filter_extremes(\n",
    "    no_below=no_below,  # Keep tokens which are contained in at least no_below documents.\n",
    "    no_above=no_above # Keep tokens which are contained in no more than no_above documents (fraction of total corpus size, not an absolute number).\n",
    ")"
   ]
  },
  {
   "cell_type": "code",
   "execution_count": 141,
   "id": "65fc2002-6486-4897-8938-9e12c12ec856",
   "metadata": {},
   "outputs": [
    {
     "name": "stdout",
     "output_type": "stream",
     "text": [
      "Number of unique tokens: 1723\n",
      "Number of documents: 12\n"
     ]
    }
   ],
   "source": [
    "# bag of words\n",
    "corpus = [dictionary.doc2bow(text) for text in documents]\n",
    "\n",
    "print('Number of unique tokens: %d' % len(dictionary))\n",
    "print('Number of documents: %d' % len(corpus))"
   ]
  },
  {
   "cell_type": "code",
   "execution_count": 126,
   "id": "7c58e539-9e9c-43e6-911f-a0b230e218fd",
   "metadata": {
    "tags": []
   },
   "outputs": [
    {
     "name": "stdout",
     "output_type": "stream",
     "text": [
      "Time taken: 0.07 mins\n"
     ]
    }
   ],
   "source": [
    "# test\n",
    "\n",
    "t = time.time()\n",
    "\n",
    "lda_model = LdaMulticore(corpus=corpus,\n",
    "                         id2word=dictionary,\n",
    "                         num_topics=6, \n",
    "                         random_state=100,\n",
    "                         iterations=200,\n",
    "                         passes=10,\n",
    "                         alpha=.1,\n",
    "                         eta=.1,\n",
    "                        )\n",
    "\n",
    "print(f'Time taken: {round((time.time() - t) / 60, 2)} mins')"
   ]
  },
  {
   "cell_type": "markdown",
   "id": "27156d6b-d56b-465d-8010-6f38e298c545",
   "metadata": {},
   "source": [
    "### grid search: k, alpha, beta"
   ]
  },
  {
   "cell_type": "code",
   "execution_count": 127,
   "id": "f6a42627-833a-480a-86c3-76646222784e",
   "metadata": {},
   "outputs": [],
   "source": [
    "# supporting function\n",
    "def compute_coherence_values(corpus, dictionary, num_topics, alpha, beta):\n",
    "    \n",
    "    lda_model = LdaMulticore(corpus=corpus,\n",
    "                             id2word=dictionary,\n",
    "                             num_topics=num_topics,\n",
    "                             iterations=200,\n",
    "                             passes=10,\n",
    "                             alpha=alpha,\n",
    "                             eta=beta,\n",
    "                             random_state=100)\n",
    "    \n",
    "    coherence_model_umass = CoherenceModel(model=lda_model,\n",
    "                                         corpus=corpus, \n",
    "                                         coherence='u_mass')\n",
    "    \n",
    "    return coherence_model_umass.get_coherence()"
   ]
  },
  {
   "cell_type": "code",
   "execution_count": 128,
   "id": "4a2827b0-dadf-4a2c-a2a0-4f708a8541fe",
   "metadata": {},
   "outputs": [
    {
     "name": "stdout",
     "output_type": "stream",
     "text": [
      "You are about to execute 570 runs. This could take up to 39.9 minutes.\n"
     ]
    }
   ],
   "source": [
    "# k = number of topics hyperparameter\n",
    "topics_range = range(2,21)\n",
    "\n",
    "# alpha hyperparameter\n",
    "alpha = [.01, .3, .6, 1]\n",
    "alpha.append('symmetric')\n",
    "alpha.append('asymmetric')\n",
    "\n",
    "# beta hyperparameter\n",
    "beta = [.01, .3, .6, 1]\n",
    "beta.append('symmetric')\n",
    "\n",
    "\n",
    "model_results = {'num_topics': [],\n",
    "                 'alpha': [],\n",
    "                 'beta': [],\n",
    "                 'u_mass': []\n",
    "                }\n",
    "\n",
    "number_of_runs = len(topics_range) * len(alpha) * len(beta)\n",
    "print(f'You are about to execute {number_of_runs} runs. This could take up to {np.round(number_of_runs*0.07,2)} minutes.')"
   ]
  },
  {
   "cell_type": "code",
   "execution_count": 129,
   "id": "02cd65a2-35b7-475c-a82d-b0dd1f8e8393",
   "metadata": {},
   "outputs": [
    {
     "name": "stderr",
     "output_type": "stream",
     "text": [
      "100%|██████████| 570/570 [41:50<00:00,  4.40s/it]\n"
     ]
    }
   ],
   "source": [
    "import tqdm\n",
    "\n",
    "with tqdm.tqdm(total=number_of_runs) as pbar:\n",
    "\n",
    "    # iterate through number of topics\n",
    "    for k in topics_range:\n",
    "        # iterate through alpha values\n",
    "        for a in alpha:\n",
    "            # iterare through beta values\n",
    "            for b in beta:\n",
    "                # get the coherence score for the given parameters\n",
    "                umass = compute_coherence_values(corpus=corpus,\n",
    "                                                     dictionary=dictionary, \n",
    "                                                     num_topics=k,\n",
    "                                                     alpha=a,\n",
    "                                                     beta=b)\n",
    "                # save the model results\n",
    "                model_results['num_topics'].append(k)\n",
    "                model_results['alpha'].append(a)\n",
    "                model_results['beta'].append(b)\n",
    "                model_results['u_mass'].append(umass)\n",
    "\n",
    "                # update process bar\n",
    "                pbar.update(1)\n",
    "                \n",
    "pd.DataFrame(model_results).to_csv(f'../data/lda-grid-search/lda-euroleaks-doc_date-{POS_filter}.csv', index=False)"
   ]
  },
  {
   "cell_type": "markdown",
   "id": "b580478b-6d57-4f23-98d4-0ed34008a15a",
   "metadata": {},
   "source": [
    "### best model"
   ]
  },
  {
   "cell_type": "code",
   "execution_count": 130,
   "id": "65874516-e0b2-45fd-9f60-f0c20b8a94b6",
   "metadata": {},
   "outputs": [
    {
     "name": "stdout",
     "output_type": "stream",
     "text": [
      "lda-euroleaks-doc_speech-content.csv\n",
      "euroleaks-doc_entity-nouns.csv\n",
      "euroleaks-doc_entity-content.csv\n",
      "euroleaks-dentity-nouns.csv\n",
      "lda-euroleaks-doc_speech-nouns.csv\n",
      "lda-euroleaks-doc_date-content.csv\n"
     ]
    }
   ],
   "source": [
    "import os\n",
    "\n",
    "listing = os.listdir('../data/lda-grid-search')\n",
    "for filename in listing:\n",
    "    print(filename)"
   ]
  },
  {
   "cell_type": "code",
   "execution_count": 133,
   "id": "614b0f05-79a9-41c6-9acd-164ac9d8f2a6",
   "metadata": {},
   "outputs": [
    {
     "name": "stdout",
     "output_type": "stream",
     "text": [
      "POS filter: content\n"
     ]
    },
    {
     "data": {
      "text/html": [
       "<div>\n",
       "<style scoped>\n",
       "    .dataframe tbody tr th:only-of-type {\n",
       "        vertical-align: middle;\n",
       "    }\n",
       "\n",
       "    .dataframe tbody tr th {\n",
       "        vertical-align: top;\n",
       "    }\n",
       "\n",
       "    .dataframe thead th {\n",
       "        text-align: right;\n",
       "    }\n",
       "</style>\n",
       "<table border=\"1\" class=\"dataframe\">\n",
       "  <thead>\n",
       "    <tr style=\"text-align: right;\">\n",
       "      <th></th>\n",
       "      <th>num_topics</th>\n",
       "      <th>alpha</th>\n",
       "      <th>beta</th>\n",
       "      <th>u_mass</th>\n",
       "    </tr>\n",
       "  </thead>\n",
       "  <tbody>\n",
       "    <tr>\n",
       "      <th>11</th>\n",
       "      <td>2</td>\n",
       "      <td>0.6</td>\n",
       "      <td>0.3</td>\n",
       "      <td>-0.091785</td>\n",
       "    </tr>\n",
       "    <tr>\n",
       "      <th>10</th>\n",
       "      <td>2</td>\n",
       "      <td>0.6</td>\n",
       "      <td>0.01</td>\n",
       "      <td>-0.091785</td>\n",
       "    </tr>\n",
       "    <tr>\n",
       "      <th>19</th>\n",
       "      <td>2</td>\n",
       "      <td>1</td>\n",
       "      <td>symmetric</td>\n",
       "      <td>-0.091785</td>\n",
       "    </tr>\n",
       "    <tr>\n",
       "      <th>16</th>\n",
       "      <td>2</td>\n",
       "      <td>1</td>\n",
       "      <td>0.3</td>\n",
       "      <td>-0.091785</td>\n",
       "    </tr>\n",
       "    <tr>\n",
       "      <th>15</th>\n",
       "      <td>2</td>\n",
       "      <td>1</td>\n",
       "      <td>0.01</td>\n",
       "      <td>-0.091785</td>\n",
       "    </tr>\n",
       "    <tr>\n",
       "      <th>21</th>\n",
       "      <td>2</td>\n",
       "      <td>symmetric</td>\n",
       "      <td>0.3</td>\n",
       "      <td>-0.092623</td>\n",
       "    </tr>\n",
       "    <tr>\n",
       "      <th>20</th>\n",
       "      <td>2</td>\n",
       "      <td>symmetric</td>\n",
       "      <td>0.01</td>\n",
       "      <td>-0.092623</td>\n",
       "    </tr>\n",
       "    <tr>\n",
       "      <th>25</th>\n",
       "      <td>2</td>\n",
       "      <td>asymmetric</td>\n",
       "      <td>0.01</td>\n",
       "      <td>-0.092623</td>\n",
       "    </tr>\n",
       "    <tr>\n",
       "      <th>26</th>\n",
       "      <td>2</td>\n",
       "      <td>asymmetric</td>\n",
       "      <td>0.3</td>\n",
       "      <td>-0.092623</td>\n",
       "    </tr>\n",
       "    <tr>\n",
       "      <th>0</th>\n",
       "      <td>2</td>\n",
       "      <td>0.01</td>\n",
       "      <td>0.01</td>\n",
       "      <td>-0.093462</td>\n",
       "    </tr>\n",
       "  </tbody>\n",
       "</table>\n",
       "</div>"
      ],
      "text/plain": [
       "    num_topics       alpha       beta    u_mass\n",
       "11           2         0.6        0.3 -0.091785\n",
       "10           2         0.6       0.01 -0.091785\n",
       "19           2           1  symmetric -0.091785\n",
       "16           2           1        0.3 -0.091785\n",
       "15           2           1       0.01 -0.091785\n",
       "21           2   symmetric        0.3 -0.092623\n",
       "20           2   symmetric       0.01 -0.092623\n",
       "25           2  asymmetric       0.01 -0.092623\n",
       "26           2  asymmetric        0.3 -0.092623\n",
       "0            2        0.01       0.01 -0.093462"
      ]
     },
     "execution_count": 133,
     "metadata": {},
     "output_type": "execute_result"
    }
   ],
   "source": [
    "results = pd.read_csv(f'../data/lda-grid-search/lda-euroleaks-doc_date-{POS_filter}.csv')\n",
    "print(f'POS filter: {POS_filter}')\n",
    "\n",
    "results.sort_values(by='u_mass', ascending=False).head(10)"
   ]
  },
  {
   "cell_type": "code",
   "execution_count": 134,
   "id": "1eea5f9a-e210-44c0-ac4d-9a8186f47f15",
   "metadata": {},
   "outputs": [
    {
     "data": {
      "text/plain": [
       "num_topics           2\n",
       "alpha              0.6\n",
       "beta              0.01\n",
       "u_mass       -0.091785\n",
       "Name: 10, dtype: object"
      ]
     },
     "execution_count": 134,
     "metadata": {},
     "output_type": "execute_result"
    }
   ],
   "source": [
    "best = results.iloc[np.argmax(results.u_mass)]\n",
    "best"
   ]
  },
  {
   "cell_type": "code",
   "execution_count": 135,
   "id": "5403b12b-c218-4eea-8f80-45acb34cb58b",
   "metadata": {},
   "outputs": [],
   "source": [
    "# find best combination of hyperparams\n",
    "#best = results.iloc[np.argmax(results['coherence'])]\n",
    "#best"
   ]
  },
  {
   "cell_type": "code",
   "execution_count": 136,
   "id": "1734a4a4-8a67-4f00-81ff-b06edda3a47a",
   "metadata": {},
   "outputs": [],
   "source": [
    "best_alpha = best['alpha'] if 'symmetric' in best['alpha'] else float(best['alpha'])\n",
    "best_beta = best['beta'] if 'symmetric' in best['beta'] else float(best['beta'])"
   ]
  },
  {
   "cell_type": "code",
   "execution_count": 142,
   "id": "5f57c601-e11f-4ce0-86ae-9d64f5145d28",
   "metadata": {},
   "outputs": [
    {
     "name": "stdout",
     "output_type": "stream",
     "text": [
      "-0.28680406707107786\n"
     ]
    }
   ],
   "source": [
    "# train basic LDA model with those hyperparameters\n",
    "\n",
    "lda_model = LdaMulticore(corpus=corpus,\n",
    "                         id2word=dictionary,\n",
    "                         num_topics=best['num_topics'],\n",
    "                         alpha=best_alpha,\n",
    "                         eta=best_beta,\n",
    "                         iterations=200,\n",
    "                         passes=10,\n",
    "                         random_state=100\n",
    "                        )\n",
    "\n",
    "\n",
    "# get coherence per topic\n",
    "\n",
    "coherence_model_lda = CoherenceModel(model=lda_model,\n",
    "                                     corpus=corpus, \n",
    "                                     coherence='u_mass')\n",
    "\n",
    "print(coherence_model_lda.get_coherence())"
   ]
  },
  {
   "cell_type": "code",
   "execution_count": 143,
   "id": "199b6389-6a35-4dd4-b36b-26a735e63ed0",
   "metadata": {},
   "outputs": [
    {
     "name": "stdout",
     "output_type": "stream",
     "text": [
      "[(0,\n",
      "  '0.016*\"list\" + 0.012*\"process\" + 0.008*\"agreement\" + 0.007*\"reform\" + '\n",
      "  '0.007*\"week\" + 0.007*\"eurogroup\" + 0.007*\"people\" + 0.006*\"athens\" + '\n",
      "  '0.006*\"like\" + 0.006*\"day\" + 0.006*\"referendum\" + 0.005*\"program\" + '\n",
      "  '0.005*\"statement\" + 0.005*\"review\" + 0.005*\"policy\" + 0.005*\"greek_people\" '\n",
      "  '+ 0.005*\"bank\" + 0.005*\"public\" + 0.005*\"comprehensive\" + '\n",
      "  '0.005*\"liquidity\"'),\n",
      " (1,\n",
      "  '0.016*\"agreement\" + 0.011*\"program\" + 0.009*\"reform\" + 0.008*\"process\" + '\n",
      "  '0.007*\"pension\" + 0.006*\"new\" + 0.006*\"eurogroup\" + 0.006*\"change\" + '\n",
      "  '0.006*\"month\" + 0.006*\"fiscal\" + 0.005*\"document\" + 0.005*\"like\" + '\n",
      "  '0.005*\"political\" + 0.005*\"believe\" + 0.005*\"debt\" + 0.004*\"day\" + '\n",
      "  '0.004*\"progress\" + 0.004*\"letter\" + 0.004*\"week\" + 0.004*\"parliament\"')]\n"
     ]
    }
   ],
   "source": [
    "pprint(lda_model.print_topics(num_words=20))"
   ]
  },
  {
   "cell_type": "markdown",
   "id": "61e02a58-481b-46d6-b619-b1cb392aa668",
   "metadata": {},
   "source": [
    "*So Euroleaks with document=date not suitable for LDA, possibly too few documents.*"
   ]
  },
  {
   "cell_type": "markdown",
   "id": "324bc658-2c80-43ab-b882-be2b5368c543",
   "metadata": {},
   "source": [
    "# Communiques"
   ]
  },
  {
   "cell_type": "markdown",
   "id": "120d4592-85ff-4170-8eda-659b3a560040",
   "metadata": {},
   "source": [
    "## load data"
   ]
  },
  {
   "cell_type": "code",
   "execution_count": 592,
   "id": "69478888-9557-4e19-9be0-d1126a414acd",
   "metadata": {},
   "outputs": [],
   "source": [
    "# stopwords\n",
    "with open('../data/euroleaks/stopwords.json', 'r') as f:\n",
    "    stopwords = json.load(f)\n",
    "    \n",
    "# collocations\n",
    "def apply_trigram_colloc(s, set_colloc):\n",
    "    res = s.lower()\n",
    "    for b1,b2,b3 in set_colloc:\n",
    "        res = res.replace(f'{b1} {b2} {b3}', f'{b1}_{b2}_{b3}')\n",
    "    return res\n",
    "\n",
    "def apply_bigram_colloc(s, set_colloc):\n",
    "    res = s.lower()\n",
    "    for b1,b2 in set_colloc:\n",
    "        res = res.replace(f'{b1} {b2}', f'{b1}_{b2}')\n",
    "    return res\n",
    "\n",
    "with open('../data/collocations/trigrams.json', 'r') as f:\n",
    "    trigram_colloc = json.load(f)\n",
    "\n",
    "with open('../data/collocations/bigrams.json', 'r') as f:\n",
    "    bigram_colloc = json.load(f)\n",
    "    \n",
    "nlp = spacy.load(\"en_core_web_sm\", exclude=[\"ner\"])"
   ]
  },
  {
   "cell_type": "markdown",
   "id": "678b240a-8d00-471a-86f9-d58df4ed61cb",
   "metadata": {},
   "source": [
    "## LDA topic model"
   ]
  },
  {
   "cell_type": "markdown",
   "id": "88a9ec01-0f9a-4354-99ae-2b2de5c566b9",
   "metadata": {},
   "source": [
    "### preprocessing"
   ]
  },
  {
   "cell_type": "code",
   "execution_count": 593,
   "id": "7bc3b00e-d8c4-4dca-a58c-b68653aa845c",
   "metadata": {},
   "outputs": [
    {
     "name": "stdout",
     "output_type": "stream",
     "text": [
      "There are a total of 3484 tokens, and a total of 18 documents.\n"
     ]
    }
   ],
   "source": [
    "def filter_token(token):\n",
    "    return token.pos_ in {'ADJ', 'ADV', 'NOUN', 'PROPN', 'VERB'}\\\n",
    "        and not token.lemma_.lower() in nlp.Defaults.stop_words\\\n",
    "        and not token.lower_ in stopwords['names']\\\n",
    "        and not token.lower_ in stopwords['disfluency']\\\n",
    "        and not token.lemma_.lower() in stopwords['courtesy']\\\n",
    "        and len(token.lemma_) > 1\n",
    "\n",
    "# read data\n",
    "df = pd.read_csv('../data/communiques/cleaned.csv')\n",
    "\n",
    "# preprocess\n",
    "documents = [\n",
    "    [token.lemma_.lower() for token in nlp(doc) if filter_token(token)]\n",
    "    for doc in df.story.values \n",
    "]\n",
    "\n",
    "\n",
    "# leave out empty documents\n",
    "documents = [d for d in documents if len(d) > 0]\n",
    "\n",
    "\n",
    "# apply collocations\n",
    "documents = [\n",
    "    apply_bigram_colloc(apply_trigram_colloc(' '.join(doc), trigram_colloc), bigram_colloc).split()\n",
    "    for doc in documents]\n",
    "\n",
    "\n",
    "print(f'There are a total of {np.sum([len(doc) for doc in documents])} tokens, and a total of {len(documents)} documents.')"
   ]
  },
  {
   "cell_type": "markdown",
   "id": "10143fb5-5b65-4cd2-aa93-b794777f5113",
   "metadata": {},
   "source": [
    "### dictionary: filter extremes"
   ]
  },
  {
   "cell_type": "code",
   "execution_count": 594,
   "id": "d28f6f16-488b-4e0f-a145-4da0825dda87",
   "metadata": {},
   "outputs": [],
   "source": [
    "from gensim.models import LdaMulticore, TfidfModel\n",
    "from gensim.models import CoherenceModel\n",
    "from gensim.corpora import Dictionary\n",
    "import multiprocessing"
   ]
  },
  {
   "cell_type": "code",
   "execution_count": 595,
   "id": "260557bb-94e9-469a-bab8-5edb1af4881f",
   "metadata": {},
   "outputs": [],
   "source": [
    "dictionary = Dictionary(documents)\n",
    "\n",
    "no_below = 1 # Keep only tokens which are contained in at least no_below documents.\n",
    "no_above = .95 # Keep tokens which are contained in no more than no_above documents (fraction of total corpus size, not an absolute number)."
   ]
  },
  {
   "cell_type": "code",
   "execution_count": 596,
   "id": "b8a2453c-5775-41b0-99ff-8e5bf8912c5e",
   "metadata": {},
   "outputs": [
    {
     "data": {
      "text/plain": [
       "885"
      ]
     },
     "execution_count": 596,
     "metadata": {},
     "output_type": "execute_result"
    }
   ],
   "source": [
    "len(dictionary)"
   ]
  },
  {
   "cell_type": "code",
   "execution_count": 597,
   "id": "700d8c27-8923-4d7a-a648-2e1ed6174413",
   "metadata": {},
   "outputs": [
    {
     "data": {
      "text/plain": [
       "17.099999999999998"
      ]
     },
     "execution_count": 597,
     "metadata": {},
     "output_type": "execute_result"
    }
   ],
   "source": [
    "len(documents) * no_above"
   ]
  },
  {
   "cell_type": "code",
   "execution_count": 598,
   "id": "e7d10fa2-5b4b-4cac-98ef-d0ac80bd92b8",
   "metadata": {},
   "outputs": [
    {
     "name": "stdout",
     "output_type": "stream",
     "text": [
      "no_below will remove 0 tokens.\n",
      "no_above will remove 1 tokens.\n"
     ]
    }
   ],
   "source": [
    "# see what will be removed\n",
    "no_below_removed = [dictionary.get(token_id) for token_id, freq in dictionary.cfs.items() if freq < no_below]\n",
    "no_above_removed = [dictionary.get(token_id) for token_id, freq in dictionary.dfs.items() if freq > no_above * len(documents)]\n",
    "\n",
    "print(f'no_below will remove {len(no_below_removed)} tokens.')\n",
    "print(f'no_above will remove {len(no_above_removed)} tokens.')"
   ]
  },
  {
   "cell_type": "code",
   "execution_count": 599,
   "id": "e9873a86-e518-4976-b929-85192e6c2c73",
   "metadata": {},
   "outputs": [],
   "source": [
    "#no_above_removed"
   ]
  },
  {
   "cell_type": "code",
   "execution_count": 600,
   "id": "62fe21c2-d5a6-4e71-9548-d5d942d3860a",
   "metadata": {},
   "outputs": [],
   "source": [
    "dictionary.filter_extremes(\n",
    "    no_below=no_below,\n",
    "    no_above=no_above\n",
    ")"
   ]
  },
  {
   "cell_type": "code",
   "execution_count": 601,
   "id": "5bb781e6-80cb-4a54-9a24-d7cd4e066604",
   "metadata": {},
   "outputs": [],
   "source": [
    "corpus = [dictionary.doc2bow(text) for text in documents]"
   ]
  },
  {
   "cell_type": "code",
   "execution_count": 602,
   "id": "f66f5965-9437-4df4-b67d-0f463e6d30a3",
   "metadata": {},
   "outputs": [
    {
     "name": "stdout",
     "output_type": "stream",
     "text": [
      "Number of unique tokens: 884\n",
      "Number of documents: 18\n"
     ]
    }
   ],
   "source": [
    "print('Number of unique tokens: %d' % len(dictionary))\n",
    "print('Number of documents: %d' % len(corpus))"
   ]
  },
  {
   "cell_type": "markdown",
   "id": "4e5766cc-69f9-4283-9b97-e863f219e40f",
   "metadata": {},
   "source": [
    "### basic model"
   ]
  },
  {
   "cell_type": "code",
   "execution_count": 603,
   "id": "2e6f2171-3f44-4d8c-9b1a-e0b84dca66b2",
   "metadata": {},
   "outputs": [
    {
     "name": "stdout",
     "output_type": "stream",
     "text": [
      "Time taken: 0.02 mins\n"
     ]
    }
   ],
   "source": [
    "t = time.time()\n",
    "\n",
    "lda_model = LdaMulticore(corpus=corpus,\n",
    "                         id2word=dictionary,\n",
    "                         num_topics=2, \n",
    "                         random_state=100,\n",
    "                         iterations=200,\n",
    "                         passes=10\n",
    "                        )\n",
    "\n",
    "print(f'Time taken: {round((time.time() - t) / 60, 2)} mins')"
   ]
  },
  {
   "cell_type": "code",
   "execution_count": 604,
   "id": "a3c9b057-082b-4692-8540-a71c2c760616",
   "metadata": {},
   "outputs": [
    {
     "name": "stdout",
     "output_type": "stream",
     "text": [
      "[(0,\n",
      "  '0.023*\"institution\" + 0.017*\"greek_authority\" + 0.013*\"program\" + '\n",
      "  '0.011*\"greece\" + 0.010*\"proposal\" + 0.010*\"arrangement\" + 0.010*\"current\" + '\n",
      "  '0.009*\"commitment\" + 0.009*\"extension\" + 0.008*\"measure\"'),\n",
      " (1,\n",
      "  '0.010*\"discussion\" + 0.010*\"today\" + 0.009*\"framework\" + '\n",
      "  '0.009*\"institution\" + 0.009*\"program\" + 0.008*\"greece\" + 0.008*\"fiscal\" + '\n",
      "  '0.008*\"progress\" + 0.008*\"agreement\" + 0.007*\"euro_area\"')]\n"
     ]
    }
   ],
   "source": [
    "from pprint import pprint\n",
    "\n",
    "pprint(lda_model.print_topics())"
   ]
  },
  {
   "cell_type": "code",
   "execution_count": 607,
   "id": "88105649-4123-4c66-8e66-e2fee4ded62f",
   "metadata": {},
   "outputs": [
    {
     "name": "stderr",
     "output_type": "stream",
     "text": [
      "/Users/asajina/repos/master-thesis/.env/lib/python3.8/site-packages/ipykernel/ipkernel.py:283: DeprecationWarning: `should_run_async` will not call `transform_cell` automatically in the future. Please pass the result to `transformed_cell` argument and any exception that happen during thetransform in `preprocessing_exc_tuple` in IPython 7.17 and above.\n",
      "  and should_run_async(code)\n"
     ]
    }
   ],
   "source": [
    "from gensim.models import CoherenceModel\n",
    "\n",
    "coherence_model_lda = CoherenceModel(model=lda_model,\n",
    "                                     corpus=corpus,\n",
    "                                     coherence='u_mass')\n",
    "\n",
    "coherence_lda = coherence_model_lda.get_coherence()\n",
    "print(f'\\nCoherence Score: {coherence_lda}')"
   ]
  },
  {
   "cell_type": "code",
   "execution_count": 608,
   "id": "e95fdb2b-fae0-40c9-bc92-73ac805ad1f5",
   "metadata": {},
   "outputs": [
    {
     "name": "stderr",
     "output_type": "stream",
     "text": [
      "/Users/asajina/repos/master-thesis/.env/lib/python3.8/site-packages/ipykernel/ipkernel.py:283: DeprecationWarning: `should_run_async` will not call `transform_cell` automatically in the future. Please pass the result to `transformed_cell` argument and any exception that happen during thetransform in `preprocessing_exc_tuple` in IPython 7.17 and above.\n",
      "  and should_run_async(code)\n"
     ]
    }
   ],
   "source": [
    "import pyLDAvis.gensim_models as gensimvis\n",
    "import pyLDAvis\n",
    "\n",
    "#pyLDAvis.enable_notebook()\n",
    "#gensimvis.prepare(lda_model, corpus, dictionary)"
   ]
  },
  {
   "cell_type": "markdown",
   "id": "8cd1dced-ed26-4e01-86d0-02f18baf7ff5",
   "metadata": {},
   "source": [
    "### grid search: k, alpha, beta"
   ]
  },
  {
   "cell_type": "code",
   "execution_count": null,
   "id": "26804d05-3833-4eaa-b52f-3f3aa0c8db97",
   "metadata": {},
   "outputs": [],
   "source": [
    "import multiprocessing\n",
    "n_cores = multiprocessing.cpu_count() - 1"
   ]
  },
  {
   "cell_type": "code",
   "execution_count": 169,
   "id": "c49e9ca1-d1ff-4bc6-8a66-2ca9264bbf99",
   "metadata": {},
   "outputs": [],
   "source": [
    "# supporting function\n",
    "def compute_coherence_values(corpus, dictionary, num_topics, alpha, beta):\n",
    "    \n",
    "    lda_model = LdaMulticore(corpus=corpus,\n",
    "                             id2word=dictionary,\n",
    "                             num_topics=num_topics,\n",
    "                             iterations=200,\n",
    "                             passes=10,\n",
    "                             alpha=alpha,\n",
    "                             eta=beta,\n",
    "                             random_state=100)\n",
    "    \n",
    "    coherence_model_lda = CoherenceModel(model=lda_model,\n",
    "                                         corpus=corpus, \n",
    "                                         coherence='u_mass')\n",
    "    \n",
    "    return coherence_model_lda.get_coherence()"
   ]
  },
  {
   "cell_type": "code",
   "execution_count": 170,
   "id": "6b4c855d-e2eb-4e1a-904b-f3874624ec57",
   "metadata": {},
   "outputs": [
    {
     "name": "stdout",
     "output_type": "stream",
     "text": [
      "You are about to execute 570 runs. This could take up to 22.8 minutes.\n"
     ]
    }
   ],
   "source": [
    "# k = number of topics hyperparameter\n",
    "topics_range = range(2,21)\n",
    "\n",
    "# alpha hyperparameter\n",
    "alpha = [.01, .3, .6, 1]\n",
    "alpha.append('symmetric')\n",
    "alpha.append('asymmetric')\n",
    "\n",
    "# beta hyperparameter\n",
    "beta = [.01, .3, .6, 1]\n",
    "beta.append('symmetric')\n",
    "\n",
    "\n",
    "model_results = {'num_topics': [],\n",
    "                 'alpha': [],\n",
    "                 'beta': [],\n",
    "                 'u_mass': []\n",
    "                }\n",
    "\n",
    "number_of_runs = len(topics_range) * len(alpha) * len(beta)\n",
    "print(f'You are about to execute {number_of_runs} runs. This could take up to {np.round(number_of_runs*0.04,2)} minutes.')"
   ]
  },
  {
   "cell_type": "code",
   "execution_count": 171,
   "id": "b6dab6bf-62da-427d-a49c-f551c712e805",
   "metadata": {},
   "outputs": [
    {
     "name": "stderr",
     "output_type": "stream",
     "text": [
      "100%|██████████| 570/570 [14:04<00:00,  1.48s/it]\n"
     ]
    }
   ],
   "source": [
    "import tqdm\n",
    "\n",
    "with tqdm.tqdm(total=number_of_runs) as pbar:\n",
    "\n",
    "    # iterate through number of topics\n",
    "    for k in topics_range:\n",
    "        # iterate through alpha values\n",
    "        for a in alpha:\n",
    "            # iterare through beta values\n",
    "            for b in beta:\n",
    "                # get the coherence score for the given parameters\n",
    "                cv = compute_coherence_values(corpus=corpus,\n",
    "                                              dictionary=dictionary, \n",
    "                                              num_topics=k,\n",
    "                                              alpha=a,\n",
    "                                              beta=b)\n",
    "                # save the model results\n",
    "                model_results['num_topics'].append(k)\n",
    "                model_results['alpha'].append(a)\n",
    "                model_results['beta'].append(b)\n",
    "                model_results['u_mass'].append(cv)\n",
    "\n",
    "                # update process bar\n",
    "                pbar.update(1)\n",
    "                \n",
    "pd.DataFrame(model_results).to_csv('../data/lda-grid-search/lda-communiques.csv', index=False)"
   ]
  },
  {
   "cell_type": "markdown",
   "id": "cb674aa9-c627-4318-b465-6f0c6eb6b1ce",
   "metadata": {},
   "source": [
    "### best model"
   ]
  },
  {
   "cell_type": "code",
   "execution_count": 174,
   "id": "a12b73b8-9ff7-41de-894b-bd05301ecead",
   "metadata": {},
   "outputs": [
    {
     "data": {
      "text/html": [
       "<div>\n",
       "<style scoped>\n",
       "    .dataframe tbody tr th:only-of-type {\n",
       "        vertical-align: middle;\n",
       "    }\n",
       "\n",
       "    .dataframe tbody tr th {\n",
       "        vertical-align: top;\n",
       "    }\n",
       "\n",
       "    .dataframe thead th {\n",
       "        text-align: right;\n",
       "    }\n",
       "</style>\n",
       "<table border=\"1\" class=\"dataframe\">\n",
       "  <thead>\n",
       "    <tr style=\"text-align: right;\">\n",
       "      <th></th>\n",
       "      <th>num_topics</th>\n",
       "      <th>alpha</th>\n",
       "      <th>beta</th>\n",
       "      <th>u_mass</th>\n",
       "    </tr>\n",
       "  </thead>\n",
       "  <tbody>\n",
       "    <tr>\n",
       "      <th>15</th>\n",
       "      <td>2</td>\n",
       "      <td>1</td>\n",
       "      <td>0.01</td>\n",
       "      <td>-0.498654</td>\n",
       "    </tr>\n",
       "    <tr>\n",
       "      <th>5</th>\n",
       "      <td>2</td>\n",
       "      <td>0.3</td>\n",
       "      <td>0.01</td>\n",
       "      <td>-0.498762</td>\n",
       "    </tr>\n",
       "    <tr>\n",
       "      <th>20</th>\n",
       "      <td>2</td>\n",
       "      <td>symmetric</td>\n",
       "      <td>0.01</td>\n",
       "      <td>-0.498865</td>\n",
       "    </tr>\n",
       "    <tr>\n",
       "      <th>10</th>\n",
       "      <td>2</td>\n",
       "      <td>0.6</td>\n",
       "      <td>0.01</td>\n",
       "      <td>-0.498865</td>\n",
       "    </tr>\n",
       "    <tr>\n",
       "      <th>11</th>\n",
       "      <td>2</td>\n",
       "      <td>0.6</td>\n",
       "      <td>0.3</td>\n",
       "      <td>-0.501675</td>\n",
       "    </tr>\n",
       "    <tr>\n",
       "      <th>14</th>\n",
       "      <td>2</td>\n",
       "      <td>0.6</td>\n",
       "      <td>symmetric</td>\n",
       "      <td>-0.501675</td>\n",
       "    </tr>\n",
       "    <tr>\n",
       "      <th>12</th>\n",
       "      <td>2</td>\n",
       "      <td>0.6</td>\n",
       "      <td>0.6</td>\n",
       "      <td>-0.501675</td>\n",
       "    </tr>\n",
       "    <tr>\n",
       "      <th>6</th>\n",
       "      <td>2</td>\n",
       "      <td>0.3</td>\n",
       "      <td>0.3</td>\n",
       "      <td>-0.505679</td>\n",
       "    </tr>\n",
       "    <tr>\n",
       "      <th>23</th>\n",
       "      <td>2</td>\n",
       "      <td>symmetric</td>\n",
       "      <td>1</td>\n",
       "      <td>-0.506601</td>\n",
       "    </tr>\n",
       "    <tr>\n",
       "      <th>21</th>\n",
       "      <td>2</td>\n",
       "      <td>symmetric</td>\n",
       "      <td>0.3</td>\n",
       "      <td>-0.506601</td>\n",
       "    </tr>\n",
       "    <tr>\n",
       "      <th>24</th>\n",
       "      <td>2</td>\n",
       "      <td>symmetric</td>\n",
       "      <td>symmetric</td>\n",
       "      <td>-0.506601</td>\n",
       "    </tr>\n",
       "    <tr>\n",
       "      <th>22</th>\n",
       "      <td>2</td>\n",
       "      <td>symmetric</td>\n",
       "      <td>0.6</td>\n",
       "      <td>-0.506601</td>\n",
       "    </tr>\n",
       "    <tr>\n",
       "      <th>0</th>\n",
       "      <td>2</td>\n",
       "      <td>0.01</td>\n",
       "      <td>0.01</td>\n",
       "      <td>-0.506813</td>\n",
       "    </tr>\n",
       "    <tr>\n",
       "      <th>4</th>\n",
       "      <td>2</td>\n",
       "      <td>0.01</td>\n",
       "      <td>symmetric</td>\n",
       "      <td>-0.510097</td>\n",
       "    </tr>\n",
       "    <tr>\n",
       "      <th>2</th>\n",
       "      <td>2</td>\n",
       "      <td>0.01</td>\n",
       "      <td>0.6</td>\n",
       "      <td>-0.510097</td>\n",
       "    </tr>\n",
       "    <tr>\n",
       "      <th>3</th>\n",
       "      <td>2</td>\n",
       "      <td>0.01</td>\n",
       "      <td>1</td>\n",
       "      <td>-0.510407</td>\n",
       "    </tr>\n",
       "    <tr>\n",
       "      <th>1</th>\n",
       "      <td>2</td>\n",
       "      <td>0.01</td>\n",
       "      <td>0.3</td>\n",
       "      <td>-0.512973</td>\n",
       "    </tr>\n",
       "    <tr>\n",
       "      <th>8</th>\n",
       "      <td>2</td>\n",
       "      <td>0.3</td>\n",
       "      <td>1</td>\n",
       "      <td>-0.512995</td>\n",
       "    </tr>\n",
       "    <tr>\n",
       "      <th>9</th>\n",
       "      <td>2</td>\n",
       "      <td>0.3</td>\n",
       "      <td>symmetric</td>\n",
       "      <td>-0.513474</td>\n",
       "    </tr>\n",
       "    <tr>\n",
       "      <th>7</th>\n",
       "      <td>2</td>\n",
       "      <td>0.3</td>\n",
       "      <td>0.6</td>\n",
       "      <td>-0.514062</td>\n",
       "    </tr>\n",
       "    <tr>\n",
       "      <th>25</th>\n",
       "      <td>2</td>\n",
       "      <td>asymmetric</td>\n",
       "      <td>0.01</td>\n",
       "      <td>-0.516813</td>\n",
       "    </tr>\n",
       "    <tr>\n",
       "      <th>26</th>\n",
       "      <td>2</td>\n",
       "      <td>asymmetric</td>\n",
       "      <td>0.3</td>\n",
       "      <td>-0.519982</td>\n",
       "    </tr>\n",
       "    <tr>\n",
       "      <th>16</th>\n",
       "      <td>2</td>\n",
       "      <td>1</td>\n",
       "      <td>0.3</td>\n",
       "      <td>-0.520417</td>\n",
       "    </tr>\n",
       "    <tr>\n",
       "      <th>19</th>\n",
       "      <td>2</td>\n",
       "      <td>1</td>\n",
       "      <td>symmetric</td>\n",
       "      <td>-0.521606</td>\n",
       "    </tr>\n",
       "    <tr>\n",
       "      <th>18</th>\n",
       "      <td>2</td>\n",
       "      <td>1</td>\n",
       "      <td>1</td>\n",
       "      <td>-0.521606</td>\n",
       "    </tr>\n",
       "    <tr>\n",
       "      <th>17</th>\n",
       "      <td>2</td>\n",
       "      <td>1</td>\n",
       "      <td>0.6</td>\n",
       "      <td>-0.521606</td>\n",
       "    </tr>\n",
       "    <tr>\n",
       "      <th>13</th>\n",
       "      <td>2</td>\n",
       "      <td>0.6</td>\n",
       "      <td>1</td>\n",
       "      <td>-0.523308</td>\n",
       "    </tr>\n",
       "    <tr>\n",
       "      <th>29</th>\n",
       "      <td>2</td>\n",
       "      <td>asymmetric</td>\n",
       "      <td>symmetric</td>\n",
       "      <td>-0.540383</td>\n",
       "    </tr>\n",
       "    <tr>\n",
       "      <th>27</th>\n",
       "      <td>2</td>\n",
       "      <td>asymmetric</td>\n",
       "      <td>0.6</td>\n",
       "      <td>-0.542100</td>\n",
       "    </tr>\n",
       "    <tr>\n",
       "      <th>28</th>\n",
       "      <td>2</td>\n",
       "      <td>asymmetric</td>\n",
       "      <td>1</td>\n",
       "      <td>-0.552883</td>\n",
       "    </tr>\n",
       "  </tbody>\n",
       "</table>\n",
       "</div>"
      ],
      "text/plain": [
       "    num_topics       alpha       beta    u_mass\n",
       "15           2           1       0.01 -0.498654\n",
       "5            2         0.3       0.01 -0.498762\n",
       "20           2   symmetric       0.01 -0.498865\n",
       "10           2         0.6       0.01 -0.498865\n",
       "11           2         0.6        0.3 -0.501675\n",
       "14           2         0.6  symmetric -0.501675\n",
       "12           2         0.6        0.6 -0.501675\n",
       "6            2         0.3        0.3 -0.505679\n",
       "23           2   symmetric          1 -0.506601\n",
       "21           2   symmetric        0.3 -0.506601\n",
       "24           2   symmetric  symmetric -0.506601\n",
       "22           2   symmetric        0.6 -0.506601\n",
       "0            2        0.01       0.01 -0.506813\n",
       "4            2        0.01  symmetric -0.510097\n",
       "2            2        0.01        0.6 -0.510097\n",
       "3            2        0.01          1 -0.510407\n",
       "1            2        0.01        0.3 -0.512973\n",
       "8            2         0.3          1 -0.512995\n",
       "9            2         0.3  symmetric -0.513474\n",
       "7            2         0.3        0.6 -0.514062\n",
       "25           2  asymmetric       0.01 -0.516813\n",
       "26           2  asymmetric        0.3 -0.519982\n",
       "16           2           1        0.3 -0.520417\n",
       "19           2           1  symmetric -0.521606\n",
       "18           2           1          1 -0.521606\n",
       "17           2           1        0.6 -0.521606\n",
       "13           2         0.6          1 -0.523308\n",
       "29           2  asymmetric  symmetric -0.540383\n",
       "27           2  asymmetric        0.6 -0.542100\n",
       "28           2  asymmetric          1 -0.552883"
      ]
     },
     "execution_count": 174,
     "metadata": {},
     "output_type": "execute_result"
    }
   ],
   "source": [
    "# find best combination of hyperparams\n",
    "results = pd.read_csv('../data/lda-grid-search/lda-communiques.csv')\n",
    "\n",
    "results.sort_values(by='u_mass', ascending=False).head(30)"
   ]
  },
  {
   "cell_type": "code",
   "execution_count": 176,
   "id": "4dbae439-e27b-451e-8adf-608833b0d07b",
   "metadata": {},
   "outputs": [
    {
     "data": {
      "text/plain": [
       "num_topics           2\n",
       "alpha                1\n",
       "beta              0.01\n",
       "u_mass       -0.498654\n",
       "Name: 15, dtype: object"
      ]
     },
     "execution_count": 176,
     "metadata": {},
     "output_type": "execute_result"
    }
   ],
   "source": [
    "best = results.iloc[np.argmax(results['u_mass'])]\n",
    "best"
   ]
  },
  {
   "cell_type": "code",
   "execution_count": 177,
   "id": "c12b2422-cc0e-4c32-b9d4-83a2d2da45ba",
   "metadata": {},
   "outputs": [],
   "source": [
    "best_alpha = best['alpha'] if 'symmetric' in best['alpha'] else float(best['alpha'])\n",
    "best_beta = best['beta'] if 'symmetric' in best['beta'] else float(best['beta'])"
   ]
  },
  {
   "cell_type": "code",
   "execution_count": 178,
   "id": "5622238d-44ec-400a-aba1-b5bcf3345b82",
   "metadata": {},
   "outputs": [
    {
     "name": "stdout",
     "output_type": "stream",
     "text": [
      "-0.49865436103611366\n",
      "-0.49865436103611366\n"
     ]
    }
   ],
   "source": [
    "# train basic LDA model with those hyperparameters\n",
    "\n",
    "lda_model = LdaMulticore(corpus=corpus,\n",
    "                         id2word=dictionary,\n",
    "                         num_topics=best['num_topics'],\n",
    "                         alpha=best_alpha,\n",
    "                         eta=best_beta,\n",
    "                         random_state=100,\n",
    "                         iterations=200,\n",
    "                         passes=10\n",
    "                        )\n",
    "\n",
    "\n",
    "# get coherence per topic\n",
    "\n",
    "coherence_model_lda = CoherenceModel(model=lda_model,\n",
    "                                     corpus=corpus, \n",
    "                                     coherence='u_mass')\n",
    "\n",
    "print(coherence_model_lda.get_coherence())"
   ]
  },
  {
   "cell_type": "code",
   "execution_count": 180,
   "id": "e49e5166-59bd-49f5-95f6-182eb42a1459",
   "metadata": {},
   "outputs": [
    {
     "name": "stdout",
     "output_type": "stream",
     "text": [
      "[(0,\n",
      "  '0.027*\"institution\" + 0.020*\"greek_authority\" + 0.016*\"program\" + '\n",
      "  '0.013*\"greece\" + 0.012*\"proposal\" + 0.012*\"arrangement\" + 0.012*\"current\" + '\n",
      "  '0.011*\"extension\" + 0.011*\"commitment\" + 0.010*\"measure\" + '\n",
      "  '0.010*\"financial\" + 0.009*\"agreement\" + 0.009*\"agree\" + 0.009*\"request\" + '\n",
      "  '0.008*\"work\" + 0.008*\"greek\" + 0.008*\"use\" + 0.008*\"process\" + '\n",
      "  '0.008*\"meeting\" + 0.008*\"far\"'),\n",
      " (1,\n",
      "  '0.013*\"discussion\" + 0.013*\"today\" + 0.012*\"framework\" + '\n",
      "  '0.012*\"institution\" + 0.011*\"fiscal\" + 0.011*\"program\" + 0.011*\"greece\" + '\n",
      "  '0.010*\"agreement\" + 0.010*\"progress\" + 0.010*\"euro_area\" + 0.009*\"remain\" + '\n",
      "  '0.009*\"reform\" + 0.008*\"situation\" + 0.008*\"ireland\" + 0.008*\"economic\" + '\n",
      "  '0.007*\"growth\" + 0.007*\"current\" + 0.007*\"time\" + 0.007*\"agree\" + '\n",
      "  '0.007*\"good\"')]\n"
     ]
    }
   ],
   "source": [
    "pprint(lda_model.print_topics(num_words=20))"
   ]
  },
  {
   "cell_type": "code",
   "execution_count": null,
   "id": "4f4921ac-4f68-4592-a447-e3731680bf81",
   "metadata": {},
   "outputs": [],
   "source": []
  },
  {
   "cell_type": "code",
   "execution_count": null,
   "id": "22001506-7d89-4cc2-8847-a85733190ba1",
   "metadata": {},
   "outputs": [],
   "source": []
  },
  {
   "cell_type": "markdown",
   "id": "86beb3e9-1508-4d64-8b84-3705ec93aaaa",
   "metadata": {},
   "source": [
    "# auxiliary"
   ]
  },
  {
   "cell_type": "code",
   "execution_count": null,
   "id": "11396367-04b2-4b74-86d7-405f844e0e16",
   "metadata": {},
   "outputs": [],
   "source": [
    "def search_term(term):\n",
    "    for i,row in df.iterrows():\n",
    "        if term in row.speech:\n",
    "            date = pd.to_datetime(row.date).strftime('%d/%m')\n",
    "            print(f'{row.speaker} ({date}):')\n",
    "            print(row.speech)\n",
    "            print()"
   ]
  }
 ],
 "metadata": {
  "kernelspec": {
   "display_name": "Python 3",
   "language": "python",
   "name": "python3"
  },
  "language_info": {
   "codemirror_mode": {
    "name": "ipython",
    "version": 3
   },
   "file_extension": ".py",
   "mimetype": "text/x-python",
   "name": "python",
   "nbconvert_exporter": "python",
   "pygments_lexer": "ipython3",
   "version": "3.8.5"
  },
  "toc-autonumbering": false,
  "toc-showcode": false,
  "toc-showmarkdowntxt": false,
  "toc-showtags": false
 },
 "nbformat": 4,
 "nbformat_minor": 5
}
