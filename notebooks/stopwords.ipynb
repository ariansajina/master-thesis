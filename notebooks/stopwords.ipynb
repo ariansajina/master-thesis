{
 "cells": [
  {
   "cell_type": "markdown",
   "id": "charming-latex",
   "metadata": {},
   "source": [
    "# Stopwords"
   ]
  },
  {
   "cell_type": "code",
   "execution_count": 1,
   "id": "loaded-saturday",
   "metadata": {},
   "outputs": [],
   "source": [
    "import numpy as np\n",
    "import pandas as pd\n",
    "import re\n",
    "import json\n",
    "\n",
    "import matplotlib.pyplot as plt"
   ]
  },
  {
   "cell_type": "code",
   "execution_count": 2,
   "id": "celtic-insight",
   "metadata": {},
   "outputs": [],
   "source": [
    "df = pd.read_csv('../data/euroleaks/cleaned.csv')"
   ]
  },
  {
   "cell_type": "markdown",
   "id": "express-mortality",
   "metadata": {},
   "source": [
    "## make stopwords out of speaker names"
   ]
  },
  {
   "cell_type": "code",
   "execution_count": 3,
   "id": "usual-fitness",
   "metadata": {},
   "outputs": [],
   "source": [
    "with open('../data/euroleaks/amend_names.json', 'r') as f:\n",
    "    amend_names = json.load(f)\n",
    "    \n",
    "# make stopwords out of names\n",
    "stopnames = []\n",
    "\n",
    "for names in amend_names.values():\n",
    "    for name in names:\n",
    "        if not re.search('\\[.*\\]', name):\n",
    "            stopnames += name.split(' ')\n",
    "            \n",
    "for name in df.speaker.unique():\n",
    "    if 'speaker' not in name:\n",
    "        stopnames += name.split(' ')\n",
    "\n",
    "stopnames = set(stopnames)\n",
    "        \n",
    "stopnames.remove('greek')\n",
    "stopnames.remove('representative')\n",
    "stopnames.remove('de')\n",
    "stopnames.remove('van')\n",
    "stopnames.add('alex')\n",
    "stopnames.add('dusan')\n",
    "stopnames.add('janis')\n",
    "stopnames.add('joreon')"
   ]
  },
  {
   "cell_type": "code",
   "execution_count": 4,
   "id": "supported-parks",
   "metadata": {},
   "outputs": [],
   "source": [
    "#stopnames"
   ]
  },
  {
   "cell_type": "code",
   "execution_count": 5,
   "id": "future-daisy",
   "metadata": {},
   "outputs": [
    {
     "data": {
      "text/plain": [
       "761"
      ]
     },
     "execution_count": 5,
     "metadata": {},
     "output_type": "execute_result"
    }
   ],
   "source": [
    "# back of envelope calculation for how many stopnames there are\n",
    "np.sum(pd.Series(' '.join(df.speech).lower().split()).apply(lambda s:\n",
    "    re.sub(r'[^\\w\\s]','',s) in stopnames\n",
    "))"
   ]
  },
  {
   "cell_type": "markdown",
   "id": "photographic-princess",
   "metadata": {},
   "source": [
    "## disfluency"
   ]
  },
  {
   "cell_type": "code",
   "execution_count": 6,
   "id": "different-factory",
   "metadata": {},
   "outputs": [],
   "source": [
    "disfluency = set([\n",
    "    'erm', # synonym for hmm in https://euroleaks.diem25.org/leaks/mar17ewg/\n",
    "    'um',\n",
    "    'uh'\n",
    "])"
   ]
  },
  {
   "cell_type": "code",
   "execution_count": 7,
   "id": "swedish-nursing",
   "metadata": {},
   "outputs": [
    {
     "data": {
      "text/plain": [
       "3427"
      ]
     },
     "execution_count": 7,
     "metadata": {},
     "output_type": "execute_result"
    }
   ],
   "source": [
    "# back of envelope calculation for how many disfluency occurrences there are\n",
    "np.sum(pd.Series(' '.join(df.speech).lower().split()).apply(lambda s:\n",
    "    re.sub(r'[^\\w\\s]','',s) in disfluency\n",
    "))"
   ]
  },
  {
   "cell_type": "markdown",
   "id": "b54e96b4-f1a2-4cfc-85a4-1f6b68cc5459",
   "metadata": {},
   "source": [
    "## common courtesy words"
   ]
  },
  {
   "cell_type": "code",
   "execution_count": 8,
   "id": "4a99e14b-b601-4767-80c8-1d81b7a3bab6",
   "metadata": {},
   "outputs": [],
   "source": [
    "courtesy = set([\n",
    "    'thank',\n",
    "    'colleague',\n",
    "    'comment',\n",
    "    'ask',\n",
    "    'let',\n",
    "    'point',\n",
    "    'say',\n",
    "    'think'\n",
    "])"
   ]
  },
  {
   "cell_type": "code",
   "execution_count": 9,
   "id": "700576a3-4830-4c34-ac77-49e33f0fa2a2",
   "metadata": {},
   "outputs": [
    {
     "data": {
      "text/plain": [
       "1347"
      ]
     },
     "execution_count": 9,
     "metadata": {},
     "output_type": "execute_result"
    }
   ],
   "source": [
    "# back of envelope calculation for how many courtesy occurrences there are\n",
    "np.sum(pd.Series(' '.join(df.speech).lower().split()).apply(lambda s:\n",
    "    re.sub(r'[^\\w\\s]','',s) in courtesy\n",
    "))"
   ]
  },
  {
   "cell_type": "markdown",
   "id": "f188075f-ed8c-4851-a284-de1e0d8880d4",
   "metadata": {},
   "source": [
    "## dump to json"
   ]
  },
  {
   "cell_type": "code",
   "execution_count": 10,
   "id": "corporate-layer",
   "metadata": {},
   "outputs": [],
   "source": [
    "stopwords = {\n",
    "    'names': list(stopnames),\n",
    "    'disfluency': list(disfluency),\n",
    "    'courtesy': list(courtesy)\n",
    "}"
   ]
  },
  {
   "cell_type": "code",
   "execution_count": 11,
   "id": "sharp-regression",
   "metadata": {},
   "outputs": [],
   "source": [
    "import json\n",
    "\n",
    "json = json.dumps(stopwords)\n",
    "with open('../data/euroleaks/stopwords.json', 'w') as f:\n",
    "    f.write(json)"
   ]
  },
  {
   "cell_type": "code",
   "execution_count": null,
   "id": "f07d4bf6-3d10-4efa-b5ea-1df4b6e43d8a",
   "metadata": {},
   "outputs": [],
   "source": []
  }
 ],
 "metadata": {
  "kernelspec": {
   "display_name": "Python 3",
   "language": "python",
   "name": "python3"
  },
  "language_info": {
   "codemirror_mode": {
    "name": "ipython",
    "version": 3
   },
   "file_extension": ".py",
   "mimetype": "text/x-python",
   "name": "python",
   "nbconvert_exporter": "python",
   "pygments_lexer": "ipython3",
   "version": "3.8.5"
  }
 },
 "nbformat": 4,
 "nbformat_minor": 5
}
