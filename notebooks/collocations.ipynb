{
 "cells": [
  {
   "cell_type": "code",
   "execution_count": 1,
   "id": "a39152e5-69d7-4960-9069-def1ecf91331",
   "metadata": {},
   "outputs": [],
   "source": [
    "import re\n",
    "import time\n",
    "import json\n",
    "from pprint import pprint\n",
    "\n",
    "import numpy as np\n",
    "import pandas as pd\n",
    "import spacy"
   ]
  },
  {
   "cell_type": "code",
   "execution_count": 2,
   "id": "03f55303-f900-4f31-afdd-363c2ed0e81a",
   "metadata": {},
   "outputs": [],
   "source": [
    "leaks = pd.read_csv('../data/euroleaks/cleaned.csv')\n",
    "comms = pd.read_csv('../data/communiques/cleaned.csv')\n",
    "\n",
    "# collect all text into a single string\n",
    "text = ' '.join(leaks.speech) + ' ' + ' '.join(comms.story)"
   ]
  },
  {
   "cell_type": "code",
   "execution_count": 3,
   "id": "d75b7f8b-c126-49b8-9fbf-8d8768fcf5a6",
   "metadata": {},
   "outputs": [],
   "source": [
    "# run spacy\n",
    "\n",
    "nlp = spacy.load(\"en_core_web_sm\", exclude=[\"ner\"])\n",
    "\n",
    "document = nlp(text)\n",
    "\n",
    "# import euroleaks-specific stopwords\n",
    "with open('../data/euroleaks/stopwords.json', 'r') as f:\n",
    "    stopwords = json.load(f)"
   ]
  },
  {
   "cell_type": "code",
   "execution_count": 4,
   "id": "56607289-5b59-4a85-8784-530385d1f57a",
   "metadata": {},
   "outputs": [],
   "source": [
    "# tokenize, lemmatize, remove stopwords\n",
    "words = [token.lemma_ for sentence in document.sents for token in sentence\n",
    "            if token.pos_ in {'ADJ', 'ADV', 'NOUN', 'PROPN', 'VERB'}\n",
    "            and not token.is_stop\n",
    "            and not token.text in stopwords['names']\n",
    "            and not token.text in stopwords['artifacts']\n",
    "            and len(token.text) > 1 # for punctuation (but also 'I')\n",
    "        ]"
   ]
  },
  {
   "cell_type": "markdown",
   "id": "0f2d9489-0f57-482c-873c-a7b96c771151",
   "metadata": {},
   "source": [
    "- https://www.nltk.org/howto/collocations.html\n",
    "- mi_like score: https://www.nltk.org/api/nltk.metrics.html#nltk.metrics.association.NgramAssocMeasures.mi_like"
   ]
  },
  {
   "cell_type": "markdown",
   "id": "941f5cdd-9fc1-4c76-a346-143bae732620",
   "metadata": {},
   "source": [
    "# trigrams"
   ]
  },
  {
   "cell_type": "code",
   "execution_count": 5,
   "id": "a9990a37-c32d-42d6-86d8-e51a77420184",
   "metadata": {},
   "outputs": [],
   "source": [
    "from nltk.collocations import TrigramCollocationFinder, TrigramAssocMeasures\n",
    "\n",
    "finder = TrigramCollocationFinder.from_words(words)\n",
    "\n",
    "# word might be highly correlated but very infrequent, ignore all with less than n occurances\n",
    "finder.apply_freq_filter(3)\n",
    "\n",
    "# not all collocations are useful: e.g. 'starting_point'\n",
    "finder.apply_word_filter(lambda w: 'valid' in w or 'thank' in w)\n",
    "\n",
    "tgm = TrigramAssocMeasures()\n",
    "collocations = {trigram: pmi for trigram, pmi in finder.score_ngrams(tgm.mi_like)}"
   ]
  },
  {
   "cell_type": "code",
   "execution_count": 6,
   "id": "04804f42-17ab-431d-9c02-1c6d3a65699d",
   "metadata": {},
   "outputs": [],
   "source": [
    "#collocations"
   ]
  },
  {
   "cell_type": "code",
   "execution_count": 7,
   "id": "4ddb9d87-c497-40e3-9435-a2a688a6f9b4",
   "metadata": {},
   "outputs": [
    {
     "name": "stdout",
     "output_type": "stream",
     "text": [
      "[('euro', 'working', 'group'),\n",
      " ('non', 'performing', 'loan'),\n",
      " ('successful', 'conclusion', 'review')]\n"
     ]
    }
   ],
   "source": [
    "trigram_colloc = sorted(finder.above_score(tgm.mi_like, 0.025))\n",
    "pprint(trigram_colloc)"
   ]
  },
  {
   "cell_type": "code",
   "execution_count": 8,
   "id": "f45d1558-f8bc-4d6f-a817-b6332dee72dc",
   "metadata": {},
   "outputs": [],
   "source": [
    "def apply_trigram_colloc(s, set_colloc):\n",
    "    res = s.lower()\n",
    "    for b1,b2,b3 in set_colloc:\n",
    "        res = res.replace(f'{b1} {b2} {b3}', f'{b1}_{b2}_{b3}')\n",
    "    return res"
   ]
  },
  {
   "cell_type": "code",
   "execution_count": 9,
   "id": "23d7748f-d706-4c31-a707-45275059d93e",
   "metadata": {},
   "outputs": [],
   "source": [
    "words = apply_trigram_colloc(' '.join(words), trigram_colloc).split()"
   ]
  },
  {
   "cell_type": "code",
   "execution_count": 10,
   "id": "dd8875a2-4922-4284-ab77-1186ffa0fc50",
   "metadata": {},
   "outputs": [],
   "source": [
    "assert 'euro_working_group' in words and 'non_performing_loan' in words and 'successful_conclusion_review' in words"
   ]
  },
  {
   "cell_type": "code",
   "execution_count": 11,
   "id": "697ed2c9-134a-4e69-8cb7-28366257d469",
   "metadata": {},
   "outputs": [],
   "source": [
    "jsonized = json.dumps(trigram_colloc)\n",
    "with open('../data/collocations/trigrams.json', 'w') as f:\n",
    "    f.write(jsonized)"
   ]
  },
  {
   "cell_type": "markdown",
   "id": "776d8a30-182c-4794-89d0-a47c5044e553",
   "metadata": {},
   "source": [
    "# bigrams"
   ]
  },
  {
   "cell_type": "code",
   "execution_count": 15,
   "id": "3b344fc3-0551-4aae-956d-b38070decf1a",
   "metadata": {},
   "outputs": [],
   "source": [
    "from nltk.collocations import BigramCollocationFinder, BigramAssocMeasures\n",
    "\n",
    "finder = BigramCollocationFinder.from_words(words)\n",
    "\n",
    "# word might be highly correlated but very infrequent, ignore all with less than n occurances\n",
    "finder.apply_freq_filter(3)\n",
    "\n",
    "word_filter = [\n",
    "    'thank',\n",
    "    'start',\n",
    "    'starting',\n",
    "    'low',\n",
    "    'high',\n",
    "    'end',\n",
    "    'stand',\n",
    "    'negative',\n",
    "    'gdp',\n",
    "    'little',\n",
    "    'floor'\n",
    "]\n",
    "\n",
    "finder.apply_word_filter(lambda w: w in word_filter)\n",
    "\n",
    "finder.apply_ngram_filter(lambda w1,w2: w1.endswith('ly') or w1 == 'take')\n",
    "\n",
    "bgm = BigramAssocMeasures()\n",
    "collocations = {bigram: pmi for bigram, pmi in finder.score_ngrams(bgm.mi_like)}"
   ]
  },
  {
   "cell_type": "code",
   "execution_count": 16,
   "id": "16de3b9d-5f38-419d-8a3b-5ae1433fd3de",
   "metadata": {},
   "outputs": [
    {
     "name": "stdout",
     "output_type": "stream",
     "text": [
      "[('aide', 'memoire'),\n",
      " ('anti', 'corruption'),\n",
      " ('arm', 'length'),\n",
      " ('assistance', 'facility'),\n",
      " ('board', 'director'),\n",
      " ('brussel', 'group'),\n",
      " ('capital', 'control'),\n",
      " ('central', 'bank'),\n",
      " ('collective', 'bargaining'),\n",
      " ('common', 'ground'),\n",
      " ('current', 'arrangement'),\n",
      " ('debt', 'sustainability'),\n",
      " ('duration', 'mffa'),\n",
      " ('et', 'cetera'),\n",
      " ('euro', 'area'),\n",
      " ('financial', 'assistance'),\n",
      " ('financial', 'sector'),\n",
      " ('financial', 'stability'),\n",
      " ('govern', 'council'),\n",
      " ('greek', 'authority'),\n",
      " ('greek', 'government'),\n",
      " ('greek', 'people'),\n",
      " ('growth', 'friendly'),\n",
      " ('half', 'percent'),\n",
      " ('interest', 'rate'),\n",
      " ('labor', 'market'),\n",
      " ('member', 'state'),\n",
      " ('minimum', 'wage'),\n",
      " ('mission', 'chief'),\n",
      " ('monetary', 'union'),\n",
      " ('national', 'procedure'),\n",
      " ('press', 'conference'),\n",
      " ('primary', 'surplus'),\n",
      " ('prime', 'minister'),\n",
      " ('prior', 'action'),\n",
      " ('product', 'market'),\n",
      " ('quantitative', 'easing'),\n",
      " ('real', 'estate'),\n",
      " ('safety', 'net'),\n",
      " ('second', 'letter'),\n",
      " ('smp', 'bond'),\n",
      " ('state', 'play'),\n",
      " ('structural', 'reform'),\n",
      " ('technical', 'team'),\n",
      " ('uncharted', 'territory')]\n"
     ]
    }
   ],
   "source": [
    "bigram_colloc = sorted(finder.above_score(bgm.mi_like, 0.75))\n",
    "pprint(bigram_colloc)"
   ]
  },
  {
   "cell_type": "code",
   "execution_count": 18,
   "id": "ba944c32-df20-4218-8f2e-215ac760ce12",
   "metadata": {},
   "outputs": [],
   "source": [
    "#collocations"
   ]
  },
  {
   "cell_type": "code",
   "execution_count": 19,
   "id": "70baea87-a674-41d6-9835-92a8a6b482ce",
   "metadata": {},
   "outputs": [],
   "source": [
    "jsonized = json.dumps(bigram_colloc)\n",
    "with open('../data/collocations/bigrams.json', 'w') as f:\n",
    "    f.write(jsonized)"
   ]
  },
  {
   "cell_type": "markdown",
   "id": "963e3b33-4d61-4121-b920-40d63349bb86",
   "metadata": {},
   "source": [
    "Auxiliary data inspection"
   ]
  },
  {
   "cell_type": "code",
   "execution_count": 20,
   "id": "07699eac-290e-45d1-ab6d-e5c1e0a7a598",
   "metadata": {},
   "outputs": [],
   "source": [
    "def search_term(term):\n",
    "    for i,row in leaks.iterrows():\n",
    "        if term in row.speech:\n",
    "            date = pd.to_datetime(row.date).strftime('%d/%m')\n",
    "            print(f'{row.speaker} ({date}):')\n",
    "            print(row.speech)\n",
    "            print()"
   ]
  },
  {
   "cell_type": "code",
   "execution_count": 22,
   "id": "d64d8d22-a3a9-41ee-b2d3-5674e4fe66ad",
   "metadata": {},
   "outputs": [],
   "source": [
    "#search_term('floor')"
   ]
  },
  {
   "cell_type": "code",
   "execution_count": null,
   "id": "8ae08719-9f65-4ee6-84da-0380febc4e2c",
   "metadata": {},
   "outputs": [],
   "source": []
  }
 ],
 "metadata": {
  "kernelspec": {
   "display_name": "Python 3",
   "language": "python",
   "name": "python3"
  },
  "language_info": {
   "codemirror_mode": {
    "name": "ipython",
    "version": 3
   },
   "file_extension": ".py",
   "mimetype": "text/x-python",
   "name": "python",
   "nbconvert_exporter": "python",
   "pygments_lexer": "ipython3",
   "version": "3.8.5"
  }
 },
 "nbformat": 4,
 "nbformat_minor": 5
}
